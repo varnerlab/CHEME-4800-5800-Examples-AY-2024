{
 "cells": [
  {
   "cell_type": "markdown",
   "id": "f8661b0d-c30f-4ff8-8eef-c1c3f21b5640",
   "metadata": {},
   "source": [
    "# Example: Let's build a ternary price tree\n",
    "In this example, students will become familiar with the different internal representations of trees, particularly a ternary price tree where the price of a commodity tomorrow can go up, stay the same, or go down. \n",
    "* Array-based representations encode the `data` of the tree and do not encode any information about the connectivity of the tree, i.e., there is no information about `parent=>child` relationships. The creator of the tree is expected to know this information\n",
    "* On the other hand, adjacency-based tree representations encode both the `data` of the tree and information about the `connectivity` of the tree, i.e., information about `parent=>child` relationships. "
   ]
  },
  {
   "cell_type": "markdown",
   "id": "62660678-3b89-483c-bd93-70da21d46acb",
   "metadata": {},
   "source": [
    "## Setup\n",
    "This example may use external third-party packages. In the `Include.jl` file, we load our codes to access them in the notebook, set some required paths for this example, and load any required external packages."
   ]
  },
  {
   "cell_type": "code",
   "execution_count": 1,
   "id": "afd6bc40-ec86-4dfc-8de3-c84b659ec026",
   "metadata": {},
   "outputs": [
    {
     "name": "stderr",
     "output_type": "stream",
     "text": [
      "\u001b[32m\u001b[1m  Activating\u001b[22m\u001b[39m project at `~/Desktop/julia_work/CHEME-4800-5800-Examples-AY-2024/week-6/L6c`\n",
      "\u001b[32m\u001b[1m  No Changes\u001b[22m\u001b[39m to `~/Desktop/julia_work/CHEME-4800-5800-Examples-AY-2024/week-6/L6c/Project.toml`\n",
      "\u001b[32m\u001b[1m  No Changes\u001b[22m\u001b[39m to `~/Desktop/julia_work/CHEME-4800-5800-Examples-AY-2024/week-6/L6c/Manifest.toml`\n",
      "\u001b[32m\u001b[1m    Updating\u001b[22m\u001b[39m registry at `~/.julia/registries/General.toml`\n",
      "\u001b[32m\u001b[1m  No Changes\u001b[22m\u001b[39m to `~/Desktop/julia_work/CHEME-4800-5800-Examples-AY-2024/week-6/L6c/Project.toml`\n",
      "\u001b[32m\u001b[1m  No Changes\u001b[22m\u001b[39m to `~/Desktop/julia_work/CHEME-4800-5800-Examples-AY-2024/week-6/L6c/Manifest.toml`\n"
     ]
    }
   ],
   "source": [
    "include(\"Include.jl\");"
   ]
  },
  {
   "cell_type": "markdown",
   "id": "5bd646db-aa9f-47e4-82d1-d324097e1d13",
   "metadata": {},
   "source": [
    "## Example 1: Array-based representation of a `3-tree`\n",
    "Let's consider the array-based representation of a `3-tree` where each `node` in the tree has `three` children nodes. Each parent `node` is a hypothetical price at time $t$, while each `child` node is a possible price at time $t+\\Delta{t}$.\n",
    "* We've modeled this case using the `ArrayBasedTernaryCommodityPriceTree` type, encoded in the `src/Types.jl` file. We pass some required information to a `build(...)` method encoded in the `src/Factory.jl` file to build this type."
   ]
  },
  {
   "cell_type": "code",
   "execution_count": 2,
   "id": "a156b8c0-9e90-4de6-9c28-13ab19439968",
   "metadata": {},
   "outputs": [
    {
     "data": {
      "text/plain": [
       "ArrayBasedTernaryCommodityPriceTree(Dict(5 => 104.0, 12 => 98.01, 8 => 100.0, 1 => 104.0, 0 => 100.0, 6 => 102.96, 11 => 99.0, 9 => 99.0, 3 => 99.0, 7 => 104.0…), 2, 3)"
      ]
     },
     "execution_count": 2,
     "metadata": {},
     "output_type": "execute_result"
    }
   ],
   "source": [
    "array_price_tree = build(ArrayBasedTernaryCommodityPriceTree;\n",
    "    h = 2, price = 100.0, u = 0.04, d = 0.01, k = 3)"
   ]
  },
  {
   "cell_type": "code",
   "execution_count": 3,
   "id": "de83578b-d10e-4d03-8a8a-9f928b784780",
   "metadata": {},
   "outputs": [
    {
     "data": {
      "text/plain": [
       "Dict{Int64, Float64} with 13 entries:\n",
       "  5  => 104.0\n",
       "  12 => 98.01\n",
       "  8  => 100.0\n",
       "  1  => 104.0\n",
       "  0  => 100.0\n",
       "  6  => 102.96\n",
       "  11 => 99.0\n",
       "  9  => 99.0\n",
       "  3  => 99.0\n",
       "  7  => 104.0\n",
       "  4  => 108.16\n",
       "  2  => 100.0\n",
       "  10 => 102.96"
      ]
     },
     "execution_count": 3,
     "metadata": {},
     "output_type": "execute_result"
    }
   ],
   "source": [
    "array_price_tree.data"
   ]
  },
  {
   "cell_type": "markdown",
   "id": "bb64a668-0f9d-46f4-928e-ea7e7775f6fa",
   "metadata": {},
   "source": [
    "## Example 2: Adjacency-based representation of a `3-tree`\n",
    "Alternatively, we could consider an adjacency-based representation of the price tree that breaks apart the data representation for the connectivity information. \n",
    "* We've modeled this case using the `AdjacencyBasedTernaryCommodityPriceTree` type encoded in the `src/Types.jl` file. We pass some required information to a `build(...)` method encoded in the `src/Factory.jl` file to build this type."
   ]
  },
  {
   "cell_type": "code",
   "execution_count": 4,
   "id": "1699194b-580d-405a-ba6b-29335331ed37",
   "metadata": {},
   "outputs": [
    {
     "data": {
      "text/plain": [
       "AdjacencyBasedTernaryCommodityPriceTree(Dict(5 => 104.0, 12 => 98.01, 8 => 100.0, 1 => 104.0, 0 => 100.0, 6 => 102.96, 11 => 99.0, 9 => 99.0, 3 => 99.0, 7 => 104.0…), Dict(0 => [1, 2, 3], 2 => [7, 8, 9], 3 => [10, 11, 12], 1 => [4, 5, 6]), 2, 3)"
      ]
     },
     "execution_count": 4,
     "metadata": {},
     "output_type": "execute_result"
    }
   ],
   "source": [
    "adj_price_tree = build(AdjacencyBasedTernaryCommodityPriceTree;\n",
    "    h = 2, price = 100.0, u = 0.04, d = 0.01, k = 3)"
   ]
  },
  {
   "cell_type": "code",
   "execution_count": 5,
   "id": "c1469dcb-0597-4345-87e4-38484b405b4f",
   "metadata": {},
   "outputs": [
    {
     "data": {
      "text/plain": [
       "Dict{Int64, Float64} with 13 entries:\n",
       "  5  => 104.0\n",
       "  12 => 98.01\n",
       "  8  => 100.0\n",
       "  1  => 104.0\n",
       "  0  => 100.0\n",
       "  6  => 102.96\n",
       "  11 => 99.0\n",
       "  9  => 99.0\n",
       "  3  => 99.0\n",
       "  7  => 104.0\n",
       "  4  => 108.16\n",
       "  2  => 100.0\n",
       "  10 => 102.96"
      ]
     },
     "execution_count": 5,
     "metadata": {},
     "output_type": "execute_result"
    }
   ],
   "source": [
    "adj_price_tree.data"
   ]
  },
  {
   "cell_type": "code",
   "execution_count": 6,
   "id": "d25a19c1-2312-450a-99cf-41b20382e2b5",
   "metadata": {},
   "outputs": [
    {
     "data": {
      "text/plain": [
       "Dict{Int64, Vector{Int64}} with 4 entries:\n",
       "  0 => [1, 2, 3]\n",
       "  2 => [7, 8, 9]\n",
       "  3 => [10, 11, 12]\n",
       "  1 => [4, 5, 6]"
      ]
     },
     "execution_count": 6,
     "metadata": {},
     "output_type": "execute_result"
    }
   ],
   "source": [
    "adj_price_tree.connectivity"
   ]
  },
  {
   "cell_type": "markdown",
   "id": "ab063173-92cf-47fd-bacf-6b5ed6c8afba",
   "metadata": {},
   "source": [
    "## Check: Are our `3-tree` indexing and dimensions correct?\n",
    "For a __full__ `k-ary` tree with no replacement, the indices of the children of node $i$, denoted by the set $\\mathcal{C}_{i}$, are given by:\n",
    "$$\n",
    "\\begin{equation}\n",
    "\\mathcal{C}_{i}=\\left\\{k\\cdot{i}+1,k\\cdot{i}+2,\\dots,k\\cdot{i}+k\\right\\}\n",
    "\\end{equation}\n",
    "$$\n",
    "and the total number of nodes of tree $\\mathcal{T}$, denoted by $N_{h}$, is given by:\n",
    "$$\n",
    "\\begin{equation}\n",
    "N_{h} = \\sum_{j=0}^{h}k^j = \\frac{k^{h+1}-1}{k-1}\n",
    "\\end{equation}\n",
    "$$\n",
    "where $N_{h}$ includes the final layer of leaves. Let's check these equations by looking at the `adj_price_tree` model. First, let's specify what `k` and `h` are:"
   ]
  },
  {
   "cell_type": "code",
   "execution_count": 7,
   "id": "051110be-f6da-466d-87e1-d5738db5fbf9",
   "metadata": {},
   "outputs": [],
   "source": [
    "h = adj_price_tree.h;\n",
    "k = adj_price_tree.k;"
   ]
  },
  {
   "cell_type": "markdown",
   "id": "d5f4b42d-fc25-4c6f-85cc-a4469925fe02",
   "metadata": {},
   "source": [
    "Next, let's use the [@assert macro](https://docs.julialang.org/en/v1/base/base/#Base.@assert) to test the dimensions of our `3-tree` implementation versus the theoretical expressions shown in the lecture (and above).\n",
    "* First, let's test the tree's overall size, i.e., the number of elements $N_{h}$, versus our implementation. If the values do not agree, an [AssertionError](https://docs.julialang.org/en/v1/base/base/#Core.AssertionError) will be thrown."
   ]
  },
  {
   "cell_type": "code",
   "execution_count": 8,
   "id": "67d96222-2972-46b5-9422-51d6ff2a8244",
   "metadata": {},
   "outputs": [],
   "source": [
    "@assert (k^(h+1)-1)/(k-1) == length(adj_price_tree.data) "
   ]
  },
  {
   "cell_type": "markdown",
   "id": "f7c94249-2497-42ec-a713-af2b596842f9",
   "metadata": {},
   "source": [
    "Next, let's check the indexing of the children of each node in the tree, i.e., check the $\\mathcal{C}_{i}$ set for each node $i$ in the `adj_price_tree` model.\n",
    "* We'll do this by iterating over the `connectivity` dictionary and computing the child index set $\\mathcal{C}_{i}$ for each `key` in the `connectivity` dictionary. If the $\\mathcal{C}_{i}$ sets are not the same, an [AssertionError](https://docs.julialang.org/en/v1/base/base/#Core.AssertionError) will be thrown."
   ]
  },
  {
   "cell_type": "code",
   "execution_count": 9,
   "id": "36f749cc-6cca-4fcc-9f33-307da1019056",
   "metadata": {},
   "outputs": [
    {
     "name": "stdout",
     "output_type": "stream",
     "text": [
      "(i, Cᵢ) = (0, [1, 2, 3])\n",
      "Children of node 0 are correct\n",
      "(i, Cᵢ) = (2, [7, 8, 9])\n",
      "Children of node 2 are correct\n",
      "(i, Cᵢ) = (3, [10, 11, 12])\n",
      "Children of node 3 are correct\n",
      "(i, Cᵢ) = (1, [4, 5, 6])\n",
      "Children of node 1 are correct\n"
     ]
    }
   ],
   "source": [
    "for (i,Cᵢ) ∈ adj_price_tree.connectivity\n",
    "    \n",
    "    @show (i,Cᵢ)\n",
    "\n",
    "    # compute what we believe the child set should be -\n",
    "    C̄ᵢ = [k*i+j for j = 1:k] # hmmm: https://docs.julialang.org/en/v1/manual/arrays/#man-comprehensions\n",
    "\n",
    "    # compare -\n",
    "    result = (@assert Cᵢ == C̄ᵢ)\n",
    "    println(\"Children of node $(i) are correct\")\n",
    "end"
   ]
  },
  {
   "cell_type": "code",
   "execution_count": null,
   "id": "467b2323-4c61-42dd-ac74-13e9754de5ac",
   "metadata": {},
   "outputs": [],
   "source": []
  }
 ],
 "metadata": {
  "kernelspec": {
   "display_name": "Julia 1.10.1",
   "language": "julia",
   "name": "julia-1.10"
  },
  "language_info": {
   "file_extension": ".jl",
   "mimetype": "application/julia",
   "name": "julia",
   "version": "1.10.1"
  }
 },
 "nbformat": 4,
 "nbformat_minor": 5
}
