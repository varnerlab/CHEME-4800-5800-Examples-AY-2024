





include("Include.jl");





μgmax = 1.03; # units 1/h
K = 0.01; # units g/L
Y = 0.52; # units gdw/g
kd = 0.01; # units: 1/hr
h = 0.01; # units N/A
T = 10.0; # units hours





function μ(x::Array{Float64}, i::Int64; μgmax::Float64 = 0.0, K::Float64 = 0.0)

    # initialize -
    growth_rate = 0.0;
    S = x[i,1]; # we know that index 1 is S
    
    # compute the growth rate -
    growth_rate = (μgmax*S)/(K+S);
    
    # return -
    return growth_rate;
end;





time_array = range(0.0, stop=T, step=h) |> collect;
xₒ = [0.5, 0.005]; # initial conditions


X = Array{Float64,2}(undef, length(time_array), length(xₒ));
for i ∈ eachindex(time_array)

    if (i == 1)
        X[i,1] = xₒ[1];
        X[i,2] = xₒ[2];
    
    else

        # compute the growth rate -
        mu = μ(X, i-1, μgmax = μgmax, K = K);

        # update the estimated solution -
        X[i,1] = X[i-1,1] - (h/Y)*mu*X[i-1,2];
        X[i,2] = X[i-1,2] + h*(mu - kd)*X[i-1,2];
    end
end





plot(time_array,X[:,1], lw=3, label="S(t)", c=:blue)
plot!(time_array,X[:,2], lw=3, label="C(t)", c=:orange)
xlabel!("Time (hr)", fontsize=18)
ylabel!("Concentration (g/L)", fontsize=18)
