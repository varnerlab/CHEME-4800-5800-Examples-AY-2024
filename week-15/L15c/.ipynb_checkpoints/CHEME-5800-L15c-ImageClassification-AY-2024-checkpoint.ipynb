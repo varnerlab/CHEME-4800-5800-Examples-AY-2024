{
 "cells": [
  {
   "cell_type": "markdown",
   "id": "0301524c-c75f-4769-9421-b31c4fc6f0e0",
   "metadata": {},
   "source": [
    "# Example: Develop a Multiclass Artificial Neural Network Image Classifier\n",
    "Fill me in"
   ]
  },
  {
   "cell_type": "markdown",
   "id": "c4e0043b-6b9a-4851-b1ff-ce4fef45e091",
   "metadata": {},
   "source": [
    "## Setup\n",
    "This example requires several external libraries and a function to compute the outer product. Let's download and install these packages and call our `Include.jl` file."
   ]
  },
  {
   "cell_type": "code",
   "execution_count": 1,
   "id": "7cc952ea-d4e4-449b-aec7-ddc44d741972",
   "metadata": {},
   "outputs": [
    {
     "name": "stderr",
     "output_type": "stream",
     "text": [
      "\u001b[32m\u001b[1m  Activating\u001b[22m\u001b[39m project at `~/Desktop/julia_work/CHEME-4800-5800-Examples-AY-2024/week-15/L15c`\n",
      "\u001b[32m\u001b[1m  No Changes\u001b[22m\u001b[39m to `~/Desktop/julia_work/CHEME-4800-5800-Examples-AY-2024/week-15/L15c/Project.toml`\n",
      "\u001b[32m\u001b[1m  No Changes\u001b[22m\u001b[39m to `~/Desktop/julia_work/CHEME-4800-5800-Examples-AY-2024/week-15/L15c/Manifest.toml`\n",
      "\u001b[32m\u001b[1m    Updating\u001b[22m\u001b[39m registry at `~/.julia/registries/General.toml`\n",
      "\u001b[32m\u001b[1m  No Changes\u001b[22m\u001b[39m to `~/Desktop/julia_work/CHEME-4800-5800-Examples-AY-2024/week-15/L15c/Project.toml`\n",
      "\u001b[32m\u001b[1m  No Changes\u001b[22m\u001b[39m to `~/Desktop/julia_work/CHEME-4800-5800-Examples-AY-2024/week-15/L15c/Manifest.toml`\n"
     ]
    }
   ],
   "source": [
    "include(\"Include.jl\")"
   ]
  },
  {
   "cell_type": "markdown",
   "id": "fc914a79-bf7f-4889-b1d1-54003da268d8",
   "metadata": {},
   "source": [
    "## Prerequisites\n",
    "Fill me in"
   ]
  },
  {
   "cell_type": "code",
   "execution_count": 2,
   "id": "8f7edf7d-4bf1-468b-9c15-dc847a3c4f49",
   "metadata": {},
   "outputs": [],
   "source": [
    "number_of_training_examples = 20;\n",
    "number_digit_array = range(0,length=10,step=1) |> collect;\n",
    "image_dictionary = Dict{Int64, Array{Gray{N0f8},3}}();\n",
    "for i ∈ number_digit_array\n",
    "    \n",
    "    # create a set for this digit -\n",
    "    image_digit_array = Array{Gray{N0f8},3}(undef, 28, 28, number_of_training_examples);\n",
    "    files = readdir(joinpath(_PATH_TO_IMAGES,\"$(i)\"));\n",
    "    for fileindex ∈ 1:number_of_training_examples\n",
    "        image_digit_array[:,:,fileindex] = joinpath(_PATH_TO_IMAGES, \"$(i)\", files[fileindex]) |> x-> FileIO.load(x);\n",
    "    end\n",
    "\n",
    "    # capture -\n",
    "    image_dictionary[i] = image_digit_array\n",
    "end"
   ]
  },
  {
   "cell_type": "code",
   "execution_count": 3,
   "id": "055d9fd5-8272-4f70-8c48-cd34fd719c3e",
   "metadata": {},
   "outputs": [
    {
     "data": {
      "text/plain": [
       "28×28 Matrix{Float32}:\n",
       " 0.0         0.0         0.0         …  0.027451    0.0  0.0  0.0  0.0\n",
       " 0.0         0.0         0.0            0.0         0.0  0.0  0.0  0.0\n",
       " 0.0         0.0         0.0            0.00392157  0.0  0.0  0.0  0.0\n",
       " 0.0         0.0         0.0            0.0         0.0  0.0  0.0  0.0\n",
       " 0.0         0.0         0.0            0.0         0.0  0.0  0.0  0.0\n",
       " 0.0         0.0         0.0         …  0.0431373   0.0  0.0  0.0  0.0\n",
       " 0.0         0.0         0.0            0.0235294   0.0  0.0  0.0  0.0\n",
       " 0.0         0.0         0.0            0.0         0.0  0.0  0.0  0.0\n",
       " 0.0         0.0         0.0            0.0196078   0.0  0.0  0.0  0.0\n",
       " 0.0         0.0         0.0            0.0         0.0  0.0  0.0  0.0\n",
       " 0.0         0.0         0.0         …  0.0196078   0.0  0.0  0.0  0.0\n",
       " 0.0         0.0         0.0            0.0         0.0  0.0  0.0  0.0\n",
       " 0.0         0.0         0.0            0.0         0.0  0.0  0.0  0.0\n",
       " ⋮                                   ⋱                   ⋮         \n",
       " 0.0         0.054902    0.00784314     0.0196078   0.0  0.0  0.0  0.0\n",
       " 0.0         0.0         0.0            0.0         0.0  0.0  0.0  0.0\n",
       " 0.0117647   0.0         0.0            0.0196078   0.0  0.0  0.0  0.0\n",
       " 0.00392157  0.0156863   0.0            0.0         0.0  0.0  0.0  0.0\n",
       " 0.0         0.0196078   0.00392157  …  0.0         0.0  0.0  0.0  0.0\n",
       " 0.0         0.00392157  0.0117647      0.0352941   0.0  0.0  0.0  0.0\n",
       " 0.0235294   0.0         0.0            0.0         0.0  0.0  0.0  0.0\n",
       " 0.00784314  0.0         0.0            0.0117647   0.0  0.0  0.0  0.0\n",
       " 0.0         0.0         0.0            0.0         0.0  0.0  0.0  0.0\n",
       " 0.0         0.0         0.0         …  0.0         0.0  0.0  0.0  0.0\n",
       " 0.0         0.0         0.0            0.0         0.0  0.0  0.0  0.0\n",
       " 0.0         0.0         0.0            0.0         0.0  0.0  0.0  0.0"
      ]
     },
     "execution_count": 3,
     "metadata": {},
     "output_type": "execute_result"
    }
   ],
   "source": [
    "Z = image_dictionary[0][:,:,2] .|> x-> convert(Float32,x)"
   ]
  },
  {
   "cell_type": "markdown",
   "id": "23e1508d-7986-4486-90cf-fa3b2f7648e3",
   "metadata": {},
   "source": [
    "### Build training dataset "
   ]
  },
  {
   "cell_type": "code",
   "execution_count": 4,
   "id": "b1554fa2-cfeb-4776-a186-be578f27fffd",
   "metadata": {},
   "outputs": [],
   "source": [
    "training_dataset = Vector{Tuple{Vector{Float32}, OneHotVector{UInt32}}}()\n",
    "for i ∈ number_digit_array\n",
    "    Y = onehot(i, number_digit_array);\n",
    "    X = image_dictionary[i];\n",
    "    \n",
    "    for t ∈ 1:number_of_training_examples\n",
    "        D = Array{Float32,1}(undef, 28*28);\n",
    "        linearindex = 1;\n",
    "        for row ∈ 1:28\n",
    "            for col ∈ 1:28\n",
    "                D[linearindex] = X[row,col,t] |> x-> convert(Float32,x);\n",
    "                linearindex+=1;\n",
    "            end\n",
    "        end\n",
    "\n",
    "        training_tuple = (D,Y);\n",
    "        push!(training_dataset,training_tuple);\n",
    "    end\n",
    "end"
   ]
  },
  {
   "cell_type": "code",
   "execution_count": 5,
   "id": "2eef9c36-ba34-491a-8b40-b2e26922bb53",
   "metadata": {},
   "outputs": [
    {
     "data": {
      "text/plain": [
       "100"
      ]
     },
     "execution_count": 5,
     "metadata": {},
     "output_type": "execute_result"
    }
   ],
   "source": [
    "length(training_dataset)"
   ]
  },
  {
   "cell_type": "markdown",
   "id": "18499f7b-5bd3-4a58-939c-633f9831df09",
   "metadata": {},
   "source": [
    "## Setup model, training method and train the classifier"
   ]
  },
  {
   "cell_type": "code",
   "execution_count": 6,
   "id": "8f7f536e-0bc5-43c1-8258-7ab7e13ead59",
   "metadata": {},
   "outputs": [],
   "source": [
    "number_of_input_states = length(training_dataset[1][1]);\n",
    "number_of_classes = 10; \n",
    "number_of_nodes = 48;\n",
    "FFN_policy_model = Chain(Dense(number_of_input_states, number_of_nodes, σ), \n",
    "    Dense(number_of_nodes, number_of_nodes, σ), Dense(number_of_nodes, 10, σ), NNlib.softmax);"
   ]
  },
  {
   "cell_type": "code",
   "execution_count": 7,
   "id": "e432c99f-b8a5-4159-b1f3-5b77667c72a1",
   "metadata": {},
   "outputs": [],
   "source": [
    "# setup a loss function -\n",
    "loss(x, y) = Flux.Losses.logitbinarycrossentropy(FFN_policy_model(x), y; agg = mean);"
   ]
  },
  {
   "cell_type": "code",
   "execution_count": 8,
   "id": "312a2569-c2b9-44c5-98b7-d8380fbaebd7",
   "metadata": {},
   "outputs": [],
   "source": [
    "# pointer to params -\n",
    "θ = Flux.params(FFN_policy_model);"
   ]
  },
  {
   "cell_type": "code",
   "execution_count": 9,
   "id": "368796dc-7bd9-4c3a-8d88-4092820393f9",
   "metadata": {},
   "outputs": [],
   "source": [
    "λ = 0.01;  # learning rate\n",
    "β = 0.05; # momentum parameter\n",
    "# opt = Momentum(λ, β);\n",
    "opt = AdaDelta();"
   ]
  },
  {
   "cell_type": "code",
   "execution_count": 10,
   "id": "2c0e9b70-f312-4e3e-8693-c8d3350a4804",
   "metadata": {},
   "outputs": [
    {
     "name": "stdout",
     "output_type": "stream",
     "text": [
      "loss(test_x, test_y) = 0.73141015f0\n",
      "loss(test_x, test_y) = 0.72924f0\n",
      "loss(test_x, test_y) = 0.72225577f0\n",
      "loss(test_x, test_y) = 0.72203434f0\n",
      "loss(test_x, test_y) = 0.7219398f0\n",
      "loss(test_x, test_y) = 0.72169936f0\n",
      "loss(test_x, test_y) = 0.7215909f0\n",
      "loss(test_x, test_y) = 0.72156125f0\n",
      "loss(test_x, test_y) = 0.72158915f0\n",
      "loss(test_x, test_y) = 0.7215396f0\n",
      "loss(test_x, test_y) = 0.7215058f0\n",
      "loss(test_x, test_y) = 0.7214899f0\n",
      "loss(test_x, test_y) = 0.7214805f0\n",
      "loss(test_x, test_y) = 0.7214743f0\n",
      "loss(test_x, test_y) = 0.72146964f0\n",
      "loss(test_x, test_y) = 0.7214662f0\n",
      "loss(test_x, test_y) = 0.72146356f0\n",
      "loss(test_x, test_y) = 0.7214614f0\n",
      "loss(test_x, test_y) = 0.72145975f0\n",
      "loss(test_x, test_y) = 0.72145826f0\n",
      "loss(test_x, test_y) = 0.72145694f0\n",
      "loss(test_x, test_y) = 0.72145593f0\n",
      "loss(test_x, test_y) = 0.721455f0\n",
      "loss(test_x, test_y) = 0.7214541f0\n",
      "loss(test_x, test_y) = 0.72145337f0\n",
      "loss(test_x, test_y) = 0.7214527f0\n",
      "loss(test_x, test_y) = 0.7214521f0\n",
      "loss(test_x, test_y) = 0.7214515f0\n",
      "loss(test_x, test_y) = 0.721451f0\n",
      "loss(test_x, test_y) = 0.7214507f0\n",
      "loss(test_x, test_y) = 0.7214502f0\n",
      "loss(test_x, test_y) = 0.7214498f0\n",
      "loss(test_x, test_y) = 0.72144943f0\n",
      "loss(test_x, test_y) = 0.7214492f0\n",
      "loss(test_x, test_y) = 0.72144884f0\n",
      "loss(test_x, test_y) = 0.72144854f0\n",
      "loss(test_x, test_y) = 0.7214483f0\n",
      "loss(test_x, test_y) = 0.721448f0\n",
      "loss(test_x, test_y) = 0.72144777f0\n",
      "loss(test_x, test_y) = 0.7214476f0\n",
      "loss(test_x, test_y) = 0.72144735f0\n",
      "loss(test_x, test_y) = 0.72144717f0\n",
      "loss(test_x, test_y) = 0.721447f0\n",
      "loss(test_x, test_y) = 0.72144675f0\n",
      "loss(test_x, test_y) = 0.72144663f0\n",
      "loss(test_x, test_y) = 0.7214465f0\n",
      "loss(test_x, test_y) = 0.7214464f0\n",
      "loss(test_x, test_y) = 0.7214462f0\n",
      "loss(test_x, test_y) = 0.7214461f0\n",
      "loss(test_x, test_y) = 0.7214459f0\n",
      "loss(test_x, test_y) = 0.7214458f0\n",
      "loss(test_x, test_y) = 0.7214457f0\n",
      "loss(test_x, test_y) = 0.72144556f0\n",
      "loss(test_x, test_y) = 0.72144544f0\n",
      "loss(test_x, test_y) = 0.7214454f0\n",
      "loss(test_x, test_y) = 0.72144526f0\n",
      "loss(test_x, test_y) = 0.7214452f0\n",
      "loss(test_x, test_y) = 0.7214451f0\n",
      "loss(test_x, test_y) = 0.72144496f0\n",
      "loss(test_x, test_y) = 0.7214449f0\n",
      "loss(test_x, test_y) = 0.7214448f0\n",
      "loss(test_x, test_y) = 0.7214447f0\n",
      "loss(test_x, test_y) = 0.7214446f0\n",
      "loss(test_x, test_y) = 0.72144455f0\n",
      "loss(test_x, test_y) = 0.72144455f0\n",
      "loss(test_x, test_y) = 0.7214444f0\n",
      "loss(test_x, test_y) = 0.7214443f0\n",
      "loss(test_x, test_y) = 0.7214443f0\n",
      "loss(test_x, test_y) = 0.72144425f0\n",
      "loss(test_x, test_y) = 0.72144413f0\n",
      "loss(test_x, test_y) = 0.72144413f0\n",
      "loss(test_x, test_y) = 0.7214441f0\n",
      "loss(test_x, test_y) = 0.721444f0\n",
      "loss(test_x, test_y) = 0.721444f0\n",
      "loss(test_x, test_y) = 0.72144395f0\n",
      "loss(test_x, test_y) = 0.72144383f0\n",
      "loss(test_x, test_y) = 0.7214438f0\n",
      "loss(test_x, test_y) = 0.7214438f0\n",
      "loss(test_x, test_y) = 0.72144365f0\n",
      "loss(test_x, test_y) = 0.72144365f0\n",
      "loss(test_x, test_y) = 0.7214436f0\n",
      "loss(test_x, test_y) = 0.72144353f0\n",
      "loss(test_x, test_y) = 0.72144353f0\n",
      "loss(test_x, test_y) = 0.7214435f0\n",
      "loss(test_x, test_y) = 0.7214434f0\n",
      "loss(test_x, test_y) = 0.7214435f0\n",
      "loss(test_x, test_y) = 0.72144336f0\n",
      "loss(test_x, test_y) = 0.72144336f0\n",
      "loss(test_x, test_y) = 0.7214433f0\n",
      "loss(test_x, test_y) = 0.7214433f0\n",
      "loss(test_x, test_y) = 0.7214433f0\n",
      "loss(test_x, test_y) = 0.7214432f0\n",
      "loss(test_x, test_y) = 0.7214432f0\n",
      "loss(test_x, test_y) = 0.7214431f0\n",
      "loss(test_x, test_y) = 0.7214431f0\n",
      "loss(test_x, test_y) = 0.7214431f0\n",
      "loss(test_x, test_y) = 0.72144306f0\n",
      "loss(test_x, test_y) = 0.72144306f0\n",
      "loss(test_x, test_y) = 0.72144306f0\n",
      "loss(test_x, test_y) = 0.72144306f0\n",
      "loss(test_x, test_y) = 0.721443f0\n",
      "loss(test_x, test_y) = 0.72144306f0\n",
      "loss(test_x, test_y) = 0.721443f0\n",
      "loss(test_x, test_y) = 0.721443f0\n",
      "loss(test_x, test_y) = 0.7214429f0\n",
      "loss(test_x, test_y) = 0.7214429f0\n",
      "loss(test_x, test_y) = 0.7214429f0\n",
      "loss(test_x, test_y) = 0.7214429f0\n",
      "loss(test_x, test_y) = 0.7214428f0\n",
      "loss(test_x, test_y) = 0.7214429f0\n",
      "loss(test_x, test_y) = 0.7214428f0\n",
      "loss(test_x, test_y) = 0.7214428f0\n",
      "loss(test_x, test_y) = 0.72144276f0\n",
      "loss(test_x, test_y) = 0.72144276f0\n",
      "loss(test_x, test_y) = 0.72144276f0\n",
      "loss(test_x, test_y) = 0.72144264f0\n",
      "loss(test_x, test_y) = 0.72144264f0\n"
     ]
    }
   ],
   "source": [
    "test_x, test_y = training_dataset[1][1], training_dataset[1][2]\n",
    "number_of_epochs = 25000;\n",
    "evalcb() = @show(loss(test_x, test_y))\n",
    "throttled_cb = Flux.throttle(evalcb, 5)\n",
    "for i = 1:number_of_epochs\n",
    "    Flux.train!(loss, θ, training_dataset, opt, cb = throttled_cb)\n",
    "end"
   ]
  },
  {
   "cell_type": "code",
   "execution_count": 12,
   "id": "0a9a0734-8377-4b60-9b89-3a734ab0eaef",
   "metadata": {},
   "outputs": [
    {
     "data": {
      "text/plain": [
       "10-element Vector{Float32}:\n",
       " 0.08533461\n",
       " 0.23194098\n",
       " 0.08535455\n",
       " 0.08533921\n",
       " 0.08534782\n",
       " 0.0853359\n",
       " 0.085337035\n",
       " 0.08533473\n",
       " 0.08534032\n",
       " 0.08533489"
      ]
     },
     "execution_count": 12,
     "metadata": {},
     "output_type": "execute_result"
    }
   ],
   "source": [
    "x = training_dataset[11][1]\n",
    "FFN_policy_model(x)"
   ]
  },
  {
   "cell_type": "code",
   "execution_count": null,
   "id": "f35c69ad-2f1c-4cc2-bf80-dcbd9a68eed7",
   "metadata": {},
   "outputs": [],
   "source": []
  }
 ],
 "metadata": {
  "kernelspec": {
   "display_name": "Julia 1.10.3",
   "language": "julia",
   "name": "julia-1.10"
  },
  "language_info": {
   "file_extension": ".jl",
   "mimetype": "application/julia",
   "name": "julia",
   "version": "1.10.3"
  }
 },
 "nbformat": 4,
 "nbformat_minor": 5
}
