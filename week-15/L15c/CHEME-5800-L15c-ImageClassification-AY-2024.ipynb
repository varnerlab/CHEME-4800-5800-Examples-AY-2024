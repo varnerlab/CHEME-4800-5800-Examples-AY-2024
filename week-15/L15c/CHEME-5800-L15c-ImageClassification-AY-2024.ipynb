{
 "cells": [
  {
   "cell_type": "markdown",
   "id": "0301524c-c75f-4769-9421-b31c4fc6f0e0",
   "metadata": {},
   "source": [
    "# Example: Develop a Multiclass Artificial Neural Network Image Classifier\n",
    "Fill me in"
   ]
  },
  {
   "cell_type": "markdown",
   "id": "c4e0043b-6b9a-4851-b1ff-ce4fef45e091",
   "metadata": {},
   "source": [
    "## Setup\n",
    "This example requires several external libraries and a function to compute the outer product. Let's download and install these packages and call our `Include.jl` file."
   ]
  },
  {
   "cell_type": "code",
   "execution_count": 1,
   "id": "7cc952ea-d4e4-449b-aec7-ddc44d741972",
   "metadata": {},
   "outputs": [
    {
     "name": "stderr",
     "output_type": "stream",
     "text": [
      "\u001b[32m\u001b[1m  Activating\u001b[22m\u001b[39m project at `~/Desktop/julia_work/CHEME-4800-5800-Examples-AY-2024/week-15/L15c`\n",
      "\u001b[32m\u001b[1m  No Changes\u001b[22m\u001b[39m to `~/Desktop/julia_work/CHEME-4800-5800-Examples-AY-2024/week-15/L15c/Project.toml`\n",
      "\u001b[32m\u001b[1m  No Changes\u001b[22m\u001b[39m to `~/Desktop/julia_work/CHEME-4800-5800-Examples-AY-2024/week-15/L15c/Manifest.toml`\n",
      "\u001b[32m\u001b[1m    Updating\u001b[22m\u001b[39m registry at `~/.julia/registries/General.toml`\n",
      "\u001b[32m\u001b[1m  No Changes\u001b[22m\u001b[39m to `~/Desktop/julia_work/CHEME-4800-5800-Examples-AY-2024/week-15/L15c/Project.toml`\n",
      "\u001b[32m\u001b[1m  No Changes\u001b[22m\u001b[39m to `~/Desktop/julia_work/CHEME-4800-5800-Examples-AY-2024/week-15/L15c/Manifest.toml`\n"
     ]
    }
   ],
   "source": [
    "include(\"Include.jl\")"
   ]
  },
  {
   "cell_type": "markdown",
   "id": "fc914a79-bf7f-4889-b1d1-54003da268d8",
   "metadata": {},
   "source": [
    "## Prerequisites\n",
    "Fill me in"
   ]
  },
  {
   "cell_type": "code",
   "execution_count": 2,
   "id": "8f7edf7d-4bf1-468b-9c15-dc847a3c4f49",
   "metadata": {},
   "outputs": [
    {
     "ename": "LoadError",
     "evalue": "No applicable_loaders found for UNKNOWN",
     "output_type": "error",
     "traceback": [
      "No applicable_loaders found for UNKNOWN",
      "",
      "Stacktrace:",
      " [1] error(s::String)",
      "   @ Base ./error.jl:35",
      " [2] applicable_loaders",
      "   @ ~/.julia/packages/FileIO/xOKyx/src/loadsave.jl:11 [inlined]",
      " [3] load(::String; options::@Kwargs{})",
      "   @ FileIO ~/.julia/packages/FileIO/xOKyx/src/loadsave.jl:112",
      " [4] load",
      "   @ ~/.julia/packages/FileIO/xOKyx/src/loadsave.jl:109 [inlined]",
      " [5] #1",
      "   @ ./In[2]:10 [inlined]",
      " [6] |>(x::String, f::var\"#1#2\")",
      "   @ Base ./operators.jl:917",
      " [7] top-level scope",
      "   @ In[2]:10"
     ]
    }
   ],
   "source": [
    "number_of_training_examples = 20;\n",
    "number_digit_array = range(0,length=10,step=1) |> collect;\n",
    "image_dictionary = Dict{Int64, Array{Gray{N0f8},3}}();\n",
    "for i ∈ number_digit_array\n",
    "    \n",
    "    # create a set for this digit -\n",
    "    image_digit_array = Array{Gray{N0f8},3}(undef, 28, 28, number_of_training_examples);\n",
    "    files = readdir(joinpath(_PATH_TO_IMAGES,\"$(i)\"));\n",
    "    @show files\n",
    "    \n",
    "    for fileindex ∈ 1:number_of_training_examples\n",
    "        image_digit_array[:,:,fileindex] = joinpath(_PATH_TO_IMAGES, \"$(i)\", files[fileindex]) |> x-> FileIO.load(x);\n",
    "    end\n",
    "\n",
    "    # capture -\n",
    "    image_dictionary[i] = image_digit_array\n",
    "end"
   ]
  },
  {
   "cell_type": "code",
   "execution_count": 3,
   "id": "055d9fd5-8272-4f70-8c48-cd34fd719c3e",
   "metadata": {},
   "outputs": [
    {
     "ename": "LoadError",
     "evalue": "KeyError: key 0 not found",
     "output_type": "error",
     "traceback": [
      "KeyError: key 0 not found",
      "",
      "Stacktrace:",
      " [1] getindex(h::Dict{Int64, Array{Gray{N0f8}, 3}}, key::Int64)",
      "   @ Base ./dict.jl:498",
      " [2] top-level scope",
      "   @ In[3]:1"
     ]
    }
   ],
   "source": [
    "Z = image_dictionary[0][:,:,2] .|> x-> convert(Float32,x)"
   ]
  },
  {
   "cell_type": "markdown",
   "id": "23e1508d-7986-4486-90cf-fa3b2f7648e3",
   "metadata": {},
   "source": [
    "### Build training dataset "
   ]
  },
  {
   "cell_type": "code",
   "execution_count": 4,
   "id": "b1554fa2-cfeb-4776-a186-be578f27fffd",
   "metadata": {},
   "outputs": [
    {
     "ename": "LoadError",
     "evalue": "KeyError: key 0 not found",
     "output_type": "error",
     "traceback": [
      "KeyError: key 0 not found",
      "",
      "Stacktrace:",
      " [1] getindex(h::Dict{Int64, Array{Gray{N0f8}, 3}}, key::Int64)",
      "   @ Base ./dict.jl:498",
      " [2] top-level scope",
      "   @ In[4]:4"
     ]
    }
   ],
   "source": [
    "training_dataset = Vector{Tuple{Vector{Float32}, OneHotVector{UInt32}}}()\n",
    "for i ∈ number_digit_array\n",
    "    Y = onehot(i, number_digit_array);\n",
    "    X = image_dictionary[i];\n",
    "    \n",
    "    for t ∈ 1:number_of_training_examples\n",
    "        D = Array{Float32,1}(undef, 28*28);\n",
    "        linearindex = 1;\n",
    "        for row ∈ 1:28\n",
    "            for col ∈ 1:28\n",
    "                D[linearindex] = X[row,col,t] |> x-> convert(Float32,x);\n",
    "                linearindex+=1;\n",
    "            end\n",
    "        end\n",
    "\n",
    "        training_tuple = (D,Y);\n",
    "        push!(training_dataset,training_tuple);\n",
    "    end\n",
    "end"
   ]
  },
  {
   "cell_type": "code",
   "execution_count": 5,
   "id": "2eef9c36-ba34-491a-8b40-b2e26922bb53",
   "metadata": {},
   "outputs": [
    {
     "data": {
      "text/plain": [
       "0"
      ]
     },
     "execution_count": 5,
     "metadata": {},
     "output_type": "execute_result"
    }
   ],
   "source": [
    "length(training_dataset)"
   ]
  },
  {
   "cell_type": "markdown",
   "id": "18499f7b-5bd3-4a58-939c-633f9831df09",
   "metadata": {},
   "source": [
    "## Setup model, training method and train the classifier"
   ]
  },
  {
   "cell_type": "code",
   "execution_count": 6,
   "id": "8f7f536e-0bc5-43c1-8258-7ab7e13ead59",
   "metadata": {},
   "outputs": [
    {
     "ename": "LoadError",
     "evalue": "BoundsError: attempt to access 0-element Vector{Tuple{Vector{Float32}, OneHotVector{UInt32}}} at index [1]",
     "output_type": "error",
     "traceback": [
      "BoundsError: attempt to access 0-element Vector{Tuple{Vector{Float32}, OneHotVector{UInt32}}} at index [1]",
      "",
      "Stacktrace:",
      " [1] getindex(A::Vector{Tuple{Vector{Float32}, OneHotVector{UInt32}}}, i1::Int64)",
      "   @ Base ./essentials.jl:13",
      " [2] top-level scope",
      "   @ In[6]:1"
     ]
    }
   ],
   "source": [
    "number_of_input_states = length(training_dataset[1][1]);\n",
    "number_of_classes = 10; \n",
    "number_of_nodes = 48;\n",
    "FFN_policy_model = Chain(Dense(number_of_input_states, number_of_nodes, σ), \n",
    "    Dense(number_of_nodes, number_of_nodes, σ), Dense(number_of_nodes, 10, σ), NNlib.softmax);"
   ]
  },
  {
   "cell_type": "code",
   "execution_count": 7,
   "id": "e432c99f-b8a5-4159-b1f3-5b77667c72a1",
   "metadata": {},
   "outputs": [],
   "source": [
    "# setup a loss function -\n",
    "loss(x, y) = Flux.Losses.logitbinarycrossentropy(FFN_policy_model(x), y; agg = mean);"
   ]
  },
  {
   "cell_type": "code",
   "execution_count": 8,
   "id": "312a2569-c2b9-44c5-98b7-d8380fbaebd7",
   "metadata": {},
   "outputs": [
    {
     "ename": "LoadError",
     "evalue": "UndefVarError: `FFN_policy_model` not defined",
     "output_type": "error",
     "traceback": [
      "UndefVarError: `FFN_policy_model` not defined",
      "",
      "Stacktrace:",
      " [1] top-level scope",
      "   @ In[8]:1"
     ]
    }
   ],
   "source": [
    "# pointer to params -\n",
    "θ = Flux.params(FFN_policy_model);"
   ]
  },
  {
   "cell_type": "code",
   "execution_count": 9,
   "id": "368796dc-7bd9-4c3a-8d88-4092820393f9",
   "metadata": {},
   "outputs": [],
   "source": [
    "λ = 0.01;  # learning rate\n",
    "β = 0.05; # momentum parameter\n",
    "# opt = Momentum(λ, β);\n",
    "opt = AdaDelta();"
   ]
  },
  {
   "cell_type": "code",
   "execution_count": 10,
   "id": "2c0e9b70-f312-4e3e-8693-c8d3350a4804",
   "metadata": {},
   "outputs": [
    {
     "ename": "LoadError",
     "evalue": "BoundsError: attempt to access 0-element Vector{Tuple{Vector{Float32}, OneHotVector{UInt32}}} at index [1]",
     "output_type": "error",
     "traceback": [
      "BoundsError: attempt to access 0-element Vector{Tuple{Vector{Float32}, OneHotVector{UInt32}}} at index [1]",
      "",
      "Stacktrace:",
      " [1] getindex(A::Vector{Tuple{Vector{Float32}, OneHotVector{UInt32}}}, i1::Int64)",
      "   @ Base ./essentials.jl:13",
      " [2] top-level scope",
      "   @ In[10]:1"
     ]
    }
   ],
   "source": [
    "test_x, test_y = training_dataset[1][1], training_dataset[1][2]\n",
    "number_of_epochs = 25000;\n",
    "evalcb() = @show(loss(test_x, test_y))\n",
    "throttled_cb = Flux.throttle(evalcb, 5)\n",
    "for i = 1:number_of_epochs\n",
    "    Flux.train!(loss, θ, training_dataset, opt, cb = throttled_cb)\n",
    "end"
   ]
  },
  {
   "cell_type": "code",
   "execution_count": 11,
   "id": "0a9a0734-8377-4b60-9b89-3a734ab0eaef",
   "metadata": {},
   "outputs": [
    {
     "ename": "LoadError",
     "evalue": "BoundsError: attempt to access 0-element Vector{Tuple{Vector{Float32}, OneHotVector{UInt32}}} at index [11]",
     "output_type": "error",
     "traceback": [
      "BoundsError: attempt to access 0-element Vector{Tuple{Vector{Float32}, OneHotVector{UInt32}}} at index [11]",
      "",
      "Stacktrace:",
      " [1] getindex(A::Vector{Tuple{Vector{Float32}, OneHotVector{UInt32}}}, i1::Int64)",
      "   @ Base ./essentials.jl:13",
      " [2] top-level scope",
      "   @ In[11]:1"
     ]
    }
   ],
   "source": [
    "x = training_dataset[11][1]\n",
    "FFN_policy_model(x)"
   ]
  },
  {
   "cell_type": "code",
   "execution_count": null,
   "id": "f35c69ad-2f1c-4cc2-bf80-dcbd9a68eed7",
   "metadata": {},
   "outputs": [],
   "source": []
  }
 ],
 "metadata": {
  "kernelspec": {
   "display_name": "Julia 1.10.3",
   "language": "julia",
   "name": "julia-1.10"
  },
  "language_info": {
   "file_extension": ".jl",
   "mimetype": "application/julia",
   "name": "julia",
   "version": "1.10.3"
  }
 },
 "nbformat": 4,
 "nbformat_minor": 5
}
