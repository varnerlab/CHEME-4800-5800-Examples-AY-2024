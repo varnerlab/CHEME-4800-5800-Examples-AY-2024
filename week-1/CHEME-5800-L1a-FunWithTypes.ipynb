{
 "cells": [
  {
   "cell_type": "markdown",
   "id": "8486ffbb-a72f-4d5f-8feb-37db2a7d5819",
   "metadata": {},
   "source": [
    "# Example: Fun with Numerical and String Types in `Julia`\n",
    "Let $k$ denote the `word size` of the computer, i.e., the number of bits in a `word`.\n",
    "The base $b$ representation of a number uses the digit set:\n",
    "\n",
    "\n",
    "\\begin{equation*}\n",
    "\\mathcal{D}_{b} = \\left\\{0, 1, \\dots, (b - 1)\\right\\}\n",
    "\\end{equation*}\n",
    "\n",
    "For any $n\\geq{0}$ and $b\\geq{2}$, there is a string of $k$-digits $\\left(a_{k-1}\\,a_{k-2},\\dots,a_{2}\\,a_{1}a_{0}\\right)_{b}$ \n",
    "where $a_{i}\\in\\mathcal{D}_{b}\\,\\forall{i}$ such that the `base-10` representation of the number $n$ is given by:\n",
    "\n",
    "\n",
    "\\begin{equation*}\n",
    "n = \\sum_{j=0}^{k-1}a_{j}\\cdot{b^{j}}\n",
    "\\end{equation*}\n",
    "\n",
    "\n",
    "where $a_{j}$ denotes the digit in position $j$, the quantity $b$ denotes the base, \n",
    "and $k$ denotes the number of bits in a `word`."
   ]
  },
  {
   "cell_type": "markdown",
   "id": "142adf06-4c24-4dc4-baa6-9878641e50d2",
   "metadata": {
    "jp-MarkdownHeadingCollapsed": true
   },
   "source": [
    "## Example 1: `64-bit` integer written as a binary number\n",
    "Show that the `64-bit` binary representation of the integer value `1800` is given by:\n",
    "$$\n",
    "\\begin{equation}\n",
    "1800 \\stackrel{?}{=} (0000000000000000000000000000000000000000000000000000011100001000)_{2}\n",
    "\\end{equation}\n",
    "$$"
   ]
  },
  {
   "cell_type": "markdown",
   "id": "3fe03e72-20b1-4779-9f4e-07e84a2430b7",
   "metadata": {
    "jp-MarkdownHeadingCollapsed": true
   },
   "source": [
    "#### Solution\n",
    "A `binary` number is written respect to the `base 2`. Thus, we have $b=2$ and a digit set equal to $\\mathcal{D}_{2}=\\left\\{0,1\\right\\}$. Further, we know that word size (on this machine) is `64-bit`, so `k = 64`. The `base b` summation runs from $0\\rightarrow{63}$:\n",
    "$$\n",
    "\\begin{equation}\n",
    "1800 \\stackrel{?}{=} \\sum_{j=0}^{63}a_{j}\\cdot{2^j}\n",
    "\\end{equation}\n",
    "$$\n",
    "where $a_{j}$ denotes the value in the jth position of the binary number, i.e., $a_{j}=\\left\\{0,1\\right\\}$ in position $j$. Most of the the $a_{j}$ values in the binary number are zero _except_ for a few positions; thus, the summation reduces to:\n",
    "\n",
    "$$\n",
    "\\begin{equation}\n",
    "1800 \\stackrel{?}{=} 2^{3}+2^{8}+2^{9}+2^{10}\n",
    "\\end{equation}\n",
    "$$\n",
    "\n",
    "__Tip__: The [bitstring](https://docs.julialang.org/en/v1/base/numbers/#Base.bitstring) function in [Julia](https://docs.julialang.org/en/v1/) displays the binary representation of different types of data, e.g., numerical data types as well as strings and characters."
   ]
  },
  {
   "cell_type": "code",
   "execution_count": 3,
   "id": "983f6a22-3bed-41e0-8e76-e50577a2d11d",
   "metadata": {},
   "outputs": [],
   "source": [
    "@assert (1800 == sum([2^3,2^8,2^9,2^10]))"
   ]
  },
  {
   "cell_type": "markdown",
   "id": "685d78b6-bcc9-4bbf-8239-043c7cdcca72",
   "metadata": {
    "jp-MarkdownHeadingCollapsed": true
   },
   "source": [
    "## Example 2: Values of `base 8` (octal) number\n",
    "Show the octal number $\\left(0\\cdots0112\\right)_{8}$ has a value of `74` in a `base 10` number system."
   ]
  },
  {
   "cell_type": "markdown",
   "id": "1febead0-da1a-40cf-9523-4be24e35827c",
   "metadata": {},
   "source": [
    "### Solution\n",
    "For a `base 8` (octal) number on a `64-bit` machine, `b=8` and `k = 64`. Then, the octal number $\\left(0\\cdots0112\\right)_{8}$ can be expanded using as:\n",
    "\n",
    "$$\n",
    "\\begin{equation}\n",
    "n = 2\\times{8}^{0}+1\\times{8}^{1}+1\\times{8}^2\n",
    "\\end{equation}\n",
    "$$\n",
    "\n",
    "or $n = 74$."
   ]
  },
  {
   "cell_type": "code",
   "execution_count": 5,
   "id": "668e771a-aa01-4fe6-9c30-1e98459a4005",
   "metadata": {},
   "outputs": [],
   "source": [
    "@assert (74 == sum([2,8,8^2]))"
   ]
  }
 ],
 "metadata": {
  "kernelspec": {
   "display_name": "Julia 1.10.0",
   "language": "julia",
   "name": "julia-1.10"
  },
  "language_info": {
   "file_extension": ".jl",
   "mimetype": "application/julia",
   "name": "julia",
   "version": "1.10.0"
  }
 },
 "nbformat": 4,
 "nbformat_minor": 5
}
