{
 "cells": [
  {
   "cell_type": "markdown",
   "id": "fba06ba5-0585-4f6f-849e-3721cb406cb0",
   "metadata": {},
   "source": [
    "# Example: Memory Representation of Floating Point Numbers\n",
    "Floating point numbers $x\\in\\mathbb{R}$ are stored using 4$\\times$bytes (single-precision) or 8$\\times$bytes (double-precision)\n",
    "following the [IEEE-754 standard](https://en.wikipedia.org/wiki/IEEE_754). \n",
    "The components of number $x\\in\\mathbb{R}$ are encoded in different segments the 64-bit word:\n",
    "\\begin{equation*}\n",
    "x = -1^{S}\\times{M}\\times{2}^{(E-1023)}\n",
    "\\end{equation*}\n",
    "where $S$ denotes the sign bit, $M$ denotes the mantissa (fraction) and $E$ denotes the exponent.\n",
    "* For a 32-bit floating point number, $S$ is bit 31 denoted by $b_{31}$, $M$ is encoded in bits $b_0\\rightarrow{b_{22}}$ and $E$ is encoded by bits $b_{23}\\rightarrow{b_{30}}$.\n",
    "* For a 64-bit floating point number, the sign bit $S$ is $b_{63}$, the mantissa $M$ is the number encoded by bits $b_0\\rightarrow{b_{51}}$, and the exponent $E$ is encoded by bits $b_{52}\\rightarrow{b_{62}}$."
   ]
  },
  {
   "cell_type": "code",
   "execution_count": 1,
   "id": "ccbd03bd-4081-463c-8509-23ae8a87967e",
   "metadata": {},
   "outputs": [
    {
     "data": {
      "text/plain": [
       "-6523.364"
      ]
     },
     "execution_count": 1,
     "metadata": {},
     "output_type": "execute_result"
    }
   ],
   "source": [
    "floating_point_nunber_example = -6523.364"
   ]
  },
  {
   "cell_type": "code",
   "execution_count": 2,
   "id": "fa2d28dc-4c66-405c-a86f-4d68a12068b4",
   "metadata": {},
   "outputs": [
    {
     "data": {
      "text/plain": [
       "\"1100000010111001011110110101110100101111000110101001111110111110\""
      ]
     },
     "execution_count": 2,
     "metadata": {},
     "output_type": "execute_result"
    }
   ],
   "source": [
    "bitstring(floating_point_nunber_example)"
   ]
  },
  {
   "cell_type": "code",
   "execution_count": 3,
   "id": "f8fce82c-f778-4429-b6b4-e7d1999f9be5",
   "metadata": {},
   "outputs": [],
   "source": [
    "bit_pattern_array = bitstring(floating_point_nunber_example) |> collect |> reverse .|> x-> parse(Int,x); "
   ]
  },
  {
   "cell_type": "code",
   "execution_count": 4,
   "id": "97b9dd21-226c-4fba-936a-d3d91e3be296",
   "metadata": {},
   "outputs": [
    {
     "data": {
      "text/plain": [
       "64-element Vector{Int64}:\n",
       " 0\n",
       " 1\n",
       " 1\n",
       " 1\n",
       " 1\n",
       " 1\n",
       " 0\n",
       " 1\n",
       " 1\n",
       " 1\n",
       " 1\n",
       " 1\n",
       " 1\n",
       " ⋮\n",
       " 1\n",
       " 1\n",
       " 0\n",
       " 1\n",
       " 0\n",
       " 0\n",
       " 0\n",
       " 0\n",
       " 0\n",
       " 0\n",
       " 1\n",
       " 1"
      ]
     },
     "execution_count": 4,
     "metadata": {},
     "output_type": "execute_result"
    }
   ],
   "source": [
    "bit_pattern_array"
   ]
  },
  {
   "cell_type": "code",
   "execution_count": 5,
   "id": "b6069b0d-9840-4014-9f9c-1f929f45f7fc",
   "metadata": {},
   "outputs": [],
   "source": [
    "bit_patten_dictionary = Dict{Int64,Int64}(); # what are we doing here?\n",
    "for i ∈ eachindex(bit_pattern_array)\n",
    "    bit_patten_dictionary[i-1] = bit_pattern_array[i] # what are we doing here?\n",
    "end\n",
    "bit_patten_dictionary; # what is going on here?"
   ]
  },
  {
   "cell_type": "code",
   "execution_count": 6,
   "id": "ac580dc0-9e46-4c3b-93a1-d0b8cc68b169",
   "metadata": {},
   "outputs": [
    {
     "data": {
      "text/plain": [
       "1"
      ]
     },
     "execution_count": 6,
     "metadata": {},
     "output_type": "execute_result"
    }
   ],
   "source": [
    "bit_patten_dictionary[52]"
   ]
  },
  {
   "cell_type": "markdown",
   "id": "5d98f7b8-2c6f-43a2-b4b2-6f48eba7305c",
   "metadata": {},
   "source": [
    "## Sign bit `S`\n",
    "The `sign` bit for a `64-bit` number is in position `63`, i.e., $b_{63}$. Let's look up that value in the `bit_patten_dictionary`, and set it equal to the variable `S`:"
   ]
  },
  {
   "cell_type": "code",
   "execution_count": 7,
   "id": "5ef5b747-59d8-466c-971c-51e7b10bc4ad",
   "metadata": {},
   "outputs": [
    {
     "data": {
      "text/plain": [
       "-1"
      ]
     },
     "execution_count": 7,
     "metadata": {},
     "output_type": "execute_result"
    }
   ],
   "source": [
    "sign = 1;\n",
    "S = bit_patten_dictionary[63]\n",
    "if (S == 1)\n",
    "    sign = -1;\n",
    "end"
   ]
  },
  {
   "cell_type": "markdown",
   "id": "ea816a60-1a9f-4ca7-8011-d0914f48bbd4",
   "metadata": {},
   "source": [
    "## Mantissa `M`"
   ]
  },
  {
   "cell_type": "code",
   "execution_count": 8,
   "id": "fee17f71-cfef-41ee-a8b2-dca5ef5afd51",
   "metadata": {},
   "outputs": [],
   "source": [
    "mantissa_bit_range = range(1,stop=52,step = 1) |> collect;"
   ]
  },
  {
   "cell_type": "code",
   "execution_count": 9,
   "id": "ae134c03-d4dd-4217-adbf-c3a4107d62d9",
   "metadata": {},
   "outputs": [],
   "source": [
    "M = 1.0;\n",
    "base = 2.0;\n",
    "for k ∈ eachindex(mantissa_bit_range)\n",
    "    i = mantissa_bit_range[k]\n",
    "    aₖ = bit_patten_dictionary[52-i]\n",
    "    M += aₖ*(base^(-i))\n",
    "end"
   ]
  },
  {
   "cell_type": "code",
   "execution_count": 10,
   "id": "e7021759-b3a1-4c51-b4da-40b4efe591ec",
   "metadata": {},
   "outputs": [
    {
     "data": {
      "text/plain": [
       "1.5926181640625"
      ]
     },
     "execution_count": 10,
     "metadata": {},
     "output_type": "execute_result"
    }
   ],
   "source": [
    "M"
   ]
  },
  {
   "cell_type": "markdown",
   "id": "2244026e-0182-47ac-bccb-47c8a3a09f28",
   "metadata": {},
   "source": [
    "## Exponent"
   ]
  },
  {
   "cell_type": "code",
   "execution_count": 11,
   "id": "182b5d1d-dac0-46e1-8f0f-b746bfaf0afa",
   "metadata": {},
   "outputs": [],
   "source": [
    "exponent_bit_range = range(52,stop=62, step = 1) |> collect;"
   ]
  },
  {
   "cell_type": "code",
   "execution_count": 12,
   "id": "05487370-3881-4f94-95df-6a70c6e5a44f",
   "metadata": {},
   "outputs": [
    {
     "data": {
      "text/plain": [
       "1035.0"
      ]
     },
     "execution_count": 12,
     "metadata": {},
     "output_type": "execute_result"
    }
   ],
   "source": [
    "E = 0.0\n",
    "base = 2;\n",
    "for k ∈ eachindex(exponent_bit_range)   \n",
    "    index = exponent_bit_range[k]\n",
    "    aₖ = bit_patten_dictionary[index]    \n",
    "    E += aₖ*(base^(k-1))\n",
    "end\n",
    "E"
   ]
  },
  {
   "cell_type": "markdown",
   "id": "bb093f51-a89a-4509-8fcc-aec9fd92870b",
   "metadata": {},
   "source": [
    "### Value"
   ]
  },
  {
   "cell_type": "code",
   "execution_count": 13,
   "id": "8e39234c-b043-45f4-a464-c63a71851442",
   "metadata": {},
   "outputs": [
    {
     "data": {
      "text/plain": [
       "-6523.364"
      ]
     },
     "execution_count": 13,
     "metadata": {},
     "output_type": "execute_result"
    }
   ],
   "source": [
    "x = (sign)*M*(2^(E - 1023))"
   ]
  }
 ],
 "metadata": {
  "kernelspec": {
   "display_name": "Julia 1.10.0",
   "language": "julia",
   "name": "julia-1.10"
  },
  "language_info": {
   "file_extension": ".jl",
   "mimetype": "application/julia",
   "name": "julia",
   "version": "1.10.0"
  }
 },
 "nbformat": 4,
 "nbformat_minor": 5
}
