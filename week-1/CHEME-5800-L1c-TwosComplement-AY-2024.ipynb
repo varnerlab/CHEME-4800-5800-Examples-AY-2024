{
 "cells": [
  {
   "cell_type": "markdown",
   "id": "2974162d-429f-4a41-984d-8a0dd3aba086",
   "metadata": {},
   "source": [
    "## Example: The Tale of Negative Integers and Two's Complement"
   ]
  },
  {
   "cell_type": "code",
   "execution_count": null,
   "id": "95e8c98a-0140-4717-b777-a606d76f9eb6",
   "metadata": {},
   "outputs": [],
   "source": []
  }
 ],
 "metadata": {
  "kernelspec": {
   "display_name": "Julia 1.10.0",
   "language": "julia",
   "name": "julia-1.10"
  },
  "language_info": {
   "file_extension": ".jl",
   "mimetype": "application/julia",
   "name": "julia",
   "version": "1.10.0"
  }
 },
 "nbformat": 4,
 "nbformat_minor": 5
}
