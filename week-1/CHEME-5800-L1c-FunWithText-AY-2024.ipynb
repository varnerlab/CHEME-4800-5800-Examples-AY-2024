{
 "cells": [
  {
   "cell_type": "markdown",
   "id": "cee65593-795a-42ad-b14a-89917072a5af",
   "metadata": {},
   "source": [
    "# Example: Fun with Text, Strings and Characters\n",
    "Textual data on a computer is represented as the `String` data type. `Strings` in languages such as [C](https://en.wikipedia.org/wiki/C_(programming_language)) were modeled as a sequence of characters, where each character was type `Char.` \n",
    "* Characters were represented via the [American Standard Code for Information Interchange (ASCII) system](https://en.wikipedia.org/wiki/ASCII), which was a set of `7-bit` teleprinter codes for the [AT&T](https://www.att.com) Teletypewriter exchange (TWX) network. For example, the character `A` in the ASCII system has an index of `65`.\n",
    "* Later, `8-bit` character mappings were developed, i.e., the so-called [extended ASCII systems](https://en.wikipedia.org/wiki/Extended_ASCII), which had $0,\\dots,255$ possible character values.\n",
    "\n",
    "However, some of the `ASCII` systems remain true today, while others are very different. For example, modern languages have sophisticated built-in `String` types constructed using the [Unicode character set](https://en.wikipedia.org/wiki/Unicode). \n",
    "* The [Unicode standard](https://en.wikipedia.org/wiki/Unicode) encodes approximately 1.1 million possible characters, the first `128` of which are the same as the original `ASCII` set. [Unicode](https://en.wikipedia.org/wiki/Unicode) characters, which use up to 4$\\times$bytes (32-bits) of storage per character, are indexed using the `base 16` (hexadecimal) number systems. Today, there are approximately `150,000` characters in Unicode."
   ]
  },
  {
   "cell_type": "markdown",
   "id": "4e69809c-3ef1-4393-afdd-ee47c9c4a7c8",
   "metadata": {
    "jp-MarkdownHeadingCollapsed": true
   },
   "source": [
    "## Setup\n",
    "Let's load some `external packages`, i.e., code that other people have made available to the world, using the [Julia package manager](https://docs.julialang.org/en/v1/stdlib/Pkg/) (which we'll explore in a few lectures from now):"
   ]
  },
  {
   "cell_type": "code",
   "execution_count": 1,
   "id": "6bb5eb16-6d58-480d-8103-062628d3e484",
   "metadata": {},
   "outputs": [
    {
     "name": "stderr",
     "output_type": "stream",
     "text": [
      "\u001b[32m\u001b[1m   Resolving\u001b[22m\u001b[39m package versions...\n",
      "\u001b[32m\u001b[1m  No Changes\u001b[22m\u001b[39m to `~/Desktop/julia_work/CHEME-4800-5800-Examples-AY-2024/week-1/Project.toml`\n",
      "\u001b[32m\u001b[1m  No Changes\u001b[22m\u001b[39m to `~/Desktop/julia_work/CHEME-4800-5800-Examples-AY-2024/week-1/Manifest.toml`\n",
      "\u001b[32m\u001b[1m   Resolving\u001b[22m\u001b[39m package versions...\n",
      "\u001b[32m\u001b[1m  No Changes\u001b[22m\u001b[39m to `~/Desktop/julia_work/CHEME-4800-5800-Examples-AY-2024/week-1/Project.toml`\n",
      "\u001b[32m\u001b[1m  No Changes\u001b[22m\u001b[39m to `~/Desktop/julia_work/CHEME-4800-5800-Examples-AY-2024/week-1/Manifest.toml`\n"
     ]
    }
   ],
   "source": [
    "# add -\n",
    "using Pkg;\n",
    "Pkg.add(\"DataFrames\");\n",
    "Pkg.add(\"PrettyTables\");"
   ]
  },
  {
   "cell_type": "code",
   "execution_count": 2,
   "id": "b8709aa1-a486-46a8-86da-67bc15b8b0ad",
   "metadata": {},
   "outputs": [],
   "source": [
    "# use -\n",
    "using DataFrames\n",
    "using PrettyTables\n",
    "using Unicode"
   ]
  },
  {
   "cell_type": "markdown",
   "id": "4251af60-dc2e-4093-82af-e40d52483ab4",
   "metadata": {},
   "source": [
    "## ASCII Characters\n",
    "Let's start by considering the representation of the characters in the `ASCII` character system. The original `ASCII` characters are encoded as the first `128` characters (`0`$\\rightarrow$`127`) in the modern [Unicode system](https://en.wikipedia.org/wiki/Unicode). \n",
    "* Let's look at what the `ASCII` characters are. We'll do this using a `for` loop and the [convert function](https://docs.julialang.org/en/v1/base/base/#Base.convert), where we push items into a [DataFrame](https://dataframes.juliadata.org/stable/), and display using the `pretty_table(...)` function exported by the [PrettyTables.jl package](https://github.com/ronisbr/PrettyTables.jl)"
   ]
  },
  {
   "cell_type": "code",
   "execution_count": 3,
   "id": "35d57de2-f90e-4cc9-af27-d488a22ad1fe",
   "metadata": {},
   "outputs": [
    {
     "name": "stdout",
     "output_type": "stream",
     "text": [
      "======== ============\n",
      " \u001b[1m     i \u001b[0m \u001b[1m character \u001b[0m\n",
      " \u001b[90m Int64 \u001b[0m \u001b[90m      Char \u001b[0m\n",
      "======== ============\n",
      "      0          \\0\n",
      "      1        \\x01\n",
      "      2        \\x02\n",
      "      3        \\x03\n",
      "      4        \\x04\n",
      "      5        \\x05\n",
      "      6        \\x06\n",
      "      7          \\a\n",
      "      8          \\b\n",
      "      9          \\t\n",
      "     10          \\n\n",
      "     11          \\v\n",
      "     12          \\f\n",
      "     13          \\r\n",
      "     14        \\x0e\n",
      "     15        \\x0f\n",
      "     16        \\x10\n",
      "     17        \\x11\n",
      "     18        \\x12\n",
      "     19        \\x13\n",
      "     20        \\x14\n",
      "     21        \\x15\n",
      "     22        \\x16\n",
      "     23        \\x17\n",
      "     24        \\x18\n",
      "     25        \\x19\n",
      "     26        \\x1a\n",
      "     27          \\e\n",
      "     28        \\x1c\n",
      "     29        \\x1d\n",
      "     30        \\x1e\n",
      "     31        \\x1f\n",
      "     32\n",
      "     33           !\n",
      "     34           \"\n",
      "     35           #\n",
      "     36           $\n",
      "     37           %\n",
      "     38           &\n",
      "     39           '\n",
      "     40           (\n",
      "     41           )\n",
      "     42           *\n",
      "     43           +\n",
      "     44           ,\n",
      "     45           -\n",
      "     46           .\n",
      "     47           /\n",
      "     48           0\n",
      "     49           1\n",
      "     50           2\n",
      "     51           3\n",
      "     52           4\n",
      "     53           5\n",
      "     54           6\n",
      "     55           7\n",
      "     56           8\n",
      "     57           9\n",
      "     58           :\n",
      "     59           ;\n",
      "     60           <\n",
      "     61           =\n",
      "     62           >\n",
      "     63           ?\n",
      "     64           @\n",
      "     65           A\n",
      "     66           B\n",
      "     67           C\n",
      "     68           D\n",
      "     69           E\n",
      "     70           F\n",
      "     71           G\n",
      "     72           H\n",
      "     73           I\n",
      "     74           J\n",
      "     75           K\n",
      "     76           L\n",
      "     77           M\n",
      "     78           N\n",
      "     79           O\n",
      "     80           P\n",
      "     81           Q\n",
      "     82           R\n",
      "     83           S\n",
      "     84           T\n",
      "     85           U\n",
      "     86           V\n",
      "     87           W\n",
      "     88           X\n",
      "     89           Y\n",
      "     90           Z\n",
      "     91           [\n",
      "     92          \\\\\n",
      "     93           ]\n",
      "     94           ^\n",
      "     95           _\n",
      "     96           `\n",
      "     97           a\n",
      "     98           b\n",
      "     99           c\n",
      "    100           d\n",
      "    101           e\n",
      "    102           f\n",
      "    103           g\n",
      "    104           h\n",
      "    105           i\n",
      "    106           j\n",
      "    107           k\n",
      "    108           l\n",
      "    109           m\n",
      "    110           n\n",
      "    111           o\n",
      "    112           p\n",
      "    113           q\n",
      "    114           r\n",
      "    115           s\n",
      "    116           t\n",
      "    117           u\n",
      "    118           v\n",
      "    119           w\n",
      "    120           x\n",
      "    121           y\n",
      "    122           z\n",
      "    123           {\n",
      "    124           |\n",
      "    125           }\n",
      "    126           ~\n",
      "    127        \\x7f\n",
      "======== ============\n"
     ]
    }
   ],
   "source": [
    "ASCII_character_range = range(0,stop=127,step=1) |> collect; # what is going on here?\n",
    "character_table_df = DataFrame();\n",
    "for i ∈ eachindex(ASCII_character_range)\n",
    "    my_ascii_char_index = ASCII_character_range[i];\n",
    "    c = convert(Char,my_ascii_char_index) # hmmm. This is an interesting function.\n",
    "\n",
    "    row = (\n",
    "        i = my_ascii_char_index,\n",
    "        character = c\n",
    "    );\n",
    "\n",
    "    push!(character_table_df,row);\n",
    "end\n",
    "pretty_table(character_table_df, tf=tf_simple)"
   ]
  },
  {
   "cell_type": "markdown",
   "id": "36a0d0be-e640-42d1-9ff9-e289bedbbc37",
   "metadata": {},
   "source": [
    "We explicitly called the [convert function](https://docs.julialang.org/en/v1/manual/conversion-and-promotion/) to convert an `Int` to a `Char` type. However, this was unnecessary, as `Julia` (and most modern languages) will automatically try to understand what you type (and do conversions for you if it can). For example:"
   ]
  },
  {
   "cell_type": "code",
   "execution_count": 5,
   "id": "89cfafc4-c1f7-48f1-8ff5-1dd53507dc14",
   "metadata": {},
   "outputs": [
    {
     "data": {
      "text/plain": [
       "99"
      ]
     },
     "execution_count": 5,
     "metadata": {},
     "output_type": "execute_result"
    }
   ],
   "source": [
    "'c' |> Int # wow. this seems a little magical. What is actually going on here?? (notice the single quotes)"
   ]
  },
  {
   "cell_type": "code",
   "execution_count": 6,
   "id": "44398d68-37cd-4ea9-8bd4-b74dc61ca765",
   "metadata": {},
   "outputs": [
    {
     "data": {
      "text/plain": [
       "99"
      ]
     },
     "execution_count": 6,
     "metadata": {},
     "output_type": "execute_result"
    }
   ],
   "source": [
    "Int('c') # we can convert between ASCII characters and Int! "
   ]
  },
  {
   "cell_type": "code",
   "execution_count": 23,
   "id": "157298a0-1fec-4425-b9d2-729ea9c29ffd",
   "metadata": {},
   "outputs": [
    {
     "data": {
      "text/plain": [
       "'c': ASCII/Unicode U+0063 (category Ll: Letter, lowercase)"
      ]
     },
     "execution_count": 23,
     "metadata": {},
     "output_type": "execute_result"
    }
   ],
   "source": [
    "Char(99)"
   ]
  },
  {
   "cell_type": "markdown",
   "id": "728ca4af-60d5-47d0-9797-0090c8e80de2",
   "metadata": {},
   "source": [
    "## Unicode Characters\n",
    "The `ASCII` character set has only `128` characters (lower and uppercase `English-language` characters, some mathematical symbols, and numbers). The modern [Unicode system](https://en.wikipedia.org/wiki/Unicode) currently encodes approximately `150,000` characters in many languages, a much larger family of mathematical symbols, and [emoji](https://en.wikipedia.org/wiki/Emoji) of all sorts. \n",
    "* The [Unicode system](https://en.wikipedia.org/wiki/Unicode) indexes characters using `base 16` numbers. `Julia` has [built-in Unicode support in the standard library](https://docs.julialang.org/en/v1/stdlib/Unicode/#Unicode); thus, we can work with these characters in our programs.\n",
    "* For more information on the specific `Unicode primitives` supported by Julia, check out the [Julia documentation](https://docs.julialang.org/en/v1/manual/unicode-input/).\n",
    "\n",
    "Let's do some math with `emojis` (not really that important, but fun):"
   ]
  },
  {
   "cell_type": "code",
   "execution_count": 7,
   "id": "ff2f4e2e-fb82-4714-8cb5-226053a958e4",
   "metadata": {},
   "outputs": [],
   "source": [
    "🌽 = 16; # corn = 16 \\:corn:\n",
    "🍣 = 4; # sushi = 4 \\:sushi:"
   ]
  },
  {
   "cell_type": "code",
   "execution_count": 8,
   "id": "422855e5-61ba-4a83-b5fc-071c584dea19",
   "metadata": {},
   "outputs": [
    {
     "data": {
      "text/plain": [
       "20"
      ]
     },
     "execution_count": 8,
     "metadata": {},
     "output_type": "execute_result"
    }
   ],
   "source": [
    "🌽 + 🍣"
   ]
  },
  {
   "cell_type": "code",
   "execution_count": 9,
   "id": "3f375b74-edb8-48bc-9563-bb0ed097dd56",
   "metadata": {},
   "outputs": [
    {
     "data": {
      "text/plain": [
       "64"
      ]
     },
     "execution_count": 9,
     "metadata": {},
     "output_type": "execute_result"
    }
   ],
   "source": [
    "🌽 * 🍣"
   ]
  },
  {
   "cell_type": "markdown",
   "id": "12fb5aac-957a-455d-a07b-cbbe9f5a81b3",
   "metadata": {},
   "source": [
    "Because Julia has built-in support for [Unicode characters](https://en.wikipedia.org/wiki/Unicode), we can use mathematical symbols to write computer code that looks like something we might understand from math. To see what characters are supported in [Julia, check out the Unicode input documentation](https://docs.julialang.org/en/v1/manual/unicode-input/):\n",
    "* For example, consider `x = 4` and `y = 10`. We know that $x\\leq{y}$ would return `true.` Let's write the `less than or equal to` check using [Unicode characters](https://en.wikipedia.org/wiki/Unicode):"
   ]
  },
  {
   "cell_type": "code",
   "execution_count": 10,
   "id": "aacd9e90-5430-4421-b009-63b8cb506d34",
   "metadata": {},
   "outputs": [],
   "source": [
    "x = 4;\n",
    "y = 10;"
   ]
  },
  {
   "cell_type": "code",
   "execution_count": 25,
   "id": "14001e69-3839-48af-b6cf-94c0467d3712",
   "metadata": {},
   "outputs": [
    {
     "data": {
      "text/plain": [
       "false"
      ]
     },
     "execution_count": 25,
     "metadata": {},
     "output_type": "execute_result"
    }
   ],
   "source": [
    "x ≥ y # wow, how did this work? A little fancy, but to get the less than or equal we typed \\leq followed by the tab key"
   ]
  },
  {
   "cell_type": "markdown",
   "id": "77d71948-8663-4bac-acac-da255d0232f6",
   "metadata": {},
   "source": [
    "We can also determine whether an item is in the given collection. For example, assume we have the character set $\\mathbb{C} \\equiv \\left\\{A,B,Q,R,S\\right\\}$. Let's write an expression to check if $c\\in\\mathbb{C}$. \n",
    "* To do this example, let's use the [Set data structure](https://docs.julialang.org/en/v1/base/collections/#Base.Set) in `Julia`. `Sets` are a collection type that holds items, sets are `unique`, but do not maintain order:"
   ]
  },
  {
   "cell_type": "code",
   "execution_count": 30,
   "id": "ad92cd7a-c22f-4eaf-af84-6e5d19a59d89",
   "metadata": {},
   "outputs": [],
   "source": [
    "c = 'Q';"
   ]
  },
  {
   "cell_type": "code",
   "execution_count": 34,
   "id": "62b942e9-20f1-468f-bd44-b2eb7d83bc7d",
   "metadata": {},
   "outputs": [
    {
     "ename": "LoadError",
     "evalue": "ArgumentError: 1 is not a valid key for type Char",
     "output_type": "error",
     "traceback": [
      "ArgumentError: 1 is not a valid key for type Char",
      "",
      "Stacktrace:",
      " [1] setindex!(h::Dict{Char, Nothing}, v0::Nothing, key0::Int64)",
      "   @ Base ./dict.jl:369",
      " [2] push!(s::Set{Char}, x::Int64)",
      "   @ Base ./set.jl:103",
      " [3] top-level scope",
      "   @ In[34]:7"
     ]
    }
   ],
   "source": [
    "C = Set{Char}();\n",
    "push!(C,'A');\n",
    "push!(C,'B');\n",
    "push!(C,'Q');\n",
    "push!(C,'R');\n",
    "push!(C,'S');\n",
    "push!(C,1)"
   ]
  },
  {
   "cell_type": "code",
   "execution_count": 31,
   "id": "0398bea9-2adb-4451-b354-2a229419f8b9",
   "metadata": {},
   "outputs": [
    {
     "data": {
      "text/plain": [
       "true"
      ]
     },
     "execution_count": 31,
     "metadata": {},
     "output_type": "execute_result"
    }
   ],
   "source": [
    "c ∈ C"
   ]
  },
  {
   "cell_type": "markdown",
   "id": "b795ecdb-6894-46e7-b820-e565a08462c1",
   "metadata": {},
   "source": [
    "## Unicode Strings and Codepoints\n",
    "The built-in [Julia `String` type](https://docs.julialang.org/en/v1/base/strings/) can represent text. The `String` class can be thought of similarly to the traditional text model in languages like [C](https://en.wikipedia.org/wiki/C_(programming_language)), namely an ordered collection (array) of `Char` types. However, behind the scenes, the `String` type in `Julia` or `Python` uses a sophisticated `base 16` addressing system composed of `Unicode codepoints`."
   ]
  },
  {
   "cell_type": "code",
   "execution_count": 15,
   "id": "e1c38be6-53c5-45c7-95ec-57087322807e",
   "metadata": {},
   "outputs": [],
   "source": [
    "test_string_ascii = \"Test String in Julia (notice the double quotes). Python uses both single and double quotes for Strings. 😒\";"
   ]
  },
  {
   "cell_type": "code",
   "execution_count": 16,
   "id": "a09f79c5-9bda-4387-97cb-d2d5529eb2f2",
   "metadata": {},
   "outputs": [
    {
     "data": {
      "text/plain": [
       "105-element Vector{Char}:\n",
       " 'T': ASCII/Unicode U+0054 (category Lu: Letter, uppercase)\n",
       " 'e': ASCII/Unicode U+0065 (category Ll: Letter, lowercase)\n",
       " 's': ASCII/Unicode U+0073 (category Ll: Letter, lowercase)\n",
       " 't': ASCII/Unicode U+0074 (category Ll: Letter, lowercase)\n",
       " ' ': ASCII/Unicode U+0020 (category Zs: Separator, space)\n",
       " 'S': ASCII/Unicode U+0053 (category Lu: Letter, uppercase)\n",
       " 't': ASCII/Unicode U+0074 (category Ll: Letter, lowercase)\n",
       " 'r': ASCII/Unicode U+0072 (category Ll: Letter, lowercase)\n",
       " 'i': ASCII/Unicode U+0069 (category Ll: Letter, lowercase)\n",
       " 'n': ASCII/Unicode U+006E (category Ll: Letter, lowercase)\n",
       " 'g': ASCII/Unicode U+0067 (category Ll: Letter, lowercase)\n",
       " ' ': ASCII/Unicode U+0020 (category Zs: Separator, space)\n",
       " 'i': ASCII/Unicode U+0069 (category Ll: Letter, lowercase)\n",
       " ⋮\n",
       " 'r': ASCII/Unicode U+0072 (category Ll: Letter, lowercase)\n",
       " ' ': ASCII/Unicode U+0020 (category Zs: Separator, space)\n",
       " 'S': ASCII/Unicode U+0053 (category Lu: Letter, uppercase)\n",
       " 't': ASCII/Unicode U+0074 (category Ll: Letter, lowercase)\n",
       " 'r': ASCII/Unicode U+0072 (category Ll: Letter, lowercase)\n",
       " 'i': ASCII/Unicode U+0069 (category Ll: Letter, lowercase)\n",
       " 'n': ASCII/Unicode U+006E (category Ll: Letter, lowercase)\n",
       " 'g': ASCII/Unicode U+0067 (category Ll: Letter, lowercase)\n",
       " 's': ASCII/Unicode U+0073 (category Ll: Letter, lowercase)\n",
       " '.': ASCII/Unicode U+002E (category Po: Punctuation, other)\n",
       " ' ': ASCII/Unicode U+0020 (category Zs: Separator, space)\n",
       " '😒': Unicode U+1F612 (category So: Symbol, other)"
      ]
     },
     "execution_count": 16,
     "metadata": {},
     "output_type": "execute_result"
    }
   ],
   "source": [
    "character_array_test_string_ascii = test_string_ascii |> collect"
   ]
  },
  {
   "cell_type": "code",
   "execution_count": 17,
   "id": "5df34eb0-a3cd-4eee-bc11-6b1b19b77db5",
   "metadata": {},
   "outputs": [
    {
     "data": {
      "text/plain": [
       "'μ': Unicode U+03BC (category Ll: Letter, lowercase)"
      ]
     },
     "execution_count": 17,
     "metadata": {},
     "output_type": "execute_result"
    }
   ],
   "source": [
    "Unicode.julia_chartransform('µ') # returns code point value \\mu"
   ]
  },
  {
   "cell_type": "markdown",
   "id": "6ca5b2b4-a774-4ea8-aec8-8eb21251401d",
   "metadata": {},
   "source": [
    "### How do we calculate a `codepoint`?\n",
    "The `codepoint` for `🍣` equals `U+1F363`. Compute the `base 10` index for the Unicode character `🍣`."
   ]
  },
  {
   "cell_type": "markdown",
   "id": "664663e9-22f3-460f-8352-0439262dc37b",
   "metadata": {},
   "source": [
    "#### Solution\n",
    "We can directly calculate the `base 10` index from the `codepoint` by calling the `Unicode.julia_chartransform(...)` function and then converting that value to an `Int`. Let's store this value in the variable `sushi_char_index`:"
   ]
  },
  {
   "cell_type": "code",
   "execution_count": 18,
   "id": "74ebea7c-14c0-42c9-bdb9-969c4e9a7e02",
   "metadata": {},
   "outputs": [
    {
     "data": {
      "text/plain": [
       "127843"
      ]
     },
     "execution_count": 18,
     "metadata": {},
     "output_type": "execute_result"
    }
   ],
   "source": [
    "sushi_char_index = Unicode.julia_chartransform('🍣') |> Int"
   ]
  },
  {
   "cell_type": "markdown",
   "id": "b629e674-8f60-49c4-9341-e728a0ab07e0",
   "metadata": {},
   "source": [
    "Now, let's check this value by going backward: from `base 10` back to the `codepoint.`\n",
    "* Convert the `base 10` value to a `base 16` (hexadecimal) number and then convert that to the [Unicode](https://en.wikipedia.org/wiki/Unicode) index format; [Unicode](https://en.wikipedia.org/wiki/Unicode) indexes left-pad the hexadecimal character value with zeros until a 5-digit code is generated, and then `U+` is appended to the five-digit code.\n",
    "* Hexadecimal numbers use decimal digits and six extra symbols; the decimal values $(0,1,\\dots,9)$, and the letters A, B, C, D, E, and F where hexadecimal A = decimal 10, through hexadecimal F = decimal 15."
   ]
  },
  {
   "cell_type": "code",
   "execution_count": 19,
   "id": "d274587e-df5f-4d18-88da-327ae3f03b52",
   "metadata": {},
   "outputs": [
    {
     "data": {
      "text/plain": [
       "Dict{Int64, Char} with 16 entries:\n",
       "  5  => '5'\n",
       "  12 => 'C'\n",
       "  8  => '8'\n",
       "  1  => '1'\n",
       "  0  => '0'\n",
       "  6  => '6'\n",
       "  11 => 'B'\n",
       "  9  => '9'\n",
       "  14 => 'E'\n",
       "  3  => '3'\n",
       "  7  => '7'\n",
       "  4  => '4'\n",
       "  13 => 'D'\n",
       "  15 => 'F'\n",
       "  2  => '2'\n",
       "  10 => 'A'"
      ]
     },
     "execution_count": 19,
     "metadata": {},
     "output_type": "execute_result"
    }
   ],
   "source": [
    "hexidecimal_digits_dictionary = Dict{Int,Char}()\n",
    "for i ∈ 0:15\n",
    "    hexidecimal_digits_dictionary[i] = '0' + i |> Char # hmmm: this is whacky; why does this work?\n",
    "    if (i>9)\n",
    "        hexidecimal_digits_dictionary[i] = 'A' + (i - 10) |> Char\n",
    "    end\n",
    "end\n",
    "hexidecimal_digits_dictionary"
   ]
  },
  {
   "cell_type": "markdown",
   "id": "25e510e2-0730-4419-ac56-317386539a2a",
   "metadata": {},
   "source": [
    "__Approach__:\n",
    "* Step 1: Divide the given decimal number by 16 and write down the quotient and remainder\n",
    "* Step 2: Divide the previous quotient by 16 and write down the quotient and remainder\n",
    "* Step 3: Repeat steps 1 and 2 until the quotient equals zero.\n",
    "* Step 4: Map all the remainder values to their corresponding hexadecimal equivalents \n",
    "* Step 5: Starting with the last value and moving to the first, write each of the hexadecimal values"
   ]
  },
  {
   "cell_type": "code",
   "execution_count": 20,
   "id": "350bf0aa-4a81-4560-9a24-6dd4e69a5e05",
   "metadata": {},
   "outputs": [],
   "source": [
    "q = sushi_char_index; \n",
    "remainder_array = Array{Int64,1}();\n",
    "while (q != 0)\n",
    "    r = rem(q,16)\n",
    "    q = div(q,16)\n",
    "    push!(remainder_array,r)\n",
    "end"
   ]
  },
  {
   "cell_type": "code",
   "execution_count": 21,
   "id": "f0b555da-99d1-4d34-8bbd-7dbb69e89ea5",
   "metadata": {},
   "outputs": [
    {
     "data": {
      "text/plain": [
       "\"U+1F363\""
      ]
     },
     "execution_count": 21,
     "metadata": {},
     "output_type": "execute_result"
    }
   ],
   "source": [
    "my_code_point = \"\";\n",
    "for i ∈ reverse(remainder_array)\n",
    "    tmp = hexidecimal_digits_dictionary[i];\n",
    "    my_code_point *= tmp |> Char;\n",
    "end\n",
    "\n",
    "# left pad with zeros to get a 4-digit code\n",
    "my_code_point = lpad(my_code_point, 5, '0') |> x-> \"U+\"*x"
   ]
  },
  {
   "cell_type": "code",
   "execution_count": null,
   "id": "6ac20912-f893-419f-b1de-3537d212ec60",
   "metadata": {},
   "outputs": [],
   "source": []
  }
 ],
 "metadata": {
  "kernelspec": {
   "display_name": "Julia 1.10.0",
   "language": "julia",
   "name": "julia-1.10"
  },
  "language_info": {
   "file_extension": ".jl",
   "mimetype": "application/julia",
   "name": "julia",
   "version": "1.10.0"
  }
 },
 "nbformat": 4,
 "nbformat_minor": 5
}
