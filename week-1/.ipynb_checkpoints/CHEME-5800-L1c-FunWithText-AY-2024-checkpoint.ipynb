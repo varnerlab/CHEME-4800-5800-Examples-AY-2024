{
 "cells": [
  {
   "cell_type": "markdown",
   "id": "cee65593-795a-42ad-b14a-89917072a5af",
   "metadata": {},
   "source": [
    "# Example: Fun with Text, Strings and Characters\n",
    "Textual data on a computer is represented as the `String` data type. `Strings` in languages such as [C](https://en.wikipedia.org/wiki/C_(programming_language)) were modeled as a sequence of characters, where each character was type `Char.` \n",
    "* Characters were represented via the [American Standard Code for Information Interchange (ASCII) system](https://en.wikipedia.org/wiki/ASCII), which was a set of `7-bit` teleprinter codes for the [AT&T](https://www.att.com) Teletypewriter exchange (TWX) network. For example, the character `A` in the ASCII system has an index of `65`.\n",
    "* Later, `8-bit` character mappings were developed, i.e., the so-called [extended ASCII systems](https://en.wikipedia.org/wiki/Extended_ASCII), which had $0,\\dots,255$ possible character values.\n",
    "\n",
    "However, some of this remains true today, while other things are very different. For example, modern languages have sophisticated built-in `String` types constructed using the [Unicode](https://en.wikipedia.org/wiki/Unicode) character set. \n",
    "* The [Unicode standard](https://en.wikipedia.org/wiki/Unicode) encodes approximately 1.1 million possible characters, the first `128` of which are the same as the original `ASCII` set. [Unicode](https://en.wikipedia.org/wiki/Unicode) characters, which use up to 4$\\times$bytes (32-bits) of storage per character, are indexed using the `base 16` (hexadecimal) number systems."
   ]
  },
  {
   "cell_type": "markdown",
   "id": "4e69809c-3ef1-4393-afdd-ee47c9c4a7c8",
   "metadata": {
    "jp-MarkdownHeadingCollapsed": true
   },
   "source": [
    "## Setup\n",
    "Let's load some `external packages`, i.e., code that other people have made available to the world, using the [Julia package manager](https://docs.julialang.org/en/v1/stdlib/Pkg/) (which we'll explore in a few lectures from now):"
   ]
  },
  {
   "cell_type": "code",
   "execution_count": 1,
   "id": "6bb5eb16-6d58-480d-8103-062628d3e484",
   "metadata": {},
   "outputs": [
    {
     "name": "stderr",
     "output_type": "stream",
     "text": [
      "\u001b[32m\u001b[1m   Resolving\u001b[22m\u001b[39m package versions...\n",
      "\u001b[32m\u001b[1m  No Changes\u001b[22m\u001b[39m to `~/Desktop/julia_work/CHEME-4800-5800-Examples-AY-2024/week-1/Project.toml`\n",
      "\u001b[32m\u001b[1m  No Changes\u001b[22m\u001b[39m to `~/Desktop/julia_work/CHEME-4800-5800-Examples-AY-2024/week-1/Manifest.toml`\n",
      "\u001b[32m\u001b[1m   Resolving\u001b[22m\u001b[39m package versions...\n",
      "\u001b[32m\u001b[1m  No Changes\u001b[22m\u001b[39m to `~/Desktop/julia_work/CHEME-4800-5800-Examples-AY-2024/week-1/Project.toml`\n",
      "\u001b[32m\u001b[1m  No Changes\u001b[22m\u001b[39m to `~/Desktop/julia_work/CHEME-4800-5800-Examples-AY-2024/week-1/Manifest.toml`\n"
     ]
    }
   ],
   "source": [
    "# add -\n",
    "using Pkg;\n",
    "Pkg.add(\"DataFrames\");\n",
    "Pkg.add(\"PrettyTables\");"
   ]
  },
  {
   "cell_type": "code",
   "execution_count": 2,
   "id": "b8709aa1-a486-46a8-86da-67bc15b8b0ad",
   "metadata": {},
   "outputs": [],
   "source": [
    "# use -\n",
    "using DataFrames\n",
    "using PrettyTables"
   ]
  },
  {
   "cell_type": "markdown",
   "id": "4251af60-dc2e-4093-82af-e40d52483ab4",
   "metadata": {},
   "source": [
    "## ASCII Characters\n",
    "Let's start by considering the representation of the characters in the `ASCII` character system. The original `ASCII` characters are encoded as the first `128` characters (`0`$\\rightarrow$`127`) in the modern [Unicode system](https://en.wikipedia.org/wiki/Unicode). Let's look at what they are:"
   ]
  },
  {
   "cell_type": "code",
   "execution_count": 9,
   "id": "35d57de2-f90e-4cc9-af27-d488a22ad1fe",
   "metadata": {},
   "outputs": [
    {
     "name": "stdout",
     "output_type": "stream",
     "text": [
      "======== ============\n",
      " \u001b[1m     i \u001b[0m \u001b[1m character \u001b[0m\n",
      " \u001b[90m Int64 \u001b[0m \u001b[90m      Char \u001b[0m\n",
      "======== ============\n",
      "      0          \\0\n",
      "      1        \\x01\n",
      "      2        \\x02\n",
      "      3        \\x03\n",
      "      4        \\x04\n",
      "      5        \\x05\n",
      "      6        \\x06\n",
      "      7          \\a\n",
      "      8          \\b\n",
      "      9          \\t\n",
      "     10          \\n\n",
      "     11          \\v\n",
      "     12          \\f\n",
      "     13          \\r\n",
      "     14        \\x0e\n",
      "     15        \\x0f\n",
      "     16        \\x10\n",
      "     17        \\x11\n",
      "     18        \\x12\n",
      "     19        \\x13\n",
      "     20        \\x14\n",
      "     21        \\x15\n",
      "     22        \\x16\n",
      "     23        \\x17\n",
      "     24        \\x18\n",
      "     25        \\x19\n",
      "     26        \\x1a\n",
      "     27          \\e\n",
      "     28        \\x1c\n",
      "     29        \\x1d\n",
      "     30        \\x1e\n",
      "     31        \\x1f\n",
      "     32\n",
      "     33           !\n",
      "     34           \"\n",
      "     35           #\n",
      "     36           $\n",
      "     37           %\n",
      "     38           &\n",
      "     39           '\n",
      "     40           (\n",
      "     41           )\n",
      "     42           *\n",
      "     43           +\n",
      "     44           ,\n",
      "     45           -\n",
      "     46           .\n",
      "     47           /\n",
      "     48           0\n",
      "     49           1\n",
      "     50           2\n",
      "     51           3\n",
      "     52           4\n",
      "     53           5\n",
      "     54           6\n",
      "     55           7\n",
      "     56           8\n",
      "     57           9\n",
      "     58           :\n",
      "     59           ;\n",
      "     60           <\n",
      "     61           =\n",
      "     62           >\n",
      "     63           ?\n",
      "     64           @\n",
      "     65           A\n",
      "     66           B\n",
      "     67           C\n",
      "     68           D\n",
      "     69           E\n",
      "     70           F\n",
      "     71           G\n",
      "     72           H\n",
      "     73           I\n",
      "     74           J\n",
      "     75           K\n",
      "     76           L\n",
      "     77           M\n",
      "     78           N\n",
      "     79           O\n",
      "     80           P\n",
      "     81           Q\n",
      "     82           R\n",
      "     83           S\n",
      "     84           T\n",
      "     85           U\n",
      "     86           V\n",
      "     87           W\n",
      "     88           X\n",
      "     89           Y\n",
      "     90           Z\n",
      "     91           [\n",
      "     92          \\\\\n",
      "     93           ]\n",
      "     94           ^\n",
      "     95           _\n",
      "     96           `\n",
      "     97           a\n",
      "     98           b\n",
      "     99           c\n",
      "    100           d\n",
      "    101           e\n",
      "    102           f\n",
      "    103           g\n",
      "    104           h\n",
      "    105           i\n",
      "    106           j\n",
      "    107           k\n",
      "    108           l\n",
      "    109           m\n",
      "    110           n\n",
      "    111           o\n",
      "    112           p\n",
      "    113           q\n",
      "    114           r\n",
      "    115           s\n",
      "    116           t\n",
      "    117           u\n",
      "    118           v\n",
      "    119           w\n",
      "    120           x\n",
      "    121           y\n",
      "    122           z\n",
      "    123           {\n",
      "    124           |\n",
      "    125           }\n",
      "    126           ~\n",
      "    127        \\x7f\n",
      "======== ============\n"
     ]
    }
   ],
   "source": [
    "ASCII_character_range = range(0,stop=127,step=1) |> collect; # what is going on here?\n",
    "character_table_df = DataFrame();\n",
    "for i ∈ eachindex(ASCII_character_range)\n",
    "    my_ascii_char_index = ASCII_character_range[i];\n",
    "    c = convert(Char,my_ascii_char_index) # hmmm. This is an interesting function.\n",
    "\n",
    "    row = (\n",
    "        i = my_ascii_char_index,\n",
    "        character = c\n",
    "    );\n",
    "\n",
    "    push!(character_table_df,row);\n",
    "end\n",
    "pretty_table(character_table_df, tf=tf_simple)"
   ]
  },
  {
   "cell_type": "markdown",
   "id": "36a0d0be-e640-42d1-9ff9-e289bedbbc37",
   "metadata": {},
   "source": [
    "We explicitly called the [convert function](https://docs.julialang.org/en/v1/manual/conversion-and-promotion/) to convert an `Int` to a `Char` type. However, this was unnecessary, as `Julia` (and most modern languages) will automatically try to understand what you type. For example:"
   ]
  },
  {
   "cell_type": "code",
   "execution_count": 12,
   "id": "89cfafc4-c1f7-48f1-8ff5-1dd53507dc14",
   "metadata": {},
   "outputs": [
    {
     "data": {
      "text/plain": [
       "99"
      ]
     },
     "execution_count": 12,
     "metadata": {},
     "output_type": "execute_result"
    }
   ],
   "source": [
    "'c' |> Int # wow. this seems a little magical. what is actually going on here??"
   ]
  },
  {
   "cell_type": "code",
   "execution_count": 4,
   "id": "44398d68-37cd-4ea9-8bd4-b74dc61ca765",
   "metadata": {},
   "outputs": [
    {
     "data": {
      "text/plain": [
       "99"
      ]
     },
     "execution_count": 4,
     "metadata": {},
     "output_type": "execute_result"
    }
   ],
   "source": [
    "Int('c') # we can convert between ASCII characters and Int! "
   ]
  },
  {
   "cell_type": "markdown",
   "id": "728ca4af-60d5-47d0-9797-0090c8e80de2",
   "metadata": {},
   "source": [
    "## Unicode Characters\n",
    "The `ASCII` character set has only `128` characters (lower and uppercase `English-language` characters, some mathematical symbols, and numbers). The modern [Unicode system](https://en.wikipedia.org/wiki/Unicode) currently encodes approximately `150,000` characters in many languages, a much larger family of mathematical symbols, and [emoji](https://en.wikipedia.org/wiki/Emoji) of all sorts. \n",
    "* The [Unicode systen](https://en.wikipedia.org/wiki/Unicode) indexes characters using `base 16` numbers. `Julia` has [built-in Unicode support in the standard library](https://docs.julialang.org/en/v1/stdlib/Unicode/#Unicode); thus, we can work with these characters in our programs.\n",
    "* For more information on the specific `Unicode primitives` supported by Julia, check out the [Julia documentation](https://docs.julialang.org/en/v1/manual/unicode-input/).\n",
    "\n",
    "Let's do some math with `emojis`"
   ]
  },
  {
   "cell_type": "code",
   "execution_count": 8,
   "id": "ff2f4e2e-fb82-4714-8cb5-226053a958e4",
   "metadata": {},
   "outputs": [
    {
     "data": {
      "text/plain": [
       "3"
      ]
     },
     "execution_count": 8,
     "metadata": {},
     "output_type": "execute_result"
    },
    {
     "ename": "BoundsError",
     "evalue": "BoundsError: attempt to access 34-codeunit String at index [1:35]",
     "output_type": "error",
     "traceback": [
      "KERNEL EXCEPTION",
      "BoundsError: attempt to access 34-codeunit String at index [1:35]",
      "",
      "Stacktrace:",
      " [1] checkbounds",
      "   @ Base ./strings/basic.jl:216 [inlined]",
      " [2] getindex(s::String, r::UnitRange{Int64})",
      "   @ Base ./strings/string.jl:468",
      " [3] complete_request(socket::ZMQ.Socket, msg::IJulia.Msg)",
      "   @ IJulia ~/.julia/packages/IJulia/Vo51o/src/handlers.jl:115",
      " [4] #invokelatest#2",
      "   @ ./essentials.jl:887 [inlined]",
      " [5] invokelatest",
      "   @ ./essentials.jl:884 [inlined]",
      " [6] eventloop(socket::ZMQ.Socket)",
      "   @ IJulia ~/.julia/packages/IJulia/Vo51o/src/eventloop.jl:8",
      " [7] (::IJulia.var\"#15#18\")()",
      "   @ IJulia ~/.julia/packages/IJulia/Vo51o/src/eventloop.jl:38"
     ]
    }
   ],
   "source": [
    "🌽 = 16; # corn = 16"
   ]
  },
  {
   "cell_type": "code",
   "execution_count": null,
   "id": "422855e5-61ba-4a83-b5fc-071c584dea19",
   "metadata": {},
   "outputs": [],
   "source": []
  }
 ],
 "metadata": {
  "kernelspec": {
   "display_name": "Julia 1.10.0",
   "language": "julia",
   "name": "julia-1.10"
  },
  "language_info": {
   "file_extension": ".jl",
   "mimetype": "application/julia",
   "name": "julia",
   "version": "1.10.0"
  }
 },
 "nbformat": 4,
 "nbformat_minor": 5
}
