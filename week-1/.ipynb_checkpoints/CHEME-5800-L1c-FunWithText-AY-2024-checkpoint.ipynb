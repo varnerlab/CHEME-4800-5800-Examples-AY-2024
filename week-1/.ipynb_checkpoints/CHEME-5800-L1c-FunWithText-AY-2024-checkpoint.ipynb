{
 "cells": [
  {
   "cell_type": "markdown",
   "id": "cee65593-795a-42ad-b14a-89917072a5af",
   "metadata": {},
   "source": [
    "# Example: Fun with Text, Strings and Characters\n",
    "Textual data on a computer is represented as the `String` data type. `Strings` in languages such as [C](https://en.wikipedia.org/wiki/C_(programming_language)) were modeled as a sequence of characters, where each character was type `Char.` \n",
    "* Characters were represented via the [American Standard Code for Information Interchange (ASCII) system](https://en.wikipedia.org/wiki/ASCII), which was a set of `7-bit` teleprinter codes for the [AT&T](https://www.att.com) Teletypewriter exchange (TWX) network. For example, the character `A` in the ASCII system has an index of `65`.\n",
    "* Later, `8-bit` character mappings were developed, i.e., the so-called [extended ASCII systems](https://en.wikipedia.org/wiki/Extended_ASCII), which had $0,\\dots,255$ possible character values.\n",
    "\n",
    "However, some of this remains true today, while other things are very different. For example, modern languages have sophisticated built-in `String` types constructed using the [Unicode](https://en.wikipedia.org/wiki/Unicode) character set. \n",
    "* The [Unicode standard](https://en.wikipedia.org/wiki/Unicode) encodes approximately 1.1 million possible characters, the first `128` of which are the same as the original `ASCII` set. [Unicode](https://en.wikipedia.org/wiki/Unicode) characters, which use up to 4$\\times$bytes (32-bits) of storage per character, are indexed using the `base 16` (hexadecimal) number systems."
   ]
  },
  {
   "cell_type": "markdown",
   "id": "4e69809c-3ef1-4393-afdd-ee47c9c4a7c8",
   "metadata": {},
   "source": [
    "## Setup\n",
    "Let's load some `external packages`, i.e., code that other people have made available to the world, using the [Julia package manager](https://docs.julialang.org/en/v1/stdlib/Pkg/) (which we'll explore in a few lectures from now):"
   ]
  },
  {
   "cell_type": "code",
   "execution_count": 1,
   "id": "6bb5eb16-6d58-480d-8103-062628d3e484",
   "metadata": {},
   "outputs": [
    {
     "name": "stderr",
     "output_type": "stream",
     "text": [
      "\u001b[32m\u001b[1m   Resolving\u001b[22m\u001b[39m package versions...\n",
      "\u001b[32m\u001b[1m  No Changes\u001b[22m\u001b[39m to `~/Desktop/julia_work/CHEME-4800-5800-Examples-AY-2024/week-1/Project.toml`\n",
      "\u001b[32m\u001b[1m  No Changes\u001b[22m\u001b[39m to `~/Desktop/julia_work/CHEME-4800-5800-Examples-AY-2024/week-1/Manifest.toml`\n",
      "\u001b[32m\u001b[1m   Resolving\u001b[22m\u001b[39m package versions...\n",
      "\u001b[32m\u001b[1m  No Changes\u001b[22m\u001b[39m to `~/Desktop/julia_work/CHEME-4800-5800-Examples-AY-2024/week-1/Project.toml`\n",
      "\u001b[32m\u001b[1m  No Changes\u001b[22m\u001b[39m to `~/Desktop/julia_work/CHEME-4800-5800-Examples-AY-2024/week-1/Manifest.toml`\n"
     ]
    }
   ],
   "source": [
    "# add -\n",
    "using Pkg;\n",
    "Pkg.add(\"DataFrames\");\n",
    "Pkg.add(\"PrettyTables\");"
   ]
  },
  {
   "cell_type": "code",
   "execution_count": 2,
   "id": "b8709aa1-a486-46a8-86da-67bc15b8b0ad",
   "metadata": {},
   "outputs": [],
   "source": [
    "# use -\n",
    "using DataFrames\n",
    "using PrettyTables"
   ]
  },
  {
   "cell_type": "markdown",
   "id": "4251af60-dc2e-4093-82af-e40d52483ab4",
   "metadata": {},
   "source": [
    "## Characters\n",
    "Let's start by considering the representation of the characters in the `ASCII` character system. The original `ASCII` characters are encoded as the first `128` characters (`0`$\\rightarrow$`127`) in the modern [Unicode](https://en.wikipedia.org/wiki/Unicode) system. Let's look at what they are:"
   ]
  },
  {
   "cell_type": "code",
   "execution_count": 8,
   "id": "35d57de2-f90e-4cc9-af27-d488a22ad1fe",
   "metadata": {
    "jupyter": {
     "source_hidden": true
    }
   },
   "outputs": [
    {
     "name": "stdout",
     "output_type": "stream",
     "text": [
      "======== ============\n",
      " \u001b[1m     i \u001b[0m \u001b[1m character \u001b[0m\n",
      " \u001b[90m Int64 \u001b[0m \u001b[90m      Char \u001b[0m\n",
      "======== ============\n",
      "      0          \\0\n",
      "      1        \\x01\n",
      "      2        \\x02\n",
      "      3        \\x03\n",
      "      4        \\x04\n",
      "      5        \\x05\n",
      "      6        \\x06\n",
      "      7          \\a\n",
      "      8          \\b\n",
      "      9          \\t\n",
      "     10          \\n\n",
      "     11          \\v\n",
      "     12          \\f\n",
      "     13          \\r\n",
      "     14        \\x0e\n",
      "     15        \\x0f\n",
      "     16        \\x10\n",
      "     17        \\x11\n",
      "     18        \\x12\n",
      "     19        \\x13\n",
      "     20        \\x14\n",
      "     21        \\x15\n",
      "     22        \\x16\n",
      "     23        \\x17\n",
      "     24        \\x18\n",
      "     25        \\x19\n",
      "     26        \\x1a\n",
      "     27          \\e\n",
      "     28        \\x1c\n",
      "     29        \\x1d\n",
      "     30        \\x1e\n",
      "     31        \\x1f\n",
      "     32\n",
      "     33           !\n",
      "     34           \"\n",
      "     35           #\n",
      "     36           $\n",
      "     37           %\n",
      "     38           &\n",
      "     39           '\n",
      "     40           (\n",
      "     41           )\n",
      "     42           *\n",
      "     43           +\n",
      "     44           ,\n",
      "     45           -\n",
      "     46           .\n",
      "     47           /\n",
      "     48           0\n",
      "     49           1\n",
      "     50           2\n",
      "     51           3\n",
      "     52           4\n",
      "     53           5\n",
      "     54           6\n",
      "     55           7\n",
      "     56           8\n",
      "     57           9\n",
      "     58           :\n",
      "     59           ;\n",
      "     60           <\n",
      "     61           =\n",
      "     62           >\n",
      "     63           ?\n",
      "     64           @\n",
      "     65           A\n",
      "     66           B\n",
      "     67           C\n",
      "     68           D\n",
      "     69           E\n",
      "     70           F\n",
      "     71           G\n",
      "     72           H\n",
      "     73           I\n",
      "     74           J\n",
      "     75           K\n",
      "     76           L\n",
      "     77           M\n",
      "     78           N\n",
      "     79           O\n",
      "     80           P\n",
      "     81           Q\n",
      "     82           R\n",
      "     83           S\n",
      "     84           T\n",
      "     85           U\n",
      "     86           V\n",
      "     87           W\n",
      "     88           X\n",
      "     89           Y\n",
      "     90           Z\n",
      "     91           [\n",
      "     92          \\\\\n",
      "     93           ]\n",
      "     94           ^\n",
      "     95           _\n",
      "     96           `\n",
      "     97           a\n",
      "     98           b\n",
      "     99           c\n",
      "    100           d\n",
      "    101           e\n",
      "    102           f\n",
      "    103           g\n",
      "    104           h\n",
      "    105           i\n",
      "    106           j\n",
      "    107           k\n",
      "    108           l\n",
      "    109           m\n",
      "    110           n\n",
      "    111           o\n",
      "    112           p\n",
      "    113           q\n",
      "    114           r\n",
      "    115           s\n",
      "    116           t\n",
      "    117           u\n",
      "    118           v\n",
      "    119           w\n",
      "    120           x\n",
      "    121           y\n",
      "    122           z\n",
      "    123           {\n",
      "    124           |\n",
      "    125           }\n",
      "    126           ~\n",
      "    127        \\x7f\n",
      "======== ============\n"
     ]
    }
   ],
   "source": [
    "ASCII_character_range = range(0,stop=127,step=1) |> collect; # what is going on here?\n",
    "character_table_df = DataFrame();\n",
    "for i ∈ eachindex(ASCII_character_range)\n",
    "    my_ascii_char_index = ASCII_character_range[i];\n",
    "    c = convert(Char,my_ascii_char_index)\n",
    "\n",
    "    row = (\n",
    "        i = my_ascii_char_index,\n",
    "        character = c\n",
    "    );\n",
    "\n",
    "    push!(character_table_df,row);\n",
    "end\n",
    "pretty_table(character_table_df, tf=tf_simple)"
   ]
  },
  {
   "cell_type": "code",
   "execution_count": null,
   "id": "115c1afe-8beb-4060-b36a-9867ed65865d",
   "metadata": {},
   "outputs": [],
   "source": []
  }
 ],
 "metadata": {
  "kernelspec": {
   "display_name": "Julia 1.10.0",
   "language": "julia",
   "name": "julia-1.10"
  },
  "language_info": {
   "file_extension": ".jl",
   "mimetype": "application/julia",
   "name": "julia",
   "version": "1.10.0"
  }
 },
 "nbformat": 4,
 "nbformat_minor": 5
}
