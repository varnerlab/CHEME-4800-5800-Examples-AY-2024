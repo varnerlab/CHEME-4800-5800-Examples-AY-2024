{
 "cells": [
  {
   "cell_type": "markdown",
   "id": "fba06ba5-0585-4f6f-849e-3721cb406cb0",
   "metadata": {},
   "source": [
    "# Example: Memory Representation of Floating Point Numbers\n",
    "Floating point numbers $x\\in\\mathbb{R}$ are stored using 4$\\times$bytes (single-precision) or 8$\\times$bytes (double-precision)\n",
    "following the [IEEE-754 standard](https://en.wikipedia.org/wiki/IEEE_754). \n",
    "The components of number $x\\in\\mathbb{R}$ are encoded in different segments of the`32-bit` or `64-bit` word, e.g., for a `64-bit` float:\n",
    "\\begin{equation*}\n",
    "x = -1^{S}\\times{M}\\times{2}^{(E-1023)}\n",
    "\\end{equation*}\n",
    "where $S$ denotes the sign bit, $M$ denotes the mantissa (fraction) and $E$ denotes the exponent.\n",
    "* For a `32-bit` floating point number, $S$ is bit 31 denoted by $b_{31}$, $M$ is encoded in bits $b_0\\rightarrow{b_{22}}$ and $E$ is encoded by bits $b_{23}\\rightarrow{b_{30}}$.\n",
    "* For a `64-bit` floating point number, the sign bit $S$ is $b_{63}$, the mantissa $M$ is the number encoded by bits $b_0\\rightarrow{b_{51}}$, and the exponent $E$ is encoded by bits $b_{52}\\rightarrow{b_{62}}$."
   ]
  },
  {
   "cell_type": "markdown",
   "id": "5808b973-5739-46e9-aa98-9c6b634f733d",
   "metadata": {},
   "source": [
    "Let's specify a `64-bit` floating point number in the variable `floating_point_nunber_example` and then reconstruct that number from the bit pattern:"
   ]
  },
  {
   "cell_type": "code",
   "execution_count": 12,
   "id": "ccbd03bd-4081-463c-8509-23ae8a87967e",
   "metadata": {},
   "outputs": [],
   "source": [
    "floating_point_nunber_example = 2.311898736;"
   ]
  },
  {
   "cell_type": "markdown",
   "id": "7a088698-bd32-49d5-8d38-2043899ad12d",
   "metadata": {},
   "source": [
    "We know we can get the bit pattern by calling the `bitstring(...)` function, but the wrinkle is that `bitstring(...)` returns the bit pattern as a `String.` We'll have to convert the `String` to an array of `0` and `1`, but more on that later."
   ]
  },
  {
   "cell_type": "code",
   "execution_count": 2,
   "id": "fa2d28dc-4c66-405c-a86f-4d68a12068b4",
   "metadata": {},
   "outputs": [
    {
     "data": {
      "text/plain": [
       "\"0100000000000010011111101100010011000011110000011100100011110001\""
      ]
     },
     "execution_count": 2,
     "metadata": {},
     "output_type": "execute_result"
    }
   ],
   "source": [
    "bitstring(floating_point_nunber_example)"
   ]
  },
  {
   "cell_type": "markdown",
   "id": "7e729d09-d59d-491f-840b-3b5dd7728d4c",
   "metadata": {},
   "source": [
    "To understand where to go from here, we need a few things (the following `code` line contains a few advanced things, e.g., working with arrays and `String` and `Char` types, function piping, etc; don't worry too much about these now):\n",
    "* First, we can convert a string into an array, i.e., an ordered list of `Char`s using the [collect function](https://docs.julialang.org/en/v1/base/collections/#Base.collect-Tuple{Type,%20Any}). If we have the `Char` version of `1` or `0`, we can try to convert it into an `Int` using the [parse function](https://docs.julialang.org/en/v1/base/numbers/#Base.parse) in Julia.\n",
    "    * _Aside_: in older languages such as `C,` strings were natively represented as arrays of characters. However, newer languages that include [Unicode character sets](https://en.wikipedia.org/wiki/Unicode) have dedicated `String` types that are more complex. \n",
    "* Next, we can string together commands, i.e., `cmd_1 |> cmd_2` where the output of `cmd_1` is the input into `cmd_2` using the [Julia `|>` piping operator](https://docs.julialang.org/en/v1/manual/functions/#Function-composition-and-piping)"
   ]
  },
  {
   "cell_type": "code",
   "execution_count": 3,
   "id": "f8fce82c-f778-4429-b6b4-e7d1999f9be5",
   "metadata": {},
   "outputs": [
    {
     "data": {
      "text/plain": [
       "64-element Vector{Int64}:\n",
       " 1\n",
       " 0\n",
       " 0\n",
       " 0\n",
       " 1\n",
       " 1\n",
       " 1\n",
       " 1\n",
       " 0\n",
       " 0\n",
       " 0\n",
       " 1\n",
       " 0\n",
       " ⋮\n",
       " 0\n",
       " 0\n",
       " 0\n",
       " 0\n",
       " 0\n",
       " 0\n",
       " 0\n",
       " 0\n",
       " 0\n",
       " 0\n",
       " 1\n",
       " 0"
      ]
     },
     "execution_count": 3,
     "metadata": {},
     "output_type": "execute_result"
    }
   ],
   "source": [
    "bit_pattern_array = bitstring(floating_point_nunber_example) |> collect |> reverse .|> x-> parse(Int,x)"
   ]
  },
  {
   "cell_type": "markdown",
   "id": "3a31b3de-d3f6-4fb4-96c3-41fa4c0c4c1e",
   "metadata": {},
   "source": [
    "`Hack`: fix the `1`-based array issue and introduce an important (and supremely useful) data structure called a [Dictionary](https://docs.julialang.org/en/v1/base/collections/#Base.Dict) that we can use to make a `0`-based array (sort of). We'll copy the `bit_pattern_array` into a dictionary (which we can make `0`-based), called `bit_patten_dictionary`:"
   ]
  },
  {
   "cell_type": "code",
   "execution_count": 4,
   "id": "b6069b0d-9840-4014-9f9c-1f929f45f7fc",
   "metadata": {},
   "outputs": [],
   "source": [
    "bit_patten_dictionary = Dict{Int64,Int64}(); # what are we doing here?\n",
    "for i ∈ eachindex(bit_pattern_array)\n",
    "    bit_patten_dictionary[i-1] = bit_pattern_array[i] # what are we doing here?\n",
    "end\n",
    "bit_patten_dictionary; # what is going on here?"
   ]
  },
  {
   "cell_type": "markdown",
   "id": "5d98f7b8-2c6f-43a2-b4b2-6f48eba7305c",
   "metadata": {},
   "source": [
    "## Sign bit `S`\n",
    "The `sign` bit for a `64-bit` number is in position `63`, i.e., $b_{63}$. Let's look up that value in the `bit_patten_dictionary` and set it equal to the variable `S.` \n",
    "* We need to compute the sign manually because of the weirdness about zero exponents and store this value in the `sign` variable. The default value `sign = 1` (positive). However, if the `sign` bit is `1`, i.e., $b_{63} = 1$, we set `sign = -1` (negative)."
   ]
  },
  {
   "cell_type": "code",
   "execution_count": 5,
   "id": "5ef5b747-59d8-466c-971c-51e7b10bc4ad",
   "metadata": {},
   "outputs": [
    {
     "data": {
      "text/plain": [
       "1"
      ]
     },
     "execution_count": 5,
     "metadata": {},
     "output_type": "execute_result"
    }
   ],
   "source": [
    "sign = 1;\n",
    "S = bit_patten_dictionary[63]\n",
    "if (S == 1)\n",
    "    sign = -1;\n",
    "end\n",
    "sign"
   ]
  },
  {
   "cell_type": "markdown",
   "id": "ea816a60-1a9f-4ca7-8011-d0914f48bbd4",
   "metadata": {},
   "source": [
    "## Mantissa `M`"
   ]
  },
  {
   "cell_type": "code",
   "execution_count": 6,
   "id": "fee17f71-cfef-41ee-a8b2-dca5ef5afd51",
   "metadata": {},
   "outputs": [],
   "source": [
    "mantissa_bit_range = range(1,stop=52,step = 1) |> collect;"
   ]
  },
  {
   "cell_type": "code",
   "execution_count": 7,
   "id": "ae134c03-d4dd-4217-adbf-c3a4107d62d9",
   "metadata": {},
   "outputs": [],
   "source": [
    "M = 1.0;\n",
    "base = 2.0;\n",
    "for k ∈ eachindex(mantissa_bit_range)\n",
    "    i = mantissa_bit_range[k]\n",
    "    aₖ = bit_patten_dictionary[52-i]\n",
    "    M += aₖ*(base^(-i))\n",
    "end"
   ]
  },
  {
   "cell_type": "code",
   "execution_count": 8,
   "id": "e7021759-b3a1-4c51-b4da-40b4efe591ec",
   "metadata": {},
   "outputs": [
    {
     "data": {
      "text/plain": [
       "1.1559493681675657"
      ]
     },
     "execution_count": 8,
     "metadata": {},
     "output_type": "execute_result"
    }
   ],
   "source": [
    "M"
   ]
  },
  {
   "cell_type": "markdown",
   "id": "2244026e-0182-47ac-bccb-47c8a3a09f28",
   "metadata": {},
   "source": [
    "## Exponent"
   ]
  },
  {
   "cell_type": "code",
   "execution_count": 9,
   "id": "182b5d1d-dac0-46e1-8f0f-b746bfaf0afa",
   "metadata": {},
   "outputs": [],
   "source": [
    "exponent_bit_range = range(52,stop=62, step = 1) |> collect;"
   ]
  },
  {
   "cell_type": "code",
   "execution_count": 10,
   "id": "05487370-3881-4f94-95df-6a70c6e5a44f",
   "metadata": {},
   "outputs": [
    {
     "data": {
      "text/plain": [
       "1024.0"
      ]
     },
     "execution_count": 10,
     "metadata": {},
     "output_type": "execute_result"
    }
   ],
   "source": [
    "E = 0.0\n",
    "base = 2;\n",
    "for k ∈ eachindex(exponent_bit_range)   \n",
    "    index = exponent_bit_range[k]\n",
    "    aₖ = bit_patten_dictionary[index]    \n",
    "    E += aₖ*(base^(k-1))\n",
    "end\n",
    "E"
   ]
  },
  {
   "cell_type": "markdown",
   "id": "bb093f51-a89a-4509-8fcc-aec9fd92870b",
   "metadata": {},
   "source": [
    "### Value"
   ]
  },
  {
   "cell_type": "code",
   "execution_count": 11,
   "id": "8e39234c-b043-45f4-a464-c63a71851442",
   "metadata": {},
   "outputs": [
    {
     "data": {
      "text/plain": [
       "2.3118987363351313"
      ]
     },
     "execution_count": 11,
     "metadata": {},
     "output_type": "execute_result"
    }
   ],
   "source": [
    "x = (sign)*M*(2^(E - 1023))"
   ]
  },
  {
   "cell_type": "code",
   "execution_count": null,
   "id": "8406fdff-0f9f-46b2-acca-95fe1dd980d5",
   "metadata": {},
   "outputs": [],
   "source": []
  }
 ],
 "metadata": {
  "kernelspec": {
   "display_name": "Julia 1.10.0",
   "language": "julia",
   "name": "julia-1.10"
  },
  "language_info": {
   "file_extension": ".jl",
   "mimetype": "application/julia",
   "name": "julia",
   "version": "1.10.0"
  }
 },
 "nbformat": 4,
 "nbformat_minor": 5
}
