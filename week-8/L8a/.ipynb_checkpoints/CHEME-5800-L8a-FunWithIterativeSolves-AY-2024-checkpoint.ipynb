{
 "cells": [
  {
   "cell_type": "markdown",
   "id": "50726f35-078f-437d-b497-b3c4b2d3012f",
   "metadata": {},
   "source": [
    "# Example: Using Iterative Linear Algebraic Equation (LAEs) Solvers\n",
    "This example will familiarize students with developing and using iterative solvers for systems of Linear Algebraic Equations (LAEs). "
   ]
  },
  {
   "cell_type": "markdown",
   "id": "33455b60-e7f7-4fcd-a59d-ddf236df05bd",
   "metadata": {},
   "source": [
    "## Setup\n",
    "Fill me in"
   ]
  },
  {
   "cell_type": "code",
   "execution_count": 1,
   "id": "f8c8f9d0-b66b-45b6-8132-c18cb49828eb",
   "metadata": {},
   "outputs": [
    {
     "name": "stderr",
     "output_type": "stream",
     "text": [
      "\u001b[32m\u001b[1m  Activating\u001b[22m\u001b[39m project at `~/Desktop/julia_work/CHEME-4800-5800-Examples-AY-2024/week-8/L8a`\n",
      "\u001b[32m\u001b[1m  No Changes\u001b[22m\u001b[39m to `~/Desktop/julia_work/CHEME-4800-5800-Examples-AY-2024/week-8/L8a/Project.toml`\n",
      "\u001b[32m\u001b[1m  No Changes\u001b[22m\u001b[39m to `~/Desktop/julia_work/CHEME-4800-5800-Examples-AY-2024/week-8/L8a/Manifest.toml`\n",
      "\u001b[32m\u001b[1m    Updating\u001b[22m\u001b[39m registry at `~/.julia/registries/General.toml`\n",
      "\u001b[32m\u001b[1m  No Changes\u001b[22m\u001b[39m to `~/Desktop/julia_work/CHEME-4800-5800-Examples-AY-2024/week-8/L8a/Project.toml`\n",
      "\u001b[32m\u001b[1m  No Changes\u001b[22m\u001b[39m to `~/Desktop/julia_work/CHEME-4800-5800-Examples-AY-2024/week-8/L8a/Manifest.toml`\n"
     ]
    }
   ],
   "source": [
    "include(\"Include.jl\");"
   ]
  },
  {
   "cell_type": "markdown",
   "id": "241d7122-43e8-4164-88f0-0b9fd3f86e52",
   "metadata": {},
   "source": [
    "## Generate A Random Digonally Dominate Test Matrix and right-hand-side vector\n",
    "Fill me in"
   ]
  },
  {
   "cell_type": "code",
   "execution_count": 2,
   "id": "495cd085-7693-4643-97b2-5f1e9fc35711",
   "metadata": {},
   "outputs": [],
   "source": [
    "number_of_rows = 10;"
   ]
  },
  {
   "cell_type": "code",
   "execution_count": 3,
   "id": "f0521846-3bb0-4289-8ed7-591b42d40b68",
   "metadata": {},
   "outputs": [],
   "source": [
    "A = randn(number_of_rows, number_of_rows) .+ 10*(number_of_rows)*diagm(rand(number_of_rows));\n",
    "b = randn(number_of_rows);"
   ]
  },
  {
   "cell_type": "markdown",
   "id": "e7bd7254-5db6-4d4a-b481-a107b0cb765f",
   "metadata": {},
   "source": [
    "### Check: Is the system matrix $\\mathbf{A}$ strictly diagonally dominant?\n",
    "Fill me in"
   ]
  },
  {
   "cell_type": "code",
   "execution_count": 4,
   "id": "b7d91ec2-8076-4918-98fc-334435463c7b",
   "metadata": {},
   "outputs": [],
   "source": [
    "ddcondition = Dict{Int64,Bool}()\n",
    "for i ∈ 1:number_of_rows\n",
    "    aii = abs(A[i,i]);\n",
    "    σ = 0.0;\n",
    "    for j ∈ 1:number_of_rows\n",
    "        if (i ≠ j)\n",
    "            σ += abs(A[i,j]);\n",
    "        end\n",
    "    end\n",
    "    ddcondition[i] = (aii > σ) ? true : false;\n",
    "end"
   ]
  },
  {
   "cell_type": "code",
   "execution_count": 5,
   "id": "1b8657fc-4e81-46cf-a406-f3ef22e6ae87",
   "metadata": {},
   "outputs": [
    {
     "data": {
      "text/plain": [
       "false"
      ]
     },
     "execution_count": 5,
     "metadata": {},
     "output_type": "execute_result"
    }
   ],
   "source": [
    "(findall(x-> x == 0, ddcondition) |> isempty) == true"
   ]
  },
  {
   "cell_type": "markdown",
   "id": "b1b7243b-529d-4fa8-a7f9-62a1cb92bfd4",
   "metadata": {},
   "source": [
    "## Solve the LAEs using the  `Jacobi` method\n",
    "Fill me in"
   ]
  },
  {
   "cell_type": "code",
   "execution_count": 6,
   "id": "19b73c38-5adf-4e22-af05-708fcea6e3e3",
   "metadata": {},
   "outputs": [],
   "source": [
    "xₒ = rand(number_of_rows); # initial condition\n",
    "maxiterations = 100;\n",
    "ϵ = 1e-6;"
   ]
  },
  {
   "cell_type": "code",
   "execution_count": 7,
   "id": "e4921e98-adb9-430a-bfda-db0c1c9418fe",
   "metadata": {},
   "outputs": [
    {
     "data": {
      "text/plain": [
       "Dict{Int64, Vector{Float64}} with 11 entries:\n",
       "  5  => [0.00681701, 0.00899532, 0.0098405, 0.0290179, 0.0157533, 0.0536762, -0…\n",
       "  8  => [0.00682223, 0.00901755, 0.00982715, 0.0289704, 0.0157514, 0.0537149, -…\n",
       "  1  => [0.00760114, 0.0273613, -0.00701887, 0.172576, 0.0184991, 0.0477582, -0…\n",
       "  0  => [0.153523, 0.365843, 0.281623, 0.166597, 0.10457, 0.202814, 0.210998, 0…\n",
       "  6  => [0.00682434, 0.00901226, 0.00982685, 0.0289599, 0.0157491, 0.0537219, -…\n",
       "  9  => [0.00682211, 0.00901755, 0.00982721, 0.0289708, 0.0157514, 0.0537145, -…\n",
       "  3  => [0.00448932, 0.0102165, 0.0104007, 0.0386617, 0.0155342, 0.048514, -0.0…\n",
       "  7  => [0.00682136, 0.00901843, 0.00982729, 0.0289741, 0.0157515, 0.0537128, -…\n",
       "  4  => [0.00701684, 0.00927378, 0.00966289, 0.0283424, 0.0157058, 0.0543319, -…\n",
       "  2  => [0.017847, -0.0161972, 0.0101261, -0.0135286, 0.00874118, 0.0820884, -0…\n",
       "  10 => [0.00682212, 0.00901756, 0.0098272, 0.0289708, 0.0157514, 0.0537146, -0…"
      ]
     },
     "execution_count": 7,
     "metadata": {},
     "output_type": "execute_result"
    }
   ],
   "source": [
    "dJM = solve(A,b,xₒ, ϵ = ϵ, maxiterations = maxiterations, algorithm = MyJacobiMethod())"
   ]
  },
  {
   "cell_type": "markdown",
   "id": "b11df9c0-142a-440c-8b67-0940ca16b023",
   "metadata": {},
   "source": [
    "### Check: Did we meet the error condition?"
   ]
  },
  {
   "cell_type": "code",
   "execution_count": 8,
   "id": "06db7e8b-aab0-4a28-9801-1a0a856b4d23",
   "metadata": {},
   "outputs": [],
   "source": [
    "final_solution_index = maximum(keys(d));"
   ]
  },
  {
   "cell_type": "code",
   "execution_count": 9,
   "id": "65c03e29-ad9c-4adf-94ad-4293e7991c18",
   "metadata": {},
   "outputs": [],
   "source": [
    "error = A*d[final_solution_index] - b\n",
    "@assert maximum(error) < ϵ"
   ]
  },
  {
   "cell_type": "markdown",
   "id": "e6ccaf9e-3530-494b-9479-dee23563421b",
   "metadata": {},
   "source": [
    "## Solve the LAEs using the `Gauss-Seidel` method\n",
    "Fill me in"
   ]
  },
  {
   "cell_type": "code",
   "execution_count": null,
   "id": "d5cf31fa-fd07-4696-810b-de0bcdb3f64f",
   "metadata": {},
   "outputs": [],
   "source": [
    "d = solve(A,b,xₒ, ϵ = ϵ, maxiterations = maxiterations, algorithm = MyJacobiMethod())"
   ]
  }
 ],
 "metadata": {
  "kernelspec": {
   "display_name": "Julia 1.10.2",
   "language": "julia",
   "name": "julia-1.10"
  },
  "language_info": {
   "file_extension": ".jl",
   "mimetype": "application/julia",
   "name": "julia",
   "version": "1.10.2"
  }
 },
 "nbformat": 4,
 "nbformat_minor": 5
}
