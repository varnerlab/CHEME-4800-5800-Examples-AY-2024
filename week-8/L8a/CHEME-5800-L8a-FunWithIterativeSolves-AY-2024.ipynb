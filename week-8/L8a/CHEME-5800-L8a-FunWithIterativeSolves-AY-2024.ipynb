{
 "cells": [
  {
   "cell_type": "markdown",
   "id": "50726f35-078f-437d-b497-b3c4b2d3012f",
   "metadata": {},
   "source": [
    "# Example: Using Iterative Linear Algebraic Equation (LAEs) Solvers\n",
    "This example will familiarize students with developing and using iterative solvers for systems of Linear Algebraic Equations (LAEs). "
   ]
  },
  {
   "cell_type": "markdown",
   "id": "33455b60-e7f7-4fcd-a59d-ddf236df05bd",
   "metadata": {},
   "source": [
    "## Setup\n",
    "Fill me in"
   ]
  },
  {
   "cell_type": "code",
   "execution_count": 1,
   "id": "f8c8f9d0-b66b-45b6-8132-c18cb49828eb",
   "metadata": {},
   "outputs": [
    {
     "name": "stderr",
     "output_type": "stream",
     "text": [
      "\u001b[32m\u001b[1m  Activating\u001b[22m\u001b[39m project at `~/Desktop/julia_work/CHEME-4800-5800-Examples-AY-2024/week-8/L8a`\n",
      "\u001b[32m\u001b[1m  No Changes\u001b[22m\u001b[39m to `~/Desktop/julia_work/CHEME-4800-5800-Examples-AY-2024/week-8/L8a/Project.toml`\n",
      "\u001b[32m\u001b[1m  No Changes\u001b[22m\u001b[39m to `~/Desktop/julia_work/CHEME-4800-5800-Examples-AY-2024/week-8/L8a/Manifest.toml`\n",
      "\u001b[32m\u001b[1m    Updating\u001b[22m\u001b[39m registry at `~/.julia/registries/General.toml`\n",
      "\u001b[32m\u001b[1m  No Changes\u001b[22m\u001b[39m to `~/Desktop/julia_work/CHEME-4800-5800-Examples-AY-2024/week-8/L8a/Project.toml`\n",
      "\u001b[32m\u001b[1m  No Changes\u001b[22m\u001b[39m to `~/Desktop/julia_work/CHEME-4800-5800-Examples-AY-2024/week-8/L8a/Manifest.toml`\n"
     ]
    }
   ],
   "source": [
    "include(\"Include.jl\");"
   ]
  },
  {
   "cell_type": "markdown",
   "id": "241d7122-43e8-4164-88f0-0b9fd3f86e52",
   "metadata": {},
   "source": [
    "## Generate A Random Digonally Dominate Test Matrix and right-hand-side vector\n",
    "Fill me in"
   ]
  },
  {
   "cell_type": "code",
   "execution_count": 2,
   "id": "495cd085-7693-4643-97b2-5f1e9fc35711",
   "metadata": {},
   "outputs": [],
   "source": [
    "number_of_rows = 25;"
   ]
  },
  {
   "cell_type": "code",
   "execution_count": 3,
   "id": "f0521846-3bb0-4289-8ed7-591b42d40b68",
   "metadata": {},
   "outputs": [],
   "source": [
    "A = randn(number_of_rows, number_of_rows) .+ 10*(number_of_rows)*diagm(rand(number_of_rows));\n",
    "b = randn(number_of_rows);"
   ]
  },
  {
   "cell_type": "markdown",
   "id": "e7bd7254-5db6-4d4a-b481-a107b0cb765f",
   "metadata": {},
   "source": [
    "### Check: Is the system matrix $\\mathbf{A}$ strictly diagonally dominant?\n",
    "Fill me in"
   ]
  },
  {
   "cell_type": "code",
   "execution_count": 4,
   "id": "b7d91ec2-8076-4918-98fc-334435463c7b",
   "metadata": {},
   "outputs": [],
   "source": [
    "ddcondition = Dict{Int64,Bool}()\n",
    "for i ∈ 1:number_of_rows\n",
    "    aii = abs(A[i,i]);\n",
    "    σ = 0.0;\n",
    "    for j ∈ 1:number_of_rows\n",
    "        if (i ≠ j)\n",
    "            σ += abs(A[i,j]);\n",
    "        end\n",
    "    end\n",
    "    ddcondition[i] = (aii > σ) ? true : false;\n",
    "end"
   ]
  },
  {
   "cell_type": "code",
   "execution_count": 5,
   "id": "1b8657fc-4e81-46cf-a406-f3ef22e6ae87",
   "metadata": {},
   "outputs": [
    {
     "data": {
      "text/plain": [
       "false"
      ]
     },
     "execution_count": 5,
     "metadata": {},
     "output_type": "execute_result"
    }
   ],
   "source": [
    "(findall(x-> x == 0, ddcondition) |> isempty) == true"
   ]
  },
  {
   "cell_type": "markdown",
   "id": "b1b7243b-529d-4fa8-a7f9-62a1cb92bfd4",
   "metadata": {},
   "source": [
    "## Solve the LAEs using the  `Jacobi` method\n",
    "Fill me in"
   ]
  },
  {
   "cell_type": "code",
   "execution_count": 6,
   "id": "19b73c38-5adf-4e22-af05-708fcea6e3e3",
   "metadata": {},
   "outputs": [],
   "source": [
    "xₒ = rand(number_of_rows); # initial condition\n",
    "maxiterations = 100;\n",
    "ϵ = 1e-6;"
   ]
  },
  {
   "cell_type": "code",
   "execution_count": 7,
   "id": "e4921e98-adb9-430a-bfda-db0c1c9418fe",
   "metadata": {},
   "outputs": [
    {
     "data": {
      "text/plain": [
       "Dict{Int64, Vector{Float64}} with 22 entries:\n",
       "  5  => [0.00897021, -0.000821729, 0.00261006, -0.00722653, 0.00118142, 0.00407…\n",
       "  16 => [0.00795491, -0.000768178, 0.00240235, -0.00687611, 0.00114924, 0.00381…\n",
       "  20 => [0.00795495, -0.000768184, 0.00240235, -0.00687612, 0.00114925, 0.00381…\n",
       "  12 => [0.00795335, -0.000767915, 0.00240254, -0.00687604, 0.001149, 0.0038138…\n",
       "  8  => [0.00790148, -0.000756268, 0.00241809, -0.00688252, 0.00113755, 0.00382…\n",
       "  17 => [0.00795495, -0.000768182, 0.00240235, -0.00687612, 0.00114925, 0.00381…\n",
       "  1  => [0.00101858, -0.000764484, 0.000522252, -0.0131953, -0.0188952, 0.03001…\n",
       "  19 => [0.00795495, -0.000768184, 0.00240235, -0.00687612, 0.00114925, 0.00381…\n",
       "  0  => [0.492362, 0.654505, 0.777235, 0.965941, 0.565399, 0.717669, 0.0676641,…\n",
       "  6  => [0.0082408, -0.000842036, 0.00228251, -0.00680379, 0.00122458, 0.003737…\n",
       "  11 => [0.00795308, -0.000768346, 0.00240109, -0.00687456, 0.00114951, 0.00381…\n",
       "  9  => [0.0079717, -0.000768009, 0.00240956, -0.00688607, 0.0011484, 0.0038215…\n",
       "  14 => [0.00795521, -0.000768222, 0.00240233, -0.00687615, 0.00114928, 0.00381…\n",
       "  3  => [-0.00123775, 0.000202021, 0.00153765, -0.00483945, 0.000593718, 0.0026…\n",
       "  7  => [0.00782023, -0.000763294, 0.00236327, -0.00681439, 0.00114897, 0.00376…\n",
       "  4  => [0.00669888, -0.000264613, 0.0033623, -0.00752454, 0.000665983, 0.00445…\n",
       "  13 => [0.00795512, -0.000768139, 0.00240255, -0.00687635, 0.00114919, 0.00381…\n",
       "  15 => [0.00795495, -0.000768193, 0.00240231, -0.00687608, 0.00114926, 0.00381…\n",
       "  2  => [0.021944, -0.00502554, 0.00150364, -0.0119314, 0.00497725, -0.00311118…\n",
       "  10 => [0.00796446, -0.000770001, 0.00240046, -0.00687587, 0.00115099, 0.00381…\n",
       "  18 => [0.00795496, -0.000768184, 0.00240235, -0.00687612, 0.00114925, 0.00381…\n",
       "  21 => [0.00795495, -0.000768184, 0.00240235, -0.00687612, 0.00114925, 0.00381…"
      ]
     },
     "execution_count": 7,
     "metadata": {},
     "output_type": "execute_result"
    }
   ],
   "source": [
    "dJM = solve(A,b,xₒ, ϵ = ϵ, maxiterations = maxiterations, algorithm = MyJacobiMethod())"
   ]
  },
  {
   "cell_type": "markdown",
   "id": "b11df9c0-142a-440c-8b67-0940ca16b023",
   "metadata": {},
   "source": [
    "### Check: Did we meet the error condition?"
   ]
  },
  {
   "cell_type": "code",
   "execution_count": 8,
   "id": "65c03e29-ad9c-4adf-94ad-4293e7991c18",
   "metadata": {},
   "outputs": [],
   "source": [
    "error = A*dJM[maximum(keys(dJM))] - b\n",
    "@assert maximum(error) < ϵ"
   ]
  },
  {
   "cell_type": "markdown",
   "id": "e6ccaf9e-3530-494b-9479-dee23563421b",
   "metadata": {},
   "source": [
    "## Solve the LAEs using the `Gauss-Seidel` method\n",
    "Fill me in"
   ]
  },
  {
   "cell_type": "code",
   "execution_count": 9,
   "id": "d5cf31fa-fd07-4696-810b-de0bcdb3f64f",
   "metadata": {},
   "outputs": [
    {
     "data": {
      "text/plain": [
       "Dict{Int64, Vector{Float64}} with 11 entries:\n",
       "  5  => [0.0079567, -0.000772826, 0.0023951, -0.00686612, 0.00115217, 0.0038059…\n",
       "  8  => [0.00795504, -0.000768186, 0.00240237, -0.00687615, 0.00114926, 0.00381…\n",
       "  1  => [0.00101858, -0.00125904, 0.00136106, -0.0154597, -0.0187297, 0.0304399…\n",
       "  0  => [0.492362, 0.654505, 0.777235, 0.965941, 0.565399, 0.717669, 0.0676641,…\n",
       "  6  => [0.00795152, -0.000768422, 0.00240109, -0.00687467, 0.00114907, 0.00381…\n",
       "  9  => [0.00795495, -0.000768186, 0.00240234, -0.00687611, 0.00114925, 0.00381…\n",
       "  3  => [0.00676896, -0.000491711, 0.00261619, -0.00722322, 0.00095675, 0.00446…\n",
       "  7  => [0.0079549, -0.000768064, 0.00240253, -0.00687634, 0.00114918, 0.003814…\n",
       "  4  => [0.00817251, -0.000753014, 0.00248889, -0.00698673, 0.00115527, 0.00384…\n",
       "  2  => [0.00690493, -0.000928402, 0.00631525, -0.0128487, 0.00256638, -0.00102…\n",
       "  10 => [0.00795495, -0.000768184, 0.00240235, -0.00687612, 0.00114925, 0.00381…"
      ]
     },
     "execution_count": 9,
     "metadata": {},
     "output_type": "execute_result"
    }
   ],
   "source": [
    "dGSM = solve(A,b,xₒ, ϵ = ϵ, maxiterations = maxiterations, algorithm = MyGaussSeidelMethod())"
   ]
  },
  {
   "cell_type": "markdown",
   "id": "6deef891-9b29-41ae-ba06-ec0e44cba13a",
   "metadata": {},
   "source": [
    "### Check: Did we meet the error condition?"
   ]
  },
  {
   "cell_type": "code",
   "execution_count": 10,
   "id": "7cd692f7-2128-4967-add8-b8e5015e860e",
   "metadata": {},
   "outputs": [],
   "source": [
    "error = A*dGSM[maximum(keys(dGSM))] - b\n",
    "@assert maximum(error) < ϵ"
   ]
  },
  {
   "cell_type": "markdown",
   "id": "c4283e1f-aa48-4ee1-a138-eae70c30838d",
   "metadata": {},
   "source": [
    "## How well do these algorithms scale?"
   ]
  },
  {
   "cell_type": "code",
   "execution_count": 11,
   "id": "ea3f9981-ee30-4dc1-a05f-42707794471f",
   "metadata": {},
   "outputs": [
    {
     "data": {
      "text/plain": [
       "BenchmarkTools.Trial: 3446 samples with 1 evaluation.\n",
       " Range \u001b[90m(\u001b[39m\u001b[36m\u001b[1mmin\u001b[22m\u001b[39m … \u001b[35mmax\u001b[39m\u001b[90m):  \u001b[39m\u001b[36m\u001b[1m1.401 ms\u001b[22m\u001b[39m … \u001b[35m  6.498 ms\u001b[39m  \u001b[90m┊\u001b[39m GC \u001b[90m(\u001b[39mmin … max\u001b[90m): \u001b[39m0.00% … 77.03%\n",
       " Time  \u001b[90m(\u001b[39m\u001b[34m\u001b[1mmedian\u001b[22m\u001b[39m\u001b[90m):     \u001b[39m\u001b[34m\u001b[1m1.430 ms               \u001b[22m\u001b[39m\u001b[90m┊\u001b[39m GC \u001b[90m(\u001b[39mmedian\u001b[90m):    \u001b[39m0.00%\n",
       " Time  \u001b[90m(\u001b[39m\u001b[32m\u001b[1mmean\u001b[22m\u001b[39m ± \u001b[32mσ\u001b[39m\u001b[90m):   \u001b[39m\u001b[32m\u001b[1m1.449 ms\u001b[22m\u001b[39m ± \u001b[32m217.327 μs\u001b[39m  \u001b[90m┊\u001b[39m GC \u001b[90m(\u001b[39mmean ± σ\u001b[90m):  \u001b[39m0.93% ±  4.39%\n",
       "\n",
       "  \u001b[39m \u001b[39m \u001b[39m \u001b[39m \u001b[39m \u001b[39m \u001b[39m▁\u001b[39m \u001b[39m \u001b[39m \u001b[39m▂\u001b[39m▅\u001b[39m▇\u001b[39m█\u001b[39m▄\u001b[34m▃\u001b[39m\u001b[39m▁\u001b[39m▁\u001b[39m \u001b[39m▁\u001b[39m \u001b[39m▁\u001b[39m \u001b[39m \u001b[39m \u001b[32m \u001b[39m\u001b[39m \u001b[39m \u001b[39m \u001b[39m \u001b[39m \u001b[39m \u001b[39m \u001b[39m \u001b[39m \u001b[39m \u001b[39m \u001b[39m \u001b[39m \u001b[39m \u001b[39m \u001b[39m \u001b[39m \u001b[39m \u001b[39m \u001b[39m \u001b[39m \u001b[39m \u001b[39m \u001b[39m \u001b[39m \u001b[39m \u001b[39m \u001b[39m \u001b[39m \u001b[39m \u001b[39m \u001b[39m \u001b[39m \u001b[39m \u001b[39m \n",
       "  \u001b[39m▂\u001b[39m▂\u001b[39m▂\u001b[39m▃\u001b[39m▆\u001b[39m▇\u001b[39m█\u001b[39m█\u001b[39m▇\u001b[39m▇\u001b[39m█\u001b[39m█\u001b[39m█\u001b[39m█\u001b[39m█\u001b[34m█\u001b[39m\u001b[39m█\u001b[39m█\u001b[39m▇\u001b[39m█\u001b[39m█\u001b[39m█\u001b[39m▇\u001b[39m▅\u001b[39m▆\u001b[32m▅\u001b[39m\u001b[39m▅\u001b[39m▃\u001b[39m▃\u001b[39m▃\u001b[39m▃\u001b[39m▃\u001b[39m▃\u001b[39m▃\u001b[39m▂\u001b[39m▃\u001b[39m▂\u001b[39m▂\u001b[39m▂\u001b[39m▂\u001b[39m▃\u001b[39m▂\u001b[39m▂\u001b[39m▂\u001b[39m▂\u001b[39m▁\u001b[39m▁\u001b[39m▂\u001b[39m▂\u001b[39m▁\u001b[39m▁\u001b[39m▁\u001b[39m▁\u001b[39m▁\u001b[39m▁\u001b[39m▁\u001b[39m▁\u001b[39m▁\u001b[39m▁\u001b[39m \u001b[39m▃\n",
       "  1.4 ms\u001b[90m          Histogram: frequency by time\u001b[39m        1.52 ms \u001b[0m\u001b[1m<\u001b[22m\n",
       "\n",
       " Memory estimate\u001b[90m: \u001b[39m\u001b[33m182.39 KiB\u001b[39m, allocs estimate\u001b[90m: \u001b[39m\u001b[33m92\u001b[39m."
      ]
     },
     "execution_count": 11,
     "metadata": {},
     "output_type": "execute_result"
    }
   ],
   "source": [
    "@benchmark solve(A,b,xₒ, ϵ = 1e-6, maxiterations = 100, algorithm = MyJacobiMethod()) setup=(A=$A,b=$b,xₒ=$xₒ)"
   ]
  },
  {
   "cell_type": "code",
   "execution_count": 12,
   "id": "6be85d7f-80f8-4fb6-a1b9-5644a4a56eca",
   "metadata": {},
   "outputs": [
    {
     "data": {
      "text/plain": [
       "BenchmarkTools.Trial: 7264 samples with 1 evaluation.\n",
       " Range \u001b[90m(\u001b[39m\u001b[36m\u001b[1mmin\u001b[22m\u001b[39m … \u001b[35mmax\u001b[39m\u001b[90m):  \u001b[39m\u001b[36m\u001b[1m670.417 μs\u001b[22m\u001b[39m … \u001b[35m  4.263 ms\u001b[39m  \u001b[90m┊\u001b[39m GC \u001b[90m(\u001b[39mmin … max\u001b[90m): \u001b[39m0.00% … 83.54%\n",
       " Time  \u001b[90m(\u001b[39m\u001b[34m\u001b[1mmedian\u001b[22m\u001b[39m\u001b[90m):     \u001b[39m\u001b[34m\u001b[1m680.167 μs               \u001b[22m\u001b[39m\u001b[90m┊\u001b[39m GC \u001b[90m(\u001b[39mmedian\u001b[90m):    \u001b[39m0.00%\n",
       " Time  \u001b[90m(\u001b[39m\u001b[32m\u001b[1mmean\u001b[22m\u001b[39m ± \u001b[32mσ\u001b[39m\u001b[90m):   \u001b[39m\u001b[32m\u001b[1m687.683 μs\u001b[22m\u001b[39m ± \u001b[32m134.384 μs\u001b[39m  \u001b[90m┊\u001b[39m GC \u001b[90m(\u001b[39mmean ± σ\u001b[90m):  \u001b[39m0.75% ±  3.22%\n",
       "\n",
       "  \u001b[39m \u001b[39m \u001b[39m \u001b[39m \u001b[39m \u001b[39m \u001b[39m \u001b[39m▁\u001b[39m▅\u001b[39m▇\u001b[39m█\u001b[39m▇\u001b[39m█\u001b[34m▅\u001b[39m\u001b[39m▄\u001b[39m▂\u001b[39m \u001b[39m \u001b[39m \u001b[39m \u001b[39m \u001b[39m \u001b[39m \u001b[32m \u001b[39m\u001b[39m \u001b[39m \u001b[39m \u001b[39m \u001b[39m \u001b[39m \u001b[39m \u001b[39m \u001b[39m \u001b[39m \u001b[39m \u001b[39m \u001b[39m \u001b[39m \u001b[39m \u001b[39m \u001b[39m \u001b[39m \u001b[39m \u001b[39m \u001b[39m \u001b[39m \u001b[39m \u001b[39m \u001b[39m \u001b[39m \u001b[39m \u001b[39m \u001b[39m \u001b[39m \u001b[39m \u001b[39m \u001b[39m \u001b[39m \u001b[39m \u001b[39m \u001b[39m \u001b[39m \u001b[39m \n",
       "  \u001b[39m▂\u001b[39m▄\u001b[39m▃\u001b[39m▂\u001b[39m▃\u001b[39m▅\u001b[39m▅\u001b[39m█\u001b[39m█\u001b[39m█\u001b[39m█\u001b[39m█\u001b[39m█\u001b[34m█\u001b[39m\u001b[39m█\u001b[39m█\u001b[39m▇\u001b[39m▆\u001b[39m▅\u001b[39m▄\u001b[39m▃\u001b[39m▃\u001b[39m▃\u001b[32m▃\u001b[39m\u001b[39m▃\u001b[39m▃\u001b[39m▃\u001b[39m▃\u001b[39m▃\u001b[39m▃\u001b[39m▃\u001b[39m▃\u001b[39m▃\u001b[39m▃\u001b[39m▂\u001b[39m▂\u001b[39m▂\u001b[39m▂\u001b[39m▂\u001b[39m▂\u001b[39m▁\u001b[39m▁\u001b[39m▁\u001b[39m▁\u001b[39m▁\u001b[39m▁\u001b[39m▁\u001b[39m▁\u001b[39m▁\u001b[39m▁\u001b[39m▁\u001b[39m▁\u001b[39m▁\u001b[39m▁\u001b[39m▁\u001b[39m▁\u001b[39m▁\u001b[39m▁\u001b[39m▁\u001b[39m▁\u001b[39m▁\u001b[39m \u001b[39m▃\n",
       "  670 μs\u001b[90m           Histogram: frequency by time\u001b[39m          717 μs \u001b[0m\u001b[1m<\u001b[22m\n",
       "\n",
       " Memory estimate\u001b[90m: \u001b[39m\u001b[33m67.64 KiB\u001b[39m, allocs estimate\u001b[90m: \u001b[39m\u001b[33m38\u001b[39m."
      ]
     },
     "execution_count": 12,
     "metadata": {},
     "output_type": "execute_result"
    }
   ],
   "source": [
    "@benchmark solve(A,b,xₒ, ϵ = 1e-6, maxiterations = 100, algorithm = MyGaussSeidelMethod()) setup=(A=$A,b=$b,xₒ=$xₒ)"
   ]
  },
  {
   "cell_type": "code",
   "execution_count": 13,
   "id": "5832f464-fd3a-48e1-bbe7-3146f16d621d",
   "metadata": {},
   "outputs": [
    {
     "data": {
      "text/plain": [
       "BenchmarkTools.Trial: 10000 samples with 1 evaluation.\n",
       " Range \u001b[90m(\u001b[39m\u001b[36m\u001b[1mmin\u001b[22m\u001b[39m … \u001b[35mmax\u001b[39m\u001b[90m):  \u001b[39m\u001b[36m\u001b[1m342.500 μs\u001b[22m\u001b[39m … \u001b[35m  4.079 ms\u001b[39m  \u001b[90m┊\u001b[39m GC \u001b[90m(\u001b[39mmin … max\u001b[90m): \u001b[39m0.00% … 0.00%\n",
       " Time  \u001b[90m(\u001b[39m\u001b[34m\u001b[1mmedian\u001b[22m\u001b[39m\u001b[90m):     \u001b[39m\u001b[34m\u001b[1m393.667 μs               \u001b[22m\u001b[39m\u001b[90m┊\u001b[39m GC \u001b[90m(\u001b[39mmedian\u001b[90m):    \u001b[39m0.00%\n",
       " Time  \u001b[90m(\u001b[39m\u001b[32m\u001b[1mmean\u001b[22m\u001b[39m ± \u001b[32mσ\u001b[39m\u001b[90m):   \u001b[39m\u001b[32m\u001b[1m417.843 μs\u001b[22m\u001b[39m ± \u001b[32m180.107 μs\u001b[39m  \u001b[90m┊\u001b[39m GC \u001b[90m(\u001b[39mmean ± σ\u001b[90m):  \u001b[39m3.93% ± 8.07%\n",
       "\n",
       "  \u001b[39m▃\u001b[39m▆\u001b[39m█\u001b[34m▅\u001b[39m\u001b[32m▂\u001b[39m\u001b[39m▁\u001b[39m▁\u001b[39m▁\u001b[39m \u001b[39m \u001b[39m \u001b[39m \u001b[39m \u001b[39m \u001b[39m \u001b[39m \u001b[39m \u001b[39m \u001b[39m \u001b[39m \u001b[39m \u001b[39m \u001b[39m \u001b[39m \u001b[39m \u001b[39m \u001b[39m \u001b[39m \u001b[39m \u001b[39m \u001b[39m \u001b[39m \u001b[39m \u001b[39m \u001b[39m \u001b[39m \u001b[39m \u001b[39m \u001b[39m \u001b[39m \u001b[39m \u001b[39m \u001b[39m \u001b[39m \u001b[39m \u001b[39m \u001b[39m \u001b[39m \u001b[39m \u001b[39m \u001b[39m \u001b[39m \u001b[39m \u001b[39m \u001b[39m \u001b[39m \u001b[39m \u001b[39m \u001b[39m \u001b[39m \u001b[39m \u001b[39m \u001b[39m▁\n",
       "  \u001b[39m█\u001b[39m█\u001b[39m█\u001b[34m█\u001b[39m\u001b[32m█\u001b[39m\u001b[39m█\u001b[39m█\u001b[39m█\u001b[39m█\u001b[39m█\u001b[39m█\u001b[39m▇\u001b[39m▆\u001b[39m▇\u001b[39m▇\u001b[39m▆\u001b[39m▆\u001b[39m▆\u001b[39m▆\u001b[39m▅\u001b[39m▅\u001b[39m▅\u001b[39m▁\u001b[39m▁\u001b[39m▃\u001b[39m▁\u001b[39m▁\u001b[39m▁\u001b[39m▁\u001b[39m▁\u001b[39m▁\u001b[39m▄\u001b[39m▃\u001b[39m▁\u001b[39m▁\u001b[39m▁\u001b[39m▁\u001b[39m▁\u001b[39m▁\u001b[39m▁\u001b[39m▁\u001b[39m▁\u001b[39m▁\u001b[39m▁\u001b[39m▁\u001b[39m▁\u001b[39m▁\u001b[39m▁\u001b[39m▃\u001b[39m▁\u001b[39m▁\u001b[39m▃\u001b[39m▃\u001b[39m▁\u001b[39m▃\u001b[39m▅\u001b[39m▃\u001b[39m▃\u001b[39m▃\u001b[39m▅\u001b[39m▄\u001b[39m \u001b[39m█\n",
       "  342 μs\u001b[90m        \u001b[39m\u001b[90mHistogram: \u001b[39m\u001b[90m\u001b[1mlog(\u001b[22m\u001b[39m\u001b[90mfrequency\u001b[39m\u001b[90m\u001b[1m)\u001b[22m\u001b[39m\u001b[90m by time\u001b[39m       1.59 ms \u001b[0m\u001b[1m<\u001b[22m\n",
       "\n",
       " Memory estimate\u001b[90m: \u001b[39m\u001b[33m492.67 KiB\u001b[39m, allocs estimate\u001b[90m: \u001b[39m\u001b[33m4\u001b[39m."
      ]
     },
     "execution_count": 13,
     "metadata": {},
     "output_type": "execute_result"
    }
   ],
   "source": [
    "@benchmark solve(A,b,xₒ, ϵ = 1e-6, maxiterations = 100, algorithm = MyGaussianEliminationMethod()) setup=(A=$A,b=$b,xₒ=$xₒ)"
   ]
  },
  {
   "cell_type": "code",
   "execution_count": null,
   "id": "f7e0cfa0-6bd4-4bd5-bc64-c170b5ec03e3",
   "metadata": {},
   "outputs": [],
   "source": []
  }
 ],
 "metadata": {
  "kernelspec": {
   "display_name": "Julia 1.10.2",
   "language": "julia",
   "name": "julia-1.10"
  },
  "language_info": {
   "file_extension": ".jl",
   "mimetype": "application/julia",
   "name": "julia",
   "version": "1.10.2"
  }
 },
 "nbformat": 4,
 "nbformat_minor": 5
}
