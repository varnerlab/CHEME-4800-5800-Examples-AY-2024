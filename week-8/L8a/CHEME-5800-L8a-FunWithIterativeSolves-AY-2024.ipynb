{
 "cells": [
  {
   "cell_type": "markdown",
   "id": "50726f35-078f-437d-b497-b3c4b2d3012f",
   "metadata": {},
   "source": [
    "# Example: Using Iterative Linear Algebraic Equation (LAEs) Solvers\n",
    "This example will familiarize students with developing and using iterative solvers for systems of Linear Algebraic Equations (LAEs). "
   ]
  },
  {
   "cell_type": "markdown",
   "id": "33455b60-e7f7-4fcd-a59d-ddf236df05bd",
   "metadata": {},
   "source": [
    "## Setup\n",
    "Fill me in"
   ]
  },
  {
   "cell_type": "code",
   "execution_count": 1,
   "id": "f8c8f9d0-b66b-45b6-8132-c18cb49828eb",
   "metadata": {},
   "outputs": [
    {
     "name": "stderr",
     "output_type": "stream",
     "text": [
      "\u001b[32m\u001b[1m  Activating\u001b[22m\u001b[39m project at `~/Desktop/julia_work/CHEME-4800-5800-Examples-AY-2024/week-8/L8a`\n",
      "\u001b[32m\u001b[1m  No Changes\u001b[22m\u001b[39m to `~/Desktop/julia_work/CHEME-4800-5800-Examples-AY-2024/week-8/L8a/Project.toml`\n",
      "\u001b[32m\u001b[1m  No Changes\u001b[22m\u001b[39m to `~/Desktop/julia_work/CHEME-4800-5800-Examples-AY-2024/week-8/L8a/Manifest.toml`\n",
      "\u001b[32m\u001b[1m    Updating\u001b[22m\u001b[39m registry at `~/.julia/registries/General.toml`\n",
      "\u001b[32m\u001b[1m  No Changes\u001b[22m\u001b[39m to `~/Desktop/julia_work/CHEME-4800-5800-Examples-AY-2024/week-8/L8a/Project.toml`\n",
      "\u001b[32m\u001b[1m  No Changes\u001b[22m\u001b[39m to `~/Desktop/julia_work/CHEME-4800-5800-Examples-AY-2024/week-8/L8a/Manifest.toml`\n"
     ]
    }
   ],
   "source": [
    "include(\"Include.jl\");"
   ]
  },
  {
   "cell_type": "markdown",
   "id": "241d7122-43e8-4164-88f0-0b9fd3f86e52",
   "metadata": {},
   "source": [
    "## Generate A Random Digonally Dominate Test Matrix and right-hand-side vector\n",
    "Fill me in"
   ]
  },
  {
   "cell_type": "code",
   "execution_count": 2,
   "id": "495cd085-7693-4643-97b2-5f1e9fc35711",
   "metadata": {},
   "outputs": [],
   "source": [
    "number_of_rows = 10;"
   ]
  },
  {
   "cell_type": "code",
   "execution_count": 3,
   "id": "f0521846-3bb0-4289-8ed7-591b42d40b68",
   "metadata": {},
   "outputs": [],
   "source": [
    "A = randn(number_of_rows, number_of_rows) .+ 10*(number_of_rows)*diagm(rand(number_of_rows));\n",
    "b = randn(number_of_rows);"
   ]
  },
  {
   "cell_type": "markdown",
   "id": "e7bd7254-5db6-4d4a-b481-a107b0cb765f",
   "metadata": {},
   "source": [
    "### Check: Is the system matrix $\\mathbf{A}$ strictly diagonally dominant?\n",
    "Fill me in"
   ]
  },
  {
   "cell_type": "code",
   "execution_count": 4,
   "id": "b7d91ec2-8076-4918-98fc-334435463c7b",
   "metadata": {},
   "outputs": [],
   "source": [
    "ddcondition = Dict{Int64,Bool}()\n",
    "for i ∈ 1:number_of_rows\n",
    "    aii = abs(A[i,i]);\n",
    "    σ = 0.0;\n",
    "    for j ∈ 1:number_of_rows\n",
    "        if (i ≠ j)\n",
    "            σ += abs(A[i,j]);\n",
    "        end\n",
    "    end\n",
    "    ddcondition[i] = (aii > σ) ? true : false;\n",
    "end"
   ]
  },
  {
   "cell_type": "code",
   "execution_count": 5,
   "id": "1b8657fc-4e81-46cf-a406-f3ef22e6ae87",
   "metadata": {},
   "outputs": [
    {
     "data": {
      "text/plain": [
       "true"
      ]
     },
     "execution_count": 5,
     "metadata": {},
     "output_type": "execute_result"
    }
   ],
   "source": [
    "(findall(x-> x == 0, ddcondition) |> isempty) == true"
   ]
  },
  {
   "cell_type": "markdown",
   "id": "b1b7243b-529d-4fa8-a7f9-62a1cb92bfd4",
   "metadata": {},
   "source": [
    "## Solve the LAEs using the  `Jacobi` method\n",
    "Fill me in"
   ]
  },
  {
   "cell_type": "code",
   "execution_count": 6,
   "id": "19b73c38-5adf-4e22-af05-708fcea6e3e3",
   "metadata": {},
   "outputs": [],
   "source": [
    "xₒ = rand(number_of_rows); # initial condition\n",
    "maxiterations = 100;\n",
    "ϵ = 1e-6;"
   ]
  },
  {
   "cell_type": "code",
   "execution_count": 7,
   "id": "e4921e98-adb9-430a-bfda-db0c1c9418fe",
   "metadata": {},
   "outputs": [
    {
     "data": {
      "text/plain": [
       "Dict{Int64, Vector{Float64}} with 9 entries:\n",
       "  0 => [0.41695, 0.375405, 0.527739, 0.920956, 0.6332, 0.0527424, 0.558699, 0.5…\n",
       "  4 => [0.0314533, -0.0138908, 0.13986, 0.00724404, -0.0179637, -0.018538, -0.0…\n",
       "  5 => [0.031455, -0.0138915, 0.139854, 0.00724158, -0.0179682, -0.0185463, -0.…\n",
       "  6 => [0.0314547, -0.013892, 0.139853, 0.00724161, -0.0179684, -0.0185466, -0.…\n",
       "  2 => [0.0306067, -0.0134582, 0.140795, 0.00844053, -0.017122, -0.0145657, -0.…\n",
       "  7 => [0.0314547, -0.013892, 0.139853, 0.0072416, -0.0179684, -0.0185467, -0.0…\n",
       "  8 => [0.0314547, -0.013892, 0.139853, 0.0072416, -0.0179684, -0.0185467, -0.0…\n",
       "  3 => [0.0315897, -0.0138894, 0.14003, 0.00721032, -0.0178906, -0.0185169, -0.…\n",
       "  1 => [0.0698699, 0.00522154, 0.228568, 0.0235346, -0.00651184, -0.0157482, -0…"
      ]
     },
     "execution_count": 7,
     "metadata": {},
     "output_type": "execute_result"
    }
   ],
   "source": [
    "dJM = solve(A,b,xₒ, ϵ = ϵ, maxiterations = maxiterations, algorithm = MyJacobiMethod())"
   ]
  },
  {
   "cell_type": "markdown",
   "id": "b11df9c0-142a-440c-8b67-0940ca16b023",
   "metadata": {},
   "source": [
    "### Check: Did we meet the error condition?"
   ]
  },
  {
   "cell_type": "code",
   "execution_count": 8,
   "id": "65c03e29-ad9c-4adf-94ad-4293e7991c18",
   "metadata": {},
   "outputs": [],
   "source": [
    "error = A*dJM[maximum(keys(dJM))] - b\n",
    "@assert maximum(error) < ϵ"
   ]
  },
  {
   "cell_type": "markdown",
   "id": "e6ccaf9e-3530-494b-9479-dee23563421b",
   "metadata": {},
   "source": [
    "## Solve the LAEs using the `Gauss-Seidel` method\n",
    "Fill me in"
   ]
  },
  {
   "cell_type": "code",
   "execution_count": 9,
   "id": "d5cf31fa-fd07-4696-810b-de0bcdb3f64f",
   "metadata": {},
   "outputs": [
    {
     "data": {
      "text/plain": [
       "Dict{Int64, Vector{Float64}} with 5 entries:\n",
       "  0 => [0.41695, 0.375405, 0.527739, 0.920956, 0.6332, 0.0527424, 0.558699, 0.5…\n",
       "  4 => [0.0314547, -0.0138922, 0.139853, 0.00724153, -0.0179684, -0.0185467, -0…\n",
       "  2 => [0.0289614, -0.0130837, 0.139749, 0.00713586, -0.0180209, -0.018533, -0.…\n",
       "  3 => [0.0314445, -0.0138911, 0.139851, 0.00724228, -0.0179724, -0.0185457, -0…\n",
       "  1 => [0.0698699, 0.0109708, 0.269388, 0.0195037, -0.0187068, -0.0117485, -0.0…"
      ]
     },
     "execution_count": 9,
     "metadata": {},
     "output_type": "execute_result"
    }
   ],
   "source": [
    "dGSM = solve(A,b,xₒ, ϵ = ϵ, maxiterations = maxiterations, algorithm = MyGaussSeidelMethod())"
   ]
  },
  {
   "cell_type": "markdown",
   "id": "6deef891-9b29-41ae-ba06-ec0e44cba13a",
   "metadata": {},
   "source": [
    "### Check: Did we meet the error condition?"
   ]
  },
  {
   "cell_type": "code",
   "execution_count": 10,
   "id": "7cd692f7-2128-4967-add8-b8e5015e860e",
   "metadata": {},
   "outputs": [],
   "source": [
    "error = A*dGSM[maximum(keys(dGSM))] - b\n",
    "@assert maximum(error) < ϵ"
   ]
  },
  {
   "cell_type": "code",
   "execution_count": null,
   "id": "da2a86c4-fd6f-416d-96c6-b72f369474a7",
   "metadata": {},
   "outputs": [],
   "source": []
  }
 ],
 "metadata": {
  "kernelspec": {
   "display_name": "Julia 1.10.2",
   "language": "julia",
   "name": "julia-1.10"
  },
  "language_info": {
   "file_extension": ".jl",
   "mimetype": "application/julia",
   "name": "julia",
   "version": "1.10.2"
  }
 },
 "nbformat": 4,
 "nbformat_minor": 5
}
