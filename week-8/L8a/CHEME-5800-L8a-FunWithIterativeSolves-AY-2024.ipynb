{
 "cells": [
  {
   "cell_type": "markdown",
   "id": "50726f35-078f-437d-b497-b3c4b2d3012f",
   "metadata": {},
   "source": [
    "# Example: Using Iterative Linear Algebraic Equation (LAEs) Solvers\n",
    "This example will familiarize students with developing and using iterative solvers for systems of Linear Algebraic Equations (LAEs). "
   ]
  },
  {
   "cell_type": "markdown",
   "id": "33455b60-e7f7-4fcd-a59d-ddf236df05bd",
   "metadata": {},
   "source": [
    "## Setup\n",
    "Fill me in"
   ]
  },
  {
   "cell_type": "code",
   "execution_count": 1,
   "id": "f8c8f9d0-b66b-45b6-8132-c18cb49828eb",
   "metadata": {},
   "outputs": [
    {
     "name": "stderr",
     "output_type": "stream",
     "text": [
      "\u001b[32m\u001b[1m  Activating\u001b[22m\u001b[39m project at `~/Desktop/julia_work/CHEME-4800-5800-Examples-AY-2024/week-8/L8a`\n",
      "\u001b[32m\u001b[1m  No Changes\u001b[22m\u001b[39m to `~/Desktop/julia_work/CHEME-4800-5800-Examples-AY-2024/week-8/L8a/Project.toml`\n",
      "\u001b[32m\u001b[1m  No Changes\u001b[22m\u001b[39m to `~/Desktop/julia_work/CHEME-4800-5800-Examples-AY-2024/week-8/L8a/Manifest.toml`\n",
      "\u001b[32m\u001b[1m    Updating\u001b[22m\u001b[39m registry at `~/.julia/registries/General.toml`\n",
      "\u001b[32m\u001b[1m  No Changes\u001b[22m\u001b[39m to `~/Desktop/julia_work/CHEME-4800-5800-Examples-AY-2024/week-8/L8a/Project.toml`\n",
      "\u001b[32m\u001b[1m  No Changes\u001b[22m\u001b[39m to `~/Desktop/julia_work/CHEME-4800-5800-Examples-AY-2024/week-8/L8a/Manifest.toml`\n"
     ]
    }
   ],
   "source": [
    "include(\"Include.jl\");"
   ]
  },
  {
   "cell_type": "markdown",
   "id": "241d7122-43e8-4164-88f0-0b9fd3f86e52",
   "metadata": {},
   "source": [
    "## Generate A Random Digonally Dominate Test Matrix and right-hand-side vector\n",
    "Fill me in"
   ]
  },
  {
   "cell_type": "code",
   "execution_count": 2,
   "id": "495cd085-7693-4643-97b2-5f1e9fc35711",
   "metadata": {},
   "outputs": [],
   "source": [
    "number_of_rows = 5000;"
   ]
  },
  {
   "cell_type": "code",
   "execution_count": 3,
   "id": "f0521846-3bb0-4289-8ed7-591b42d40b68",
   "metadata": {},
   "outputs": [],
   "source": [
    "A = randn(number_of_rows, number_of_rows) .+ 10*(number_of_rows)*diagm(rand(number_of_rows));\n",
    "b = randn(number_of_rows);"
   ]
  },
  {
   "cell_type": "code",
   "execution_count": 4,
   "id": "ee93ed51-5374-4abd-bbb0-e73c5111e7ef",
   "metadata": {},
   "outputs": [
    {
     "data": {
      "text/plain": [
       "5000×5000 Matrix{Float64}:\n",
       " 8957.11            1.37877       -0.0835948  …      0.452988      0.364328\n",
       "    0.832373    22873.1            0.284514          1.26085      -0.382603\n",
       "   -0.0112191       0.704855   34290.9               0.171007      0.804011\n",
       "    1.29591         1.03605       -1.07945          -0.580337      1.12088\n",
       "   -0.314422        0.508923       0.501642          0.138325     -0.221011\n",
       "   -0.121473        0.377014       0.209612   …     -0.662157     -0.539891\n",
       "    2.1339          0.483318      -1.54857          -1.40451       0.0565791\n",
       "    0.297217        0.0809034      0.59626           1.35303       0.294641\n",
       "   -1.55481        -0.807641       0.709187         -1.48781      -1.06256\n",
       "    1.48159        -0.551796       0.0163542         0.955006     -1.2821\n",
       "   -0.292076        2.04466       -0.517114   …      0.717462     -0.247664\n",
       "    0.00864968      0.524775      -1.09832           0.474919     -0.26219\n",
       "    0.952199       -1.99594        2.06733           0.481157      0.0353165\n",
       "    ⋮                                         ⋱                 \n",
       "    0.0951597      -0.583079       0.667823         -0.384441     -0.321497\n",
       "   -1.30971         1.04985        1.06134           0.395948     -0.0896701\n",
       "    0.297641        0.141325       0.201369   …      0.250969     -1.28041\n",
       "   -1.1212          1.41625        0.0960513         1.83887       3.35678\n",
       "    1.0837         -1.2655        -1.11975           1.34978      -0.488708\n",
       "   -0.929986       -0.176786       1.20257          -0.143025      2.17223\n",
       "    0.494765        0.411387      -1.63107          -1.24191       0.875475\n",
       "   -0.423733        0.433221       1.31108    …     -1.56765      -0.938613\n",
       "   -0.454142        2.08386       -0.489203         -0.224222      1.31755\n",
       "   -3.21962         2.20297        0.748309          0.289108      1.84803\n",
       "   -0.0323286       0.912456      -1.41948       20723.9           0.200133\n",
       "    0.0249769       0.774407      -0.817089          0.0190267  5598.97"
      ]
     },
     "execution_count": 4,
     "metadata": {},
     "output_type": "execute_result"
    }
   ],
   "source": [
    "A"
   ]
  },
  {
   "cell_type": "markdown",
   "id": "e7bd7254-5db6-4d4a-b481-a107b0cb765f",
   "metadata": {},
   "source": [
    "### Check: Is the system matrix $\\mathbf{A}$ strictly diagonally dominant?\n",
    "Fill me in"
   ]
  },
  {
   "cell_type": "code",
   "execution_count": 5,
   "id": "b7d91ec2-8076-4918-98fc-334435463c7b",
   "metadata": {},
   "outputs": [],
   "source": [
    "ddcondition = Dict{Int64,Bool}()\n",
    "for i ∈ 1:number_of_rows\n",
    "    aii = abs(A[i,i]);\n",
    "    σ = 0.0;\n",
    "    for j ∈ 1:number_of_rows\n",
    "        if (i ≠ j)\n",
    "            σ += abs(A[i,j]);\n",
    "        end\n",
    "    end\n",
    "    ddcondition[i] = (aii > σ) ? true : false;\n",
    "end"
   ]
  },
  {
   "cell_type": "code",
   "execution_count": 6,
   "id": "1b8657fc-4e81-46cf-a406-f3ef22e6ae87",
   "metadata": {},
   "outputs": [
    {
     "data": {
      "text/plain": [
       "false"
      ]
     },
     "execution_count": 6,
     "metadata": {},
     "output_type": "execute_result"
    }
   ],
   "source": [
    "(findall(x-> x == 0, ddcondition) |> isempty) == true"
   ]
  },
  {
   "cell_type": "markdown",
   "id": "b1b7243b-529d-4fa8-a7f9-62a1cb92bfd4",
   "metadata": {},
   "source": [
    "## Solve the LAEs using the  `Jacobi` method\n",
    "Fill me in"
   ]
  },
  {
   "cell_type": "code",
   "execution_count": 7,
   "id": "19b73c38-5adf-4e22-af05-708fcea6e3e3",
   "metadata": {},
   "outputs": [],
   "source": [
    "xₒ = rand(number_of_rows); # initial condition\n",
    "maxiterations = 100;\n",
    "ϵ = 1e-6;"
   ]
  },
  {
   "cell_type": "code",
   "execution_count": 8,
   "id": "e4921e98-adb9-430a-bfda-db0c1c9418fe",
   "metadata": {},
   "outputs": [
    {
     "data": {
      "text/plain": [
       "Dict{Int64, Vector{Float64}} with 11 entries:\n",
       "  5  => [-2.12418e-5, 5.12886e-5, 4.25054e-5, -5.23284e-6, -1.44473e-5, 9.40533…\n",
       "  8  => [-2.12381e-5, 5.12551e-5, 4.25646e-5, -5.19339e-6, -1.44066e-5, 9.39246…\n",
       "  1  => [-0.00140771, 0.00362285, 0.00195274, 0.00147759, 0.00149068, -0.000446…\n",
       "  0  => [0.898552, 0.223168, 0.324591, 0.657061, 0.0437742, 0.523777, 0.73856, …\n",
       "  6  => [-2.12473e-5, 5.12558e-5, 4.25673e-5, -5.19225e-6, -1.44044e-5, 9.39236…\n",
       "  9  => [-2.12381e-5, 5.12551e-5, 4.25646e-5, -5.19339e-6, -1.44066e-5, 9.39246…\n",
       "  3  => [-2.37644e-5, 5.08969e-5, 5.38545e-5, -4.05752e-6, -6.48519e-6, 7.17651…\n",
       "  7  => [-2.12379e-5, 5.12548e-5, 4.2565e-5, -5.19305e-6, -1.44064e-5, 9.39237e…\n",
       "  4  => [-2.05742e-5, 5.09582e-5, 4.236e-5, -4.96233e-6, -1.43809e-5, 9.40041e-…\n",
       "  2  => [-0.000145102, 0.00017235, -9.91826e-6, -0.000202008, -3.82769e-5, 0.00…\n",
       "  10 => [-2.12381e-5, 5.12551e-5, 4.25646e-5, -5.19338e-6, -1.44066e-5, 9.39246…"
      ]
     },
     "execution_count": 8,
     "metadata": {},
     "output_type": "execute_result"
    }
   ],
   "source": [
    "dJM = solve(A,b,xₒ, ϵ = ϵ, maxiterations = maxiterations, algorithm = MyJacobiMethod())"
   ]
  },
  {
   "cell_type": "markdown",
   "id": "b11df9c0-142a-440c-8b67-0940ca16b023",
   "metadata": {},
   "source": [
    "### Check: Did we meet the error condition?"
   ]
  },
  {
   "cell_type": "code",
   "execution_count": 9,
   "id": "65c03e29-ad9c-4adf-94ad-4293e7991c18",
   "metadata": {},
   "outputs": [],
   "source": [
    "error = A*dJM[maximum(keys(dJM))] - b\n",
    "@assert maximum(error) < ϵ"
   ]
  },
  {
   "cell_type": "markdown",
   "id": "e6ccaf9e-3530-494b-9479-dee23563421b",
   "metadata": {},
   "source": [
    "## Solve the LAEs using the `Gauss-Seidel` method\n",
    "Fill me in"
   ]
  },
  {
   "cell_type": "code",
   "execution_count": 10,
   "id": "d5cf31fa-fd07-4696-810b-de0bcdb3f64f",
   "metadata": {},
   "outputs": [
    {
     "data": {
      "text/plain": [
       "Dict{Int64, Vector{Float64}} with 7 entries:\n",
       "  0 => [0.898552, 0.223168, 0.324591, 0.657061, 0.0437742, 0.523777, 0.73856, 0…\n",
       "  4 => [-2.10051e-5, 5.13247e-5, 4.25796e-5, -5.21622e-6, -1.44034e-5, 9.38262e…\n",
       "  5 => [-2.12384e-5, 5.12548e-5, 4.25647e-5, -5.19334e-6, -1.44063e-5, 9.39253e…\n",
       "  6 => [-2.12382e-5, 5.12551e-5, 4.25646e-5, -5.19337e-6, -1.44066e-5, 9.39246e…\n",
       "  2 => [0.000125493, 6.57377e-5, 2.84779e-5, -2.43102e-5, 6.29105e-6, 0.0001076…\n",
       "  3 => [-2.39341e-5, 5.20572e-5, 4.07232e-5, -6.80156e-6, -1.6043e-5, 9.72693e-…\n",
       "  1 => [-0.00140771, 0.0036556, 0.00195696, 0.00151496, 0.00149484, -0.00053470…"
      ]
     },
     "execution_count": 10,
     "metadata": {},
     "output_type": "execute_result"
    }
   ],
   "source": [
    "dGSM = solve(A,b,xₒ, ϵ = ϵ, maxiterations = maxiterations, algorithm = MyGaussSeidelMethod())"
   ]
  },
  {
   "cell_type": "markdown",
   "id": "6deef891-9b29-41ae-ba06-ec0e44cba13a",
   "metadata": {},
   "source": [
    "### Check: Did we meet the error condition?"
   ]
  },
  {
   "cell_type": "code",
   "execution_count": 11,
   "id": "7cd692f7-2128-4967-add8-b8e5015e860e",
   "metadata": {},
   "outputs": [],
   "source": [
    "error = A*dGSM[maximum(keys(dGSM))] - b\n",
    "@assert maximum(error) < ϵ"
   ]
  },
  {
   "cell_type": "markdown",
   "id": "c4283e1f-aa48-4ee1-a138-eae70c30838d",
   "metadata": {},
   "source": [
    "## How well do these algorithms scale?"
   ]
  },
  {
   "cell_type": "code",
   "execution_count": 12,
   "id": "ea3f9981-ee30-4dc1-a05f-42707794471f",
   "metadata": {},
   "outputs": [
    {
     "data": {
      "text/plain": [
       "BenchmarkTools.Trial: 5 samples with 1 evaluation.\n",
       " Range \u001b[90m(\u001b[39m\u001b[36m\u001b[1mmin\u001b[22m\u001b[39m … \u001b[35mmax\u001b[39m\u001b[90m):  \u001b[39m\u001b[36m\u001b[1m1.063 s\u001b[22m\u001b[39m … \u001b[35m  1.093 s\u001b[39m  \u001b[90m┊\u001b[39m GC \u001b[90m(\u001b[39mmin … max\u001b[90m): \u001b[39m0.00% … 0.00%\n",
       " Time  \u001b[90m(\u001b[39m\u001b[34m\u001b[1mmedian\u001b[22m\u001b[39m\u001b[90m):     \u001b[39m\u001b[34m\u001b[1m1.068 s              \u001b[22m\u001b[39m\u001b[90m┊\u001b[39m GC \u001b[90m(\u001b[39mmedian\u001b[90m):    \u001b[39m0.00%\n",
       " Time  \u001b[90m(\u001b[39m\u001b[32m\u001b[1mmean\u001b[22m\u001b[39m ± \u001b[32mσ\u001b[39m\u001b[90m):   \u001b[39m\u001b[32m\u001b[1m1.074 s\u001b[22m\u001b[39m ± \u001b[32m13.028 ms\u001b[39m  \u001b[90m┊\u001b[39m GC \u001b[90m(\u001b[39mmean ± σ\u001b[90m):  \u001b[39m0.00% ± 0.00%\n",
       "\n",
       "  \u001b[39m█\u001b[39m \u001b[39m \u001b[39m \u001b[39m█\u001b[34m \u001b[39m\u001b[39m \u001b[39m \u001b[39m \u001b[39m \u001b[39m█\u001b[39m \u001b[39m \u001b[39m \u001b[39m \u001b[39m \u001b[39m \u001b[39m \u001b[39m \u001b[39m \u001b[39m \u001b[39m \u001b[32m \u001b[39m\u001b[39m \u001b[39m \u001b[39m \u001b[39m \u001b[39m \u001b[39m \u001b[39m \u001b[39m \u001b[39m \u001b[39m \u001b[39m \u001b[39m \u001b[39m \u001b[39m█\u001b[39m \u001b[39m \u001b[39m \u001b[39m \u001b[39m \u001b[39m \u001b[39m \u001b[39m \u001b[39m \u001b[39m \u001b[39m \u001b[39m \u001b[39m \u001b[39m \u001b[39m \u001b[39m \u001b[39m \u001b[39m \u001b[39m \u001b[39m█\u001b[39m \u001b[39m \n",
       "  \u001b[39m█\u001b[39m▁\u001b[39m▁\u001b[39m▁\u001b[39m█\u001b[34m▁\u001b[39m\u001b[39m▁\u001b[39m▁\u001b[39m▁\u001b[39m▁\u001b[39m█\u001b[39m▁\u001b[39m▁\u001b[39m▁\u001b[39m▁\u001b[39m▁\u001b[39m▁\u001b[39m▁\u001b[39m▁\u001b[39m▁\u001b[39m▁\u001b[39m▁\u001b[32m▁\u001b[39m\u001b[39m▁\u001b[39m▁\u001b[39m▁\u001b[39m▁\u001b[39m▁\u001b[39m▁\u001b[39m▁\u001b[39m▁\u001b[39m▁\u001b[39m▁\u001b[39m▁\u001b[39m▁\u001b[39m▁\u001b[39m█\u001b[39m▁\u001b[39m▁\u001b[39m▁\u001b[39m▁\u001b[39m▁\u001b[39m▁\u001b[39m▁\u001b[39m▁\u001b[39m▁\u001b[39m▁\u001b[39m▁\u001b[39m▁\u001b[39m▁\u001b[39m▁\u001b[39m▁\u001b[39m▁\u001b[39m▁\u001b[39m▁\u001b[39m▁\u001b[39m█\u001b[39m \u001b[39m▁\n",
       "  1.06 s\u001b[90m         Histogram: frequency by time\u001b[39m        1.09 s \u001b[0m\u001b[1m<\u001b[22m\n",
       "\n",
       " Memory estimate\u001b[90m: \u001b[39m\u001b[33m1.57 MiB\u001b[39m, allocs estimate\u001b[90m: \u001b[39m\u001b[33m89\u001b[39m."
      ]
     },
     "execution_count": 12,
     "metadata": {},
     "output_type": "execute_result"
    }
   ],
   "source": [
    "@benchmark solve(A,b,xₒ, ϵ = 1e-6, maxiterations = 100, algorithm = MyJacobiMethod()) setup=(A=$A,b=$b,xₒ=$xₒ)"
   ]
  },
  {
   "cell_type": "code",
   "execution_count": 13,
   "id": "6be85d7f-80f8-4fb6-a1b9-5644a4a56eca",
   "metadata": {},
   "outputs": [
    {
     "data": {
      "text/plain": [
       "BenchmarkTools.Trial: 8 samples with 1 evaluation.\n",
       " Range \u001b[90m(\u001b[39m\u001b[36m\u001b[1mmin\u001b[22m\u001b[39m … \u001b[35mmax\u001b[39m\u001b[90m):  \u001b[39m\u001b[36m\u001b[1m657.353 ms\u001b[22m\u001b[39m … \u001b[35m672.762 ms\u001b[39m  \u001b[90m┊\u001b[39m GC \u001b[90m(\u001b[39mmin … max\u001b[90m): \u001b[39m0.00% … 0.00%\n",
       " Time  \u001b[90m(\u001b[39m\u001b[34m\u001b[1mmedian\u001b[22m\u001b[39m\u001b[90m):     \u001b[39m\u001b[34m\u001b[1m670.793 ms               \u001b[22m\u001b[39m\u001b[90m┊\u001b[39m GC \u001b[90m(\u001b[39mmedian\u001b[90m):    \u001b[39m0.00%\n",
       " Time  \u001b[90m(\u001b[39m\u001b[32m\u001b[1mmean\u001b[22m\u001b[39m ± \u001b[32mσ\u001b[39m\u001b[90m):   \u001b[39m\u001b[32m\u001b[1m668.380 ms\u001b[22m\u001b[39m ± \u001b[32m  5.470 ms\u001b[39m  \u001b[90m┊\u001b[39m GC \u001b[90m(\u001b[39mmean ± σ\u001b[90m):  \u001b[39m0.00% ± 0.00%\n",
       "\n",
       "  \u001b[39m█\u001b[39m \u001b[39m \u001b[39m \u001b[39m \u001b[39m \u001b[39m \u001b[39m \u001b[39m \u001b[39m \u001b[39m \u001b[39m \u001b[39m \u001b[39m \u001b[39m \u001b[39m \u001b[39m \u001b[39m \u001b[39m \u001b[39m \u001b[39m \u001b[39m█\u001b[39m \u001b[39m \u001b[39m \u001b[39m \u001b[39m \u001b[39m \u001b[39m \u001b[39m \u001b[39m \u001b[39m \u001b[39m \u001b[39m \u001b[39m \u001b[39m \u001b[39m \u001b[39m \u001b[39m \u001b[39m \u001b[39m \u001b[39m \u001b[39m \u001b[39m \u001b[32m█\u001b[39m\u001b[39m \u001b[39m \u001b[39m \u001b[39m \u001b[39m \u001b[39m \u001b[39m \u001b[39m█\u001b[34m█\u001b[39m\u001b[39m \u001b[39m█\u001b[39m \u001b[39m \u001b[39m \u001b[39m█\u001b[39m█\u001b[39m \u001b[39m \n",
       "  \u001b[39m█\u001b[39m▁\u001b[39m▁\u001b[39m▁\u001b[39m▁\u001b[39m▁\u001b[39m▁\u001b[39m▁\u001b[39m▁\u001b[39m▁\u001b[39m▁\u001b[39m▁\u001b[39m▁\u001b[39m▁\u001b[39m▁\u001b[39m▁\u001b[39m▁\u001b[39m▁\u001b[39m▁\u001b[39m▁\u001b[39m▁\u001b[39m█\u001b[39m▁\u001b[39m▁\u001b[39m▁\u001b[39m▁\u001b[39m▁\u001b[39m▁\u001b[39m▁\u001b[39m▁\u001b[39m▁\u001b[39m▁\u001b[39m▁\u001b[39m▁\u001b[39m▁\u001b[39m▁\u001b[39m▁\u001b[39m▁\u001b[39m▁\u001b[39m▁\u001b[39m▁\u001b[39m▁\u001b[39m▁\u001b[39m▁\u001b[32m█\u001b[39m\u001b[39m▁\u001b[39m▁\u001b[39m▁\u001b[39m▁\u001b[39m▁\u001b[39m▁\u001b[39m▁\u001b[39m█\u001b[34m█\u001b[39m\u001b[39m▁\u001b[39m█\u001b[39m▁\u001b[39m▁\u001b[39m▁\u001b[39m█\u001b[39m█\u001b[39m \u001b[39m▁\n",
       "  657 ms\u001b[90m           Histogram: frequency by time\u001b[39m          673 ms \u001b[0m\u001b[1m<\u001b[22m\n",
       "\n",
       " Memory estimate\u001b[90m: \u001b[39m\u001b[33m744.78 KiB\u001b[39m, allocs estimate\u001b[90m: \u001b[39m\u001b[33m42\u001b[39m."
      ]
     },
     "execution_count": 13,
     "metadata": {},
     "output_type": "execute_result"
    }
   ],
   "source": [
    "@benchmark solve(A,b,xₒ, ϵ = 1e-6, maxiterations = 100, algorithm = MyGaussSeidelMethod()) setup=(A=$A,b=$b,xₒ=$xₒ)"
   ]
  },
  {
   "cell_type": "code",
   "execution_count": 14,
   "id": "5832f464-fd3a-48e1-bbe7-3146f16d621d",
   "metadata": {},
   "outputs": [
    {
     "data": {
      "text/plain": [
       "BenchmarkTools.Trial: 18 samples with 1 evaluation.\n",
       " Range \u001b[90m(\u001b[39m\u001b[36m\u001b[1mmin\u001b[22m\u001b[39m … \u001b[35mmax\u001b[39m\u001b[90m):  \u001b[39m\u001b[36m\u001b[1m286.343 ms\u001b[22m\u001b[39m … \u001b[35m310.960 ms\u001b[39m  \u001b[90m┊\u001b[39m GC \u001b[90m(\u001b[39mmin … max\u001b[90m): \u001b[39m0.00% … 0.00%\n",
       " Time  \u001b[90m(\u001b[39m\u001b[34m\u001b[1mmedian\u001b[22m\u001b[39m\u001b[90m):     \u001b[39m\u001b[34m\u001b[1m291.171 ms               \u001b[22m\u001b[39m\u001b[90m┊\u001b[39m GC \u001b[90m(\u001b[39mmedian\u001b[90m):    \u001b[39m0.54%\n",
       " Time  \u001b[90m(\u001b[39m\u001b[32m\u001b[1mmean\u001b[22m\u001b[39m ± \u001b[32mσ\u001b[39m\u001b[90m):   \u001b[39m\u001b[32m\u001b[1m292.003 ms\u001b[22m\u001b[39m ± \u001b[32m  6.715 ms\u001b[39m  \u001b[90m┊\u001b[39m GC \u001b[90m(\u001b[39mmean ± σ\u001b[90m):  \u001b[39m0.93% ± 0.97%\n",
       "\n",
       "  \u001b[39m█\u001b[39m \u001b[39m \u001b[39m \u001b[39m \u001b[39m \u001b[39m \u001b[39m \u001b[39m \u001b[39m \u001b[34m \u001b[39m\u001b[39m \u001b[39m \u001b[39m \u001b[32m▄\u001b[39m\u001b[39m \u001b[39m \u001b[39m \u001b[39m \u001b[39m \u001b[39m \u001b[39m \u001b[39m \u001b[39m \u001b[39m \u001b[39m \u001b[39m \u001b[39m \u001b[39m \u001b[39m \u001b[39m \u001b[39m \u001b[39m \u001b[39m \u001b[39m \u001b[39m \u001b[39m \u001b[39m \u001b[39m \u001b[39m \u001b[39m \u001b[39m \u001b[39m \u001b[39m \u001b[39m \u001b[39m \u001b[39m \u001b[39m \u001b[39m \u001b[39m \u001b[39m \u001b[39m \u001b[39m \u001b[39m \u001b[39m \u001b[39m \u001b[39m \u001b[39m \u001b[39m \u001b[39m \u001b[39m \u001b[39m \u001b[39m \n",
       "  \u001b[39m█\u001b[39m▆\u001b[39m▆\u001b[39m▆\u001b[39m▆\u001b[39m▁\u001b[39m▁\u001b[39m▁\u001b[39m▁\u001b[39m▆\u001b[34m▁\u001b[39m\u001b[39m▁\u001b[39m▁\u001b[39m▆\u001b[32m█\u001b[39m\u001b[39m▆\u001b[39m▁\u001b[39m▁\u001b[39m▁\u001b[39m▁\u001b[39m▆\u001b[39m▁\u001b[39m▁\u001b[39m▁\u001b[39m▁\u001b[39m▁\u001b[39m▁\u001b[39m▁\u001b[39m▁\u001b[39m▁\u001b[39m▁\u001b[39m▆\u001b[39m▁\u001b[39m▁\u001b[39m▁\u001b[39m▁\u001b[39m▁\u001b[39m▁\u001b[39m▁\u001b[39m▁\u001b[39m▁\u001b[39m▁\u001b[39m▁\u001b[39m▆\u001b[39m▁\u001b[39m▁\u001b[39m▁\u001b[39m▁\u001b[39m▁\u001b[39m▁\u001b[39m▁\u001b[39m▁\u001b[39m▁\u001b[39m▁\u001b[39m▁\u001b[39m▁\u001b[39m▁\u001b[39m▁\u001b[39m▁\u001b[39m▁\u001b[39m▆\u001b[39m \u001b[39m▁\n",
       "  286 ms\u001b[90m           Histogram: frequency by time\u001b[39m          311 ms \u001b[0m\u001b[1m<\u001b[22m\n",
       "\n",
       " Memory estimate\u001b[90m: \u001b[39m\u001b[33m190.81 MiB\u001b[39m, allocs estimate\u001b[90m: \u001b[39m\u001b[33m6\u001b[39m."
      ]
     },
     "execution_count": 14,
     "metadata": {},
     "output_type": "execute_result"
    }
   ],
   "source": [
    "@benchmark solve(A,b,xₒ, ϵ = 1e-6, maxiterations = 100, algorithm = MyGaussianEliminationMethod()) setup=(A=$A,b=$b,xₒ=$xₒ)"
   ]
  },
  {
   "cell_type": "code",
   "execution_count": null,
   "id": "f7e0cfa0-6bd4-4bd5-bc64-c170b5ec03e3",
   "metadata": {},
   "outputs": [],
   "source": []
  }
 ],
 "metadata": {
  "kernelspec": {
   "display_name": "Julia 1.10.2",
   "language": "julia",
   "name": "julia-1.10"
  },
  "language_info": {
   "file_extension": ".jl",
   "mimetype": "application/julia",
   "name": "julia",
   "version": "1.10.2"
  }
 },
 "nbformat": 4,
 "nbformat_minor": 5
}
