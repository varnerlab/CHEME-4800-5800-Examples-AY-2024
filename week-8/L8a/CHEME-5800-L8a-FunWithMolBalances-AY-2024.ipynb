{
 "cells": [
  {
   "cell_type": "markdown",
   "id": "2200838a-dd69-4b1b-8f60-608f1fd9045e",
   "metadata": {},
   "source": [
    "# Example: Working with Systems of Species Mole Balances\n",
    "Fill me in"
   ]
  },
  {
   "cell_type": "markdown",
   "id": "b91a5020-62a7-4905-8740-a59f6405ec55",
   "metadata": {},
   "source": [
    "## Setup"
   ]
  },
  {
   "cell_type": "code",
   "execution_count": 1,
   "id": "20d1414b-1081-477a-b920-3eddb9b8898c",
   "metadata": {},
   "outputs": [
    {
     "name": "stderr",
     "output_type": "stream",
     "text": [
      "\u001b[32m\u001b[1m  Activating\u001b[22m\u001b[39m project at `~/Desktop/julia_work/CHEME-4800-5800-Examples-AY-2024/week-8/L8a`\n",
      "\u001b[32m\u001b[1m  No Changes\u001b[22m\u001b[39m to `~/Desktop/julia_work/CHEME-4800-5800-Examples-AY-2024/week-8/L8a/Project.toml`\n",
      "\u001b[32m\u001b[1m  No Changes\u001b[22m\u001b[39m to `~/Desktop/julia_work/CHEME-4800-5800-Examples-AY-2024/week-8/L8a/Manifest.toml`\n",
      "\u001b[32m\u001b[1m    Updating\u001b[22m\u001b[39m registry at `~/.julia/registries/General.toml`\n",
      "\u001b[32m\u001b[1m  No Changes\u001b[22m\u001b[39m to `~/Desktop/julia_work/CHEME-4800-5800-Examples-AY-2024/week-8/L8a/Project.toml`\n",
      "\u001b[32m\u001b[1m  No Changes\u001b[22m\u001b[39m to `~/Desktop/julia_work/CHEME-4800-5800-Examples-AY-2024/week-8/L8a/Manifest.toml`\n"
     ]
    }
   ],
   "source": [
    "include(\"Include.jl\");"
   ]
  },
  {
   "cell_type": "markdown",
   "id": "c7852e7b-9cf8-457e-b056-fb67993ac0d8",
   "metadata": {},
   "source": [
    "## 1. Load the Reaction File and Build a Stoichiometric Matrix\n",
    "We have encoded a few chemical reaction networks as a list of comma-separated records. \n",
    "* Each reaction record has the fields: `name::String, forward-reaction::String, backward-reaction::String, reversible::Bool`. Let's look at an [example toy network](data/Toy.net).\n",
    "\n",
    "We'll build a parser for this kind of reaction file. Specify the path to the reaction file in the `path_to_reaction_file` variable:"
   ]
  },
  {
   "cell_type": "code",
   "execution_count": 2,
   "id": "544074ca-6aca-4a6d-8117-835a2e821735",
   "metadata": {},
   "outputs": [],
   "source": [
    "path_to_reaction_file = joinpath(_PATH_TO_DATA,\"Toy.net\");"
   ]
  },
  {
   "cell_type": "markdown",
   "id": "a7ede585-a47d-4fec-80d2-a2ea4a9a4e97",
   "metadata": {},
   "source": [
    "Next, we pass the `path_to_reaction_file` (which points to our reaction file) to the `read_reaction_file` function, which builds a list of reaction information as a collection of `MyChemicalReactionModel` instances.\n",
    "* The `read_reaction_file(...)` function takes the path to `path_to_reaction_file` as an argument, along with information about the record delimiter (a `,` in this case) and what the comment characters are. This function returns the `reactions` dictionary holding the reaction name as the `key` and `MyChemicalReactionModel` instances as the `values`."
   ]
  },
  {
   "cell_type": "code",
   "execution_count": 3,
   "id": "84fd1967-ffd1-4660-b1d5-2045590d3426",
   "metadata": {},
   "outputs": [
    {
     "data": {
      "text/plain": [
       "Dict{Int64, MyChemicalReactionModel} with 3 entries:\n",
       "  2 => MyChemicalReactionModel(\"v2\", \"B\", \"P\", false, Dict(\"B\"=>-1.0, \"P\"=>1.0))\n",
       "  3 => MyChemicalReactionModel(\"v3\", \"A2+y\", \"C+x\", false, Dict(\"A2\"=>-1.0, \"C\"…\n",
       "  1 => MyChemicalReactionModel(\"v1\", \"A1+x\", \"B+y\", false, Dict(\"B\"=>1.0, \"A1\"=…"
      ]
     },
     "execution_count": 3,
     "metadata": {},
     "output_type": "execute_result"
    }
   ],
   "source": [
    "reactions = readreactionfile(path_to_reaction_file, comment=\"//\")"
   ]
  },
  {
   "cell_type": "markdown",
   "id": "9f888b7a-c63c-4144-822b-a66818c6f3f6",
   "metadata": {},
   "source": [
    "The `MyChemicalReactionModel` type is specified in the [src/Types.jl file](src/Types.jl), holds information for each reaction in the system of reactions. We use this information to construct an instance of `MyStoichiometricMatrixModel` using the `build(...)` function in [src/Factory.jl](src/Factory.jl)\n",
    "* The `build(...)` function for the `MyStoichiometricMatrixModel` type takes the `reactions` dictionary and an extra argument; the `expand::Bool` argument tells the build process to split reversible reactions into forward and reversible component"
   ]
  },
  {
   "cell_type": "code",
   "execution_count": 5,
   "id": "189af95f-687a-4e3a-baba-04da5156cda4",
   "metadata": {},
   "outputs": [
    {
     "data": {
      "text/plain": [
       "MyStoichiometricMatrixModel([\"A1\", \"A2\", \"B\", \"C\", \"P\", \"x\", \"y\"], [\"v1\", \"v2\", \"v3\"], [-1.0 0.0 0.0; 0.0 0.0 -1.0; … ; -1.0 0.0 1.0; 1.0 0.0 -1.0])"
      ]
     },
     "execution_count": 5,
     "metadata": {},
     "output_type": "execute_result"
    }
   ],
   "source": [
    "S = build(MyStoichiometricMatrixModel, reactions)"
   ]
  },
  {
   "cell_type": "code",
   "execution_count": 6,
   "id": "7af943f9-9d0b-4229-a5e1-8b63a11e0624",
   "metadata": {},
   "outputs": [
    {
     "data": {
      "text/plain": [
       "7×3 Matrix{Float64}:\n",
       " -1.0   0.0   0.0\n",
       "  0.0   0.0  -1.0\n",
       "  1.0  -1.0   0.0\n",
       "  0.0   0.0   1.0\n",
       "  0.0   1.0   0.0\n",
       " -1.0   0.0   1.0\n",
       "  1.0   0.0  -1.0"
      ]
     },
     "execution_count": 6,
     "metadata": {},
     "output_type": "execute_result"
    }
   ],
   "source": [
    "S.matrix"
   ]
  },
  {
   "cell_type": "code",
   "execution_count": 11,
   "id": "5ce6f5e6-8465-427e-a770-65bed93e27e1",
   "metadata": {},
   "outputs": [
    {
     "data": {
      "text/plain": [
       "7-element Vector{String}:\n",
       " \"A1\"\n",
       " \"A2\"\n",
       " \"B\"\n",
       " \"C\"\n",
       " \"P\"\n",
       " \"x\"\n",
       " \"y\""
      ]
     },
     "execution_count": 11,
     "metadata": {},
     "output_type": "execute_result"
    }
   ],
   "source": [
    "S.species"
   ]
  },
  {
   "cell_type": "code",
   "execution_count": 8,
   "id": "79019ae0-082d-4795-b4e1-b874261df2ef",
   "metadata": {},
   "outputs": [],
   "source": [
    "number_of_reactions = length(S.reactions);\n",
    "number_of_species = length(S.species);"
   ]
  },
  {
   "cell_type": "markdown",
   "id": "53343406-9dbf-4239-a19d-05ac2e611836",
   "metadata": {},
   "source": [
    "## 2. Build the System Matrix $\\mathbf{A}$ and the right-hand-side vector $\\mathbf{b}$\n",
    "Fill me in."
   ]
  },
  {
   "cell_type": "code",
   "execution_count": 14,
   "id": "32d6b14d-36fb-469b-9e9c-be397feb7060",
   "metadata": {},
   "outputs": [],
   "source": [
    "number_of_streams = 3; # how many streams into or from the reactor\n",
    "d = zeros(number_of_streams);\n",
    "d[1] = 1; # stream 1 *enters* the reactor\n",
    "d[2] = -1; # stream 2 *exits* the reactor\n",
    "d[3] = -1; # stream 3 *exits* the reactor"
   ]
  },
  {
   "cell_type": "code",
   "execution_count": null,
   "id": "ee7f1771-871b-4de3-8c94-3ef889743e8b",
   "metadata": {},
   "outputs": [],
   "source": []
  }
 ],
 "metadata": {
  "kernelspec": {
   "display_name": "Julia 1.10.2",
   "language": "julia",
   "name": "julia-1.10"
  },
  "language_info": {
   "file_extension": ".jl",
   "mimetype": "application/julia",
   "name": "julia",
   "version": "1.10.2"
  }
 },
 "nbformat": 4,
 "nbformat_minor": 5
}
