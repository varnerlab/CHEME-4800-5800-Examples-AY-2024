{
 "cells": [
  {
   "cell_type": "markdown",
   "id": "ce29ac69-8b5b-47e8-99e1-64895b6c28cd",
   "metadata": {},
   "source": [
    "# Example: Working with Data Configuration Files"
   ]
  },
  {
   "cell_type": "code",
   "execution_count": null,
   "id": "4034cc40-d33e-405d-b9bc-1d9d9d1b2151",
   "metadata": {},
   "outputs": [],
   "source": []
  }
 ],
 "metadata": {
  "kernelspec": {
   "display_name": "Julia 1.10.0",
   "language": "julia",
   "name": "julia-1.10"
  },
  "language_info": {
   "file_extension": ".jl",
   "mimetype": "application/julia",
   "name": "julia",
   "version": "1.10.0"
  }
 },
 "nbformat": 4,
 "nbformat_minor": 5
}
