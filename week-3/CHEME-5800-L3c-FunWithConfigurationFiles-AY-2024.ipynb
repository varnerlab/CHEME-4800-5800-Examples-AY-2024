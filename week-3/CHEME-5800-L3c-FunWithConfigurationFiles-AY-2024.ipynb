{
 "cells": [
  {
   "cell_type": "markdown",
   "id": "ce29ac69-8b5b-47e8-99e1-64895b6c28cd",
   "metadata": {},
   "source": [
    "# Example: Working with Data Configuration Files\n",
    "When working on a project or application, we often store configuration information such as login details and resource addresses outside of the code. Hardcoding this information into the program is not a good practice as it can be difficult to change later. Instead, it's recommended to store this data in configuration files. \n",
    "\n",
    "In this example, we will learn how to read and write configuration files in Julia and explore three common file formats: [TOML](https://toml.io/en/), [JSON](https://www.json.org/json-en.html), and [YAML](https://yaml.org/)."
   ]
  },
  {
   "cell_type": "markdown",
   "id": "7866d74f-28af-4d68-b89e-56c11e80dc03",
   "metadata": {},
   "source": [
    "## Setup\n",
    "To read and write configuration files of various formats, we use build-in or third party external packages. In the `Include.jl` file, we load these packages, and set some required paths for this example."
   ]
  },
  {
   "cell_type": "code",
   "execution_count": 1,
   "id": "acfdecc8-5095-47f0-adc4-f3469343f3be",
   "metadata": {},
   "outputs": [
    {
     "name": "stderr",
     "output_type": "stream",
     "text": [
      "\u001b[32m\u001b[1m  Activating\u001b[22m\u001b[39m project at `~/Desktop/julia_work/CHEME-4800-5800-Examples-AY-2024/week-3`\n",
      "\u001b[32m\u001b[1m  No Changes\u001b[22m\u001b[39m to `~/Desktop/julia_work/CHEME-4800-5800-Examples-AY-2024/week-3/Project.toml`\n",
      "\u001b[32m\u001b[1m  No Changes\u001b[22m\u001b[39m to `~/Desktop/julia_work/CHEME-4800-5800-Examples-AY-2024/week-3/Manifest.toml`\n",
      "\u001b[32m\u001b[1m    Updating\u001b[22m\u001b[39m registry at `~/.julia/registries/General.toml`\n",
      "\u001b[32m\u001b[1m  No Changes\u001b[22m\u001b[39m to `~/Desktop/julia_work/CHEME-4800-5800-Examples-AY-2024/week-3/Project.toml`\n",
      "\u001b[32m\u001b[1m  No Changes\u001b[22m\u001b[39m to `~/Desktop/julia_work/CHEME-4800-5800-Examples-AY-2024/week-3/Manifest.toml`\n"
     ]
    }
   ],
   "source": [
    "include(\"Include.jl\");"
   ]
  },
  {
   "cell_type": "markdown",
   "id": "fb96bfe8-e86a-405d-b879-4f310794d889",
   "metadata": {},
   "source": [
    "## Example 1: TOML configuration files\n",
    "[TOML (Tom's Obvious, Minimal Language)](https://toml.io/en/) is a configuration file format used to store application configuration data. It is intended to be easy to read, write, and parse. TOML files are widely used for storing configuration information. For example, in [Julia](https://docs.julialang.org), the [package manager Pkg.jl](https://pkgdocs.julialang.org/v1/) holds information about the packages required for a project in a `Project.toml` file (which is automatically created when a project is activated).\n",
    "* TOML files consist of key-value pairs, similar to a dictionary in Julia or Python, and can also include nested groups of keys. TOML files often have a `.toml` file extension.\n",
    "\n",
    " Because of its central role in [Julia](https://docs.julialang.org), `TOML.jl,` the package to read and write TOML files, is included in the [Julia standard library](https://docs.julialang.org/en/v1/stdlib/TOML/). Thus, we don't need to install it and can access it by placing the `using TOML` file at the start of our program."
   ]
  },
  {
   "cell_type": "markdown",
   "id": "da8a03b1-f5d8-4a81-a1ef-f950db1e055f",
   "metadata": {},
   "source": [
    "### Example.toml\n",
    "Read the [Example.toml](data/Example.toml)  file in the `data` directory. First, let's specify a `path` to the file we want to load, i.e., a `String` that tells our program where to find the file we want to read. \n",
    "* In Julia, we use the [joinpath function](https://docs.julialang.org/en/v1/base/file/#Base.Filesystem.joinpath) to specify paths because this ensures that we use the proper directory separator character (`/` on macOS/Linux and `\\` on winOS)"
   ]
  },
  {
   "cell_type": "code",
   "execution_count": 2,
   "id": "29c4a0da-5ac2-4ea3-8205-9671dacf59ea",
   "metadata": {},
   "outputs": [
    {
     "data": {
      "text/plain": [
       "\"/Users/jeffreyvarner/Desktop/julia_work/CHEME-4800-5800-Examples-AY-2024/week-3/data/Example.toml\""
      ]
     },
     "execution_count": 2,
     "metadata": {},
     "output_type": "execute_result"
    }
   ],
   "source": [
    "path_to_example_toml_file = joinpath(_PATH_TO_DATA, \"Example.toml\")"
   ]
  },
  {
   "cell_type": "code",
   "execution_count": 24,
   "id": "26756d19-1973-4d10-b01b-e8936bcd9405",
   "metadata": {},
   "outputs": [
    {
     "data": {
      "text/plain": [
       "Dict{String, Any} with 2 entries:\n",
       "  \"options\"    => Dict{String, Any}(\"ssl_mode\"=>\"require\", \"ssl\"=>false)\n",
       "  \"connection\" => Dict{String, Any}(\"connection_timeout\"=>30, \"host\"=>\"localhos…"
      ]
     },
     "execution_count": 24,
     "metadata": {},
     "output_type": "execute_result"
    }
   ],
   "source": [
    "toml_dictionary = readtomlfile(path_to_example_toml_file)"
   ]
  },
  {
   "cell_type": "markdown",
   "id": "f263a8d6-de37-461f-81be-9f3985dfcf6b",
   "metadata": {},
   "source": [
    "Let's make a change and then write the `toml_dictionary` back out to disk. This will introduce a new concept, namely `io` and the [open function do patten in Julia](https://docs.julialang.org/en/v1/base/io-network/#Base.open) and the [TOML print function](https://docs.julialang.org/en/v1/stdlib/TOML/#TOML.print)"
   ]
  },
  {
   "cell_type": "code",
   "execution_count": 26,
   "id": "43cc6ae3-b862-4fae-b60b-596e8814a97d",
   "metadata": {},
   "outputs": [
    {
     "data": {
      "text/plain": [
       "\"require\""
      ]
     },
     "execution_count": 26,
     "metadata": {},
     "output_type": "execute_result"
    }
   ],
   "source": [
    "toml_dictionary[\"options\"][\"ssl_mode\"]"
   ]
  },
  {
   "cell_type": "code",
   "execution_count": 10,
   "id": "13f01f86-d0dc-40ff-ae01-ba573d5cf6e4",
   "metadata": {},
   "outputs": [
    {
     "name": "stdout",
     "output_type": "stream",
     "text": [
      "[options]\n",
      "ssl_mode = \"require\"\n",
      "ssl = false\n",
      "\n",
      "[connection]\n",
      "connection_timeout = 30\n",
      "host = \"localhost\"\n",
      "password = \"mypassword\"\n",
      "port = 5432\n",
      "database = \"mydatabase\"\n",
      "max_connections = 10\n",
      "user = \"myuser\"\n"
     ]
    }
   ],
   "source": [
    "TOML.print(toml_dictionary); # "
   ]
  },
  {
   "cell_type": "code",
   "execution_count": 27,
   "id": "fec990ef-90e1-4dec-96d0-664593717cad",
   "metadata": {},
   "outputs": [],
   "source": [
    "toml_dictionary[\"options\"][\"ssl\"] = true;\n",
    "open(path_to_example_toml_file,\"w\") do io\n",
    "    TOML.print(io,toml_dictionary)\n",
    "end"
   ]
  },
  {
   "cell_type": "markdown",
   "id": "3837e96b-6092-486c-99e4-1262567aa990",
   "metadata": {},
   "source": [
    "The [open function do pattern in Julia](https://docs.julialang.org/en/v1/base/io-network/#Base.open) in Julia is an evolution of [traditional file handling in C](https://www.freecodecamp.org/news/file-handling-in-c-how-to-open-close-and-write-to-files/). It is generic and can be used to write (or read, as we shall see) many different types of files:"
   ]
  },
  {
   "cell_type": "code",
   "execution_count": 21,
   "id": "cbbbf354-8403-4543-bd95-3eda0e54eaa0",
   "metadata": {},
   "outputs": [],
   "source": [
    "# put some example stuff here ..."
   ]
  },
  {
   "cell_type": "markdown",
   "id": "6427b65c-d73c-4478-954e-a801cfa8641f",
   "metadata": {},
   "source": [
    "## Example 2: JSON configuration files\n",
    "[JavaScript Object Notation (JSON)](https://developer.mozilla.org/en-US/docs/Learn/JavaScript/Objects/JSON) is a lightweight, text-based, language-independent data interchange format that is easy for humans to read and write and easy for machines to parse and generate. JSON is based on a subset of the [JavaScript programming language](https://en.wikipedia.org/wiki/JavaScript) and represents simple data structures and associative arrays.  JSON is composed of two data structures:\n",
    "* A collection of name/value pairs typically realized as a struct, dictionary, keyed list, or associative array. \n",
    "* An ordered list of values. In most languages, this is realized as an array, vector, list, or sequence.\n",
    "\n",
    "Unlike TOML, the JSON format is not included in the [Julia standard library](https://docs.julialang.org/en/v1/stdlib/TOML/). Instead, a variety of third-party packages are available for reading and writing JSON files, e.g., the [JSON.jl](https://github.com/JuliaIO/JSON.jl) package"
   ]
  },
  {
   "cell_type": "markdown",
   "id": "6cad5964-7f5e-4bb2-993c-8b77a6256788",
   "metadata": {},
   "source": [
    "### Example.json\n",
    "Read the [Example.json](data/Example.json)  file in the `data` directory. First, let's specify a `path` to the file we want to load, i.e., a `String` that tells our program where to find the file we want to read. \n",
    "* In Julia, we use the [joinpath function](https://docs.julialang.org/en/v1/base/file/#Base.Filesystem.joinpath) to specify paths because this ensures that we use the proper directory separator character (`/` on macOS/Linux and `\\` on winOS)"
   ]
  },
  {
   "cell_type": "code",
   "execution_count": 5,
   "id": "8f4e4b36-5e34-4b7b-a364-beb697df5ef1",
   "metadata": {},
   "outputs": [
    {
     "data": {
      "text/plain": [
       "\"/Users/jeffreyvarner/Desktop/julia_work/CHEME-4800-5800-Examples-AY-2024/week-3/data/Example.json\""
      ]
     },
     "execution_count": 5,
     "metadata": {},
     "output_type": "execute_result"
    }
   ],
   "source": [
    "path_to_example_json_file = joinpath(_PATH_TO_DATA, \"Example.json\")"
   ]
  },
  {
   "cell_type": "code",
   "execution_count": 6,
   "id": "23d0e48a-132f-4f51-a409-e843cf7d1bf4",
   "metadata": {},
   "outputs": [
    {
     "data": {
      "text/plain": [
       "Dict{String, Any} with 1 entry:\n",
       "  \"people\" => Any[Dict{String, Any}(\"name\"=>\"John Smith\", \"phone\"=>\"555-555-555…"
      ]
     },
     "execution_count": 6,
     "metadata": {},
     "output_type": "execute_result"
    }
   ],
   "source": [
    "json_dictionary = readjsonfile(path_to_example_json_file)"
   ]
  },
  {
   "cell_type": "markdown",
   "id": "13a4d4b8-bf27-4bc6-9fc4-e3863e0d55a7",
   "metadata": {},
   "source": [
    "#### More uses for JSON?\n",
    "Ok, so is `JSON` only used for configuration? No, it is the standard data interchange format for web services. For example, check the [EDGAR database](https://www.sec.gov/edgar/sec-api-documentation)."
   ]
  },
  {
   "cell_type": "markdown",
   "id": "98247985-0118-4fa7-a4f6-f63670280a30",
   "metadata": {},
   "source": [
    "## Example 3: YAML configuration files\n",
    "[YAML (YAML Ain't Markup Language)](https://yaml.org) is a human-readable data serialization language used to transmit data between systems. Like TOML, YAML is often used as an application configuration file format. \n",
    "* YAML files use a simple syntax that consists of key-value pairs and can also include nested groups of keys. YAML uses indentation to denote structure, similar to [Python](https://www.python.org). YAML files often have a `.yaml` or `.yml` file extension.\n",
    "\n",
    "Unlike TOML, the YAML format is not included in the [Julia standard library](https://docs.julialang.org/en/v1/stdlib/TOML/). Instead, various third-party packages are available for working with YAML files, e.g., the [YAML.jl](https://github.com/JuliaData/YAML.jl) package"
   ]
  },
  {
   "cell_type": "markdown",
   "id": "a87b644c-76f2-48bb-b65b-7592bd05db80",
   "metadata": {},
   "source": [
    "### Example.yaml\n",
    "Read the [Example.yaml](data/Example.ymal)  file in the `data` directory. First, let's specify a `path` to the file we want to load, i.e., a `String` that tells our program where to find the file we want to read. \n",
    "* In Julia, we use the [joinpath function](https://docs.julialang.org/en/v1/base/file/#Base.Filesystem.joinpath) to specify paths because this ensures that we use the proper directory separator character (`/` on macOS/Linux and `\\` on winOS)"
   ]
  },
  {
   "cell_type": "code",
   "execution_count": 7,
   "id": "2cab817d-03f2-4150-9894-b66f0a60ca6d",
   "metadata": {},
   "outputs": [
    {
     "data": {
      "text/plain": [
       "\"/Users/jeffreyvarner/Desktop/julia_work/CHEME-4800-5800-Examples-AY-2024/week-3/data/Example.yaml\""
      ]
     },
     "execution_count": 7,
     "metadata": {},
     "output_type": "execute_result"
    }
   ],
   "source": [
    "path_to_example_yaml_file = joinpath(_PATH_TO_DATA, \"Example.yaml\")"
   ]
  },
  {
   "cell_type": "code",
   "execution_count": 8,
   "id": "f67f257e-97da-4ff3-975a-d7a4e538e316",
   "metadata": {},
   "outputs": [
    {
     "data": {
      "text/plain": [
       "Dict{String, Any} with 5 entries:\n",
       "  \"name\"     => \"MyApp\"\n",
       "  \"host\"     => \"localhost\"\n",
       "  \"port\"     => 8080\n",
       "  \"database\" => Dict{Any, Any}(\"name\"=>\"mydatabase\", \"host\"=>\"localhost\", \"pass…\n",
       "  \"version\"  => \"1.0.0\""
      ]
     },
     "execution_count": 8,
     "metadata": {},
     "output_type": "execute_result"
    }
   ],
   "source": [
    "yaml_dictionary = readyamlfile(path_to_example_yaml_file)"
   ]
  }
 ],
 "metadata": {
  "kernelspec": {
   "display_name": "Julia 1.10.0",
   "language": "julia",
   "name": "julia-1.10"
  },
  "language_info": {
   "file_extension": ".jl",
   "mimetype": "application/julia",
   "name": "julia",
   "version": "1.10.0"
  }
 },
 "nbformat": 4,
 "nbformat_minor": 5
}
