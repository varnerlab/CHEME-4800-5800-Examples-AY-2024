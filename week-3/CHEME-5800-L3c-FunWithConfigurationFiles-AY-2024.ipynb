{
 "cells": [
  {
   "cell_type": "markdown",
   "id": "ce29ac69-8b5b-47e8-99e1-64895b6c28cd",
   "metadata": {},
   "source": [
    "# Example: Working with Data Configuration Files"
   ]
  },
  {
   "cell_type": "markdown",
   "id": "fb96bfe8-e86a-405d-b879-4f310794d889",
   "metadata": {},
   "source": [
    "## Example 1: TOML configuration files"
   ]
  },
  {
   "cell_type": "markdown",
   "id": "6427b65c-d73c-4478-954e-a801cfa8641f",
   "metadata": {},
   "source": [
    "## Example 2: JSON configuration files"
   ]
  },
  {
   "cell_type": "markdown",
   "id": "98247985-0118-4fa7-a4f6-f63670280a30",
   "metadata": {},
   "source": [
    "## Example 3: YAML configuration files"
   ]
  },
  {
   "cell_type": "code",
   "execution_count": null,
   "id": "a3833ea2-b89b-4f2a-9126-8252cbc5fe9f",
   "metadata": {},
   "outputs": [],
   "source": []
  }
 ],
 "metadata": {
  "kernelspec": {
   "display_name": "Julia 1.10.0",
   "language": "julia",
   "name": "julia-1.10"
  },
  "language_info": {
   "file_extension": ".jl",
   "mimetype": "application/julia",
   "name": "julia",
   "version": "1.10.0"
  }
 },
 "nbformat": 4,
 "nbformat_minor": 5
}
