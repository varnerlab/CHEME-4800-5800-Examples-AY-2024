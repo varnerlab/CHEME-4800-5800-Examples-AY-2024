{
 "cells": [
  {
   "cell_type": "markdown",
   "id": "3f20ce93-4de8-46c3-bcc5-d3f36431dfdb",
   "metadata": {},
   "source": [
    "# Example: Fun with For Loops and the Iteration Pattern\n",
    "One of the most conserved iteration constructs, found in many, if not all, programming languages, is the `for` loop.\n",
    "> `for` loops repeatedly evaluate a block of statements while iterating over a sequence of values. Thus, `for` loops perform a fixed (known) number of iterations.\n",
    "\n",
    "Let's look at some example `for` loops where we iterate over both ordered collections, like [arrays](https://docs.julialang.org/en/v1/base/arrays/#lib-arrays) and [tuples](https://docs.julialang.org/en/v1/manual/functions/#Tuples), and unordered collections like [Dictionaries](https://docs.julialang.org/en/v1/manual/functions/#Tuples), [NamedTuples](https://docs.julialang.org/en/v1/base/base/#Core.NamedTuple) and [Sets](https://docs.julialang.org/en/v1/base/collections/#Base.Set)."
   ]
  },
  {
   "cell_type": "markdown",
   "id": "ae71e106-7fe2-4707-aa92-eeb2aca75c49",
   "metadata": {
    "jp-MarkdownHeadingCollapsed": true
   },
   "source": [
    "## Setup\n",
    "We set up the computational environment by including the `Include. jl` file. The file loads external packages and various functions we will use in these examples. For additional information on functions and types used in this material, see the [Julia programming language documentation](https://docs.julialang.org/en/v1/). "
   ]
  },
  {
   "cell_type": "code",
   "execution_count": 1,
   "id": "c48d97b5-075f-4ac5-9054-f937518f2aef",
   "metadata": {},
   "outputs": [],
   "source": [
    "include(\"Include.jl\");"
   ]
  },
  {
   "cell_type": "markdown",
   "id": "72a36a5e-aae4-4ce0-a6a0-5fd1b144a756",
   "metadata": {},
   "source": [
    "## Example 1: Basic `for` loop iteration example for an ordered collection\n",
    "Let's start by looking at the basic structure of a `for` loop. A `for` loop has a header that specifies how many times the loop will iterate. The loop `index` (the `iteration variable`) is passed into the loop's body, where you put your logic. The `iteration variable` is always a new variable, even if a variable of the same name exists in the enclosing scope. \n",
    "* In Julia, the `for` loop has its own scope that captures variables from the outside but doesn't pass new variables created inside the loop to the outside unless they already exist. The scope of the `for` loop ends with the `end` keyword.\n",
    "* We use the [println function](https://docs.julialang.org/en/v1/base/io-network/#Base.println) to show output from the loop. This function takes `String` as an argument and sends it to `stdout` (the default output destination) or to an output specified by the caller. The `$(...)` is an example of a [String interpolation](https://docs.julialang.org/en/v1/manual/strings/#string-interpolation) operation."
   ]
  },
  {
   "cell_type": "code",
   "execution_count": 13,
   "id": "96c5419d-beeb-4a57-aeea-55ef84318458",
   "metadata": {},
   "outputs": [
    {
     "name": "stdout",
     "output_type": "stream",
     "text": [
      "The index i = 1 and the value = 0.04728193285404991\n",
      "The index i = 2 and the value = 0.796320889530637\n",
      "The index i = 3 and the value = 0.5011203650758014\n",
      "The index i = 4 and the value = 0.5168139655971882\n",
      "The index i = 5 and the value = 0.5872797050471509\n"
     ]
    },
    {
     "data": {
      "text/plain": [
       "0.5872797050471509"
      ]
     },
     "execution_count": 13,
     "metadata": {},
     "output_type": "execute_result"
    }
   ],
   "source": [
    "number_of_elements = 5;\n",
    "random_vector_array = rand(number_of_elements)\n",
    "value = nothing\n",
    "for i in 1:number_of_elements\n",
    "    value = random_vector_array[i];\n",
    "    println(\"The index i = $(i) and the value = $(random_vector_array[i])\");\n",
    "end # end of for loop scope\n",
    "value"
   ]
  },
  {
   "cell_type": "markdown",
   "id": "24fedc9d-b5ce-4e10-8802-3f8bd974bb89",
   "metadata": {},
   "source": [
    "Another `for` loop pattern is the [eachindex pattern](https://docs.julialang.org/en/v1/base/arrays/#Base.eachindex). We use the [eachindex pattern](https://docs.julialang.org/en/v1/base/arrays/#Base.eachindex) when we don't explicitly know how many elements we have in an ordered collection but we want to visit all of them in order. \n",
    "* The [eachindex pattern](https://docs.julialang.org/en/v1/base/arrays/#Base.eachindex) preferred pattern compared with something like `for i in 1:length(random_vector_array)` when we don't know how many elements are in the `random_vector_array` collection"
   ]
  },
  {
   "cell_type": "code",
   "execution_count": 15,
   "id": "d2ae0e2f-89b4-48c1-8969-fe42f540316b",
   "metadata": {},
   "outputs": [
    {
     "name": "stdout",
     "output_type": "stream",
     "text": [
      "The index i = 1 and the value = 0.04728193285404991\n",
      "The index i = 2 and the value = 0.796320889530637\n",
      "The index i = 3 and the value = 0.5011203650758014\n",
      "The index i = 4 and the value = 0.5168139655971882\n",
      "The index i = 5 and the value = 0.5872797050471509\n"
     ]
    }
   ],
   "source": [
    "N = length(random_vector_array)\n",
    "for i ∈ 1:N\n",
    "    value = random_vector_array[i];\n",
    "    println(\"The index i = $(i) and the value = $(value)\");\n",
    "end"
   ]
  },
  {
   "cell_type": "markdown",
   "id": "acddc96b-f2db-40bd-beca-c63225df5cab",
   "metadata": {},
   "source": [
    "If we don't care about the element index in a collection, we can iterate over the elements directly. For example, the code block below accesses the values of the `random_vector_array`  directly, but `NOT` their indexes:"
   ]
  },
  {
   "cell_type": "code",
   "execution_count": 16,
   "id": "bc63300b-fc31-4b6b-bc75-01e431cd0b56",
   "metadata": {},
   "outputs": [
    {
     "name": "stdout",
     "output_type": "stream",
     "text": [
      "The value = 0.04728193285404991\n",
      "The value = 0.796320889530637\n",
      "The value = 0.5011203650758014\n",
      "The value = 0.5168139655971882\n",
      "The value = 0.5872797050471509\n"
     ]
    }
   ],
   "source": [
    "for value ∈ random_vector_array\n",
    "    println(\"The value = $(value)\");\n",
    "end"
   ]
  },
  {
   "cell_type": "markdown",
   "id": "e8f9b9dc-df21-4f16-bc79-57fd720e0989",
   "metadata": {},
   "source": [
    "Finally, we can iterate over other types of ordered collections, e.g., [tuples](https://docs.julialang.org/en/v1/manual/functions/#Tuples), which are fixed-length ordered containers that can hold any values, but cannot be modified once constructed, i.e., they are immutable. Let's build a `tuple` holding some `Int` types and iterate over these using the [eachindex pattern](https://docs.julialang.org/en/v1/base/arrays/#Base.eachindex).\n",
    "* The previous examples used the [println function](https://docs.julialang.org/en/v1/base/io-network/#Base.println) to print output; here, we show another approach that does the same thing, namely the [@show macro](https://docs.julialang.org/en/v1/base/base/#Base.@show) which prints one or more expressions, and their results, to `stdout`, and returns the last result:"
   ]
  },
  {
   "cell_type": "code",
   "execution_count": 22,
   "id": "f3a4f2c0-4411-4576-8c74-67d69526ea71",
   "metadata": {},
   "outputs": [
    {
     "name": "stdout",
     "output_type": "stream",
     "text": [
      "(i, example_tuple[i]) = (1, 1)\n",
      "(i, example_tuple[i]) = (2, 2)\n",
      "(i, example_tuple[i]) = (3, 3)\n",
      "(i, example_tuple[i]) = (4, 6)\n",
      "(i, example_tuple[i]) = (5, 5)\n",
      "(i, example_tuple[i]) = (6, 4)\n",
      "(i, example_tuple[i]) = (7, 1)\n",
      "(i, example_tuple[i]) = (8, 1)\n",
      "(i, example_tuple[i]) = (9, 1)\n",
      "(i, example_tuple[i]) = (10, 1)\n"
     ]
    }
   ],
   "source": [
    "example_tuple = (1,2,3,6,5,4,1,1,1,1)\n",
    "for i ∈ eachindex(example_tuple)\n",
    "    @show (i, example_tuple[i])\n",
    "end"
   ]
  },
  {
   "cell_type": "markdown",
   "id": "d08291e2-f5b0-466d-b19e-be83f225217b",
   "metadata": {},
   "source": [
    "## Example 2: Basic `for` loop iteration example for an unordered `Set`\n",
    "In the case of unordered collections such as [Sets](https://docs.julialang.org/en/v1/base/collections/#Base.Set), we can use a `for` loop to visit each element of the collection. However, because the original collection is unordered, the order in which visit the elements will be random. \n",
    "* In the specific case of [Sets](https://docs.julialang.org/en/v1/base/collections/#Base.Set), which model `bags of stuff`, there is no notion of index (which can be a little confusing). Thus, we can only access the items directly. The other interesting thing about [Sets](https://docs.julialang.org/en/v1/base/collections/#Base.Set) is that they are `unique,` i.e., there are no repeated elements"
   ]
  },
  {
   "cell_type": "code",
   "execution_count": 21,
   "id": "acf29425-b0ba-4fe7-9730-c55e81b39c7e",
   "metadata": {},
   "outputs": [
    {
     "name": "stdout",
     "output_type": "stream",
     "text": [
      "value = 'C'\n",
      "value = 'U'\n",
      "value = 'D'\n",
      "value = 'A'\n",
      "value = 'R'\n",
      "value = 'S'\n",
      "value = 'T'\n",
      "value = 'B'\n"
     ]
    }
   ],
   "source": [
    "example_set = Set{Char}(['A','B','C','D','R','U','S','T','A']);\n",
    "for value ∈ example_set\n",
    "    @show value\n",
    "end"
   ]
  },
  {
   "cell_type": "markdown",
   "id": "388c56da-a830-40af-951a-0af875e0d627",
   "metadata": {},
   "source": [
    "## Example 3: Basic `for` loop iteration example for an unordered `Dict`\n",
    "We gathered a daily open-high-low-close `dataset` for each firm in the [S&P500](https://en.wikipedia.org/wiki/S%26P_500) from `01-03-2018` until `12-29-2023`, along with data for a few exchange-traded funds and volatility products during that time. \n",
    "* Let's load the `orignal_dataset` by calling the `MyMarketDataSet()` function and remove firms that do not have the maximum number of trading days. The cleaned dataset $\\mathcal{D}$ is stored in the `dataset` variable, where the dataset $\\mathcal{D}$ has data for $\\mathcal{L}$ firms.\n",
    "* When we use a `for` loop with a [Dictionary](https://docs.julialang.org/en/v1/base/collections/#Dictionaries), which is an unordered collection of `key=>value` pairs, we get both the `key` and `value` as the `iteration variable` organized as a `tuple`."
   ]
  },
  {
   "cell_type": "code",
   "execution_count": 7,
   "id": "bacdd619-772d-4176-9868-243cc18d1bcb",
   "metadata": {},
   "outputs": [],
   "source": [
    "original_dataset = MyMarketDataSet() |> x-> x[\"dataset\"];"
   ]
  },
  {
   "cell_type": "code",
   "execution_count": 23,
   "id": "fe2530c2-b6ad-4419-99cc-da04ef5823cd",
   "metadata": {},
   "outputs": [
    {
     "data": {
      "text/plain": [
       "Dict{String, DataFrame} with 515 entries:\n",
       "  \"TPR\"  => \u001b[1m1508×8 DataFrame\u001b[0m\u001b[0m…\n",
       "  \"EMR\"  => \u001b[1m1508×8 DataFrame\u001b[0m\u001b[0m…\n",
       "  \"CTAS\" => \u001b[1m1508×8 DataFrame\u001b[0m\u001b[0m…\n",
       "  \"HSIC\" => \u001b[1m1508×8 DataFrame\u001b[0m\u001b[0m…\n",
       "  \"KIM\"  => \u001b[1m1508×8 DataFrame\u001b[0m\u001b[0m…\n",
       "  \"PLD\"  => \u001b[1m1508×8 DataFrame\u001b[0m\u001b[0m…\n",
       "  \"IEX\"  => \u001b[1m1508×8 DataFrame\u001b[0m\u001b[0m…\n",
       "  \"KSU\"  => \u001b[1m994×8 DataFrame\u001b[0m\u001b[0m…\n",
       "  \"BAC\"  => \u001b[1m1508×8 DataFrame\u001b[0m\u001b[0m…\n",
       "  \"CBOE\" => \u001b[1m1508×8 DataFrame\u001b[0m\u001b[0m…\n",
       "  \"EXR\"  => \u001b[1m1508×8 DataFrame\u001b[0m\u001b[0m…\n",
       "  \"NCLH\" => \u001b[1m1508×8 DataFrame\u001b[0m\u001b[0m…\n",
       "  \"CVS\"  => \u001b[1m1508×8 DataFrame\u001b[0m\u001b[0m…\n",
       "  \"DRI\"  => \u001b[1m1508×8 DataFrame\u001b[0m\u001b[0m…\n",
       "  \"DTE\"  => \u001b[1m1508×8 DataFrame\u001b[0m\u001b[0m…\n",
       "  \"ZION\" => \u001b[1m1508×8 DataFrame\u001b[0m\u001b[0m…\n",
       "  \"AVY\"  => \u001b[1m1508×8 DataFrame\u001b[0m\u001b[0m…\n",
       "  \"EW\"   => \u001b[1m1508×8 DataFrame\u001b[0m\u001b[0m…\n",
       "  \"EA\"   => \u001b[1m1508×8 DataFrame\u001b[0m\u001b[0m…\n",
       "  \"NWSA\" => \u001b[1m1508×8 DataFrame\u001b[0m\u001b[0m…\n",
       "  \"BBWI\" => \u001b[1m607×8 DataFrame\u001b[0m\u001b[0m…\n",
       "  \"CAG\"  => \u001b[1m1508×8 DataFrame\u001b[0m\u001b[0m…\n",
       "  \"GPC\"  => \u001b[1m1508×8 DataFrame\u001b[0m\u001b[0m…\n",
       "  \"FCX\"  => \u001b[1m1508×8 DataFrame\u001b[0m\u001b[0m…\n",
       "  \"GILD\" => \u001b[1m1508×8 DataFrame\u001b[0m\u001b[0m…\n",
       "  ⋮      => ⋮"
      ]
     },
     "execution_count": 23,
     "metadata": {},
     "output_type": "execute_result"
    }
   ],
   "source": [
    "original_dataset"
   ]
  },
  {
   "cell_type": "code",
   "execution_count": 24,
   "id": "7db911da-214b-4bf1-9eda-e4b5ef4b093a",
   "metadata": {},
   "outputs": [
    {
     "data": {
      "text/html": [
       "<div><div style = \"float: left;\"><span>1508×8 DataFrame</span></div><div style = \"float: right;\"><span style = \"font-style: italic;\">1483 rows omitted</span></div><div style = \"clear: both;\"></div></div><div class = \"data-frame\" style = \"overflow-x: scroll;\"><table class = \"data-frame\" style = \"margin-bottom: 6px;\"><thead><tr class = \"header\"><th class = \"rowNumber\" style = \"font-weight: bold; text-align: right;\">Row</th><th style = \"text-align: left;\">volume</th><th style = \"text-align: left;\">volume_weighted_average_price</th><th style = \"text-align: left;\">open</th><th style = \"text-align: left;\">close</th><th style = \"text-align: left;\">high</th><th style = \"text-align: left;\">low</th><th style = \"text-align: left;\">timestamp</th><th style = \"text-align: left;\">number_of_transactions</th></tr><tr class = \"subheader headerLastRow\"><th class = \"rowNumber\" style = \"font-weight: bold; text-align: right;\"></th><th title = \"Float64\" style = \"text-align: left;\">Float64</th><th title = \"Float64\" style = \"text-align: left;\">Float64</th><th title = \"Float64\" style = \"text-align: left;\">Float64</th><th title = \"Float64\" style = \"text-align: left;\">Float64</th><th title = \"Float64\" style = \"text-align: left;\">Float64</th><th title = \"Float64\" style = \"text-align: left;\">Float64</th><th title = \"Dates.DateTime\" style = \"text-align: left;\">DateTime</th><th title = \"Int64\" style = \"text-align: left;\">Int64</th></tr></thead><tbody><tr><td class = \"rowNumber\" style = \"font-weight: bold; text-align: right;\">1</td><td style = \"text-align: right;\">1.17982e8</td><td style = \"text-align: right;\">43.2781</td><td style = \"text-align: right;\">43.1325</td><td style = \"text-align: right;\">43.0575</td><td style = \"text-align: right;\">43.6375</td><td style = \"text-align: right;\">42.99</td><td style = \"text-align: left;\">2018-01-03T05:00:00</td><td style = \"text-align: right;\">188333</td></tr><tr><td class = \"rowNumber\" style = \"font-weight: bold; text-align: right;\">2</td><td style = \"text-align: right;\">8.97384e7</td><td style = \"text-align: right;\">43.2473</td><td style = \"text-align: right;\">43.135</td><td style = \"text-align: right;\">43.2575</td><td style = \"text-align: right;\">43.3675</td><td style = \"text-align: right;\">43.02</td><td style = \"text-align: left;\">2018-01-04T05:00:00</td><td style = \"text-align: right;\">153150</td></tr><tr><td class = \"rowNumber\" style = \"font-weight: bold; text-align: right;\">3</td><td style = \"text-align: right;\">9.46401e7</td><td style = \"text-align: right;\">43.6732</td><td style = \"text-align: right;\">43.36</td><td style = \"text-align: right;\">43.75</td><td style = \"text-align: right;\">43.8425</td><td style = \"text-align: right;\">43.2625</td><td style = \"text-align: left;\">2018-01-05T05:00:00</td><td style = \"text-align: right;\">152173</td></tr><tr><td class = \"rowNumber\" style = \"font-weight: bold; text-align: right;\">4</td><td style = \"text-align: right;\">8.22711e7</td><td style = \"text-align: right;\">43.6581</td><td style = \"text-align: right;\">43.5875</td><td style = \"text-align: right;\">43.5875</td><td style = \"text-align: right;\">43.9025</td><td style = \"text-align: right;\">43.4825</td><td style = \"text-align: left;\">2018-01-08T05:00:00</td><td style = \"text-align: right;\">138842</td></tr><tr><td class = \"rowNumber\" style = \"font-weight: bold; text-align: right;\">5</td><td style = \"text-align: right;\">8.6336e7</td><td style = \"text-align: right;\">43.5803</td><td style = \"text-align: right;\">43.6375</td><td style = \"text-align: right;\">43.5825</td><td style = \"text-align: right;\">43.765</td><td style = \"text-align: right;\">43.3525</td><td style = \"text-align: left;\">2018-01-09T05:00:00</td><td style = \"text-align: right;\">154006</td></tr><tr><td class = \"rowNumber\" style = \"font-weight: bold; text-align: right;\">6</td><td style = \"text-align: right;\">9.58396e7</td><td style = \"text-align: right;\">43.4126</td><td style = \"text-align: right;\">43.29</td><td style = \"text-align: right;\">43.5725</td><td style = \"text-align: right;\">43.575</td><td style = \"text-align: right;\">43.25</td><td style = \"text-align: left;\">2018-01-10T05:00:00</td><td style = \"text-align: right;\">151201</td></tr><tr><td class = \"rowNumber\" style = \"font-weight: bold; text-align: right;\">7</td><td style = \"text-align: right;\">7.46709e7</td><td style = \"text-align: right;\">43.7894</td><td style = \"text-align: right;\">43.6475</td><td style = \"text-align: right;\">43.82</td><td style = \"text-align: right;\">43.8722</td><td style = \"text-align: right;\">43.6225</td><td style = \"text-align: left;\">2018-01-11T05:00:00</td><td style = \"text-align: right;\">117864</td></tr><tr><td class = \"rowNumber\" style = \"font-weight: bold; text-align: right;\">8</td><td style = \"text-align: right;\">9.68123e7</td><td style = \"text-align: right;\">44.1806</td><td style = \"text-align: right;\">44.045</td><td style = \"text-align: right;\">44.2725</td><td style = \"text-align: right;\">44.34</td><td style = \"text-align: right;\">43.9125</td><td style = \"text-align: left;\">2018-01-12T05:00:00</td><td style = \"text-align: right;\">151952</td></tr><tr><td class = \"rowNumber\" style = \"font-weight: bold; text-align: right;\">9</td><td style = \"text-align: right;\">1.18128e8</td><td style = \"text-align: right;\">44.3672</td><td style = \"text-align: right;\">44.475</td><td style = \"text-align: right;\">44.0475</td><td style = \"text-align: right;\">44.8475</td><td style = \"text-align: right;\">44.035</td><td style = \"text-align: left;\">2018-01-16T05:00:00</td><td style = \"text-align: right;\">195534</td></tr><tr><td class = \"rowNumber\" style = \"font-weight: bold; text-align: right;\">10</td><td style = \"text-align: right;\">1.37547e8</td><td style = \"text-align: right;\">44.3277</td><td style = \"text-align: right;\">44.0375</td><td style = \"text-align: right;\">44.775</td><td style = \"text-align: right;\">44.8125</td><td style = \"text-align: right;\">43.7675</td><td style = \"text-align: left;\">2018-01-17T05:00:00</td><td style = \"text-align: right;\">218162</td></tr><tr><td class = \"rowNumber\" style = \"font-weight: bold; text-align: right;\">11</td><td style = \"text-align: right;\">1.24773e8</td><td style = \"text-align: right;\">44.8455</td><td style = \"text-align: right;\">44.8425</td><td style = \"text-align: right;\">44.815</td><td style = \"text-align: right;\">45.025</td><td style = \"text-align: right;\">44.5625</td><td style = \"text-align: left;\">2018-01-18T05:00:00</td><td style = \"text-align: right;\">185121</td></tr><tr><td class = \"rowNumber\" style = \"font-weight: bold; text-align: right;\">12</td><td style = \"text-align: right;\">1.297e8</td><td style = \"text-align: right;\">44.6099</td><td style = \"text-align: right;\">44.6525</td><td style = \"text-align: right;\">44.615</td><td style = \"text-align: right;\">44.895</td><td style = \"text-align: right;\">44.3525</td><td style = \"text-align: left;\">2018-01-19T05:00:00</td><td style = \"text-align: right;\">160569</td></tr><tr><td class = \"rowNumber\" style = \"font-weight: bold; text-align: right;\">13</td><td style = \"text-align: right;\">1.08434e8</td><td style = \"text-align: right;\">44.2809</td><td style = \"text-align: right;\">44.325</td><td style = \"text-align: right;\">44.25</td><td style = \"text-align: right;\">44.445</td><td style = \"text-align: right;\">44.1505</td><td style = \"text-align: left;\">2018-01-22T05:00:00</td><td style = \"text-align: right;\">163847</td></tr><tr><td style = \"text-align: right;\">&vellip;</td><td style = \"text-align: right;\">&vellip;</td><td style = \"text-align: right;\">&vellip;</td><td style = \"text-align: right;\">&vellip;</td><td style = \"text-align: right;\">&vellip;</td><td style = \"text-align: right;\">&vellip;</td><td style = \"text-align: right;\">&vellip;</td><td style = \"text-align: right;\">&vellip;</td><td style = \"text-align: right;\">&vellip;</td></tr><tr><td class = \"rowNumber\" style = \"font-weight: bold; text-align: right;\">1497</td><td style = \"text-align: right;\">7.04042e7</td><td style = \"text-align: right;\">196.909</td><td style = \"text-align: right;\">195.09</td><td style = \"text-align: right;\">197.96</td><td style = \"text-align: right;\">198.0</td><td style = \"text-align: right;\">194.85</td><td style = \"text-align: left;\">2023-12-13T05:00:00</td><td style = \"text-align: right;\">672552</td></tr><tr><td class = \"rowNumber\" style = \"font-weight: bold; text-align: right;\">1498</td><td style = \"text-align: right;\">6.68316e7</td><td style = \"text-align: right;\">198.287</td><td style = \"text-align: right;\">198.02</td><td style = \"text-align: right;\">198.11</td><td style = \"text-align: right;\">199.62</td><td style = \"text-align: right;\">196.16</td><td style = \"text-align: left;\">2023-12-14T05:00:00</td><td style = \"text-align: right;\">691862</td></tr><tr><td class = \"rowNumber\" style = \"font-weight: bold; text-align: right;\">1499</td><td style = \"text-align: right;\">1.27388e8</td><td style = \"text-align: right;\">197.56</td><td style = \"text-align: right;\">197.53</td><td style = \"text-align: right;\">197.57</td><td style = \"text-align: right;\">198.4</td><td style = \"text-align: right;\">197.0</td><td style = \"text-align: left;\">2023-12-15T05:00:00</td><td style = \"text-align: right;\">625452</td></tr><tr><td class = \"rowNumber\" style = \"font-weight: bold; text-align: right;\">1500</td><td style = \"text-align: right;\">5.57519e7</td><td style = \"text-align: right;\">195.625</td><td style = \"text-align: right;\">196.09</td><td style = \"text-align: right;\">195.89</td><td style = \"text-align: right;\">196.63</td><td style = \"text-align: right;\">194.39</td><td style = \"text-align: left;\">2023-12-18T05:00:00</td><td style = \"text-align: right;\">655763</td></tr><tr><td class = \"rowNumber\" style = \"font-weight: bold; text-align: right;\">1501</td><td style = \"text-align: right;\">4.07141e7</td><td style = \"text-align: right;\">196.528</td><td style = \"text-align: right;\">196.16</td><td style = \"text-align: right;\">196.94</td><td style = \"text-align: right;\">196.95</td><td style = \"text-align: right;\">195.89</td><td style = \"text-align: left;\">2023-12-19T05:00:00</td><td style = \"text-align: right;\">451709</td></tr><tr><td class = \"rowNumber\" style = \"font-weight: bold; text-align: right;\">1502</td><td style = \"text-align: right;\">5.22428e7</td><td style = \"text-align: right;\">196.142</td><td style = \"text-align: right;\">196.9</td><td style = \"text-align: right;\">194.83</td><td style = \"text-align: right;\">197.68</td><td style = \"text-align: right;\">194.83</td><td style = \"text-align: left;\">2023-12-20T05:00:00</td><td style = \"text-align: right;\">550599</td></tr><tr><td class = \"rowNumber\" style = \"font-weight: bold; text-align: right;\">1503</td><td style = \"text-align: right;\">4.64825e7</td><td style = \"text-align: right;\">194.743</td><td style = \"text-align: right;\">196.1</td><td style = \"text-align: right;\">194.68</td><td style = \"text-align: right;\">197.08</td><td style = \"text-align: right;\">193.5</td><td style = \"text-align: left;\">2023-12-21T05:00:00</td><td style = \"text-align: right;\">554844</td></tr><tr><td class = \"rowNumber\" style = \"font-weight: bold; text-align: right;\">1504</td><td style = \"text-align: right;\">3.71496e7</td><td style = \"text-align: right;\">194.101</td><td style = \"text-align: right;\">195.18</td><td style = \"text-align: right;\">193.6</td><td style = \"text-align: right;\">195.41</td><td style = \"text-align: right;\">192.97</td><td style = \"text-align: left;\">2023-12-22T05:00:00</td><td style = \"text-align: right;\">500544</td></tr><tr><td class = \"rowNumber\" style = \"font-weight: bold; text-align: right;\">1505</td><td style = \"text-align: right;\">2.89193e7</td><td style = \"text-align: right;\">193.171</td><td style = \"text-align: right;\">193.61</td><td style = \"text-align: right;\">193.05</td><td style = \"text-align: right;\">193.89</td><td style = \"text-align: right;\">192.83</td><td style = \"text-align: left;\">2023-12-26T05:00:00</td><td style = \"text-align: right;\">488257</td></tr><tr><td class = \"rowNumber\" style = \"font-weight: bold; text-align: right;\">1506</td><td style = \"text-align: right;\">4.80877e7</td><td style = \"text-align: right;\">192.568</td><td style = \"text-align: right;\">192.49</td><td style = \"text-align: right;\">193.15</td><td style = \"text-align: right;\">193.5</td><td style = \"text-align: right;\">191.09</td><td style = \"text-align: left;\">2023-12-27T05:00:00</td><td style = \"text-align: right;\">548076</td></tr><tr><td class = \"rowNumber\" style = \"font-weight: bold; text-align: right;\">1507</td><td style = \"text-align: right;\">3.40499e7</td><td style = \"text-align: right;\">193.922</td><td style = \"text-align: right;\">194.14</td><td style = \"text-align: right;\">193.58</td><td style = \"text-align: right;\">194.66</td><td style = \"text-align: right;\">193.17</td><td style = \"text-align: left;\">2023-12-28T05:00:00</td><td style = \"text-align: right;\">472404</td></tr><tr><td class = \"rowNumber\" style = \"font-weight: bold; text-align: right;\">1508</td><td style = \"text-align: right;\">4.26721e7</td><td style = \"text-align: right;\">192.576</td><td style = \"text-align: right;\">193.9</td><td style = \"text-align: right;\">192.53</td><td style = \"text-align: right;\">194.4</td><td style = \"text-align: right;\">191.725</td><td style = \"text-align: left;\">2023-12-29T05:00:00</td><td style = \"text-align: right;\">509123</td></tr></tbody></table></div>"
      ],
      "text/latex": [
       "\\begin{tabular}{r|cccccccc}\n",
       "\t& volume & volume\\_weighted\\_average\\_price & open & close & high & low & timestamp & \\\\\n",
       "\t\\hline\n",
       "\t& Float64 & Float64 & Float64 & Float64 & Float64 & Float64 & DateTime & \\\\\n",
       "\t\\hline\n",
       "\t1 & 1.17982e8 & 43.2781 & 43.1325 & 43.0575 & 43.6375 & 42.99 & 2018-01-03T05:00:00 & $\\dots$ \\\\\n",
       "\t2 & 8.97384e7 & 43.2473 & 43.135 & 43.2575 & 43.3675 & 43.02 & 2018-01-04T05:00:00 & $\\dots$ \\\\\n",
       "\t3 & 9.46401e7 & 43.6732 & 43.36 & 43.75 & 43.8425 & 43.2625 & 2018-01-05T05:00:00 & $\\dots$ \\\\\n",
       "\t4 & 8.22711e7 & 43.6581 & 43.5875 & 43.5875 & 43.9025 & 43.4825 & 2018-01-08T05:00:00 & $\\dots$ \\\\\n",
       "\t5 & 8.6336e7 & 43.5803 & 43.6375 & 43.5825 & 43.765 & 43.3525 & 2018-01-09T05:00:00 & $\\dots$ \\\\\n",
       "\t6 & 9.58396e7 & 43.4126 & 43.29 & 43.5725 & 43.575 & 43.25 & 2018-01-10T05:00:00 & $\\dots$ \\\\\n",
       "\t7 & 7.46709e7 & 43.7894 & 43.6475 & 43.82 & 43.8722 & 43.6225 & 2018-01-11T05:00:00 & $\\dots$ \\\\\n",
       "\t8 & 9.68123e7 & 44.1806 & 44.045 & 44.2725 & 44.34 & 43.9125 & 2018-01-12T05:00:00 & $\\dots$ \\\\\n",
       "\t9 & 1.18128e8 & 44.3672 & 44.475 & 44.0475 & 44.8475 & 44.035 & 2018-01-16T05:00:00 & $\\dots$ \\\\\n",
       "\t10 & 1.37547e8 & 44.3277 & 44.0375 & 44.775 & 44.8125 & 43.7675 & 2018-01-17T05:00:00 & $\\dots$ \\\\\n",
       "\t11 & 1.24773e8 & 44.8455 & 44.8425 & 44.815 & 45.025 & 44.5625 & 2018-01-18T05:00:00 & $\\dots$ \\\\\n",
       "\t12 & 1.297e8 & 44.6099 & 44.6525 & 44.615 & 44.895 & 44.3525 & 2018-01-19T05:00:00 & $\\dots$ \\\\\n",
       "\t13 & 1.08434e8 & 44.2809 & 44.325 & 44.25 & 44.445 & 44.1505 & 2018-01-22T05:00:00 & $\\dots$ \\\\\n",
       "\t14 & 1.30757e8 & 44.4905 & 44.325 & 44.26 & 44.86 & 44.205 & 2018-01-23T05:00:00 & $\\dots$ \\\\\n",
       "\t15 & 2.0442e8 & 43.7034 & 44.3125 & 43.555 & 44.325 & 43.3 & 2018-01-24T05:00:00 & $\\dots$ \\\\\n",
       "\t16 & 1.66116e8 & 43.0611 & 43.6263 & 42.7775 & 43.7375 & 42.6325 & 2018-01-25T05:00:00 & $\\dots$ \\\\\n",
       "\t17 & 1.56498e8 & 42.7716 & 43.0 & 42.8775 & 43.0 & 42.515 & 2018-01-26T05:00:00 & $\\dots$ \\\\\n",
       "\t18 & 2.02562e8 & 42.0885 & 42.54 & 41.99 & 42.54 & 41.7675 & 2018-01-29T05:00:00 & $\\dots$ \\\\\n",
       "\t19 & 1.84193e8 & 41.5746 & 41.3813 & 41.7425 & 41.8425 & 41.175 & 2018-01-30T05:00:00 & $\\dots$ \\\\\n",
       "\t20 & 1.29916e8 & 41.8319 & 41.7175 & 41.8575 & 42.1104 & 41.625 & 2018-01-31T05:00:00 & $\\dots$ \\\\\n",
       "\t21 & 1.88923e8 & 41.9943 & 41.7913 & 41.945 & 42.155 & 41.69 & 2018-02-01T05:00:00 & $\\dots$ \\\\\n",
       "\t22 & 3.46375e8 & 40.7329 & 41.5 & 40.125 & 41.7 & 40.025 & 2018-02-02T05:00:00 & $\\dots$ \\\\\n",
       "\t23 & 2.90954e8 & 40.1086 & 39.775 & 39.1225 & 40.97 & 39.0 & 2018-02-05T05:00:00 & $\\dots$ \\\\\n",
       "\t24 & 2.72875e8 & 39.9124 & 38.7075 & 40.7575 & 40.93 & 38.5 & 2018-02-06T05:00:00 & $\\dots$ \\\\\n",
       "\t25 & 2.06434e8 & 40.2772 & 40.7713 & 39.885 & 40.85 & 39.7671 & 2018-02-07T05:00:00 & $\\dots$ \\\\\n",
       "\t26 & 2.17562e8 & 39.7284 & 40.0725 & 38.7875 & 40.25 & 38.7575 & 2018-02-08T05:00:00 & $\\dots$ \\\\\n",
       "\t27 & 2.8169e8 & 38.7376 & 39.2675 & 39.1025 & 39.4725 & 37.56 & 2018-02-09T05:00:00 & $\\dots$ \\\\\n",
       "\t28 & 2.40878e8 & 40.3959 & 39.625 & 40.6775 & 40.9725 & 39.3775 & 2018-02-12T05:00:00 & $\\dots$ \\\\\n",
       "\t29 & 1.30197e8 & 40.8481 & 40.4875 & 41.085 & 41.1875 & 40.4125 & 2018-02-13T05:00:00 & $\\dots$ \\\\\n",
       "\t30 & 1.62514e8 & 41.4045 & 40.7612 & 41.8425 & 41.885 & 40.72 & 2018-02-14T05:00:00 & $\\dots$ \\\\\n",
       "\t$\\dots$ & $\\dots$ & $\\dots$ & $\\dots$ & $\\dots$ & $\\dots$ & $\\dots$ & $\\dots$ &  \\\\\n",
       "\\end{tabular}\n"
      ],
      "text/plain": [
       "\u001b[1m1508×8 DataFrame\u001b[0m\n",
       "\u001b[1m  Row \u001b[0m│\u001b[1m volume    \u001b[0m\u001b[1m volume_weighted_average_price \u001b[0m\u001b[1m open     \u001b[0m\u001b[1m close    \u001b[0m\u001b[1m high    \u001b[0m ⋯\n",
       "      │\u001b[90m Float64   \u001b[0m\u001b[90m Float64                       \u001b[0m\u001b[90m Float64  \u001b[0m\u001b[90m Float64  \u001b[0m\u001b[90m Float64 \u001b[0m ⋯\n",
       "──────┼─────────────────────────────────────────────────────────────────────────\n",
       "    1 │ 1.17982e8                        43.2781   43.1325   43.0575   43.6375 ⋯\n",
       "    2 │ 8.97384e7                        43.2473   43.135    43.2575   43.3675\n",
       "    3 │ 9.46401e7                        43.6732   43.36     43.75     43.8425\n",
       "    4 │ 8.22711e7                        43.6581   43.5875   43.5875   43.9025\n",
       "    5 │ 8.6336e7                         43.5803   43.6375   43.5825   43.765  ⋯\n",
       "    6 │ 9.58396e7                        43.4126   43.29     43.5725   43.575\n",
       "    7 │ 7.46709e7                        43.7894   43.6475   43.82     43.8722\n",
       "    8 │ 9.68123e7                        44.1806   44.045    44.2725   44.34\n",
       "    9 │ 1.18128e8                        44.3672   44.475    44.0475   44.8475 ⋯\n",
       "   10 │ 1.37547e8                        44.3277   44.0375   44.775    44.8125\n",
       "   11 │ 1.24773e8                        44.8455   44.8425   44.815    45.025\n",
       "  ⋮   │     ⋮                    ⋮                   ⋮         ⋮         ⋮     ⋱\n",
       " 1499 │ 1.27388e8                       197.56    197.53    197.57    198.4\n",
       " 1500 │ 5.57519e7                       195.625   196.09    195.89    196.63   ⋯\n",
       " 1501 │ 4.07141e7                       196.528   196.16    196.94    196.95\n",
       " 1502 │ 5.22428e7                       196.142   196.9     194.83    197.68\n",
       " 1503 │ 4.64825e7                       194.743   196.1     194.68    197.08\n",
       " 1504 │ 3.71496e7                       194.101   195.18    193.6     195.41   ⋯\n",
       " 1505 │ 2.89193e7                       193.171   193.61    193.05    193.89\n",
       " 1506 │ 4.80877e7                       192.568   192.49    193.15    193.5\n",
       " 1507 │ 3.40499e7                       193.922   194.14    193.58    194.66\n",
       " 1508 │ 4.26721e7                       192.576   193.9     192.53    194.4    ⋯\n",
       "\u001b[36m                                                 3 columns and 1487 rows omitted\u001b[0m"
      ]
     },
     "execution_count": 24,
     "metadata": {},
     "output_type": "execute_result"
    }
   ],
   "source": [
    "original_dataset[\"AAPL\"]"
   ]
  },
  {
   "cell_type": "markdown",
   "id": "28cede1f-eca0-48ef-8db6-c425f45b5900",
   "metadata": {},
   "source": [
    "### Clean the data\n",
    "Not all tickers in our dataset have the maximum number of trading days for various reasons, e.g., acquisition or de-listing events. Let's collect only those tickers with the maximum number of trading days.\n",
    "\n",
    "* First, let's compute the number of records for a company that we know has a maximum value, e.g., `AAPL`, and save that value in the `maximum_number_trading_days` variable:"
   ]
  },
  {
   "cell_type": "code",
   "execution_count": 25,
   "id": "afd200ea-077d-4997-adf9-aabb2a7c87d8",
   "metadata": {},
   "outputs": [
    {
     "data": {
      "text/plain": [
       "1508"
      ]
     },
     "execution_count": 25,
     "metadata": {},
     "output_type": "execute_result"
    }
   ],
   "source": [
    "maximum_number_trading_days = original_dataset[\"AAPL\"] |> nrow"
   ]
  },
  {
   "cell_type": "markdown",
   "id": "a0804c79-42d2-4de1-be57-16f208be66ad",
   "metadata": {},
   "source": [
    "Now, let's iterate through our data and collect only tickers with `maximum_number_trading_days` records. Save that data in the `dataset::Dict{String,DataFrame}` variable:"
   ]
  },
  {
   "cell_type": "code",
   "execution_count": 30,
   "id": "bc45171b-b81a-4220-afac-2af91e35c2ff",
   "metadata": {},
   "outputs": [],
   "source": [
    "dataset = Dict{String, DataFrame}();\n",
    "for (ticker,data) ∈ original_dataset    \n",
    "    if (nrow(data) == maximum_number_trading_days)\n",
    "        dataset[ticker] = data;\n",
    "    end\n",
    "end\n",
    "dataset;"
   ]
  },
  {
   "cell_type": "code",
   "execution_count": 29,
   "id": "80314d4a-86b5-42e3-8c88-15df0a6a6031",
   "metadata": {},
   "outputs": [
    {
     "data": {
      "text/plain": [
       "460"
      ]
     },
     "execution_count": 29,
     "metadata": {},
     "output_type": "execute_result"
    }
   ],
   "source": [
    "length(dataset)"
   ]
  },
  {
   "cell_type": "code",
   "execution_count": null,
   "id": "e82f87a1-552c-488a-938c-9c369af21f6d",
   "metadata": {},
   "outputs": [],
   "source": []
  }
 ],
 "metadata": {
  "kernelspec": {
   "display_name": "Julia 1.10.0",
   "language": "julia",
   "name": "julia-1.10"
  },
  "language_info": {
   "file_extension": ".jl",
   "mimetype": "application/julia",
   "name": "julia",
   "version": "1.10.0"
  }
 },
 "nbformat": 4,
 "nbformat_minor": 5
}
