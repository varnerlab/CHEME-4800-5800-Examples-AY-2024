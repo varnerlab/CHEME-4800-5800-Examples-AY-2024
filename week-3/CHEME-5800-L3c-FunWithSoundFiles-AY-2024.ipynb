{
 "cells": [
  {
   "cell_type": "markdown",
   "id": "bbc61389-f2ea-4006-8e0b-fcecd1cc8a5a",
   "metadata": {},
   "source": [
    "# Example: Let's Build and Test a Library of `WAV` sound files\n",
    "Fill me in"
   ]
  },
  {
   "cell_type": "markdown",
   "id": "37a7c229-2a47-4421-a0ab-c0f70cf6181a",
   "metadata": {},
   "source": [
    "## Setup\n",
    "Fill me in"
   ]
  },
  {
   "cell_type": "code",
   "execution_count": 1,
   "id": "933df3db-f8e2-4817-a845-2dff5e02d34b",
   "metadata": {},
   "outputs": [
    {
     "name": "stderr",
     "output_type": "stream",
     "text": [
      "\u001b[32m\u001b[1m  Activating\u001b[22m\u001b[39m project at `~/Desktop/julia_work/CHEME-4800-5800-Examples-AY-2024/week-3`\n",
      "\u001b[32m\u001b[1m  No Changes\u001b[22m\u001b[39m to `~/Desktop/julia_work/CHEME-4800-5800-Examples-AY-2024/week-3/Project.toml`\n",
      "\u001b[32m\u001b[1m  No Changes\u001b[22m\u001b[39m to `~/Desktop/julia_work/CHEME-4800-5800-Examples-AY-2024/week-3/Manifest.toml`\n",
      "\u001b[32m\u001b[1m    Updating\u001b[22m\u001b[39m registry at `~/.julia/registries/General.toml`\n",
      "\u001b[32m\u001b[1m  No Changes\u001b[22m\u001b[39m to `~/Desktop/julia_work/CHEME-4800-5800-Examples-AY-2024/week-3/Project.toml`\n",
      "\u001b[32m\u001b[1m  No Changes\u001b[22m\u001b[39m to `~/Desktop/julia_work/CHEME-4800-5800-Examples-AY-2024/week-3/Manifest.toml`\n"
     ]
    }
   ],
   "source": [
    "include(\"Include.jl\");"
   ]
  },
  {
   "cell_type": "markdown",
   "id": "547044cd-d33e-4eaf-a5a2-513bcdc39e12",
   "metadata": {},
   "source": [
    "## Generate `WAV` files and write them to the `sounds` directory"
   ]
  },
  {
   "cell_type": "code",
   "execution_count": 2,
   "id": "49e1758c-21aa-4482-8edc-5814f82cfc34",
   "metadata": {},
   "outputs": [],
   "source": [
    "fs = 8e3\n",
    "t = 0.0:1/fs:prevfloat(0.05); # 0.05 seconds (500ms)\n",
    "number_of_samples = 128;\n",
    "β = range(1.0, stop=2.5, length=number_of_samples);"
   ]
  },
  {
   "cell_type": "markdown",
   "id": "48f07a1c-19b4-47a3-b118-830f90f82608",
   "metadata": {},
   "source": [
    "Fill me in."
   ]
  },
  {
   "cell_type": "code",
   "execution_count": 3,
   "id": "dc946703-3532-455e-a384-1c25b75e9402",
   "metadata": {},
   "outputs": [],
   "source": [
    "for i ∈ eachindex(β)\n",
    "    βᵢ = β[i]\n",
    "    f = βᵢ*(0.5e3) # hmmm. what happens if we change this?\n",
    "    x = cos.(2π * f * t)\n",
    "    y = sin.(2π * f * t)\n",
    "    wavwrite([x y], joinpath(_PATH_TO_SOUNDS, \"example-$(i).wav\"), Fs=fs) # Now with rich stereo sound!!\n",
    "end"
   ]
  },
  {
   "cell_type": "markdown",
   "id": "6e88b536-4ae0-492d-a448-07c6b05183fe",
   "metadata": {},
   "source": [
    "## `Play` a random vector using `soundictionary`"
   ]
  },
  {
   "cell_type": "code",
   "execution_count": 4,
   "id": "b5d2ce2c-f93f-46ef-84f3-eebadb4b0147",
   "metadata": {},
   "outputs": [],
   "source": [
    "soundictionary = Dict{Int64, Tuple{Matrix{Float64}, Float32}}()\n",
    "for i ∈ 1:number_of_samples\n",
    "    filename = joinpath(_PATH_TO_SOUNDS, \"example-$(i).wav\")\n",
    "    y, fs = wavread(filename)\n",
    "    soundictionary[i] = (y, fs)\n",
    "end"
   ]
  },
  {
   "cell_type": "markdown",
   "id": "301baf78-31cd-4e75-a189-49ca3b9ac906",
   "metadata": {},
   "source": [
    "Fill me in here"
   ]
  },
  {
   "cell_type": "code",
   "execution_count": 5,
   "id": "d597b549-9c9b-4c53-af60-866f122b2c0f",
   "metadata": {},
   "outputs": [],
   "source": [
    "length_of_test_vector = 100;\n",
    "random_test_vector = rand(1:number_of_samples, length_of_test_vector);"
   ]
  },
  {
   "cell_type": "code",
   "execution_count": 6,
   "id": "7815ac68-0af5-4c72-95d8-94713ab6c0d7",
   "metadata": {},
   "outputs": [],
   "source": [
    "for i ∈ 1:length_of_test_vector\n",
    "    y, fs = soundictionary[random_test_vector[i]]\n",
    "    wavplay(y, fs)\n",
    "end"
   ]
  }
 ],
 "metadata": {
  "kernelspec": {
   "display_name": "Julia 1.10.0",
   "language": "julia",
   "name": "julia-1.10"
  },
  "language_info": {
   "file_extension": ".jl",
   "mimetype": "application/julia",
   "name": "julia",
   "version": "1.10.0"
  }
 },
 "nbformat": 4,
 "nbformat_minor": 5
}
