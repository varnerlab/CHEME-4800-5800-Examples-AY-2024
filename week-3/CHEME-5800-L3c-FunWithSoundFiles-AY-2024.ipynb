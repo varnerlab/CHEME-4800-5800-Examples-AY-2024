{
 "cells": [
  {
   "cell_type": "markdown",
   "id": "bbc61389-f2ea-4006-8e0b-fcecd1cc8a5a",
   "metadata": {},
   "source": [
    "# Example: Let's build a sound library of `WAV` files"
   ]
  },
  {
   "cell_type": "code",
   "execution_count": null,
   "id": "ab57004c-a96b-449c-aabf-2f23b824c352",
   "metadata": {},
   "outputs": [],
   "source": []
  }
 ],
 "metadata": {
  "kernelspec": {
   "display_name": "Julia 1.10.0",
   "language": "julia",
   "name": "julia-1.10"
  },
  "language_info": {
   "file_extension": ".jl",
   "mimetype": "application/julia",
   "name": "julia",
   "version": "1.10.0"
  }
 },
 "nbformat": 4,
 "nbformat_minor": 5
}
