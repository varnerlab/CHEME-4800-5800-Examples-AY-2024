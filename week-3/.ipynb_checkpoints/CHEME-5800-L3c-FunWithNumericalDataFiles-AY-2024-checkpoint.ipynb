{
 "cells": [
  {
   "cell_type": "markdown",
   "id": "c46fafb2-cee0-4186-99e9-c4a6e4c1deb0",
   "metadata": {},
   "source": [
    "# Example: Working with Delimited Numerical Data Files\n",
    "A super common thing that data scientists and artificial intelligence researchers do (as well as Engineers and Scientists) is load textual and numerical datasets, analyze them, or save them back to disk. In this example, we will continue discussing working with text files and developing our first `parser.`\n",
    "\n",
    "We'll start this discussion now in the lecture, but we'll continue to work on these ideas in `Lab-3d` this afternoon. So let's get started!"
   ]
  },
  {
   "cell_type": "markdown",
   "id": "91b40f80-956d-49e0-b0fe-a9336be89e91",
   "metadata": {},
   "source": [
    "## Setup\n",
    "In this example, we'll use functions defined in the `Files. jl` to read a numerical data file. In the `Include.jl` file, we load these functions to access them and set some required paths for this example."
   ]
  },
  {
   "cell_type": "code",
   "execution_count": 1,
   "id": "a3da965a-5f3b-4d17-8176-86bed6a97c5e",
   "metadata": {},
   "outputs": [
    {
     "name": "stderr",
     "output_type": "stream",
     "text": [
      "\u001b[32m\u001b[1m  Activating\u001b[22m\u001b[39m project at `~/Desktop/julia_work/CHEME-4800-5800-Examples-AY-2024/week-3`\n",
      "\u001b[32m\u001b[1m  No Changes\u001b[22m\u001b[39m to `~/Desktop/julia_work/CHEME-4800-5800-Examples-AY-2024/week-3/Project.toml`\n",
      "\u001b[32m\u001b[1m  No Changes\u001b[22m\u001b[39m to `~/Desktop/julia_work/CHEME-4800-5800-Examples-AY-2024/week-3/Manifest.toml`\n",
      "\u001b[32m\u001b[1m    Updating\u001b[22m\u001b[39m registry at `~/.julia/registries/General.toml`\n",
      "\u001b[32m\u001b[1m  No Changes\u001b[22m\u001b[39m to `~/Desktop/julia_work/CHEME-4800-5800-Examples-AY-2024/week-3/Project.toml`\n",
      "\u001b[32m\u001b[1m  No Changes\u001b[22m\u001b[39m to `~/Desktop/julia_work/CHEME-4800-5800-Examples-AY-2024/week-3/Manifest.toml`\n"
     ]
    }
   ],
   "source": [
    "include(\"Include.jl\");"
   ]
  },
  {
   "cell_type": "markdown",
   "id": "53a6ce9b-605f-4675-988f-9a071dd3f677",
   "metadata": {},
   "source": [
    "## Load the `Bubble.csv` file using the `simplereadcsvfile` function\n",
    "To get a better idea of the performance of the [Bubble Sort algorithm](https://en.wikipedia.org/wiki/Bubble_sort), I used the [BenchmarkTools.jl package](https://github.com/JuliaCI/BenchmarkTools.jl) to do some benchmarking of the `mean` and `standard deviation` of the time required to sort a random array of integers as a function of the length the vector. We stored this data in the [Bubblesort.csv](data/Bubblesort.csv) file.\n",
    "\n",
    "* Let's load this data file using the `simplereadcsvfile` function defined in `Files.jl`. First, let's set the path to the data file in the `path_to_data_file` variable:"
   ]
  },
  {
   "cell_type": "code",
   "execution_count": 2,
   "id": "2844bb96-1284-43e0-9c8f-19438925f91e",
   "metadata": {},
   "outputs": [
    {
     "data": {
      "text/plain": [
       "\"/Users/jeffreyvarner/Desktop/julia_work/CHEME-4800-5800-Examples-AY-2024/week-3/data/Bubblesort.csv\""
      ]
     },
     "execution_count": 2,
     "metadata": {},
     "output_type": "execute_result"
    }
   ],
   "source": [
    "path_to_data_file = joinpath(_PATH_TO_DATA, \"Bubblesort.csv\")"
   ]
  },
  {
   "cell_type": "markdown",
   "id": "824a6044-a3d1-4b53-8eb2-1217ac334f96",
   "metadata": {},
   "source": [
    "Next, we pass the `path_to_data_file` variable to the `simplereadcsvfile` function. The `simplereadcsvfile` returns two items: the `header`, i.e., the column names and the data stored in the file:"
   ]
  },
  {
   "cell_type": "code",
   "execution_count": 3,
   "id": "7c8a9108-b46c-4580-9c36-e048ad9b146d",
   "metadata": {},
   "outputs": [],
   "source": [
    "(bubble_header, bubble_data) = simplereadcsvfile(path_to_data_file);"
   ]
  },
  {
   "cell_type": "markdown",
   "id": "e53e81e2-6f2a-46cb-a19f-bf12536fe1b1",
   "metadata": {},
   "source": [
    "### Let's make a list of issues with the `simplereadcsvfile`\n",
    "1. Hmmm"
   ]
  },
  {
   "cell_type": "code",
   "execution_count": null,
   "id": "4a62b929-f9b2-49e7-a579-8661096fba54",
   "metadata": {},
   "outputs": [],
   "source": []
  }
 ],
 "metadata": {
  "kernelspec": {
   "display_name": "Julia 1.10.0",
   "language": "julia",
   "name": "julia-1.10"
  },
  "language_info": {
   "file_extension": ".jl",
   "mimetype": "application/julia",
   "name": "julia",
   "version": "1.10.0"
  }
 },
 "nbformat": 4,
 "nbformat_minor": 5
}
