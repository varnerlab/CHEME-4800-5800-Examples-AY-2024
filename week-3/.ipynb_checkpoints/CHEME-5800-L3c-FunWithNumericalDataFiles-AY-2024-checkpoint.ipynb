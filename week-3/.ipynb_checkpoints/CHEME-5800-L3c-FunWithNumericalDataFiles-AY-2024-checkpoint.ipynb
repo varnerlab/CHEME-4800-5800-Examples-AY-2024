{
 "cells": [
  {
   "cell_type": "markdown",
   "id": "c46fafb2-cee0-4186-99e9-c4a6e4c1deb0",
   "metadata": {},
   "source": [
    "# Example: Working with Delimited Numerical Data Files\n",
    "Fill me in"
   ]
  },
  {
   "cell_type": "markdown",
   "id": "91b40f80-956d-49e0-b0fe-a9336be89e91",
   "metadata": {},
   "source": [
    "## Setup"
   ]
  },
  {
   "cell_type": "code",
   "execution_count": 2,
   "id": "a3da965a-5f3b-4d17-8176-86bed6a97c5e",
   "metadata": {},
   "outputs": [
    {
     "name": "stderr",
     "output_type": "stream",
     "text": [
      "\u001b[32m\u001b[1m  Activating\u001b[22m\u001b[39m project at `~/Desktop/julia_work/CHEME-4800-5800-Examples-AY-2024/week-3`\n",
      "\u001b[32m\u001b[1m  No Changes\u001b[22m\u001b[39m to `~/Desktop/julia_work/CHEME-4800-5800-Examples-AY-2024/week-3/Project.toml`\n",
      "\u001b[32m\u001b[1m  No Changes\u001b[22m\u001b[39m to `~/Desktop/julia_work/CHEME-4800-5800-Examples-AY-2024/week-3/Manifest.toml`\n",
      "\u001b[32m\u001b[1m    Updating\u001b[22m\u001b[39m registry at `~/.julia/registries/General.toml`\n",
      "\u001b[32m\u001b[1m  No Changes\u001b[22m\u001b[39m to `~/Desktop/julia_work/CHEME-4800-5800-Examples-AY-2024/week-3/Project.toml`\n",
      "\u001b[32m\u001b[1m  No Changes\u001b[22m\u001b[39m to `~/Desktop/julia_work/CHEME-4800-5800-Examples-AY-2024/week-3/Manifest.toml`\n"
     ]
    }
   ],
   "source": [
    "include(\"Include.jl\");"
   ]
  },
  {
   "cell_type": "markdown",
   "id": "53a6ce9b-605f-4675-988f-9a071dd3f677",
   "metadata": {},
   "source": [
    "## Load the `Bubble.csv` file using the `simplereadcsvfile` function"
   ]
  },
  {
   "cell_type": "code",
   "execution_count": 5,
   "id": "2844bb96-1284-43e0-9c8f-19438925f91e",
   "metadata": {},
   "outputs": [
    {
     "data": {
      "text/plain": [
       "\"/Users/jeffreyvarner/Desktop/julia_work/CHEME-4800-5800-Examples-AY-2024/week-3/data/Bubblesort.csv\""
      ]
     },
     "execution_count": 5,
     "metadata": {},
     "output_type": "execute_result"
    }
   ],
   "source": [
    "path_to_data_file = joinpath(_PATH_TO_DATA, \"Bubblesort.csv\")"
   ]
  },
  {
   "cell_type": "code",
   "execution_count": 7,
   "id": "7c8a9108-b46c-4580-9c36-e048ad9b146d",
   "metadata": {},
   "outputs": [
    {
     "data": {
      "text/plain": [
       "([\"N\", \"mean\", \"std\"], Dict{Int64, Vector{Number}}(64 => [5988.0, 526.492], 16 => [497.23, 53.179], 2048 => [2.512e6, 56938.0], 8 => [162.459, 17.421], 128 => [17807.0, 1674.0], 256 => [54388.0, 2823.0], 32 => [1915.0, 696.702], 4 => [67.898, 15.985], 1024 => [640224.0, 10338.0], 2 => [45.819, 21.88]…))"
      ]
     },
     "execution_count": 7,
     "metadata": {},
     "output_type": "execute_result"
    }
   ],
   "source": [
    "(bubble_header, bubble_data) = readcsvfile(path_to_data_file)"
   ]
  },
  {
   "cell_type": "code",
   "execution_count": 9,
   "id": "c613e8d8-3b8d-4417-b98a-a25a4c9e1f36",
   "metadata": {},
   "outputs": [
    {
     "data": {
      "text/plain": [
       "Dict{Int64, Vector{Number}} with 11 entries:\n",
       "  64   => [5988.0, 526.492]\n",
       "  16   => [497.23, 53.179]\n",
       "  2048 => [2.512e6, 56938.0]\n",
       "  8    => [162.459, 17.421]\n",
       "  128  => [17807.0, 1674.0]\n",
       "  256  => [54388.0, 2823.0]\n",
       "  32   => [1915.0, 696.702]\n",
       "  4    => [67.898, 15.985]\n",
       "  1024 => [640224.0, 10338.0]\n",
       "  2    => [45.819, 21.88]\n",
       "  512  => [178044.0, 5180.0]"
      ]
     },
     "execution_count": 9,
     "metadata": {},
     "output_type": "execute_result"
    }
   ],
   "source": [
    "bubble_data"
   ]
  },
  {
   "cell_type": "code",
   "execution_count": 10,
   "id": "d0276877-eae6-4a79-b81b-145164e0246b",
   "metadata": {},
   "outputs": [
    {
     "data": {
      "text/plain": [
       "3-element Vector{String}:\n",
       " \"N\"\n",
       " \"mean\"\n",
       " \"std\""
      ]
     },
     "execution_count": 10,
     "metadata": {},
     "output_type": "execute_result"
    }
   ],
   "source": [
    "bubble_header"
   ]
  },
  {
   "cell_type": "code",
   "execution_count": null,
   "id": "0615c494-2d4a-48fd-93ce-8b9ae6c9f3c6",
   "metadata": {},
   "outputs": [],
   "source": []
  }
 ],
 "metadata": {
  "kernelspec": {
   "display_name": "Julia 1.10.0",
   "language": "julia",
   "name": "julia-1.10"
  },
  "language_info": {
   "file_extension": ".jl",
   "mimetype": "application/julia",
   "name": "julia",
   "version": "1.10.0"
  }
 },
 "nbformat": 4,
 "nbformat_minor": 5
}
