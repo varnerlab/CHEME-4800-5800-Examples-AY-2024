{
 "cells": [
  {
   "cell_type": "markdown",
   "id": "c738208f-fb0f-4c68-815f-d2e9e65670ba",
   "metadata": {},
   "source": [
    "# Example: Compute the Fibonacci number using a For loop\n",
    "Fill me in"
   ]
  },
  {
   "cell_type": "code",
   "execution_count": 25,
   "id": "e3d1cc29-7cc2-4d4e-87ee-048da87f101c",
   "metadata": {},
   "outputs": [],
   "source": [
    "function fibonacci_for_loop(n::Int64)::Union{Nothing, Dict{Int64, Int64}}\n",
    "\n",
    "    # check: is the value of n passed in by the user legit? n>=1\n",
    "    if (n < 0)\n",
    "        return nothing; # What else could we have done here?\n",
    "    end\n",
    "\n",
    "    # initialize -\n",
    "    sequence = Dict{Int64, Int64}();\n",
    "\n",
    "    # we know the first two elements -\n",
    "    sequence[0] = 0;\n",
    "    sequence[1] = 1;\n",
    "\n",
    "    # main loop, now we can compute F₂, ....\n",
    "    for i ∈ 2:(n + 1)\n",
    "        sequence[i] = sequence[i-1] + sequence[i-2]\n",
    "    end\n",
    "\n",
    "    # return -\n",
    "    return sequence\n",
    "end;"
   ]
  },
  {
   "cell_type": "code",
   "execution_count": 26,
   "id": "e86a12eb-6b70-445a-bcb5-78a728d051a1",
   "metadata": {},
   "outputs": [
    {
     "data": {
      "text/plain": [
       "Dict{Int64, Int64} with 3 entries:\n",
       "  0 => 0\n",
       "  2 => 1\n",
       "  1 => 1"
      ]
     },
     "execution_count": 26,
     "metadata": {},
     "output_type": "execute_result"
    }
   ],
   "source": [
    "fibonacci_for_loop(1)"
   ]
  },
  {
   "cell_type": "code",
   "execution_count": 18,
   "id": "006f36fc-2346-47f6-9779-ae46ade32a6e",
   "metadata": {},
   "outputs": [
    {
     "data": {
      "text/plain": [
       "fibonacci_while_loop"
      ]
     },
     "execution_count": 18,
     "metadata": {},
     "output_type": "execute_result"
    }
   ],
   "source": [
    "function fibonacci_while_loop(n::Int64)::Dict{Int64, Int64}\n",
    "\n",
    "    # check: is n legit?\n",
    "    # n >= 0\n",
    "\n",
    "    # initilize -\n",
    "    fibonacci_seq::Dict{Int64,Int64} = Dict{Int64, Int64}()\n",
    "    should_loop_continue::Bool = true\n",
    "    i::Int64 = 0;\n",
    "\n",
    "    # main loop \n",
    "    while (should_loop_continue == true)\n",
    "       \n",
    "        # conditional logic: hardcode 0, 1 else gets all other cases\n",
    "        if (i == 0)\n",
    "            fibonacci_seq[i] = 0; \n",
    "        elseif (i == 1)\n",
    "            fibonacci_seq[i] = 1;\n",
    "        else\n",
    "            fibonacci_seq[i] = fibonacci_seq[i-1] + fibonacci_seq[i-2]\n",
    "        end\n",
    "\n",
    "        # update i -\n",
    "        i = i + 1;\n",
    "\n",
    "        # check: should we go around again?\n",
    "        if (i>n)\n",
    "            should_loop_continue = false;\n",
    "        end\n",
    "    end\n",
    "    \n",
    "    # return dictionary -\n",
    "    return fibonacci_seq;\n",
    "end"
   ]
  },
  {
   "cell_type": "code",
   "execution_count": null,
   "id": "b13d5723-ec05-4845-8017-b1f4dd762399",
   "metadata": {},
   "outputs": [],
   "source": []
  }
 ],
 "metadata": {
  "kernelspec": {
   "display_name": "Julia 1.10.0",
   "language": "julia",
   "name": "julia-1.10"
  },
  "language_info": {
   "file_extension": ".jl",
   "mimetype": "application/julia",
   "name": "julia",
   "version": "1.10.0"
  }
 },
 "nbformat": 4,
 "nbformat_minor": 5
}
