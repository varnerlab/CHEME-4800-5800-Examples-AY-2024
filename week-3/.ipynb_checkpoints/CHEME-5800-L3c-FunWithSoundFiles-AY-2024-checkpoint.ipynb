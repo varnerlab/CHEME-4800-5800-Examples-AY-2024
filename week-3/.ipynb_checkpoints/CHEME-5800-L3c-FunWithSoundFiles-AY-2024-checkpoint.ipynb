{
 "cells": [
  {
   "cell_type": "markdown",
   "id": "bbc61389-f2ea-4006-8e0b-fcecd1cc8a5a",
   "metadata": {},
   "source": [
    "# Example: Let's Build and Test a Library of `WAV` sound files\n",
    "In `lab-3b`, we explored the [Bubble Sort algorithm](https://en.wikipedia.org/wiki/Bubble_sort) on an array of `Int64` values. An exciting part of the lab was when we `played` the sorting operation, i.e., we played a tone corresponding to each number in the array. Thus, we could hear the difference between a sorted array and a random one. In this example, let's take a deeper dive into how we generated the tones and how we mapped these tones to `Int64` values. "
   ]
  },
  {
   "cell_type": "markdown",
   "id": "37a7c229-2a47-4421-a0ab-c0f70cf6181a",
   "metadata": {},
   "source": [
    "## Setup\n",
    "To read, write, and play the sounds in `Lab-3b`, we used the [WAV.jl package](https://github.com/dancasimiro/WAV.jl), an external package that exports functionality to work with sound files on all computing platforms. In the `Include.jl` file, we load the [WAV.jl package](https://github.com/dancasimiro/WAV.jl), and set some required paths for this example.\n",
    "\n",
    "* The [WAV.jl package](https://github.com/dancasimiro/WAV.jl) provides the `wavread`, `wavwrite` and `wavappend` functions to read, write, and append to [WAV audio format files](https://en.wikipedia.org/wiki/WAV). The function `wavplay` function provides simple audio playback for WAV files. "
   ]
  },
  {
   "cell_type": "code",
   "execution_count": 1,
   "id": "933df3db-f8e2-4817-a845-2dff5e02d34b",
   "metadata": {},
   "outputs": [
    {
     "name": "stderr",
     "output_type": "stream",
     "text": [
      "\u001b[32m\u001b[1m  Activating\u001b[22m\u001b[39m project at `~/Desktop/julia_work/CHEME-4800-5800-Examples-AY-2024/week-3`\n",
      "\u001b[32m\u001b[1m  No Changes\u001b[22m\u001b[39m to `~/Desktop/julia_work/CHEME-4800-5800-Examples-AY-2024/week-3/Project.toml`\n",
      "\u001b[32m\u001b[1m  No Changes\u001b[22m\u001b[39m to `~/Desktop/julia_work/CHEME-4800-5800-Examples-AY-2024/week-3/Manifest.toml`\n",
      "\u001b[32m\u001b[1m    Updating\u001b[22m\u001b[39m registry at `~/.julia/registries/General.toml`\n",
      "\u001b[32m\u001b[1m  No Changes\u001b[22m\u001b[39m to `~/Desktop/julia_work/CHEME-4800-5800-Examples-AY-2024/week-3/Project.toml`\n",
      "\u001b[32m\u001b[1m  No Changes\u001b[22m\u001b[39m to `~/Desktop/julia_work/CHEME-4800-5800-Examples-AY-2024/week-3/Manifest.toml`\n"
     ]
    }
   ],
   "source": [
    "include(\"Include.jl\");"
   ]
  },
  {
   "cell_type": "markdown",
   "id": "547044cd-d33e-4eaf-a5a2-513bcdc39e12",
   "metadata": {},
   "source": [
    "## 1. Generate `WAV` files and write them to the `sounds` directory\n",
    "Let's produce a tone by generating a [sine wave](https://en.wikipedia.org/wiki/Sine_wave) of a specified duration and frequency. We modulate the frequency by a multiple $\\beta$ to create the different tones, where each tone corresponds to a particular value of `Int64`. \n",
    "* First, let's set the sampling rate `fs,` the time range we want the tone to play `t,` the range of integers that we expect to have in our array in the `number_of_samples` variable, and the frequency modulation in the $\\beta$-array"
   ]
  },
  {
   "cell_type": "code",
   "execution_count": 2,
   "id": "49e1758c-21aa-4482-8edc-5814f82cfc34",
   "metadata": {},
   "outputs": [],
   "source": [
    "fs = 8e3 # sampling rate\n",
    "duration = 0.05; # 0.05 seconds (500ms)\n",
    "t = range(0.0,step=1/fs,duration);\n",
    "number_of_samples = 128;\n",
    "β = range(1.0, stop=2.5, length=number_of_samples);"
   ]
  },
  {
   "cell_type": "markdown",
   "id": "48f07a1c-19b4-47a3-b118-830f90f82608",
   "metadata": {},
   "source": [
    "Next, iterate through the $\\beta$-array using the [eachindex iteration pattern](https://docs.julialang.org/en/v1/base/arrays/#Base.eachindex) and modulate the frequency of the [sine and cosine waves](https://en.wikipedia.org/wiki/Sine_and_cosine) to generate the audio data. We save the data, along with the sampling rate `fs`, using the `wavwrite` function, where the name of each sound file is indexed by the loop counter $i$, i.e., the corresponding `Int64` value. These get saved in the `_PATH_TO_SOUNDS` directory (which is specified in the [Include.jl](Include.jl) file).\n",
    "* In this example, we include stereo sound, i.e., both [sine and cosine signals](https://en.wikipedia.org/wiki/Sine_and_cosine) that get mapped to the right and left channel, respectively (I think?). In `Lab-3b`, we only used a single sine channel."
   ]
  },
  {
   "cell_type": "code",
   "execution_count": 3,
   "id": "dc946703-3532-455e-a384-1c25b75e9402",
   "metadata": {},
   "outputs": [],
   "source": [
    "for i ∈ eachindex(β)\n",
    "    βᵢ = β[i]\n",
    "    f = βᵢ*(0.5e3) # hmmm. what happens if we change the base value we are modifying?\n",
    "    x = cos.(2π * 0.1*f * t)\n",
    "    y = sin.(2π * f * t)\n",
    "    wavwrite([x y], joinpath(_PATH_TO_SOUNDS, \"example-$(i).wav\"), Fs=fs) # Now with rich stereo sound!!\n",
    "end"
   ]
  },
  {
   "cell_type": "markdown",
   "id": "6e88b536-4ae0-492d-a448-07c6b05183fe",
   "metadata": {},
   "source": [
    "## 2. Play a random vector using `soundictionary`"
   ]
  },
  {
   "cell_type": "markdown",
   "id": "9c47b2de-efe7-461c-bf77-644172156055",
   "metadata": {},
   "source": [
    "Now that we have generated the sound files, let's load them back up into memory using the `waveread` function, and store the data in the `soundictionary` variable, where the `key` is the `Int64` index of the file, and the `value` is the data tuple returned by the `wavread` function:"
   ]
  },
  {
   "cell_type": "code",
   "execution_count": 4,
   "id": "b5d2ce2c-f93f-46ef-84f3-eebadb4b0147",
   "metadata": {},
   "outputs": [],
   "source": [
    "soundictionary = Dict{Int64, Tuple{Matrix{Float64}, Float32}}()\n",
    "for i ∈ 1:number_of_samples\n",
    "    filename = joinpath(_PATH_TO_SOUNDS, \"example-$(i).wav\")\n",
    "    y, fs = wavread(filename)\n",
    "    soundictionary[i] = (y, fs)\n",
    "end"
   ]
  },
  {
   "cell_type": "markdown",
   "id": "301baf78-31cd-4e75-a189-49ca3b9ac906",
   "metadata": {},
   "source": [
    "To hear the sounds stored in the `soundictionary`, let's create a random vector of length `length_of_test_vector` whose entries range between `1...number_of_samples` using the [built-in Julia rand function](https://docs.julialang.org/en/v1/stdlib/Random/#Base.rand):"
   ]
  },
  {
   "cell_type": "code",
   "execution_count": 5,
   "id": "d597b549-9c9b-4c53-af60-866f122b2c0f",
   "metadata": {},
   "outputs": [],
   "source": [
    "length_of_test_vector = 50;\n",
    "random_test_vector = rand(1:number_of_samples, length_of_test_vector);"
   ]
  },
  {
   "cell_type": "markdown",
   "id": "84758259-322f-4d82-ad5d-89fed9d1bea7",
   "metadata": {},
   "source": [
    "Finally, we can play the `(y, fs)` tuple, i.e., the data stored in the sound file (and the `soundictionary` variable) using the `wavplay` function. \n",
    "* We iterate through the `random_test_vector` vector directly, i.e., we don't need the index in this case, so we can directly iterate through the values of the vector, access the corresponding tone date stored in the `soundictionary`, and play the tone:"
   ]
  },
  {
   "cell_type": "code",
   "execution_count": 6,
   "id": "7815ac68-0af5-4c72-95d8-94713ab6c0d7",
   "metadata": {},
   "outputs": [],
   "source": [
    "for i ∈ random_test_vector\n",
    "    y, fs = soundictionary[i]\n",
    "    wavplay(y, fs)\n",
    "end"
   ]
  },
  {
   "cell_type": "code",
   "execution_count": null,
   "id": "ad0bd522-008d-42b8-a1d5-8f4d73009950",
   "metadata": {},
   "outputs": [],
   "source": []
  }
 ],
 "metadata": {
  "kernelspec": {
   "display_name": "Julia 1.10.0",
   "language": "julia",
   "name": "julia-1.10"
  },
  "language_info": {
   "file_extension": ".jl",
   "mimetype": "application/julia",
   "name": "julia",
   "version": "1.10.0"
  }
 },
 "nbformat": 4,
 "nbformat_minor": 5
}
