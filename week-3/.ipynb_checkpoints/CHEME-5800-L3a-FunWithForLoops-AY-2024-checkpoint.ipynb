{
 "cells": [
  {
   "cell_type": "markdown",
   "id": "3f20ce93-4de8-46c3-bcc5-d3f36431dfdb",
   "metadata": {},
   "source": [
    "# Example: Fun with For Loops and the Iteration Pattern\n",
    "Fill me in"
   ]
  },
  {
   "cell_type": "markdown",
   "id": "72a36a5e-aae4-4ce0-a6a0-5fd1b144a756",
   "metadata": {},
   "source": [
    "## Example 1: Basic `for` loop iteration example"
   ]
  },
  {
   "cell_type": "code",
   "execution_count": 7,
   "id": "96c5419d-beeb-4a57-aeea-55ef84318458",
   "metadata": {},
   "outputs": [],
   "source": [
    "number_of_elements = 10;\n",
    "random_vector_array = rand(number_of_elements)\n",
    "for i in 1:number_of_elements\n",
    "    value = random_vector_array[i];\n",
    "    # println(\"The index i = $(i) and the value = $(value)\");\n",
    "end"
   ]
  },
  {
   "cell_type": "markdown",
   "id": "24fedc9d-b5ce-4e10-8802-3f8bd974bb89",
   "metadata": {},
   "source": [
    "Fill me in"
   ]
  },
  {
   "cell_type": "code",
   "execution_count": 9,
   "id": "d2ae0e2f-89b4-48c1-8969-fe42f540316b",
   "metadata": {},
   "outputs": [],
   "source": [
    "for i ∈ eachindex(random_vector_array)\n",
    "    value = random_vector_array[i];\n",
    "    # println(\"The index i = $(i) and the value = $(value)\");\n",
    "end"
   ]
  },
  {
   "cell_type": "markdown",
   "id": "acddc96b-f2db-40bd-beca-c63225df5cab",
   "metadata": {},
   "source": [
    "Fill me in"
   ]
  },
  {
   "cell_type": "code",
   "execution_count": null,
   "id": "bc63300b-fc31-4b6b-bc75-01e431cd0b56",
   "metadata": {},
   "outputs": [],
   "source": [
    "for value ∈ random_vector_array\n",
    "    # println(\"The value = $(value)\");\n",
    "end"
   ]
  }
 ],
 "metadata": {
  "kernelspec": {
   "display_name": "Julia 1.10.0",
   "language": "julia",
   "name": "julia-1.10"
  },
  "language_info": {
   "file_extension": ".jl",
   "mimetype": "application/julia",
   "name": "julia",
   "version": "1.10.0"
  }
 },
 "nbformat": 4,
 "nbformat_minor": 5
}
