{
 "cells": [
  {
   "cell_type": "markdown",
   "id": "c738208f-fb0f-4c68-815f-d2e9e65670ba",
   "metadata": {},
   "source": [
    "# Example: Compute the Fibonacci number using a For loop\n",
    "Fill me in"
   ]
  },
  {
   "cell_type": "code",
   "execution_count": 12,
   "id": "e3d1cc29-7cc2-4d4e-87ee-048da87f101c",
   "metadata": {},
   "outputs": [],
   "source": [
    "function fibonacci_for_loop(n::Int64)::Union{Nothing,Array{Int64,1}}\n",
    "\n",
    "    # check: is n legit? n>=1\n",
    "    if (n < 0)\n",
    "        return nothing;\n",
    "    elseif (n >= 0 && n < 2)\n",
    "        return [0];\n",
    "    end\n",
    "\n",
    "    # initialize -\n",
    "    sequence = zeros(n+1); # why n+1 (and not n)?\n",
    "\n",
    "    # we know the first two elements -\n",
    "    sequence[1] = 0;\n",
    "    sequence[2] = 1;\n",
    "\n",
    "    # main loop -\n",
    "    for i in 3:(n+1)\n",
    "        sequence[i] = sequence[i-1] + sequence[i-2]\n",
    "    end\n",
    "\n",
    "    # return -\n",
    "    return sequence\n",
    "end;"
   ]
  },
  {
   "cell_type": "code",
   "execution_count": 16,
   "id": "e86a12eb-6b70-445a-bcb5-78a728d051a1",
   "metadata": {},
   "outputs": [
    {
     "data": {
      "text/plain": [
       "11-element Vector{Int64}:\n",
       "  0\n",
       "  1\n",
       "  1\n",
       "  2\n",
       "  3\n",
       "  5\n",
       "  8\n",
       " 13\n",
       " 21\n",
       " 34\n",
       " 55"
      ]
     },
     "execution_count": 16,
     "metadata": {},
     "output_type": "execute_result"
    }
   ],
   "source": [
    "fibonacci_for_loop(10)"
   ]
  },
  {
   "cell_type": "code",
   "execution_count": null,
   "id": "006f36fc-2346-47f6-9779-ae46ade32a6e",
   "metadata": {},
   "outputs": [],
   "source": []
  }
 ],
 "metadata": {
  "kernelspec": {
   "display_name": "Julia 1.10.0",
   "language": "julia",
   "name": "julia-1.10"
  },
  "language_info": {
   "file_extension": ".jl",
   "mimetype": "application/julia",
   "name": "julia",
   "version": "1.10.0"
  }
 },
 "nbformat": 4,
 "nbformat_minor": 5
}
