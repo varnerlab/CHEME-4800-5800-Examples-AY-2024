{
 "cells": [
  {
   "cell_type": "markdown",
   "id": "c738208f-fb0f-4c68-815f-d2e9e65670ba",
   "metadata": {},
   "source": [
    "# Example: Compute the Fibonacci numbers using `for` and `while` loops\n",
    "Let's write two functions to compute [Fibonacci sequences](https://en.wikipedia.org/wiki/Fibonacci_sequence), one with a `for` loop and the second with a `while` loop. A [Fibonacci sequence](https://en.wikipedia.org/wiki/Fibonacci_sequence) is a sequence composed of the `Fibonacci` numbers $F_{n}$ where $F_{n}$ is governed by the recurrence relation:\n",
    "$$\n",
    "F_{n} = F_{n-2} + F_{n-1}\\quad{n\\geq{1}}\n",
    "$$\n",
    "where $F_{0}=0$ and $F_{1} = 1$."
   ]
  },
  {
   "cell_type": "markdown",
   "id": "bb44589e-557b-4987-a00d-ac88cf82f556",
   "metadata": {},
   "source": [
    "## Example: Fibonacci `for` loop implementation\n",
    "Let's implement the `fibonacci_for_loop` function, which takes the argument `n::Int64` and returns a [Dictionary](https://docs.julialang.org/en/v1/base/collections/#Dictionaries) with entries $n\\Rightarrow{F_{n}}$, i.e., the `key` will be the $n$ value and the `value` will be $F_{n}$.\n",
    "* Let's use the `early return pattern` to check if the argument $n$ is non-negative. If $n<0$, then the `fibonacci_for_loop` function will return a value of `nothing` and never do any computation (is this a good idea?)\n",
    "* Otherwise, the sequence $F_{0},F_{1},\\dots,F_{n}$ is returned to the caller as a `Dict{Int64, Int64}`."
   ]
  },
  {
   "cell_type": "code",
   "execution_count": 1,
   "id": "e3d1cc29-7cc2-4d4e-87ee-048da87f101c",
   "metadata": {},
   "outputs": [],
   "source": [
    "function fibonacci_for_loop(n::Int64)::Union{Nothing, Dict{Int64, Int64}}\n",
    "\n",
    "    # check: is the value of n passed in by the user legit? n>=1\n",
    "    if (n < 0)\n",
    "        return nothing; # What else could we have done here?\n",
    "    end\n",
    "\n",
    "    # initialize -\n",
    "    sequence = Dict{Int64, Int64}();\n",
    "\n",
    "    # we know the first two elements -\n",
    "    sequence[0] = 0;\n",
    "    sequence[1] = 1;\n",
    "\n",
    "    # main loop, compute F₂, ....\n",
    "    for i ∈ 2:n # what is this short-hand for?\n",
    "        sequence[i] = sequence[i-1] + sequence[i-2]\n",
    "    end\n",
    "\n",
    "    # return -\n",
    "    return sequence\n",
    "end;"
   ]
  },
  {
   "cell_type": "code",
   "execution_count": 7,
   "id": "e86a12eb-6b70-445a-bcb5-78a728d051a1",
   "metadata": {},
   "outputs": [],
   "source": [
    "# fs_for_loop = fibonacci_for_loop(10);"
   ]
  },
  {
   "cell_type": "markdown",
   "id": "4e9e636f-c1ed-4fb1-b5a5-cc48604f10df",
   "metadata": {},
   "source": [
    "## Example: Fibonacci `while` loop implementation\n",
    "Let's implement the `fibonacci_while_loop` function, which takes the argument `n::Int64` and returns a [Dictionary](https://docs.julialang.org/en/v1/base/collections/#Dictionaries) with entries $n\\Rightarrow{F_{n}}$, i.e., the `key` will be the $n$ value and the `value` will be $F_{n}$. \n",
    "* Like a `for` loop, a [while loop](https://docs.julialang.org/en/v1/base/base/#while) has a header line which controls iteration and a body. The same scope rules apply. However, unlike a `for` loop, a [while loop](https://docs.julialang.org/en/v1/base/base/#while) executes until some condition evaluates to false in the header.\n",
    "* Let's use the `early return pattern` to check if the argument $n$ is non-negative. If $n<0$, then the `fibonacci_while_loop` function `throws` a `DomainError` and never does any computation (is this a good idea?). The [throws function](https://docs.julialang.org/en/v1/base/base/#Core.throw) `throws` an object as an exception, in this case, an instance of [DomainError](https://docs.julialang.org/en/v1/base/base/#Core.DomainError) which is a [Julia built-in error type](https://docs.julialang.org/en/v1/base/base/#Errors). \n",
    "* Otherwise, the sequence $F_{0},F_{1},\\dots,F_{n}$ is returned to the caller as a `Dict{Int64, Int64}`."
   ]
  },
  {
   "cell_type": "code",
   "execution_count": 3,
   "id": "006f36fc-2346-47f6-9779-ae46ade32a6e",
   "metadata": {},
   "outputs": [],
   "source": [
    "function fibonacci_while_loop(n::Int64)::Dict{Int64, Int64}\n",
    "\n",
    "    # check: is n legit?\n",
    "     if (n < 0)\n",
    "        throw(DomainError(n, \"argument n must be positive\"))\n",
    "    end\n",
    "\n",
    "    # initilize -\n",
    "    fibonacci_seq = Dict{Int64, Int64}()\n",
    "    should_loop_continue = true\n",
    "    i = 0;\n",
    "\n",
    "    # main loop \n",
    "    while (should_loop_continue == true)\n",
    "       \n",
    "        # conditional logic: hardcode 0, 1 else gets all other cases\n",
    "        if (i == 0)\n",
    "            fibonacci_seq[i] = 0; \n",
    "        elseif (i == 1)\n",
    "            fibonacci_seq[i] = 1;\n",
    "        else\n",
    "            fibonacci_seq[i] = fibonacci_seq[i-1] + fibonacci_seq[i-2]\n",
    "        end\n",
    "\n",
    "        # update i -\n",
    "        i += 1; # this is short-hand for i = i + 1\n",
    "\n",
    "        # check: should we go around again?\n",
    "        if (i>n)\n",
    "            should_loop_continue = false;\n",
    "        end\n",
    "    end\n",
    "    \n",
    "    # return dictionary -\n",
    "    return fibonacci_seq;\n",
    "end;"
   ]
  },
  {
   "cell_type": "code",
   "execution_count": 4,
   "id": "b13d5723-ec05-4845-8017-b1f4dd762399",
   "metadata": {},
   "outputs": [],
   "source": [
    "# fs_while_loop = fibonacci_while_loop(10)"
   ]
  }
 ],
 "metadata": {
  "kernelspec": {
   "display_name": "Julia 1.10.0",
   "language": "julia",
   "name": "julia-1.10"
  },
  "language_info": {
   "file_extension": ".jl",
   "mimetype": "application/julia",
   "name": "julia",
   "version": "1.10.0"
  }
 },
 "nbformat": 4,
 "nbformat_minor": 5
}
