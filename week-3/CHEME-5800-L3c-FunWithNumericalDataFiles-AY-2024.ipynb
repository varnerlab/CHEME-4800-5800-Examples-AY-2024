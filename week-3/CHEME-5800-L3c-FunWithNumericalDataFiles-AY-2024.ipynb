{
 "cells": [
  {
   "cell_type": "markdown",
   "id": "c46fafb2-cee0-4186-99e9-c4a6e4c1deb0",
   "metadata": {},
   "source": [
    "# Example: Working with Delimited Numerical Data Files"
   ]
  },
  {
   "cell_type": "code",
   "execution_count": null,
   "id": "2e5ce152-520f-453c-9a56-0842e1bd2b67",
   "metadata": {},
   "outputs": [],
   "source": []
  }
 ],
 "metadata": {
  "kernelspec": {
   "display_name": "Julia 1.10.0",
   "language": "julia",
   "name": "julia-1.10"
  },
  "language_info": {
   "file_extension": ".jl",
   "mimetype": "application/julia",
   "name": "julia",
   "version": "1.10.0"
  }
 },
 "nbformat": 4,
 "nbformat_minor": 5
}
