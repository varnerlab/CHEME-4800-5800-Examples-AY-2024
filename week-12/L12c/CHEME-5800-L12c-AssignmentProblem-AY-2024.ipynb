{
 "cells": [
  {
   "cell_type": "markdown",
   "id": "46fb187a-8edb-40b2-8f10-ac2a0094fbfc",
   "metadata": {},
   "source": [
    "# Example: Fun with the Assignment Problem\n",
    "This example will familiarize students with formulating and solving the assignment problem for different values of problem parameters. The assignment problem is a type of [minimum flow problem](https://en.wikipedia.org/wiki/Minimum-cost_flow_problem) in which items in a set, e.g., people, are matched with items in another set, e.g., jobs such that the minimum cost is achieved."
   ]
  },
  {
   "cell_type": "markdown",
   "id": "98a5a40b-cdfa-4cad-8571-c3c25f44f507",
   "metadata": {},
   "source": [
    "## Setup\n",
    "This example requires several external libraries and a function to compute the outer product. Let's download and install these packages and call our `Include.jl` file."
   ]
  },
  {
   "cell_type": "code",
   "execution_count": null,
   "id": "b1359760-f99d-4961-a139-98c6c5abfa59",
   "metadata": {},
   "outputs": [],
   "source": [
    "include(\"Include.jl\");"
   ]
  },
  {
   "cell_type": "markdown",
   "id": "4503d0cc-9934-4b9b-a6d1-e6c04dd55a0a",
   "metadata": {},
   "source": [
    "## Prerequisites \n",
    "Before exploring the assignment problem, let's specify the paths to the edge files we will load. The `base_edgefile` variable will hold the path to that balanced case, i.e., the number of jobs $n$ equals the number of people $m$. The `unbalanced_edgefile` variable holds the path to an unbalanced case, where the number of people $n$ is less than the number of jobs $m$, i.e., $n<m$. Both edge "
   ]
  },
  {
   "cell_type": "code",
   "execution_count": null,
   "id": "92a8deeb-d807-4955-8b2b-0f22630899dc",
   "metadata": {},
   "outputs": [],
   "source": [
    "base_edgefile = joinpath(_PATH_TO_DATA, \"Bipartite.edgelist\");\n",
    "unbalanced_edgefile = joinpath(_PATH_TO_DATA, \"Unbalanced-bipartite.edgelist\");"
   ]
  },
  {
   "cell_type": "markdown",
   "id": "aaa72814-bf0f-4bc1-b27b-f8421fd8591e",
   "metadata": {},
   "source": [
    "## Solve the `balanced` primal problem: match $n$ people to $m$ jobs where $n=m$.\n",
    "In the balanced problem, we minimize the overall cost of matching people to jobs where the number of people and jobs are the same. To solve this problem, we load the edgefile using the `readedgesfile(...)` function, which takes the `path_to_edge_file` variable as an argument and returns a dictionary of edges. \n",
    "* We use the [Julia |> operator](https://docs.julialang.org/en/v1/base/base/#Base.:|%3E) to pass the edge dictionary (as the temporary variable name `edges`) to a `build(...)`, which constructs and `MySimpleDirectedGraphModel` from the edge dictionary. We save the graph model corresponding to the balanced graph ($n=m$) in the `base_graphmodel` variable."
   ]
  },
  {
   "cell_type": "code",
   "execution_count": null,
   "id": "7f6db570-69a7-4991-b08b-7199877ac3e3",
   "metadata": {},
   "outputs": [],
   "source": [
    "base_graphmodel = readedgesfile(base_edgefile) |> edges -> build(MySimpleDirectedGraphModel, edges); # wow - this is ammaaazing!"
   ]
  },
  {
   "cell_type": "code",
   "execution_count": null,
   "id": "269b0234-b0c2-4a65-8673-856705a77335",
   "metadata": {},
   "outputs": [],
   "source": [
    "base_graphmodel.edges"
   ]
  },
  {
   "cell_type": "markdown",
   "id": "7bf3b1c3-7386-44cc-b063-8f2cbdb827f9",
   "metadata": {},
   "source": [
    "Now that we have the `base_graphmodel`, we can pass this model to the `solve` function and the number of required jobs (as a `Float64`) as the second argument. The `solve` method returns a dictionary holding data associated with the problem, where the optimal flow can be obtained from the `argmin` key, i.e., `base_solution[\"argmin\"]`."
   ]
  },
  {
   "cell_type": "code",
   "execution_count": null,
   "id": "131aa4db-fb06-48f9-942a-e245ec42417b",
   "metadata": {},
   "outputs": [],
   "source": [
    "base_solution = solve(base_graphmodel, 3.0); # what is the 3.0??"
   ]
  },
  {
   "cell_type": "code",
   "execution_count": null,
   "id": "52f1a020-dea4-4697-9c13-44d721d92bf4",
   "metadata": {},
   "outputs": [],
   "source": [
    "base_flow = base_solution[\"argmin\"] # hmmm. what does a 1 mean versus a 0?"
   ]
  },
  {
   "cell_type": "markdown",
   "id": "34c05ebb-8fa3-4882-aa50-c25fa0008770",
   "metadata": {},
   "source": [
    "### Visualize the balanced assignment\n",
    "`Unhide` the code block below to see how we plotted the solution to the balanced assignment problem."
   ]
  },
  {
   "cell_type": "code",
   "execution_count": null,
   "id": "0ccd9269-5dc9-46b0-9e20-6f6cacd2de48",
   "metadata": {
    "jupyter": {
     "source_hidden": true
    }
   },
   "outputs": [],
   "source": [
    "let\n",
    "    # setup coordinates for the nodes -\n",
    "    node_coordinates = [\n",
    "    \n",
    "        10.0 10.0 ; # 1 source node s \n",
    "        \n",
    "        # people nodes -\n",
    "        11.0 11.0 ; # 2 people node \n",
    "        11.0 10.0 ; # 3 people node\n",
    "        11.0 9.0 ; # 4 people node\n",
    "    \n",
    "        # job nodes -\n",
    "        12.0 11.0 ; # 5 job node \n",
    "        12.0 10.0 ; # 6 job node\n",
    "        12.0 9.0 ; # 7 job node\n",
    "    \n",
    "        # sink node -\n",
    "        13.0 10; # 8 sink node t \n",
    "    ];\n",
    "    q = plot();\n",
    "    for (k,v) ∈ base_graphmodel.edgesinverse\n",
    "\n",
    "        # get the flow value from the solution for this edge index -\n",
    "        flow_value = base_flow[k];\n",
    "        \n",
    "        # now, get the source,target node index for this edge\n",
    "        s = v[1];\n",
    "        t = v[2];\n",
    "\n",
    "        # plot -\n",
    "        if (flow_value != 0.0)\n",
    "            plot!([node_coordinates[s,1], node_coordinates[t,1]],[node_coordinates[s,2], node_coordinates[t,2]], arrow=true, color=:black, lw=3, label=\"\")\n",
    "        else\n",
    "            plot!([node_coordinates[s,1], node_coordinates[t,1]],[node_coordinates[s,2], node_coordinates[t,2]], arrow=true, color=:gray90, lw=2, label=\"\")\n",
    "        end\n",
    "    end\n",
    "    scatter!([node_coordinates[1,1]], [node_coordinates[1,2]], axis=nothing, border=:none, label=\"\", c=:blue,ms=4)\n",
    "    scatter!(node_coordinates[2:end-1,1], node_coordinates[2:end-1,2], axis=nothing, border=:none, label=\"\", c=:gray, ms=6)\n",
    "    scatter!([node_coordinates[end,1]], [node_coordinates[end,2]], axis=nothing, border=:none, label=\"\", c=:red, ms=4)\n",
    "    current()\n",
    "end"
   ]
  },
  {
   "cell_type": "markdown",
   "id": "f06a2de8-028a-439e-8696-c9a3f33aa33b",
   "metadata": {},
   "source": [
    "## Solve the `unbalanced` primal problem: match $n$ people to $m$ jobs where $n<m$.\n",
    "The unbalanced problem is a scenario where we aim to minimize the overall cost of matching people to jobs despite the number of people and jobs being different. To illustrate, let's consider a situation where we have more jobs than people. Like the balanced case, we load the edgefile using the `readedgesfile(...)` function, which takes the `path_to_edge_file` variable as an argument and returns a dictionary of edges. In this case, we pass in the `unbalanced_edgefile` file.\n",
    "* We use the [Julia |> operator](https://docs.julialang.org/en/v1/base/base/#Base.:|%3E) to pass the edge dictionary (as the temporary variable name `edges`) to a `build(...)`, which constructs and `MySimpleDirectedGraphModel` from the edge dictionary. We save the graph model corresponding to the unbalanced graph ($n<m$) in the `unbalanced_graphmodel` variable."
   ]
  },
  {
   "cell_type": "code",
   "execution_count": null,
   "id": "4dc093a8-af19-456b-85cf-b936960b67ed",
   "metadata": {},
   "outputs": [],
   "source": [
    "unbalanced_graphmodel = readedgesfile(unbalanced_edgefile) |> edges -> build(MySimpleDirectedGraphModel, edges); # ooooh yeah. Nice."
   ]
  },
  {
   "cell_type": "markdown",
   "id": "f02aab5a-6c72-479f-934a-4de10e751c3c",
   "metadata": {},
   "source": [
    "Now that we have the `unbalanced_graphmodel`, we can pass this model to the `solve` function and the number of required jobs (as a `Float64`) as the second argument. The `solve` method returns a dictionary holding data associated with the problem, where the optimal flow can be obtained from the `argmin` key, i.e., `unbalanced_solution[\"argmin\"]`."
   ]
  },
  {
   "cell_type": "code",
   "execution_count": null,
   "id": "5ac2acc4-8c9b-4c48-befd-6facd2a90285",
   "metadata": {},
   "outputs": [],
   "source": [
    "unbalanced_solution = solve(unbalanced_graphmodel, 4.0); # hmmm. why is this 4? why not 6, 12, -1???"
   ]
  },
  {
   "cell_type": "code",
   "execution_count": null,
   "id": "070ae373-c101-43dd-aca5-1b1bff1ef2ae",
   "metadata": {},
   "outputs": [],
   "source": [
    "unbalanced_flow = unbalanced_solution[\"argmin\"] # we have a 2?"
   ]
  },
  {
   "cell_type": "markdown",
   "id": "a90070a1-6feb-4e94-87a7-b44bbe830ca2",
   "metadata": {},
   "source": [
    "### Visualize the unbalanced assignment\n",
    "`Unhide` the code block below to see how we plotted the solution to the unbalanced assignment problem."
   ]
  },
  {
   "cell_type": "code",
   "execution_count": null,
   "id": "4a0bf381-9a92-4a8a-8cfc-11dff53efa26",
   "metadata": {
    "jupyter": {
     "source_hidden": true
    }
   },
   "outputs": [],
   "source": [
    "let\n",
    "    # setup coordinates for the nodes -\n",
    "    node_coordinates = [\n",
    "    \n",
    "        10.0 10.0 ; # 1 source node s \n",
    "        \n",
    "        # people nodes -\n",
    "        11.0 11.0 ; # 2 people node \n",
    "        11.0 10.0 ; # 3 people node\n",
    "        11.0 9.0 ; # 4 people node\n",
    "    \n",
    "        # job nodes -\n",
    "        12.0 11.0 ; # 5 job node \n",
    "        12.0 10.0 ; # 6 job node\n",
    "        12.0 9.0 ; # 7 job node\n",
    "        12.0 8.0 ; # 8 job node\n",
    "    \n",
    "        # sink node -\n",
    "        13.0 10; # 9 sink node t \n",
    "    ];\n",
    "    q = plot();\n",
    "    for (k,v) ∈ unbalanced_graphmodel.edgesinverse\n",
    "\n",
    "        # get the flow value from the solution for this edge index -\n",
    "        flow_value = unbalanced_flow[k];\n",
    "        \n",
    "        # now, get the source,target node index for this edge\n",
    "        s = v[1];\n",
    "        t = v[2];\n",
    "\n",
    "        # plot -\n",
    "        if (flow_value != 0.0)\n",
    "            plot!([node_coordinates[s,1], node_coordinates[t,1]],[node_coordinates[s,2], node_coordinates[t,2]], arrow=true, color=:black, lw=3, label=\"\")\n",
    "        else\n",
    "            plot!([node_coordinates[s,1], node_coordinates[t,1]],[node_coordinates[s,2], node_coordinates[t,2]], arrow=true, color=:gray90, lw=2, label=\"\")\n",
    "        end\n",
    "    end\n",
    "    scatter!([node_coordinates[1,1]], [node_coordinates[1,2]], axis=nothing, border=:none, label=\"\", c=:blue,ms=4)\n",
    "    scatter!(node_coordinates[2:end-1,1], node_coordinates[2:end-1,2], axis=nothing, border=:none, label=\"\", c=:gray, ms=6)\n",
    "    scatter!([node_coordinates[end,1]], [node_coordinates[end,2]], axis=nothing, border=:none, label=\"\", c=:red, ms=4)\n",
    "    current()\n",
    "end"
   ]
  }
 ],
 "metadata": {
  "kernelspec": {
   "display_name": "Julia 1.10.2",
   "language": "julia",
   "name": "julia-1.10"
  },
  "language_info": {
   "file_extension": ".jl",
   "mimetype": "application/julia",
   "name": "julia",
   "version": "1.10.2"
  }
 },
 "nbformat": 4,
 "nbformat_minor": 5
}
