{
 "cells": [
  {
   "cell_type": "markdown",
   "id": "46fb187a-8edb-40b2-8f10-ac2a0094fbfc",
   "metadata": {},
   "source": [
    "# Example: Fun with the Assignment Problem\n",
    "This example will familiarize students with formulating and solving the assignment problem for different values of problem parameters. The assignment problem is a type of [minimum flow problem](https://en.wikipedia.org/wiki/Minimum-cost_flow_problem) in which items in a set, e.g., people, are matched with items in another set, e.g., jobs such that the minimum cost is achieved."
   ]
  },
  {
   "cell_type": "markdown",
   "id": "98a5a40b-cdfa-4cad-8571-c3c25f44f507",
   "metadata": {},
   "source": [
    "## Setup\n",
    "This example requires several external libraries and a function to compute the outer product. Let's download and install these packages and call our `Include.jl` file."
   ]
  },
  {
   "cell_type": "code",
   "execution_count": 1,
   "id": "b1359760-f99d-4961-a139-98c6c5abfa59",
   "metadata": {},
   "outputs": [
    {
     "name": "stderr",
     "output_type": "stream",
     "text": [
      "\u001b[32m\u001b[1m  Activating\u001b[22m\u001b[39m project at `~/Desktop/julia_work/CHEME-4800-5800-Examples-AY-2024/week-12/L12c`\n",
      "\u001b[32m\u001b[1m  No Changes\u001b[22m\u001b[39m to `~/Desktop/julia_work/CHEME-4800-5800-Examples-AY-2024/week-12/L12c/Project.toml`\n",
      "\u001b[32m\u001b[1m  No Changes\u001b[22m\u001b[39m to `~/Desktop/julia_work/CHEME-4800-5800-Examples-AY-2024/week-12/L12c/Manifest.toml`\n",
      "\u001b[32m\u001b[1m    Updating\u001b[22m\u001b[39m registry at `~/.julia/registries/General.toml`\n",
      "\u001b[32m\u001b[1m  No Changes\u001b[22m\u001b[39m to `~/Desktop/julia_work/CHEME-4800-5800-Examples-AY-2024/week-12/L12c/Project.toml`\n",
      "\u001b[32m\u001b[1m  No Changes\u001b[22m\u001b[39m to `~/Desktop/julia_work/CHEME-4800-5800-Examples-AY-2024/week-12/L12c/Manifest.toml`\n"
     ]
    }
   ],
   "source": [
    "include(\"Include.jl\");"
   ]
  },
  {
   "cell_type": "markdown",
   "id": "4503d0cc-9934-4b9b-a6d1-e6c04dd55a0a",
   "metadata": {},
   "source": [
    "## Prerequisites \n",
    "Before exploring the assignment problem, let's specify the paths to the edge files we will load. The `base_edgefile` variable will hold the path to that balanced case, i.e., the number of jobs $n$ equals the number of people $m$. The `unbalanced_edgefile` variable holds the path to an unbalanced case, where the number of people $n$ is less than the number of jobs $m$, i.e., $n<m$. Both edge "
   ]
  },
  {
   "cell_type": "code",
   "execution_count": 2,
   "id": "92a8deeb-d807-4955-8b2b-0f22630899dc",
   "metadata": {},
   "outputs": [],
   "source": [
    "base_edgefile = joinpath(_PATH_TO_DATA, \"Bipartite.edgelist\");\n",
    "unbalanced_edgefile = joinpath(_PATH_TO_DATA, \"Unbalanced-bipartite.edgelist\");"
   ]
  },
  {
   "cell_type": "markdown",
   "id": "aaa72814-bf0f-4bc1-b27b-f8421fd8591e",
   "metadata": {},
   "source": [
    "## Solve the `balanced` primal problem: match $n$ people to $m$ jobs where $n=m$.\n",
    "In the balanced problem, we minimize the overall cost of matching people to jobs where the number of people and jobs are the same. To solve this problem, we load the edgefile using the `readedgesfile(...)` function, which takes the `path_to_edge_file` variable as an argument and returns a dictionary of edges. \n",
    "* We use the [Julia |> operator](https://docs.julialang.org/en/v1/base/base/#Base.:|%3E) to pass the edge dictionary (as the temporary variable name `edges`) to a `build(...)` function, which constructs a `MySimpleDirectedGraphModel` from the edge dictionary. We save the graph model corresponding to the balanced graph ($n=m$) in the `base_graphmodel` variable."
   ]
  },
  {
   "cell_type": "code",
   "execution_count": 3,
   "id": "7f6db570-69a7-4991-b08b-7199877ac3e3",
   "metadata": {},
   "outputs": [],
   "source": [
    "base_graphmodel = readedgesfile(base_edgefile) |> edges -> build(MySimpleDirectedGraphModel, edges); # wow - this is ammaaazing!"
   ]
  },
  {
   "cell_type": "code",
   "execution_count": 4,
   "id": "269b0234-b0c2-4a65-8673-856705a77335",
   "metadata": {},
   "outputs": [
    {
     "data": {
      "text/plain": [
       "Dict{Tuple{Int64, Int64}, Tuple{Float64, Float64, Float64}} with 15 entries:\n",
       "  (4, 5) => (1.0, 0.0, 1.0)\n",
       "  (1, 2) => (0.0, 0.0, 1.0)\n",
       "  (6, 8) => (0.0, 1.0, 1.0)\n",
       "  (3, 7) => (1.0, 0.0, 1.0)\n",
       "  (2, 5) => (1.0, 0.0, 1.0)\n",
       "  (1, 3) => (0.0, 0.0, 1.0)\n",
       "  (1, 4) => (0.0, 0.0, 1.0)\n",
       "  (4, 6) => (1.0, 0.0, 1.0)\n",
       "  (2, 6) => (1.0, 0.0, 1.0)\n",
       "  (7, 8) => (0.0, 1.0, 1.0)\n",
       "  (4, 7) => (1.0, 0.0, 1.0)\n",
       "  (2, 7) => (1.0, 0.0, 1.0)\n",
       "  (3, 5) => (1.0, 0.0, 1.0)\n",
       "  (5, 8) => (0.0, 1.0, 1.0)\n",
       "  (3, 6) => (1.0, 0.0, 1.0)"
      ]
     },
     "execution_count": 4,
     "metadata": {},
     "output_type": "execute_result"
    }
   ],
   "source": [
    "base_graphmodel.edges"
   ]
  },
  {
   "cell_type": "markdown",
   "id": "7bf3b1c3-7386-44cc-b063-8f2cbdb827f9",
   "metadata": {},
   "source": [
    "Now that we have the `base_graphmodel`, we can pass this model to the `solve` function and the number of required jobs (as a `Float64`) as the second argument. The `solve` method returns a dictionary holding data associated with the problem, where the optimal flow can be obtained from the `argmin` key, i.e., `base_solution[\"argmin\"]`."
   ]
  },
  {
   "cell_type": "code",
   "execution_count": 5,
   "id": "131aa4db-fb06-48f9-942a-e245ec42417b",
   "metadata": {},
   "outputs": [],
   "source": [
    "base_solution = solve(base_graphmodel, 3.0); # what is the 3.0??"
   ]
  },
  {
   "cell_type": "code",
   "execution_count": 6,
   "id": "52f1a020-dea4-4697-9c13-44d721d92bf4",
   "metadata": {},
   "outputs": [
    {
     "data": {
      "text/plain": [
       "15-element Vector{Float64}:\n",
       " 1.0\n",
       " 1.0\n",
       " 1.0\n",
       " 1.0\n",
       " 0.0\n",
       " 0.0\n",
       " 0.0\n",
       " 1.0\n",
       " 0.0\n",
       " 0.0\n",
       " 0.0\n",
       " 1.0\n",
       " 1.0\n",
       " 1.0\n",
       " 1.0"
      ]
     },
     "execution_count": 6,
     "metadata": {},
     "output_type": "execute_result"
    }
   ],
   "source": [
    "base_flow = base_solution[\"argmin\"] # hmmm. what does a 1 mean versus a 0?"
   ]
  },
  {
   "cell_type": "code",
   "execution_count": 15,
   "id": "db2a1115-6dd0-47ec-bbc9-7934b72e241b",
   "metadata": {},
   "outputs": [
    {
     "data": {
      "text/plain": [
       "Dict{Int64, Tuple{Int64, Int64}} with 15 entries:\n",
       "  5  => (2, 6)\n",
       "  12 => (4, 7)\n",
       "  8  => (3, 6)\n",
       "  1  => (1, 2)\n",
       "  6  => (2, 7)\n",
       "  11 => (4, 6)\n",
       "  9  => (3, 7)\n",
       "  14 => (6, 8)\n",
       "  3  => (1, 4)\n",
       "  7  => (3, 5)\n",
       "  4  => (2, 5)\n",
       "  13 => (5, 8)\n",
       "  15 => (7, 8)\n",
       "  2  => (1, 3)\n",
       "  10 => (4, 5)"
      ]
     },
     "execution_count": 15,
     "metadata": {},
     "output_type": "execute_result"
    }
   ],
   "source": [
    "base_graphmodel.edgesinverse"
   ]
  },
  {
   "cell_type": "markdown",
   "id": "34c05ebb-8fa3-4882-aa50-c25fa0008770",
   "metadata": {},
   "source": [
    "### Visualize the balanced assignment\n",
    "`Unhide` the code block below to see how we plotted the solution to the balanced assignment problem."
   ]
  },
  {
   "cell_type": "code",
   "execution_count": 8,
   "id": "0ccd9269-5dc9-46b0-9e20-6f6cacd2de48",
   "metadata": {
    "jupyter": {
     "source_hidden": true
    }
   },
   "outputs": [
    {
     "data": {
      "image/png": "[encoded data removed]",
      "image/svg+xml": [
       "<?xml version=\"1.0\" encoding=\"utf-8\"?>\n",
       "<svg xmlns=\"http://www.w3.org/2000/svg\" xmlns:xlink=\"http://www.w3.org/1999/xlink\" width=\"600\" height=\"400\" viewBox=\"0 0 2400 1600\">\n",
       "<defs>\n",
       "  <clipPath id=\"clip090\">\n",
       "    <rect x=\"0\" y=\"0\" width=\"2400\" height=\"1600\"/>\n",
       "  </clipPath>\n",
       "</defs>\n",
       "<path clip-path=\"url(#clip090)\" d=\"M0 1600 L2400 1600 L2400 8.88178e-14 L0 8.88178e-14  Z\" fill=\"#ffffff\" fill-rule=\"evenodd\" fill-opacity=\"1\"/>\n",
       "<defs>\n",
       "  <clipPath id=\"clip091\">\n",
       "    <rect x=\"480\" y=\"0\" width=\"1681\" height=\"1600\"/>\n",
       "  </clipPath>\n",
       "</defs>\n",
       "<path clip-path=\"url(#clip090)\" d=\"M47.2441 1552.76 L2352.76 1552.76 L2352.76 47.2441 L47.2441 47.2441  Z\" fill=\"#ffffff\" fill-rule=\"evenodd\" fill-opacity=\"1\"/>\n",
       "<defs>\n",
       "  <clipPath id=\"clip092\">\n",
       "    <rect x=\"47\" y=\"47\" width=\"2307\" height=\"1507\"/>\n",
       "  </clipPath>\n",
       "</defs>\n",
       "<polyline clip-path=\"url(#clip092)\" style=\"stroke:#e5e5e5; stroke-linecap:round; stroke-linejoin:round; stroke-width:8; stroke-opacity:1; fill:none\" points=\"837.498,89.8529 1562.5,800 \"/>\n",
       "<polyline clip-path=\"url(#clip092)\" style=\"stroke:#e5e5e5; stroke-linecap:round; stroke-linejoin:round; stroke-width:8; stroke-opacity:1; fill:none\" points=\"1549.38,761.95 1562.5,800 1524.19,787.668 \"/>\n",
       "<polyline clip-path=\"url(#clip092)\" style=\"stroke:#e5e5e5; stroke-linecap:round; stroke-linejoin:round; stroke-width:8; stroke-opacity:1; fill:none\" points=\"1562.5,800 837.498,89.8529 \"/>\n",
       "<polyline clip-path=\"url(#clip092)\" style=\"stroke:#000000; stroke-linecap:round; stroke-linejoin:round; stroke-width:12; stroke-opacity:1; fill:none\" points=\"837.498,1510.15 1562.5,1510.15 \"/>\n",
       "<polyline clip-path=\"url(#clip092)\" style=\"stroke:#000000; stroke-linecap:round; stroke-linejoin:round; stroke-width:12; stroke-opacity:1; fill:none\" points=\"1526.5,1492.15 1562.5,1510.15 1526.5,1528.15 \"/>\n",
       "<polyline clip-path=\"url(#clip092)\" style=\"stroke:#000000; stroke-linecap:round; stroke-linejoin:round; stroke-width:12; stroke-opacity:1; fill:none\" points=\"1562.5,1510.15 837.498,1510.15 \"/>\n",
       "<polyline clip-path=\"url(#clip092)\" style=\"stroke:#000000; stroke-linecap:round; stroke-linejoin:round; stroke-width:12; stroke-opacity:1; fill:none\" points=\"837.498,800 1562.5,800 \"/>\n",
       "<polyline clip-path=\"url(#clip092)\" style=\"stroke:#000000; stroke-linecap:round; stroke-linejoin:round; stroke-width:12; stroke-opacity:1; fill:none\" points=\"1526.5,782 1562.5,800 1526.5,818 \"/>\n",
       "<polyline clip-path=\"url(#clip092)\" style=\"stroke:#000000; stroke-linecap:round; stroke-linejoin:round; stroke-width:12; stroke-opacity:1; fill:none\" points=\"1562.5,800 837.498,800 \"/>\n",
       "<polyline clip-path=\"url(#clip092)\" style=\"stroke:#000000; stroke-linecap:round; stroke-linejoin:round; stroke-width:12; stroke-opacity:1; fill:none\" points=\"112.494,800 837.498,89.8529 \"/>\n",
       "<polyline clip-path=\"url(#clip092)\" style=\"stroke:#000000; stroke-linecap:round; stroke-linejoin:round; stroke-width:12; stroke-opacity:1; fill:none\" points=\"799.185,102.185 837.498,89.8529 824.376,127.903 \"/>\n",
       "<polyline clip-path=\"url(#clip092)\" style=\"stroke:#000000; stroke-linecap:round; stroke-linejoin:round; stroke-width:12; stroke-opacity:1; fill:none\" points=\"837.498,89.8529 112.494,800 \"/>\n",
       "<polyline clip-path=\"url(#clip092)\" style=\"stroke:#e5e5e5; stroke-linecap:round; stroke-linejoin:round; stroke-width:8; stroke-opacity:1; fill:none\" points=\"837.498,89.8529 1562.5,1510.15 \"/>\n",
       "<polyline clip-path=\"url(#clip092)\" style=\"stroke:#e5e5e5; stroke-linecap:round; stroke-linejoin:round; stroke-width:8; stroke-opacity:1; fill:none\" points=\"1562.17,1469.9 1562.5,1510.15 1530.1,1486.27 \"/>\n",
       "<polyline clip-path=\"url(#clip092)\" style=\"stroke:#e5e5e5; stroke-linecap:round; stroke-linejoin:round; stroke-width:8; stroke-opacity:1; fill:none\" points=\"1562.5,1510.15 837.498,89.8529 \"/>\n",
       "<polyline clip-path=\"url(#clip092)\" style=\"stroke:#e5e5e5; stroke-linecap:round; stroke-linejoin:round; stroke-width:8; stroke-opacity:1; fill:none\" points=\"837.498,1510.15 1562.5,800 \"/>\n",
       "<polyline clip-path=\"url(#clip092)\" style=\"stroke:#e5e5e5; stroke-linecap:round; stroke-linejoin:round; stroke-width:8; stroke-opacity:1; fill:none\" points=\"1524.19,812.332 1562.5,800 1549.38,838.05 \"/>\n",
       "<polyline clip-path=\"url(#clip092)\" style=\"stroke:#e5e5e5; stroke-linecap:round; stroke-linejoin:round; stroke-width:8; stroke-opacity:1; fill:none\" points=\"1562.5,800 837.498,1510.15 \"/>\n",
       "<polyline clip-path=\"url(#clip092)\" style=\"stroke:#e5e5e5; stroke-linecap:round; stroke-linejoin:round; stroke-width:8; stroke-opacity:1; fill:none\" points=\"837.498,800 1562.5,1510.15 \"/>\n",
       "<polyline clip-path=\"url(#clip092)\" style=\"stroke:#e5e5e5; stroke-linecap:round; stroke-linejoin:round; stroke-width:8; stroke-opacity:1; fill:none\" points=\"1549.38,1472.1 1562.5,1510.15 1524.19,1497.82 \"/>\n",
       "<polyline clip-path=\"url(#clip092)\" style=\"stroke:#e5e5e5; stroke-linecap:round; stroke-linejoin:round; stroke-width:8; stroke-opacity:1; fill:none\" points=\"1562.5,1510.15 837.498,800 \"/>\n",
       "<polyline clip-path=\"url(#clip092)\" style=\"stroke:#000000; stroke-linecap:round; stroke-linejoin:round; stroke-width:12; stroke-opacity:1; fill:none\" points=\"1562.5,800 2287.51,800 \"/>\n",
       "<polyline clip-path=\"url(#clip092)\" style=\"stroke:#000000; stroke-linecap:round; stroke-linejoin:round; stroke-width:12; stroke-opacity:1; fill:none\" points=\"2251.51,782 2287.51,800 2251.51,818 \"/>\n",
       "<polyline clip-path=\"url(#clip092)\" style=\"stroke:#000000; stroke-linecap:round; stroke-linejoin:round; stroke-width:12; stroke-opacity:1; fill:none\" points=\"2287.51,800 1562.5,800 \"/>\n",
       "<polyline clip-path=\"url(#clip092)\" style=\"stroke:#000000; stroke-linecap:round; stroke-linejoin:round; stroke-width:12; stroke-opacity:1; fill:none\" points=\"112.494,800 837.498,1510.15 \"/>\n",
       "<polyline clip-path=\"url(#clip092)\" style=\"stroke:#000000; stroke-linecap:round; stroke-linejoin:round; stroke-width:12; stroke-opacity:1; fill:none\" points=\"824.376,1472.1 837.498,1510.15 799.185,1497.82 \"/>\n",
       "<polyline clip-path=\"url(#clip092)\" style=\"stroke:#000000; stroke-linecap:round; stroke-linejoin:round; stroke-width:12; stroke-opacity:1; fill:none\" points=\"837.498,1510.15 112.494,800 \"/>\n",
       "<polyline clip-path=\"url(#clip092)\" style=\"stroke:#e5e5e5; stroke-linecap:round; stroke-linejoin:round; stroke-width:8; stroke-opacity:1; fill:none\" points=\"837.498,800 1562.5,89.8529 \"/>\n",
       "<polyline clip-path=\"url(#clip092)\" style=\"stroke:#e5e5e5; stroke-linecap:round; stroke-linejoin:round; stroke-width:8; stroke-opacity:1; fill:none\" points=\"1524.19,102.185 1562.5,89.8529 1549.38,127.903 \"/>\n",
       "<polyline clip-path=\"url(#clip092)\" style=\"stroke:#e5e5e5; stroke-linecap:round; stroke-linejoin:round; stroke-width:8; stroke-opacity:1; fill:none\" points=\"1562.5,89.8529 837.498,800 \"/>\n",
       "<polyline clip-path=\"url(#clip092)\" style=\"stroke:#000000; stroke-linecap:round; stroke-linejoin:round; stroke-width:12; stroke-opacity:1; fill:none\" points=\"837.498,89.8529 1562.5,89.8529 \"/>\n",
       "<polyline clip-path=\"url(#clip092)\" style=\"stroke:#000000; stroke-linecap:round; stroke-linejoin:round; stroke-width:12; stroke-opacity:1; fill:none\" points=\"1526.5,71.8529 1562.5,89.8529 1526.5,107.853 \"/>\n",
       "<polyline clip-path=\"url(#clip092)\" style=\"stroke:#000000; stroke-linecap:round; stroke-linejoin:round; stroke-width:12; stroke-opacity:1; fill:none\" points=\"1562.5,89.8529 837.498,89.8529 \"/>\n",
       "<polyline clip-path=\"url(#clip092)\" style=\"stroke:#000000; stroke-linecap:round; stroke-linejoin:round; stroke-width:12; stroke-opacity:1; fill:none\" points=\"1562.5,89.8529 2287.51,800 \"/>\n",
       "<polyline clip-path=\"url(#clip092)\" style=\"stroke:#000000; stroke-linecap:round; stroke-linejoin:round; stroke-width:12; stroke-opacity:1; fill:none\" points=\"2274.38,761.95 2287.51,800 2249.19,787.668 \"/>\n",
       "<polyline clip-path=\"url(#clip092)\" style=\"stroke:#000000; stroke-linecap:round; stroke-linejoin:round; stroke-width:12; stroke-opacity:1; fill:none\" points=\"2287.51,800 1562.5,89.8529 \"/>\n",
       "<polyline clip-path=\"url(#clip092)\" style=\"stroke:#000000; stroke-linecap:round; stroke-linejoin:round; stroke-width:12; stroke-opacity:1; fill:none\" points=\"1562.5,1510.15 2287.51,800 \"/>\n",
       "<polyline clip-path=\"url(#clip092)\" style=\"stroke:#000000; stroke-linecap:round; stroke-linejoin:round; stroke-width:12; stroke-opacity:1; fill:none\" points=\"2249.19,812.332 2287.51,800 2274.38,838.05 \"/>\n",
       "<polyline clip-path=\"url(#clip092)\" style=\"stroke:#000000; stroke-linecap:round; stroke-linejoin:round; stroke-width:12; stroke-opacity:1; fill:none\" points=\"2287.51,800 1562.5,1510.15 \"/>\n",
       "<polyline clip-path=\"url(#clip092)\" style=\"stroke:#000000; stroke-linecap:round; stroke-linejoin:round; stroke-width:12; stroke-opacity:1; fill:none\" points=\"112.494,800 837.498,800 \"/>\n",
       "<polyline clip-path=\"url(#clip092)\" style=\"stroke:#000000; stroke-linecap:round; stroke-linejoin:round; stroke-width:12; stroke-opacity:1; fill:none\" points=\"801.498,782 837.498,800 801.498,818 \"/>\n",
       "<polyline clip-path=\"url(#clip092)\" style=\"stroke:#000000; stroke-linecap:round; stroke-linejoin:round; stroke-width:12; stroke-opacity:1; fill:none\" points=\"837.498,800 112.494,800 \"/>\n",
       "<polyline clip-path=\"url(#clip092)\" style=\"stroke:#e5e5e5; stroke-linecap:round; stroke-linejoin:round; stroke-width:8; stroke-opacity:1; fill:none\" points=\"837.498,1510.15 1562.5,89.8529 \"/>\n",
       "<polyline clip-path=\"url(#clip092)\" style=\"stroke:#e5e5e5; stroke-linecap:round; stroke-linejoin:round; stroke-width:8; stroke-opacity:1; fill:none\" points=\"1530.1,113.733 1562.5,89.8529 1562.17,130.101 \"/>\n",
       "<polyline clip-path=\"url(#clip092)\" style=\"stroke:#e5e5e5; stroke-linecap:round; stroke-linejoin:round; stroke-width:8; stroke-opacity:1; fill:none\" points=\"1562.5,89.8529 837.498,1510.15 \"/>\n",
       "<circle clip-path=\"url(#clip092)\" cx=\"112.494\" cy=\"800\" r=\"14.4\" fill=\"#0000ff\" fill-rule=\"evenodd\" fill-opacity=\"1\" stroke=\"#000000\" stroke-opacity=\"1\" stroke-width=\"3.2\"/>\n",
       "<circle clip-path=\"url(#clip092)\" cx=\"837.498\" cy=\"89.8529\" r=\"21.6\" fill=\"#808080\" fill-rule=\"evenodd\" fill-opacity=\"1\" stroke=\"#000000\" stroke-opacity=\"1\" stroke-width=\"3.2\"/>\n",
       "<circle clip-path=\"url(#clip092)\" cx=\"837.498\" cy=\"800\" r=\"21.6\" fill=\"#808080\" fill-rule=\"evenodd\" fill-opacity=\"1\" stroke=\"#000000\" stroke-opacity=\"1\" stroke-width=\"3.2\"/>\n",
       "<circle clip-path=\"url(#clip092)\" cx=\"837.498\" cy=\"1510.15\" r=\"21.6\" fill=\"#808080\" fill-rule=\"evenodd\" fill-opacity=\"1\" stroke=\"#000000\" stroke-opacity=\"1\" stroke-width=\"3.2\"/>\n",
       "<circle clip-path=\"url(#clip092)\" cx=\"1562.5\" cy=\"89.8529\" r=\"21.6\" fill=\"#808080\" fill-rule=\"evenodd\" fill-opacity=\"1\" stroke=\"#000000\" stroke-opacity=\"1\" stroke-width=\"3.2\"/>\n",
       "<circle clip-path=\"url(#clip092)\" cx=\"1562.5\" cy=\"800\" r=\"21.6\" fill=\"#808080\" fill-rule=\"evenodd\" fill-opacity=\"1\" stroke=\"#000000\" stroke-opacity=\"1\" stroke-width=\"3.2\"/>\n",
       "<circle clip-path=\"url(#clip092)\" cx=\"1562.5\" cy=\"1510.15\" r=\"21.6\" fill=\"#808080\" fill-rule=\"evenodd\" fill-opacity=\"1\" stroke=\"#000000\" stroke-opacity=\"1\" stroke-width=\"3.2\"/>\n",
       "<circle clip-path=\"url(#clip092)\" cx=\"2287.51\" cy=\"800\" r=\"14.4\" fill=\"#ff0000\" fill-rule=\"evenodd\" fill-opacity=\"1\" stroke=\"#000000\" stroke-opacity=\"1\" stroke-width=\"3.2\"/>\n",
       "</svg>\n"
      ],
      "text/html": [
       "<?xml version=\"1.0\" encoding=\"utf-8\"?>\n",
       "<svg xmlns=\"http://www.w3.org/2000/svg\" xmlns:xlink=\"http://www.w3.org/1999/xlink\" width=\"600\" height=\"400\" viewBox=\"0 0 2400 1600\">\n",
       "<defs>\n",
       "  <clipPath id=\"clip120\">\n",
       "    <rect x=\"0\" y=\"0\" width=\"2400\" height=\"1600\"/>\n",
       "  </clipPath>\n",
       "</defs>\n",
       "<path clip-path=\"url(#clip120)\" d=\"M0 1600 L2400 1600 L2400 8.88178e-14 L0 8.88178e-14  Z\" fill=\"#ffffff\" fill-rule=\"evenodd\" fill-opacity=\"1\"/>\n",
       "<defs>\n",
       "  <clipPath id=\"clip121\">\n",
       "    <rect x=\"480\" y=\"0\" width=\"1681\" height=\"1600\"/>\n",
       "  </clipPath>\n",
       "</defs>\n",
       "<path clip-path=\"url(#clip120)\" d=\"M47.2441 1552.76 L2352.76 1552.76 L2352.76 47.2441 L47.2441 47.2441  Z\" fill=\"#ffffff\" fill-rule=\"evenodd\" fill-opacity=\"1\"/>\n",
       "<defs>\n",
       "  <clipPath id=\"clip122\">\n",
       "    <rect x=\"47\" y=\"47\" width=\"2307\" height=\"1507\"/>\n",
       "  </clipPath>\n",
       "</defs>\n",
       "<polyline clip-path=\"url(#clip122)\" style=\"stroke:#e5e5e5; stroke-linecap:round; stroke-linejoin:round; stroke-width:8; stroke-opacity:1; fill:none\" points=\"837.498,89.8529 1562.5,800 \"/>\n",
       "<polyline clip-path=\"url(#clip122)\" style=\"stroke:#e5e5e5; stroke-linecap:round; stroke-linejoin:round; stroke-width:8; stroke-opacity:1; fill:none\" points=\"1549.38,761.95 1562.5,800 1524.19,787.668 \"/>\n",
       "<polyline clip-path=\"url(#clip122)\" style=\"stroke:#e5e5e5; stroke-linecap:round; stroke-linejoin:round; stroke-width:8; stroke-opacity:1; fill:none\" points=\"1562.5,800 837.498,89.8529 \"/>\n",
       "<polyline clip-path=\"url(#clip122)\" style=\"stroke:#000000; stroke-linecap:round; stroke-linejoin:round; stroke-width:12; stroke-opacity:1; fill:none\" points=\"837.498,1510.15 1562.5,1510.15 \"/>\n",
       "<polyline clip-path=\"url(#clip122)\" style=\"stroke:#000000; stroke-linecap:round; stroke-linejoin:round; stroke-width:12; stroke-opacity:1; fill:none\" points=\"1526.5,1492.15 1562.5,1510.15 1526.5,1528.15 \"/>\n",
       "<polyline clip-path=\"url(#clip122)\" style=\"stroke:#000000; stroke-linecap:round; stroke-linejoin:round; stroke-width:12; stroke-opacity:1; fill:none\" points=\"1562.5,1510.15 837.498,1510.15 \"/>\n",
       "<polyline clip-path=\"url(#clip122)\" style=\"stroke:#000000; stroke-linecap:round; stroke-linejoin:round; stroke-width:12; stroke-opacity:1; fill:none\" points=\"837.498,800 1562.5,800 \"/>\n",
       "<polyline clip-path=\"url(#clip122)\" style=\"stroke:#000000; stroke-linecap:round; stroke-linejoin:round; stroke-width:12; stroke-opacity:1; fill:none\" points=\"1526.5,782 1562.5,800 1526.5,818 \"/>\n",
       "<polyline clip-path=\"url(#clip122)\" style=\"stroke:#000000; stroke-linecap:round; stroke-linejoin:round; stroke-width:12; stroke-opacity:1; fill:none\" points=\"1562.5,800 837.498,800 \"/>\n",
       "<polyline clip-path=\"url(#clip122)\" style=\"stroke:#000000; stroke-linecap:round; stroke-linejoin:round; stroke-width:12; stroke-opacity:1; fill:none\" points=\"112.494,800 837.498,89.8529 \"/>\n",
       "<polyline clip-path=\"url(#clip122)\" style=\"stroke:#000000; stroke-linecap:round; stroke-linejoin:round; stroke-width:12; stroke-opacity:1; fill:none\" points=\"799.185,102.185 837.498,89.8529 824.376,127.903 \"/>\n",
       "<polyline clip-path=\"url(#clip122)\" style=\"stroke:#000000; stroke-linecap:round; stroke-linejoin:round; stroke-width:12; stroke-opacity:1; fill:none\" points=\"837.498,89.8529 112.494,800 \"/>\n",
       "<polyline clip-path=\"url(#clip122)\" style=\"stroke:#e5e5e5; stroke-linecap:round; stroke-linejoin:round; stroke-width:8; stroke-opacity:1; fill:none\" points=\"837.498,89.8529 1562.5,1510.15 \"/>\n",
       "<polyline clip-path=\"url(#clip122)\" style=\"stroke:#e5e5e5; stroke-linecap:round; stroke-linejoin:round; stroke-width:8; stroke-opacity:1; fill:none\" points=\"1562.17,1469.9 1562.5,1510.15 1530.1,1486.27 \"/>\n",
       "<polyline clip-path=\"url(#clip122)\" style=\"stroke:#e5e5e5; stroke-linecap:round; stroke-linejoin:round; stroke-width:8; stroke-opacity:1; fill:none\" points=\"1562.5,1510.15 837.498,89.8529 \"/>\n",
       "<polyline clip-path=\"url(#clip122)\" style=\"stroke:#e5e5e5; stroke-linecap:round; stroke-linejoin:round; stroke-width:8; stroke-opacity:1; fill:none\" points=\"837.498,1510.15 1562.5,800 \"/>\n",
       "<polyline clip-path=\"url(#clip122)\" style=\"stroke:#e5e5e5; stroke-linecap:round; stroke-linejoin:round; stroke-width:8; stroke-opacity:1; fill:none\" points=\"1524.19,812.332 1562.5,800 1549.38,838.05 \"/>\n",
       "<polyline clip-path=\"url(#clip122)\" style=\"stroke:#e5e5e5; stroke-linecap:round; stroke-linejoin:round; stroke-width:8; stroke-opacity:1; fill:none\" points=\"1562.5,800 837.498,1510.15 \"/>\n",
       "<polyline clip-path=\"url(#clip122)\" style=\"stroke:#e5e5e5; stroke-linecap:round; stroke-linejoin:round; stroke-width:8; stroke-opacity:1; fill:none\" points=\"837.498,800 1562.5,1510.15 \"/>\n",
       "<polyline clip-path=\"url(#clip122)\" style=\"stroke:#e5e5e5; stroke-linecap:round; stroke-linejoin:round; stroke-width:8; stroke-opacity:1; fill:none\" points=\"1549.38,1472.1 1562.5,1510.15 1524.19,1497.82 \"/>\n",
       "<polyline clip-path=\"url(#clip122)\" style=\"stroke:#e5e5e5; stroke-linecap:round; stroke-linejoin:round; stroke-width:8; stroke-opacity:1; fill:none\" points=\"1562.5,1510.15 837.498,800 \"/>\n",
       "<polyline clip-path=\"url(#clip122)\" style=\"stroke:#000000; stroke-linecap:round; stroke-linejoin:round; stroke-width:12; stroke-opacity:1; fill:none\" points=\"1562.5,800 2287.51,800 \"/>\n",
       "<polyline clip-path=\"url(#clip122)\" style=\"stroke:#000000; stroke-linecap:round; stroke-linejoin:round; stroke-width:12; stroke-opacity:1; fill:none\" points=\"2251.51,782 2287.51,800 2251.51,818 \"/>\n",
       "<polyline clip-path=\"url(#clip122)\" style=\"stroke:#000000; stroke-linecap:round; stroke-linejoin:round; stroke-width:12; stroke-opacity:1; fill:none\" points=\"2287.51,800 1562.5,800 \"/>\n",
       "<polyline clip-path=\"url(#clip122)\" style=\"stroke:#000000; stroke-linecap:round; stroke-linejoin:round; stroke-width:12; stroke-opacity:1; fill:none\" points=\"112.494,800 837.498,1510.15 \"/>\n",
       "<polyline clip-path=\"url(#clip122)\" style=\"stroke:#000000; stroke-linecap:round; stroke-linejoin:round; stroke-width:12; stroke-opacity:1; fill:none\" points=\"824.376,1472.1 837.498,1510.15 799.185,1497.82 \"/>\n",
       "<polyline clip-path=\"url(#clip122)\" style=\"stroke:#000000; stroke-linecap:round; stroke-linejoin:round; stroke-width:12; stroke-opacity:1; fill:none\" points=\"837.498,1510.15 112.494,800 \"/>\n",
       "<polyline clip-path=\"url(#clip122)\" style=\"stroke:#e5e5e5; stroke-linecap:round; stroke-linejoin:round; stroke-width:8; stroke-opacity:1; fill:none\" points=\"837.498,800 1562.5,89.8529 \"/>\n",
       "<polyline clip-path=\"url(#clip122)\" style=\"stroke:#e5e5e5; stroke-linecap:round; stroke-linejoin:round; stroke-width:8; stroke-opacity:1; fill:none\" points=\"1524.19,102.185 1562.5,89.8529 1549.38,127.903 \"/>\n",
       "<polyline clip-path=\"url(#clip122)\" style=\"stroke:#e5e5e5; stroke-linecap:round; stroke-linejoin:round; stroke-width:8; stroke-opacity:1; fill:none\" points=\"1562.5,89.8529 837.498,800 \"/>\n",
       "<polyline clip-path=\"url(#clip122)\" style=\"stroke:#000000; stroke-linecap:round; stroke-linejoin:round; stroke-width:12; stroke-opacity:1; fill:none\" points=\"837.498,89.8529 1562.5,89.8529 \"/>\n",
       "<polyline clip-path=\"url(#clip122)\" style=\"stroke:#000000; stroke-linecap:round; stroke-linejoin:round; stroke-width:12; stroke-opacity:1; fill:none\" points=\"1526.5,71.8529 1562.5,89.8529 1526.5,107.853 \"/>\n",
       "<polyline clip-path=\"url(#clip122)\" style=\"stroke:#000000; stroke-linecap:round; stroke-linejoin:round; stroke-width:12; stroke-opacity:1; fill:none\" points=\"1562.5,89.8529 837.498,89.8529 \"/>\n",
       "<polyline clip-path=\"url(#clip122)\" style=\"stroke:#000000; stroke-linecap:round; stroke-linejoin:round; stroke-width:12; stroke-opacity:1; fill:none\" points=\"1562.5,89.8529 2287.51,800 \"/>\n",
       "<polyline clip-path=\"url(#clip122)\" style=\"stroke:#000000; stroke-linecap:round; stroke-linejoin:round; stroke-width:12; stroke-opacity:1; fill:none\" points=\"2274.38,761.95 2287.51,800 2249.19,787.668 \"/>\n",
       "<polyline clip-path=\"url(#clip122)\" style=\"stroke:#000000; stroke-linecap:round; stroke-linejoin:round; stroke-width:12; stroke-opacity:1; fill:none\" points=\"2287.51,800 1562.5,89.8529 \"/>\n",
       "<polyline clip-path=\"url(#clip122)\" style=\"stroke:#000000; stroke-linecap:round; stroke-linejoin:round; stroke-width:12; stroke-opacity:1; fill:none\" points=\"1562.5,1510.15 2287.51,800 \"/>\n",
       "<polyline clip-path=\"url(#clip122)\" style=\"stroke:#000000; stroke-linecap:round; stroke-linejoin:round; stroke-width:12; stroke-opacity:1; fill:none\" points=\"2249.19,812.332 2287.51,800 2274.38,838.05 \"/>\n",
       "<polyline clip-path=\"url(#clip122)\" style=\"stroke:#000000; stroke-linecap:round; stroke-linejoin:round; stroke-width:12; stroke-opacity:1; fill:none\" points=\"2287.51,800 1562.5,1510.15 \"/>\n",
       "<polyline clip-path=\"url(#clip122)\" style=\"stroke:#000000; stroke-linecap:round; stroke-linejoin:round; stroke-width:12; stroke-opacity:1; fill:none\" points=\"112.494,800 837.498,800 \"/>\n",
       "<polyline clip-path=\"url(#clip122)\" style=\"stroke:#000000; stroke-linecap:round; stroke-linejoin:round; stroke-width:12; stroke-opacity:1; fill:none\" points=\"801.498,782 837.498,800 801.498,818 \"/>\n",
       "<polyline clip-path=\"url(#clip122)\" style=\"stroke:#000000; stroke-linecap:round; stroke-linejoin:round; stroke-width:12; stroke-opacity:1; fill:none\" points=\"837.498,800 112.494,800 \"/>\n",
       "<polyline clip-path=\"url(#clip122)\" style=\"stroke:#e5e5e5; stroke-linecap:round; stroke-linejoin:round; stroke-width:8; stroke-opacity:1; fill:none\" points=\"837.498,1510.15 1562.5,89.8529 \"/>\n",
       "<polyline clip-path=\"url(#clip122)\" style=\"stroke:#e5e5e5; stroke-linecap:round; stroke-linejoin:round; stroke-width:8; stroke-opacity:1; fill:none\" points=\"1530.1,113.733 1562.5,89.8529 1562.17,130.101 \"/>\n",
       "<polyline clip-path=\"url(#clip122)\" style=\"stroke:#e5e5e5; stroke-linecap:round; stroke-linejoin:round; stroke-width:8; stroke-opacity:1; fill:none\" points=\"1562.5,89.8529 837.498,1510.15 \"/>\n",
       "<circle clip-path=\"url(#clip122)\" cx=\"112.494\" cy=\"800\" r=\"14.4\" fill=\"#0000ff\" fill-rule=\"evenodd\" fill-opacity=\"1\" stroke=\"#000000\" stroke-opacity=\"1\" stroke-width=\"3.2\"/>\n",
       "<circle clip-path=\"url(#clip122)\" cx=\"837.498\" cy=\"89.8529\" r=\"21.6\" fill=\"#808080\" fill-rule=\"evenodd\" fill-opacity=\"1\" stroke=\"#000000\" stroke-opacity=\"1\" stroke-width=\"3.2\"/>\n",
       "<circle clip-path=\"url(#clip122)\" cx=\"837.498\" cy=\"800\" r=\"21.6\" fill=\"#808080\" fill-rule=\"evenodd\" fill-opacity=\"1\" stroke=\"#000000\" stroke-opacity=\"1\" stroke-width=\"3.2\"/>\n",
       "<circle clip-path=\"url(#clip122)\" cx=\"837.498\" cy=\"1510.15\" r=\"21.6\" fill=\"#808080\" fill-rule=\"evenodd\" fill-opacity=\"1\" stroke=\"#000000\" stroke-opacity=\"1\" stroke-width=\"3.2\"/>\n",
       "<circle clip-path=\"url(#clip122)\" cx=\"1562.5\" cy=\"89.8529\" r=\"21.6\" fill=\"#808080\" fill-rule=\"evenodd\" fill-opacity=\"1\" stroke=\"#000000\" stroke-opacity=\"1\" stroke-width=\"3.2\"/>\n",
       "<circle clip-path=\"url(#clip122)\" cx=\"1562.5\" cy=\"800\" r=\"21.6\" fill=\"#808080\" fill-rule=\"evenodd\" fill-opacity=\"1\" stroke=\"#000000\" stroke-opacity=\"1\" stroke-width=\"3.2\"/>\n",
       "<circle clip-path=\"url(#clip122)\" cx=\"1562.5\" cy=\"1510.15\" r=\"21.6\" fill=\"#808080\" fill-rule=\"evenodd\" fill-opacity=\"1\" stroke=\"#000000\" stroke-opacity=\"1\" stroke-width=\"3.2\"/>\n",
       "<circle clip-path=\"url(#clip122)\" cx=\"2287.51\" cy=\"800\" r=\"14.4\" fill=\"#ff0000\" fill-rule=\"evenodd\" fill-opacity=\"1\" stroke=\"#000000\" stroke-opacity=\"1\" stroke-width=\"3.2\"/>\n",
       "</svg>\n"
      ]
     },
     "execution_count": 8,
     "metadata": {},
     "output_type": "execute_result"
    }
   ],
   "source": [
    "let\n",
    "    # setup coordinates for the nodes -\n",
    "    node_coordinates = [\n",
    "    \n",
    "        10.0 10.0 ; # 1 source node s \n",
    "        \n",
    "        # people nodes -\n",
    "        11.0 11.0 ; # 2 people node \n",
    "        11.0 10.0 ; # 3 people node\n",
    "        11.0 9.0 ; # 4 people node\n",
    "    \n",
    "        # job nodes -\n",
    "        12.0 11.0 ; # 5 job node \n",
    "        12.0 10.0 ; # 6 job node\n",
    "        12.0 9.0 ; # 7 job node\n",
    "    \n",
    "        # sink node -\n",
    "        13.0 10; # 8 sink node t \n",
    "    ];\n",
    "    q = plot();\n",
    "    for (k,v) ∈ base_graphmodel.edgesinverse\n",
    "\n",
    "        # get the flow value from the solution for this edge index -\n",
    "        flow_value = base_flow[k];\n",
    "        \n",
    "        # now, get the source,target node index for this edge\n",
    "        s = v[1];\n",
    "        t = v[2];\n",
    "\n",
    "        # plot -\n",
    "        if (flow_value != 0.0)\n",
    "            plot!([node_coordinates[s,1], node_coordinates[t,1]],[node_coordinates[s,2], node_coordinates[t,2]], arrow=true, color=:black, lw=3, label=\"\")\n",
    "        else\n",
    "            plot!([node_coordinates[s,1], node_coordinates[t,1]],[node_coordinates[s,2], node_coordinates[t,2]], arrow=true, color=:gray90, lw=2, label=\"\")\n",
    "        end\n",
    "    end\n",
    "    scatter!([node_coordinates[1,1]], [node_coordinates[1,2]], axis=nothing, border=:none, label=\"\", c=:blue,ms=4)\n",
    "    scatter!(node_coordinates[2:end-1,1], node_coordinates[2:end-1,2], axis=nothing, border=:none, label=\"\", c=:gray, ms=6)\n",
    "    scatter!([node_coordinates[end,1]], [node_coordinates[end,2]], axis=nothing, border=:none, label=\"\", c=:red, ms=4)\n",
    "    current()\n",
    "end"
   ]
  },
  {
   "cell_type": "markdown",
   "id": "f06a2de8-028a-439e-8696-c9a3f33aa33b",
   "metadata": {},
   "source": [
    "## Solve the `unbalanced` primal problem: match $n$ people to $m$ jobs where $n<m$.\n",
    "The unbalanced problem is a scenario where we aim to minimize the overall cost of matching people to jobs despite the number of people and jobs being different. To illustrate, let's consider a situation where we have more jobs than people. Like the balanced case, we load the edgefile using the `readedgesfile(...)` function, which takes the `path_to_edge_file` variable as an argument and returns a dictionary of edges. In this case, we pass in the `unbalanced_edgefile` file.\n",
    "* We use the [Julia |> operator](https://docs.julialang.org/en/v1/base/base/#Base.:|%3E) to pass the edge dictionary (as the temporary variable name `edges`) to a `build(...)`, which constructs and `MySimpleDirectedGraphModel` from the edge dictionary. We save the graph model corresponding to the unbalanced graph ($n<m$) in the `unbalanced_graphmodel` variable."
   ]
  },
  {
   "cell_type": "code",
   "execution_count": 9,
   "id": "4dc093a8-af19-456b-85cf-b936960b67ed",
   "metadata": {},
   "outputs": [],
   "source": [
    "unbalanced_graphmodel = readedgesfile(unbalanced_edgefile) |> edges -> build(MySimpleDirectedGraphModel, edges); # ooooh yeah. Nice."
   ]
  },
  {
   "cell_type": "code",
   "execution_count": 10,
   "id": "391e4331-d9a8-4e8b-9bfe-989b29b8a6f7",
   "metadata": {},
   "outputs": [
    {
     "data": {
      "text/plain": [
       "Dict{Tuple{Int64, Int64}, Tuple{Float64, Float64, Float64}} with 19 entries:\n",
       "  (4, 5) => (1.0, 0.0, 1.0)\n",
       "  (1, 2) => (0.0, 0.0, 2.0)\n",
       "  (3, 7) => (1.0, 0.0, 1.0)\n",
       "  (2, 5) => (100.0, 0.0, 1.0)\n",
       "  (1, 3) => (0.0, 0.0, 1.0)\n",
       "  (4, 6) => (1.0, 0.0, 1.0)\n",
       "  (5, 9) => (0.0, 1.0, 1.0)\n",
       "  (1, 4) => (0.0, 0.0, 1.0)\n",
       "  (2, 6) => (1.0, 0.0, 1.0)\n",
       "  (3, 8) => (1.0, 0.0, 1.0)\n",
       "  (8, 9) => (0.0, 1.0, 1.0)\n",
       "  (4, 7) => (1.0, 0.0, 1.0)\n",
       "  (2, 7) => (1.0, 0.0, 1.0)\n",
       "  (6, 9) => (0.0, 1.0, 1.0)\n",
       "  (4, 8) => (1.0, 0.0, 1.0)\n",
       "  (2, 8) => (1.0, 0.0, 1.0)\n",
       "  (3, 5) => (1.0, 0.0, 1.0)\n",
       "  (7, 9) => (0.0, 1.0, 1.0)\n",
       "  (3, 6) => (1.0, 0.0, 1.0)"
      ]
     },
     "execution_count": 10,
     "metadata": {},
     "output_type": "execute_result"
    }
   ],
   "source": [
    "unbalanced_graphmodel.edges"
   ]
  },
  {
   "cell_type": "markdown",
   "id": "f02aab5a-6c72-479f-934a-4de10e751c3c",
   "metadata": {},
   "source": [
    "Now that we have the `unbalanced_graphmodel`, we can pass this model to the `solve` function and the number of required jobs (as a `Float64`) as the second argument. The `solve` method returns a dictionary holding data associated with the problem, where the optimal flow can be obtained from the `argmin` key, i.e., `unbalanced_solution[\"argmin\"]`."
   ]
  },
  {
   "cell_type": "code",
   "execution_count": 11,
   "id": "5ac2acc4-8c9b-4c48-befd-6facd2a90285",
   "metadata": {},
   "outputs": [],
   "source": [
    "unbalanced_solution = solve(unbalanced_graphmodel, 4.0); # hmmm. why is this 4? why not 6, 12, -1???"
   ]
  },
  {
   "cell_type": "code",
   "execution_count": 12,
   "id": "070ae373-c101-43dd-aca5-1b1bff1ef2ae",
   "metadata": {},
   "outputs": [
    {
     "data": {
      "text/plain": [
       "19-element Vector{Float64}:\n",
       " 2.0\n",
       " 1.0\n",
       " 1.0\n",
       " 0.0\n",
       " 1.0\n",
       " 1.0\n",
       " 0.0\n",
       " 1.0\n",
       " 0.0\n",
       " 0.0\n",
       " 0.0\n",
       " 0.0\n",
       " 0.0\n",
       " 0.0\n",
       " 1.0\n",
       " 1.0\n",
       " 1.0\n",
       " 1.0\n",
       " 1.0"
      ]
     },
     "execution_count": 12,
     "metadata": {},
     "output_type": "execute_result"
    }
   ],
   "source": [
    "unbalanced_flow = unbalanced_solution[\"argmin\"] # we have a 2?"
   ]
  },
  {
   "cell_type": "markdown",
   "id": "a90070a1-6feb-4e94-87a7-b44bbe830ca2",
   "metadata": {},
   "source": [
    "### Visualize the unbalanced assignment\n",
    "`Unhide` the code block below to see how we plotted the solution to the unbalanced assignment problem."
   ]
  },
  {
   "cell_type": "code",
   "execution_count": 13,
   "id": "4a0bf381-9a92-4a8a-8cfc-11dff53efa26",
   "metadata": {
    "jupyter": {
     "source_hidden": true
    }
   },
   "outputs": [
    {
     "data": {
      "image/png": "[encoded data removed]",
      "image/svg+xml": [
       "<?xml version=\"1.0\" encoding=\"utf-8\"?>\n",
       "<svg xmlns=\"http://www.w3.org/2000/svg\" xmlns:xlink=\"http://www.w3.org/1999/xlink\" width=\"600\" height=\"400\" viewBox=\"0 0 2400 1600\">\n",
       "<defs>\n",
       "  <clipPath id=\"clip150\">\n",
       "    <rect x=\"0\" y=\"0\" width=\"2400\" height=\"1600\"/>\n",
       "  </clipPath>\n",
       "</defs>\n",
       "<path clip-path=\"url(#clip150)\" d=\"M0 1600 L2400 1600 L2400 8.88178e-14 L0 8.88178e-14  Z\" fill=\"#ffffff\" fill-rule=\"evenodd\" fill-opacity=\"1\"/>\n",
       "<defs>\n",
       "  <clipPath id=\"clip151\">\n",
       "    <rect x=\"480\" y=\"0\" width=\"1681\" height=\"1600\"/>\n",
       "  </clipPath>\n",
       "</defs>\n",
       "<path clip-path=\"url(#clip150)\" d=\"M47.2441 1552.76 L2352.76 1552.76 L2352.76 47.2441 L47.2441 47.2441  Z\" fill=\"#ffffff\" fill-rule=\"evenodd\" fill-opacity=\"1\"/>\n",
       "<defs>\n",
       "  <clipPath id=\"clip152\">\n",
       "    <rect x=\"47\" y=\"47\" width=\"2307\" height=\"1507\"/>\n",
       "  </clipPath>\n",
       "</defs>\n",
       "<polyline clip-path=\"url(#clip152)\" style=\"stroke:#000000; stroke-linecap:round; stroke-linejoin:round; stroke-width:12; stroke-opacity:1; fill:none\" points=\"837.498,89.8529 1562.5,563.284 \"/>\n",
       "<polyline clip-path=\"url(#clip152)\" style=\"stroke:#000000; stroke-linecap:round; stroke-linejoin:round; stroke-width:12; stroke-opacity:1; fill:none\" points=\"1542.2,528.53 1562.5,563.284 1522.52,558.672 \"/>\n",
       "<polyline clip-path=\"url(#clip152)\" style=\"stroke:#000000; stroke-linecap:round; stroke-linejoin:round; stroke-width:12; stroke-opacity:1; fill:none\" points=\"1562.5,563.284 837.498,89.8529 \"/>\n",
       "<polyline clip-path=\"url(#clip152)\" style=\"stroke:#000000; stroke-linecap:round; stroke-linejoin:round; stroke-width:12; stroke-opacity:1; fill:none\" points=\"1562.5,89.8529 2287.51,563.284 \"/>\n",
       "<polyline clip-path=\"url(#clip152)\" style=\"stroke:#000000; stroke-linecap:round; stroke-linejoin:round; stroke-width:12; stroke-opacity:1; fill:none\" points=\"2267.2,528.53 2287.51,563.284 2247.52,558.672 \"/>\n",
       "<polyline clip-path=\"url(#clip152)\" style=\"stroke:#000000; stroke-linecap:round; stroke-linejoin:round; stroke-width:12; stroke-opacity:1; fill:none\" points=\"2287.51,563.284 1562.5,89.8529 \"/>\n",
       "<polyline clip-path=\"url(#clip152)\" style=\"stroke:#e5e5e5; stroke-linecap:round; stroke-linejoin:round; stroke-width:8; stroke-opacity:1; fill:none\" points=\"837.498,1036.72 1562.5,89.8529 \"/>\n",
       "<polyline clip-path=\"url(#clip152)\" style=\"stroke:#e5e5e5; stroke-linecap:round; stroke-linejoin:round; stroke-width:8; stroke-opacity:1; fill:none\" points=\"1526.32,107.493 1562.5,89.8529 1554.91,129.379 \"/>\n",
       "<polyline clip-path=\"url(#clip152)\" style=\"stroke:#e5e5e5; stroke-linecap:round; stroke-linejoin:round; stroke-width:8; stroke-opacity:1; fill:none\" points=\"1562.5,89.8529 837.498,1036.72 \"/>\n",
       "<polyline clip-path=\"url(#clip152)\" style=\"stroke:#000000; stroke-linecap:round; stroke-linejoin:round; stroke-width:12; stroke-opacity:1; fill:none\" points=\"837.498,563.284 1562.5,89.8529 \"/>\n",
       "<polyline clip-path=\"url(#clip152)\" style=\"stroke:#000000; stroke-linecap:round; stroke-linejoin:round; stroke-width:12; stroke-opacity:1; fill:none\" points=\"1522.52,94.4649 1562.5,89.8529 1542.2,124.607 \"/>\n",
       "<polyline clip-path=\"url(#clip152)\" style=\"stroke:#000000; stroke-linecap:round; stroke-linejoin:round; stroke-width:12; stroke-opacity:1; fill:none\" points=\"1562.5,89.8529 837.498,563.284 \"/>\n",
       "<polyline clip-path=\"url(#clip152)\" style=\"stroke:#000000; stroke-linecap:round; stroke-linejoin:round; stroke-width:12; stroke-opacity:1; fill:none\" points=\"1562.5,563.284 2287.51,563.284 \"/>\n",
       "<polyline clip-path=\"url(#clip152)\" style=\"stroke:#000000; stroke-linecap:round; stroke-linejoin:round; stroke-width:12; stroke-opacity:1; fill:none\" points=\"2251.51,545.284 2287.51,563.284 2251.51,581.284 \"/>\n",
       "<polyline clip-path=\"url(#clip152)\" style=\"stroke:#000000; stroke-linecap:round; stroke-linejoin:round; stroke-width:12; stroke-opacity:1; fill:none\" points=\"2287.51,563.284 1562.5,563.284 \"/>\n",
       "<polyline clip-path=\"url(#clip152)\" style=\"stroke:#000000; stroke-linecap:round; stroke-linejoin:round; stroke-width:12; stroke-opacity:1; fill:none\" points=\"112.494,563.284 837.498,89.8529 \"/>\n",
       "<polyline clip-path=\"url(#clip152)\" style=\"stroke:#000000; stroke-linecap:round; stroke-linejoin:round; stroke-width:12; stroke-opacity:1; fill:none\" points=\"797.514,94.4649 837.498,89.8529 817.197,124.607 \"/>\n",
       "<polyline clip-path=\"url(#clip152)\" style=\"stroke:#000000; stroke-linecap:round; stroke-linejoin:round; stroke-width:12; stroke-opacity:1; fill:none\" points=\"837.498,89.8529 112.494,563.284 \"/>\n",
       "<polyline clip-path=\"url(#clip152)\" style=\"stroke:#000000; stroke-linecap:round; stroke-linejoin:round; stroke-width:12; stroke-opacity:1; fill:none\" points=\"1562.5,1510.15 2287.51,563.284 \"/>\n",
       "<polyline clip-path=\"url(#clip152)\" style=\"stroke:#000000; stroke-linecap:round; stroke-linejoin:round; stroke-width:12; stroke-opacity:1; fill:none\" points=\"2251.33,580.925 2287.51,563.284 2279.91,602.811 \"/>\n",
       "<polyline clip-path=\"url(#clip152)\" style=\"stroke:#000000; stroke-linecap:round; stroke-linejoin:round; stroke-width:12; stroke-opacity:1; fill:none\" points=\"2287.51,563.284 1562.5,1510.15 \"/>\n",
       "<polyline clip-path=\"url(#clip152)\" style=\"stroke:#000000; stroke-linecap:round; stroke-linejoin:round; stroke-width:12; stroke-opacity:1; fill:none\" points=\"837.498,89.8529 1562.5,1036.72 \"/>\n",
       "<polyline clip-path=\"url(#clip152)\" style=\"stroke:#000000; stroke-linecap:round; stroke-linejoin:round; stroke-width:12; stroke-opacity:1; fill:none\" points=\"1554.91,997.189 1562.5,1036.72 1526.32,1019.08 \"/>\n",
       "<polyline clip-path=\"url(#clip152)\" style=\"stroke:#000000; stroke-linecap:round; stroke-linejoin:round; stroke-width:12; stroke-opacity:1; fill:none\" points=\"1562.5,1036.72 837.498,89.8529 \"/>\n",
       "<polyline clip-path=\"url(#clip152)\" style=\"stroke:#e5e5e5; stroke-linecap:round; stroke-linejoin:round; stroke-width:8; stroke-opacity:1; fill:none\" points=\"837.498,563.284 1562.5,1510.15 \"/>\n",
       "<polyline clip-path=\"url(#clip152)\" style=\"stroke:#e5e5e5; stroke-linecap:round; stroke-linejoin:round; stroke-width:8; stroke-opacity:1; fill:none\" points=\"1554.91,1470.62 1562.5,1510.15 1526.32,1492.51 \"/>\n",
       "<polyline clip-path=\"url(#clip152)\" style=\"stroke:#e5e5e5; stroke-linecap:round; stroke-linejoin:round; stroke-width:8; stroke-opacity:1; fill:none\" points=\"1562.5,1510.15 837.498,563.284 \"/>\n",
       "<polyline clip-path=\"url(#clip152)\" style=\"stroke:#e5e5e5; stroke-linecap:round; stroke-linejoin:round; stroke-width:8; stroke-opacity:1; fill:none\" points=\"837.498,563.284 1562.5,563.284 \"/>\n",
       "<polyline clip-path=\"url(#clip152)\" style=\"stroke:#e5e5e5; stroke-linecap:round; stroke-linejoin:round; stroke-width:8; stroke-opacity:1; fill:none\" points=\"1526.5,545.284 1562.5,563.284 1526.5,581.284 \"/>\n",
       "<polyline clip-path=\"url(#clip152)\" style=\"stroke:#e5e5e5; stroke-linecap:round; stroke-linejoin:round; stroke-width:8; stroke-opacity:1; fill:none\" points=\"1562.5,563.284 837.498,563.284 \"/>\n",
       "<polyline clip-path=\"url(#clip152)\" style=\"stroke:#e5e5e5; stroke-linecap:round; stroke-linejoin:round; stroke-width:8; stroke-opacity:1; fill:none\" points=\"837.498,1036.72 1562.5,1036.72 \"/>\n",
       "<polyline clip-path=\"url(#clip152)\" style=\"stroke:#e5e5e5; stroke-linecap:round; stroke-linejoin:round; stroke-width:8; stroke-opacity:1; fill:none\" points=\"1526.5,1018.72 1562.5,1036.72 1526.5,1054.72 \"/>\n",
       "<polyline clip-path=\"url(#clip152)\" style=\"stroke:#e5e5e5; stroke-linecap:round; stroke-linejoin:round; stroke-width:8; stroke-opacity:1; fill:none\" points=\"1562.5,1036.72 837.498,1036.72 \"/>\n",
       "<polyline clip-path=\"url(#clip152)\" style=\"stroke:#000000; stroke-linecap:round; stroke-linejoin:round; stroke-width:12; stroke-opacity:1; fill:none\" points=\"112.494,563.284 837.498,1036.72 \"/>\n",
       "<polyline clip-path=\"url(#clip152)\" style=\"stroke:#000000; stroke-linecap:round; stroke-linejoin:round; stroke-width:12; stroke-opacity:1; fill:none\" points=\"817.197,1001.96 837.498,1036.72 797.514,1032.1 \"/>\n",
       "<polyline clip-path=\"url(#clip152)\" style=\"stroke:#000000; stroke-linecap:round; stroke-linejoin:round; stroke-width:12; stroke-opacity:1; fill:none\" points=\"837.498,1036.72 112.494,563.284 \"/>\n",
       "<polyline clip-path=\"url(#clip152)\" style=\"stroke:#e5e5e5; stroke-linecap:round; stroke-linejoin:round; stroke-width:8; stroke-opacity:1; fill:none\" points=\"837.498,89.8529 1562.5,1510.15 \"/>\n",
       "<polyline clip-path=\"url(#clip152)\" style=\"stroke:#e5e5e5; stroke-linecap:round; stroke-linejoin:round; stroke-width:8; stroke-opacity:1; fill:none\" points=\"1562.17,1469.9 1562.5,1510.15 1530.1,1486.27 \"/>\n",
       "<polyline clip-path=\"url(#clip152)\" style=\"stroke:#e5e5e5; stroke-linecap:round; stroke-linejoin:round; stroke-width:8; stroke-opacity:1; fill:none\" points=\"1562.5,1510.15 837.498,89.8529 \"/>\n",
       "<polyline clip-path=\"url(#clip152)\" style=\"stroke:#e5e5e5; stroke-linecap:round; stroke-linejoin:round; stroke-width:8; stroke-opacity:1; fill:none\" points=\"837.498,89.8529 1562.5,89.8529 \"/>\n",
       "<polyline clip-path=\"url(#clip152)\" style=\"stroke:#e5e5e5; stroke-linecap:round; stroke-linejoin:round; stroke-width:8; stroke-opacity:1; fill:none\" points=\"1526.5,71.8529 1562.5,89.8529 1526.5,107.853 \"/>\n",
       "<polyline clip-path=\"url(#clip152)\" style=\"stroke:#e5e5e5; stroke-linecap:round; stroke-linejoin:round; stroke-width:8; stroke-opacity:1; fill:none\" points=\"1562.5,89.8529 837.498,89.8529 \"/>\n",
       "<polyline clip-path=\"url(#clip152)\" style=\"stroke:#e5e5e5; stroke-linecap:round; stroke-linejoin:round; stroke-width:8; stroke-opacity:1; fill:none\" points=\"837.498,1036.72 1562.5,563.284 \"/>\n",
       "<polyline clip-path=\"url(#clip152)\" style=\"stroke:#e5e5e5; stroke-linecap:round; stroke-linejoin:round; stroke-width:8; stroke-opacity:1; fill:none\" points=\"1522.52,567.896 1562.5,563.284 1542.2,598.039 \"/>\n",
       "<polyline clip-path=\"url(#clip152)\" style=\"stroke:#e5e5e5; stroke-linecap:round; stroke-linejoin:round; stroke-width:8; stroke-opacity:1; fill:none\" points=\"1562.5,563.284 837.498,1036.72 \"/>\n",
       "<polyline clip-path=\"url(#clip152)\" style=\"stroke:#000000; stroke-linecap:round; stroke-linejoin:round; stroke-width:12; stroke-opacity:1; fill:none\" points=\"837.498,1036.72 1562.5,1510.15 \"/>\n",
       "<polyline clip-path=\"url(#clip152)\" style=\"stroke:#000000; stroke-linecap:round; stroke-linejoin:round; stroke-width:12; stroke-opacity:1; fill:none\" points=\"1542.2,1475.39 1562.5,1510.15 1522.52,1505.54 \"/>\n",
       "<polyline clip-path=\"url(#clip152)\" style=\"stroke:#000000; stroke-linecap:round; stroke-linejoin:round; stroke-width:12; stroke-opacity:1; fill:none\" points=\"1562.5,1510.15 837.498,1036.72 \"/>\n",
       "<polyline clip-path=\"url(#clip152)\" style=\"stroke:#000000; stroke-linecap:round; stroke-linejoin:round; stroke-width:12; stroke-opacity:1; fill:none\" points=\"112.494,563.284 837.498,563.284 \"/>\n",
       "<polyline clip-path=\"url(#clip152)\" style=\"stroke:#000000; stroke-linecap:round; stroke-linejoin:round; stroke-width:12; stroke-opacity:1; fill:none\" points=\"801.498,545.284 837.498,563.284 801.498,581.284 \"/>\n",
       "<polyline clip-path=\"url(#clip152)\" style=\"stroke:#000000; stroke-linecap:round; stroke-linejoin:round; stroke-width:12; stroke-opacity:1; fill:none\" points=\"837.498,563.284 112.494,563.284 \"/>\n",
       "<polyline clip-path=\"url(#clip152)\" style=\"stroke:#e5e5e5; stroke-linecap:round; stroke-linejoin:round; stroke-width:8; stroke-opacity:1; fill:none\" points=\"837.498,563.284 1562.5,1036.72 \"/>\n",
       "<polyline clip-path=\"url(#clip152)\" style=\"stroke:#e5e5e5; stroke-linecap:round; stroke-linejoin:round; stroke-width:8; stroke-opacity:1; fill:none\" points=\"1542.2,1001.96 1562.5,1036.72 1522.52,1032.1 \"/>\n",
       "<polyline clip-path=\"url(#clip152)\" style=\"stroke:#e5e5e5; stroke-linecap:round; stroke-linejoin:round; stroke-width:8; stroke-opacity:1; fill:none\" points=\"1562.5,1036.72 837.498,563.284 \"/>\n",
       "<polyline clip-path=\"url(#clip152)\" style=\"stroke:#000000; stroke-linecap:round; stroke-linejoin:round; stroke-width:12; stroke-opacity:1; fill:none\" points=\"1562.5,1036.72 2287.51,563.284 \"/>\n",
       "<polyline clip-path=\"url(#clip152)\" style=\"stroke:#000000; stroke-linecap:round; stroke-linejoin:round; stroke-width:12; stroke-opacity:1; fill:none\" points=\"2247.52,567.896 2287.51,563.284 2267.2,598.039 \"/>\n",
       "<polyline clip-path=\"url(#clip152)\" style=\"stroke:#000000; stroke-linecap:round; stroke-linejoin:round; stroke-width:12; stroke-opacity:1; fill:none\" points=\"2287.51,563.284 1562.5,1036.72 \"/>\n",
       "<circle clip-path=\"url(#clip152)\" cx=\"112.494\" cy=\"563.284\" r=\"14.4\" fill=\"#0000ff\" fill-rule=\"evenodd\" fill-opacity=\"1\" stroke=\"#000000\" stroke-opacity=\"1\" stroke-width=\"3.2\"/>\n",
       "<circle clip-path=\"url(#clip152)\" cx=\"837.498\" cy=\"89.8529\" r=\"21.6\" fill=\"#808080\" fill-rule=\"evenodd\" fill-opacity=\"1\" stroke=\"#000000\" stroke-opacity=\"1\" stroke-width=\"3.2\"/>\n",
       "<circle clip-path=\"url(#clip152)\" cx=\"837.498\" cy=\"563.284\" r=\"21.6\" fill=\"#808080\" fill-rule=\"evenodd\" fill-opacity=\"1\" stroke=\"#000000\" stroke-opacity=\"1\" stroke-width=\"3.2\"/>\n",
       "<circle clip-path=\"url(#clip152)\" cx=\"837.498\" cy=\"1036.72\" r=\"21.6\" fill=\"#808080\" fill-rule=\"evenodd\" fill-opacity=\"1\" stroke=\"#000000\" stroke-opacity=\"1\" stroke-width=\"3.2\"/>\n",
       "<circle clip-path=\"url(#clip152)\" cx=\"1562.5\" cy=\"89.8529\" r=\"21.6\" fill=\"#808080\" fill-rule=\"evenodd\" fill-opacity=\"1\" stroke=\"#000000\" stroke-opacity=\"1\" stroke-width=\"3.2\"/>\n",
       "<circle clip-path=\"url(#clip152)\" cx=\"1562.5\" cy=\"563.284\" r=\"21.6\" fill=\"#808080\" fill-rule=\"evenodd\" fill-opacity=\"1\" stroke=\"#000000\" stroke-opacity=\"1\" stroke-width=\"3.2\"/>\n",
       "<circle clip-path=\"url(#clip152)\" cx=\"1562.5\" cy=\"1036.72\" r=\"21.6\" fill=\"#808080\" fill-rule=\"evenodd\" fill-opacity=\"1\" stroke=\"#000000\" stroke-opacity=\"1\" stroke-width=\"3.2\"/>\n",
       "<circle clip-path=\"url(#clip152)\" cx=\"1562.5\" cy=\"1510.15\" r=\"21.6\" fill=\"#808080\" fill-rule=\"evenodd\" fill-opacity=\"1\" stroke=\"#000000\" stroke-opacity=\"1\" stroke-width=\"3.2\"/>\n",
       "<circle clip-path=\"url(#clip152)\" cx=\"2287.51\" cy=\"563.284\" r=\"14.4\" fill=\"#ff0000\" fill-rule=\"evenodd\" fill-opacity=\"1\" stroke=\"#000000\" stroke-opacity=\"1\" stroke-width=\"3.2\"/>\n",
       "</svg>\n"
      ],
      "text/html": [
       "<?xml version=\"1.0\" encoding=\"utf-8\"?>\n",
       "<svg xmlns=\"http://www.w3.org/2000/svg\" xmlns:xlink=\"http://www.w3.org/1999/xlink\" width=\"600\" height=\"400\" viewBox=\"0 0 2400 1600\">\n",
       "<defs>\n",
       "  <clipPath id=\"clip180\">\n",
       "    <rect x=\"0\" y=\"0\" width=\"2400\" height=\"1600\"/>\n",
       "  </clipPath>\n",
       "</defs>\n",
       "<path clip-path=\"url(#clip180)\" d=\"M0 1600 L2400 1600 L2400 8.88178e-14 L0 8.88178e-14  Z\" fill=\"#ffffff\" fill-rule=\"evenodd\" fill-opacity=\"1\"/>\n",
       "<defs>\n",
       "  <clipPath id=\"clip181\">\n",
       "    <rect x=\"480\" y=\"0\" width=\"1681\" height=\"1600\"/>\n",
       "  </clipPath>\n",
       "</defs>\n",
       "<path clip-path=\"url(#clip180)\" d=\"M47.2441 1552.76 L2352.76 1552.76 L2352.76 47.2441 L47.2441 47.2441  Z\" fill=\"#ffffff\" fill-rule=\"evenodd\" fill-opacity=\"1\"/>\n",
       "<defs>\n",
       "  <clipPath id=\"clip182\">\n",
       "    <rect x=\"47\" y=\"47\" width=\"2307\" height=\"1507\"/>\n",
       "  </clipPath>\n",
       "</defs>\n",
       "<polyline clip-path=\"url(#clip182)\" style=\"stroke:#000000; stroke-linecap:round; stroke-linejoin:round; stroke-width:12; stroke-opacity:1; fill:none\" points=\"837.498,89.8529 1562.5,563.284 \"/>\n",
       "<polyline clip-path=\"url(#clip182)\" style=\"stroke:#000000; stroke-linecap:round; stroke-linejoin:round; stroke-width:12; stroke-opacity:1; fill:none\" points=\"1542.2,528.53 1562.5,563.284 1522.52,558.672 \"/>\n",
       "<polyline clip-path=\"url(#clip182)\" style=\"stroke:#000000; stroke-linecap:round; stroke-linejoin:round; stroke-width:12; stroke-opacity:1; fill:none\" points=\"1562.5,563.284 837.498,89.8529 \"/>\n",
       "<polyline clip-path=\"url(#clip182)\" style=\"stroke:#000000; stroke-linecap:round; stroke-linejoin:round; stroke-width:12; stroke-opacity:1; fill:none\" points=\"1562.5,89.8529 2287.51,563.284 \"/>\n",
       "<polyline clip-path=\"url(#clip182)\" style=\"stroke:#000000; stroke-linecap:round; stroke-linejoin:round; stroke-width:12; stroke-opacity:1; fill:none\" points=\"2267.2,528.53 2287.51,563.284 2247.52,558.672 \"/>\n",
       "<polyline clip-path=\"url(#clip182)\" style=\"stroke:#000000; stroke-linecap:round; stroke-linejoin:round; stroke-width:12; stroke-opacity:1; fill:none\" points=\"2287.51,563.284 1562.5,89.8529 \"/>\n",
       "<polyline clip-path=\"url(#clip182)\" style=\"stroke:#e5e5e5; stroke-linecap:round; stroke-linejoin:round; stroke-width:8; stroke-opacity:1; fill:none\" points=\"837.498,1036.72 1562.5,89.8529 \"/>\n",
       "<polyline clip-path=\"url(#clip182)\" style=\"stroke:#e5e5e5; stroke-linecap:round; stroke-linejoin:round; stroke-width:8; stroke-opacity:1; fill:none\" points=\"1526.32,107.493 1562.5,89.8529 1554.91,129.379 \"/>\n",
       "<polyline clip-path=\"url(#clip182)\" style=\"stroke:#e5e5e5; stroke-linecap:round; stroke-linejoin:round; stroke-width:8; stroke-opacity:1; fill:none\" points=\"1562.5,89.8529 837.498,1036.72 \"/>\n",
       "<polyline clip-path=\"url(#clip182)\" style=\"stroke:#000000; stroke-linecap:round; stroke-linejoin:round; stroke-width:12; stroke-opacity:1; fill:none\" points=\"837.498,563.284 1562.5,89.8529 \"/>\n",
       "<polyline clip-path=\"url(#clip182)\" style=\"stroke:#000000; stroke-linecap:round; stroke-linejoin:round; stroke-width:12; stroke-opacity:1; fill:none\" points=\"1522.52,94.4649 1562.5,89.8529 1542.2,124.607 \"/>\n",
       "<polyline clip-path=\"url(#clip182)\" style=\"stroke:#000000; stroke-linecap:round; stroke-linejoin:round; stroke-width:12; stroke-opacity:1; fill:none\" points=\"1562.5,89.8529 837.498,563.284 \"/>\n",
       "<polyline clip-path=\"url(#clip182)\" style=\"stroke:#000000; stroke-linecap:round; stroke-linejoin:round; stroke-width:12; stroke-opacity:1; fill:none\" points=\"1562.5,563.284 2287.51,563.284 \"/>\n",
       "<polyline clip-path=\"url(#clip182)\" style=\"stroke:#000000; stroke-linecap:round; stroke-linejoin:round; stroke-width:12; stroke-opacity:1; fill:none\" points=\"2251.51,545.284 2287.51,563.284 2251.51,581.284 \"/>\n",
       "<polyline clip-path=\"url(#clip182)\" style=\"stroke:#000000; stroke-linecap:round; stroke-linejoin:round; stroke-width:12; stroke-opacity:1; fill:none\" points=\"2287.51,563.284 1562.5,563.284 \"/>\n",
       "<polyline clip-path=\"url(#clip182)\" style=\"stroke:#000000; stroke-linecap:round; stroke-linejoin:round; stroke-width:12; stroke-opacity:1; fill:none\" points=\"112.494,563.284 837.498,89.8529 \"/>\n",
       "<polyline clip-path=\"url(#clip182)\" style=\"stroke:#000000; stroke-linecap:round; stroke-linejoin:round; stroke-width:12; stroke-opacity:1; fill:none\" points=\"797.514,94.4649 837.498,89.8529 817.197,124.607 \"/>\n",
       "<polyline clip-path=\"url(#clip182)\" style=\"stroke:#000000; stroke-linecap:round; stroke-linejoin:round; stroke-width:12; stroke-opacity:1; fill:none\" points=\"837.498,89.8529 112.494,563.284 \"/>\n",
       "<polyline clip-path=\"url(#clip182)\" style=\"stroke:#000000; stroke-linecap:round; stroke-linejoin:round; stroke-width:12; stroke-opacity:1; fill:none\" points=\"1562.5,1510.15 2287.51,563.284 \"/>\n",
       "<polyline clip-path=\"url(#clip182)\" style=\"stroke:#000000; stroke-linecap:round; stroke-linejoin:round; stroke-width:12; stroke-opacity:1; fill:none\" points=\"2251.33,580.925 2287.51,563.284 2279.91,602.811 \"/>\n",
       "<polyline clip-path=\"url(#clip182)\" style=\"stroke:#000000; stroke-linecap:round; stroke-linejoin:round; stroke-width:12; stroke-opacity:1; fill:none\" points=\"2287.51,563.284 1562.5,1510.15 \"/>\n",
       "<polyline clip-path=\"url(#clip182)\" style=\"stroke:#000000; stroke-linecap:round; stroke-linejoin:round; stroke-width:12; stroke-opacity:1; fill:none\" points=\"837.498,89.8529 1562.5,1036.72 \"/>\n",
       "<polyline clip-path=\"url(#clip182)\" style=\"stroke:#000000; stroke-linecap:round; stroke-linejoin:round; stroke-width:12; stroke-opacity:1; fill:none\" points=\"1554.91,997.189 1562.5,1036.72 1526.32,1019.08 \"/>\n",
       "<polyline clip-path=\"url(#clip182)\" style=\"stroke:#000000; stroke-linecap:round; stroke-linejoin:round; stroke-width:12; stroke-opacity:1; fill:none\" points=\"1562.5,1036.72 837.498,89.8529 \"/>\n",
       "<polyline clip-path=\"url(#clip182)\" style=\"stroke:#e5e5e5; stroke-linecap:round; stroke-linejoin:round; stroke-width:8; stroke-opacity:1; fill:none\" points=\"837.498,563.284 1562.5,1510.15 \"/>\n",
       "<polyline clip-path=\"url(#clip182)\" style=\"stroke:#e5e5e5; stroke-linecap:round; stroke-linejoin:round; stroke-width:8; stroke-opacity:1; fill:none\" points=\"1554.91,1470.62 1562.5,1510.15 1526.32,1492.51 \"/>\n",
       "<polyline clip-path=\"url(#clip182)\" style=\"stroke:#e5e5e5; stroke-linecap:round; stroke-linejoin:round; stroke-width:8; stroke-opacity:1; fill:none\" points=\"1562.5,1510.15 837.498,563.284 \"/>\n",
       "<polyline clip-path=\"url(#clip182)\" style=\"stroke:#e5e5e5; stroke-linecap:round; stroke-linejoin:round; stroke-width:8; stroke-opacity:1; fill:none\" points=\"837.498,563.284 1562.5,563.284 \"/>\n",
       "<polyline clip-path=\"url(#clip182)\" style=\"stroke:#e5e5e5; stroke-linecap:round; stroke-linejoin:round; stroke-width:8; stroke-opacity:1; fill:none\" points=\"1526.5,545.284 1562.5,563.284 1526.5,581.284 \"/>\n",
       "<polyline clip-path=\"url(#clip182)\" style=\"stroke:#e5e5e5; stroke-linecap:round; stroke-linejoin:round; stroke-width:8; stroke-opacity:1; fill:none\" points=\"1562.5,563.284 837.498,563.284 \"/>\n",
       "<polyline clip-path=\"url(#clip182)\" style=\"stroke:#e5e5e5; stroke-linecap:round; stroke-linejoin:round; stroke-width:8; stroke-opacity:1; fill:none\" points=\"837.498,1036.72 1562.5,1036.72 \"/>\n",
       "<polyline clip-path=\"url(#clip182)\" style=\"stroke:#e5e5e5; stroke-linecap:round; stroke-linejoin:round; stroke-width:8; stroke-opacity:1; fill:none\" points=\"1526.5,1018.72 1562.5,1036.72 1526.5,1054.72 \"/>\n",
       "<polyline clip-path=\"url(#clip182)\" style=\"stroke:#e5e5e5; stroke-linecap:round; stroke-linejoin:round; stroke-width:8; stroke-opacity:1; fill:none\" points=\"1562.5,1036.72 837.498,1036.72 \"/>\n",
       "<polyline clip-path=\"url(#clip182)\" style=\"stroke:#000000; stroke-linecap:round; stroke-linejoin:round; stroke-width:12; stroke-opacity:1; fill:none\" points=\"112.494,563.284 837.498,1036.72 \"/>\n",
       "<polyline clip-path=\"url(#clip182)\" style=\"stroke:#000000; stroke-linecap:round; stroke-linejoin:round; stroke-width:12; stroke-opacity:1; fill:none\" points=\"817.197,1001.96 837.498,1036.72 797.514,1032.1 \"/>\n",
       "<polyline clip-path=\"url(#clip182)\" style=\"stroke:#000000; stroke-linecap:round; stroke-linejoin:round; stroke-width:12; stroke-opacity:1; fill:none\" points=\"837.498,1036.72 112.494,563.284 \"/>\n",
       "<polyline clip-path=\"url(#clip182)\" style=\"stroke:#e5e5e5; stroke-linecap:round; stroke-linejoin:round; stroke-width:8; stroke-opacity:1; fill:none\" points=\"837.498,89.8529 1562.5,1510.15 \"/>\n",
       "<polyline clip-path=\"url(#clip182)\" style=\"stroke:#e5e5e5; stroke-linecap:round; stroke-linejoin:round; stroke-width:8; stroke-opacity:1; fill:none\" points=\"1562.17,1469.9 1562.5,1510.15 1530.1,1486.27 \"/>\n",
       "<polyline clip-path=\"url(#clip182)\" style=\"stroke:#e5e5e5; stroke-linecap:round; stroke-linejoin:round; stroke-width:8; stroke-opacity:1; fill:none\" points=\"1562.5,1510.15 837.498,89.8529 \"/>\n",
       "<polyline clip-path=\"url(#clip182)\" style=\"stroke:#e5e5e5; stroke-linecap:round; stroke-linejoin:round; stroke-width:8; stroke-opacity:1; fill:none\" points=\"837.498,89.8529 1562.5,89.8529 \"/>\n",
       "<polyline clip-path=\"url(#clip182)\" style=\"stroke:#e5e5e5; stroke-linecap:round; stroke-linejoin:round; stroke-width:8; stroke-opacity:1; fill:none\" points=\"1526.5,71.8529 1562.5,89.8529 1526.5,107.853 \"/>\n",
       "<polyline clip-path=\"url(#clip182)\" style=\"stroke:#e5e5e5; stroke-linecap:round; stroke-linejoin:round; stroke-width:8; stroke-opacity:1; fill:none\" points=\"1562.5,89.8529 837.498,89.8529 \"/>\n",
       "<polyline clip-path=\"url(#clip182)\" style=\"stroke:#e5e5e5; stroke-linecap:round; stroke-linejoin:round; stroke-width:8; stroke-opacity:1; fill:none\" points=\"837.498,1036.72 1562.5,563.284 \"/>\n",
       "<polyline clip-path=\"url(#clip182)\" style=\"stroke:#e5e5e5; stroke-linecap:round; stroke-linejoin:round; stroke-width:8; stroke-opacity:1; fill:none\" points=\"1522.52,567.896 1562.5,563.284 1542.2,598.039 \"/>\n",
       "<polyline clip-path=\"url(#clip182)\" style=\"stroke:#e5e5e5; stroke-linecap:round; stroke-linejoin:round; stroke-width:8; stroke-opacity:1; fill:none\" points=\"1562.5,563.284 837.498,1036.72 \"/>\n",
       "<polyline clip-path=\"url(#clip182)\" style=\"stroke:#000000; stroke-linecap:round; stroke-linejoin:round; stroke-width:12; stroke-opacity:1; fill:none\" points=\"837.498,1036.72 1562.5,1510.15 \"/>\n",
       "<polyline clip-path=\"url(#clip182)\" style=\"stroke:#000000; stroke-linecap:round; stroke-linejoin:round; stroke-width:12; stroke-opacity:1; fill:none\" points=\"1542.2,1475.39 1562.5,1510.15 1522.52,1505.54 \"/>\n",
       "<polyline clip-path=\"url(#clip182)\" style=\"stroke:#000000; stroke-linecap:round; stroke-linejoin:round; stroke-width:12; stroke-opacity:1; fill:none\" points=\"1562.5,1510.15 837.498,1036.72 \"/>\n",
       "<polyline clip-path=\"url(#clip182)\" style=\"stroke:#000000; stroke-linecap:round; stroke-linejoin:round; stroke-width:12; stroke-opacity:1; fill:none\" points=\"112.494,563.284 837.498,563.284 \"/>\n",
       "<polyline clip-path=\"url(#clip182)\" style=\"stroke:#000000; stroke-linecap:round; stroke-linejoin:round; stroke-width:12; stroke-opacity:1; fill:none\" points=\"801.498,545.284 837.498,563.284 801.498,581.284 \"/>\n",
       "<polyline clip-path=\"url(#clip182)\" style=\"stroke:#000000; stroke-linecap:round; stroke-linejoin:round; stroke-width:12; stroke-opacity:1; fill:none\" points=\"837.498,563.284 112.494,563.284 \"/>\n",
       "<polyline clip-path=\"url(#clip182)\" style=\"stroke:#e5e5e5; stroke-linecap:round; stroke-linejoin:round; stroke-width:8; stroke-opacity:1; fill:none\" points=\"837.498,563.284 1562.5,1036.72 \"/>\n",
       "<polyline clip-path=\"url(#clip182)\" style=\"stroke:#e5e5e5; stroke-linecap:round; stroke-linejoin:round; stroke-width:8; stroke-opacity:1; fill:none\" points=\"1542.2,1001.96 1562.5,1036.72 1522.52,1032.1 \"/>\n",
       "<polyline clip-path=\"url(#clip182)\" style=\"stroke:#e5e5e5; stroke-linecap:round; stroke-linejoin:round; stroke-width:8; stroke-opacity:1; fill:none\" points=\"1562.5,1036.72 837.498,563.284 \"/>\n",
       "<polyline clip-path=\"url(#clip182)\" style=\"stroke:#000000; stroke-linecap:round; stroke-linejoin:round; stroke-width:12; stroke-opacity:1; fill:none\" points=\"1562.5,1036.72 2287.51,563.284 \"/>\n",
       "<polyline clip-path=\"url(#clip182)\" style=\"stroke:#000000; stroke-linecap:round; stroke-linejoin:round; stroke-width:12; stroke-opacity:1; fill:none\" points=\"2247.52,567.896 2287.51,563.284 2267.2,598.039 \"/>\n",
       "<polyline clip-path=\"url(#clip182)\" style=\"stroke:#000000; stroke-linecap:round; stroke-linejoin:round; stroke-width:12; stroke-opacity:1; fill:none\" points=\"2287.51,563.284 1562.5,1036.72 \"/>\n",
       "<circle clip-path=\"url(#clip182)\" cx=\"112.494\" cy=\"563.284\" r=\"14.4\" fill=\"#0000ff\" fill-rule=\"evenodd\" fill-opacity=\"1\" stroke=\"#000000\" stroke-opacity=\"1\" stroke-width=\"3.2\"/>\n",
       "<circle clip-path=\"url(#clip182)\" cx=\"837.498\" cy=\"89.8529\" r=\"21.6\" fill=\"#808080\" fill-rule=\"evenodd\" fill-opacity=\"1\" stroke=\"#000000\" stroke-opacity=\"1\" stroke-width=\"3.2\"/>\n",
       "<circle clip-path=\"url(#clip182)\" cx=\"837.498\" cy=\"563.284\" r=\"21.6\" fill=\"#808080\" fill-rule=\"evenodd\" fill-opacity=\"1\" stroke=\"#000000\" stroke-opacity=\"1\" stroke-width=\"3.2\"/>\n",
       "<circle clip-path=\"url(#clip182)\" cx=\"837.498\" cy=\"1036.72\" r=\"21.6\" fill=\"#808080\" fill-rule=\"evenodd\" fill-opacity=\"1\" stroke=\"#000000\" stroke-opacity=\"1\" stroke-width=\"3.2\"/>\n",
       "<circle clip-path=\"url(#clip182)\" cx=\"1562.5\" cy=\"89.8529\" r=\"21.6\" fill=\"#808080\" fill-rule=\"evenodd\" fill-opacity=\"1\" stroke=\"#000000\" stroke-opacity=\"1\" stroke-width=\"3.2\"/>\n",
       "<circle clip-path=\"url(#clip182)\" cx=\"1562.5\" cy=\"563.284\" r=\"21.6\" fill=\"#808080\" fill-rule=\"evenodd\" fill-opacity=\"1\" stroke=\"#000000\" stroke-opacity=\"1\" stroke-width=\"3.2\"/>\n",
       "<circle clip-path=\"url(#clip182)\" cx=\"1562.5\" cy=\"1036.72\" r=\"21.6\" fill=\"#808080\" fill-rule=\"evenodd\" fill-opacity=\"1\" stroke=\"#000000\" stroke-opacity=\"1\" stroke-width=\"3.2\"/>\n",
       "<circle clip-path=\"url(#clip182)\" cx=\"1562.5\" cy=\"1510.15\" r=\"21.6\" fill=\"#808080\" fill-rule=\"evenodd\" fill-opacity=\"1\" stroke=\"#000000\" stroke-opacity=\"1\" stroke-width=\"3.2\"/>\n",
       "<circle clip-path=\"url(#clip182)\" cx=\"2287.51\" cy=\"563.284\" r=\"14.4\" fill=\"#ff0000\" fill-rule=\"evenodd\" fill-opacity=\"1\" stroke=\"#000000\" stroke-opacity=\"1\" stroke-width=\"3.2\"/>\n",
       "</svg>\n"
      ]
     },
     "execution_count": 13,
     "metadata": {},
     "output_type": "execute_result"
    }
   ],
   "source": [
    "let\n",
    "    # setup coordinates for the nodes -\n",
    "    node_coordinates = [\n",
    "    \n",
    "        10.0 10.0 ; # 1 source node s \n",
    "        \n",
    "        # people nodes -\n",
    "        11.0 11.0 ; # 2 people node \n",
    "        11.0 10.0 ; # 3 people node\n",
    "        11.0 9.0 ; # 4 people node\n",
    "    \n",
    "        # job nodes -\n",
    "        12.0 11.0 ; # 5 job node \n",
    "        12.0 10.0 ; # 6 job node\n",
    "        12.0 9.0 ; # 7 job node\n",
    "        12.0 8.0 ; # 8 job node\n",
    "    \n",
    "        # sink node -\n",
    "        13.0 10; # 9 sink node t \n",
    "    ];\n",
    "    q = plot();\n",
    "    for (k,v) ∈ unbalanced_graphmodel.edgesinverse\n",
    "\n",
    "        # get the flow value from the solution for this edge index -\n",
    "        flow_value = unbalanced_flow[k];\n",
    "        \n",
    "        # now, get the source,target node index for this edge\n",
    "        s = v[1];\n",
    "        t = v[2];\n",
    "\n",
    "        # plot -\n",
    "        if (flow_value != 0.0)\n",
    "            plot!([node_coordinates[s,1], node_coordinates[t,1]],[node_coordinates[s,2], node_coordinates[t,2]], arrow=true, color=:black, lw=3, label=\"\")\n",
    "        else\n",
    "            plot!([node_coordinates[s,1], node_coordinates[t,1]],[node_coordinates[s,2], node_coordinates[t,2]], arrow=true, color=:gray90, lw=2, label=\"\")\n",
    "        end\n",
    "    end\n",
    "    scatter!([node_coordinates[1,1]], [node_coordinates[1,2]], axis=nothing, border=:none, label=\"\", c=:blue,ms=4)\n",
    "    scatter!(node_coordinates[2:end-1,1], node_coordinates[2:end-1,2], axis=nothing, border=:none, label=\"\", c=:gray, ms=6)\n",
    "    scatter!([node_coordinates[end,1]], [node_coordinates[end,2]], axis=nothing, border=:none, label=\"\", c=:red, ms=4)\n",
    "    current()\n",
    "end"
   ]
  }
 ],
 "metadata": {
  "kernelspec": {
   "display_name": "Julia 1.10.2",
   "language": "julia",
   "name": "julia-1.10"
  },
  "language_info": {
   "file_extension": ".jl",
   "mimetype": "application/julia",
   "name": "julia",
   "version": "1.10.2"
  }
 },
 "nbformat": 4,
 "nbformat_minor": 5
}
