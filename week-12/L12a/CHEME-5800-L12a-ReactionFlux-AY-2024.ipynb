{
 "cells": [
  {
   "cell_type": "markdown",
   "id": "8596a8c3-2ae1-4516-9d36-f872d5404676",
   "metadata": {},
   "source": [
    "# Example: Compute the Primal and Dual Solution for a Reaction Flow Problem\n",
    "This example will familiarize students with using [linear programming](https://en.wikipedia.org/wiki/Linear_programming) to compute the `reaction flow` or `flux` through a chemical reaction network. "
   ]
  },
  {
   "cell_type": "markdown",
   "id": "8cb57e5f-32d0-42f8-9f61-ec5d840f2e36",
   "metadata": {},
   "source": [
    "## Setup\n",
    "This example requires several external libraries and a function to compute the outer product. Let's download and install these packages and call our `Include.jl` file."
   ]
  },
  {
   "cell_type": "code",
   "execution_count": 1,
   "id": "ddb74f83-bfa8-49ab-8edb-b47e1f28b1a6",
   "metadata": {},
   "outputs": [
    {
     "name": "stderr",
     "output_type": "stream",
     "text": [
      "\u001b[32m\u001b[1m  Activating\u001b[22m\u001b[39m project at `~/Desktop/julia_work/CHEME-4800-5800-Examples-AY-2024/week-12/L12a`\n",
      "\u001b[32m\u001b[1m  No Changes\u001b[22m\u001b[39m to `~/Desktop/julia_work/CHEME-4800-5800-Examples-AY-2024/week-12/L12a/Project.toml`\n",
      "\u001b[32m\u001b[1m  No Changes\u001b[22m\u001b[39m to `~/Desktop/julia_work/CHEME-4800-5800-Examples-AY-2024/week-12/L12a/Manifest.toml`\n",
      "\u001b[32m\u001b[1m    Updating\u001b[22m\u001b[39m registry at `~/.julia/registries/General.toml`\n",
      "\u001b[32m\u001b[1m  No Changes\u001b[22m\u001b[39m to `~/Desktop/julia_work/CHEME-4800-5800-Examples-AY-2024/week-12/L12a/Project.toml`\n",
      "\u001b[32m\u001b[1m  No Changes\u001b[22m\u001b[39m to `~/Desktop/julia_work/CHEME-4800-5800-Examples-AY-2024/week-12/L12a/Manifest.toml`\n"
     ]
    }
   ],
   "source": [
    "include(\"Include.jl\");"
   ]
  },
  {
   "cell_type": "markdown",
   "id": "fb807881-418b-468c-a62c-3e85551fc53a",
   "metadata": {},
   "source": [
    "## Prerequisites \n",
    "Before we can compute the primal and dual solutions to the flux problem, we need to load the stoichiometric matrix from the reaction file, in this case [Toy.net](data/Toy.net), i.e., the same example reaction network we used for `PS3`.\n",
    "\n",
    "* Our first step is to load the list of reactions. This is made easy with the `readreactionfile(...)` function. It takes the path to the reaction file, along with other arguments like comment characters and the delimiter character. The function then returns the reactions in a dictionary `R.`\n",
    "* From the reactions, we'll create the stoichiometric matrix model, stored in the variable `S,` specify which unknowns (columns) are measured and which are estimated. Then we'll construct the system matrix `Â` and the measurement matrix `B.`"
   ]
  },
  {
   "cell_type": "code",
   "execution_count": 2,
   "id": "778cfb7a-7b45-4c3a-a7eb-e7b8992b0178",
   "metadata": {},
   "outputs": [],
   "source": [
    "# Load the reaction file -\n",
    "path_to_reaction_file = joinpath(_PATH_TO_DATA, \"Toy.net\");\n",
    "R = readreactionfile(path_to_reaction_file, comment=\"//\", delim=',', expand = false);\n",
    "\n",
    "# build the stoichiometric matrix -\n",
    "S = build(MyStoichiometricMatrixModel, R);\n",
    "number_of_species = length(S.species)\n",
    "\n",
    "measured_columns = [3]; # we have measured these columns\n",
    "unkown_columns = setdiff(1:24, measured_columns); # we want to estimate these columns\n",
    "\n",
    "# build the system matrix -\n",
    "d = [1,1,-1]\n",
    "A = [S.matrix d[1]*diagm(ones(number_of_species)) d[2]*diagm(ones(number_of_species)) d[3]*diagm(ones(number_of_species))];\n",
    "\n",
    "Â = A[:,unkown_columns];\n",
    "B = A[:,measured_columns];"
   ]
  },
  {
   "cell_type": "markdown",
   "id": "b7f75d7c-af91-4289-b273-9a7bf71af8e6",
   "metadata": {},
   "source": [
    "Next, we'll need to specify values for the measurements. These values must be in the same order as the `measured_columns` array. Store this data in the `measurement` array:"
   ]
  },
  {
   "cell_type": "code",
   "execution_count": 3,
   "id": "dc1244c5-e163-4879-b08b-70ebff39b394",
   "metadata": {},
   "outputs": [],
   "source": [
    "measurement = [1.0]; # we want a unit of product formation"
   ]
  },
  {
   "cell_type": "markdown",
   "id": "ba0e7787-929e-4967-bddb-6c0870c28c4a",
   "metadata": {},
   "source": [
    "Finally, we'll create a list of stream labels in the `stream_label_vector` so we can make a table of the estimated solution later:"
   ]
  },
  {
   "cell_type": "code",
   "execution_count": 4,
   "id": "c69a04ec-07d0-469d-b0f5-cc2cd673a3e7",
   "metadata": {},
   "outputs": [],
   "source": [
    "stream_label_vector = [\n",
    "    \"ϵ̇₁\", \"ϵ̇₂\", \"ϵ̇₃\", \n",
    "    \"ṅ_A1_1\", \"ṅ_A2_1\", \"ṅ_B_1\", \"ṅ_C_1\", \"ṅ_P_1\", \"ṅ_x_1\", \"ṅ_y_1\",\n",
    "    \"ṅ_A1_2\", \"ṅ_A2_2\", \"ṅ_B_2\", \"ṅ_C_2\", \"ṅ_P_2\", \"ṅ_x_2\", \"ṅ_y_2\",\n",
    "    \"ṅ_A1_3\", \"ṅ_A2_3\", \"ṅ_B_3\", \"ṅ_C_3\", \"ṅ_P_3\", \"ṅ_x_3\", \"ṅ_y_3\"\n",
    "];\n",
    "label_vector = stream_label_vector[unkown_columns];"
   ]
  },
  {
   "cell_type": "code",
   "execution_count": 5,
   "id": "bc4bdcd9-d215-4b70-8131-ba4d211cd0f7",
   "metadata": {},
   "outputs": [],
   "source": [
    "(number_of_species, number_of_flows) = size(Â);"
   ]
  },
  {
   "cell_type": "markdown",
   "id": "d5c8070d-33e1-4c8f-9ca9-934469213cc3",
   "metadata": {},
   "source": [
    "## `Primal`: Compute the primal flux solution\n",
    "Let's solve the `primal` linear programming problem for the unknown values in our problem, i.e., the unmeasured mole flow rates and the open extents of reaction (assume there are `u` unmeasured values). The problem we are solving is a linear programming problem of the form:\n",
    "\n",
    "$$\n",
    "\\begin{eqnarray*}\n",
    "\\text{maximize}~\\mathcal{O}(\\mathbf{x}) &=& \\sum_{i=1}^{u} c_{i}\\cdot{x}_{i}\\\\\n",
    "\\text{subject to}~\\hat{\\mathbf{A}}\\cdot\\mathbf{x} &\\leq&-\\mathbf{B}\\cdot\\dot{\\mathbf{m}}\\\\\n",
    "\\text{and}~0\\leq{x_{i}}&\\leq&{U_{i}}\\qquad{i=1,2,\\dots,u}\n",
    "\\end{eqnarray*}\n",
    "$$\n",
    "\n",
    "where $x_{i}$ represent the unknown flow rates and open extents, $\\hat{\\mathbf{A}}$ is system matrix holding the unknown columns, $\\mathbf{B}$ is the measurement matrix (measured columns), $\\dot{\\mathbf{m}}$ is the measurement vector and $U_{i}$ is an _upper bound_ on each of the unknown flows. \n",
    "* The values of the coefficients in the objective function $c_{i}$ are specified by you to represent different problems. For example, suppose we wanted to __minimize__ the material that was required to meet a specified production target."
   ]
  },
  {
   "cell_type": "code",
   "execution_count": 6,
   "id": "c9ad1eaf-bfe3-4467-abec-62aa4b2d824d",
   "metadata": {},
   "outputs": [],
   "source": [
    "c = ones(number_of_flows); # we want to *minimize* the material usage. What?!?"
   ]
  },
  {
   "cell_type": "markdown",
   "id": "fd012498-90f4-4ff6-9239-fd28e4374fc3",
   "metadata": {},
   "source": [
    "### Setup the bounds on the unknown flows\n",
    "When dealing with unknown flow values in a system, specifying the lower and upper bounds for each is essential. These bounds are typically determined using physical or chemical reasoning. For example, we know that mole flows must be non-negative, or there is some maximum limit to a reaction rate, etc. \n",
    "* These values can be stored in an array named `bounds_primal.` The first column of the array corresponds to the lower bound, while the second column corresponds to the upper bound for the unknown variable $x_{i}$."
   ]
  },
  {
   "cell_type": "code",
   "execution_count": 7,
   "id": "e1066c9f-238d-4108-830a-32230abfc997",
   "metadata": {},
   "outputs": [],
   "source": [
    "bounds_primal = [\n",
    "\n",
    "    # --- reactions ---\n",
    "    0.0 100.0 ; # 1 1 ϵ̇₁\n",
    "    0.0 100.0 ; # 2 ϵ̇₂ \n",
    "    # 0.0 100.0 ; # 3 1 ϵ̇₃ we measured this\n",
    "    \n",
    "    # --- stream 1 -----\n",
    "    0.0 10.0 ; # 4 s1 A1\n",
    "    0.0 6.0  ; # 5 s1 A2\n",
    "    0.0 0.0  ; # 6 s1 B\n",
    "    0.0 0.0  ; # 7 s1 C\n",
    "    0.0 0.0  ; # 8 s1 P\n",
    "    0.0 0.0  ; # 9 s1 x\n",
    "    0.0 0.0  ; # 10 s1 y\n",
    "\n",
    "    # --- stream 2 -----\n",
    "    0.0 0.0  ; # 11 s2 A1\n",
    "    0.0 0.0  ; # 12 s2 A2\n",
    "    0.0 0.0  ; # 13 s2 B\n",
    "    0.0 0.0  ; # 14 s2 C\n",
    "    0.0 0.0  ; # 15 s2 P\n",
    "    0.0 10.0  ; # 16 s2 x\n",
    "    0.0 10.0  ; # 17 s2 y\n",
    "\n",
    "    # --- stream 3 (unbounded)\n",
    "    0.0 1000.0  ; # 18 s2 A1\n",
    "    0.0 1000.0  ; # 19 s2 A2\n",
    "    0.0 1000.0  ; # 20 s2 B\n",
    "    0.0 1000.0  ; # 21 s2 C\n",
    "    0.0 1000.0  ; # 22 s2 P\n",
    "    0.0 1000.0  ; # 23 s2 x\n",
    "    0.0 1000.0  ; # 24 s2 y\n",
    "];"
   ]
  },
  {
   "cell_type": "markdown",
   "id": "9170928b-6a3b-46d3-8686-e9d639bc2a1f",
   "metadata": {},
   "source": [
    "Next, we create an instance of the `MyLinearProgrammingProblemModel` model using a `build(...)` method and store this model in the `primal_problem` variable. \n",
    "* This model holds the data associated with the problem, e.g., the unknown system matrix `Â,` the right-hand side vector `-B*measurement,` the problem bounds, and the objective coefficients `c.`"
   ]
  },
  {
   "cell_type": "code",
   "execution_count": 8,
   "id": "9cb753f6-3025-49af-ba57-c4c82a33303d",
   "metadata": {},
   "outputs": [],
   "source": [
    "primal_problem = build(MyLinearProgrammingProblemModel, (\n",
    "    c = c,\n",
    "    A = Â,\n",
    "    b = -B*measurement,\n",
    "    lb = bounds_primal[:,1],\n",
    "    ub = bounds_primal[:,2]\n",
    "));"
   ]
  },
  {
   "cell_type": "markdown",
   "id": "677d9443-c01d-448e-aa98-e909800de426",
   "metadata": {},
   "source": [
    "Finally, we pass the `primal_problem` variable to the `solve(...)` method, which constructs the linear program using the [JuMP domain-specific language](https://jump.dev/). \n",
    "* The implementation of the `solve(...)` method is in the [src/Solver.jl](src/Solver.jl) file. It takes the data from the `primal_problem` instance, builds the various problem structures and returns the solution in a dictionary."
   ]
  },
  {
   "cell_type": "code",
   "execution_count": 9,
   "id": "55787548-c3c7-423b-a0ee-ea5bc421b2b6",
   "metadata": {},
   "outputs": [
    {
     "data": {
      "text/plain": [
       "Dict{String, Any} with 2 entries:\n",
       "  \"argmax\"          => [10.0, 10.0, 10.0, 6.0, 0.0, 0.0, 0.0, 0.0, 0.0, 0.0  … …\n",
       "  \"objective_value\" => 92.0"
      ]
     },
     "execution_count": 9,
     "metadata": {},
     "output_type": "execute_result"
    }
   ],
   "source": [
    "primal_soln = solve(primal_problem)"
   ]
  },
  {
   "cell_type": "markdown",
   "id": "7abf665b-74b0-4a62-b001-826d22bc17c3",
   "metadata": {},
   "source": [
    "`Unhide` the code block below to see how we make a table holding the `non-zero` flow values that we estimated using linear programming."
   ]
  },
  {
   "cell_type": "code",
   "execution_count": 10,
   "id": "519ca7dc-72c2-45c9-bb80-aaeed962ec37",
   "metadata": {
    "jupyter": {
     "source_hidden": true
    }
   },
   "outputs": [
    {
     "data": {
      "text/html": [
       "<div><div style = \"float: left;\"><span>11×2 DataFrame</span></div><div style = \"clear: both;\"></div></div><div class = \"data-frame\" style = \"overflow-x: scroll;\"><table class = \"data-frame\" style = \"margin-bottom: 6px;\"><thead><tr class = \"header\"><th class = \"rowNumber\" style = \"font-weight: bold; text-align: right;\">Row</th><th style = \"text-align: left;\">label</th><th style = \"text-align: left;\">value</th></tr><tr class = \"subheader headerLastRow\"><th class = \"rowNumber\" style = \"font-weight: bold; text-align: right;\"></th><th title = \"String\" style = \"text-align: left;\">String</th><th title = \"Float64\" style = \"text-align: left;\">Float64</th></tr></thead><tbody><tr><td class = \"rowNumber\" style = \"font-weight: bold; text-align: right;\">1</td><td style = \"text-align: left;\">ϵ̇₁</td><td style = \"text-align: right;\">10.0</td></tr><tr><td class = \"rowNumber\" style = \"font-weight: bold; text-align: right;\">2</td><td style = \"text-align: left;\">ϵ̇₂</td><td style = \"text-align: right;\">10.0</td></tr><tr><td class = \"rowNumber\" style = \"font-weight: bold; text-align: right;\">3</td><td style = \"text-align: left;\">ṅ_A1_1</td><td style = \"text-align: right;\">10.0</td></tr><tr><td class = \"rowNumber\" style = \"font-weight: bold; text-align: right;\">4</td><td style = \"text-align: left;\">ṅ_A2_1</td><td style = \"text-align: right;\">6.0</td></tr><tr><td class = \"rowNumber\" style = \"font-weight: bold; text-align: right;\">5</td><td style = \"text-align: left;\">ṅ_x_2</td><td style = \"text-align: right;\">10.0</td></tr><tr><td class = \"rowNumber\" style = \"font-weight: bold; text-align: right;\">6</td><td style = \"text-align: left;\">ṅ_y_2</td><td style = \"text-align: right;\">10.0</td></tr><tr><td class = \"rowNumber\" style = \"font-weight: bold; text-align: right;\">7</td><td style = \"text-align: left;\">ṅ_A2_3</td><td style = \"text-align: right;\">5.0</td></tr><tr><td class = \"rowNumber\" style = \"font-weight: bold; text-align: right;\">8</td><td style = \"text-align: left;\">ṅ_C_3</td><td style = \"text-align: right;\">1.0</td></tr><tr><td class = \"rowNumber\" style = \"font-weight: bold; text-align: right;\">9</td><td style = \"text-align: left;\">ṅ_P_3</td><td style = \"text-align: right;\">10.0</td></tr><tr><td class = \"rowNumber\" style = \"font-weight: bold; text-align: right;\">10</td><td style = \"text-align: left;\">ṅ_x_3</td><td style = \"text-align: right;\">1.0</td></tr><tr><td class = \"rowNumber\" style = \"font-weight: bold; text-align: right;\">11</td><td style = \"text-align: left;\">ṅ_y_3</td><td style = \"text-align: right;\">19.0</td></tr></tbody></table></div>"
      ],
      "text/latex": [
       "\\begin{tabular}{r|cc}\n",
       "\t& label & value\\\\\n",
       "\t\\hline\n",
       "\t& String & Float64\\\\\n",
       "\t\\hline\n",
       "\t1 & ϵ̇₁ & 10.0 \\\\\n",
       "\t2 & ϵ̇₂ & 10.0 \\\\\n",
       "\t3 & ṅ\\_A1\\_1 & 10.0 \\\\\n",
       "\t4 & ṅ\\_A2\\_1 & 6.0 \\\\\n",
       "\t5 & ṅ\\_x\\_2 & 10.0 \\\\\n",
       "\t6 & ṅ\\_y\\_2 & 10.0 \\\\\n",
       "\t7 & ṅ\\_A2\\_3 & 5.0 \\\\\n",
       "\t8 & ṅ\\_C\\_3 & 1.0 \\\\\n",
       "\t9 & ṅ\\_P\\_3 & 10.0 \\\\\n",
       "\t10 & ṅ\\_x\\_3 & 1.0 \\\\\n",
       "\t11 & ṅ\\_y\\_3 & 19.0 \\\\\n",
       "\\end{tabular}\n"
      ],
      "text/plain": [
       "\u001b[1m11×2 DataFrame\u001b[0m\n",
       "\u001b[1m Row \u001b[0m│\u001b[1m label  \u001b[0m\u001b[1m value   \u001b[0m\n",
       "     │\u001b[90m String \u001b[0m\u001b[90m Float64 \u001b[0m\n",
       "─────┼─────────────────\n",
       "   1 │ ϵ̇₁         10.0\n",
       "   2 │ ϵ̇₂         10.0\n",
       "   3 │ ṅ_A1_1     10.0\n",
       "   4 │ ṅ_A2_1      6.0\n",
       "   5 │ ṅ_x_2      10.0\n",
       "   6 │ ṅ_y_2      10.0\n",
       "   7 │ ṅ_A2_3      5.0\n",
       "   8 │ ṅ_C_3       1.0\n",
       "   9 │ ṅ_P_3      10.0\n",
       "  10 │ ṅ_x_3       1.0\n",
       "  11 │ ṅ_y_3      19.0"
      ]
     },
     "execution_count": 10,
     "metadata": {},
     "output_type": "execute_result"
    }
   ],
   "source": [
    "primal_soln_table = DataFrame();\n",
    "primal_flow = primal_soln[\"argmax\"]; # get the primal solution from the solution dictionary\n",
    "for i ∈ eachindex(unkown_columns)\n",
    "\n",
    "    if (primal_flow[i] != 0.0)\n",
    "        row_data = (\n",
    "            label=label_vector[i],\n",
    "            value = primal_flow[i]\n",
    "        );\n",
    "        push!(primal_soln_table, row_data);\n",
    "    end\n",
    "end\n",
    "primal_soln_table"
   ]
  }
 ],
 "metadata": {
  "kernelspec": {
   "display_name": "Julia 1.10.2",
   "language": "julia",
   "name": "julia-1.10"
  },
  "language_info": {
   "file_extension": ".jl",
   "mimetype": "application/julia",
   "name": "julia",
   "version": "1.10.2"
  }
 },
 "nbformat": 4,
 "nbformat_minor": 5
}
