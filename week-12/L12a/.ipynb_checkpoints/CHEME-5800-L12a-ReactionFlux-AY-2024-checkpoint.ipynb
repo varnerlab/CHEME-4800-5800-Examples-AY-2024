{
 "cells": [
  {
   "cell_type": "markdown",
   "id": "8596a8c3-2ae1-4516-9d36-f872d5404676",
   "metadata": {},
   "source": [
    "# Example: Compute the Primal and Dual Solution for a Reaction Flow Problem\n",
    "This example will familiarize students with using [linear programming](https://en.wikipedia.org/wiki/Linear_programming) to compute the `reaction flow` or `flux` through a chemical reaction network. "
   ]
  },
  {
   "cell_type": "markdown",
   "id": "8cb57e5f-32d0-42f8-9f61-ec5d840f2e36",
   "metadata": {},
   "source": [
    "## Setup\n",
    "This example requires several external libraries and a function to compute the outer product. Let's download and install these packages and call our `Include.jl` file."
   ]
  },
  {
   "cell_type": "code",
   "execution_count": 1,
   "id": "ddb74f83-bfa8-49ab-8edb-b47e1f28b1a6",
   "metadata": {},
   "outputs": [
    {
     "name": "stderr",
     "output_type": "stream",
     "text": [
      "\u001b[32m\u001b[1m  Activating\u001b[22m\u001b[39m project at `~/Desktop/julia_work/CHEME-4800-5800-Examples-AY-2024/week-12/L12a`\n",
      "\u001b[32m\u001b[1m  No Changes\u001b[22m\u001b[39m to `~/Desktop/julia_work/CHEME-4800-5800-Examples-AY-2024/week-12/L12a/Project.toml`\n",
      "\u001b[32m\u001b[1m  No Changes\u001b[22m\u001b[39m to `~/Desktop/julia_work/CHEME-4800-5800-Examples-AY-2024/week-12/L12a/Manifest.toml`\n",
      "\u001b[32m\u001b[1m    Updating\u001b[22m\u001b[39m registry at `~/.julia/registries/General.toml`\n",
      "\u001b[32m\u001b[1m  No Changes\u001b[22m\u001b[39m to `~/Desktop/julia_work/CHEME-4800-5800-Examples-AY-2024/week-12/L12a/Project.toml`\n",
      "\u001b[32m\u001b[1m  No Changes\u001b[22m\u001b[39m to `~/Desktop/julia_work/CHEME-4800-5800-Examples-AY-2024/week-12/L12a/Manifest.toml`\n"
     ]
    }
   ],
   "source": [
    "include(\"Include.jl\");"
   ]
  },
  {
   "cell_type": "markdown",
   "id": "fb807881-418b-468c-a62c-3e85551fc53a",
   "metadata": {},
   "source": [
    "## Prerequisites \n",
    "Before we can compute the primal and dual solutions to the flux problem, we need to load the stoichiometric matrix from the reaction file, in this case [Toy.net](data/Toy.net), i.e., the same example reaction network that we used for `PS3`."
   ]
  },
  {
   "cell_type": "code",
   "execution_count": 2,
   "id": "778cfb7a-7b45-4c3a-a7eb-e7b8992b0178",
   "metadata": {},
   "outputs": [],
   "source": [
    "# Load the reaction file -\n",
    "path_to_reaction_file = joinpath(_PATH_TO_DATA, \"Toy.net\");\n",
    "R = readreactionfile(path_to_reaction_file, comment=\"//\", delim=',', expand = false);\n",
    "\n",
    "# build the stoichiometric matrix -\n",
    "S = build(MyStoichiometricMatrixModel, R);\n",
    "number_of_species = length(S.species)\n",
    "\n",
    "# build the system matrix -\n",
    "d = [1,1,-1]\n",
    "A = [S.matrix d[1]*diagm(ones(number_of_species)) d[2]*diagm(ones(number_of_species)) d[3]*diagm(ones(number_of_species))];"
   ]
  },
  {
   "cell_type": "code",
   "execution_count": 3,
   "id": "1dd5130e-fbd6-4460-9bd6-3f90b8ec15a1",
   "metadata": {},
   "outputs": [
    {
     "data": {
      "text/plain": [
       "Dict{Int64, MyChemicalReactionModel} with 3 entries:\n",
       "  2 => MyChemicalReactionModel(\"v2\", \"B\", \"P\", false, Dict(\"B\"=>-1.0, \"P\"=>1.0))\n",
       "  3 => MyChemicalReactionModel(\"v3\", \"A2+y\", \"C+x\", false, Dict(\"A2\"=>-1.0, \"C\"…\n",
       "  1 => MyChemicalReactionModel(\"v1\", \"A1+x\", \"B+y\", false, Dict(\"B\"=>1.0, \"A1\"=…"
      ]
     },
     "execution_count": 3,
     "metadata": {},
     "output_type": "execute_result"
    }
   ],
   "source": [
    "R"
   ]
  },
  {
   "cell_type": "code",
   "execution_count": 4,
   "id": "c69a04ec-07d0-469d-b0f5-cc2cd673a3e7",
   "metadata": {},
   "outputs": [],
   "source": [
    "stream_label_vector = [\n",
    "    \"ϵ̇₁\", \"ϵ̇₂\", \"ϵ̇₃\", \n",
    "    \"ṅ_A1_1\", \"ṅ_A2_1\", \"ṅ_B_1\", \"ṅ_C_1\", \"ṅ_P_1\", \"ṅ_x_1\", \"ṅ_y_1\",\n",
    "    \"ṅ_A1_2\", \"ṅ_A2_2\", \"ṅ_B_2\", \"ṅ_C_2\", \"ṅ_P_2\", \"ṅ_x_2\", \"ṅ_y_2\",\n",
    "    \"ṅ_A1_3\", \"ṅ_A2_3\", \"ṅ_B_3\", \"ṅ_C_3\", \"ṅ_P_3\", \"ṅ_x_3\", \"ṅ_y_3\"\n",
    "];"
   ]
  },
  {
   "cell_type": "markdown",
   "id": "d5c8070d-33e1-4c8f-9ca9-934469213cc3",
   "metadata": {},
   "source": [
    "## Compute the primal flux solution\n",
    "Fill me in"
   ]
  },
  {
   "cell_type": "code",
   "execution_count": 5,
   "id": "c83a2a9e-1cc1-42d6-bf4f-77f9d4e5ccff",
   "metadata": {},
   "outputs": [],
   "source": [
    "(number_of_species, number_of_flows) = size(A);"
   ]
  },
  {
   "cell_type": "code",
   "execution_count": 6,
   "id": "c9ad1eaf-bfe3-4467-abec-62aa4b2d824d",
   "metadata": {},
   "outputs": [],
   "source": [
    "c = zeros(number_of_flows);\n",
    "c[2] = 1.0; # we want to maximize the flux through reaction v3"
   ]
  },
  {
   "cell_type": "markdown",
   "id": "fd012498-90f4-4ff6-9239-fd28e4374fc3",
   "metadata": {},
   "source": [
    "### Setup the bounds on the flows"
   ]
  },
  {
   "cell_type": "code",
   "execution_count": 7,
   "id": "e1066c9f-238d-4108-830a-32230abfc997",
   "metadata": {},
   "outputs": [],
   "source": [
    "bounds_primal = [\n",
    "\n",
    "    # --- reactions ---\n",
    "    0.0 100.0 ; # 1 ϵ̇₁\n",
    "    0.0 100.0 ; # 2 ϵ̇₂\n",
    "    0.0 100.0 ; # 3 ϵ̇₃\n",
    "    \n",
    "    # --- stream 1 -----\n",
    "    0.0 10.0 ; # 4 s1 A1\n",
    "    0.0 6.0  ; # 5 s1 A2\n",
    "    0.0 0.0  ; # 6 s1 B\n",
    "    0.0 0.0  ; # 7 s1 C\n",
    "    0.0 0.0  ; # 8 s1 P\n",
    "    0.0 0.0  ; # 9 s1 x\n",
    "    0.0 0.0  ; # 10 s1 y\n",
    "\n",
    "    # --- stream 2 -----\n",
    "    0.0 0.0  ; # 11 s2 A1\n",
    "    0.0 0.0  ; # 12 s2 A2\n",
    "    0.0 0.0  ; # 13 s2 B\n",
    "    0.0 0.0  ; # 14 s2 C\n",
    "    0.0 0.0  ; # 15 s2 P\n",
    "    0.0 1.0  ; # 16 s2 x\n",
    "    0.0 0.0  ; # 17 s2 y\n",
    "\n",
    "    # --- stream 3 -----\n",
    "    0.0 100.0  ; # 18 s2 A1\n",
    "    0.0 100.0  ; # 19 s2 A2\n",
    "    0.0 100.0  ; # 20 s2 B\n",
    "    0.0 100.0  ; # 21 s2 C\n",
    "    0.0 100.0  ; # 22 s2 P\n",
    "    0.0 100.0  ; # 23 s2 x\n",
    "    0.0 100.0  ; # 24 s2 y\n",
    "];"
   ]
  },
  {
   "cell_type": "code",
   "execution_count": 8,
   "id": "9cb753f6-3025-49af-ba57-c4c82a33303d",
   "metadata": {},
   "outputs": [],
   "source": [
    "primal_problem = build(MyLinearProgrammingProblemModel, (\n",
    "    c = c,\n",
    "    A = A,\n",
    "    b = zeros(number_of_species),\n",
    "    lb = bounds_primal[:,1],\n",
    "    ub = bounds_primal[:,2]\n",
    "));"
   ]
  },
  {
   "cell_type": "code",
   "execution_count": 9,
   "id": "55787548-c3c7-423b-a0ee-ea5bc421b2b6",
   "metadata": {},
   "outputs": [
    {
     "data": {
      "text/plain": [
       "Dict{String, Any} with 2 entries:\n",
       "  \"argmax\"          => [6.0, 6.0, 6.0, 6.0, 0.0, 0.0, 0.0, 0.0, 0.0, 0.0  …  0.…\n",
       "  \"objective_value\" => 6.0"
      ]
     },
     "execution_count": 9,
     "metadata": {},
     "output_type": "execute_result"
    }
   ],
   "source": [
    "primal_soln = solve(primal_problem)"
   ]
  },
  {
   "cell_type": "code",
   "execution_count": 13,
   "id": "519ca7dc-72c2-45c9-bb80-aaeed962ec37",
   "metadata": {},
   "outputs": [
    {
     "data": {
      "text/html": [
       "<div><div style = \"float: left;\"><span>24×2 DataFrame</span></div><div style = \"clear: both;\"></div></div><div class = \"data-frame\" style = \"overflow-x: scroll;\"><table class = \"data-frame\" style = \"margin-bottom: 6px;\"><thead><tr class = \"header\"><th class = \"rowNumber\" style = \"font-weight: bold; text-align: right;\">Row</th><th style = \"text-align: left;\">label</th><th style = \"text-align: left;\">value</th></tr><tr class = \"subheader headerLastRow\"><th class = \"rowNumber\" style = \"font-weight: bold; text-align: right;\"></th><th title = \"String\" style = \"text-align: left;\">String</th><th title = \"Float64\" style = \"text-align: left;\">Float64</th></tr></thead><tbody><tr><td class = \"rowNumber\" style = \"font-weight: bold; text-align: right;\">1</td><td style = \"text-align: left;\">ϵ̇₁</td><td style = \"text-align: right;\">6.0</td></tr><tr><td class = \"rowNumber\" style = \"font-weight: bold; text-align: right;\">2</td><td style = \"text-align: left;\">ϵ̇₂</td><td style = \"text-align: right;\">6.0</td></tr><tr><td class = \"rowNumber\" style = \"font-weight: bold; text-align: right;\">3</td><td style = \"text-align: left;\">ϵ̇₃</td><td style = \"text-align: right;\">6.0</td></tr><tr><td class = \"rowNumber\" style = \"font-weight: bold; text-align: right;\">4</td><td style = \"text-align: left;\">ṅ_A1_1</td><td style = \"text-align: right;\">6.0</td></tr><tr><td class = \"rowNumber\" style = \"font-weight: bold; text-align: right;\">5</td><td style = \"text-align: left;\">ṅ_A2_1</td><td style = \"text-align: right;\">0.0</td></tr><tr><td class = \"rowNumber\" style = \"font-weight: bold; text-align: right;\">6</td><td style = \"text-align: left;\">ṅ_B_1</td><td style = \"text-align: right;\">0.0</td></tr><tr><td class = \"rowNumber\" style = \"font-weight: bold; text-align: right;\">7</td><td style = \"text-align: left;\">ṅ_C_1</td><td style = \"text-align: right;\">0.0</td></tr><tr><td class = \"rowNumber\" style = \"font-weight: bold; text-align: right;\">8</td><td style = \"text-align: left;\">ṅ_P_1</td><td style = \"text-align: right;\">0.0</td></tr><tr><td class = \"rowNumber\" style = \"font-weight: bold; text-align: right;\">9</td><td style = \"text-align: left;\">ṅ_x_1</td><td style = \"text-align: right;\">0.0</td></tr><tr><td class = \"rowNumber\" style = \"font-weight: bold; text-align: right;\">10</td><td style = \"text-align: left;\">ṅ_y_1</td><td style = \"text-align: right;\">0.0</td></tr><tr><td class = \"rowNumber\" style = \"font-weight: bold; text-align: right;\">11</td><td style = \"text-align: left;\">ṅ_A1_2</td><td style = \"text-align: right;\">0.0</td></tr><tr><td class = \"rowNumber\" style = \"font-weight: bold; text-align: right;\">12</td><td style = \"text-align: left;\">ṅ_A2_2</td><td style = \"text-align: right;\">6.0</td></tr><tr><td class = \"rowNumber\" style = \"font-weight: bold; text-align: right;\">13</td><td style = \"text-align: left;\">ṅ_B_2</td><td style = \"text-align: right;\">0.0</td></tr><tr><td class = \"rowNumber\" style = \"font-weight: bold; text-align: right;\">14</td><td style = \"text-align: left;\">ṅ_C_2</td><td style = \"text-align: right;\">0.0</td></tr><tr><td class = \"rowNumber\" style = \"font-weight: bold; text-align: right;\">15</td><td style = \"text-align: left;\">ṅ_P_2</td><td style = \"text-align: right;\">0.0</td></tr><tr><td class = \"rowNumber\" style = \"font-weight: bold; text-align: right;\">16</td><td style = \"text-align: left;\">ṅ_x_2</td><td style = \"text-align: right;\">0.0</td></tr><tr><td class = \"rowNumber\" style = \"font-weight: bold; text-align: right;\">17</td><td style = \"text-align: left;\">ṅ_y_2</td><td style = \"text-align: right;\">0.0</td></tr><tr><td class = \"rowNumber\" style = \"font-weight: bold; text-align: right;\">18</td><td style = \"text-align: left;\">ṅ_A1_3</td><td style = \"text-align: right;\">0.0</td></tr><tr><td class = \"rowNumber\" style = \"font-weight: bold; text-align: right;\">19</td><td style = \"text-align: left;\">ṅ_A2_3</td><td style = \"text-align: right;\">0.0</td></tr><tr><td class = \"rowNumber\" style = \"font-weight: bold; text-align: right;\">20</td><td style = \"text-align: left;\">ṅ_B_3</td><td style = \"text-align: right;\">0.0</td></tr><tr><td class = \"rowNumber\" style = \"font-weight: bold; text-align: right;\">21</td><td style = \"text-align: left;\">ṅ_C_3</td><td style = \"text-align: right;\">6.0</td></tr><tr><td class = \"rowNumber\" style = \"font-weight: bold; text-align: right;\">22</td><td style = \"text-align: left;\">ṅ_P_3</td><td style = \"text-align: right;\">6.0</td></tr><tr><td class = \"rowNumber\" style = \"font-weight: bold; text-align: right;\">23</td><td style = \"text-align: left;\">ṅ_x_3</td><td style = \"text-align: right;\">0.0</td></tr><tr><td class = \"rowNumber\" style = \"font-weight: bold; text-align: right;\">24</td><td style = \"text-align: left;\">ṅ_y_3</td><td style = \"text-align: right;\">0.0</td></tr></tbody></table></div>"
      ],
      "text/latex": [
       "\\begin{tabular}{r|cc}\n",
       "\t& label & value\\\\\n",
       "\t\\hline\n",
       "\t& String & Float64\\\\\n",
       "\t\\hline\n",
       "\t1 & ϵ̇₁ & 6.0 \\\\\n",
       "\t2 & ϵ̇₂ & 6.0 \\\\\n",
       "\t3 & ϵ̇₃ & 6.0 \\\\\n",
       "\t4 & ṅ\\_A1\\_1 & 6.0 \\\\\n",
       "\t5 & ṅ\\_A2\\_1 & 0.0 \\\\\n",
       "\t6 & ṅ\\_B\\_1 & 0.0 \\\\\n",
       "\t7 & ṅ\\_C\\_1 & 0.0 \\\\\n",
       "\t8 & ṅ\\_P\\_1 & 0.0 \\\\\n",
       "\t9 & ṅ\\_x\\_1 & 0.0 \\\\\n",
       "\t10 & ṅ\\_y\\_1 & 0.0 \\\\\n",
       "\t11 & ṅ\\_A1\\_2 & 0.0 \\\\\n",
       "\t12 & ṅ\\_A2\\_2 & 6.0 \\\\\n",
       "\t13 & ṅ\\_B\\_2 & 0.0 \\\\\n",
       "\t14 & ṅ\\_C\\_2 & 0.0 \\\\\n",
       "\t15 & ṅ\\_P\\_2 & 0.0 \\\\\n",
       "\t16 & ṅ\\_x\\_2 & 0.0 \\\\\n",
       "\t17 & ṅ\\_y\\_2 & 0.0 \\\\\n",
       "\t18 & ṅ\\_A1\\_3 & 0.0 \\\\\n",
       "\t19 & ṅ\\_A2\\_3 & 0.0 \\\\\n",
       "\t20 & ṅ\\_B\\_3 & 0.0 \\\\\n",
       "\t21 & ṅ\\_C\\_3 & 6.0 \\\\\n",
       "\t22 & ṅ\\_P\\_3 & 6.0 \\\\\n",
       "\t23 & ṅ\\_x\\_3 & 0.0 \\\\\n",
       "\t24 & ṅ\\_y\\_3 & 0.0 \\\\\n",
       "\\end{tabular}\n"
      ],
      "text/plain": [
       "\u001b[1m24×2 DataFrame\u001b[0m\n",
       "\u001b[1m Row \u001b[0m│\u001b[1m label  \u001b[0m\u001b[1m value   \u001b[0m\n",
       "     │\u001b[90m String \u001b[0m\u001b[90m Float64 \u001b[0m\n",
       "─────┼─────────────────\n",
       "   1 │ ϵ̇₁          6.0\n",
       "   2 │ ϵ̇₂          6.0\n",
       "   3 │ ϵ̇₃          6.0\n",
       "   4 │ ṅ_A1_1      6.0\n",
       "   5 │ ṅ_A2_1      0.0\n",
       "   6 │ ṅ_B_1       0.0\n",
       "   7 │ ṅ_C_1       0.0\n",
       "   8 │ ṅ_P_1       0.0\n",
       "   9 │ ṅ_x_1       0.0\n",
       "  10 │ ṅ_y_1       0.0\n",
       "  11 │ ṅ_A1_2      0.0\n",
       "  ⋮  │   ⋮        ⋮\n",
       "  15 │ ṅ_P_2       0.0\n",
       "  16 │ ṅ_x_2       0.0\n",
       "  17 │ ṅ_y_2       0.0\n",
       "  18 │ ṅ_A1_3      0.0\n",
       "  19 │ ṅ_A2_3      0.0\n",
       "  20 │ ṅ_B_3       0.0\n",
       "  21 │ ṅ_C_3       6.0\n",
       "  22 │ ṅ_P_3       6.0\n",
       "  23 │ ṅ_x_3       0.0\n",
       "  24 │ ṅ_y_3       0.0\n",
       "\u001b[36m         3 rows omitted\u001b[0m"
      ]
     },
     "execution_count": 13,
     "metadata": {},
     "output_type": "execute_result"
    }
   ],
   "source": [
    "primal_soln_table = DataFrame();\n",
    "primal_flow = primal_soln[\"argmax\"]; # get the primal solution from the solution dictionary\n",
    "for i ∈ 1:number_of_flows\n",
    "    row_data = (\n",
    "        label=stream_label_vector[i],\n",
    "        value = primal_flow[i]\n",
    "    );\n",
    "    push!(primal_soln_table, row_data);\n",
    "end\n",
    "primal_soln_table"
   ]
  },
  {
   "cell_type": "code",
   "execution_count": null,
   "id": "a9491452-33d0-4030-8199-3c7c56708190",
   "metadata": {},
   "outputs": [],
   "source": []
  }
 ],
 "metadata": {
  "kernelspec": {
   "display_name": "Julia 1.10.2",
   "language": "julia",
   "name": "julia-1.10"
  },
  "language_info": {
   "file_extension": ".jl",
   "mimetype": "application/julia",
   "name": "julia",
   "version": "1.10.2"
  }
 },
 "nbformat": 4,
 "nbformat_minor": 5
}
