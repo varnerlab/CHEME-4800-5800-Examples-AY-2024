{
 "cells": [
  {
   "cell_type": "markdown",
   "id": "a03d8190-84be-4691-9263-9d2ad9eb6169",
   "metadata": {},
   "source": [
    "# Example: Compute the Dual Solution of the Apple versus Oranges Problem\n",
    "This example will familiarize students with the [linear programming dual problem](https://en.wikipedia.org/wiki/Dual_linear_program), and the relationship between the `primal` and `dual` solution to a linear program."
   ]
  },
  {
   "cell_type": "markdown",
   "id": "6f8dd3b7-66b0-4216-a157-35cbc762798d",
   "metadata": {},
   "source": [
    "## Setup\n",
    "This example requires several external libraries and a function to compute the outer product. Let's download and install these packages and call our `Include.jl` file."
   ]
  },
  {
   "cell_type": "code",
   "execution_count": 1,
   "id": "894ffc86-e268-4e4b-8831-b44902c0267f",
   "metadata": {},
   "outputs": [
    {
     "name": "stderr",
     "output_type": "stream",
     "text": [
      "\u001b[32m\u001b[1m  Activating\u001b[22m\u001b[39m project at `~/Desktop/julia_work/CHEME-4800-5800-Examples-AY-2024/week-12/L12a`\n",
      "\u001b[32m\u001b[1m  No Changes\u001b[22m\u001b[39m to `~/Desktop/julia_work/CHEME-4800-5800-Examples-AY-2024/week-12/L12a/Project.toml`\n",
      "\u001b[32m\u001b[1m  No Changes\u001b[22m\u001b[39m to `~/Desktop/julia_work/CHEME-4800-5800-Examples-AY-2024/week-12/L12a/Manifest.toml`\n",
      "\u001b[32m\u001b[1m    Updating\u001b[22m\u001b[39m registry at `~/.julia/registries/General.toml`\n",
      "\u001b[32m\u001b[1m  No Changes\u001b[22m\u001b[39m to `~/Desktop/julia_work/CHEME-4800-5800-Examples-AY-2024/week-12/L12a/Project.toml`\n",
      "\u001b[32m\u001b[1m  No Changes\u001b[22m\u001b[39m to `~/Desktop/julia_work/CHEME-4800-5800-Examples-AY-2024/week-12/L12a/Manifest.toml`\n"
     ]
    }
   ],
   "source": [
    "include(\"Include.jl\");"
   ]
  },
  {
   "cell_type": "markdown",
   "id": "4280fc48-5d4c-4b17-9e89-182fcad3f1af",
   "metadata": {},
   "source": [
    "## Prerequisites\n",
    "Let's set the prices, $\\alpha_{i}$, and budget for our `Apple` versus `Oranges` problem. We'll store the prices in the `c` array and the coefficients in the utility function in the `α` variable.\n",
    "* The $\\alpha_{i}$ coefficients (because we have a linear utility function) are the [marginal utilities](https://en.wikipedia.org/wiki/Marginal_utility), i.e., they tell us the satisfaction we gain from consuming an additional unit of good $i$."
   ]
  },
  {
   "cell_type": "code",
   "execution_count": 23,
   "id": "838818dd-8d87-4c3c-9508-e5a3fb1eb350",
   "metadata": {},
   "outputs": [],
   "source": [
    "# α = [0.55, 0.45]; # coefficients for case A\n",
    "α = [0.15, 0.55]; # coefficients for case B\n",
    "# α = [2.0, 4.0]; # coefficients for case C\n",
    "c = [2.0 4.0]; # unit price of an Apple and an Orange\n",
    "total_budget = 100.0; # total budget that we can spend"
   ]
  },
  {
   "cell_type": "markdown",
   "id": "6c51fbeb-cbce-4886-bb4b-fbc28396bb1c",
   "metadata": {},
   "source": [
    "## Primal solution to the `Apple` versus `Oranges` problem"
   ]
  },
  {
   "cell_type": "code",
   "execution_count": 25,
   "id": "0701008a-7a48-458c-97a3-3166b302ed4a",
   "metadata": {},
   "outputs": [
    {
     "data": {
      "text/plain": [
       "Dict{String, Any} with 2 entries:\n",
       "  \"argmax\"          => [0.0, 25.0]\n",
       "  \"objective_value\" => 13.75"
      ]
     },
     "execution_count": 25,
     "metadata": {},
     "output_type": "execute_result"
    }
   ],
   "source": [
    "# bounds on the choice variables -\n",
    "bounds = [\n",
    "    0.0 100.0; # L U\n",
    "    0.0 100.0; # L U\n",
    "]\n",
    "\n",
    "# build my problem object -\n",
    "primal_problem = build(MyLinearProgrammingProblemModel, (\n",
    "    \n",
    "    c = α, # coefficients in Utility function\n",
    "    A = c, # unit prices of x1 and x2 (we need this as a matrix in this formulation)\n",
    "    b = [total_budget], # budge is the right-hand side\n",
    "    \n",
    "    # how much of x₁ and x₂ can be we buy?\n",
    "    lb = bounds[:,1],\n",
    "    ub = bounds[:,2]\n",
    "));\n",
    "\n",
    "# call the solve function with the problem object\n",
    "# This will return a dictionary holding the primal problem solution\n",
    "primal_solution = solve(primal_problem)"
   ]
  },
  {
   "cell_type": "markdown",
   "id": "90a97b9c-4462-4cf6-9f99-b50e525d5359",
   "metadata": {},
   "source": [
    "## Compute the `symmetric dual` solution to the `Apples` versus `Oranges` problem"
   ]
  },
  {
   "cell_type": "code",
   "execution_count": 28,
   "id": "f9af9757-601a-4c02-9e55-dccea27179bb",
   "metadata": {},
   "outputs": [],
   "source": [
    "dual_problem = build(MyLinearProgrammingDualProblemModel, (\n",
    "    c = α,\n",
    "    A = c,\n",
    "    b = [total_budget],\n",
    "    lb = bounds[:,1],\n",
    "    ub = bounds[:,2]\n",
    "));\n",
    "\n",
    "dual_solution = solve(dual_problem);"
   ]
  },
  {
   "cell_type": "code",
   "execution_count": 27,
   "id": "a425755c-ace7-4d7e-9d48-756e1d8a9343",
   "metadata": {},
   "outputs": [
    {
     "data": {
      "text/plain": [
       "Dict{String, Any} with 2 entries:\n",
       "  \"argmin\"          => [0.1375]\n",
       "  \"objective_value\" => 13.75"
      ]
     },
     "execution_count": 27,
     "metadata": {},
     "output_type": "execute_result"
    }
   ],
   "source": [
    "dual_solution"
   ]
  },
  {
   "cell_type": "code",
   "execution_count": 29,
   "id": "742df604-caf9-4269-84a8-85676d8d4519",
   "metadata": {},
   "outputs": [
    {
     "data": {
      "text/plain": [
       "(0.075, 0.1375)"
      ]
     },
     "execution_count": 29,
     "metadata": {},
     "output_type": "execute_result"
    }
   ],
   "source": [
    "(α[1]/c[1],α[2]/c[2])"
   ]
  }
 ],
 "metadata": {
  "kernelspec": {
   "display_name": "Julia 1.10.2",
   "language": "julia",
   "name": "julia-1.10"
  },
  "language_info": {
   "file_extension": ".jl",
   "mimetype": "application/julia",
   "name": "julia",
   "version": "1.10.2"
  }
 },
 "nbformat": 4,
 "nbformat_minor": 5
}
