{
 "cells": [
  {
   "cell_type": "markdown",
   "id": "a03d8190-84be-4691-9263-9d2ad9eb6169",
   "metadata": {},
   "source": [
    "# Example: Compute the Dual Solution of the Apple versus Oranges Problem\n",
    "This example will familiarize students with the [linear programming dual problem](https://en.wikipedia.org/wiki/Dual_linear_program), and the relationship between the `primal` and `dual` solution to a linear program."
   ]
  },
  {
   "cell_type": "markdown",
   "id": "6f8dd3b7-66b0-4216-a157-35cbc762798d",
   "metadata": {},
   "source": [
    "## Setup\n",
    "This example requires several external libraries and a function to compute the outer product. Let's download and install these packages and call our `Include.jl` file."
   ]
  },
  {
   "cell_type": "code",
   "execution_count": null,
   "id": "894ffc86-e268-4e4b-8831-b44902c0267f",
   "metadata": {},
   "outputs": [],
   "source": [
    "include(\"Include.jl"
   ]
  }
 ],
 "metadata": {
  "kernelspec": {
   "display_name": "Julia 1.10.2",
   "language": "julia",
   "name": "julia-1.10"
  },
  "language_info": {
   "file_extension": ".jl",
   "mimetype": "application/julia",
   "name": "julia",
   "version": "1.10.2"
  }
 },
 "nbformat": 4,
 "nbformat_minor": 5
}
