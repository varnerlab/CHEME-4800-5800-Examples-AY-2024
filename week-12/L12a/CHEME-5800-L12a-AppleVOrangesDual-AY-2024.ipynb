{
 "cells": [
  {
   "cell_type": "markdown",
   "id": "a03d8190-84be-4691-9263-9d2ad9eb6169",
   "metadata": {},
   "source": [
    "# Example: Compute the Dual Solution of the Apple versus Oranges Problem\n",
    "This example will familiarize students with the [linear programming dual problem](https://en.wikipedia.org/wiki/Dual_linear_program), and the relationship between the `primal` and `dual` solution to a linear program."
   ]
  },
  {
   "cell_type": "markdown",
   "id": "6f8dd3b7-66b0-4216-a157-35cbc762798d",
   "metadata": {},
   "source": [
    "## Setup\n",
    "This example requires several external libraries and a function to compute the outer product. Let's download and install these packages and call our `Include.jl` file."
   ]
  },
  {
   "cell_type": "code",
   "execution_count": 1,
   "id": "894ffc86-e268-4e4b-8831-b44902c0267f",
   "metadata": {},
   "outputs": [
    {
     "name": "stderr",
     "output_type": "stream",
     "text": [
      "\u001b[32m\u001b[1m  Activating\u001b[22m\u001b[39m project at `~/Desktop/julia_work/CHEME-4800-5800-Examples-AY-2024/week-12/L12a`\n",
      "\u001b[32m\u001b[1m  No Changes\u001b[22m\u001b[39m to `~/Desktop/julia_work/CHEME-4800-5800-Examples-AY-2024/week-12/L12a/Project.toml`\n",
      "\u001b[32m\u001b[1m  No Changes\u001b[22m\u001b[39m to `~/Desktop/julia_work/CHEME-4800-5800-Examples-AY-2024/week-12/L12a/Manifest.toml`\n",
      "\u001b[32m\u001b[1m    Updating\u001b[22m\u001b[39m registry at `~/.julia/registries/General.toml`\n",
      "\u001b[32m\u001b[1m  No Changes\u001b[22m\u001b[39m to `~/Desktop/julia_work/CHEME-4800-5800-Examples-AY-2024/week-12/L12a/Project.toml`\n",
      "\u001b[32m\u001b[1m  No Changes\u001b[22m\u001b[39m to `~/Desktop/julia_work/CHEME-4800-5800-Examples-AY-2024/week-12/L12a/Manifest.toml`\n"
     ]
    }
   ],
   "source": [
    "include(\"Include.jl\");"
   ]
  },
  {
   "cell_type": "markdown",
   "id": "4280fc48-5d4c-4b17-9e89-182fcad3f1af",
   "metadata": {},
   "source": [
    "## Prerequisites\n",
    "Let's set the prices, $\\alpha_{i}$, and budget for our `Apple` versus `Oranges` problem. We'll store the prices in the `c` array and the coefficients in the utility function in the `α` variable.\n",
    "* The $\\alpha_{i}$ coefficients (because we have a linear utility function) are the [marginal utilities](https://en.wikipedia.org/wiki/Marginal_utility), i.e., they tell us the satisfaction we gain from consuming an additional unit of good $i$. They have units of `utils/qty`\n",
    "* The $c_{i}$ coefficients represent the unit cost of each good, e.g., the cost of a single apple or orange. The $c_{i}$ coefficients have units of `USD/qty.`\n",
    "* Finally, the `total_budget` variable holds the amount of money we spend on apples and oranges. The `total_budget` has units of `USD`."
   ]
  },
  {
   "cell_type": "code",
   "execution_count": 2,
   "id": "838818dd-8d87-4c3c-9508-e5a3fb1eb350",
   "metadata": {},
   "outputs": [],
   "source": [
    "# α = [0.55, 0.45]; # coefficients for case A (apples only)\n",
    "α = [0.15, 0.55]; # coefficients for case B (oranges only)\n",
    "# α = [2.0, 4.0]; # coefficients for case C (both)\n",
    "c = [2.0 4.0]; # unit price of an Apple and an Orange\n",
    "total_budget = 100.0; # total budget that we can spend"
   ]
  },
  {
   "cell_type": "markdown",
   "id": "6c51fbeb-cbce-4886-bb4b-fbc28396bb1c",
   "metadata": {},
   "source": [
    "## `Primal` solution to the apple versus oranges problem\n",
    "Let's solve the `primal` linear programming problem for the unknown values in our problem, i.e., the number of apples or oranges we should purchase to maximize our happiness function. The problem we are solving is a linear programming problem of the form:\n",
    "\n",
    "$$\n",
    "\\begin{eqnarray*}\n",
    "\\text{maximize}~\\mathcal{O}(\\mathbf{x}) &=& U\\left(x_{1},\\dots,x_{n}\\right) \\\\\n",
    "\\text{subject to}~\\sum_{i\\in{1,\\dotsc,n}}c_{i}\\cdot{x}_{i} & = & I\\\\\n",
    "\\text{and}~x_{i}&\\geq&{0}\\qquad{i=1,2,\\dots,n}\n",
    "\\end{eqnarray*}\n",
    "$$\n",
    "\n",
    "The $c_{i}\\geq{0}~\\forall{i}$ denotes the cost of the object $i$, $x_{i}\\geq{0}$ represents \n",
    "the amount of object $i$ purchased or consumed by the agent, and $I$ represent the budget that we have to spend. In this case, we'll use a __linear__ Utility function of the form:\n",
    "\n",
    "$$\n",
    "U(x) = \\alpha_{1}\\cdot{x}_{1}+\\alpha_{2}\\cdot{x}_{2}\n",
    "$$\n",
    "\n",
    "where $\\alpha_{1}$ are the marginal utilities, $x_{1}$ denotes the quantity of `apples = 1`, and $x_{2}$ represents the number of `oranges = 2` that we purchase."
   ]
  },
  {
   "cell_type": "markdown",
   "id": "31bb2ef8-6a51-4ebd-9c36-3d00faee7a25",
   "metadata": {},
   "source": [
    "To solve this problem, let's first specify the bounds of the variables in the `bounds` variable. The first column of the array corresponds to the lower bound, while the second column corresponds to the upper bound for the unknown variable(s) $x_{i}$."
   ]
  },
  {
   "cell_type": "code",
   "execution_count": 3,
   "id": "0701008a-7a48-458c-97a3-3166b302ed4a",
   "metadata": {},
   "outputs": [],
   "source": [
    "bounds = [\n",
    "    0.0 100.0; # L U\n",
    "    0.0 100.0; # L U\n",
    "];"
   ]
  },
  {
   "cell_type": "markdown",
   "id": "d5153564-ed7f-42e2-a9b6-107ab6c94e6b",
   "metadata": {},
   "source": [
    "Next, we create an instance of the `MyLinearProgrammingProblemModel` model using a `build(...)` method and store this model in the `primal_problem` variable. \n",
    "* This model holds the data associated with the problem, e.g., the unit costs, the marginal utilities, the right-hand side vector, i.e., the budget, and the problem bounds"
   ]
  },
  {
   "cell_type": "code",
   "execution_count": 4,
   "id": "b7c2c02d-91a8-49a3-a7ca-ed96a270f49c",
   "metadata": {},
   "outputs": [],
   "source": [
    "primal_problem = build(MyLinearProgrammingProblemModel, (\n",
    "    \n",
    "    c = α, # coefficients in Utility function\n",
    "    A = c, # unit prices of x1 and x2 (we need this as a matrix in this formulation)\n",
    "    b = [total_budget], # budge is the right-hand side\n",
    "    \n",
    "    # how much of x₁ and x₂ can be we buy?\n",
    "    lb = bounds[:,1],\n",
    "    ub = bounds[:,2]\n",
    "));"
   ]
  },
  {
   "cell_type": "markdown",
   "id": "84eba60d-3f43-43cf-a467-406b523e3fed",
   "metadata": {},
   "source": [
    "Finally, we pass the `primal_problem` variable to the `solve(...)` method, which constructs the linear program using the [JuMP domain-specific language](https://jump.dev/). \n",
    "* The implementation of the `solve(...)` method is in the [src/Solver.jl](src/Solver.jl) file. It takes the data from the `primal_problem` instance, builds the various problem structures, and returns the solution in the `primal_solution` dictionary."
   ]
  },
  {
   "cell_type": "code",
   "execution_count": 5,
   "id": "27f7d890-b4e6-49de-85e3-f433a7bb2fa5",
   "metadata": {},
   "outputs": [
    {
     "data": {
      "text/plain": [
       "Dict{String, Any} with 2 entries:\n",
       "  \"argmax\"          => [0.0, 25.0]\n",
       "  \"objective_value\" => 13.75"
      ]
     },
     "execution_count": 5,
     "metadata": {},
     "output_type": "execute_result"
    }
   ],
   "source": [
    "primal_solution = solve(primal_problem)"
   ]
  },
  {
   "cell_type": "markdown",
   "id": "90a97b9c-4462-4cf6-9f99-b50e525d5359",
   "metadata": {},
   "source": [
    "## `Dual` solution to the apples versus oranges problem\n",
    "The `primal` solution computed the combination of goods, e.g., apples and oranges that maximized the utility (happiness) of the consumer subject to a budget constraint. The `dual` problem will minimize the expenditure required to achieve the maximum utility, i.e., spend the least amount of resources (money) to get the best outcome. The dual problem has the following structure:\n",
    "\n",
    "\n",
    "$$\n",
    "\\begin{eqnarray*}\n",
    "\\text{minimize}~\\mathcal{O}^{\\prime}(\\mathbf{y}) &=& I\\cdot{y} \\\\\n",
    "\\text{subject to}~\\mathbf{c}\\cdot{y} & \\geq & \\mathbf{\\alpha}\\\\\n",
    "\\text{and}~y&\\geq&{0}\n",
    "\\end{eqnarray*}\n",
    "$$\n",
    "\n",
    "where $\\mathbf{c}$ is the column-vector holding the unit costs, $\\mathbf{\\alpha}$ denotes the vector of marginal utilities and $y$ denotes the dual-decision variable."
   ]
  },
  {
   "cell_type": "markdown",
   "id": "fa2ba6c8-4d8d-44a4-ba28-33e87fcf0ede",
   "metadata": {},
   "source": [
    "To set up the `dual` problem, we create an instance of the `MyLinearProgrammingProblemModel` model using the `build(...)` method and store this model in the `dual_problem` variable.\n",
    "* This model holds the data associated with the problem, e.g., the unit costs, the marginal utilities, the right-hand side vector, i.e., the budget, and the problem bounds (the same data as the `primal` problem)"
   ]
  },
  {
   "cell_type": "code",
   "execution_count": 6,
   "id": "f9af9757-601a-4c02-9e55-dccea27179bb",
   "metadata": {},
   "outputs": [],
   "source": [
    "dual_problem = build(MyLinearProgrammingDualProblemModel, (\n",
    "    c = α,\n",
    "    A = c,\n",
    "    b = [total_budget],\n",
    "    lb = bounds[:,1],\n",
    "    ub = bounds[:,2]\n",
    "));"
   ]
  },
  {
   "cell_type": "markdown",
   "id": "8ec08d81-a2dc-460a-b09a-950c0fd8eab0",
   "metadata": {},
   "source": [
    "Finally, we pass the `dual_problem` variable to the `solve(...)` method, which constructs the linear program using the [JuMP domain-specific language](https://jump.dev/). \n",
    "* The implementation of the `solve(...)` method is in the [src/Solver.jl](src/Solver.jl) file. It takes the data from the `dual_problem` instance, builds the various problem structures, and returns the solution in the `dual_solution` dictionary."
   ]
  },
  {
   "cell_type": "code",
   "execution_count": 7,
   "id": "a425755c-ace7-4d7e-9d48-756e1d8a9343",
   "metadata": {},
   "outputs": [
    {
     "data": {
      "text/plain": [
       "Dict{String, Any} with 2 entries:\n",
       "  \"argmin\"          => [0.1375]\n",
       "  \"objective_value\" => 13.75"
      ]
     },
     "execution_count": 7,
     "metadata": {},
     "output_type": "execute_result"
    }
   ],
   "source": [
    "dual_solution = solve(dual_problem)"
   ]
  },
  {
   "cell_type": "markdown",
   "id": "db554180-0850-46b6-af4d-ba4a40d6e010",
   "metadata": {},
   "source": [
    "### Hmmmm. How should we interpret the `dual` solution $y$?\n",
    "One way to start thinking about the meaning of $y$ is to look at its units. From the units of $\\alpha$, $c$ and the constraints on the dual problem, we can see that $y$ has units: `utils/USD.`\n",
    "* Thus, the dual problem is minimizing the expenditure $I\\cdot{y}$ (units: `USD`) such that we bound the marginal utility, i.e., find a marginal utility that is at least $\\alpha_{\\star}$, where $\\star$ denotes the index of the good that is chosen (either apples or oranges in this case)."
   ]
  },
  {
   "cell_type": "markdown",
   "id": "57d3f7b6-b979-43c3-96fd-71714c228e2e",
   "metadata": {},
   "source": [
    "### Check: Does the `dual` solution say anything about the correct choice?\n",
    "The `dual` solution does not explicitly calculate the number of apples or oranges we should purchase (the solution to the `primal` problem). Still, from our interpretation outlined above, it __should__ say something about which good we choose. \n",
    "* Let's check the relationship $y = \\max\\left\\{\\alpha_{1}/c_{1},\\alpha_{2}/c_{2}\\right\\}$ and see which index is bigger (this should correspond to the largest scaled utility). Thus, the good that is chosen $i^{\\star} = \\arg\\max\\left\\{\\alpha_{1}/c_{1},\\alpha_{2}/c_{2}\\right\\}$"
   ]
  },
  {
   "cell_type": "code",
   "execution_count": 8,
   "id": "742df604-caf9-4269-84a8-85676d8d4519",
   "metadata": {},
   "outputs": [
    {
     "data": {
      "text/plain": [
       "2"
      ]
     },
     "execution_count": 8,
     "metadata": {},
     "output_type": "execute_result"
    }
   ],
   "source": [
    "test = [α[1]/c[1], α[2]/c[2]] |> argmax"
   ]
  },
  {
   "cell_type": "markdown",
   "id": "b9cfbd53-66ba-4158-a9bf-d2384ac2fa32",
   "metadata": {},
   "source": [
    "### Check: Is the weak duality condition met?\n",
    "Finally, we know from the [weak duality condition](https://en.wikipedia.org/wiki/Weak_duality) that $\\mathcal{O}^{\\prime}(\\mathcal{y}^{\\star})\\geq\\mathcal{O}(\\mathcal{x}^{\\star})$, where $\\mathcal{y}^{\\star}$ denotes the optimal solution of the dual problem, and $\\mathcal{x}^{\\star}$ denotes the optimal solution of the primal problem. \n",
    "* Let's check if this condition is true using the [@assert macro](https://docs.julialang.org/en/v1/base/base/#Base.@assert). If the Boolean `assertion fails,` then an [AssertionError](https://docs.julialang.org/en/v1/base/base/#Core.AssertionError) is thrown"
   ]
  },
  {
   "cell_type": "code",
   "execution_count": 9,
   "id": "03312cee-7526-4ff8-b5be-03d8a16d69d0",
   "metadata": {},
   "outputs": [],
   "source": [
    "@assert dual_solution[\"objective_value\"] ≥ primal_solution[\"objective_value\"]"
   ]
  }
 ],
 "metadata": {
  "kernelspec": {
   "display_name": "Julia 1.10.2",
   "language": "julia",
   "name": "julia-1.10"
  },
  "language_info": {
   "file_extension": ".jl",
   "mimetype": "application/julia",
   "name": "julia",
   "version": "1.10.2"
  }
 },
 "nbformat": 4,
 "nbformat_minor": 5
}
