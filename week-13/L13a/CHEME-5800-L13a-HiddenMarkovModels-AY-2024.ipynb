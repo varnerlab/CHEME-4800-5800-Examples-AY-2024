{
 "cells": [
  {
   "cell_type": "markdown",
   "id": "fbbfc7c9-f794-4e1c-9bf3-e121bcaf6fd8",
   "metadata": {},
   "source": [
    "## Example: Properties of a Three-State Hidden Markov Models\n",
    "This example will familiarize students with building and using [Hidden Markov Models](https://en.wikipedia.org/wiki/Hidden_Markov_model) to model random phenomena. In this example, we'll use the previous three-state model and assume the hidden states are mapped to the mood set: \n",
    "\n",
    "$$\n",
    "\\mathcal{S}\\equiv\\left\\{\\text{happy},\\text{neutral},\\text{sad}\\right\\}\n",
    "$$\n",
    "\n",
    "We'll then map the hidden states $s_{i}\\in\\mathcal{S}$ to outward manifestations of mood which are observable, as represented by [Emoji](https://en.wikipedia.org/wiki/Emoji)."
   ]
  },
  {
   "cell_type": "markdown",
   "id": "ccdaa6c4-797c-496c-82a0-7b3702acc022",
   "metadata": {},
   "source": [
    "## Setup\n",
    "Let's load some packages that are required for the example by calling the `include(...)` function on our initialization file `Include.jl`:"
   ]
  },
  {
   "cell_type": "code",
   "execution_count": 1,
   "id": "3e1ed4f5-4cf6-4963-8720-07745a640d04",
   "metadata": {
    "tags": []
   },
   "outputs": [
    {
     "name": "stderr",
     "output_type": "stream",
     "text": [
      "\u001b[32m\u001b[1m  Activating\u001b[22m\u001b[39m project at `~/Desktop/julia_work/CHEME-4800-5800-Examples-AY-2024/week-13/L13a`\n",
      "\u001b[32m\u001b[1m  No Changes\u001b[22m\u001b[39m to `~/Desktop/julia_work/CHEME-4800-5800-Examples-AY-2024/week-13/L13a/Project.toml`\n",
      "\u001b[32m\u001b[1m  No Changes\u001b[22m\u001b[39m to `~/Desktop/julia_work/CHEME-4800-5800-Examples-AY-2024/week-13/L13a/Manifest.toml`\n",
      "\u001b[32m\u001b[1m    Updating\u001b[22m\u001b[39m registry at `~/.julia/registries/General.toml`\n",
      "\u001b[32m\u001b[1m  No Changes\u001b[22m\u001b[39m to `~/Desktop/julia_work/CHEME-4800-5800-Examples-AY-2024/week-13/L13a/Project.toml`\n",
      "\u001b[32m\u001b[1m  No Changes\u001b[22m\u001b[39m to `~/Desktop/julia_work/CHEME-4800-5800-Examples-AY-2024/week-13/L13a/Manifest.toml`\n"
     ]
    }
   ],
   "source": [
    "include(\"Include.jl\");"
   ]
  },
  {
   "cell_type": "markdown",
   "id": "a52ba3d8-992f-4eea-8c3f-f920562ebbef",
   "metadata": {},
   "source": [
    "```julia\n",
    "iterate(P::Array{Float64,2}; maxcount::Int = 100, ϵ::Float64 = 0.1) -> Array{Float64,2}\n",
    "```\n",
    "> Iteratively computes a stationary distribution. Computation stops if ||P_new - P|| < ϵ or the max number of iterations is hit. "
   ]
  },
  {
   "cell_type": "code",
   "execution_count": 2,
   "id": "8d6931b9-4f24-45a2-b83a-217b87768c64",
   "metadata": {
    "jupyter": {
     "source_hidden": true
    },
    "tags": []
   },
   "outputs": [
    {
     "data": {
      "text/plain": [
       "iterate (generic function with 1 method)"
      ]
     },
     "execution_count": 2,
     "metadata": {},
     "output_type": "execute_result"
    }
   ],
   "source": [
    "function iterate(P::Array{Float64,2}; maxcount::Int = 100, ϵ::Float64 = 0.1)::Array{Float64,2}\n",
    "\n",
    "    # initialize -\n",
    "    should_stop_loop = false\n",
    "    counter = 1;\n",
    "    P_new = P;\n",
    "    \n",
    "    # loop until tolerance is met, or we run out of iterations\n",
    "    while (should_stop_loop == false)\n",
    "        P_new = P^(counter+1);\n",
    "        if (norm(P_new - P) < ϵ || counter > maxcount)\n",
    "            should_stop_loop = true\n",
    "        else\n",
    "            counter += 1;\n",
    "        end\n",
    "    end\n",
    "\n",
    "    # return -\n",
    "    return P_new\n",
    "end"
   ]
  },
  {
   "cell_type": "markdown",
   "id": "c71d96d3-6d48-4eb8-a701-fb1f8db1b3fa",
   "metadata": {},
   "source": [
    "#### Constants \n",
    "In the simulations below, we'll need some constant values that we set here. In particular, we set a value for the `number_of_hidden_states` variable, the `number_of_simulation_steps` variable (the number of steps that we take in a Markov Chain), and the `number_of_observable_states` variable:"
   ]
  },
  {
   "cell_type": "code",
   "execution_count": 3,
   "id": "fb7f7768-3f5c-48aa-9509-1a1be7664267",
   "metadata": {
    "tags": []
   },
   "outputs": [],
   "source": [
    "number_of_hidden_states = 3;\n",
    "number_of_observable_states = 3;\n",
    "number_of_simulation_steps = 50000;"
   ]
  },
  {
   "cell_type": "markdown",
   "id": "744e52b9-f72b-4f78-851b-8c502b14582a",
   "metadata": {},
   "source": [
    "## Setup the Transition matrix $\\mathbf{P}$\n",
    "Let's start by specifying the transition matrix $\\mathbf{P}$ for the _hidden states_ in the three-state Markov model:\n",
    "\n",
    "<div>\n",
    "    <center>\n",
    "        <img src=\"figs/Fig-ThreeState-HMM-Schematic.svg\" width=\"580\"/>\n",
    "    </center>\n",
    "</div>\n",
    "\n",
    "In this example we have `three` states $\\mathcal{S}\\equiv\\left\\{\\text{happy},\\text{neutral},\\text{sad}\\right\\}\n",
    "$ and the probability of moving between state $i\\rightarrow{j}$, denoted as $p_{ij}$, is an element of the matrix $\\mathbf{P} \\in \\mathbb{R}^{3\\times{3}}$."
   ]
  },
  {
   "cell_type": "code",
   "execution_count": 4,
   "id": "027bce64-113c-4ad8-ae0a-a1d3ffa7f1b4",
   "metadata": {
    "tags": []
   },
   "outputs": [],
   "source": [
    "P = [\n",
    "    0.05 0.95 0.0 ; # moves for state 1 = happy\n",
    "    0.6 0.2 0.2 ; # moves for state 2 = neutral\n",
    "    0.0 0.3 0.7 ; # moves for state 3 = sad\n",
    "];"
   ]
  },
  {
   "cell_type": "markdown",
   "id": "d154977b-f3ed-4739-8395-54aa36410b15",
   "metadata": {},
   "source": [
    "### Check: do the rows of the transition matrix $\\mathbf{P}$ sum to `1`?\n",
    "We know that the rows of the transition matrix $\\mathbf{P}$ must sum to `1`, i.e., if we are in state $s_{i}\\in\\mathcal{S}$ at time $t$, then at time $t+1$ we have to be in $s_{j}\\in\\mathcal{S}$. \n",
    "* Let's check if the transition matrix $\\mathbf{P}$ meets this criteria using the [@assert macro](https://docs.julialang.org/en/v1/base/base/#Base.@assert) by iterating over the rows of the transition matrix $\\mathbf{P}$ and checking the sum of each row. If any row does not meet this criterion, an [AssertionError](https://docs.julialang.org/en/v1/base/base/#Core.AssertionError) will be thrown."
   ]
  },
  {
   "cell_type": "code",
   "execution_count": 5,
   "id": "5df203b0-243e-45d1-b75d-f87396debdbd",
   "metadata": {},
   "outputs": [],
   "source": [
    "for i ∈ 1:number_of_hidden_states\n",
    "    @assert sum(P[i,:]) == 1\n",
    "end"
   ]
  },
  {
   "cell_type": "markdown",
   "id": "28848c32-d153-4953-8245-b935df1a8c23",
   "metadata": {},
   "source": [
    "Now that we are sure that the transition matrix $\\mathbf{P}$ is proper, we populate the `hidden_state_probability_dictionary`, which holds the [categorical distribution](https://en.wikipedia.org/wiki/Categorical_distribution) modeling the transition probability for each hidden state $s\\in\\mathcal{S}$, i.e., the probability that we transition from state $i\\rightarrow{j}$ in the next time step:"
   ]
  },
  {
   "cell_type": "code",
   "execution_count": 6,
   "id": "04e8b0ca-95c0-4a48-8983-92b1e462e198",
   "metadata": {},
   "outputs": [
    {
     "data": {
      "text/plain": [
       "Dict{Int64, Categorical{P} where P<:Real} with 3 entries:\n",
       "  2 => Categorical{Float64, Vector{Float64}}(support=Base.OneTo(3), p=[0.6, 0.2…\n",
       "  3 => Categorical{Float64, Vector{Float64}}(support=Base.OneTo(3), p=[0.0, 0.3…\n",
       "  1 => Categorical{Float64, Vector{Float64}}(support=Base.OneTo(3), p=[0.05, 0.…"
      ]
     },
     "execution_count": 6,
     "metadata": {},
     "output_type": "execute_result"
    }
   ],
   "source": [
    "hidden_state_probability_dictionary = Dict{Int,Categorical}();\n",
    "for i ∈ 1:number_of_hidden_states\n",
    "    hidden_state_probability_dictionary[i] = Categorical(P[i,:])\n",
    "end\n",
    "hidden_state_probability_dictionary"
   ]
  },
  {
   "cell_type": "markdown",
   "id": "803924e3-d7c7-4140-a7a2-6283cf61c432",
   "metadata": {},
   "source": [
    "## Compute the stationary distribution $\\pi$\n",
    "Let's compute the stationary distribution $\\pi$ using the `iterate(...)` method defined above. This version of the method uses a `while-loop`; we iterate until the difference $||\\mathbf{P}^{i+1} - \\mathbf{P}^{i}|| < \\epsilon$, or we run out of iterations (the iteration counter exceeds the `maxcount` argument)."
   ]
  },
  {
   "cell_type": "code",
   "execution_count": 7,
   "id": "aba93bab-b86e-441a-9c62-62e0a3bf53b8",
   "metadata": {
    "tags": []
   },
   "outputs": [
    {
     "data": {
      "text/plain": [
       "3×3 Matrix{Float64}:\n",
       " 0.274809  0.435115  0.290076\n",
       " 0.274809  0.435115  0.290076\n",
       " 0.274809  0.435115  0.290076"
      ]
     },
     "execution_count": 7,
     "metadata": {},
     "output_type": "execute_result"
    }
   ],
   "source": [
    "π̄ = iterate(P, ϵ = 1e-9, maxcount = 10000) # iterative version of iterate"
   ]
  },
  {
   "cell_type": "markdown",
   "id": "d746adb4-3b7f-45b6-ba0d-62dc94d98ac2",
   "metadata": {},
   "source": [
    "Finally, create a [categorical distribution](https://en.wikipedia.org/wiki/Categorical_distribution) using the stationary probability of our Markov chain using the [Distributions.jl](https://github.com/JuliaStats/Distributions.jl) package, save this distribution in the variable `d`:"
   ]
  },
  {
   "cell_type": "code",
   "execution_count": 8,
   "id": "90b6b697-634c-4de9-be5b-e3ff5e621281",
   "metadata": {
    "tags": []
   },
   "outputs": [],
   "source": [
    "d = Categorical(π̄[1,:]); # steady-state stationary distribution"
   ]
  },
  {
   "cell_type": "markdown",
   "id": "9baa3f4c-8ad4-438e-a33f-952d9eb004e8",
   "metadata": {},
   "source": [
    "## Setup the Emission Probability Matrix $\\mathbf{E}$\n",
    "Now that we have the stationary distribution for the hidden layer of our [Hidden Markov Model](https://en.wikipedia.org/wiki/Hidden_Markov_model) let's set up the emission probability matrix and save it in the `EPM` variable:"
   ]
  },
  {
   "cell_type": "code",
   "execution_count": 9,
   "id": "8a9a2443-3fee-49e3-b8e1-d081c0d2cfbf",
   "metadata": {
    "tags": []
   },
   "outputs": [],
   "source": [
    "E = [\n",
    "    0.90 0.05 0.05 ; # 1 happy (but sometimes we see other faces)\n",
    "    0.05 0.90 0.05 ; # 2 neutral (but sometimes we see other faces)\n",
    "    0.05 0.05 0.90 ; # 3 sad (but sometimes we see other faces)\n",
    "];\n",
    "# E = diagm(ones(3)) # we never have a missed guess ..."
   ]
  },
  {
   "cell_type": "markdown",
   "id": "c062d7a4-9ecb-4cb6-ad3c-00d8269e9c08",
   "metadata": {},
   "source": [
    "Populate the `emission_probability_dict`, which holds the [categorical distribution](https://en.wikipedia.org/wiki/Categorical_distribution) modeling the emission probability for each hidden state $s\\in\\mathcal{S}$, i.e., the probability of what output $o_{i}\\in\\mathcal{O}$ we expect to see if we are in $s\\in\\mathcal{S}$:"
   ]
  },
  {
   "cell_type": "code",
   "execution_count": 10,
   "id": "2624ec44-a5df-4a0e-9c65-c04268444736",
   "metadata": {
    "tags": []
   },
   "outputs": [],
   "source": [
    "emission_probability_dict = Dict{Int,Categorical}()\n",
    "for i ∈ 1:number_of_hidden_states\n",
    "    emission_probability_dict[i] = Categorical(E[i,:])\n",
    "end"
   ]
  },
  {
   "cell_type": "code",
   "execution_count": 11,
   "id": "e9bb6ca9-c1fe-48a5-a8a2-ed912fb450e5",
   "metadata": {},
   "outputs": [
    {
     "data": {
      "text/plain": [
       "Dict{Int64, Categorical{P} where P<:Real} with 3 entries:\n",
       "  2 => Categorical{Float64, Vector{Float64}}(support=Base.OneTo(3), p=[0.05, 0.…\n",
       "  3 => Categorical{Float64, Vector{Float64}}(support=Base.OneTo(3), p=[0.05, 0.…\n",
       "  1 => Categorical{Float64, Vector{Float64}}(support=Base.OneTo(3), p=[0.9, 0.0…"
      ]
     },
     "execution_count": 11,
     "metadata": {},
     "output_type": "execute_result"
    }
   ],
   "source": [
    "emission_probability_dict"
   ]
  },
  {
   "cell_type": "markdown",
   "id": "077be025-c9c5-44ca-83cf-e7d90868267e",
   "metadata": {},
   "source": [
    "### 3. Simulate the output from the HMM\n",
    "Let's implement the pseudo-code from the lecture, where each observable state corresponds to an [Emoji](https://en.wikipedia.org/wiki/Emoji). We store this relationship in the `observable_emoji_map` variable, which is a dictionary with keys corresponding to observable states $o\\in\\mathcal{O}$ and [Emoji](https://en.wikipedia.org/wiki/Emoji) values."
   ]
  },
  {
   "cell_type": "code",
   "execution_count": 12,
   "id": "4250dbab-0c3e-4de2-a875-a0daa7340518",
   "metadata": {},
   "outputs": [],
   "source": [
    "observable_emoji_map = Dict{Int,Any}();\n",
    "observable_emoji_map[1] = `😄`;\n",
    "observable_emoji_map[2] = `😐`;\n",
    "observable_emoji_map[3] = `😞`;"
   ]
  },
  {
   "cell_type": "markdown",
   "id": "86b42fdb-943c-4caf-9235-3e3d3c3f4085",
   "metadata": {},
   "source": [
    "__Simulation algorithm__: For `number_of_simulation_steps`, starting from some initial state $s\\in\\mathcal{S}$: \n",
    "* First we get the hidden state distribution from the `hidden_state_probability_dictionary`, we then generate a new state $s^{\\prime}$, access the emission distribution from the `emission_probability_dict` that corresponds to $s^{\\prime}$, and we generate a random observable output $o_{i}$.\n",
    "* Next, we save both the hidden state $s^{\\prime}$ and the output $o_{i}$ for this iteration in the `hidden_simulation_dict` and `output_simulation_dict` variables, respectively.\n",
    "* Finally, we update the current state $s_{i}\\leftarrow{s}^{\\prime}$ and move onto the next iteration."
   ]
  },
  {
   "cell_type": "code",
   "execution_count": 13,
   "id": "417b5fcc-fd6c-4a81-b6d3-b68d6d412ae2",
   "metadata": {
    "tags": []
   },
   "outputs": [],
   "source": [
    "output_simulation_dict = Dict{Int,Any}()\n",
    "hidden_simulation_dict = Dict{Int,Int}();\n",
    "sᵢ = 1;\n",
    "for i ∈ 1:number_of_simulation_steps\n",
    "\n",
    "    # get the categorical distribution for sᵢ \n",
    "    dᵢ = hidden_state_probability_dictionary[sᵢ];\n",
    "    \n",
    "    # compute the *next* hidden state -\n",
    "    s′ = rand(dᵢ);\n",
    "\n",
    "    # next, compute what output we see from this state -\n",
    "    oᵢ = emission_probability_dict[s′] |> o -> rand(o);\n",
    "\n",
    "    # capture -\n",
    "    hidden_simulation_dict[i] = s′\n",
    "    output_simulation_dict[i] = observable_emoji_map[oᵢ]\n",
    "\n",
    "    # update -\n",
    "    sᵢ = s′;\n",
    "end"
   ]
  },
  {
   "cell_type": "code",
   "execution_count": 14,
   "id": "ebce90f3-1a46-40bd-bee1-edebc19a23b0",
   "metadata": {
    "tags": []
   },
   "outputs": [
    {
     "name": "stdout",
     "output_type": "stream",
     "text": [
      "2,`😐`\n",
      "1,`😄`\n",
      "2,`😞`\n",
      "1,`😄`\n",
      "2,`😐`\n",
      "1,`😄`\n",
      "2,`😐`\n",
      "3,`😐`\n",
      "2,`😐`\n",
      "3,`😞`\n",
      "3,`😞`\n",
      "3,`😞`\n",
      "2,`😞`\n",
      "1,`😄`\n",
      "2,`😞`\n",
      "3,`😞`\n",
      "3,`😞`\n",
      "3,`😞`\n",
      "3,`😞`\n",
      "3,`😞`\n"
     ]
    }
   ],
   "source": [
    "foreach(i->println(\"$(hidden_simulation_dict[i]),$(output_simulation_dict[i])\"), 1:20); # wow, that's nice ..."
   ]
  },
  {
   "cell_type": "markdown",
   "id": "6462e590-6d9e-4a37-a288-3ece5dc097ef",
   "metadata": {},
   "source": [
    "Let's do a quick test: what is the probability that we observe a particular value? We'll compute this by iterating over the simulation output and counting the times a `test_value` is encountered. We'll then estimate the probability as the number of positive samples divided by the total number of samples."
   ]
  },
  {
   "cell_type": "code",
   "execution_count": 15,
   "id": "fe9a418b-0912-42b4-a471-ccdc1f169aef",
   "metadata": {
    "editable": true,
    "slideshow": {
     "slide_type": ""
    },
    "tags": []
   },
   "outputs": [
    {
     "name": "stdout",
     "output_type": "stream",
     "text": [
      "We observe `😐` with probability = 0.42208\n"
     ]
    }
   ],
   "source": [
    "test_value = `😐`;\n",
    "N₊ = 0;\n",
    "for (key,value) ∈ output_simulation_dict\n",
    "    if (value == test_value)\n",
    "        N₊ += 1\n",
    "    end\n",
    "end\n",
    "probability = N₊/number_of_simulation_steps;\n",
    "println(\"We observe $(test_value) with probability = $(probability)\")"
   ]
  },
  {
   "cell_type": "markdown",
   "id": "41cb424c-917f-4573-9f8e-1df6139ef25a",
   "metadata": {},
   "source": [
    "#### "
   ]
  }
 ],
 "metadata": {
  "kernelspec": {
   "display_name": "Julia 1.10.2",
   "language": "julia",
   "name": "julia-1.10"
  },
  "language_info": {
   "file_extension": ".jl",
   "mimetype": "application/julia",
   "name": "julia",
   "version": "1.10.2"
  }
 },
 "nbformat": 4,
 "nbformat_minor": 5
}
