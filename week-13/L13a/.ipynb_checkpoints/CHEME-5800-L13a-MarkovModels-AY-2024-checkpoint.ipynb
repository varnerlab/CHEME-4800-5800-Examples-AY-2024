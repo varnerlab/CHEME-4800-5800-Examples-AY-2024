{
 "cells": [
  {
   "cell_type": "markdown",
   "id": "0a6f6388-ace0-4bc1-a58c-bc1470936d88",
   "metadata": {
    "editable": true,
    "slideshow": {
     "slide_type": ""
    },
    "tags": []
   },
   "source": [
    "# Example: Properties of Markov Models and Stationary Distributions\n",
    "The objective of this example is to familiarize students with Markov models and components of Markov models, in particular the transition matrix $\\mathbf{P}$, computing the stationary distribution $\\pi$, and finally sampling the stationary distribution using categorical distribution.\n",
    "\n",
    "### Background\n",
    "A discrete-time Markov chain is a sequence of random variables $X_{1},\\dotsc,X_{n}$ with \n",
    "the [Markov property](https://en.wikipedia.org/wiki/Markov_property), \n",
    "i.e., the probability of moving to the next state depends only on the present and not past states:\n",
    "\n",
    "$$\n",
    "\\begin{equation*}\n",
    "P(X_{n+1} = x | X_{1}=x_{1}, \\dots, X_{n}=x_{n}) = P(X_{n+1} = x | X_{n}=y)\n",
    "\\end{equation*}\n",
    "$$\n",
    "\n",
    "For finite state spaces $\\mathcal{S}$, the probability of moving from the state(s) $i\\rightarrow{j}$ in the next step, \n",
    "is encoded in the transition matrix $p_{ij}\\in\\mathbf{P}$: \n",
    "\n",
    "$$\n",
    "\\begin{equation*}\n",
    "p_{ij} = P(X_{n+1}~=~j~|~X_{n}~=~i)\n",
    "\\end{equation*}\n",
    "$$\n",
    "\n",
    "The transition matrix $\\mathbf{P}$ has interesting properties: \n",
    "* First, the rows of transition matrix $\\mathbf{P}$ sum to unity, i.e., each row encodes the probability of all possible outcomes. \n",
    "Thus, it must sum to one.\n",
    "* Second, if the transition matrix  $\\mathbf{P}$ is invariant, $p_{ij}$ doesn't change as $n\\rightarrow{n+1}~\\forall{n}$."
   ]
  },
  {
   "cell_type": "markdown",
   "id": "25e972a9-2b8c-4982-9828-b573467e571b",
   "metadata": {},
   "source": [
    "## Setup\n",
    "Let's load some packages that are required for the example by calling the `include(...)` function on our initialization file `Include.jl`:"
   ]
  },
  {
   "cell_type": "code",
   "execution_count": 1,
   "id": "d638f1eb-54e7-4c80-bd59-bd85e02af8f8",
   "metadata": {
    "tags": []
   },
   "outputs": [
    {
     "name": "stderr",
     "output_type": "stream",
     "text": [
      "\u001b[32m\u001b[1m  Activating\u001b[22m\u001b[39m project at `~/Desktop/julia_work/CHEME-4800-5800-Examples-AY-2024/week-13/L13a`\n",
      "\u001b[32m\u001b[1m  No Changes\u001b[22m\u001b[39m to `~/Desktop/julia_work/CHEME-4800-5800-Examples-AY-2024/week-13/L13a/Project.toml`\n",
      "\u001b[32m\u001b[1m  No Changes\u001b[22m\u001b[39m to `~/Desktop/julia_work/CHEME-4800-5800-Examples-AY-2024/week-13/L13a/Manifest.toml`\n",
      "\u001b[32m\u001b[1m    Updating\u001b[22m\u001b[39m registry at `~/.julia/registries/General.toml`\n",
      "\u001b[32m\u001b[1m  No Changes\u001b[22m\u001b[39m to `~/Desktop/julia_work/CHEME-4800-5800-Examples-AY-2024/week-13/L13a/Project.toml`\n",
      "\u001b[32m\u001b[1m  No Changes\u001b[22m\u001b[39m to `~/Desktop/julia_work/CHEME-4800-5800-Examples-AY-2024/week-13/L13a/Manifest.toml`\n"
     ]
    }
   ],
   "source": [
    "include(\"Include.jl\");"
   ]
  },
  {
   "cell_type": "markdown",
   "id": "1287049b-a2e0-4ecd-a002-b064d39494e3",
   "metadata": {},
   "source": [
    "```julia\n",
    "iterate(P::Array{Float64,2}, counter::Int; \n",
    "        maxcount::Int = 100, ϵ::Float64 = 0.1) -> Array{Float64,2}\n",
    "```\n",
    "> Recursively computes a stationary distribution. Computation stops if ||P_new - P|| < ϵ or the max number of iterations is hit. "
   ]
  },
  {
   "cell_type": "code",
   "execution_count": 2,
   "id": "295be0ce-0194-4408-8bb0-51bd667ec3cb",
   "metadata": {
    "tags": []
   },
   "outputs": [],
   "source": [
    "function iterate(P::Array{Float64,2}, counter::Int; \n",
    "        maxcount::Int = 100, ϵ::Float64 = 0.1)::Array{Float64,2}\n",
    "\n",
    "    # base case -\n",
    "    if (counter == maxcount)\n",
    "        return P\n",
    "    else\n",
    "        # generate a new P -\n",
    "        P_new = P^(counter+1)\n",
    "        err = P_new - P;\n",
    "        if (norm(err)<=ϵ)\n",
    "            return P_new\n",
    "        else\n",
    "            # we have NOT hit the error target, or the max iterations\n",
    "            iterate(P_new, (counter+1), maxcount=maxcount, ϵ = ϵ)\n",
    "        end\n",
    "    end\n",
    "end;"
   ]
  },
  {
   "cell_type": "markdown",
   "id": "a916996a-d6fa-44dc-9749-654745ecc073",
   "metadata": {},
   "source": [
    "#### Constants\n",
    "In the simulations below, we'll need some constant values that we set here. In particular, we set a value for the `number_of_hidden_states` variable, the `number_of_simulation_steps` variable (the number of steps that we take in a Markov Chain), and the `number_of_samples ` variable:"
   ]
  },
  {
   "cell_type": "code",
   "execution_count": 3,
   "id": "63086f21-0e27-4306-9e1a-6ba544eb6f84",
   "metadata": {
    "tags": []
   },
   "outputs": [],
   "source": [
    "number_of_hidden_states = 3;\n",
    "number_of_simulation_steps = 10000;\n",
    "number_of_samples = 1000;"
   ]
  },
  {
   "cell_type": "markdown",
   "id": "9c2bd82d-cf07-4204-98d2-6fedb456c3df",
   "metadata": {},
   "source": [
    "## Setup transition matrix for a three-state Markov Model\n",
    "Let's make these ideas more concrete by looking at a simple three-state example:\n",
    "\n",
    "<div>\n",
    "    <center>\n",
    "        <img src=\"figs/Fig-ThreeState-MM-Schematic.svg\" width=\"580\"/>\n",
    "    </center>\n",
    "</div>\n",
    "\n",
    "In this example we have `three` states $\\mathcal{S}=\\left\\{1,2,3\\right\\}$ and the probability of moving between state $i\\rightarrow{j}$ in the next time step, denoted as $p_{ij}$, are elements of the matrix $\\mathbf{P} \\in \\mathbb{R}^{3\\times{3}}$."
   ]
  },
  {
   "cell_type": "code",
   "execution_count": 4,
   "id": "c0600f0f-977d-419f-992e-dbb0f9044bee",
   "metadata": {
    "tags": []
   },
   "outputs": [],
   "source": [
    "P = [\n",
    "    0.05 0.95 0.0 ; # moves for state 1\n",
    "    0.6 0.2 0.2 ; # moves for state 2\n",
    "    0.0 0.3 0.7 ; # moves for state 3\n",
    "];"
   ]
  },
  {
   "cell_type": "code",
   "execution_count": 5,
   "id": "8aa3b195-e388-4391-9fe5-5543a90af6d8",
   "metadata": {},
   "outputs": [
    {
     "data": {
      "text/plain": [
       "3"
      ]
     },
     "execution_count": 5,
     "metadata": {},
     "output_type": "execute_result"
    }
   ],
   "source": [
    "rank(P)"
   ]
  },
  {
   "cell_type": "markdown",
   "id": "274f76e3-9e30-4e92-bbfc-b24a1f646288",
   "metadata": {},
   "source": [
    "### Check: do the rows of the transition matrix $\\mathbf{P}$ sum to `1`?\n",
    "We know that the rows of the transition matrix $\\mathbf{P}$ must sum to `1`, i.e., if we are in state $s_{i}\\in\\mathcal{S}$ at time $t$, then at time $t+1$ we have to be in $s_{j}\\in\\mathcal{S}$. \n",
    "* Let's check if the transition matrix $\\mathbf{P}$ meets this criteria using the [@assert macro](https://docs.julialang.org/en/v1/base/base/#Base.@assert) by iterating over the rows of the transition matrix $\\mathbf{P}$ and checking the sum of each row. If any row does not meet this criterion, an [AssertionError](https://docs.julialang.org/en/v1/base/base/#Core.AssertionError) will be thrown."
   ]
  },
  {
   "cell_type": "code",
   "execution_count": 6,
   "id": "56b4a181-0930-4a1e-8349-250e9b015f9a",
   "metadata": {
    "tags": []
   },
   "outputs": [],
   "source": [
    "for i ∈ 1:number_of_hidden_states\n",
    "    @assert sum(P[i,:]) == 1\n",
    "end"
   ]
  },
  {
   "cell_type": "markdown",
   "id": "f52d67b5-6857-43f9-8a1c-6cf8fc595221",
   "metadata": {},
   "source": [
    "## Compute the stationary distribution $\\pi$\n",
    "\n",
    "For a non-periodic Markov chain with a finite state space $\\mathcal{S}$ and an invariant state transition matrix $\\mathbf{P}$,\n",
    "the state vector at time $j$, denoted by $\\mathbf{\\pi}_{j}$, has the property:\n",
    "\n",
    "$$\n",
    "\\begin{equation*}\n",
    "\\sum_{s\\in\\mathcal{S}}\\pi_{sj} = 1\\qquad\\forall{j}\n",
    "\\end{equation*}\n",
    "$$\n",
    "\n",
    "where $\\pi_{sj}\\geq{0},\\forall{s}\\in\\mathcal{S}$. The state of the Markov chain at time step $n+1$, denoted by $\\mathbf{\\pi}_{n+1}$, is given by:\n",
    "\n",
    "$$\n",
    "\\begin{equation*}\n",
    "\\mathbf{\\pi}_{n+1} = \\mathbf{\\pi}_{1}\\cdot\\left(\\mathbf{P}\\right)^n\n",
    "\\end{equation*}\n",
    "$$\n",
    "\n",
    "where $\\mathbf{\\pi}_{n+1}$ is the state vector at time step $n+1$ and $\\left(\\mathbf{P}\\right)^n$ is the transition matrix raised to the $n$th power. Finally, a unique stationary distribution $\\pi$ exists, where $\\mathbf{P}^{k}$ converges to a `rank-one` matrix in which each row is the stationary distribution $\\pi$:\n",
    "\n",
    "$$\n",
    "\\begin{equation*}\n",
    "\\lim_{k\\rightarrow\\infty} \\mathbf{P}^{k} = \\mathbf{1}^{T}\\otimes\\pi\n",
    "\\end{equation*} \n",
    "$$\n",
    "\n",
    "where $\\mathbf{1}$ is a column vector of all 1s. The operator $\\otimes$ denotes a __Left Matrix Vector Product operation__."
   ]
  },
  {
   "cell_type": "markdown",
   "id": "ac90d702-8b38-4569-ba5d-4c26b9f0450b",
   "metadata": {},
   "source": [
    "#### Implementation details\n",
    "We'll compute the stationary distribution $\\pi$ using the recursive `iterate(...)` method. During each call to the `iterate(...)` method, we compute the matrix power of transition matrix $\\mathbf{P}$. We continue to call the `iterate(...)` method until we hit one of two possible conditions:\n",
    "\n",
    "* The `base case` for the recursion occurs when the `counter == maxcount`, at this point the recursion stops, and the matrix $\\mathbf{P}$ is returned\n",
    "* The recursion also stops when the difference between subsequent powers of the matrix $\\mathbf{P}$ is smaller than a specified threshold"
   ]
  },
  {
   "cell_type": "code",
   "execution_count": 7,
   "id": "ae5bf7b7-7127-4738-ba90-bca8f745bca8",
   "metadata": {
    "tags": []
   },
   "outputs": [
    {
     "data": {
      "text/plain": [
       "3×3 Matrix{Float64}:\n",
       " 0.274809  0.435115  0.290076\n",
       " 0.274809  0.435115  0.290076\n",
       " 0.274809  0.435115  0.290076"
      ]
     },
     "execution_count": 7,
     "metadata": {},
     "output_type": "execute_result"
    }
   ],
   "source": [
    "π̄ = iterate(P,1, ϵ = 0.0000001)"
   ]
  },
  {
   "cell_type": "markdown",
   "id": "4e3b813c-c988-4bc9-b1f5-a42c17c55c8a",
   "metadata": {},
   "source": [
    "### Check: Is the rank condition on the stationary distribution $\\bar{\\pi}$ correct?\n",
    "Once we reach the stationary distribution, the rank of the stationary distribution $\\pi$ should be equal to `1`. Let's check whether this condition is true using the [@assert macro](https://docs.julialang.org/en/v1/base/base/#Base.@assert). \n",
    "* If we do not meet this criterion, an [AssertionError](https://docs.julialang.org/en/v1/base/base/#Core.AssertionError) will be thrown, and we should try to use more iterations or a tighter numerical tolerance value for $\\epsilon$. We'll compute the rank using the [rank function](https://docs.julialang.org/en/v1/stdlib/LinearAlgebra/#LinearAlgebra.rank) which is exported by the [Julia Statistics package](https://docs.julialang.org/en/v1/stdlib/Statistics/#Statistics)"
   ]
  },
  {
   "cell_type": "code",
   "execution_count": 8,
   "id": "40a7ff4b-9877-4c9f-a38e-1fbb4953c7c6",
   "metadata": {
    "tags": []
   },
   "outputs": [],
   "source": [
    "@assert rank(π̄) == 1"
   ]
  },
  {
   "cell_type": "markdown",
   "id": "2d791841-4188-4e31-a67e-dc0dd84473db",
   "metadata": {},
   "source": [
    "### Compute Markov Chain Distribution $\\pi$ using the Left Matrix Vector Product\n",
    "We can also approach the computation of the stationary distribution $\\bar{\\pi}$ by directly iterating the expression:\n",
    "\n",
    "$$\n",
    "\\pi_{n+1} = \\pi_{n}\\cdot\\mathbf{P}\\quad\\,n=1,2,\\dots\n",
    "$$\n",
    "\n",
    "As $n\\rightarrow\\infty$, i.e., as we do more iterations, the difference between subsequent iterations becomes small $||\\pi_{n+1}-\\pi_{n}||<\\epsilon$ for a non-periodic Markov chain, where $\\pi_{n}\\rightarrow\\bar{\\pi}$ as $n\\rightarrow\\infty$. "
   ]
  },
  {
   "cell_type": "code",
   "execution_count": 9,
   "id": "b78fa745-f69f-41bf-9a39-49122dfa41d0",
   "metadata": {},
   "outputs": [],
   "source": [
    "π₁ = [0.0,1.0,0.0]; # initial state = state 2\n",
    "direct_state_distribution = Dict{Int,Array{Float64,1}}();\n",
    "direct_state_distribution[1] = π₁;\n",
    "for n = 2:number_of_simulation_steps\n",
    "    πᵢ = transpose(π₁)*(P)^(n-1)\n",
    "    direct_state_distribution[n] =  transpose(πᵢ)\n",
    "end\n",
    "# foreach(i-> println(direct_state_distribution[i]), 1:10);"
   ]
  },
  {
   "cell_type": "markdown",
   "id": "5d5e8924-3194-4648-9515-e71f1c6a53ec",
   "metadata": {},
   "source": [
    "## Compute a Sequence of states $s_{i}\\in\\mathcal{S}$ from our Markov Model using a Categorical Distribution\n",
    "We can get the dynamics predicted by the [Markov model](https://en.wikipedia.org/wiki/Markov_model), i.e., the sequence of states and state transitions by sampling the transition probability matrix $\\mathbf{P}$ directly. \n",
    "* Now that we are sure that the transition matrix $\\mathbf{P}$ is properly formulated let's populate the `hidden_state_probability_dictionary,` which holds the [categorical distribution](https://en.wikipedia.org/wiki/Categorical_distribution) modeling the transition probability for each hidden state $s\\in\\mathcal{S}$, i.e., the probability that we transition from state $i\\rightarrow{j}$ in the next time step"
   ]
  },
  {
   "cell_type": "code",
   "execution_count": 10,
   "id": "7d6ee97a-8b18-4075-a51b-4b7c05f4a820",
   "metadata": {},
   "outputs": [
    {
     "data": {
      "text/plain": [
       "Dict{Int64, Categorical{P} where P<:Real} with 3 entries:\n",
       "  2 => Categorical{Float64, Vector{Float64}}(support=Base.OneTo(3), p=[0.6, 0.2…\n",
       "  3 => Categorical{Float64, Vector{Float64}}(support=Base.OneTo(3), p=[0.0, 0.3…\n",
       "  1 => Categorical{Float64, Vector{Float64}}(support=Base.OneTo(3), p=[0.05, 0.…"
      ]
     },
     "execution_count": 10,
     "metadata": {},
     "output_type": "execute_result"
    }
   ],
   "source": [
    "hidden_state_probability_dictionary = Dict{Int,Categorical}();\n",
    "for i ∈ 1:number_of_hidden_states\n",
    "    hidden_state_probability_dictionary[i] = Categorical(P[i,:])\n",
    "end\n",
    "hidden_state_probability_dictionary"
   ]
  },
  {
   "cell_type": "markdown",
   "id": "18497dbf-60fd-4fdc-86a3-777e38d418e0",
   "metadata": {},
   "source": [
    "Now, we generate `number_of_simulation_steps` worth of dynamic data by sampling the `hidden_state_probability_dictionary.` We store these simulation results in the `hidden_simulation_dict` dictionary, where the `key` holds the time index and the `value` is the system's state, i.e., $s_{i}\\in\\mathcal{S}$.\n",
    "* We start by specifying an initial state `sᵢ = 1`. At each iteration of the loop, we pull out the [categorical distribution](https://en.wikipedia.org/wiki/Categorical_distribution) corresponding to the state, i.e., the row in the transition matrix $\\mathbf{P}$ corresponding to state $s_{i}$. We generate the state at the next step by drawing a sample using the `rand(...)` function."
   ]
  },
  {
   "cell_type": "code",
   "execution_count": 11,
   "id": "a3207d76-a6de-46d3-bce6-5ec91e80eaf9",
   "metadata": {},
   "outputs": [
    {
     "name": "stdout",
     "output_type": "stream",
     "text": [
      "Soln: (t=1,s=1)\n",
      "Soln: (t=2,s=2)\n",
      "Soln: (t=3,s=3)\n",
      "Soln: (t=4,s=3)\n",
      "Soln: (t=5,s=3)\n",
      "Soln: (t=6,s=2)\n",
      "Soln: (t=7,s=1)\n",
      "Soln: (t=8,s=2)\n",
      "Soln: (t=9,s=1)\n",
      "Soln: (t=10,s=2)\n"
     ]
    }
   ],
   "source": [
    "hidden_simulation_dict = Dict{Int,Int}();\n",
    "sᵢ = 1; # harcode the start state: we could draw from the stationary distribuition\n",
    "hidden_simulation_dict[1] = sᵢ;\n",
    "for i ∈ 2:number_of_simulation_steps\n",
    "\n",
    "    # get the categorical distribution for sᵢ \n",
    "    sᵢ = hidden_state_probability_dictionary[sᵢ] |> d -> rand(d);\n",
    "    \n",
    "    # capture -\n",
    "    hidden_simulation_dict[i] = sᵢ\n",
    "end\n",
    "foreach(i -> println(\"Soln: (t=$(i),s=$(hidden_simulation_dict[i]))\"), 1:10)"
   ]
  },
  {
   "cell_type": "markdown",
   "id": "3ea8c7ab-ba62-4068-acb9-46585a756afa",
   "metadata": {},
   "source": [
    "### Check: Do we recover the stationary distribution $\\bar{\\pi}$?\n",
    "Just like a dynamic system, e.g., concentration balances in a steady-state reactor, if we wait long enough, the system should approach a steady state (assuming the steady state exists and is stable). By analogy, if we take enough time steps for our random dynamic system, the distribution of states should follow the stationary distribution $\\bar{\\pi}$."
   ]
  },
  {
   "cell_type": "code",
   "execution_count": 12,
   "id": "6bc4a41e-66bb-49e7-819f-b3f1ff87c9d2",
   "metadata": {},
   "outputs": [],
   "source": [
    "S = [hidden_simulation_dict[i] for i ∈ 1:number_of_simulation_steps];\n",
    "NS₁ = findall(x-> x == 1, S) |> length;\n",
    "NS₂ = findall(x-> x == 2, S) |> length;\n",
    "NS₃ = findall(x-> x == 3, S) |> length;"
   ]
  },
  {
   "cell_type": "markdown",
   "id": "58e064c9-06db-435f-97b2-d56dac3e9781",
   "metadata": {},
   "source": [
    "Finally, we can compute the relative frequency (probability) of the states `s = 1`, `s = 2` and `s = 3`:"
   ]
  },
  {
   "cell_type": "code",
   "execution_count": 13,
   "id": "ea271479-f884-4bd0-828e-cf2aedd5451c",
   "metadata": {},
   "outputs": [
    {
     "name": "stdout",
     "output_type": "stream",
     "text": [
      "The sampled probability (p₁,p₂,p₃) = (0.2806, 0.4392, 0.2802)\n"
     ]
    }
   ],
   "source": [
    "PS1 = NS₁/number_of_simulation_steps;\n",
    "PS2 = NS₂/number_of_simulation_steps;\n",
    "PS3 = NS₃/number_of_simulation_steps;\n",
    "println(\"The sampled probability (p₁,p₂,p₃) = ($(PS1), $(PS2), $(PS3))\")"
   ]
  },
  {
   "cell_type": "markdown",
   "id": "7a1f7f9d-5242-4b9c-855c-335e6cbd561b",
   "metadata": {},
   "source": [
    "## What happens if we sample $\\bar{\\pi}$ directly?\n",
    "Suppose we don't care about the dynamics (time behavior) of our three-state random system. Instead, we are only interested in the steady-state behavior, i.e., the stationary distribution. We can sample $\\bar{\\pi}$ directly, but if we do that, we lose all the information about the transitions, i.e., all the time behavior.\n",
    "* Let's create a [categorical distribution](https://en.wikipedia.org/wiki/Categorical_distribution) using the stationary probability of our Markov chain using the [Distributions.jl](https://github.com/JuliaStats/Distributions.jl) package, save this distribution in the variable `d`:"
   ]
  },
  {
   "cell_type": "code",
   "execution_count": 14,
   "id": "8f095b12-c59e-4624-b1e1-77da19c67d24",
   "metadata": {
    "tags": []
   },
   "outputs": [],
   "source": [
    "d = Categorical(π̄[1,:]);"
   ]
  },
  {
   "cell_type": "markdown",
   "id": "f699869a-4fa4-4c8c-a266-2b7f8a24248f",
   "metadata": {},
   "source": [
    "We generate samples from the [categorical distribution](https://en.wikipedia.org/wiki/Categorical_distribution) saved in the distribution `d` using the [rand function](https://docs.julialang.org/en/v1/stdlib/Random/#Base.rand). This allows us to `simulate` the system encoded by our three-state Markov model. For example:"
   ]
  },
  {
   "cell_type": "code",
   "execution_count": 15,
   "id": "0d1923d6-2993-4d15-bdfc-4f7a9c935472",
   "metadata": {
    "tags": []
   },
   "outputs": [
    {
     "data": {
      "text/plain": [
       "100-element Vector{Int64}:\n",
       " 2\n",
       " 1\n",
       " 3\n",
       " 1\n",
       " 3\n",
       " 2\n",
       " 3\n",
       " 1\n",
       " 2\n",
       " 3\n",
       " 2\n",
       " 1\n",
       " 2\n",
       " ⋮\n",
       " 1\n",
       " 2\n",
       " 2\n",
       " 2\n",
       " 3\n",
       " 2\n",
       " 2\n",
       " 1\n",
       " 1\n",
       " 1\n",
       " 2\n",
       " 1"
      ]
     },
     "execution_count": 15,
     "metadata": {},
     "output_type": "execute_result"
    }
   ],
   "source": [
    "rand(d,100)"
   ]
  },
  {
   "cell_type": "markdown",
   "id": "25d99c66-0915-41f6-8cfa-11f79567d7cf",
   "metadata": {},
   "source": [
    "### Check: Do we recover the stationary distribution $\\bar{\\pi}$?\n",
    "If the distribution `d` represents the stationary distribution $\\bar{\\pi}$, we should be able to generate many samples and estimate the probability that we are in state `s=1`, `s=2`, or `s=3`. Let's sample the distribution `d` to recover the stationary distribution $\\pi$. \n",
    "* We'll compute `number_of_samples` from the distribution `d` and then calculate the frequency of `s = 1`, `s = 2`, and `s = 3` values. These should converge to the stationary probability as the `number_of_samples` becomes large:"
   ]
  },
  {
   "cell_type": "code",
   "execution_count": 16,
   "id": "d8ba781f-abce-430f-97ad-c8adf29df75c",
   "metadata": {
    "tags": []
   },
   "outputs": [],
   "source": [
    "samples = rand(d, number_of_samples);"
   ]
  },
  {
   "cell_type": "markdown",
   "id": "27658628-57d5-46ce-915f-d88d7c9328bc",
   "metadata": {},
   "source": [
    "Compute the counts of the states `s = 1`, `s = 2` and `s = 3` from the `samples` array:"
   ]
  },
  {
   "cell_type": "code",
   "execution_count": 17,
   "id": "a456febd-b82b-431f-9b40-9dcb252137ea",
   "metadata": {
    "tags": []
   },
   "outputs": [],
   "source": [
    "N₁ = findall(x-> x == 1, samples) |> length;\n",
    "N₂ = findall(x-> x == 2, samples) |> length;\n",
    "N₃ = findall(x-> x == 3, samples) |> length;"
   ]
  },
  {
   "cell_type": "markdown",
   "id": "6b2a9746-9fa0-4770-a003-a822a9a22dc6",
   "metadata": {
    "tags": []
   },
   "source": [
    "Finally, we can compute the relative frequency (probability) of the states `s = 1`, `s = 2` and `s = 3` "
   ]
  },
  {
   "cell_type": "code",
   "execution_count": 18,
   "id": "56f883f1-1a3b-4f10-94b6-56821c32401b",
   "metadata": {
    "tags": []
   },
   "outputs": [
    {
     "name": "stdout",
     "output_type": "stream",
     "text": [
      "The sampled probability (p₁,p₂,p₃) = (0.287, 0.416, 0.297)\n"
     ]
    }
   ],
   "source": [
    "p̂₁ = N₁/number_of_samples;\n",
    "p̂₂ = N₂/number_of_samples;\n",
    "p̂₃ = N₃/number_of_samples;\n",
    "println(\"The sampled probability (p₁,p₂,p₃) = ($(p̂₁), $(p̂₂), $(p̂₃))\")"
   ]
  }
 ],
 "metadata": {
  "kernelspec": {
   "display_name": "Julia 1.10.2",
   "language": "julia",
   "name": "julia-1.10"
  },
  "language_info": {
   "file_extension": ".jl",
   "mimetype": "application/julia",
   "name": "julia",
   "version": "1.10.2"
  }
 },
 "nbformat": 4,
 "nbformat_minor": 5
}
