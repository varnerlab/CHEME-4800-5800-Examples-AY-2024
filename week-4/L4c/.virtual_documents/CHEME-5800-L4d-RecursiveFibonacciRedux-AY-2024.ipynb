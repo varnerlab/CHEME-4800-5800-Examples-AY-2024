





include("Include.jl");


N = 25; # compute the Fibonacci sequence from F0 to F25





test_run_basal = @benchmarkable fibonacci_for_loop_dict(N);
tune!(test_run_basal)
result_basal = run(test_run_basal)





result_dictionary = Dict{Int,Int}()
test_run_recursive = @benchmarkable fibonacci!(N, result_dictionary)
tune!(test_run_recursive)
result_recursive = run(test_run_recursive)





result_dictionary_memoization = Dict{Int,Int}()
test_run_recursive_memoization = @benchmarkable memoization_fibonacci!(N, result_dictionary_memoization)
tune!(test_run_recursive_memoization)
result_memoization = run(test_run_recursive_memoization)
