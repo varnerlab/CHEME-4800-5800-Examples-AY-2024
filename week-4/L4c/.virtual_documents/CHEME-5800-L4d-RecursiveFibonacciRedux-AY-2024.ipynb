





include("Include.jl");





n = 25; # compute the Fibonacci sequence from F0 to F25





test_run_basal = @benchmarkable fibonacci_for_loop_dict($(n));
tune!(test_run_basal)
result_basal = run(test_run_basal)


result_basal.times;





result_dictionary = Dict{Int,Int}()
test_run_recursive = @benchmarkable fibonacci!($(n), $(result_dictionary))
tune!(test_run_recursive)
result_recursive = run(test_run_recursive)


result_recursive.times;





result_dictionary_memo = Dict{Int,Int}()
test_run_recursive_memo = @benchmarkable memoization_fibonacci!($(n), $(result_dictionary_memo))
tune!(test_run_recursive_memo)
result_recursive_memo = run(test_run_recursive_memo)


result_recursive_memo.times;



