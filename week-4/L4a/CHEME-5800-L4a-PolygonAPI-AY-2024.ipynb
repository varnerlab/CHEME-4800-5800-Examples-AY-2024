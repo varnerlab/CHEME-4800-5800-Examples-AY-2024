{
 "cells": [
  {
   "cell_type": "markdown",
   "id": "a7cb7ef4-e590-4111-a1d5-38d7dfb9882f",
   "metadata": {},
   "source": [
    "# Example: Let's write a Software Development Kit (SDK) for Polygon.io \n",
    "In this example, students will become familiar with RESTful application programming interfaces (API). We'll implement code to work with the [Polygon.io API](https://polygon.io).\n",
    "\n",
    "* First, look at the [Polygon.io](https://polygon.io) documentation to better understand what endpoints are available, what data is required to make a call, and what we should expect to get back.\n",
    "* Build a [mutable struct model](https://docs.julialang.org/en/v1/manual/types/#Composite-Types) of each endpoint we want to call. This `struct` should have a field for each piece of information with the same names as the `endpoint` (convention, not required)\n",
    "* Build a properly formatted [uniform resource locator (URL) string](https://en.wikipedia.org/wiki/URL) containing the information needed by the `endpoint`\n",
    "* Call the `API` and parse the response using a `handler` function. This takes the raw response coming back from the `API` and turns it into something we can use, e.g., a [DataFrame](https://dataframes.juliadata.org/stable/) for numerical data"
   ]
  },
  {
   "cell_type": "markdown",
   "id": "8e9fc990-50e3-4d0d-9657-9e00c641dc22",
   "metadata": {},
   "source": [
    "## Setup\n",
    "We use build-in or third-party external packages to read data from [Polygon.io](https://polygon.io/). In the `Include.jl` file, we load these packages, and set some required paths for this example."
   ]
  },
  {
   "cell_type": "code",
   "execution_count": 1,
   "id": "955317db-56e3-4702-88e9-314ec4449acf",
   "metadata": {},
   "outputs": [
    {
     "name": "stderr",
     "output_type": "stream",
     "text": [
      "\u001b[32m\u001b[1m  Activating\u001b[22m\u001b[39m project at `~/Desktop/julia_work/CHEME-4800-5800-Examples-AY-2024/week-4/L4a`\n",
      "\u001b[32m\u001b[1m  No Changes\u001b[22m\u001b[39m to `~/Desktop/julia_work/CHEME-4800-5800-Examples-AY-2024/week-4/L4a/Project.toml`\n",
      "\u001b[32m\u001b[1m  No Changes\u001b[22m\u001b[39m to `~/Desktop/julia_work/CHEME-4800-5800-Examples-AY-2024/week-4/L4a/Manifest.toml`\n",
      "\u001b[32m\u001b[1m    Updating\u001b[22m\u001b[39m registry at `~/.julia/registries/General.toml`\n",
      "\u001b[32m\u001b[1m  No Changes\u001b[22m\u001b[39m to `~/Desktop/julia_work/CHEME-4800-5800-Examples-AY-2024/week-4/L4a/Project.toml`\n",
      "\u001b[32m\u001b[1m  No Changes\u001b[22m\u001b[39m to `~/Desktop/julia_work/CHEME-4800-5800-Examples-AY-2024/week-4/L4a/Manifest.toml`\n"
     ]
    }
   ],
   "source": [
    "include(\"Include.jl\");"
   ]
  },
  {
   "cell_type": "markdown",
   "id": "22c8074d-a0cf-43b4-8fd7-06f0dd3f0551",
   "metadata": {},
   "source": [
    "As an example use case for configuration files, we store some configuration data (connection information for [Polygon.io](https://polygon.io/)) in the [Configuration.toml file](conf/Configuration.toml).\n",
    "* We use the [parsefile function](https://docs.julialang.org/en/v1/stdlib/TOML/#TOML.parsefile) exported by the [TOML module in the Julia standard library](https://docs.julialang.org/en/v1/stdlib/TOML/#TOML) to read the configuration file. We store the configuration information in the `configuration` dictionary"
   ]
  },
  {
   "cell_type": "code",
   "execution_count": 2,
   "id": "36d366d3-65ea-4930-9ca2-904384f31c45",
   "metadata": {},
   "outputs": [],
   "source": [
    "configuration = TOML.parsefile(joinpath(_PATH_TO_CONFIG, \"Configuration.toml\"));"
   ]
  },
  {
   "cell_type": "markdown",
   "id": "28e0c4d7-0876-41d2-9242-ece2d69e4eeb",
   "metadata": {},
   "source": [
    "The `baseurl` and `apikey` information is stored in the `connection` section. We can pass multiple `keys` in series to explore the configuration tree and obtain the required data."
   ]
  },
  {
   "cell_type": "code",
   "execution_count": 3,
   "id": "70e1a576-8c8c-4a62-81a8-fcfae5310462",
   "metadata": {},
   "outputs": [],
   "source": [
    "baseurl = configuration[\"connection\"][\"baseurl\"]; # this is short-hand, what is going on?\n",
    "apikey = configuration[\"connection\"][\"apikey\"];"
   ]
  },
  {
   "cell_type": "markdown",
   "id": "70530844-6b68-4aa2-8ceb-53a58d4112e2",
   "metadata": {},
   "source": [
    "## About Polygon.io\n",
    "[Polygon.io](https://polygon.io) is reimagining financial market data for the 21st century by removing barriers, simplifying access, and creating frictionless, forward-thinking technologies. \n",
    "* [Polygon.io](https://polygon.io) believes that access to market data should be a fundamental right, not a privilege reserved for a select few. They provide paid and free data access tiers (even the free access level is excellent)."
   ]
  },
  {
   "cell_type": "markdown",
   "id": "ab4fd596-177e-4aa9-bf7c-be18e5d0fdab",
   "metadata": {},
   "source": [
    "## Build an endpoint model\n",
    "In this example, let's build code to call against the [Aggregates Polygon.io Stocks API endpoint](https://polygon.io/docs/stocks/getting-started). We've created the `MyPolygonStocksAggregatesEndpointModel` struct that holds all the data required to make the API call. We build an instance of the `MyPolygonStocksAggregatesEndpointModel` type using a `build(...)` function encoded in `Factory.jl`. \n",
    "* The `build(...)` method takes two arguments: first, the type we want to build, and second, the data required to build the `MyPolygonStocksAggregatesEndpointModel.` The data is encoded as a [NamedTuple type](https://docs.julialang.org/en/v1/base/base/#Core.NamedTuple). Save the `MyPolygonStocksAggregatesEndpointModel` instance as the `model` variable:"
   ]
  },
  {
   "cell_type": "code",
   "execution_count": 4,
   "id": "ac06102c-0055-47b6-aeb1-a5f470580870",
   "metadata": {},
   "outputs": [],
   "source": [
    "model = build(MyPolygonStocksAggregatesEndpointModel, (\n",
    "            apikey = apikey, \n",
    "            stocksTicker = \"AMD\", # let's pick something\n",
    "            multiplier = 1, \n",
    "            timespan = \"minute\", # we can change the time value; see the API documentation\n",
    "            from = Date(2024,01,12), # start data\n",
    "            to = Date(2024,01,12), # end date\n",
    "            adjusted = true, \n",
    "            sort = \"asc\", \n",
    "            limit = 5000 # max number of records to return\n",
    "    ));"
   ]
  },
  {
   "cell_type": "markdown",
   "id": "7e57d241-78d0-4c31-9880-09a602edbe65",
   "metadata": {},
   "source": [
    "## Build the URL to call Polygon.io using a `GET` request\n",
    "Now that we have specified all the options for the `MyPolygonStocksAggregatesEndpointModel,` let's take this data and encode it into a [URL string](https://en.wikipedia.org/wiki/Query_string) that we'll pass to the `API` as an [HTTP GET request](https://en.wikipedia.org/wiki/HTTP#Request_methods). \n",
    "* We do this using a `build(...)` method, passing in the `baseurl` data from the configuration file as the first argument and the model as the second argument. Let's save `URL` in the `endpoint_url` variable"
   ]
  },
  {
   "cell_type": "code",
   "execution_count": 5,
   "id": "d2360490-2cc8-4784-a0cd-fffe651e1bbb",
   "metadata": {},
   "outputs": [],
   "source": [
    "endpoint_url = build(baseurl, model);"
   ]
  },
  {
   "cell_type": "markdown",
   "id": "d169cfdd-bc74-429a-acaa-3261d199c8d5",
   "metadata": {},
   "source": [
    "## Call the `API` and get the return data formatted as a `DataFrame`\n",
    "Next, we call the `URL` string (make a `GET` request) and then parse the `response` from the `API.` In this case, the response will return as [JSON encoded data](https://en.wikipedia.org/wiki/JSON).\n",
    "* For each endpoint, we need to build a specific `handler` function that understands the response data format and extracts the data we care about or returns everything to the caller.\n",
    "* For the [Stocks Aggregate Polygon.io endpoint](https://polygon.io/docs/stocks/get_v2_aggs_ticker__stocksticker__range__multiplier___timespan___from___to) we want the numerical price and volume data stored in a [DataFrame](https://dataframes.juliadata.org/stable/)\n",
    "* This calling syntax is `super strange` but is a typical pattern in the `Juliaverse.` What does it seem like is going on? (and then we'll look at what is actually happening)"
   ]
  },
  {
   "cell_type": "code",
   "execution_count": 6,
   "id": "d0590b14-8f83-428a-b7c5-5b615d5f06a4",
   "metadata": {},
   "outputs": [
    {
     "name": "stdout",
     "output_type": "stream",
     "text": [
      "\"Error: $(result_model |> something)\" = \"Error: ErrorException(\\\"HTTP GET call failed with status code 401\\\\nStacktrace:\\\\n  [1] _http_get_call_with_url(url::String)\\\\n    @ Main ~/Desktop/julia_work/CHEME-4800-5800-Examples-AY-2024/week-4/L4a/src/Network.jl:16\\\\n  [2] _api(model::Type{MyPolygonStocksAggregatesEndpointModel}, complete_url_string::String; handler::typeof(_default_response_handler))\\\\n    @ Main ~/Desktop/julia_work/CHEME-4800-5800-Examples-AY-2024/week-4/L4a/src/Network.jl:36\\\\n  [3] _api\\\\n    @ ~/Desktop/julia_work/CHEME-4800-5800-Examples-AY-2024/week-4/L4a/src/Network.jl:32 [inlined]\\\\n  [4] MyPolygonStocksAggregatesEndpointModel(baseurl::String)\\\\n    @ Main ~/Desktop/julia_work/CHEME-4800-5800-Examples-AY-2024/week-4/L4a/src/Network.jl:52\\\\n  [5] top-level scope\\\\n    @ In[6]:1\\\\n  [6] eval\\\\n    @ ./boot.jl:385 [inlined]\\\\n  [7] include_string(mapexpr::typeof(REPL.softscope), mod::Module, code::String, filename::String)\\\\n    @ Base ./loading.jl:2070\\\\n  [8] softscope_include_string(m::Module, code::String, filename::String)\\\\n    @ SoftGlobalScope ~/.julia/packages/SoftGlobalScope/u4UzH/src/SoftGlobalScope.jl:65\\\\n  [9] execute_request(socket::ZMQ.Socket, msg::IJulia.Msg)\\\\n    @ IJulia ~/.julia/packages/IJulia/Vo51o/src/execute_request.jl:67\\\\n [10] #invokelatest#2\\\\n    @ ./essentials.jl:887 [inlined]\\\\n [11] invokelatest\\\\n    @ ./essentials.jl:884 [inlined]\\\\n [12] eventloop(socket::ZMQ.Socket)\\\\n    @ IJulia ~/.julia/packages/IJulia/Vo51o/src/eventloop.jl:8\\\\n [13] (::IJulia.var\\\\\\\"#15#18\\\\\\\")()\\\\n    @ IJulia ~/.julia/packages/IJulia/Vo51o/src/eventloop.jl:38\\\")\"\n"
     ]
    },
    {
     "ename": "LoadError",
     "evalue": "MethodError: no method matching _default_response_handler(::Type{MyPolygonStocksAggregatesEndpointModel}, ::Nothing)\n\n\u001b[0mClosest candidates are:\n\u001b[0m  _default_response_handler(::Type{T}, \u001b[91m::String\u001b[39m) where T<:AbstractPolygonEndpointModel\n\u001b[0m\u001b[90m   @\u001b[39m \u001b[35mMain\u001b[39m \u001b[90m~/Desktop/julia_work/CHEME-4800-5800-Examples-AY-2024/week-4/L4a/src/\u001b[39m\u001b[90m\u001b[4mHandlers.jl:41\u001b[24m\u001b[39m\n",
     "output_type": "error",
     "traceback": [
      "MethodError: no method matching _default_response_handler(::Type{MyPolygonStocksAggregatesEndpointModel}, ::Nothing)\n\n\u001b[0mClosest candidates are:\n\u001b[0m  _default_response_handler(::Type{T}, \u001b[91m::String\u001b[39m) where T<:AbstractPolygonEndpointModel\n\u001b[0m\u001b[90m   @\u001b[39m \u001b[35mMain\u001b[39m \u001b[90m~/Desktop/julia_work/CHEME-4800-5800-Examples-AY-2024/week-4/L4a/src/\u001b[39m\u001b[90m\u001b[4mHandlers.jl:41\u001b[24m\u001b[39m\n",
      "",
      "Stacktrace:",
      " [1] _api(model::Type{MyPolygonStocksAggregatesEndpointModel}, complete_url_string::String; handler::typeof(_default_response_handler))",
      "   @ Main ~/Desktop/julia_work/CHEME-4800-5800-Examples-AY-2024/week-4/L4a/src/Network.jl:47",
      " [2] _api",
      "   @ ~/Desktop/julia_work/CHEME-4800-5800-Examples-AY-2024/week-4/L4a/src/Network.jl:32 [inlined]",
      " [3] MyPolygonStocksAggregatesEndpointModel(baseurl::String)",
      "   @ Main ~/Desktop/julia_work/CHEME-4800-5800-Examples-AY-2024/week-4/L4a/src/Network.jl:52",
      " [4] top-level scope",
      "   @ In[6]:1"
     ]
    }
   ],
   "source": [
    "data = MyPolygonStocksAggregatesEndpointModel(endpoint_url)"
   ]
  },
  {
   "cell_type": "markdown",
   "id": "f7a775f3-69ed-4d3d-aca9-5aa629e34fc9",
   "metadata": {},
   "source": [
    "## Visualize\n",
    "`Unhide` the code block below to see how we plotted the `vwap,` `open,` and the `close` prices for your ticker of interest. This code uses functions exported by the [Plots.jl package](https://github.com/JuliaPlots/Plots.jl)"
   ]
  },
  {
   "cell_type": "code",
   "execution_count": 7,
   "id": "51215b10-5d42-433f-b9e4-d4ecdf0a050a",
   "metadata": {
    "jupyter": {
     "source_hidden": true
    }
   },
   "outputs": [
    {
     "ename": "LoadError",
     "evalue": "UndefVarError: `data` not defined",
     "output_type": "error",
     "traceback": [
      "UndefVarError: `data` not defined",
      "",
      "Stacktrace:",
      " [1] top-level scope",
      "   @ In[7]:1"
     ]
    }
   ],
   "source": [
    "plot(data[:,:vw], lw=3, label=\"VWAP\")\n",
    "plot!(data[:,:o], lw=3, label=\"open\")\n",
    "plot!(data[:,:c], lw=3, label=\"close\")\n",
    "xlabel!(\"Trading period index\", fontsize = 18)\n",
    "ylabel!(\"Share price (USD/share)\", fontsize = 18)"
   ]
  },
  {
   "cell_type": "code",
   "execution_count": null,
   "id": "2cc9aa81-6d5d-4370-96c9-db3c163d3e23",
   "metadata": {},
   "outputs": [],
   "source": []
  }
 ],
 "metadata": {
  "kernelspec": {
   "display_name": "Julia 1.10.0",
   "language": "julia",
   "name": "julia-1.10"
  },
  "language_info": {
   "file_extension": ".jl",
   "mimetype": "application/julia",
   "name": "julia",
   "version": "1.10.0"
  }
 },
 "nbformat": 4,
 "nbformat_minor": 5
}
