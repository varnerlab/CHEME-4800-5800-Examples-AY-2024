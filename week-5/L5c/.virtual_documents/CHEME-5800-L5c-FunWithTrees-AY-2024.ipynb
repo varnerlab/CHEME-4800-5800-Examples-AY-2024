





include("Include.jl");





array_price_tree = build(ArrayBasedTernaryCommodityPriceTree;
    h = 2, price = 100.0, u = 0.04, d = 0.01)


array_price_tree.data





adj_price_tree = build(AdjacencyBasedTernaryCommodityPriceTree;
    h = 2, price = 100.0, u = 0.04, d = 0.01)


adj_price_tree.data


adj_price_tree.connectivity



