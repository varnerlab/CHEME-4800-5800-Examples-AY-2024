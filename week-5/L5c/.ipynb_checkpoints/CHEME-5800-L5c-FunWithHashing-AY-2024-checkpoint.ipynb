{
 "cells": [
  {
   "cell_type": "markdown",
   "id": "2d86155a-0446-4e0f-8f74-2dd7f368e684",
   "metadata": {},
   "source": [
    "# Example: Fun with Hashing Functions\n",
    "Fill me in"
   ]
  },
  {
   "cell_type": "markdown",
   "id": "b6e591b2-c1be-4225-8fc6-cb5b0f33cbbb",
   "metadata": {},
   "source": [
    "## Setup\n",
    "This example may use external third-party packages. In the `Include.jl` file, we load our codes to access them in the notebook, set some required paths for this example, and load any required external packages."
   ]
  },
  {
   "cell_type": "code",
   "execution_count": 1,
   "id": "7e372ede-f178-474f-9f68-857979ab764f",
   "metadata": {},
   "outputs": [
    {
     "name": "stderr",
     "output_type": "stream",
     "text": [
      "\u001b[32m\u001b[1m  Activating\u001b[22m\u001b[39m project at `~/Desktop/julia_work/CHEME-4800-5800-Examples-AY-2024/week-5/L5c`\n",
      "\u001b[32m\u001b[1m  No Changes\u001b[22m\u001b[39m to `~/Desktop/julia_work/CHEME-4800-5800-Examples-AY-2024/week-5/L5c/Project.toml`\n",
      "\u001b[32m\u001b[1m  No Changes\u001b[22m\u001b[39m to `~/Desktop/julia_work/CHEME-4800-5800-Examples-AY-2024/week-5/L5c/Manifest.toml`\n",
      "\u001b[32m\u001b[1m    Updating\u001b[22m\u001b[39m registry at `~/.julia/registries/General.toml`\n",
      "\u001b[32m\u001b[1m  No Changes\u001b[22m\u001b[39m to `~/Desktop/julia_work/CHEME-4800-5800-Examples-AY-2024/week-5/L5c/Project.toml`\n",
      "\u001b[32m\u001b[1m  No Changes\u001b[22m\u001b[39m to `~/Desktop/julia_work/CHEME-4800-5800-Examples-AY-2024/week-5/L5c/Manifest.toml`\n"
     ]
    },
    {
     "data": {
      "text/plain": [
       "myhash"
      ]
     },
     "execution_count": 1,
     "metadata": {},
     "output_type": "execute_result"
    }
   ],
   "source": [
    "include(\"Include.jl\")"
   ]
  },
  {
   "cell_type": "markdown",
   "id": "8d2a7d35-f692-468f-a5ff-d139233dc79c",
   "metadata": {},
   "source": [
    "## Example: Computing the `hashcode` of a String using a Linear hash function\n",
    "One of the interesting (and amazing!) things about the [Dictionary type in Julia](https://docs.julialang.org/en/v1/base/collections/#Base.Dict) or [Python](https://docs.python.org/3/tutorial/datastructures.html#dictionaries) is the ability to map `any key` => to `any value`, where the `key` is unique. But how does this work?\n",
    "* Behind the scenes, we use a `hash` function to take a `key` and convert it into an `Int` index into an `Array{typeof{value},1}` that holds the value. Thus, the magic of a dictionary is just a clever way of computing an array index.\n",
    "\n",
    "Let's specify a `test_string` with some data in it:"
   ]
  },
  {
   "cell_type": "code",
   "execution_count": 2,
   "id": "06a0fd8b-2ac2-4c82-a20c-f44ccd86ebc1",
   "metadata": {},
   "outputs": [],
   "source": [
    "test_string = \"This is a test string\";"
   ]
  },
  {
   "cell_type": "markdown",
   "id": "7b6262b5-eb78-4c4d-9e61-e64c7ba634ed",
   "metadata": {},
   "source": [
    "Next, let's use the `myhash(...)` function in the `src/Compute.jl` file to compute the `hashcode` of the `test_string`. The `myhash(...)` function is an example of a `linear hash function` of the form:\n",
    "$$\n",
    "h(x) = (ax+b)~\\text{mod}~{m}\n",
    "$$\n",
    "where $\\text{mod}$ denotes the [modulo operation](https://en.wikipedia.org/wiki/Modulo), and $a,b$ and $m$ are parameters. The $m$ parameter (called the `size`) strongly influences the likelihood of `collisions`; see below. "
   ]
  },
  {
   "cell_type": "code",
   "execution_count": 7,
   "id": "40ea1a14-7cbf-46bc-8a46-c04a85d430df",
   "metadata": {},
   "outputs": [
    {
     "data": {
      "text/plain": [
       "484"
      ]
     },
     "execution_count": 7,
     "metadata": {},
     "output_type": "execute_result"
    }
   ],
   "source": [
    "test_hashed_value = myhash(test_string, β = 31, size = 1000) # big size"
   ]
  },
  {
   "cell_type": "markdown",
   "id": "3c78d16a-762b-46d4-b90e-f1bbcfd0ca0d",
   "metadata": {},
   "source": [
    "### OK, but does this trick always work?\n",
    "The short answer is no; sometimes, there may be `collisions` when generating the `hash` of a `key.` When the `size` parameter is `small,` there is a higher likelihood that two strings will get mapped to the same `hashcode`:"
   ]
  },
  {
   "cell_type": "code",
   "execution_count": 21,
   "id": "bf2e6288-0fdb-4800-9f60-ed4c5b136667",
   "metadata": {},
   "outputs": [
    {
     "data": {
      "text/plain": [
       "\"CHEME-4800-5800\""
      ]
     },
     "execution_count": 21,
     "metadata": {},
     "output_type": "execute_result"
    }
   ],
   "source": [
    "another_test_string = \"CHEME-4800-5800\""
   ]
  },
  {
   "cell_type": "code",
   "execution_count": 23,
   "id": "7b07a3e0-47b8-4725-9669-a1f665905ee1",
   "metadata": {},
   "outputs": [
    {
     "data": {
      "text/plain": [
       "823"
      ]
     },
     "execution_count": 23,
     "metadata": {},
     "output_type": "execute_result"
    }
   ],
   "source": [
    "another_hashed_value = myhash(another_test_string, β = 31, size = 1000)"
   ]
  },
  {
   "cell_type": "code",
   "execution_count": null,
   "id": "d99aa30b-232b-48c5-9bc5-4d2d098617fb",
   "metadata": {},
   "outputs": [],
   "source": []
  }
 ],
 "metadata": {
  "kernelspec": {
   "display_name": "Julia 1.10.1",
   "language": "julia",
   "name": "julia-1.10"
  },
  "language_info": {
   "file_extension": ".jl",
   "mimetype": "application/julia",
   "name": "julia",
   "version": "1.10.1"
  }
 },
 "nbformat": 4,
 "nbformat_minor": 5
}
