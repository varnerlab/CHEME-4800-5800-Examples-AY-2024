{
 "cells": [
  {
   "cell_type": "markdown",
   "id": "f8661b0d-c30f-4ff8-8eef-c1c3f21b5640",
   "metadata": {},
   "source": [
    "# Example: Let's build a ternary price tree\n",
    "In this example, students will become familiar with the different internal representations of trees, particularly a ternary price tree where the price of a commodity tomorrow can go up, stay the same, or go down. \n",
    "* Array-based representations encode the `data` of the tree and do not encode any information about the connectivity of the tree, i.e., there is no information about `parent=>child` relationships. The creator of the tree is expected to know this information\n",
    "* On the other hand, adjacency-based tree representations encode both the `data` of the tree and information about the `connectivity` of the tree, i.e., information about `parent=>child` relationships. "
   ]
  },
  {
   "cell_type": "markdown",
   "id": "62660678-3b89-483c-bd93-70da21d46acb",
   "metadata": {},
   "source": [
    "## Setup\n",
    "This example may use external third-party packages. In the `Include.jl` file, we load our codes to access them in the notebook, set some required paths for this example, and load any required external packages."
   ]
  },
  {
   "cell_type": "code",
   "execution_count": 1,
   "id": "afd6bc40-ec86-4dfc-8de3-c84b659ec026",
   "metadata": {},
   "outputs": [
    {
     "name": "stderr",
     "output_type": "stream",
     "text": [
      "\u001b[32m\u001b[1m  Activating\u001b[22m\u001b[39m project at `~/Desktop/julia_work/CHEME-4800-5800-Examples-AY-2024/week-5/L5c`\n",
      "\u001b[32m\u001b[1m  No Changes\u001b[22m\u001b[39m to `~/Desktop/julia_work/CHEME-4800-5800-Examples-AY-2024/week-5/L5c/Project.toml`\n",
      "\u001b[32m\u001b[1m  No Changes\u001b[22m\u001b[39m to `~/Desktop/julia_work/CHEME-4800-5800-Examples-AY-2024/week-5/L5c/Manifest.toml`\n",
      "\u001b[32m\u001b[1m    Updating\u001b[22m\u001b[39m registry at `~/.julia/registries/General.toml`\n",
      "\u001b[32m\u001b[1m  No Changes\u001b[22m\u001b[39m to `~/Desktop/julia_work/CHEME-4800-5800-Examples-AY-2024/week-5/L5c/Project.toml`\n",
      "\u001b[32m\u001b[1m  No Changes\u001b[22m\u001b[39m to `~/Desktop/julia_work/CHEME-4800-5800-Examples-AY-2024/week-5/L5c/Manifest.toml`\n"
     ]
    }
   ],
   "source": [
    "include(\"Include.jl\");"
   ]
  },
  {
   "cell_type": "markdown",
   "id": "5bd646db-aa9f-47e4-82d1-d324097e1d13",
   "metadata": {},
   "source": [
    "## Example 1: Array-based representation of a `3-tree`\n",
    "Let's consider the array-based representation of a `3-tree` where each `node` in the tree has `three` children nodes. Each parent `node` is a hypothetical price at time $t$, while each `child` node is a possible price at time $t+\\Delta{t}$.\n",
    "* We've modeled this case using the `ArrayBasedTernaryCommodityPriceTree` type, encoded in the `src/Types.jl` file. We pass some required information to a `build(...)` method encoded in the `src/Factory.jl` file to build this type."
   ]
  },
  {
   "cell_type": "code",
   "execution_count": 7,
   "id": "a156b8c0-9e90-4de6-9c28-13ab19439968",
   "metadata": {},
   "outputs": [
    {
     "data": {
      "text/plain": [
       "ArrayBasedTernaryCommodityPriceTree(Dict(5 => 104.0, 12 => 98.01, 8 => 100.0, 1 => 104.0, 0 => 100.0, 6 => 102.96, 11 => 99.0, 9 => 99.0, 3 => 99.0, 7 => 104.0…))"
      ]
     },
     "execution_count": 7,
     "metadata": {},
     "output_type": "execute_result"
    }
   ],
   "source": [
    "array_price_tree = build(ArrayBasedTernaryCommodityPriceTree;\n",
    "    h = 2, price = 100.0, u = 0.04, d = 0.01)"
   ]
  },
  {
   "cell_type": "code",
   "execution_count": 8,
   "id": "de83578b-d10e-4d03-8a8a-9f928b784780",
   "metadata": {},
   "outputs": [
    {
     "data": {
      "text/plain": [
       "Dict{Int64, Float64} with 13 entries:\n",
       "  5  => 104.0\n",
       "  12 => 98.01\n",
       "  8  => 100.0\n",
       "  1  => 104.0\n",
       "  0  => 100.0\n",
       "  6  => 102.96\n",
       "  11 => 99.0\n",
       "  9  => 99.0\n",
       "  3  => 99.0\n",
       "  7  => 104.0\n",
       "  4  => 108.16\n",
       "  2  => 100.0\n",
       "  10 => 102.96"
      ]
     },
     "execution_count": 8,
     "metadata": {},
     "output_type": "execute_result"
    }
   ],
   "source": [
    "array_price_tree.data"
   ]
  },
  {
   "cell_type": "markdown",
   "id": "bb64a668-0f9d-46f4-928e-ea7e7775f6fa",
   "metadata": {},
   "source": [
    "## Example 2: Adjacency-based representation of a `3-tree`\n",
    "Alternatively, we could consider an adjacency-based representation of the price tree that breaks apart the data representation for the connectivity information. \n",
    "* We've modeled this case using the `AdjacencyBasedTernaryCommodityPriceTree` type encoded in the `src/Types.jl` file. We pass some required information to a `build(...)` method encoded in the `src/Factory.jl` file to build this type."
   ]
  },
  {
   "cell_type": "code",
   "execution_count": 9,
   "id": "1699194b-580d-405a-ba6b-29335331ed37",
   "metadata": {},
   "outputs": [
    {
     "data": {
      "text/plain": [
       "AdjacencyBasedTernaryCommodityPriceTree(Dict(5 => 104.0, 12 => 98.01, 8 => 100.0, 1 => 104.0, 0 => 100.0, 6 => 102.96, 11 => 99.0, 9 => 99.0, 3 => 99.0, 7 => 104.0…), Dict(0 => [1, 2, 3], 2 => [7, 8, 9], 3 => [10, 11, 12], 1 => [4, 5, 6]))"
      ]
     },
     "execution_count": 9,
     "metadata": {},
     "output_type": "execute_result"
    }
   ],
   "source": [
    "adj_price_tree = build(AdjacencyBasedTernaryCommodityPriceTree;\n",
    "    h = 2, price = 100.0, u = 0.04, d = 0.01)"
   ]
  },
  {
   "cell_type": "code",
   "execution_count": 10,
   "id": "c1469dcb-0597-4345-87e4-38484b405b4f",
   "metadata": {},
   "outputs": [
    {
     "data": {
      "text/plain": [
       "Dict{Int64, Float64} with 13 entries:\n",
       "  5  => 104.0\n",
       "  12 => 98.01\n",
       "  8  => 100.0\n",
       "  1  => 104.0\n",
       "  0  => 100.0\n",
       "  6  => 102.96\n",
       "  11 => 99.0\n",
       "  9  => 99.0\n",
       "  3  => 99.0\n",
       "  7  => 104.0\n",
       "  4  => 108.16\n",
       "  2  => 100.0\n",
       "  10 => 102.96"
      ]
     },
     "execution_count": 10,
     "metadata": {},
     "output_type": "execute_result"
    }
   ],
   "source": [
    "adj_price_tree.data"
   ]
  },
  {
   "cell_type": "code",
   "execution_count": 11,
   "id": "d25a19c1-2312-450a-99cf-41b20382e2b5",
   "metadata": {},
   "outputs": [
    {
     "data": {
      "text/plain": [
       "Dict{Int64, Vector{Int64}} with 4 entries:\n",
       "  0 => [1, 2, 3]\n",
       "  2 => [7, 8, 9]\n",
       "  3 => [10, 11, 12]\n",
       "  1 => [4, 5, 6]"
      ]
     },
     "execution_count": 11,
     "metadata": {},
     "output_type": "execute_result"
    }
   ],
   "source": [
    "adj_price_tree.connectivity"
   ]
  },
  {
   "cell_type": "code",
   "execution_count": null,
   "id": "dc068ca8-3b85-414e-9d81-f852a1d4f1ff",
   "metadata": {},
   "outputs": [],
   "source": []
  }
 ],
 "metadata": {
  "kernelspec": {
   "display_name": "Julia 1.10.1",
   "language": "julia",
   "name": "julia-1.10"
  },
  "language_info": {
   "file_extension": ".jl",
   "mimetype": "application/julia",
   "name": "julia",
   "version": "1.10.1"
  }
 },
 "nbformat": 4,
 "nbformat_minor": 5
}
