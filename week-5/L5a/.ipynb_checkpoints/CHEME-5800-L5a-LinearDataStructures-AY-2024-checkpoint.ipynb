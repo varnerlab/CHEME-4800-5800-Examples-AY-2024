{
 "cells": [
  {
   "cell_type": "markdown",
   "id": "185f4521-06f7-46e3-84e5-1791f2d0ec92",
   "metadata": {},
   "source": [
    "## Example: Introduction to Linear Data Structures\n",
    "This example will familiarize students with working with [Linear Data Structures](https://varnerlab.github.io/CHEME-4800-5800-ComputingBook/unit-2-data/trees.html#linear-data-structures). [Linear data structures](https://varnerlab.github.io/CHEME-4800-5800-ComputingBook/unit-2-data/trees.html#linear-data-structures) store elements linearly, meaning that they are arranged in a sequence one after the other. This contrasts with non-linear data structures, which do not have a strict sequential order. We'll consider four examples: working with [Arrays](https://varnerlab.github.io/CHEME-4800-5800-ComputingBook/unit-2-data/trees.html#arrays), [Stacks](https://varnerlab.github.io/CHEME-4800-5800-ComputingBook/unit-2-data/trees.html#stacks), [Queues](https://varnerlab.github.io/CHEME-4800-5800-ComputingBook/unit-2-data/trees.html#queues), and [Linked Lists](https://varnerlab.github.io/CHEME-4800-5800-ComputingBook/unit-2-data/trees.html#linked-lists)."
   ]
  },
  {
   "cell_type": "markdown",
   "id": "7d836830-ee81-45ef-a759-142f609de119",
   "metadata": {},
   "source": [
    "### Setup\n",
    "This example uses external third-party packages. In the `Include.jl` file, we load our codes to access them in the notebook, set some required paths for this example, and load external packages."
   ]
  },
  {
   "cell_type": "code",
   "execution_count": 1,
   "id": "f8cc3bd3-75e2-4b49-820f-4eea54f1f63f",
   "metadata": {},
   "outputs": [
    {
     "name": "stderr",
     "output_type": "stream",
     "text": [
      "\u001b[32m\u001b[1m  Activating\u001b[22m\u001b[39m project at `~/Desktop/julia_work/CHEME-4800-5800-Examples-AY-2024/week-5/L5a`\n",
      "\u001b[32m\u001b[1m  No Changes\u001b[22m\u001b[39m to `~/Desktop/julia_work/CHEME-4800-5800-Examples-AY-2024/week-5/L5a/Project.toml`\n",
      "\u001b[32m\u001b[1m  No Changes\u001b[22m\u001b[39m to `~/Desktop/julia_work/CHEME-4800-5800-Examples-AY-2024/week-5/L5a/Manifest.toml`\n",
      "\u001b[32m\u001b[1m    Updating\u001b[22m\u001b[39m registry at `~/.julia/registries/General.toml`\n",
      "\u001b[32m\u001b[1m  No Changes\u001b[22m\u001b[39m to `~/Desktop/julia_work/CHEME-4800-5800-Examples-AY-2024/week-5/L5a/Project.toml`\n",
      "\u001b[32m\u001b[1m    Updating\u001b[22m\u001b[39m `~/Desktop/julia_work/CHEME-4800-5800-Examples-AY-2024/week-5/L5a/Manifest.toml`\n",
      "  \u001b[90m[34da2185] \u001b[39m\u001b[93m↑ Compat v4.12.0 ⇒ v4.13.0\u001b[39m\n"
     ]
    }
   ],
   "source": [
    "include(\"Include.jl\")"
   ]
  },
  {
   "cell_type": "markdown",
   "id": "3ddf307a-8d13-4097-8f85-b046aafc678b",
   "metadata": {},
   "source": [
    "### Example 1: Working with `Arrays`\n",
    "An array is a data structure that stores a collection of items of the same type in a _contiguous_ block of memory. The items in an array are accessed using an integer index, representing the item’s position in the collection. In most programming languages, arrays are zero-indexed, i.e., the first element in the array has an index of `0`, the second element has an index of `1`, and so on.\n",
    "* However, arrays in [Julia](https://julialang.org) are one-based, i.e., the first element has an index `1`, the second element has an index `2`, etc. "
   ]
  },
  {
   "cell_type": "code",
   "execution_count": 2,
   "id": "90e2e002-66d7-4415-b242-6674d9184b5c",
   "metadata": {},
   "outputs": [
    {
     "name": "stdout",
     "output_type": "stream",
     "text": [
      "The third element of a = 8\n"
     ]
    }
   ],
   "source": [
    "a = [2, 4, 8, 16, 32, 64] # define an array\n",
    "i = 3 # What is the 3rd element of the array a?\n",
    "println(\"The third element of a = $(a[i])\")"
   ]
  },
  {
   "cell_type": "markdown",
   "id": "99e5f6fd-4a40-4432-a4fe-cb22bb5e7ce6",
   "metadata": {},
   "source": [
    "There are different sizes (types) of arrays, such as one-dimensional arrays (vectors), which store a linear sequence of elements, and multi-dimensional arrays, e.g., two-dimensional arrays (matrices) or arrays of arrays that store data in more complex structures.\n",
    "* In [Julia](https://julialang.org), the size of an array and the type of data that will be stored in the array are declared when you initialize the array. For example, a 1-dimensional array of indefinite length that holds integers is declared as: "
   ]
  },
  {
   "cell_type": "code",
   "execution_count": 3,
   "id": "817af99b-c6be-4868-af54-4d9e81424f4b",
   "metadata": {},
   "outputs": [
    {
     "name": "stdout",
     "output_type": "stream",
     "text": [
      "Elements of arr = [1, 2, 4]\n"
     ]
    }
   ],
   "source": [
    "arr = Array{Int64,1}() # the array is empty, infinite length\n",
    "\n",
    "# When an array has an undefined length, we use the push! operation to add values\n",
    "push!(arr,1); # adds a 1 to index 1\n",
    "push!(arr,2); # adds a 2 to index 2\n",
    "push!(arr,4); # adds a 4 to index 3\n",
    "\n",
    "# print elements of the array -\n",
    "println(\"Elements of arr = $(arr)\")"
   ]
  },
  {
   "cell_type": "markdown",
   "id": "af30a0a6-7bcb-48f7-b3aa-9f62ab4ac52d",
   "metadata": {},
   "source": [
    "Of course, if you know how many elements you need the array to store beforehand, you can declare that when the array is constructed:"
   ]
  },
  {
   "cell_type": "code",
   "execution_count": 4,
   "id": "07f4d50d-95ce-4dba-b955-285a4cb7b103",
   "metadata": {},
   "outputs": [
    {
     "name": "stdout",
     "output_type": "stream",
     "text": [
      "Elements of arr = [2, 4, 8, 16, 32, 64, 128, 256, 512, 1024]\n"
     ]
    }
   ],
   "source": [
    "arr = Array{Int64,1}(undef, 10) # the array has 10 elements, each initialized to undefined\n",
    "\n",
    "# When an array has a defined length, we use the = operation to add values\n",
    "for i ∈ 1:10\n",
    "  arr[i] = 2^i # fills the array with powers of 2\n",
    "end\n",
    "println(\"Elements of arr = $(arr)\") # print elements of the array -"
   ]
  },
  {
   "cell_type": "markdown",
   "id": "111d9978-b522-41fa-8fbe-d798e81990eb",
   "metadata": {},
   "source": [
    "Two-dimensional arrays follow a similar pattern when we declare the array; however, there is no direct equivalent to the `push!` operation for two- (or higher) dimensional arrays. Thus, when dealing with multi-dimensional arrays, we typically need to know the size of each dimension when we declare the array:"
   ]
  },
  {
   "cell_type": "code",
   "execution_count": 5,
   "id": "d51cc512-77fd-4fa7-a197-77fb5b6af9d8",
   "metadata": {},
   "outputs": [
    {
     "data": {
      "text/plain": [
       "4×4 Matrix{Int64}:\n",
       " 2  4  8  16\n",
       " 0  4  8  16\n",
       " 0  0  8  16\n",
       " 0  0  0  16"
      ]
     },
     "execution_count": 5,
     "metadata": {},
     "output_type": "execute_result"
    }
   ],
   "source": [
    "# Define a 2-dimensional array A\n",
    "A = Array{Int64, 2}(undef, 4, 4) # array of Int's has 4 rows, 4 cols, initialized to undefined\n",
    "\n",
    "# When an array has a defined length, we use the = operation to add values\n",
    "# This creates an upper-triangular matrix with powers 2\n",
    "for i in 1:4\n",
    "  for j in 1:4\n",
    "    if (i<=j)\n",
    "      A[i,j] = 2^j # fills the array with powers of 2 along the col index\n",
    "    else\n",
    "      A[i,j] = 0 # adds a zero\n",
    "    end\n",
    "  end\n",
    "end\n",
    "A"
   ]
  },
  {
   "cell_type": "markdown",
   "id": "013fded7-3af0-406a-bd8e-f34356c36768",
   "metadata": {},
   "source": [
    "### Example 2: Working with `Stacks`\n",
    "A `stack` is a linear data structure that provides first-in-last-out (FILO) access to the elements in the `stack.` A `Stack` type is exported by the [DataStructures.jl package](https://github.com/JuliaCollections/DataStructures.jl). \n",
    "\n",
    "* Let's construct an empty `stack` that holds [Characters](https://docs.julialang.org/en/v1/manual/strings/#man-characters), add data to the `stack` using the `push!` function, and then remove data from the `stack` using the `pop!` operation"
   ]
  },
  {
   "cell_type": "code",
   "execution_count": 6,
   "id": "a251534e-8955-4ab3-8512-c6505c07e384",
   "metadata": {},
   "outputs": [],
   "source": [
    "s = Stack{Char}(); # create an empty stack"
   ]
  },
  {
   "cell_type": "markdown",
   "id": "92569834-4582-4415-b50e-1ed7c0e8c6ae",
   "metadata": {},
   "source": [
    "Next, let's put some data in the `Stack,` for example, the `Char` components of a `String,` e.g., the characters in the molecular formula of [glucose](https://www.ebi.ac.uk/chebi/searchId.do?chebiId=17234#:~:text=Glucose%20is%20a%20sugar%20with%20the%20molecular%20formula%20C6H12O6.):"
   ]
  },
  {
   "cell_type": "code",
   "execution_count": 7,
   "id": "ca4d0b93-20f4-43be-86e7-6061184d5cac",
   "metadata": {},
   "outputs": [],
   "source": [
    "glucose = \"C6H12O6\" |> collect;"
   ]
  },
  {
   "cell_type": "markdown",
   "id": "e9206569-bce3-4035-a46a-43c1e96cac1e",
   "metadata": {},
   "source": [
    "add the characters that make up the string `glucose` to `s` using the `push!` function:"
   ]
  },
  {
   "cell_type": "code",
   "execution_count": 8,
   "id": "90432747-d14e-47e9-93f4-850e58532110",
   "metadata": {},
   "outputs": [
    {
     "name": "stdout",
     "output_type": "stream",
     "text": [
      "s = Stack{Char}(Deque [['C']])\n",
      "s = Stack{Char}(Deque [['C', '6']])\n",
      "s = Stack{Char}(Deque [['C', '6', 'H']])\n",
      "s = Stack{Char}(Deque [['C', '6', 'H', '1']])\n",
      "s = Stack{Char}(Deque [['C', '6', 'H', '1', '2']])\n",
      "s = Stack{Char}(Deque [['C', '6', 'H', '1', '2', 'O']])\n",
      "s = Stack{Char}(Deque [['C', '6', 'H', '1', '2', 'O', '6']])\n"
     ]
    }
   ],
   "source": [
    "for c ∈ glucose\n",
    "    push!(s,c)\n",
    "    @show s\n",
    "end"
   ]
  },
  {
   "cell_type": "markdown",
   "id": "b5f44b19-44ee-46da-863e-12e5e3fc4cd2",
   "metadata": {},
   "source": [
    "Now, let's empty `s` using the `pop!` function, where we demonstrate a very common `while-loop` iteration pattern when working `Stack` data types:"
   ]
  },
  {
   "cell_type": "code",
   "execution_count": 9,
   "id": "f8420788-4581-49f9-b33b-48f00933a4a2",
   "metadata": {},
   "outputs": [
    {
     "name": "stdout",
     "output_type": "stream",
     "text": [
      "(c, s) = ('6', Stack{Char}(Deque [['C', '6', 'H', '1', '2', 'O']]))\n",
      "(c, s) = ('O', Stack{Char}(Deque [['C', '6', 'H', '1', '2']]))\n",
      "(c, s) = ('2', Stack{Char}(Deque [['C', '6', 'H', '1']]))\n",
      "(c, s) = ('1', Stack{Char}(Deque [['C', '6', 'H']]))\n",
      "(c, s) = ('H', Stack{Char}(Deque [['C', '6']]))\n",
      "(c, s) = ('6', Stack{Char}(Deque [['C']]))\n",
      "(c, s) = ('C', Stack{Char}(Deque [Char[]]))\n"
     ]
    }
   ],
   "source": [
    "while (isempty(s) == false)\n",
    "    c = pop!(s)\n",
    "    @show c,s\n",
    "end"
   ]
  },
  {
   "cell_type": "markdown",
   "id": "57ca36d8-5db6-42b6-a27d-b1dd624954ec",
   "metadata": {},
   "source": [
    "### Example 3: Working with `Queues`\n",
    "A `queue` is a linear data structure that provides first-in-first-out (FIFO) access to the elements in the `queue`. A `Queue` type is exported by the [DataStructures.jl package](https://github.com/JuliaCollections/DataStructures.jl). \n",
    "\n",
    "* Let's construct an empty `queue` that holds [Characters](https://docs.julialang.org/en/v1/manual/strings/#man-characters), add data to the `queue` using the `enqueue!` function, and then remove data from the `queue` using the `dequeue!` operation"
   ]
  },
  {
   "cell_type": "code",
   "execution_count": 10,
   "id": "c3ad16a1-ccb8-4641-bdfa-af2aa87a2a24",
   "metadata": {},
   "outputs": [],
   "source": [
    "q = Queue{Char}(); # create an empty queue"
   ]
  },
  {
   "cell_type": "markdown",
   "id": "3a60acf5-cdea-4015-ba8a-b239d0e20ade",
   "metadata": {},
   "source": [
    "Next, let's put some data in the `Queue,` for example, the `Char` components of a `String,` e.g., the characters in the molecular formula of [glucose](https://www.ebi.ac.uk/chebi/searchId.do?chebiId=17234#:~:text=Glucose%20is%20a%20sugar%20with%20the%20molecular%20formula%20C6H12O6.):"
   ]
  },
  {
   "cell_type": "code",
   "execution_count": 11,
   "id": "683916e7-f359-4d84-aa2b-5ec2d634c25f",
   "metadata": {},
   "outputs": [],
   "source": [
    "glucose = \"C6H12O6\" |> collect;"
   ]
  },
  {
   "cell_type": "markdown",
   "id": "7c262d01-f596-47f5-aeb0-d8a8c89b927d",
   "metadata": {},
   "source": [
    "add the characters that make up the string `glucose` to `q` using the `enqueue!` function:"
   ]
  },
  {
   "cell_type": "code",
   "execution_count": 12,
   "id": "cdc9f1c4-95d8-443c-957b-2b57aebad91d",
   "metadata": {},
   "outputs": [
    {
     "name": "stdout",
     "output_type": "stream",
     "text": [
      "q = Queue{Char}(Deque [['C']])\n",
      "q = Queue{Char}(Deque [['C', '6']])\n",
      "q = Queue{Char}(Deque [['C', '6', 'H']])\n",
      "q = Queue{Char}(Deque [['C', '6', 'H', '1']])\n",
      "q = Queue{Char}(Deque [['C', '6', 'H', '1', '2']])\n",
      "q = Queue{Char}(Deque [['C', '6', 'H', '1', '2', 'O']])\n",
      "q = Queue{Char}(Deque [['C', '6', 'H', '1', '2', 'O', '6']])\n"
     ]
    }
   ],
   "source": [
    "for c ∈ glucose\n",
    "    enqueue!(q,c)\n",
    "    @show q\n",
    "end"
   ]
  },
  {
   "cell_type": "markdown",
   "id": "585d6c3b-ca78-44c7-afbb-887ab6f8cbd0",
   "metadata": {},
   "source": [
    "Now, let's empty `q` using the `dequeue!` function, where we demonstrate a very common `while-loop` iteration pattern when working `Queue` data types: "
   ]
  },
  {
   "cell_type": "code",
   "execution_count": 13,
   "id": "0323f447-458d-4db9-a67c-9f88b4bfe07e",
   "metadata": {},
   "outputs": [
    {
     "name": "stdout",
     "output_type": "stream",
     "text": [
      "(c, q) = ('C', Queue{Char}(Deque [['6', 'H', '1', '2', 'O', '6']]))\n",
      "(c, q) = ('6', Queue{Char}(Deque [['H', '1', '2', 'O', '6']]))\n",
      "(c, q) = ('H', Queue{Char}(Deque [['1', '2', 'O', '6']]))\n",
      "(c, q) = ('1', Queue{Char}(Deque [['2', 'O', '6']]))\n",
      "(c, q) = ('2', Queue{Char}(Deque [['O', '6']]))\n",
      "(c, q) = ('O', Queue{Char}(Deque [['6']]))\n",
      "(c, q) = ('6', Queue{Char}(Deque [Char[]]))\n"
     ]
    }
   ],
   "source": [
    "while (isempty(q) == false)\n",
    "    c = dequeue!(q)\n",
    "    @show c,q\n",
    "end"
   ]
  },
  {
   "cell_type": "markdown",
   "id": "8bed5dff-65b4-4451-9113-90cb8875a88b",
   "metadata": {},
   "source": [
    "### Example 4: Working with `Linked List`\n",
    "A `linked list` is a linear data structure where each element, called a node, is a separate object that stores a data value and a reference (link) to the next node in the list. The [DataStructures.jl package](https://github.com/JuliaCollections/DataStructures.jl?tab=readme-ov-file) provides an immutable and mutable version of a `linked list`.\n",
    "* When iterating through a `linked list,` you start at the `head` node and work to the `tail` node. You cannot access elements in the list using the index."
   ]
  },
  {
   "cell_type": "code",
   "execution_count": 62,
   "id": "3e2d7061-2e99-49b4-9b12-041ede9b887a",
   "metadata": {},
   "outputs": [
    {
     "name": "stdout",
     "output_type": "stream",
     "text": [
      "typeof(node) = Vector{Float64}\n",
      "typeof(node) = Int64\n",
      "typeof(node) = Dict{Int64, Int64}\n"
     ]
    }
   ],
   "source": [
    "L1 = list(rand(10));\n",
    "L2 = list(1);\n",
    "L3 = list(Dict{Int,Int}(1=>16));\n",
    "linked_list = cat(L1, L2, L3) # wire the nodes together\n",
    "for node ∈ linked_list\n",
    "    @show typeof(node)\n",
    "end"
   ]
  },
  {
   "cell_type": "code",
   "execution_count": 63,
   "id": "8869e7a3-806d-41bf-910e-8e4d8e66cf48",
   "metadata": {},
   "outputs": [
    {
     "data": {
      "text/plain": [
       "list(Set{Char}())"
      ]
     },
     "execution_count": 63,
     "metadata": {},
     "output_type": "execute_result"
    }
   ],
   "source": [
    "L4 = list(Set{Char}())"
   ]
  },
  {
   "cell_type": "code",
   "execution_count": 67,
   "id": "b7424205-36c0-411c-94bd-135783ae8222",
   "metadata": {},
   "outputs": [
    {
     "data": {
      "text/plain": [
       "list([0.6088314027950136, 0.7204926816191578, 0.4352456949687059, 0.5052964174585839, 0.5688731020700418, 0.03341758525871019, 0.6684124197769479, 0.44651018855195135, 0.8359545647983014, 0.8038554266275055], 1, Dict(1 => 16), Set{Char}())"
      ]
     },
     "execution_count": 67,
     "metadata": {},
     "output_type": "execute_result"
    }
   ],
   "source": [
    "linked_list_v2 = cat(linked_list,L4) # wire the nodes together"
   ]
  },
  {
   "cell_type": "code",
   "execution_count": 68,
   "id": "f0547eed-e398-4131-9870-50a87865ba9d",
   "metadata": {},
   "outputs": [
    {
     "name": "stdout",
     "output_type": "stream",
     "text": [
      "typeof(node) = Vector{Float64}\n",
      "typeof(node) = Int64\n",
      "typeof(node) = Dict{Int64, Int64}\n",
      "typeof(node) = Set{Char}\n"
     ]
    }
   ],
   "source": [
    "for node ∈ linked_list_v2\n",
    "    @show typeof(node)\n",
    "end"
   ]
  },
  {
   "cell_type": "code",
   "execution_count": null,
   "id": "522f7ffa-d1cd-4c2b-b4d0-79eb30fb64e0",
   "metadata": {},
   "outputs": [],
   "source": []
  }
 ],
 "metadata": {
  "kernelspec": {
   "display_name": "Julia 1.10.1",
   "language": "julia",
   "name": "julia-1.10"
  },
  "language_info": {
   "file_extension": ".jl",
   "mimetype": "application/julia",
   "name": "julia",
   "version": "1.10.1"
  }
 },
 "nbformat": 4,
 "nbformat_minor": 5
}
