{
 "cells": [
  {
   "cell_type": "markdown",
   "id": "185f4521-06f7-46e3-84e5-1791f2d0ec92",
   "metadata": {},
   "source": [
    "## Example: Introduction to Linear Data Structures\n",
    "Fill me in"
   ]
  },
  {
   "cell_type": "markdown",
   "id": "7d836830-ee81-45ef-a759-142f609de119",
   "metadata": {},
   "source": [
    "### Setup\n",
    "Fill me in"
   ]
  },
  {
   "cell_type": "code",
   "execution_count": 1,
   "id": "f8cc3bd3-75e2-4b49-820f-4eea54f1f63f",
   "metadata": {},
   "outputs": [
    {
     "name": "stderr",
     "output_type": "stream",
     "text": [
      "\u001b[32m\u001b[1m  Activating\u001b[22m\u001b[39m project at `~/Desktop/julia_work/CHEME-4800-5800-Examples-AY-2024/week-5/L5a`\n",
      "\u001b[32m\u001b[1m  No Changes\u001b[22m\u001b[39m to `~/Desktop/julia_work/CHEME-4800-5800-Examples-AY-2024/week-5/L5a/Project.toml`\n",
      "\u001b[32m\u001b[1m  No Changes\u001b[22m\u001b[39m to `~/Desktop/julia_work/CHEME-4800-5800-Examples-AY-2024/week-5/L5a/Manifest.toml`\n",
      "\u001b[32m\u001b[1m    Updating\u001b[22m\u001b[39m registry at `~/.julia/registries/General.toml`\n",
      "\u001b[32m\u001b[1m  No Changes\u001b[22m\u001b[39m to `~/Desktop/julia_work/CHEME-4800-5800-Examples-AY-2024/week-5/L5a/Project.toml`\n",
      "\u001b[32m\u001b[1m  No Changes\u001b[22m\u001b[39m to `~/Desktop/julia_work/CHEME-4800-5800-Examples-AY-2024/week-5/L5a/Manifest.toml`\n"
     ]
    }
   ],
   "source": [
    "include(\"Include.jl\")"
   ]
  },
  {
   "cell_type": "markdown",
   "id": "3ddf307a-8d13-4097-8f85-b046aafc678b",
   "metadata": {},
   "source": [
    "### Example 1: Working with `Arrays`\n",
    "Fill me in"
   ]
  },
  {
   "cell_type": "markdown",
   "id": "013fded7-3af0-406a-bd8e-f34356c36768",
   "metadata": {
    "jp-MarkdownHeadingCollapsed": true
   },
   "source": [
    "### Example 2: Working with `Stacks`\n",
    "A `stack` is a linear data structure that provides first-in-last-out (FILO) access to the elements in the `stack`. A `Stack` type is exported by the [DataStructures.jl package](https://github.com/JuliaCollections/DataStructures.jl). \n",
    "\n",
    "* Let's construct an empty `stack` that holds [Characters](https://docs.julialang.org/en/v1/manual/strings/#man-characters), add data to the `stack` using the `push!` function, and then remove data from the `stack` using the `pop!` operation"
   ]
  },
  {
   "cell_type": "markdown",
   "id": "57ca36d8-5db6-42b6-a27d-b1dd624954ec",
   "metadata": {},
   "source": [
    "### Example 3: Working with `Queues`\n",
    "A `queue` is a linear data structure that provides first-in-first-out (FIFO) access to the elements in the `queue`. A `Queue` type is exported by the [DataStructures.jl package](https://github.com/JuliaCollections/DataStructures.jl). \n",
    "\n",
    "* Let's construct an empty `queue` that holds [Characters](https://docs.julialang.org/en/v1/manual/strings/#man-characters), add data to the `queue` using the `enqueue!` function, and then remove data from the `queue` using the `dequeue!` operation"
   ]
  },
  {
   "cell_type": "code",
   "execution_count": 2,
   "id": "c3ad16a1-ccb8-4641-bdfa-af2aa87a2a24",
   "metadata": {},
   "outputs": [
    {
     "data": {
      "text/plain": [
       "Queue{Char}(Deque [Char[]])"
      ]
     },
     "execution_count": 2,
     "metadata": {},
     "output_type": "execute_result"
    }
   ],
   "source": [
    "q = Queue{Char}(); # create an empty queue"
   ]
  },
  {
   "cell_type": "markdown",
   "id": "3a60acf5-cdea-4015-ba8a-b239d0e20ade",
   "metadata": {},
   "source": [
    "Next, let's put some data in the `Queue,` for example, the `Char` components of a `String,` e.g., the characters in the molecular formula of [glucose](https://www.ebi.ac.uk/chebi/searchId.do?chebiId=17234#:~:text=Glucose%20is%20a%20sugar%20with%20the%20molecular%20formula%20C6H12O6.):"
   ]
  },
  {
   "cell_type": "code",
   "execution_count": 4,
   "id": "683916e7-f359-4d84-aa2b-5ec2d634c25f",
   "metadata": {},
   "outputs": [],
   "source": [
    "glucose = \"C6H12O6\" |> collect;"
   ]
  },
  {
   "cell_type": "markdown",
   "id": "7c262d01-f596-47f5-aeb0-d8a8c89b927d",
   "metadata": {},
   "source": [
    "add the characters that make up the string `glucose` to `q` using the `enqueue!` function:"
   ]
  },
  {
   "cell_type": "code",
   "execution_count": 5,
   "id": "cdc9f1c4-95d8-443c-957b-2b57aebad91d",
   "metadata": {},
   "outputs": [
    {
     "name": "stdout",
     "output_type": "stream",
     "text": [
      "q = Queue{Char}(Deque [['C']])\n",
      "q = Queue{Char}(Deque [['C', '6']])\n",
      "q = Queue{Char}(Deque [['C', '6', 'H']])\n",
      "q = Queue{Char}(Deque [['C', '6', 'H', '1']])\n",
      "q = Queue{Char}(Deque [['C', '6', 'H', '1', '2']])\n",
      "q = Queue{Char}(Deque [['C', '6', 'H', '1', '2', 'O']])\n",
      "q = Queue{Char}(Deque [['C', '6', 'H', '1', '2', 'O', '6']])\n"
     ]
    }
   ],
   "source": [
    "for c ∈ glucose\n",
    "    enqueue!(q,c)\n",
    "    @show q\n",
    "end"
   ]
  },
  {
   "cell_type": "markdown",
   "id": "585d6c3b-ca78-44c7-afbb-887ab6f8cbd0",
   "metadata": {},
   "source": [
    "Now, let's empty `q` using the `dequeue!` function, where we demonstrate a very common `while-loop` iteration pattern when working `Queue` data types: "
   ]
  },
  {
   "cell_type": "code",
   "execution_count": 6,
   "id": "0323f447-458d-4db9-a67c-9f88b4bfe07e",
   "metadata": {},
   "outputs": [
    {
     "name": "stdout",
     "output_type": "stream",
     "text": [
      "(c, q) = ('C', Queue{Char}(Deque [['6', 'H', '1', '2', 'O', '6']]))\n",
      "(c, q) = ('6', Queue{Char}(Deque [['H', '1', '2', 'O', '6']]))\n",
      "(c, q) = ('H', Queue{Char}(Deque [['1', '2', 'O', '6']]))\n",
      "(c, q) = ('1', Queue{Char}(Deque [['2', 'O', '6']]))\n",
      "(c, q) = ('2', Queue{Char}(Deque [['O', '6']]))\n",
      "(c, q) = ('O', Queue{Char}(Deque [['6']]))\n",
      "(c, q) = ('6', Queue{Char}(Deque [Char[]]))\n"
     ]
    }
   ],
   "source": [
    "while (isempty(q) == false)\n",
    "    c = dequeue!(q)\n",
    "    @show c,q\n",
    "end"
   ]
  },
  {
   "cell_type": "markdown",
   "id": "8bed5dff-65b4-4451-9113-90cb8875a88b",
   "metadata": {},
   "source": [
    "### Example 4: Working with `Linked List`"
   ]
  },
  {
   "cell_type": "code",
   "execution_count": null,
   "id": "3e2d7061-2e99-49b4-9b12-041ede9b887a",
   "metadata": {},
   "outputs": [],
   "source": []
  }
 ],
 "metadata": {
  "kernelspec": {
   "display_name": "Julia 1.10.1",
   "language": "julia",
   "name": "julia-1.10"
  },
  "language_info": {
   "file_extension": ".jl",
   "mimetype": "application/julia",
   "name": "julia",
   "version": "1.10.1"
  }
 },
 "nbformat": 4,
 "nbformat_minor": 5
}
