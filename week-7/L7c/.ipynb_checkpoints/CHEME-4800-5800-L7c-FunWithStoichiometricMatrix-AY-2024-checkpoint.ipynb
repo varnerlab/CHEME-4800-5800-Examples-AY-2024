{
 "cells": [
  {
   "cell_type": "markdown",
   "id": "92ea7c9c-61dd-4e8f-b621-edc2a2179c87",
   "metadata": {},
   "source": [
    "# Example: Let's Build and Analyze a Stoichiometric Matrix\n",
    "Fill me in"
   ]
  },
  {
   "cell_type": "markdown",
   "id": "5d669663-3b6c-4537-896e-d1bd1518d126",
   "metadata": {},
   "source": [
    "## Setup\n",
    "Fill me in"
   ]
  },
  {
   "cell_type": "code",
   "execution_count": 1,
   "id": "1797c6b7-8134-4198-a219-fe747b963304",
   "metadata": {},
   "outputs": [
    {
     "name": "stderr",
     "output_type": "stream",
     "text": [
      "\u001b[32m\u001b[1m  Activating\u001b[22m\u001b[39m project at `~/Desktop/julia_work/CHEME-4800-5800-Examples-AY-2024/week-7/L7c`\n",
      "\u001b[32m\u001b[1m  No Changes\u001b[22m\u001b[39m to `~/Desktop/julia_work/CHEME-4800-5800-Examples-AY-2024/week-7/L7c/Project.toml`\n",
      "\u001b[32m\u001b[1m  No Changes\u001b[22m\u001b[39m to `~/Desktop/julia_work/CHEME-4800-5800-Examples-AY-2024/week-7/L7c/Manifest.toml`\n",
      "\u001b[32m\u001b[1m    Updating\u001b[22m\u001b[39m registry at `~/.julia/registries/General.toml`\n",
      "\u001b[32m\u001b[1m  No Changes\u001b[22m\u001b[39m to `~/Desktop/julia_work/CHEME-4800-5800-Examples-AY-2024/week-7/L7c/Project.toml`\n",
      "\u001b[32m\u001b[1m  No Changes\u001b[22m\u001b[39m to `~/Desktop/julia_work/CHEME-4800-5800-Examples-AY-2024/week-7/L7c/Manifest.toml`\n"
     ]
    }
   ],
   "source": [
    "include(\"Include.jl\");"
   ]
  },
  {
   "cell_type": "markdown",
   "id": "c9a8750e-ee39-4756-a74b-70a4ce87bd78",
   "metadata": {},
   "source": [
    "## 1: Load a Reaction File and Build a Stoichiometric Matrix\n",
    "Fill me in"
   ]
  },
  {
   "cell_type": "code",
   "execution_count": 2,
   "id": "e00e791e-8d26-4b4e-a7b6-aaf5f5cf5c7b",
   "metadata": {},
   "outputs": [],
   "source": [
    "path_to_reaction_file = joinpath(_PATH_TO_DATA,\"Urea.net\");"
   ]
  },
  {
   "cell_type": "markdown",
   "id": "0ebb03d1-34ba-44bc-bde7-e030aba80cfe",
   "metadata": {},
   "source": [
    "Fill me in"
   ]
  },
  {
   "cell_type": "code",
   "execution_count": 3,
   "id": "57d45010-ba55-4ccd-8653-b455dcd03182",
   "metadata": {},
   "outputs": [
    {
     "data": {
      "text/plain": [
       "Dict{String, MyChemicalReactionModel} with 22 entries:\n",
       "  \"v4\"  => MyChemicalReactionModel(\"v4\", \"M_Carbamoyl_phosphate_c+M_L-Ornithine…\n",
       "  \"v5\"  => MyChemicalReactionModel(\"v5\", \"2*M_L-Arginine_c+4*M_Oxygen_c+3*M_NAD…\n",
       "  \"v1\"  => MyChemicalReactionModel(\"v1\", \"M_ATP_c+M_L-Citrulline_c+M_L-Aspartat…\n",
       "  \"b12\" => MyChemicalReactionModel(\"b12\", \"M_Nitric_oxide_c\", \"[]\", true)\n",
       "  \"b2\"  => MyChemicalReactionModel(\"b2\", \"[]\", \"M_L-Aspartate_c\", true)\n",
       "  \"b14\" => MyChemicalReactionModel(\"b14\", \"M_H2O_c\", \"[]\", true)\n",
       "  \"b8\"  => MyChemicalReactionModel(\"b8\", \"M_Orthophosphate_c\", \"[]\", true)\n",
       "  \"b15\" => MyChemicalReactionModel(\"b15\", \"M_L-Arginine_c\", \"[]\", true)\n",
       "  \"b11\" => MyChemicalReactionModel(\"b11\", \"[]\", \"M_H_c\", true)\n",
       "  \"v3\"  => MyChemicalReactionModel(\"v3\", \"M_L-Arginine_c+M_H2O_c\", \"M_L-Ornithi…\n",
       "  \"b7\"  => MyChemicalReactionModel(\"b7\", \"M_Diphosphate_c\", \"[]\", true)\n",
       "  \"b9\"  => MyChemicalReactionModel(\"b9\", \"[]\", \"M_Oxygen_c\", true)\n",
       "  \"b3\"  => MyChemicalReactionModel(\"b3\", \"M_Fumarate_c\", \"[]\", true)\n",
       "  \"b5\"  => MyChemicalReactionModel(\"b5\", \"[]\", \"M_ATP_c\", true)\n",
       "  \"b16\" => MyChemicalReactionModel(\"b16\", \"M_L-Ornithine_c\", \"[]\", true)\n",
       "  \"b10\" => MyChemicalReactionModel(\"b10\", \"[]\", \"M_NADPH_c\", true)\n",
       "  \"b17\" => MyChemicalReactionModel(\"b17\", \"M_L-Citrulline_c\", \"[]\", true)\n",
       "  \"v2\"  => MyChemicalReactionModel(\"v2\", \"M_N-(L-Arginino)succinate_c\", \"M_Fuma…\n",
       "  \"b4\"  => MyChemicalReactionModel(\"b4\", \"M_Urea_c\", \"[]\", true)\n",
       "  \"b6\"  => MyChemicalReactionModel(\"b6\", \"M_AMP_c\", \"[]\", true)\n",
       "  \"b13\" => MyChemicalReactionModel(\"b13\", \"M_NADP_c\", \"[]\", true)\n",
       "  \"b1\"  => MyChemicalReactionModel(\"b1\", \"[]\", \"M_Carbamoyl_phosphate_c\", true)"
      ]
     },
     "execution_count": 3,
     "metadata": {},
     "output_type": "execute_result"
    }
   ],
   "source": [
    "reactions = read_reaction_file(path_to_reaction_file, comment=\"//\")"
   ]
  },
  {
   "cell_type": "markdown",
   "id": "b8ae1a0b-499a-4561-9b95-517813b42df7",
   "metadata": {},
   "source": [
    "Fill me in"
   ]
  },
  {
   "cell_type": "code",
   "execution_count": 4,
   "id": "ffa66ebb-304d-4252-a430-547ce0d1f025",
   "metadata": {},
   "outputs": [],
   "source": [
    "S = build(MyStoichiometricMatrixModel, reactions, expand = false);"
   ]
  },
  {
   "cell_type": "code",
   "execution_count": 12,
   "id": "d5841911-9448-46d0-a96c-446ab519870f",
   "metadata": {},
   "outputs": [
    {
     "data": {
      "text/plain": [
       "18×22 Matrix{Float64}:\n",
       "  0.0   0.0   1.0   0.0  0.0   0.0  …   0.0   0.0   0.0  -1.0   0.0  0.0\n",
       "  0.0   0.0  -1.0   0.0  0.0   0.0      0.0   0.0   0.0   0.0   0.0  0.0\n",
       " -1.0   0.0   0.0   0.0  0.0   0.0      0.0   0.0   0.0   0.0   0.0  1.0\n",
       "  0.0   0.0   1.0   0.0  0.0   0.0      0.0   0.0   0.0   0.0   0.0  0.0\n",
       "  0.0   0.0   0.0   0.0  0.0   0.0      0.0   1.0   0.0   0.0   0.0  0.0\n",
       "  0.0   4.0   0.0   0.0  0.0  -1.0  …   0.0   0.0   0.0   0.0   0.0  0.0\n",
       "  0.0  -3.0   0.0   0.0  0.0   0.0      0.0   0.0   0.0   0.0   0.0  0.0\n",
       "  0.0  -2.0   0.0   0.0  0.0   0.0      0.0   1.0   0.0   0.0   0.0  0.0\n",
       "  0.0   0.0  -1.0   0.0  1.0   0.0      0.0   0.0   0.0   0.0   0.0  0.0\n",
       "  1.0   2.0  -1.0   0.0  0.0   0.0     -1.0   0.0   0.0   0.0   0.0  0.0\n",
       " -1.0   0.0   0.0   0.0  0.0   0.0  …   0.0   0.0   0.0   0.0   0.0  0.0\n",
       "  0.0   0.0   1.0   0.0  0.0   0.0      0.0  -1.0   0.0   0.0   0.0  0.0\n",
       "  0.0  -3.0   0.0   0.0  0.0   0.0      0.0   0.0   0.0   0.0   0.0  0.0\n",
       "  0.0   3.0   0.0   0.0  0.0   0.0      0.0   0.0   0.0   0.0  -1.0  0.0\n",
       "  0.0   2.0   0.0  -1.0  0.0   0.0      0.0   0.0   0.0   0.0   0.0  0.0\n",
       "  1.0   0.0   0.0   0.0  0.0   0.0  …   0.0   0.0   0.0   0.0   0.0  0.0\n",
       "  0.0  -4.0   0.0   0.0  0.0   0.0      0.0   0.0   0.0   0.0   0.0  0.0\n",
       "  0.0   0.0   0.0   0.0  0.0   0.0      0.0   0.0  -1.0   0.0   0.0  0.0"
      ]
     },
     "execution_count": 12,
     "metadata": {},
     "output_type": "execute_result"
    }
   ],
   "source": [
    "S.matrix"
   ]
  },
  {
   "cell_type": "markdown",
   "id": "6facace0-b3d0-4932-8396-bfb232ee6dc2",
   "metadata": {},
   "source": [
    "### Check: Do the entries of the stoichiometric matrix make sense?"
   ]
  },
  {
   "cell_type": "code",
   "execution_count": 21,
   "id": "f86b871f-e18d-461c-a500-352dfc0307b3",
   "metadata": {},
   "outputs": [
    {
     "data": {
      "text/plain": [
       "\"2*M_L-Arginine_c+4*M_Oxygen_c+3*M_NADPH_c+3*M_H_c\""
      ]
     },
     "execution_count": 21,
     "metadata": {},
     "output_type": "execute_result"
    }
   ],
   "source": [
    "reactions[\"v5\"].reactants"
   ]
  },
  {
   "cell_type": "code",
   "execution_count": 27,
   "id": "773712c6-55ed-4c1d-877d-d4aaaa85bb15",
   "metadata": {},
   "outputs": [
    {
     "data": {
      "text/plain": [
       "4×2 Matrix{Any}:\n",
       " \"M_H_c\"           -3.0\n",
       " \"M_L-Arginine_c\"  -2.0\n",
       " \"M_NADPH_c\"       -3.0\n",
       " \"M_Oxygen_c\"      -4.0"
      ]
     },
     "execution_count": 27,
     "metadata": {},
     "output_type": "execute_result"
    }
   ],
   "source": [
    "index_species = findall(x->x < 0.0, S.matrix[:,2])\n",
    "[S.species[index_species] S.matrix[index_species,2]]"
   ]
  },
  {
   "cell_type": "markdown",
   "id": "1c302043-3521-48a7-adb4-401cdfb35eea",
   "metadata": {},
   "source": [
    "## 2. Build the Reaction Adjacency Graph (RAG)\n",
    "Fill me in"
   ]
  },
  {
   "cell_type": "code",
   "execution_count": 6,
   "id": "05341a96-f111-4a00-9277-3e39494ab17a",
   "metadata": {},
   "outputs": [
    {
     "data": {
      "text/plain": [
       "18×22 Matrix{Int64}:\n",
       " 0  0  1  0  0  0  0  0  0  0  0  0  0  0  0  0  0  0  0  1  0  0\n",
       " 0  0  1  0  0  0  0  0  0  0  0  0  0  1  0  0  0  0  0  0  0  0\n",
       " 1  0  0  0  0  0  0  0  0  0  0  0  0  0  0  0  0  0  0  0  0  1\n",
       " 0  0  1  0  0  0  0  0  0  0  1  0  0  0  0  0  0  0  0  0  0  0\n",
       " 0  0  0  0  0  0  0  0  0  0  0  0  1  0  0  0  0  1  0  0  0  0\n",
       " 0  1  0  0  0  1  0  0  0  1  0  0  0  0  0  0  0  0  0  0  0  0\n",
       " 0  1  0  0  0  0  0  0  1  0  0  0  0  0  0  0  0  0  0  0  0  0\n",
       " 0  1  0  0  0  0  0  1  0  1  0  0  0  0  0  0  0  1  0  0  0  0\n",
       " 0  0  1  0  1  0  0  0  0  0  0  0  0  0  0  0  0  0  0  0  0  0\n",
       " 1  1  1  0  0  0  0  0  0  0  0  0  0  0  0  0  1  0  0  0  0  0\n",
       " 1  0  0  0  0  0  0  0  0  1  0  0  0  0  1  0  0  0  0  0  0  0\n",
       " 0  0  1  0  0  0  0  0  0  0  0  0  0  0  0  0  0  1  0  0  0  0\n",
       " 0  1  0  0  0  0  0  0  0  0  0  0  0  0  0  1  0  0  0  0  0  0\n",
       " 0  1  0  0  0  0  0  0  0  0  0  0  0  0  0  0  0  0  0  0  1  0\n",
       " 0  1  0  1  0  0  0  0  0  0  0  0  0  0  0  0  0  0  0  0  0  0\n",
       " 1  0  0  0  0  0  1  0  0  0  0  0  0  0  0  0  0  0  0  0  0  0\n",
       " 0  1  0  0  0  0  0  0  0  0  0  1  0  0  0  0  0  0  0  0  0  0\n",
       " 0  0  0  0  0  0  0  0  0  1  0  0  0  0  0  0  0  0  1  0  0  0"
      ]
     },
     "execution_count": 6,
     "metadata": {},
     "output_type": "execute_result"
    }
   ],
   "source": [
    "B = binary_stoichiometric_matrix(S.matrix)"
   ]
  },
  {
   "cell_type": "code",
   "execution_count": 7,
   "id": "c360f2b1-7391-40cd-bcec-6413686e7610",
   "metadata": {},
   "outputs": [
    {
     "data": {
      "text/plain": [
       "22×22 Matrix{Int64}:\n",
       " 4  1  1  0  0  0  1  0  0  1  0  0  0  0  1  0  1  0  0  0  0  1\n",
       " 1  8  1  1  0  1  0  1  1  2  0  1  0  0  0  1  1  1  0  0  1  0\n",
       " 1  1  6  0  1  0  0  0  0  0  1  0  0  1  0  0  1  1  0  1  0  0\n",
       " 0  1  0  1  0  0  0  0  0  0  0  0  0  0  0  0  0  0  0  0  0  0\n",
       " 0  0  1  0  1  0  0  0  0  0  0  0  0  0  0  0  0  0  0  0  0  0\n",
       " 0  1  0  0  0  1  0  0  0  1  0  0  0  0  0  0  0  0  0  0  0  0\n",
       " 1  0  0  0  0  0  1  0  0  0  0  0  0  0  0  0  0  0  0  0  0  0\n",
       " 0  1  0  0  0  0  0  1  0  1  0  0  0  0  0  0  0  1  0  0  0  0\n",
       " 0  1  0  0  0  0  0  0  1  0  0  0  0  0  0  0  0  0  0  0  0  0\n",
       " 1  2  0  0  0  1  0  1  0  4  0  0  0  0  1  0  0  1  1  0  0  0\n",
       " 0  0  1  0  0  0  0  0  0  0  1  0  0  0  0  0  0  0  0  0  0  0\n",
       " 0  1  0  0  0  0  0  0  0  0  0  1  0  0  0  0  0  0  0  0  0  0\n",
       " 0  0  0  0  0  0  0  0  0  0  0  0  1  0  0  0  0  1  0  0  0  0\n",
       " 0  0  1  0  0  0  0  0  0  0  0  0  0  1  0  0  0  0  0  0  0  0\n",
       " 1  0  0  0  0  0  0  0  0  1  0  0  0  0  1  0  0  0  0  0  0  0\n",
       " 0  1  0  0  0  0  0  0  0  0  0  0  0  0  0  1  0  0  0  0  0  0\n",
       " 1  1  1  0  0  0  0  0  0  0  0  0  0  0  0  0  1  0  0  0  0  0\n",
       " 0  1  1  0  0  0  0  1  0  1  0  0  1  0  0  0  0  3  0  0  0  0\n",
       " 0  0  0  0  0  0  0  0  0  1  0  0  0  0  0  0  0  0  1  0  0  0\n",
       " 0  0  1  0  0  0  0  0  0  0  0  0  0  0  0  0  0  0  0  1  0  0\n",
       " 0  1  0  0  0  0  0  0  0  0  0  0  0  0  0  0  0  0  0  0  1  0\n",
       " 1  0  0  0  0  0  0  0  0  0  0  0  0  0  0  0  0  0  0  0  0  1"
      ]
     },
     "execution_count": 7,
     "metadata": {},
     "output_type": "execute_result"
    }
   ],
   "source": [
    "A = transpose(B)*B"
   ]
  },
  {
   "cell_type": "code",
   "execution_count": 8,
   "id": "0e1d030f-4870-4156-8a52-e832a917fc74",
   "metadata": {},
   "outputs": [],
   "source": [
    "edge_list = Array{Tuple{Int,Int},1}();\n",
    "number_of_rows = length(A[:,1]); # we could use size(A,1) as well\n",
    "for i ∈ 1:number_of_rows\n",
    "    index_connections = findall(x-> x!==0, A[i,:]);\n",
    "    for j ∈ index_connections\n",
    "        if (i ≠ j)\n",
    "            push!(edge_list, (i,j))\n",
    "        end\n",
    "    end\n",
    "end\n",
    "E = Edge.(edge_list);"
   ]
  },
  {
   "cell_type": "code",
   "execution_count": 9,
   "id": "0b48828f-d42a-4169-a66f-c9749c3d0cf9",
   "metadata": {},
   "outputs": [],
   "source": [
    "g = SimpleDiGraph(E); # use the Graph.jl package"
   ]
  },
  {
   "cell_type": "code",
   "execution_count": 13,
   "id": "4565badb-dc6f-4819-bafd-fad4ff9a356c",
   "metadata": {},
   "outputs": [
    {
     "data": {
      "text/plain": [
       "22-element Vector{String}:\n",
       " \"v4\"\n",
       " \"v5\"\n",
       " \"v1\"\n",
       " \"b12\"\n",
       " \"b2\"\n",
       " \"b14\"\n",
       " \"b8\"\n",
       " \"b15\"\n",
       " \"b11\"\n",
       " \"v3\"\n",
       " \"b7\"\n",
       " \"b9\"\n",
       " \"b3\"\n",
       " \"b5\"\n",
       " \"b16\"\n",
       " \"b10\"\n",
       " \"b17\"\n",
       " \"v2\"\n",
       " \"b4\"\n",
       " \"b6\"\n",
       " \"b13\"\n",
       " \"b1\""
      ]
     },
     "execution_count": 13,
     "metadata": {},
     "output_type": "execute_result"
    }
   ],
   "source": [
    "S.reactions"
   ]
  },
  {
   "cell_type": "code",
   "execution_count": 28,
   "id": "9b689536-136e-4d69-9e9f-af74389a2249",
   "metadata": {},
   "outputs": [
    {
     "data": {
      "image/svg+xml": [
       "<?xml version=\"1.0\" encoding=\"UTF-8\"?>\n",
       "<svg xmlns=\"http://www.w3.org/2000/svg\" xmlns:xlink=\"http://www.w3.org/1999/xlink\" width=\"600pt\" height=\"600pt\" viewBox=\"0 0 600 600\" version=\"1.1\">\n",
       "<defs>\n",
       "<g>\n",
       "<symbol overflow=\"visible\" id=\"glyph-4548510-0\">\n",
       "<path style=\"stroke:none;\" d=\"M 0.320312 0 L 0.320312 -7.171875 L 6.015625 -7.171875 L 6.015625 0 Z M 5.117188 -0.898438 L 5.117188 -6.273438 L 1.21875 -6.273438 L 1.21875 -0.898438 Z M 5.117188 -0.898438 \"/>\n",
       "</symbol>\n",
       "<symbol overflow=\"visible\" id=\"glyph-4548510-1\">\n",
       "<path style=\"stroke:none;\" d=\"M 0.957031 -4.953125 L 0.957031 -5.625 C 1.59375 -5.6875 2.035156 -5.789062 2.285156 -5.933594 C 2.535156 -6.078125 2.722656 -6.421875 2.847656 -6.960938 L 3.539062 -6.960938 L 3.539062 0 L 2.601562 0 L 2.601562 -4.953125 Z M 0.957031 -4.953125 \"/>\n",
       "</symbol>\n",
       "<symbol overflow=\"visible\" id=\"glyph-4548510-2\">\n",
       "<path style=\"stroke:none;\" d=\"M 0.3125 0 C 0.34375 -0.601562 0.46875 -1.125 0.6875 -1.570312 C 0.902344 -2.015625 1.324219 -2.421875 1.953125 -2.789062 L 2.890625 -3.328125 C 3.3125 -3.574219 3.605469 -3.78125 3.773438 -3.953125 C 4.039062 -4.226562 4.175781 -4.535156 4.175781 -4.882812 C 4.175781 -5.289062 4.054688 -5.613281 3.808594 -5.851562 C 3.5625 -6.089844 3.238281 -6.210938 2.832031 -6.210938 C 2.230469 -6.210938 1.8125 -5.984375 1.582031 -5.527344 C 1.457031 -5.28125 1.390625 -4.945312 1.375 -4.511719 L 0.484375 -4.511719 C 0.492188 -5.121094 0.605469 -5.617188 0.820312 -6 C 1.203125 -6.679688 1.875 -7.015625 2.835938 -7.015625 C 3.636719 -7.015625 4.222656 -6.800781 4.59375 -6.367188 C 4.960938 -5.933594 5.148438 -5.453125 5.148438 -4.921875 C 5.148438 -4.363281 4.949219 -3.882812 4.554688 -3.484375 C 4.328125 -3.253906 3.917969 -2.976562 3.328125 -2.648438 L 2.660156 -2.273438 C 2.34375 -2.097656 2.089844 -1.933594 1.910156 -1.773438 C 1.585938 -1.488281 1.378906 -1.175781 1.292969 -0.828125 L 5.113281 -0.828125 L 5.113281 0 Z M 0.3125 0 \"/>\n",
       "</symbol>\n",
       "<symbol overflow=\"visible\" id=\"glyph-4548510-3\">\n",
       "<path style=\"stroke:none;\" d=\"M 2.597656 0.191406 C 1.769531 0.191406 1.171875 -0.0351562 0.796875 -0.492188 C 0.425781 -0.945312 0.238281 -1.496094 0.238281 -2.148438 L 1.15625 -2.148438 C 1.195312 -1.695312 1.28125 -1.367188 1.410156 -1.164062 C 1.640625 -0.796875 2.050781 -0.609375 2.648438 -0.609375 C 3.109375 -0.609375 3.480469 -0.734375 3.757812 -0.980469 C 4.039062 -1.226562 4.179688 -1.546875 4.179688 -1.9375 C 4.179688 -2.421875 4.03125 -2.757812 3.738281 -2.949219 C 3.445312 -3.140625 3.035156 -3.238281 2.507812 -3.238281 C 2.449219 -3.238281 2.390625 -3.238281 2.332031 -3.234375 C 2.273438 -3.234375 2.210938 -3.230469 2.148438 -3.226562 L 2.148438 -4.003906 C 2.238281 -3.992188 2.316406 -3.988281 2.378906 -3.984375 C 2.441406 -3.980469 2.507812 -3.980469 2.578125 -3.980469 C 2.90625 -3.980469 3.175781 -4.03125 3.390625 -4.136719 C 3.761719 -4.320312 3.945312 -4.644531 3.945312 -5.113281 C 3.945312 -5.460938 3.820312 -5.730469 3.574219 -5.917969 C 3.328125 -6.105469 3.039062 -6.203125 2.710938 -6.203125 C 2.125 -6.203125 1.71875 -6.007812 1.492188 -5.617188 C 1.371094 -5.402344 1.300781 -5.09375 1.285156 -4.695312 L 0.414062 -4.695312 C 0.414062 -5.21875 0.519531 -5.660156 0.726562 -6.023438 C 1.085938 -6.675781 1.714844 -7 2.617188 -7 C 3.328125 -7 3.882812 -6.84375 4.273438 -6.527344 C 4.664062 -6.210938 4.859375 -5.75 4.859375 -5.148438 C 4.859375 -4.71875 4.742188 -4.367188 4.511719 -4.101562 C 4.367188 -3.9375 4.183594 -3.804688 3.953125 -3.710938 C 4.320312 -3.609375 4.609375 -3.414062 4.816406 -3.128906 C 5.023438 -2.839844 5.125 -2.488281 5.125 -2.070312 C 5.125 -1.402344 4.90625 -0.859375 4.46875 -0.4375 C 4.027344 -0.0195312 3.40625 0.191406 2.597656 0.191406 Z M 2.597656 0.191406 \"/>\n",
       "</symbol>\n",
       "<symbol overflow=\"visible\" id=\"glyph-4548510-4\">\n",
       "<path style=\"stroke:none;\" d=\"M 3.304688 -2.476562 L 3.304688 -5.644531 L 1.0625 -2.476562 Z M 3.320312 0 L 3.320312 -1.710938 L 0.253906 -1.710938 L 0.253906 -2.570312 L 3.457031 -7.011719 L 4.199219 -7.011719 L 4.199219 -2.476562 L 5.230469 -2.476562 L 5.230469 -1.710938 L 4.199219 -1.710938 L 4.199219 0 Z M 3.320312 0 \"/>\n",
       "</symbol>\n",
       "<symbol overflow=\"visible\" id=\"glyph-4548510-5\">\n",
       "<path style=\"stroke:none;\" d=\"M 1.234375 -1.78125 C 1.292969 -1.28125 1.527344 -0.933594 1.933594 -0.742188 C 2.140625 -0.644531 2.382812 -0.59375 2.65625 -0.59375 C 3.175781 -0.59375 3.5625 -0.761719 3.8125 -1.09375 C 4.0625 -1.425781 4.1875 -1.792969 4.1875 -2.195312 C 4.1875 -2.683594 4.039062 -3.0625 3.742188 -3.328125 C 3.445312 -3.597656 3.085938 -3.730469 2.671875 -3.730469 C 2.367188 -3.730469 2.109375 -3.671875 1.890625 -3.554688 C 1.675781 -3.4375 1.492188 -3.273438 1.335938 -3.066406 L 0.578125 -3.109375 L 1.109375 -6.875 L 4.742188 -6.875 L 4.742188 -6.023438 L 1.765625 -6.023438 L 1.46875 -4.082031 C 1.632812 -4.207031 1.789062 -4.296875 1.933594 -4.359375 C 2.195312 -4.46875 2.496094 -4.523438 2.835938 -4.523438 C 3.476562 -4.523438 4.023438 -4.316406 4.46875 -3.902344 C 4.914062 -3.488281 5.136719 -2.964844 5.136719 -2.328125 C 5.136719 -1.667969 4.933594 -1.085938 4.523438 -0.582031 C 4.117188 -0.078125 3.464844 0.175781 2.570312 0.175781 C 2 0.175781 1.496094 0.015625 1.058594 -0.304688 C 0.621094 -0.625 0.375 -1.117188 0.320312 -1.78125 Z M 1.234375 -1.78125 \"/>\n",
       "</symbol>\n",
       "<symbol overflow=\"visible\" id=\"glyph-4548510-6\">\n",
       "<path style=\"stroke:none;\" d=\"M 2.925781 -7.023438 C 3.707031 -7.023438 4.25 -6.820312 4.558594 -6.414062 C 4.867188 -6.007812 5.019531 -5.589844 5.019531 -5.160156 L 4.148438 -5.160156 C 4.097656 -5.4375 4.015625 -5.65625 3.902344 -5.8125 C 3.691406 -6.105469 3.367188 -6.25 2.9375 -6.25 C 2.445312 -6.25 2.058594 -6.023438 1.765625 -5.570312 C 1.476562 -5.117188 1.316406 -4.464844 1.285156 -3.617188 C 1.484375 -3.914062 1.738281 -4.136719 2.046875 -4.28125 C 2.328125 -4.414062 2.636719 -4.476562 2.984375 -4.476562 C 3.570312 -4.476562 4.082031 -4.289062 4.515625 -3.914062 C 4.953125 -3.539062 5.171875 -2.984375 5.171875 -2.242188 C 5.171875 -1.605469 4.964844 -1.042969 4.550781 -0.554688 C 4.136719 -0.0625 3.546875 0.179688 2.78125 0.179688 C 2.128906 0.179688 1.5625 -0.0664062 1.089844 -0.5625 C 0.613281 -1.058594 0.375 -1.894531 0.375 -3.070312 C 0.375 -3.941406 0.480469 -4.679688 0.695312 -5.28125 C 1.101562 -6.441406 1.84375 -7.023438 2.925781 -7.023438 Z M 2.859375 -0.601562 C 3.324219 -0.601562 3.667969 -0.757812 3.898438 -1.066406 C 4.128906 -1.378906 4.242188 -1.746094 4.242188 -2.167969 C 4.242188 -2.527344 4.140625 -2.867188 3.9375 -3.191406 C 3.730469 -3.515625 3.359375 -3.675781 2.816406 -3.675781 C 2.4375 -3.675781 2.109375 -3.550781 1.824219 -3.300781 C 1.539062 -3.050781 1.398438 -2.671875 1.398438 -2.167969 C 1.398438 -1.726562 1.527344 -1.351562 1.785156 -1.050781 C 2.042969 -0.75 2.402344 -0.601562 2.859375 -0.601562 Z M 2.859375 -0.601562 \"/>\n",
       "</symbol>\n",
       "<symbol overflow=\"visible\" id=\"glyph-4548510-7\">\n",
       "<path style=\"stroke:none;\" d=\"M 5.230469 -6.875 L 5.230469 -6.109375 C 5.003906 -5.890625 4.707031 -5.511719 4.332031 -4.96875 C 3.960938 -4.429688 3.632812 -3.847656 3.34375 -3.222656 C 3.0625 -2.613281 2.847656 -2.058594 2.699219 -1.558594 C 2.605469 -1.234375 2.484375 -0.714844 2.335938 0 L 1.363281 0 C 1.585938 -1.335938 2.070312 -2.664062 2.828125 -3.984375 C 3.273438 -4.757812 3.742188 -5.429688 4.234375 -5.992188 L 0.367188 -5.992188 L 0.367188 -6.875 Z M 5.230469 -6.875 \"/>\n",
       "</symbol>\n",
       "<symbol overflow=\"visible\" id=\"glyph-4548510-8\">\n",
       "<path style=\"stroke:none;\" d=\"M 2.71875 -4.0625 C 3.105469 -4.0625 3.410156 -4.171875 3.628906 -4.386719 C 3.847656 -4.601562 3.953125 -4.863281 3.953125 -5.160156 C 3.953125 -5.421875 3.851562 -5.660156 3.640625 -5.878906 C 3.433594 -6.097656 3.117188 -6.207031 2.691406 -6.207031 C 2.265625 -6.207031 1.960938 -6.097656 1.773438 -5.878906 C 1.585938 -5.660156 1.488281 -5.40625 1.488281 -5.113281 C 1.488281 -4.785156 1.609375 -4.527344 1.855469 -4.339844 C 2.101562 -4.15625 2.386719 -4.0625 2.71875 -4.0625 Z M 2.773438 -0.601562 C 3.179688 -0.601562 3.519531 -0.710938 3.785156 -0.929688 C 4.054688 -1.148438 4.1875 -1.476562 4.1875 -1.914062 C 4.1875 -2.367188 4.050781 -2.710938 3.773438 -2.945312 C 3.496094 -3.179688 3.144531 -3.296875 2.710938 -3.296875 C 2.289062 -3.296875 1.949219 -3.175781 1.683594 -2.9375 C 1.417969 -2.699219 1.285156 -2.367188 1.285156 -1.945312 C 1.285156 -1.578125 1.40625 -1.265625 1.648438 -1 C 1.890625 -0.734375 2.265625 -0.601562 2.773438 -0.601562 Z M 1.523438 -3.726562 C 1.28125 -3.828125 1.089844 -3.953125 0.953125 -4.09375 C 0.695312 -4.351562 0.566406 -4.691406 0.566406 -5.109375 C 0.566406 -5.628906 0.753906 -6.074219 1.132812 -6.449219 C 1.511719 -6.824219 2.046875 -7.011719 2.738281 -7.011719 C 3.410156 -7.011719 3.9375 -6.835938 4.316406 -6.480469 C 4.695312 -6.128906 4.886719 -5.714844 4.886719 -5.242188 C 4.886719 -4.808594 4.777344 -4.453125 4.554688 -4.183594 C 4.429688 -4.03125 4.238281 -3.882812 3.980469 -3.734375 C 4.269531 -3.601562 4.496094 -3.449219 4.664062 -3.277344 C 4.972656 -2.953125 5.125 -2.527344 5.125 -2.007812 C 5.125 -1.390625 4.921875 -0.871094 4.507812 -0.441406 C 4.09375 -0.015625 3.507812 0.199219 2.753906 0.199219 C 2.074219 0.199219 1.5 0.015625 1.027344 -0.355469 C 0.558594 -0.722656 0.320312 -1.257812 0.320312 -1.960938 C 0.320312 -2.375 0.421875 -2.734375 0.625 -3.035156 C 0.828125 -3.335938 1.125 -3.566406 1.523438 -3.726562 Z M 1.523438 -3.726562 \"/>\n",
       "</symbol>\n",
       "<symbol overflow=\"visible\" id=\"glyph-4548510-9\">\n",
       "<path style=\"stroke:none;\" d=\"M 1.328125 -1.6875 C 1.355469 -1.203125 1.542969 -0.867188 1.890625 -0.683594 C 2.070312 -0.585938 2.269531 -0.539062 2.496094 -0.539062 C 2.914062 -0.539062 3.273438 -0.710938 3.570312 -1.0625 C 3.867188 -1.414062 4.074219 -2.121094 4.199219 -3.195312 C 4.003906 -2.882812 3.761719 -2.667969 3.472656 -2.542969 C 3.1875 -2.417969 2.875 -2.351562 2.542969 -2.351562 C 1.871094 -2.351562 1.335938 -2.5625 0.945312 -2.984375 C 0.554688 -3.402344 0.355469 -3.945312 0.355469 -4.605469 C 0.355469 -5.238281 0.550781 -5.796875 0.9375 -6.28125 C 1.324219 -6.761719 1.894531 -7 2.652344 -7 C 3.671875 -7 4.375 -6.542969 4.761719 -5.625 C 4.976562 -5.121094 5.082031 -4.488281 5.082031 -3.730469 C 5.082031 -2.875 4.953125 -2.117188 4.695312 -1.453125 C 4.269531 -0.355469 3.546875 0.195312 2.53125 0.195312 C 1.847656 0.195312 1.328125 0.015625 0.972656 -0.34375 C 0.617188 -0.699219 0.4375 -1.148438 0.4375 -1.6875 Z M 2.660156 -3.125 C 3.007812 -3.125 3.328125 -3.238281 3.617188 -3.46875 C 3.90625 -3.699219 4.046875 -4.101562 4.046875 -4.671875 C 4.046875 -5.1875 3.917969 -5.570312 3.660156 -5.824219 C 3.402344 -6.074219 3.070312 -6.203125 2.671875 -6.203125 C 2.242188 -6.203125 1.898438 -6.058594 1.648438 -5.769531 C 1.394531 -5.480469 1.269531 -5.097656 1.269531 -4.613281 C 1.269531 -4.15625 1.378906 -3.796875 1.601562 -3.527344 C 1.824219 -3.257812 2.175781 -3.125 2.660156 -3.125 Z M 2.660156 -3.125 \"/>\n",
       "</symbol>\n",
       "<symbol overflow=\"visible\" id=\"glyph-4548510-10\">\n",
       "<path style=\"stroke:none;\" d=\"M 2.703125 -6.992188 C 3.609375 -6.992188 4.265625 -6.621094 4.667969 -5.875 C 4.980469 -5.296875 5.136719 -4.507812 5.136719 -3.507812 C 5.136719 -2.554688 4.996094 -1.769531 4.710938 -1.148438 C 4.300781 -0.257812 3.632812 0.191406 2.699219 0.191406 C 1.859375 0.191406 1.234375 -0.175781 0.824219 -0.902344 C 0.484375 -1.511719 0.3125 -2.328125 0.3125 -3.355469 C 0.3125 -4.148438 0.414062 -4.832031 0.621094 -5.398438 C 1.003906 -6.460938 1.699219 -6.992188 2.703125 -6.992188 Z M 2.695312 -0.609375 C 3.152344 -0.609375 3.515625 -0.8125 3.785156 -1.214844 C 4.054688 -1.617188 4.1875 -2.371094 4.1875 -3.472656 C 4.1875 -4.265625 4.09375 -4.917969 3.898438 -5.433594 C 3.703125 -5.945312 3.320312 -6.203125 2.757812 -6.203125 C 2.242188 -6.203125 1.863281 -5.957031 1.625 -5.472656 C 1.382812 -4.984375 1.265625 -4.265625 1.265625 -3.320312 C 1.265625 -2.609375 1.339844 -2.035156 1.492188 -1.601562 C 1.726562 -0.941406 2.128906 -0.609375 2.695312 -0.609375 Z M 2.695312 -0.609375 \"/>\n",
       "</symbol>\n",
       "</g>\n",
       "</defs>\n",
       "<g id=\"surface6\">\n",
       "<rect x=\"0\" y=\"0\" width=\"600\" height=\"600\" style=\"fill:rgb(0%,0%,0%);fill-opacity:1;stroke:none;\"/>\n",
       "<path style=\"fill:none;stroke-width:1;stroke-linecap:butt;stroke-linejoin:miter;stroke:rgb(100%,100%,100%);stroke-opacity:1;stroke-miterlimit:10;\" d=\"M 292.726562 230.398438 C 293.167969 274.542969 293.609375 318.6875 294.050781 362.832031 \"/>\n",
       "<path style=\" stroke:none;fill-rule:nonzero;fill:rgb(100%,100%,100%);fill-opacity:1;\" d=\"M 298.628906 361.671875 L 294.148438 372.800781 L 289.445312 361.761719 \"/>\n",
       "<path style=\"fill:none;stroke-width:1;stroke-linecap:butt;stroke-linejoin:miter;stroke:rgb(100%,100%,100%);stroke-opacity:1;stroke-miterlimit:10;\" d=\"M 287.027344 226.449219 C 253.851562 238.511719 220.671875 250.574219 187.496094 262.636719 \"/>\n",
       "<path style=\" stroke:none;fill-rule:nonzero;fill:rgb(100%,100%,100%);fill-opacity:1;\" d=\"M 189.640625 266.742188 L 177.652344 266.214844 L 186.503906 258.109375 \"/>\n",
       "<path style=\"fill:none;stroke-width:1;stroke-linecap:butt;stroke-linejoin:miter;stroke:rgb(100%,100%,100%);stroke-opacity:1;stroke-miterlimit:10;\" d=\"M 294.179688 218.59375 C 305.023438 177.019531 315.867188 135.445312 326.714844 93.871094 \"/>\n",
       "<path style=\" stroke:none;fill-rule:nonzero;fill:rgb(100%,100%,100%);fill-opacity:1;\" d=\"M 321.921875 94.050781 L 329.164062 84.484375 L 330.808594 96.371094 \"/>\n",
       "<path style=\"fill:none;stroke-width:1;stroke-linecap:butt;stroke-linejoin:miter;stroke:rgb(100%,100%,100%);stroke-opacity:1;stroke-miterlimit:10;\" d=\"M 297.964844 227.210938 C 333.503906 246.054688 369.042969 264.902344 404.582031 283.75 \"/>\n",
       "<path style=\" stroke:none;fill-rule:nonzero;fill:rgb(100%,100%,100%);fill-opacity:1;\" d=\"M 406.210938 279.414062 L 413.855469 288.664062 L 401.910156 287.527344 \"/>\n",
       "<path style=\"fill:none;stroke-width:1;stroke-linecap:butt;stroke-linejoin:miter;stroke:rgb(100%,100%,100%);stroke-opacity:1;stroke-miterlimit:10;\" d=\"M 298.441406 222.769531 C 340.632812 210.863281 382.828125 198.957031 425.023438 187.050781 \"/>\n",
       "<path style=\" stroke:none;fill-rule:nonzero;fill:rgb(100%,100%,100%);fill-opacity:1;\" d=\"M 422.636719 182.957031 L 434.550781 184.363281 L 425.128906 191.792969 \"/>\n",
       "<path style=\"fill:none;stroke-width:1;stroke-linecap:butt;stroke-linejoin:miter;stroke:rgb(100%,100%,100%);stroke-opacity:1;stroke-miterlimit:10;\" d=\"M 288.976562 229.128906 C 268.59375 255.277344 248.210938 281.421875 227.828125 307.566406 \"/>\n",
       "<path style=\" stroke:none;fill-rule:nonzero;fill:rgb(100%,100%,100%);fill-opacity:1;\" d=\"M 231.472656 310.359375 L 221.035156 316.28125 L 224.226562 304.714844 \"/>\n",
       "<path style=\"fill:none;stroke-width:1;stroke-linecap:butt;stroke-linejoin:miter;stroke:rgb(100%,100%,100%);stroke-opacity:1;stroke-miterlimit:10;\" d=\"M 290.574219 218.773438 C 276.011719 179.644531 261.449219 140.515625 246.890625 101.386719 \"/>\n",
       "<path style=\" stroke:none;fill-rule:nonzero;fill:rgb(100%,100%,100%);fill-opacity:1;\" d=\"M 242.652344 103.171875 L 243.089844 91.179688 L 251.261719 99.96875 \"/>\n",
       "<path style=\"fill:none;stroke-width:1;stroke-linecap:butt;stroke-linejoin:miter;stroke:rgb(100%,100%,100%);stroke-opacity:1;stroke-miterlimit:10;\" d=\"M 294.148438 372.800781 C 293.707031 328.65625 293.265625 284.511719 292.824219 240.367188 \"/>\n",
       "<path style=\" stroke:none;fill-rule:nonzero;fill:rgb(100%,100%,100%);fill-opacity:1;\" d=\"M 288.242188 241.53125 L 292.726562 230.398438 L 297.429688 241.4375 \"/>\n",
       "<path style=\"fill:none;stroke-width:1;stroke-linecap:butt;stroke-linejoin:miter;stroke:rgb(100%,100%,100%);stroke-opacity:1;stroke-miterlimit:10;\" d=\"M 289.757812 374.777344 C 254.636719 343.007812 219.515625 311.234375 184.394531 279.464844 \"/>\n",
       "<path style=\" stroke:none;fill-rule:nonzero;fill:rgb(100%,100%,100%);fill-opacity:1;\" d=\"M 181.605469 283.132812 L 176.464844 272.289062 L 187.765625 276.320312 \"/>\n",
       "<path style=\"fill:none;stroke-width:1;stroke-linecap:butt;stroke-linejoin:miter;stroke:rgb(100%,100%,100%);stroke-opacity:1;stroke-miterlimit:10;\" d=\"M 295.949219 384.542969 C 307.789062 423.632812 319.632812 462.71875 331.476562 501.808594 \"/>\n",
       "<path style=\" stroke:none;fill-rule:nonzero;fill:rgb(100%,100%,100%);fill-opacity:1;\" d=\"M 335.746094 500.0625 L 334.566406 512.003906 L 326.957031 502.726562 \"/>\n",
       "<path style=\"fill:none;stroke-width:1;stroke-linecap:butt;stroke-linejoin:miter;stroke:rgb(100%,100%,100%);stroke-opacity:1;stroke-miterlimit:10;\" d=\"M 300.105469 379.902344 C 343.949219 388.085938 387.789062 396.265625 431.628906 404.449219 \"/>\n",
       "<path style=\" stroke:none;fill-rule:nonzero;fill:rgb(100%,100%,100%);fill-opacity:1;\" d=\"M 431.472656 399.75 L 441.53125 406.296875 L 429.789062 408.777344 \"/>\n",
       "<path style=\"fill:none;stroke-width:1;stroke-linecap:butt;stroke-linejoin:miter;stroke:rgb(100%,100%,100%);stroke-opacity:1;stroke-miterlimit:10;\" d=\"M 300.171875 378.144531 C 327.90625 375.082031 355.636719 372.019531 383.367188 368.957031 \"/>\n",
       "<path style=\" stroke:none;fill-rule:nonzero;fill:rgb(100%,100%,100%);fill-opacity:1;\" d=\"M 382.128906 364.476562 L 393.652344 367.824219 L 383.136719 373.605469 \"/>\n",
       "<path style=\"fill:none;stroke-width:1;stroke-linecap:butt;stroke-linejoin:miter;stroke:rgb(100%,100%,100%);stroke-opacity:1;stroke-miterlimit:10;\" d=\"M 290.714844 383.679688 C 266.378906 417.632812 242.042969 451.589844 217.707031 485.542969 \"/>\n",
       "<path style=\" stroke:none;fill-rule:nonzero;fill:rgb(100%,100%,100%);fill-opacity:1;\" d=\"M 221.550781 488.066406 L 211.359375 494.402344 L 214.085938 482.714844 \"/>\n",
       "<path style=\"fill:none;stroke-width:1;stroke-linecap:butt;stroke-linejoin:miter;stroke:rgb(100%,100%,100%);stroke-opacity:1;stroke-miterlimit:10;\" d=\"M 299.125 375.363281 C 334.8125 350.425781 370.496094 325.484375 406.179688 300.542969 \"/>\n",
       "<path style=\" stroke:none;fill-rule:nonzero;fill:rgb(100%,100%,100%);fill-opacity:1;\" d=\"M 402.519531 297.5 L 414.238281 294.914062 L 407.78125 305.027344 \"/>\n",
       "<path style=\"fill:none;stroke-width:1;stroke-linecap:butt;stroke-linejoin:miter;stroke:rgb(100%,100%,100%);stroke-opacity:1;stroke-miterlimit:10;\" d=\"M 298.324219 383.167969 C 328.25 414.890625 358.171875 446.617188 388.09375 478.339844 \"/>\n",
       "<path style=\" stroke:none;fill-rule:nonzero;fill:rgb(100%,100%,100%);fill-opacity:1;\" d=\"M 390.585938 474.289062 L 394.851562 485.503906 L 383.90625 480.589844 \"/>\n",
       "<path style=\"fill:none;stroke-width:1;stroke-linecap:butt;stroke-linejoin:miter;stroke:rgb(100%,100%,100%);stroke-opacity:1;stroke-miterlimit:10;\" d=\"M 293.199219 384.714844 C 286.367188 424.796875 279.53125 464.875 272.699219 504.953125 \"/>\n",
       "<path style=\" stroke:none;fill-rule:nonzero;fill:rgb(100%,100%,100%);fill-opacity:1;\" d=\"M 277.304688 505.25 L 270.914062 515.410156 L 268.25 503.707031 \"/>\n",
       "<path style=\"fill:none;stroke-width:1;stroke-linecap:butt;stroke-linejoin:miter;stroke:rgb(100%,100%,100%);stroke-opacity:1;stroke-miterlimit:10;\" d=\"M 289.414062 375.195312 C 269.902344 360.527344 250.394531 345.859375 230.886719 331.195312 \"/>\n",
       "<path style=\" stroke:none;fill-rule:nonzero;fill:rgb(100%,100%,100%);fill-opacity:1;\" d=\"M 228.242188 334.953125 L 222.140625 324.617188 L 233.761719 327.609375 \"/>\n",
       "<path style=\"fill:none;stroke-width:1;stroke-linecap:butt;stroke-linejoin:miter;stroke:rgb(100%,100%,100%);stroke-opacity:1;stroke-miterlimit:10;\" d=\"M 295.371094 372.914062 C 300.789062 345.4375 306.210938 317.957031 311.628906 290.480469 \"/>\n",
       "<path style=\" stroke:none;fill-rule:nonzero;fill:rgb(100%,100%,100%);fill-opacity:1;\" d=\"M 306.988281 290.28125 L 313.640625 280.292969 L 316 292.058594 \"/>\n",
       "<path style=\"fill:none;stroke-width:1;stroke-linecap:butt;stroke-linejoin:miter;stroke:rgb(100%,100%,100%);stroke-opacity:1;stroke-miterlimit:10;\" d=\"M 288.957031 381.699219 C 253.390625 401.324219 217.824219 420.945312 182.261719 440.570312 \"/>\n",
       "<path style=\" stroke:none;fill-rule:nonzero;fill:rgb(100%,100%,100%);fill-opacity:1;\" d=\"M 184.90625 444.355469 L 172.980469 445.691406 L 180.472656 436.3125 \"/>\n",
       "<path style=\"fill:none;stroke-width:1;stroke-linecap:butt;stroke-linejoin:miter;stroke:rgb(100%,100%,100%);stroke-opacity:1;stroke-miterlimit:10;\" d=\"M 177.652344 266.214844 C 210.828125 254.152344 244.007812 242.089844 277.183594 230.027344 \"/>\n",
       "<path style=\" stroke:none;fill-rule:nonzero;fill:rgb(100%,100%,100%);fill-opacity:1;\" d=\"M 275.039062 225.921875 L 287.027344 226.449219 L 278.175781 234.554688 \"/>\n",
       "<path style=\"fill:none;stroke-width:1;stroke-linecap:butt;stroke-linejoin:miter;stroke:rgb(100%,100%,100%);stroke-opacity:1;stroke-miterlimit:10;\" d=\"M 176.464844 272.289062 C 211.585938 304.0625 246.707031 335.832031 281.828125 367.601562 \"/>\n",
       "<path style=\" stroke:none;fill-rule:nonzero;fill:rgb(100%,100%,100%);fill-opacity:1;\" d=\"M 284.617188 363.933594 L 289.757812 374.777344 L 278.457031 370.746094 \"/>\n",
       "<path style=\"fill:none;stroke-width:1;stroke-linecap:butt;stroke-linejoin:miter;stroke:rgb(100%,100%,100%);stroke-opacity:1;stroke-miterlimit:10;\" d=\"M 169.625 262.761719 C 153.257812 225.070312 136.894531 187.375 120.527344 149.683594 \"/>\n",
       "<path style=\" stroke:none;fill-rule:nonzero;fill:rgb(100%,100%,100%);fill-opacity:1;\" d=\"M 116.460938 151.847656 L 116.257812 139.847656 L 124.886719 148.191406 \"/>\n",
       "<path style=\"fill:none;stroke-width:1;stroke-linecap:butt;stroke-linejoin:miter;stroke:rgb(100%,100%,100%);stroke-opacity:1;stroke-miterlimit:10;\" d=\"M 166.914062 265.105469 C 133.78125 244.570312 100.644531 224.035156 67.511719 203.5 \"/>\n",
       "<path style=\" stroke:none;fill-rule:nonzero;fill:rgb(100%,100%,100%);fill-opacity:1;\" d=\"M 65.871094 207.886719 L 58.867188 198.140625 L 70.710938 200.078125 \"/>\n",
       "<path style=\"fill:none;stroke-width:1;stroke-linecap:butt;stroke-linejoin:miter;stroke:rgb(100%,100%,100%);stroke-opacity:1;stroke-miterlimit:10;\" d=\"M 167.222656 271.878906 C 131.601562 298.746094 95.980469 325.613281 60.359375 352.484375 \"/>\n",
       "<path style=\" stroke:none;fill-rule:nonzero;fill:rgb(100%,100%,100%);fill-opacity:1;\" d=\"M 63.929688 355.539062 L 52.3125 358.550781 L 58.398438 348.207031 \"/>\n",
       "<path style=\"fill:none;stroke-width:1;stroke-linecap:butt;stroke-linejoin:miter;stroke:rgb(100%,100%,100%);stroke-opacity:1;stroke-miterlimit:10;\" d=\"M 175.925781 272.816406 C 186.050781 284.601562 196.179688 296.386719 206.308594 308.167969 \"/>\n",
       "<path style=\" stroke:none;fill-rule:nonzero;fill:rgb(100%,100%,100%);fill-opacity:1;\" d=\"M 209.691406 305.0625 L 213.433594 316.460938 L 202.726562 311.046875 \"/>\n",
       "<path style=\"fill:none;stroke-width:1;stroke-linecap:butt;stroke-linejoin:miter;stroke:rgb(100%,100%,100%);stroke-opacity:1;stroke-miterlimit:10;\" d=\"M 178.007812 268.523438 C 218.121094 270.246094 258.230469 271.972656 298.339844 273.695312 \"/>\n",
       "<path style=\" stroke:none;fill-rule:nonzero;fill:rgb(100%,100%,100%);fill-opacity:1;\" d=\"M 297.925781 269.082031 L 308.804688 274.148438 L 297.53125 278.257812 \"/>\n",
       "<path style=\"fill:none;stroke-width:1;stroke-linecap:butt;stroke-linejoin:miter;stroke:rgb(100%,100%,100%);stroke-opacity:1;stroke-miterlimit:10;\" d=\"M 166.035156 268.761719 C 126.152344 272.0625 86.265625 275.363281 46.382812 278.667969 \"/>\n",
       "<path style=\" stroke:none;fill-rule:nonzero;fill:rgb(100%,100%,100%);fill-opacity:1;\" d=\"M 47.40625 283.191406 L 35.980469 279.527344 L 46.648438 274.035156 \"/>\n",
       "<path style=\"fill:none;stroke-width:1;stroke-linecap:butt;stroke-linejoin:miter;stroke:rgb(100%,100%,100%);stroke-opacity:1;stroke-miterlimit:10;\" d=\"M 334.566406 512.003906 C 322.722656 472.917969 310.878906 433.828125 299.039062 394.742188 \"/>\n",
       "<path style=\" stroke:none;fill-rule:nonzero;fill:rgb(100%,100%,100%);fill-opacity:1;\" d=\"M 294.769531 396.484375 L 295.949219 384.542969 L 303.558594 393.824219 \"/>\n",
       "<path style=\"fill:none;stroke-width:1;stroke-linecap:butt;stroke-linejoin:miter;stroke:rgb(100%,100%,100%);stroke-opacity:1;stroke-miterlimit:10;\" d=\"M 116.257812 139.847656 C 132.625 177.542969 148.988281 215.234375 165.355469 252.929688 \"/>\n",
       "<path style=\" stroke:none;fill-rule:nonzero;fill:rgb(100%,100%,100%);fill-opacity:1;\" d=\"M 169.421875 250.761719 L 169.625 262.761719 L 160.996094 254.421875 \"/>\n",
       "<path style=\"fill:none;stroke-width:1;stroke-linecap:butt;stroke-linejoin:miter;stroke:rgb(100%,100%,100%);stroke-opacity:1;stroke-miterlimit:10;\" d=\"M 441.53125 406.296875 C 397.6875 398.113281 353.847656 389.933594 310.007812 381.75 \"/>\n",
       "<path style=\" stroke:none;fill-rule:nonzero;fill:rgb(100%,100%,100%);fill-opacity:1;\" d=\"M 310.164062 386.449219 L 300.105469 379.902344 L 311.847656 377.421875 \"/>\n",
       "<path style=\"fill:none;stroke-width:1;stroke-linecap:butt;stroke-linejoin:miter;stroke:rgb(100%,100%,100%);stroke-opacity:1;stroke-miterlimit:10;\" d=\"M 446.007812 401.570312 C 438.378906 370.289062 430.75 339.011719 423.121094 307.730469 \"/>\n",
       "<path style=\" stroke:none;fill-rule:nonzero;fill:rgb(100%,100%,100%);fill-opacity:1;\" d=\"M 418.742188 309.164062 L 420.578125 297.304688 L 427.664062 306.988281 \"/>\n",
       "<path style=\"fill:none;stroke-width:1;stroke-linecap:butt;stroke-linejoin:miter;stroke:rgb(100%,100%,100%);stroke-opacity:1;stroke-miterlimit:10;\" d=\"M 329.164062 84.484375 C 318.316406 126.058594 307.472656 167.632812 296.628906 209.207031 \"/>\n",
       "<path style=\" stroke:none;fill-rule:nonzero;fill:rgb(100%,100%,100%);fill-opacity:1;\" d=\"M 301.421875 209.023438 L 294.179688 218.59375 L 292.535156 206.707031 \"/>\n",
       "<path style=\"fill:none;stroke-width:1;stroke-linecap:butt;stroke-linejoin:miter;stroke:rgb(100%,100%,100%);stroke-opacity:1;stroke-miterlimit:10;\" d=\"M 393.652344 367.824219 C 365.917969 370.882812 338.1875 373.945312 310.457031 377.007812 \"/>\n",
       "<path style=\" stroke:none;fill-rule:nonzero;fill:rgb(100%,100%,100%);fill-opacity:1;\" d=\"M 311.695312 381.492188 L 300.171875 378.144531 L 310.6875 372.363281 \"/>\n",
       "<path style=\"fill:none;stroke-width:1;stroke-linecap:butt;stroke-linejoin:miter;stroke:rgb(100%,100%,100%);stroke-opacity:1;stroke-miterlimit:10;\" d=\"M 401.113281 361.355469 C 405.746094 343.414062 410.378906 325.476562 415.007812 307.535156 \"/>\n",
       "<path style=\" stroke:none;fill-rule:nonzero;fill:rgb(100%,100%,100%);fill-opacity:1;\" d=\"M 410.4375 306.871094 L 417.65625 297.285156 L 419.332031 309.167969 \"/>\n",
       "<path style=\"fill:none;stroke-width:1;stroke-linecap:butt;stroke-linejoin:miter;stroke:rgb(100%,100%,100%);stroke-opacity:1;stroke-miterlimit:10;\" d=\"M 395.566406 362.734375 C 372.296875 337.285156 349.023438 311.835938 325.753906 286.382812 \"/>\n",
       "<path style=\" stroke:none;fill-rule:nonzero;fill:rgb(100%,100%,100%);fill-opacity:1;\" d=\"M 322.941406 290.113281 L 318.847656 278.832031 L 329.71875 283.917969 \"/>\n",
       "<path style=\"fill:none;stroke-width:1;stroke-linecap:butt;stroke-linejoin:miter;stroke:rgb(100%,100%,100%);stroke-opacity:1;stroke-miterlimit:10;\" d=\"M 211.359375 494.402344 C 235.695312 460.449219 260.03125 426.492188 284.363281 392.535156 \"/>\n",
       "<path style=\" stroke:none;fill-rule:nonzero;fill:rgb(100%,100%,100%);fill-opacity:1;\" d=\"M 280.523438 390.015625 L 290.714844 383.679688 L 287.988281 395.363281 \"/>\n",
       "<path style=\"fill:none;stroke-width:1;stroke-linecap:butt;stroke-linejoin:miter;stroke:rgb(100%,100%,100%);stroke-opacity:1;stroke-miterlimit:10;\" d=\"M 413.855469 288.664062 C 378.316406 269.820312 342.777344 250.972656 307.238281 232.125 \"/>\n",
       "<path style=\" stroke:none;fill-rule:nonzero;fill:rgb(100%,100%,100%);fill-opacity:1;\" d=\"M 305.609375 236.460938 L 297.964844 227.210938 L 309.910156 228.347656 \"/>\n",
       "<path style=\"fill:none;stroke-width:1;stroke-linecap:butt;stroke-linejoin:miter;stroke:rgb(100%,100%,100%);stroke-opacity:1;stroke-miterlimit:10;\" d=\"M 414.238281 294.914062 C 378.554688 319.851562 342.867188 344.792969 307.183594 369.734375 \"/>\n",
       "<path style=\" stroke:none;fill-rule:nonzero;fill:rgb(100%,100%,100%);fill-opacity:1;\" d=\"M 310.84375 372.777344 L 299.125 375.363281 L 305.582031 365.25 \"/>\n",
       "<path style=\"fill:none;stroke-width:1;stroke-linecap:butt;stroke-linejoin:miter;stroke:rgb(100%,100%,100%);stroke-opacity:1;stroke-miterlimit:10;\" d=\"M 420.578125 297.304688 C 428.207031 328.582031 435.835938 359.863281 443.464844 391.140625 \"/>\n",
       "<path style=\" stroke:none;fill-rule:nonzero;fill:rgb(100%,100%,100%);fill-opacity:1;\" d=\"M 447.839844 389.710938 L 446.007812 401.570312 L 438.917969 391.886719 \"/>\n",
       "<path style=\"fill:none;stroke-width:1;stroke-linecap:butt;stroke-linejoin:miter;stroke:rgb(100%,100%,100%);stroke-opacity:1;stroke-miterlimit:10;\" d=\"M 417.65625 297.285156 C 413.023438 315.222656 408.390625 333.164062 403.761719 351.101562 \"/>\n",
       "<path style=\" stroke:none;fill-rule:nonzero;fill:rgb(100%,100%,100%);fill-opacity:1;\" d=\"M 408.332031 351.769531 L 401.113281 361.355469 L 399.441406 349.472656 \"/>\n",
       "<path style=\"fill:none;stroke-width:1;stroke-linecap:butt;stroke-linejoin:miter;stroke:rgb(100%,100%,100%);stroke-opacity:1;stroke-miterlimit:10;\" d=\"M 420.300781 285.585938 C 425.902344 256.820312 431.503906 228.054688 437.101562 199.289062 \"/>\n",
       "<path style=\" stroke:none;fill-rule:nonzero;fill:rgb(100%,100%,100%);fill-opacity:1;\" d=\"M 432.554688 198.628906 L 439.179688 188.625 L 441.570312 200.382812 \"/>\n",
       "<path style=\"fill:none;stroke-width:1;stroke-linecap:butt;stroke-linejoin:miter;stroke:rgb(100%,100%,100%);stroke-opacity:1;stroke-miterlimit:10;\" d=\"M 413.234375 290.507812 C 385.789062 286.015625 358.34375 281.527344 330.898438 277.039062 \"/>\n",
       "<path style=\" stroke:none;fill-rule:nonzero;fill:rgb(100%,100%,100%);fill-opacity:1;\" d=\"M 330.921875 281.695312 L 320.722656 275.375 L 332.402344 272.632812 \"/>\n",
       "<path style=\"fill:none;stroke-width:1;stroke-linecap:butt;stroke-linejoin:miter;stroke:rgb(100%,100%,100%);stroke-opacity:1;stroke-miterlimit:10;\" d=\"M 425.15625 291.414062 C 468.195312 290.957031 511.238281 290.503906 554.28125 290.050781 \"/>\n",
       "<path style=\" stroke:none;fill-rule:nonzero;fill:rgb(100%,100%,100%);fill-opacity:1;\" d=\"M 552.867188 285.472656 L 564 289.945312 L 552.960938 294.65625 \"/>\n",
       "<path style=\"fill:none;stroke-width:1;stroke-linecap:butt;stroke-linejoin:miter;stroke:rgb(100%,100%,100%);stroke-opacity:1;stroke-miterlimit:10;\" d=\"M 58.867188 198.140625 C 92.003906 218.675781 125.136719 239.210938 158.269531 259.746094 \"/>\n",
       "<path style=\" stroke:none;fill-rule:nonzero;fill:rgb(100%,100%,100%);fill-opacity:1;\" d=\"M 159.910156 255.359375 L 166.914062 265.105469 L 155.070312 263.167969 \"/>\n",
       "<path style=\"fill:none;stroke-width:1;stroke-linecap:butt;stroke-linejoin:miter;stroke:rgb(100%,100%,100%);stroke-opacity:1;stroke-miterlimit:10;\" d=\"M 394.851562 485.503906 C 364.929688 453.78125 335.003906 422.054688 305.082031 390.332031 \"/>\n",
       "<path style=\" stroke:none;fill-rule:nonzero;fill:rgb(100%,100%,100%);fill-opacity:1;\" d=\"M 302.59375 394.382812 L 298.324219 383.167969 L 309.273438 388.082031 \"/>\n",
       "<path style=\"fill:none;stroke-width:1;stroke-linecap:butt;stroke-linejoin:miter;stroke:rgb(100%,100%,100%);stroke-opacity:1;stroke-miterlimit:10;\" d=\"M 397.035156 128.011719 C 372.191406 172.242188 347.34375 216.472656 322.496094 260.703125 \"/>\n",
       "<path style=\" stroke:none;fill-rule:nonzero;fill:rgb(100%,100%,100%);fill-opacity:1;\" d=\"M 327.171875 261.757812 L 317.738281 269.171875 L 319.164062 257.257812 \"/>\n",
       "<path style=\"fill:none;stroke-width:1;stroke-linecap:butt;stroke-linejoin:miter;stroke:rgb(100%,100%,100%);stroke-opacity:1;stroke-miterlimit:10;\" d=\"M 52.3125 358.550781 C 87.9375 331.679688 123.558594 304.8125 159.179688 277.945312 \"/>\n",
       "<path style=\" stroke:none;fill-rule:nonzero;fill:rgb(100%,100%,100%);fill-opacity:1;\" d=\"M 155.609375 274.886719 L 167.222656 271.878906 L 161.136719 282.21875 \"/>\n",
       "<path style=\"fill:none;stroke-width:1;stroke-linecap:butt;stroke-linejoin:miter;stroke:rgb(100%,100%,100%);stroke-opacity:1;stroke-miterlimit:10;\" d=\"M 434.550781 184.363281 C 392.355469 196.269531 350.164062 208.175781 307.96875 220.082031 \"/>\n",
       "<path style=\" stroke:none;fill-rule:nonzero;fill:rgb(100%,100%,100%);fill-opacity:1;\" d=\"M 310.355469 224.179688 L 298.441406 222.769531 L 307.863281 215.339844 \"/>\n",
       "<path style=\"fill:none;stroke-width:1;stroke-linecap:butt;stroke-linejoin:miter;stroke:rgb(100%,100%,100%);stroke-opacity:1;stroke-miterlimit:10;\" d=\"M 439.179688 188.625 C 433.578125 217.390625 427.980469 246.15625 422.378906 274.921875 \"/>\n",
       "<path style=\" stroke:none;fill-rule:nonzero;fill:rgb(100%,100%,100%);fill-opacity:1;\" d=\"M 426.929688 275.582031 L 420.300781 285.585938 L 417.914062 273.828125 \"/>\n",
       "<path style=\"fill:none;stroke-width:1;stroke-linecap:butt;stroke-linejoin:miter;stroke:rgb(100%,100%,100%);stroke-opacity:1;stroke-miterlimit:10;\" d=\"M 270.914062 515.410156 C 277.75 475.328125 284.582031 435.25 291.417969 395.171875 \"/>\n",
       "<path style=\" stroke:none;fill-rule:nonzero;fill:rgb(100%,100%,100%);fill-opacity:1;\" d=\"M 286.808594 394.875 L 293.199219 384.714844 L 295.863281 396.417969 \"/>\n",
       "<path style=\"fill:none;stroke-width:1;stroke-linecap:butt;stroke-linejoin:miter;stroke:rgb(100%,100%,100%);stroke-opacity:1;stroke-miterlimit:10;\" d=\"M 221.035156 316.28125 C 241.417969 290.136719 261.800781 263.992188 282.183594 237.84375 \"/>\n",
       "<path style=\" stroke:none;fill-rule:nonzero;fill:rgb(100%,100%,100%);fill-opacity:1;\" d=\"M 278.539062 235.050781 L 288.976562 229.128906 L 285.78125 240.699219 \"/>\n",
       "<path style=\"fill:none;stroke-width:1;stroke-linecap:butt;stroke-linejoin:miter;stroke:rgb(100%,100%,100%);stroke-opacity:1;stroke-miterlimit:10;\" d=\"M 222.140625 324.617188 C 241.648438 339.285156 261.160156 353.953125 280.667969 368.621094 \"/>\n",
       "<path style=\" stroke:none;fill-rule:nonzero;fill:rgb(100%,100%,100%);fill-opacity:1;\" d=\"M 283.3125 364.863281 L 289.414062 375.195312 L 277.792969 372.203125 \"/>\n",
       "<path style=\"fill:none;stroke-width:1;stroke-linecap:butt;stroke-linejoin:miter;stroke:rgb(100%,100%,100%);stroke-opacity:1;stroke-miterlimit:10;\" d=\"M 213.433594 316.460938 C 203.304688 304.679688 193.179688 292.894531 183.050781 281.109375 \"/>\n",
       "<path style=\" stroke:none;fill-rule:nonzero;fill:rgb(100%,100%,100%);fill-opacity:1;\" d=\"M 179.667969 284.21875 L 175.925781 272.816406 L 186.632812 278.230469 \"/>\n",
       "<path style=\"fill:none;stroke-width:1;stroke-linecap:butt;stroke-linejoin:miter;stroke:rgb(100%,100%,100%);stroke-opacity:1;stroke-miterlimit:10;\" d=\"M 313.640625 280.292969 C 308.21875 307.769531 302.800781 335.25 297.378906 362.726562 \"/>\n",
       "<path style=\" stroke:none;fill-rule:nonzero;fill:rgb(100%,100%,100%);fill-opacity:1;\" d=\"M 302.019531 362.925781 L 295.371094 372.914062 L 293.011719 361.148438 \"/>\n",
       "<path style=\"fill:none;stroke-width:1;stroke-linecap:butt;stroke-linejoin:miter;stroke:rgb(100%,100%,100%);stroke-opacity:1;stroke-miterlimit:10;\" d=\"M 308.804688 274.148438 C 268.695312 272.421875 228.582031 270.699219 188.472656 268.972656 \"/>\n",
       "<path style=\" stroke:none;fill-rule:nonzero;fill:rgb(100%,100%,100%);fill-opacity:1;\" d=\"M 188.886719 273.585938 L 178.007812 268.523438 L 189.28125 264.410156 \"/>\n",
       "<path style=\"fill:none;stroke-width:1;stroke-linecap:butt;stroke-linejoin:miter;stroke:rgb(100%,100%,100%);stroke-opacity:1;stroke-miterlimit:10;\" d=\"M 318.847656 278.832031 C 342.121094 304.285156 365.390625 329.734375 388.660156 355.183594 \"/>\n",
       "<path style=\" stroke:none;fill-rule:nonzero;fill:rgb(100%,100%,100%);fill-opacity:1;\" d=\"M 391.472656 351.457031 L 395.566406 362.734375 L 384.695312 357.652344 \"/>\n",
       "<path style=\"fill:none;stroke-width:1;stroke-linecap:butt;stroke-linejoin:miter;stroke:rgb(100%,100%,100%);stroke-opacity:1;stroke-miterlimit:10;\" d=\"M 320.722656 275.375 C 348.167969 279.863281 375.613281 284.351562 403.058594 288.84375 \"/>\n",
       "<path style=\" stroke:none;fill-rule:nonzero;fill:rgb(100%,100%,100%);fill-opacity:1;\" d=\"M 403.035156 284.183594 L 413.234375 290.507812 L 401.550781 293.25 \"/>\n",
       "<path style=\"fill:none;stroke-width:1;stroke-linecap:butt;stroke-linejoin:miter;stroke:rgb(100%,100%,100%);stroke-opacity:1;stroke-miterlimit:10;\" d=\"M 317.738281 269.171875 C 342.585938 224.941406 367.433594 180.710938 392.277344 136.480469 \"/>\n",
       "<path style=\" stroke:none;fill-rule:nonzero;fill:rgb(100%,100%,100%);fill-opacity:1;\" d=\"M 387.601562 135.425781 L 397.035156 128.011719 L 395.609375 139.925781 \"/>\n",
       "<path style=\"fill:none;stroke-width:1;stroke-linecap:butt;stroke-linejoin:miter;stroke:rgb(100%,100%,100%);stroke-opacity:1;stroke-miterlimit:10;\" d=\"M 564 289.945312 C 520.957031 290.402344 477.917969 290.855469 434.875 291.308594 \"/>\n",
       "<path style=\" stroke:none;fill-rule:nonzero;fill:rgb(100%,100%,100%);fill-opacity:1;\" d=\"M 436.289062 295.886719 L 425.15625 291.414062 L 436.191406 286.703125 \"/>\n",
       "<path style=\"fill:none;stroke-width:1;stroke-linecap:butt;stroke-linejoin:miter;stroke:rgb(100%,100%,100%);stroke-opacity:1;stroke-miterlimit:10;\" d=\"M 35.980469 279.527344 C 75.863281 276.226562 115.746094 272.925781 155.628906 269.621094 \"/>\n",
       "<path style=\" stroke:none;fill-rule:nonzero;fill:rgb(100%,100%,100%);fill-opacity:1;\" d=\"M 154.605469 265.097656 L 166.035156 268.761719 L 155.363281 274.25 \"/>\n",
       "<path style=\"fill:none;stroke-width:1;stroke-linecap:butt;stroke-linejoin:miter;stroke:rgb(100%,100%,100%);stroke-opacity:1;stroke-miterlimit:10;\" d=\"M 172.980469 445.691406 C 208.546875 426.066406 244.113281 406.441406 279.675781 386.820312 \"/>\n",
       "<path style=\" stroke:none;fill-rule:nonzero;fill:rgb(100%,100%,100%);fill-opacity:1;\" d=\"M 277.03125 383.035156 L 288.957031 381.699219 L 281.46875 391.078125 \"/>\n",
       "<path style=\"fill:none;stroke-width:1;stroke-linecap:butt;stroke-linejoin:miter;stroke:rgb(100%,100%,100%);stroke-opacity:1;stroke-miterlimit:10;\" d=\"M 243.089844 91.179688 C 257.652344 130.308594 272.210938 169.4375 286.773438 208.566406 \"/>\n",
       "<path style=\" stroke:none;fill-rule:nonzero;fill:rgb(100%,100%,100%);fill-opacity:1;\" d=\"M 291.007812 206.785156 L 290.574219 218.773438 L 282.402344 209.988281 \"/>\n",
       "<path style=\"fill-rule:nonzero;fill:rgb(100%,100%,100%);fill-opacity:1;stroke-width:1;stroke-linecap:butt;stroke-linejoin:miter;stroke:rgb(100%,100%,100%);stroke-opacity:1;stroke-miterlimit:10;\" d=\"M 320.664062 224.398438 C 320.664062 239.863281 308.128906 252.398438 292.664062 252.398438 C 277.199219 252.398438 264.664062 239.863281 264.664062 224.398438 C 264.664062 208.933594 277.199219 196.398438 292.664062 196.398438 C 308.128906 196.398438 320.664062 208.933594 320.664062 224.398438 Z M 320.664062 224.398438 \"/>\n",
       "<g style=\"fill:rgb(0%,0%,0%);fill-opacity:1;\">\n",
       "  <use xlink:href=\"#glyph-4548510-1\" x=\"289.884245\" y=\"227.88007\"/>\n",
       "</g>\n",
       "<path style=\"fill-rule:nonzero;fill:rgb(100%,100%,100%);fill-opacity:1;stroke-width:1;stroke-linecap:butt;stroke-linejoin:miter;stroke:rgb(100%,100%,100%);stroke-opacity:1;stroke-miterlimit:10;\" d=\"M 342.207031 378.800781 C 342.207031 405.3125 320.71875 426.800781 294.207031 426.800781 C 267.699219 426.800781 246.207031 405.3125 246.207031 378.800781 C 246.207031 352.292969 267.699219 330.800781 294.207031 330.800781 C 320.71875 330.800781 342.207031 352.292969 342.207031 378.800781 Z M 342.207031 378.800781 \"/>\n",
       "<g style=\"fill:rgb(0%,0%,0%);fill-opacity:1;\">\n",
       "  <use xlink:href=\"#glyph-4548510-2\" x=\"291.428049\" y=\"382.310252\"/>\n",
       "</g>\n",
       "<path style=\"fill-rule:nonzero;fill:rgb(100%,100%,100%);fill-opacity:1;stroke-width:1;stroke-linecap:butt;stroke-linejoin:miter;stroke:rgb(100%,100%,100%);stroke-opacity:1;stroke-miterlimit:10;\" d=\"M 204.015625 268.265625 C 204.015625 285.9375 189.6875 300.265625 172.015625 300.265625 C 154.339844 300.265625 140.015625 285.9375 140.015625 268.265625 C 140.015625 250.59375 154.339844 236.265625 172.015625 236.265625 C 189.6875 236.265625 204.015625 250.59375 204.015625 268.265625 Z M 204.015625 268.265625 \"/>\n",
       "<g style=\"fill:rgb(0%,0%,0%);fill-opacity:1;\">\n",
       "  <use xlink:href=\"#glyph-4548510-3\" x=\"169.23337\" y=\"271.766127\"/>\n",
       "</g>\n",
       "<path style=\"fill-rule:nonzero;fill:rgb(100%,100%,100%);fill-opacity:1;stroke-width:1;stroke-linecap:butt;stroke-linejoin:miter;stroke:rgb(100%,100%,100%);stroke-opacity:1;stroke-miterlimit:10;\" d=\"M 340.304688 517.746094 C 340.304688 519.957031 338.515625 521.746094 336.304688 521.746094 C 334.09375 521.746094 332.304688 519.957031 332.304688 517.746094 C 332.304688 515.539062 334.09375 513.746094 336.304688 513.746094 C 338.515625 513.746094 340.304688 515.539062 340.304688 517.746094 Z M 340.304688 517.746094 \"/>\n",
       "<g style=\"fill:rgb(0%,0%,0%);fill-opacity:1;\">\n",
       "  <use xlink:href=\"#glyph-4548510-4\" x=\"333.523897\" y=\"521.252681\"/>\n",
       "</g>\n",
       "<path style=\"fill-rule:nonzero;fill:rgb(100%,100%,100%);fill-opacity:1;stroke-width:1;stroke-linecap:butt;stroke-linejoin:miter;stroke:rgb(100%,100%,100%);stroke-opacity:1;stroke-miterlimit:10;\" d=\"M 117.871094 134.34375 C 117.871094 136.554688 116.078125 138.34375 113.871094 138.34375 C 111.660156 138.34375 109.871094 136.554688 109.871094 134.34375 C 109.871094 132.136719 111.660156 130.34375 113.871094 130.34375 C 116.078125 130.34375 117.871094 132.136719 117.871094 134.34375 Z M 117.871094 134.34375 \"/>\n",
       "<g style=\"fill:rgb(0%,0%,0%);fill-opacity:1;\">\n",
       "  <use xlink:href=\"#glyph-4548510-5\" x=\"111.088775\" y=\"137.783105\"/>\n",
       "</g>\n",
       "<path style=\"fill-rule:nonzero;fill:rgb(100%,100%,100%);fill-opacity:1;stroke-width:1;stroke-linecap:butt;stroke-linejoin:miter;stroke:rgb(100%,100%,100%);stroke-opacity:1;stroke-miterlimit:10;\" d=\"M 455.429688 407.398438 C 455.429688 411.816406 451.847656 415.398438 447.429688 415.398438 C 443.007812 415.398438 439.429688 411.816406 439.429688 407.398438 C 439.429688 402.980469 443.007812 399.398438 447.429688 399.398438 C 451.847656 399.398438 455.429688 402.980469 455.429688 407.398438 Z M 455.429688 407.398438 \"/>\n",
       "<g style=\"fill:rgb(0%,0%,0%);fill-opacity:1;\">\n",
       "  <use xlink:href=\"#glyph-4548510-6\" x=\"444.647006\" y=\"410.908679\"/>\n",
       "</g>\n",
       "<path style=\"fill-rule:nonzero;fill:rgb(100%,100%,100%);fill-opacity:1;stroke-width:1;stroke-linecap:butt;stroke-linejoin:miter;stroke:rgb(100%,100%,100%);stroke-opacity:1;stroke-miterlimit:10;\" d=\"M 334.675781 78.675781 C 334.675781 80.886719 332.886719 82.675781 330.675781 82.675781 C 328.46875 82.675781 326.675781 80.886719 326.675781 78.675781 C 326.675781 76.46875 328.46875 74.675781 330.675781 74.675781 C 332.886719 74.675781 334.675781 76.46875 334.675781 78.675781 Z M 334.675781 78.675781 \"/>\n",
       "<g style=\"fill:rgb(0%,0%,0%);fill-opacity:1;\">\n",
       "  <use xlink:href=\"#glyph-4548510-7\" x=\"327.896363\" y=\"82.114232\"/>\n",
       "</g>\n",
       "<path style=\"fill-rule:nonzero;fill:rgb(100%,100%,100%);fill-opacity:1;stroke-width:1;stroke-linecap:butt;stroke-linejoin:miter;stroke:rgb(100%,100%,100%);stroke-opacity:1;stroke-miterlimit:10;\" d=\"M 411.613281 367.164062 C 411.613281 373.792969 406.242188 379.164062 399.613281 379.164062 C 392.988281 379.164062 387.613281 373.792969 387.613281 367.164062 C 387.613281 360.535156 392.988281 355.164062 399.613281 355.164062 C 406.242188 355.164062 411.613281 360.535156 411.613281 367.164062 Z M 411.613281 367.164062 \"/>\n",
       "<g style=\"fill:rgb(0%,0%,0%);fill-opacity:1;\">\n",
       "  <use xlink:href=\"#glyph-4548510-8\" x=\"396.834189\" y=\"370.669805\"/>\n",
       "</g>\n",
       "<path style=\"fill-rule:nonzero;fill:rgb(100%,100%,100%);fill-opacity:1;stroke-width:1;stroke-linecap:butt;stroke-linejoin:miter;stroke:rgb(100%,100%,100%);stroke-opacity:1;stroke-miterlimit:10;\" d=\"M 211.863281 499.28125 C 211.863281 501.488281 210.074219 503.28125 207.863281 503.28125 C 205.652344 503.28125 203.863281 501.488281 203.863281 499.28125 C 203.863281 497.070312 205.652344 495.28125 207.863281 495.28125 C 210.074219 495.28125 211.863281 497.070312 211.863281 499.28125 Z M 211.863281 499.28125 \"/>\n",
       "<g style=\"fill:rgb(0%,0%,0%);fill-opacity:1;\">\n",
       "  <use xlink:href=\"#glyph-4548510-9\" x=\"205.082662\" y=\"502.780456\"/>\n",
       "</g>\n",
       "<path style=\"fill-rule:nonzero;fill:rgb(100%,100%,100%);fill-opacity:1;stroke-width:1;stroke-linecap:butt;stroke-linejoin:miter;stroke:rgb(100%,100%,100%);stroke-opacity:1;stroke-miterlimit:10;\" d=\"M 447.15625 291.476562 C 447.15625 306.941406 434.617188 319.476562 419.15625 319.476562 C 403.691406 319.476562 391.15625 306.941406 391.15625 291.476562 C 391.15625 276.011719 403.691406 263.476562 419.15625 263.476562 C 434.617188 263.476562 447.15625 276.011719 447.15625 291.476562 Z M 447.15625 291.476562 \"/>\n",
       "<g style=\"fill:rgb(0%,0%,0%);fill-opacity:1;\">\n",
       "  <use xlink:href=\"#glyph-4548510-1\" x=\"413.593525\" y=\"294.971681\"/>\n",
       "  <use xlink:href=\"#glyph-4548510-10\" x=\"419.155049\" y=\"294.971681\"/>\n",
       "</g>\n",
       "<path style=\"fill-rule:nonzero;fill:rgb(100%,100%,100%);fill-opacity:1;stroke-width:1;stroke-linecap:butt;stroke-linejoin:miter;stroke:rgb(100%,100%,100%);stroke-opacity:1;stroke-miterlimit:10;\" d=\"M 57.769531 194.980469 C 57.769531 197.191406 55.976562 198.980469 53.769531 198.980469 C 51.558594 198.980469 49.769531 197.191406 49.769531 194.980469 C 49.769531 192.773438 51.558594 190.980469 53.769531 190.980469 C 55.976562 190.980469 57.769531 192.773438 57.769531 194.980469 Z M 57.769531 194.980469 \"/>\n",
       "<g style=\"fill:rgb(0%,0%,0%);fill-opacity:1;\">\n",
       "  <use xlink:href=\"#glyph-4548510-1\" x=\"48.206296\" y=\"198.462777\"/>\n",
       "  <use xlink:href=\"#glyph-4548510-1\" x=\"53.767819\" y=\"198.462777\"/>\n",
       "</g>\n",
       "<path style=\"fill-rule:nonzero;fill:rgb(100%,100%,100%);fill-opacity:1;stroke-width:1;stroke-linecap:butt;stroke-linejoin:miter;stroke:rgb(100%,100%,100%);stroke-opacity:1;stroke-miterlimit:10;\" d=\"M 402.96875 489.871094 C 402.96875 492.078125 401.179688 493.871094 398.96875 493.871094 C 396.761719 493.871094 394.96875 492.078125 394.96875 489.871094 C 394.96875 487.660156 396.761719 485.871094 398.96875 485.871094 C 401.179688 485.871094 402.96875 487.660156 402.96875 489.871094 Z M 402.96875 489.871094 \"/>\n",
       "<g style=\"fill:rgb(0%,0%,0%);fill-opacity:1;\">\n",
       "  <use xlink:href=\"#glyph-4548510-1\" x=\"393.407724\" y=\"493.378388\"/>\n",
       "  <use xlink:href=\"#glyph-4548510-2\" x=\"398.969247\" y=\"493.378388\"/>\n",
       "</g>\n",
       "<path style=\"fill-rule:nonzero;fill:rgb(100%,100%,100%);fill-opacity:1;stroke-width:1;stroke-linecap:butt;stroke-linejoin:miter;stroke:rgb(100%,100%,100%);stroke-opacity:1;stroke-miterlimit:10;\" d=\"M 403.976562 122.777344 C 403.976562 124.988281 402.183594 126.777344 399.976562 126.777344 C 397.765625 126.777344 395.976562 124.988281 395.976562 122.777344 C 395.976562 120.570312 397.765625 118.777344 399.976562 118.777344 C 402.183594 118.777344 403.976562 120.570312 403.976562 122.777344 Z M 403.976562 122.777344 \"/>\n",
       "<g style=\"fill:rgb(0%,0%,0%);fill-opacity:1;\">\n",
       "  <use xlink:href=\"#glyph-4548510-1\" x=\"394.413788\" y=\"126.279742\"/>\n",
       "  <use xlink:href=\"#glyph-4548510-3\" x=\"399.975312\" y=\"126.279742\"/>\n",
       "</g>\n",
       "<path style=\"fill-rule:nonzero;fill:rgb(100%,100%,100%);fill-opacity:1;stroke-width:1;stroke-linecap:butt;stroke-linejoin:miter;stroke:rgb(100%,100%,100%);stroke-opacity:1;stroke-miterlimit:10;\" d=\"M 51.523438 362.164062 C 51.523438 364.371094 49.734375 366.164062 47.523438 366.164062 C 45.316406 366.164062 43.523438 364.371094 43.523438 362.164062 C 43.523438 359.953125 45.316406 358.164062 47.523438 358.164062 C 49.734375 358.164062 51.523438 359.953125 51.523438 362.164062 Z M 51.523438 362.164062 \"/>\n",
       "<g style=\"fill:rgb(0%,0%,0%);fill-opacity:1;\">\n",
       "  <use xlink:href=\"#glyph-4548510-1\" x=\"41.962537\" y=\"365.668623\"/>\n",
       "  <use xlink:href=\"#glyph-4548510-4\" x=\"47.524061\" y=\"365.668623\"/>\n",
       "</g>\n",
       "<path style=\"fill-rule:nonzero;fill:rgb(100%,100%,100%);fill-opacity:1;stroke-width:1;stroke-linecap:butt;stroke-linejoin:miter;stroke:rgb(100%,100%,100%);stroke-opacity:1;stroke-miterlimit:10;\" d=\"M 448.328125 182.734375 C 448.328125 187.152344 444.746094 190.734375 440.328125 190.734375 C 435.910156 190.734375 432.328125 187.152344 432.328125 182.734375 C 432.328125 178.316406 435.910156 174.734375 440.328125 174.734375 C 444.746094 174.734375 448.328125 178.316406 448.328125 182.734375 Z M 448.328125 182.734375 \"/>\n",
       "<g style=\"fill:rgb(0%,0%,0%);fill-opacity:1;\">\n",
       "  <use xlink:href=\"#glyph-4548510-1\" x=\"434.765202\" y=\"186.216456\"/>\n",
       "  <use xlink:href=\"#glyph-4548510-5\" x=\"440.326725\" y=\"186.216456\"/>\n",
       "</g>\n",
       "<path style=\"fill-rule:nonzero;fill:rgb(100%,100%,100%);fill-opacity:1;stroke-width:1;stroke-linecap:butt;stroke-linejoin:miter;stroke:rgb(100%,100%,100%);stroke-opacity:1;stroke-miterlimit:10;\" d=\"M 273.90625 521.324219 C 273.90625 523.53125 272.117188 525.324219 269.90625 525.324219 C 267.695312 525.324219 265.90625 523.53125 265.90625 521.324219 C 265.90625 519.113281 267.695312 517.324219 269.90625 517.324219 C 272.117188 517.324219 273.90625 519.113281 273.90625 521.324219 Z M 273.90625 521.324219 \"/>\n",
       "<g style=\"fill:rgb(0%,0%,0%);fill-opacity:1;\">\n",
       "  <use xlink:href=\"#glyph-4548510-1\" x=\"264.344638\" y=\"524.83401\"/>\n",
       "  <use xlink:href=\"#glyph-4548510-6\" x=\"269.906161\" y=\"524.83401\"/>\n",
       "</g>\n",
       "<path style=\"fill-rule:nonzero;fill:rgb(100%,100%,100%);fill-opacity:1;stroke-width:1;stroke-linecap:butt;stroke-linejoin:miter;stroke:rgb(100%,100%,100%);stroke-opacity:1;stroke-miterlimit:10;\" d=\"M 229.34375 321.011719 C 229.34375 327.640625 223.972656 333.011719 217.34375 333.011719 C 210.71875 333.011719 205.34375 327.640625 205.34375 321.011719 C 205.34375 314.386719 210.71875 309.011719 217.34375 309.011719 C 223.972656 309.011719 229.34375 314.386719 229.34375 321.011719 Z M 229.34375 321.011719 \"/>\n",
       "<g style=\"fill:rgb(0%,0%,0%);fill-opacity:1;\">\n",
       "  <use xlink:href=\"#glyph-4548510-1\" x=\"211.782735\" y=\"324.494451\"/>\n",
       "  <use xlink:href=\"#glyph-4548510-7\" x=\"217.344259\" y=\"324.494451\"/>\n",
       "</g>\n",
       "<path style=\"fill-rule:nonzero;fill:rgb(100%,100%,100%);fill-opacity:1;stroke-width:1;stroke-linecap:butt;stroke-linejoin:miter;stroke:rgb(100%,100%,100%);stroke-opacity:1;stroke-miterlimit:10;\" d=\"M 334.800781 274.40625 C 334.800781 285.449219 325.84375 294.40625 314.800781 294.40625 C 303.753906 294.40625 294.800781 285.449219 294.800781 274.40625 C 294.800781 263.359375 303.753906 254.40625 314.800781 254.40625 C 325.84375 254.40625 334.800781 263.359375 334.800781 274.40625 Z M 334.800781 274.40625 \"/>\n",
       "<g style=\"fill:rgb(0%,0%,0%);fill-opacity:1;\">\n",
       "  <use xlink:href=\"#glyph-4548510-1\" x=\"309.238276\" y=\"277.910792\"/>\n",
       "  <use xlink:href=\"#glyph-4548510-8\" x=\"314.7998\" y=\"277.910792\"/>\n",
       "</g>\n",
       "<path style=\"fill-rule:nonzero;fill:rgb(100%,100%,100%);fill-opacity:1;stroke-width:1;stroke-linecap:butt;stroke-linejoin:miter;stroke:rgb(100%,100%,100%);stroke-opacity:1;stroke-miterlimit:10;\" d=\"M 574 289.882812 C 574 292.09375 572.210938 293.882812 570 293.882812 C 567.789062 293.882812 566 292.09375 566 289.882812 C 566 287.671875 567.789062 285.882812 570 285.882812 C 572.210938 285.882812 574 287.671875 574 289.882812 Z M 574 289.882812 \"/>\n",
       "<g style=\"fill:rgb(0%,0%,0%);fill-opacity:1;\">\n",
       "  <use xlink:href=\"#glyph-4548510-1\" x=\"564.438477\" y=\"293.383925\"/>\n",
       "  <use xlink:href=\"#glyph-4548510-9\" x=\"570\" y=\"293.383925\"/>\n",
       "</g>\n",
       "<path style=\"fill-rule:nonzero;fill:rgb(100%,100%,100%);fill-opacity:1;stroke-width:1;stroke-linecap:butt;stroke-linejoin:miter;stroke:rgb(100%,100%,100%);stroke-opacity:1;stroke-miterlimit:10;\" d=\"M 34 280.023438 C 34 282.234375 32.210938 284.023438 30 284.023438 C 27.789062 284.023438 26 282.234375 26 280.023438 C 26 277.8125 27.789062 276.023438 30 276.023438 C 32.210938 276.023438 34 277.8125 34 280.023438 Z M 34 280.023438 \"/>\n",
       "<g style=\"fill:rgb(0%,0%,0%);fill-opacity:1;\">\n",
       "  <use xlink:href=\"#glyph-4548510-2\" x=\"24.438477\" y=\"283.531709\"/>\n",
       "  <use xlink:href=\"#glyph-4548510-10\" x=\"30\" y=\"283.531709\"/>\n",
       "</g>\n",
       "<path style=\"fill-rule:nonzero;fill:rgb(100%,100%,100%);fill-opacity:1;stroke-width:1;stroke-linecap:butt;stroke-linejoin:miter;stroke:rgb(100%,100%,100%);stroke-opacity:1;stroke-miterlimit:10;\" d=\"M 171.730469 448.589844 C 171.730469 450.796875 169.9375 452.589844 167.730469 452.589844 C 165.519531 452.589844 163.730469 450.796875 163.730469 448.589844 C 163.730469 446.378906 165.519531 444.589844 167.730469 444.589844 C 169.9375 444.589844 171.730469 446.378906 171.730469 448.589844 Z M 171.730469 448.589844 \"/>\n",
       "<g style=\"fill:rgb(0%,0%,0%);fill-opacity:1;\">\n",
       "  <use xlink:href=\"#glyph-4548510-2\" x=\"162.167297\" y=\"452.096485\"/>\n",
       "  <use xlink:href=\"#glyph-4548510-1\" x=\"167.728821\" y=\"452.096485\"/>\n",
       "</g>\n",
       "<path style=\"fill-rule:nonzero;fill:rgb(100%,100%,100%);fill-opacity:1;stroke-width:1;stroke-linecap:butt;stroke-linejoin:miter;stroke:rgb(100%,100%,100%);stroke-opacity:1;stroke-miterlimit:10;\" d=\"M 244.996094 85.554688 C 244.996094 87.765625 243.207031 89.554688 240.996094 89.554688 C 238.789062 89.554688 236.996094 87.765625 236.996094 85.554688 C 236.996094 83.347656 238.789062 81.554688 240.996094 81.554688 C 243.207031 81.554688 244.996094 83.347656 244.996094 85.554688 Z M 244.996094 85.554688 \"/>\n",
       "<g style=\"fill:rgb(0%,0%,0%);fill-opacity:1;\">\n",
       "  <use xlink:href=\"#glyph-4548510-2\" x=\"235.43629\" y=\"89.064544\"/>\n",
       "  <use xlink:href=\"#glyph-4548510-2\" x=\"240.997814\" y=\"89.064544\"/>\n",
       "</g>\n",
       "</g>\n",
       "</svg>\n"
      ],
      "text/plain": []
     },
     "execution_count": 28,
     "metadata": {},
     "output_type": "execute_result"
    }
   ],
   "source": [
    "@drawsvg begin\n",
    "    background(\"black\")\n",
    "    sethue(\"white\")\n",
    "    drawgraph(g, layout=stress, vertexlabels = 1:nv(g),\n",
    "    edgelabels = :none, edgecurvature=0, \n",
    "    vertexshapesizes =  1.* [Graphs.degree(g, v) for v in Graphs.vertices(g)])\n",
    "end 600 600"
   ]
  },
  {
   "cell_type": "code",
   "execution_count": null,
   "id": "b4d1d5d5-6f86-4aee-9f5d-5136c076f238",
   "metadata": {},
   "outputs": [],
   "source": []
  }
 ],
 "metadata": {
  "kernelspec": {
   "display_name": "Julia 1.10.2",
   "language": "julia",
   "name": "julia-1.10"
  },
  "language_info": {
   "file_extension": ".jl",
   "mimetype": "application/julia",
   "name": "julia",
   "version": "1.10.2"
  }
 },
 "nbformat": 4,
 "nbformat_minor": 5
}
