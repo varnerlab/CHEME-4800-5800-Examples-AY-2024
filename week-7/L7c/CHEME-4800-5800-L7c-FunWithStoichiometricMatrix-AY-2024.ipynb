{
 "cells": [
  {
   "cell_type": "markdown",
   "id": "92ea7c9c-61dd-4e8f-b621-edc2a2179c87",
   "metadata": {},
   "source": [
    "# Example: Let's Build and Analyze a Stoichiometric Matrix\n",
    "Fill me in"
   ]
  },
  {
   "cell_type": "markdown",
   "id": "5d669663-3b6c-4537-896e-d1bd1518d126",
   "metadata": {},
   "source": [
    "## Setup\n",
    "Fill me in"
   ]
  },
  {
   "cell_type": "code",
   "execution_count": 1,
   "id": "1797c6b7-8134-4198-a219-fe747b963304",
   "metadata": {},
   "outputs": [
    {
     "name": "stderr",
     "output_type": "stream",
     "text": [
      "\u001b[32m\u001b[1m  Activating\u001b[22m\u001b[39m project at `~/Desktop/julia_work/CHEME-4800-5800-Examples-AY-2024/week-7/L7c`\n",
      "\u001b[32m\u001b[1m  No Changes\u001b[22m\u001b[39m to `~/Desktop/julia_work/CHEME-4800-5800-Examples-AY-2024/week-7/L7c/Project.toml`\n",
      "\u001b[32m\u001b[1m  No Changes\u001b[22m\u001b[39m to `~/Desktop/julia_work/CHEME-4800-5800-Examples-AY-2024/week-7/L7c/Manifest.toml`\n",
      "\u001b[32m\u001b[1m    Updating\u001b[22m\u001b[39m registry at `~/.julia/registries/General.toml`\n",
      "\u001b[32m\u001b[1m  No Changes\u001b[22m\u001b[39m to `~/Desktop/julia_work/CHEME-4800-5800-Examples-AY-2024/week-7/L7c/Project.toml`\n",
      "\u001b[32m\u001b[1m  No Changes\u001b[22m\u001b[39m to `~/Desktop/julia_work/CHEME-4800-5800-Examples-AY-2024/week-7/L7c/Manifest.toml`\n"
     ]
    }
   ],
   "source": [
    "include(\"Include.jl\");"
   ]
  },
  {
   "cell_type": "markdown",
   "id": "c9a8750e-ee39-4756-a74b-70a4ce87bd78",
   "metadata": {},
   "source": [
    "## 1: Load a Reaction File and Build a Stoichiometric Matrix\n",
    "Fill me in"
   ]
  },
  {
   "cell_type": "code",
   "execution_count": 2,
   "id": "e00e791e-8d26-4b4e-a7b6-aaf5f5cf5c7b",
   "metadata": {},
   "outputs": [],
   "source": [
    "path_to_reaction_file = joinpath(_PATH_TO_DATA,\"Urea.net\");"
   ]
  },
  {
   "cell_type": "markdown",
   "id": "0ebb03d1-34ba-44bc-bde7-e030aba80cfe",
   "metadata": {},
   "source": [
    "Fill me in"
   ]
  },
  {
   "cell_type": "code",
   "execution_count": 3,
   "id": "57d45010-ba55-4ccd-8653-b455dcd03182",
   "metadata": {},
   "outputs": [
    {
     "data": {
      "text/plain": [
       "Dict{String, MyChemicalReactionModel} with 22 entries:\n",
       "  \"v4\"  => MyChemicalReactionModel(\"v4\", \"M_Carbamoyl_phosphate_c+M_L-Ornithine…\n",
       "  \"v5\"  => MyChemicalReactionModel(\"v5\", \"2*M_L-Arginine_c+4*M_Oxygen_c+3*M_NAD…\n",
       "  \"v1\"  => MyChemicalReactionModel(\"v1\", \"M_ATP_c+M_L-Citrulline_c+M_L-Aspartat…\n",
       "  \"b12\" => MyChemicalReactionModel(\"b12\", \"M_Nitric_oxide_c\", \"[]\", true)\n",
       "  \"b2\"  => MyChemicalReactionModel(\"b2\", \"[]\", \"M_L-Aspartate_c\", true)\n",
       "  \"b14\" => MyChemicalReactionModel(\"b14\", \"M_H2O_c\", \"[]\", true)\n",
       "  \"b8\"  => MyChemicalReactionModel(\"b8\", \"M_Orthophosphate_c\", \"[]\", true)\n",
       "  \"b15\" => MyChemicalReactionModel(\"b15\", \"M_L-Arginine_c\", \"[]\", true)\n",
       "  \"b11\" => MyChemicalReactionModel(\"b11\", \"[]\", \"M_H_c\", true)\n",
       "  \"v3\"  => MyChemicalReactionModel(\"v3\", \"M_L-Arginine_c+M_H2O_c\", \"M_L-Ornithi…\n",
       "  \"b7\"  => MyChemicalReactionModel(\"b7\", \"M_Diphosphate_c\", \"[]\", true)\n",
       "  \"b9\"  => MyChemicalReactionModel(\"b9\", \"[]\", \"M_Oxygen_c\", true)\n",
       "  \"b3\"  => MyChemicalReactionModel(\"b3\", \"M_Fumarate_c\", \"[]\", true)\n",
       "  \"b5\"  => MyChemicalReactionModel(\"b5\", \"[]\", \"M_ATP_c\", true)\n",
       "  \"b16\" => MyChemicalReactionModel(\"b16\", \"M_L-Ornithine_c\", \"[]\", true)\n",
       "  \"b10\" => MyChemicalReactionModel(\"b10\", \"[]\", \"M_NADPH_c\", true)\n",
       "  \"b17\" => MyChemicalReactionModel(\"b17\", \"M_L-Citrulline_c\", \"[]\", true)\n",
       "  \"v2\"  => MyChemicalReactionModel(\"v2\", \"M_N-(L-Arginino)succinate_c\", \"M_Fuma…\n",
       "  \"b4\"  => MyChemicalReactionModel(\"b4\", \"M_Urea_c\", \"[]\", true)\n",
       "  \"b6\"  => MyChemicalReactionModel(\"b6\", \"M_AMP_c\", \"[]\", true)\n",
       "  \"b13\" => MyChemicalReactionModel(\"b13\", \"M_NADP_c\", \"[]\", true)\n",
       "  \"b1\"  => MyChemicalReactionModel(\"b1\", \"[]\", \"M_Carbamoyl_phosphate_c\", true)"
      ]
     },
     "execution_count": 3,
     "metadata": {},
     "output_type": "execute_result"
    }
   ],
   "source": [
    "reactions = read_reaction_file(path_to_reaction_file, comment=\"//\")"
   ]
  },
  {
   "cell_type": "markdown",
   "id": "b8ae1a0b-499a-4561-9b95-517813b42df7",
   "metadata": {},
   "source": [
    "Fill me in"
   ]
  },
  {
   "cell_type": "code",
   "execution_count": 4,
   "id": "ffa66ebb-304d-4252-a430-547ce0d1f025",
   "metadata": {},
   "outputs": [],
   "source": [
    "S = build(MyStoichiometricMatrixModel, reactions, expand = false);"
   ]
  },
  {
   "cell_type": "code",
   "execution_count": 12,
   "id": "d5841911-9448-46d0-a96c-446ab519870f",
   "metadata": {},
   "outputs": [
    {
     "data": {
      "text/plain": [
       "18×22 Matrix{Float64}:\n",
       "  0.0   0.0   1.0   0.0  0.0   0.0  …   0.0   0.0   0.0  -1.0   0.0  0.0\n",
       "  0.0   0.0  -1.0   0.0  0.0   0.0      0.0   0.0   0.0   0.0   0.0  0.0\n",
       " -1.0   0.0   0.0   0.0  0.0   0.0      0.0   0.0   0.0   0.0   0.0  1.0\n",
       "  0.0   0.0   1.0   0.0  0.0   0.0      0.0   0.0   0.0   0.0   0.0  0.0\n",
       "  0.0   0.0   0.0   0.0  0.0   0.0      0.0   1.0   0.0   0.0   0.0  0.0\n",
       "  0.0   4.0   0.0   0.0  0.0  -1.0  …   0.0   0.0   0.0   0.0   0.0  0.0\n",
       "  0.0  -3.0   0.0   0.0  0.0   0.0      0.0   0.0   0.0   0.0   0.0  0.0\n",
       "  0.0  -2.0   0.0   0.0  0.0   0.0      0.0   1.0   0.0   0.0   0.0  0.0\n",
       "  0.0   0.0  -1.0   0.0  1.0   0.0      0.0   0.0   0.0   0.0   0.0  0.0\n",
       "  1.0   2.0  -1.0   0.0  0.0   0.0     -1.0   0.0   0.0   0.0   0.0  0.0\n",
       " -1.0   0.0   0.0   0.0  0.0   0.0  …   0.0   0.0   0.0   0.0   0.0  0.0\n",
       "  0.0   0.0   1.0   0.0  0.0   0.0      0.0  -1.0   0.0   0.0   0.0  0.0\n",
       "  0.0  -3.0   0.0   0.0  0.0   0.0      0.0   0.0   0.0   0.0   0.0  0.0\n",
       "  0.0   3.0   0.0   0.0  0.0   0.0      0.0   0.0   0.0   0.0  -1.0  0.0\n",
       "  0.0   2.0   0.0  -1.0  0.0   0.0      0.0   0.0   0.0   0.0   0.0  0.0\n",
       "  1.0   0.0   0.0   0.0  0.0   0.0  …   0.0   0.0   0.0   0.0   0.0  0.0\n",
       "  0.0  -4.0   0.0   0.0  0.0   0.0      0.0   0.0   0.0   0.0   0.0  0.0\n",
       "  0.0   0.0   0.0   0.0  0.0   0.0      0.0   0.0  -1.0   0.0   0.0  0.0"
      ]
     },
     "execution_count": 12,
     "metadata": {},
     "output_type": "execute_result"
    }
   ],
   "source": [
    "S.matrix"
   ]
  },
  {
   "cell_type": "markdown",
   "id": "6facace0-b3d0-4932-8396-bfb232ee6dc2",
   "metadata": {},
   "source": [
    "### Check: Do the entries of the stoichiometric matrix make sense?"
   ]
  },
  {
   "cell_type": "code",
   "execution_count": 21,
   "id": "f86b871f-e18d-461c-a500-352dfc0307b3",
   "metadata": {},
   "outputs": [
    {
     "data": {
      "text/plain": [
       "\"2*M_L-Arginine_c+4*M_Oxygen_c+3*M_NADPH_c+3*M_H_c\""
      ]
     },
     "execution_count": 21,
     "metadata": {},
     "output_type": "execute_result"
    }
   ],
   "source": [
    "reactions[\"v5\"].reactants"
   ]
  },
  {
   "cell_type": "code",
   "execution_count": 27,
   "id": "773712c6-55ed-4c1d-877d-d4aaaa85bb15",
   "metadata": {},
   "outputs": [
    {
     "data": {
      "text/plain": [
       "4×2 Matrix{Any}:\n",
       " \"M_H_c\"           -3.0\n",
       " \"M_L-Arginine_c\"  -2.0\n",
       " \"M_NADPH_c\"       -3.0\n",
       " \"M_Oxygen_c\"      -4.0"
      ]
     },
     "execution_count": 27,
     "metadata": {},
     "output_type": "execute_result"
    }
   ],
   "source": [
    "index_species = findall(x->x < 0.0, S.matrix[:,2])\n",
    "[S.species[index_species] S.matrix[index_species,2]]"
   ]
  },
  {
   "cell_type": "markdown",
   "id": "1c302043-3521-48a7-adb4-401cdfb35eea",
   "metadata": {},
   "source": [
    "## 2. Build the Reaction Adjacency Graph (RAG)\n",
    "Fill me in"
   ]
  },
  {
   "cell_type": "code",
   "execution_count": 6,
   "id": "05341a96-f111-4a00-9277-3e39494ab17a",
   "metadata": {},
   "outputs": [
    {
     "data": {
      "text/plain": [
       "18×22 Matrix{Int64}:\n",
       " 0  0  1  0  0  0  0  0  0  0  0  0  0  0  0  0  0  0  0  1  0  0\n",
       " 0  0  1  0  0  0  0  0  0  0  0  0  0  1  0  0  0  0  0  0  0  0\n",
       " 1  0  0  0  0  0  0  0  0  0  0  0  0  0  0  0  0  0  0  0  0  1\n",
       " 0  0  1  0  0  0  0  0  0  0  1  0  0  0  0  0  0  0  0  0  0  0\n",
       " 0  0  0  0  0  0  0  0  0  0  0  0  1  0  0  0  0  1  0  0  0  0\n",
       " 0  1  0  0  0  1  0  0  0  1  0  0  0  0  0  0  0  0  0  0  0  0\n",
       " 0  1  0  0  0  0  0  0  1  0  0  0  0  0  0  0  0  0  0  0  0  0\n",
       " 0  1  0  0  0  0  0  1  0  1  0  0  0  0  0  0  0  1  0  0  0  0\n",
       " 0  0  1  0  1  0  0  0  0  0  0  0  0  0  0  0  0  0  0  0  0  0\n",
       " 1  1  1  0  0  0  0  0  0  0  0  0  0  0  0  0  1  0  0  0  0  0\n",
       " 1  0  0  0  0  0  0  0  0  1  0  0  0  0  1  0  0  0  0  0  0  0\n",
       " 0  0  1  0  0  0  0  0  0  0  0  0  0  0  0  0  0  1  0  0  0  0\n",
       " 0  1  0  0  0  0  0  0  0  0  0  0  0  0  0  1  0  0  0  0  0  0\n",
       " 0  1  0  0  0  0  0  0  0  0  0  0  0  0  0  0  0  0  0  0  1  0\n",
       " 0  1  0  1  0  0  0  0  0  0  0  0  0  0  0  0  0  0  0  0  0  0\n",
       " 1  0  0  0  0  0  1  0  0  0  0  0  0  0  0  0  0  0  0  0  0  0\n",
       " 0  1  0  0  0  0  0  0  0  0  0  1  0  0  0  0  0  0  0  0  0  0\n",
       " 0  0  0  0  0  0  0  0  0  1  0  0  0  0  0  0  0  0  1  0  0  0"
      ]
     },
     "execution_count": 6,
     "metadata": {},
     "output_type": "execute_result"
    }
   ],
   "source": [
    "B = binary_stoichiometric_matrix(S.matrix)"
   ]
  },
  {
   "cell_type": "code",
   "execution_count": 7,
   "id": "c360f2b1-7391-40cd-bcec-6413686e7610",
   "metadata": {},
   "outputs": [
    {
     "data": {
      "text/plain": [
       "22×22 Matrix{Int64}:\n",
       " 4  1  1  0  0  0  1  0  0  1  0  0  0  0  1  0  1  0  0  0  0  1\n",
       " 1  8  1  1  0  1  0  1  1  2  0  1  0  0  0  1  1  1  0  0  1  0\n",
       " 1  1  6  0  1  0  0  0  0  0  1  0  0  1  0  0  1  1  0  1  0  0\n",
       " 0  1  0  1  0  0  0  0  0  0  0  0  0  0  0  0  0  0  0  0  0  0\n",
       " 0  0  1  0  1  0  0  0  0  0  0  0  0  0  0  0  0  0  0  0  0  0\n",
       " 0  1  0  0  0  1  0  0  0  1  0  0  0  0  0  0  0  0  0  0  0  0\n",
       " 1  0  0  0  0  0  1  0  0  0  0  0  0  0  0  0  0  0  0  0  0  0\n",
       " 0  1  0  0  0  0  0  1  0  1  0  0  0  0  0  0  0  1  0  0  0  0\n",
       " 0  1  0  0  0  0  0  0  1  0  0  0  0  0  0  0  0  0  0  0  0  0\n",
       " 1  2  0  0  0  1  0  1  0  4  0  0  0  0  1  0  0  1  1  0  0  0\n",
       " 0  0  1  0  0  0  0  0  0  0  1  0  0  0  0  0  0  0  0  0  0  0\n",
       " 0  1  0  0  0  0  0  0  0  0  0  1  0  0  0  0  0  0  0  0  0  0\n",
       " 0  0  0  0  0  0  0  0  0  0  0  0  1  0  0  0  0  1  0  0  0  0\n",
       " 0  0  1  0  0  0  0  0  0  0  0  0  0  1  0  0  0  0  0  0  0  0\n",
       " 1  0  0  0  0  0  0  0  0  1  0  0  0  0  1  0  0  0  0  0  0  0\n",
       " 0  1  0  0  0  0  0  0  0  0  0  0  0  0  0  1  0  0  0  0  0  0\n",
       " 1  1  1  0  0  0  0  0  0  0  0  0  0  0  0  0  1  0  0  0  0  0\n",
       " 0  1  1  0  0  0  0  1  0  1  0  0  1  0  0  0  0  3  0  0  0  0\n",
       " 0  0  0  0  0  0  0  0  0  1  0  0  0  0  0  0  0  0  1  0  0  0\n",
       " 0  0  1  0  0  0  0  0  0  0  0  0  0  0  0  0  0  0  0  1  0  0\n",
       " 0  1  0  0  0  0  0  0  0  0  0  0  0  0  0  0  0  0  0  0  1  0\n",
       " 1  0  0  0  0  0  0  0  0  0  0  0  0  0  0  0  0  0  0  0  0  1"
      ]
     },
     "execution_count": 7,
     "metadata": {},
     "output_type": "execute_result"
    }
   ],
   "source": [
    "A = transpose(B)*B"
   ]
  },
  {
   "cell_type": "code",
   "execution_count": 8,
   "id": "0e1d030f-4870-4156-8a52-e832a917fc74",
   "metadata": {},
   "outputs": [],
   "source": [
    "edge_list = Array{Tuple{Int,Int},1}();\n",
    "number_of_rows = length(A[:,1]); # we could use size(A,1) as well\n",
    "for i ∈ 1:number_of_rows\n",
    "    index_connections = findall(x-> x!==0, A[i,:]);\n",
    "    for j ∈ index_connections\n",
    "        if (i ≠ j)\n",
    "            push!(edge_list, (i,j))\n",
    "        end\n",
    "    end\n",
    "end\n",
    "E = Edge.(edge_list);"
   ]
  },
  {
   "cell_type": "code",
   "execution_count": 9,
   "id": "0b48828f-d42a-4169-a66f-c9749c3d0cf9",
   "metadata": {},
   "outputs": [],
   "source": [
    "g = SimpleDiGraph(E); # use the Graph.jl package"
   ]
  },
  {
   "cell_type": "code",
   "execution_count": 37,
   "id": "9b689536-136e-4d69-9e9f-af74389a2249",
   "metadata": {},
   "outputs": [
    {
     "data": {
      "image/svg+xml": [
       "<?xml version=\"1.0\" encoding=\"UTF-8\"?>\n",
       "<svg xmlns=\"http://www.w3.org/2000/svg\" xmlns:xlink=\"http://www.w3.org/1999/xlink\" width=\"600pt\" height=\"600pt\" viewBox=\"0 0 600 600\" version=\"1.1\">\n",
       "<defs>\n",
       "<g>\n",
       "<symbol overflow=\"visible\" id=\"glyph-2918170-0\">\n",
       "<path style=\"stroke:none;\" d=\"M 0.195312 0 L 0.195312 -4.304688 L 3.609375 -4.304688 L 3.609375 0 Z M 3.070312 -0.539062 L 3.070312 -3.765625 L 0.734375 -3.765625 L 0.734375 -0.539062 Z M 3.070312 -0.539062 \"/>\n",
       "</symbol>\n",
       "<symbol overflow=\"visible\" id=\"glyph-2918170-1\">\n",
       "<path style=\"stroke:none;\" d=\"M 0.574219 -2.96875 L 0.574219 -3.375 C 0.953125 -3.414062 1.21875 -3.472656 1.371094 -3.5625 C 1.523438 -3.648438 1.632812 -3.851562 1.707031 -4.179688 L 2.125 -4.179688 L 2.125 0 L 1.5625 0 L 1.5625 -2.96875 Z M 0.574219 -2.96875 \"/>\n",
       "</symbol>\n",
       "<symbol overflow=\"visible\" id=\"glyph-2918170-2\">\n",
       "<path style=\"stroke:none;\" d=\"M 0.1875 0 C 0.207031 -0.359375 0.28125 -0.675781 0.410156 -0.945312 C 0.539062 -1.210938 0.796875 -1.453125 1.171875 -1.671875 L 1.734375 -2 C 1.984375 -2.144531 2.164062 -2.269531 2.265625 -2.375 C 2.425781 -2.535156 2.503906 -2.71875 2.503906 -2.929688 C 2.503906 -3.171875 2.429688 -3.367188 2.285156 -3.511719 C 2.140625 -3.65625 1.945312 -3.726562 1.699219 -3.726562 C 1.335938 -3.726562 1.085938 -3.589844 0.949219 -3.316406 C 0.875 -3.171875 0.835938 -2.96875 0.828125 -2.707031 L 0.289062 -2.707031 C 0.296875 -3.070312 0.363281 -3.371094 0.492188 -3.601562 C 0.71875 -4.007812 1.125 -4.210938 1.703125 -4.210938 C 2.183594 -4.210938 2.535156 -4.078125 2.753906 -3.820312 C 2.976562 -3.5625 3.085938 -3.273438 3.085938 -2.953125 C 3.085938 -2.617188 2.96875 -2.328125 2.734375 -2.09375 C 2.597656 -1.953125 2.351562 -1.785156 2 -1.585938 L 1.597656 -1.367188 C 1.40625 -1.261719 1.253906 -1.160156 1.144531 -1.0625 C 0.949219 -0.894531 0.828125 -0.703125 0.777344 -0.5 L 3.066406 -0.5 L 3.066406 0 Z M 0.1875 0 \"/>\n",
       "</symbol>\n",
       "<symbol overflow=\"visible\" id=\"glyph-2918170-3\">\n",
       "<path style=\"stroke:none;\" d=\"M 1.558594 0.113281 C 1.0625 0.113281 0.703125 -0.0234375 0.480469 -0.292969 C 0.257812 -0.566406 0.144531 -0.898438 0.144531 -1.289062 L 0.695312 -1.289062 C 0.71875 -1.015625 0.769531 -0.820312 0.847656 -0.695312 C 0.984375 -0.476562 1.230469 -0.367188 1.585938 -0.367188 C 1.863281 -0.367188 2.085938 -0.441406 2.257812 -0.589844 C 2.425781 -0.738281 2.507812 -0.929688 2.507812 -1.164062 C 2.507812 -1.453125 2.417969 -1.65625 2.242188 -1.769531 C 2.066406 -1.882812 1.820312 -1.941406 1.507812 -1.941406 C 1.472656 -1.941406 1.433594 -1.941406 1.398438 -1.941406 C 1.363281 -1.941406 1.328125 -1.9375 1.289062 -1.9375 L 1.289062 -2.402344 C 1.34375 -2.398438 1.390625 -2.390625 1.425781 -2.390625 C 1.464844 -2.390625 1.503906 -2.386719 1.546875 -2.386719 C 1.742188 -2.386719 1.90625 -2.417969 2.03125 -2.480469 C 2.253906 -2.589844 2.367188 -2.785156 2.367188 -3.066406 C 2.367188 -3.277344 2.292969 -3.4375 2.144531 -3.550781 C 1.996094 -3.664062 1.824219 -3.71875 1.625 -3.71875 C 1.273438 -3.71875 1.03125 -3.601562 0.898438 -3.367188 C 0.824219 -3.238281 0.78125 -3.054688 0.769531 -2.820312 L 0.25 -2.820312 C 0.25 -3.132812 0.3125 -3.398438 0.4375 -3.617188 C 0.652344 -4.007812 1.03125 -4.203125 1.570312 -4.203125 C 2 -4.203125 2.328125 -4.105469 2.5625 -3.914062 C 2.796875 -3.726562 2.914062 -3.449219 2.914062 -3.085938 C 2.914062 -2.828125 2.84375 -2.621094 2.707031 -2.460938 C 2.621094 -2.359375 2.507812 -2.28125 2.375 -2.226562 C 2.59375 -2.164062 2.765625 -2.050781 2.890625 -1.875 C 3.015625 -1.703125 3.078125 -1.492188 3.078125 -1.242188 C 3.078125 -0.84375 2.945312 -0.515625 2.679688 -0.265625 C 2.417969 -0.0117188 2.042969 0.113281 1.558594 0.113281 Z M 1.558594 0.113281 \"/>\n",
       "</symbol>\n",
       "<symbol overflow=\"visible\" id=\"glyph-2918170-4\">\n",
       "<path style=\"stroke:none;\" d=\"M 1.984375 -1.484375 L 1.984375 -3.386719 L 0.640625 -1.484375 Z M 1.992188 0 L 1.992188 -1.023438 L 0.152344 -1.023438 L 0.152344 -1.539062 L 2.074219 -4.207031 L 2.519531 -4.207031 L 2.519531 -1.484375 L 3.136719 -1.484375 L 3.136719 -1.023438 L 2.519531 -1.023438 L 2.519531 0 Z M 1.992188 0 \"/>\n",
       "</symbol>\n",
       "<symbol overflow=\"visible\" id=\"glyph-2918170-5\">\n",
       "<path style=\"stroke:none;\" d=\"M 0.742188 -1.070312 C 0.777344 -0.769531 0.914062 -0.5625 1.160156 -0.445312 C 1.285156 -0.386719 1.429688 -0.359375 1.59375 -0.359375 C 1.90625 -0.359375 2.136719 -0.457031 2.289062 -0.65625 C 2.4375 -0.855469 2.515625 -1.078125 2.515625 -1.320312 C 2.515625 -1.613281 2.425781 -1.835938 2.246094 -2 C 2.066406 -2.160156 1.851562 -2.238281 1.601562 -2.238281 C 1.421875 -2.238281 1.265625 -2.203125 1.136719 -2.132812 C 1.007812 -2.0625 0.894531 -1.964844 0.804688 -1.839844 L 0.34375 -1.867188 L 0.664062 -4.125 L 2.84375 -4.125 L 2.84375 -3.617188 L 1.0625 -3.617188 L 0.882812 -2.449219 C 0.980469 -2.523438 1.070312 -2.578125 1.160156 -2.617188 C 1.316406 -2.679688 1.496094 -2.710938 1.703125 -2.710938 C 2.085938 -2.710938 2.414062 -2.589844 2.679688 -2.339844 C 2.949219 -2.09375 3.082031 -1.777344 3.082031 -1.398438 C 3.082031 -1 2.960938 -0.652344 2.714844 -0.347656 C 2.46875 -0.046875 2.078125 0.105469 1.539062 0.105469 C 1.199219 0.105469 0.898438 0.0078125 0.632812 -0.183594 C 0.371094 -0.375 0.226562 -0.671875 0.195312 -1.070312 Z M 0.742188 -1.070312 \"/>\n",
       "</symbol>\n",
       "<symbol overflow=\"visible\" id=\"glyph-2918170-6\">\n",
       "<path style=\"stroke:none;\" d=\"M 1.753906 -4.210938 C 2.222656 -4.210938 2.550781 -4.089844 2.734375 -3.847656 C 2.917969 -3.605469 3.011719 -3.355469 3.011719 -3.097656 L 2.492188 -3.097656 C 2.460938 -3.261719 2.410156 -3.390625 2.339844 -3.484375 C 2.214844 -3.660156 2.023438 -3.75 1.765625 -3.75 C 1.46875 -3.75 1.234375 -3.613281 1.0625 -3.339844 C 0.886719 -3.070312 0.789062 -2.679688 0.769531 -2.171875 C 0.890625 -2.347656 1.042969 -2.480469 1.226562 -2.570312 C 1.394531 -2.648438 1.582031 -2.6875 1.789062 -2.6875 C 2.140625 -2.6875 2.449219 -2.574219 2.710938 -2.351562 C 2.972656 -2.125 3.101562 -1.789062 3.101562 -1.34375 C 3.101562 -0.964844 2.976562 -0.625 2.730469 -0.332031 C 2.484375 -0.0390625 2.128906 0.109375 1.671875 0.109375 C 1.277344 0.109375 0.9375 -0.0390625 0.652344 -0.339844 C 0.367188 -0.636719 0.226562 -1.136719 0.226562 -1.84375 C 0.226562 -2.363281 0.289062 -2.804688 0.414062 -3.171875 C 0.660156 -3.867188 1.105469 -4.210938 1.753906 -4.210938 Z M 1.71875 -0.359375 C 1.996094 -0.359375 2.203125 -0.453125 2.339844 -0.640625 C 2.476562 -0.828125 2.546875 -1.046875 2.546875 -1.300781 C 2.546875 -1.515625 2.484375 -1.71875 2.359375 -1.914062 C 2.238281 -2.109375 2.015625 -2.207031 1.691406 -2.207031 C 1.464844 -2.207031 1.265625 -2.132812 1.09375 -1.980469 C 0.921875 -1.828125 0.835938 -1.601562 0.835938 -1.300781 C 0.835938 -1.035156 0.914062 -0.8125 1.070312 -0.632812 C 1.226562 -0.453125 1.441406 -0.359375 1.71875 -0.359375 Z M 1.71875 -0.359375 \"/>\n",
       "</symbol>\n",
       "<symbol overflow=\"visible\" id=\"glyph-2918170-7\">\n",
       "<path style=\"stroke:none;\" d=\"M 3.136719 -4.125 L 3.136719 -3.664062 C 3.003906 -3.535156 2.824219 -3.304688 2.601562 -2.984375 C 2.375 -2.660156 2.179688 -2.308594 2.007812 -1.933594 C 1.835938 -1.570312 1.707031 -1.234375 1.621094 -0.933594 C 1.5625 -0.742188 1.492188 -0.429688 1.398438 0 L 0.816406 0 C 0.949219 -0.800781 1.242188 -1.597656 1.695312 -2.390625 C 1.964844 -2.855469 2.246094 -3.257812 2.539062 -3.59375 L 0.21875 -3.59375 L 0.21875 -4.125 Z M 3.136719 -4.125 \"/>\n",
       "</symbol>\n",
       "<symbol overflow=\"visible\" id=\"glyph-2918170-8\">\n",
       "<path style=\"stroke:none;\" d=\"M 1.632812 -2.4375 C 1.863281 -2.4375 2.046875 -2.503906 2.175781 -2.632812 C 2.308594 -2.761719 2.375 -2.917969 2.375 -3.097656 C 2.375 -3.253906 2.3125 -3.398438 2.1875 -3.527344 C 2.0625 -3.65625 1.871094 -3.722656 1.613281 -3.722656 C 1.359375 -3.722656 1.175781 -3.65625 1.0625 -3.527344 C 0.949219 -3.398438 0.894531 -3.242188 0.894531 -3.066406 C 0.894531 -2.871094 0.96875 -2.714844 1.113281 -2.605469 C 1.257812 -2.492188 1.433594 -2.4375 1.632812 -2.4375 Z M 1.664062 -0.359375 C 1.90625 -0.359375 2.109375 -0.425781 2.273438 -0.558594 C 2.433594 -0.691406 2.515625 -0.886719 2.515625 -1.148438 C 2.515625 -1.421875 2.429688 -1.625 2.265625 -1.765625 C 2.097656 -1.90625 1.886719 -1.976562 1.625 -1.976562 C 1.375 -1.976562 1.167969 -1.90625 1.007812 -1.761719 C 0.851562 -1.617188 0.769531 -1.421875 0.769531 -1.164062 C 0.769531 -0.945312 0.84375 -0.757812 0.988281 -0.597656 C 1.132812 -0.4375 1.359375 -0.359375 1.664062 -0.359375 Z M 0.914062 -2.234375 C 0.765625 -2.296875 0.652344 -2.371094 0.570312 -2.453125 C 0.417969 -2.609375 0.339844 -2.8125 0.339844 -3.0625 C 0.339844 -3.375 0.453125 -3.644531 0.679688 -3.871094 C 0.90625 -4.09375 1.226562 -4.207031 1.644531 -4.207031 C 2.046875 -4.207031 2.359375 -4.101562 2.589844 -3.890625 C 2.820312 -3.679688 2.933594 -3.429688 2.933594 -3.148438 C 2.933594 -2.886719 2.867188 -2.671875 2.734375 -2.511719 C 2.660156 -2.417969 2.542969 -2.328125 2.386719 -2.242188 C 2.5625 -2.160156 2.699219 -2.070312 2.796875 -1.964844 C 2.984375 -1.769531 3.078125 -1.515625 3.078125 -1.203125 C 3.078125 -0.835938 2.953125 -0.523438 2.703125 -0.265625 C 2.457031 -0.0078125 2.105469 0.121094 1.652344 0.121094 C 1.242188 0.121094 0.898438 0.0078125 0.617188 -0.210938 C 0.335938 -0.433594 0.195312 -0.757812 0.195312 -1.179688 C 0.195312 -1.425781 0.253906 -1.640625 0.375 -1.820312 C 0.496094 -2 0.675781 -2.140625 0.914062 -2.234375 Z M 0.914062 -2.234375 \"/>\n",
       "</symbol>\n",
       "<symbol overflow=\"visible\" id=\"glyph-2918170-9\">\n",
       "<path style=\"stroke:none;\" d=\"M 0.796875 -1.015625 C 0.8125 -0.722656 0.925781 -0.523438 1.132812 -0.410156 C 1.242188 -0.351562 1.363281 -0.320312 1.496094 -0.320312 C 1.75 -0.320312 1.964844 -0.425781 2.140625 -0.636719 C 2.320312 -0.847656 2.445312 -1.273438 2.519531 -1.914062 C 2.402344 -1.730469 2.257812 -1.601562 2.085938 -1.523438 C 1.914062 -1.449219 1.726562 -1.414062 1.527344 -1.414062 C 1.121094 -1.414062 0.800781 -1.539062 0.566406 -1.789062 C 0.332031 -2.042969 0.214844 -2.367188 0.214844 -2.761719 C 0.214844 -3.144531 0.328125 -3.476562 0.5625 -3.765625 C 0.796875 -4.054688 1.136719 -4.203125 1.589844 -4.203125 C 2.203125 -4.203125 2.625 -3.925781 2.855469 -3.375 C 2.984375 -3.070312 3.050781 -2.695312 3.050781 -2.238281 C 3.050781 -1.726562 2.972656 -1.269531 2.820312 -0.875 C 2.5625 -0.214844 2.128906 0.117188 1.515625 0.117188 C 1.105469 0.117188 0.796875 0.0078125 0.582031 -0.203125 C 0.371094 -0.417969 0.265625 -0.6875 0.265625 -1.015625 Z M 1.597656 -1.875 C 1.804688 -1.875 1.996094 -1.945312 2.167969 -2.082031 C 2.34375 -2.21875 2.429688 -2.460938 2.429688 -2.804688 C 2.429688 -3.113281 2.351562 -3.34375 2.195312 -3.492188 C 2.039062 -3.644531 1.84375 -3.71875 1.601562 -3.71875 C 1.34375 -3.71875 1.140625 -3.632812 0.988281 -3.460938 C 0.835938 -3.289062 0.761719 -3.058594 0.761719 -2.769531 C 0.761719 -2.496094 0.828125 -2.277344 0.960938 -2.117188 C 1.09375 -1.957031 1.304688 -1.875 1.597656 -1.875 Z M 1.597656 -1.875 \"/>\n",
       "</symbol>\n",
       "<symbol overflow=\"visible\" id=\"glyph-2918170-10\">\n",
       "<path style=\"stroke:none;\" d=\"M 1.625 -4.195312 C 2.167969 -4.195312 2.558594 -3.972656 2.800781 -3.523438 C 2.988281 -3.179688 3.082031 -2.703125 3.082031 -2.101562 C 3.082031 -1.53125 2.996094 -1.0625 2.828125 -0.6875 C 2.582031 -0.152344 2.179688 0.113281 1.621094 0.113281 C 1.117188 0.113281 0.742188 -0.105469 0.496094 -0.542969 C 0.289062 -0.90625 0.1875 -1.398438 0.1875 -2.011719 C 0.1875 -2.488281 0.25 -2.898438 0.371094 -3.242188 C 0.601562 -3.878906 1.019531 -4.195312 1.625 -4.195312 Z M 1.617188 -0.367188 C 1.890625 -0.367188 2.109375 -0.488281 2.269531 -0.730469 C 2.433594 -0.972656 2.515625 -1.421875 2.515625 -2.082031 C 2.515625 -2.558594 2.453125 -2.953125 2.335938 -3.257812 C 2.21875 -3.566406 1.992188 -3.71875 1.65625 -3.71875 C 1.34375 -3.71875 1.117188 -3.574219 0.972656 -3.28125 C 0.828125 -2.992188 0.757812 -2.5625 0.757812 -1.992188 C 0.757812 -1.5625 0.804688 -1.21875 0.898438 -0.960938 C 1.039062 -0.5625 1.277344 -0.367188 1.617188 -0.367188 Z M 1.617188 -0.367188 \"/>\n",
       "</symbol>\n",
       "</g>\n",
       "</defs>\n",
       "<g id=\"surface46\">\n",
       "<rect x=\"0\" y=\"0\" width=\"600\" height=\"600\" style=\"fill:rgb(0%,0%,0%);fill-opacity:1;stroke:none;\"/>\n",
       "<path style=\"fill:none;stroke-width:1;stroke-linecap:butt;stroke-linejoin:miter;stroke:rgb(100%,100%,100%);stroke-opacity:1;stroke-miterlimit:10;\" d=\"M 292.726562 230.398438 C 293.167969 274.542969 293.609375 318.6875 294.050781 362.832031 \"/>\n",
       "<path style=\" stroke:none;fill-rule:nonzero;fill:rgb(100%,100%,100%);fill-opacity:1;\" d=\"M 298.628906 361.671875 L 294.148438 372.800781 L 289.445312 361.761719 \"/>\n",
       "<path style=\"fill:none;stroke-width:1;stroke-linecap:butt;stroke-linejoin:miter;stroke:rgb(100%,100%,100%);stroke-opacity:1;stroke-miterlimit:10;\" d=\"M 287.027344 226.449219 C 253.851562 238.511719 220.671875 250.574219 187.496094 262.636719 \"/>\n",
       "<path style=\" stroke:none;fill-rule:nonzero;fill:rgb(100%,100%,100%);fill-opacity:1;\" d=\"M 189.640625 266.742188 L 177.652344 266.214844 L 186.503906 258.109375 \"/>\n",
       "<path style=\"fill:none;stroke-width:1;stroke-linecap:butt;stroke-linejoin:miter;stroke:rgb(100%,100%,100%);stroke-opacity:1;stroke-miterlimit:10;\" d=\"M 294.179688 218.59375 C 305.023438 177.019531 315.867188 135.445312 326.714844 93.871094 \"/>\n",
       "<path style=\" stroke:none;fill-rule:nonzero;fill:rgb(100%,100%,100%);fill-opacity:1;\" d=\"M 321.921875 94.050781 L 329.164062 84.484375 L 330.808594 96.371094 \"/>\n",
       "<path style=\"fill:none;stroke-width:1;stroke-linecap:butt;stroke-linejoin:miter;stroke:rgb(100%,100%,100%);stroke-opacity:1;stroke-miterlimit:10;\" d=\"M 297.964844 227.210938 C 333.503906 246.054688 369.042969 264.902344 404.582031 283.75 \"/>\n",
       "<path style=\" stroke:none;fill-rule:nonzero;fill:rgb(100%,100%,100%);fill-opacity:1;\" d=\"M 406.210938 279.414062 L 413.855469 288.664062 L 401.910156 287.527344 \"/>\n",
       "<path style=\"fill:none;stroke-width:1;stroke-linecap:butt;stroke-linejoin:miter;stroke:rgb(100%,100%,100%);stroke-opacity:1;stroke-miterlimit:10;\" d=\"M 298.441406 222.769531 C 340.632812 210.863281 382.828125 198.957031 425.023438 187.050781 \"/>\n",
       "<path style=\" stroke:none;fill-rule:nonzero;fill:rgb(100%,100%,100%);fill-opacity:1;\" d=\"M 422.636719 182.957031 L 434.550781 184.363281 L 425.128906 191.792969 \"/>\n",
       "<path style=\"fill:none;stroke-width:1;stroke-linecap:butt;stroke-linejoin:miter;stroke:rgb(100%,100%,100%);stroke-opacity:1;stroke-miterlimit:10;\" d=\"M 288.976562 229.128906 C 268.59375 255.277344 248.210938 281.421875 227.828125 307.566406 \"/>\n",
       "<path style=\" stroke:none;fill-rule:nonzero;fill:rgb(100%,100%,100%);fill-opacity:1;\" d=\"M 231.472656 310.359375 L 221.035156 316.28125 L 224.226562 304.714844 \"/>\n",
       "<path style=\"fill:none;stroke-width:1;stroke-linecap:butt;stroke-linejoin:miter;stroke:rgb(100%,100%,100%);stroke-opacity:1;stroke-miterlimit:10;\" d=\"M 290.574219 218.773438 C 276.011719 179.644531 261.449219 140.515625 246.890625 101.386719 \"/>\n",
       "<path style=\" stroke:none;fill-rule:nonzero;fill:rgb(100%,100%,100%);fill-opacity:1;\" d=\"M 242.652344 103.171875 L 243.089844 91.179688 L 251.261719 99.96875 \"/>\n",
       "<path style=\"fill:none;stroke-width:1;stroke-linecap:butt;stroke-linejoin:miter;stroke:rgb(100%,100%,100%);stroke-opacity:1;stroke-miterlimit:10;\" d=\"M 294.148438 372.800781 C 293.707031 328.65625 293.265625 284.511719 292.824219 240.367188 \"/>\n",
       "<path style=\" stroke:none;fill-rule:nonzero;fill:rgb(100%,100%,100%);fill-opacity:1;\" d=\"M 288.242188 241.53125 L 292.726562 230.398438 L 297.429688 241.4375 \"/>\n",
       "<path style=\"fill:none;stroke-width:1;stroke-linecap:butt;stroke-linejoin:miter;stroke:rgb(100%,100%,100%);stroke-opacity:1;stroke-miterlimit:10;\" d=\"M 289.757812 374.777344 C 254.636719 343.007812 219.515625 311.234375 184.394531 279.464844 \"/>\n",
       "<path style=\" stroke:none;fill-rule:nonzero;fill:rgb(100%,100%,100%);fill-opacity:1;\" d=\"M 181.605469 283.132812 L 176.464844 272.289062 L 187.765625 276.320312 \"/>\n",
       "<path style=\"fill:none;stroke-width:1;stroke-linecap:butt;stroke-linejoin:miter;stroke:rgb(100%,100%,100%);stroke-opacity:1;stroke-miterlimit:10;\" d=\"M 295.949219 384.542969 C 307.789062 423.632812 319.632812 462.71875 331.476562 501.808594 \"/>\n",
       "<path style=\" stroke:none;fill-rule:nonzero;fill:rgb(100%,100%,100%);fill-opacity:1;\" d=\"M 335.746094 500.0625 L 334.566406 512.003906 L 326.957031 502.726562 \"/>\n",
       "<path style=\"fill:none;stroke-width:1;stroke-linecap:butt;stroke-linejoin:miter;stroke:rgb(100%,100%,100%);stroke-opacity:1;stroke-miterlimit:10;\" d=\"M 300.105469 379.902344 C 343.949219 388.085938 387.789062 396.265625 431.628906 404.449219 \"/>\n",
       "<path style=\" stroke:none;fill-rule:nonzero;fill:rgb(100%,100%,100%);fill-opacity:1;\" d=\"M 431.472656 399.75 L 441.53125 406.296875 L 429.789062 408.777344 \"/>\n",
       "<path style=\"fill:none;stroke-width:1;stroke-linecap:butt;stroke-linejoin:miter;stroke:rgb(100%,100%,100%);stroke-opacity:1;stroke-miterlimit:10;\" d=\"M 300.171875 378.144531 C 327.90625 375.082031 355.636719 372.019531 383.367188 368.957031 \"/>\n",
       "<path style=\" stroke:none;fill-rule:nonzero;fill:rgb(100%,100%,100%);fill-opacity:1;\" d=\"M 382.128906 364.476562 L 393.652344 367.824219 L 383.136719 373.605469 \"/>\n",
       "<path style=\"fill:none;stroke-width:1;stroke-linecap:butt;stroke-linejoin:miter;stroke:rgb(100%,100%,100%);stroke-opacity:1;stroke-miterlimit:10;\" d=\"M 290.714844 383.679688 C 266.378906 417.632812 242.042969 451.589844 217.707031 485.542969 \"/>\n",
       "<path style=\" stroke:none;fill-rule:nonzero;fill:rgb(100%,100%,100%);fill-opacity:1;\" d=\"M 221.550781 488.066406 L 211.359375 494.402344 L 214.085938 482.714844 \"/>\n",
       "<path style=\"fill:none;stroke-width:1;stroke-linecap:butt;stroke-linejoin:miter;stroke:rgb(100%,100%,100%);stroke-opacity:1;stroke-miterlimit:10;\" d=\"M 299.125 375.363281 C 334.8125 350.425781 370.496094 325.484375 406.179688 300.542969 \"/>\n",
       "<path style=\" stroke:none;fill-rule:nonzero;fill:rgb(100%,100%,100%);fill-opacity:1;\" d=\"M 402.519531 297.5 L 414.238281 294.914062 L 407.78125 305.027344 \"/>\n",
       "<path style=\"fill:none;stroke-width:1;stroke-linecap:butt;stroke-linejoin:miter;stroke:rgb(100%,100%,100%);stroke-opacity:1;stroke-miterlimit:10;\" d=\"M 298.324219 383.167969 C 328.25 414.890625 358.171875 446.617188 388.09375 478.339844 \"/>\n",
       "<path style=\" stroke:none;fill-rule:nonzero;fill:rgb(100%,100%,100%);fill-opacity:1;\" d=\"M 390.585938 474.289062 L 394.851562 485.503906 L 383.90625 480.589844 \"/>\n",
       "<path style=\"fill:none;stroke-width:1;stroke-linecap:butt;stroke-linejoin:miter;stroke:rgb(100%,100%,100%);stroke-opacity:1;stroke-miterlimit:10;\" d=\"M 293.199219 384.714844 C 286.367188 424.796875 279.53125 464.875 272.699219 504.953125 \"/>\n",
       "<path style=\" stroke:none;fill-rule:nonzero;fill:rgb(100%,100%,100%);fill-opacity:1;\" d=\"M 277.304688 505.25 L 270.914062 515.410156 L 268.25 503.707031 \"/>\n",
       "<path style=\"fill:none;stroke-width:1;stroke-linecap:butt;stroke-linejoin:miter;stroke:rgb(100%,100%,100%);stroke-opacity:1;stroke-miterlimit:10;\" d=\"M 289.414062 375.195312 C 269.902344 360.527344 250.394531 345.859375 230.886719 331.195312 \"/>\n",
       "<path style=\" stroke:none;fill-rule:nonzero;fill:rgb(100%,100%,100%);fill-opacity:1;\" d=\"M 228.242188 334.953125 L 222.140625 324.617188 L 233.761719 327.609375 \"/>\n",
       "<path style=\"fill:none;stroke-width:1;stroke-linecap:butt;stroke-linejoin:miter;stroke:rgb(100%,100%,100%);stroke-opacity:1;stroke-miterlimit:10;\" d=\"M 295.371094 372.914062 C 300.789062 345.4375 306.210938 317.957031 311.628906 290.480469 \"/>\n",
       "<path style=\" stroke:none;fill-rule:nonzero;fill:rgb(100%,100%,100%);fill-opacity:1;\" d=\"M 306.988281 290.28125 L 313.640625 280.292969 L 316 292.058594 \"/>\n",
       "<path style=\"fill:none;stroke-width:1;stroke-linecap:butt;stroke-linejoin:miter;stroke:rgb(100%,100%,100%);stroke-opacity:1;stroke-miterlimit:10;\" d=\"M 288.957031 381.699219 C 253.390625 401.324219 217.824219 420.945312 182.261719 440.570312 \"/>\n",
       "<path style=\" stroke:none;fill-rule:nonzero;fill:rgb(100%,100%,100%);fill-opacity:1;\" d=\"M 184.90625 444.355469 L 172.980469 445.691406 L 180.472656 436.3125 \"/>\n",
       "<path style=\"fill:none;stroke-width:1;stroke-linecap:butt;stroke-linejoin:miter;stroke:rgb(100%,100%,100%);stroke-opacity:1;stroke-miterlimit:10;\" d=\"M 177.652344 266.214844 C 210.828125 254.152344 244.007812 242.089844 277.183594 230.027344 \"/>\n",
       "<path style=\" stroke:none;fill-rule:nonzero;fill:rgb(100%,100%,100%);fill-opacity:1;\" d=\"M 275.039062 225.921875 L 287.027344 226.449219 L 278.175781 234.554688 \"/>\n",
       "<path style=\"fill:none;stroke-width:1;stroke-linecap:butt;stroke-linejoin:miter;stroke:rgb(100%,100%,100%);stroke-opacity:1;stroke-miterlimit:10;\" d=\"M 176.464844 272.289062 C 211.585938 304.0625 246.707031 335.832031 281.828125 367.601562 \"/>\n",
       "<path style=\" stroke:none;fill-rule:nonzero;fill:rgb(100%,100%,100%);fill-opacity:1;\" d=\"M 284.617188 363.933594 L 289.757812 374.777344 L 278.457031 370.746094 \"/>\n",
       "<path style=\"fill:none;stroke-width:1;stroke-linecap:butt;stroke-linejoin:miter;stroke:rgb(100%,100%,100%);stroke-opacity:1;stroke-miterlimit:10;\" d=\"M 169.625 262.761719 C 153.257812 225.070312 136.894531 187.375 120.527344 149.683594 \"/>\n",
       "<path style=\" stroke:none;fill-rule:nonzero;fill:rgb(100%,100%,100%);fill-opacity:1;\" d=\"M 116.460938 151.847656 L 116.257812 139.847656 L 124.886719 148.191406 \"/>\n",
       "<path style=\"fill:none;stroke-width:1;stroke-linecap:butt;stroke-linejoin:miter;stroke:rgb(100%,100%,100%);stroke-opacity:1;stroke-miterlimit:10;\" d=\"M 166.914062 265.105469 C 133.78125 244.570312 100.644531 224.035156 67.511719 203.5 \"/>\n",
       "<path style=\" stroke:none;fill-rule:nonzero;fill:rgb(100%,100%,100%);fill-opacity:1;\" d=\"M 65.871094 207.886719 L 58.867188 198.140625 L 70.710938 200.078125 \"/>\n",
       "<path style=\"fill:none;stroke-width:1;stroke-linecap:butt;stroke-linejoin:miter;stroke:rgb(100%,100%,100%);stroke-opacity:1;stroke-miterlimit:10;\" d=\"M 167.222656 271.878906 C 131.601562 298.746094 95.980469 325.613281 60.359375 352.484375 \"/>\n",
       "<path style=\" stroke:none;fill-rule:nonzero;fill:rgb(100%,100%,100%);fill-opacity:1;\" d=\"M 63.929688 355.539062 L 52.3125 358.550781 L 58.398438 348.207031 \"/>\n",
       "<path style=\"fill:none;stroke-width:1;stroke-linecap:butt;stroke-linejoin:miter;stroke:rgb(100%,100%,100%);stroke-opacity:1;stroke-miterlimit:10;\" d=\"M 175.925781 272.816406 C 186.050781 284.601562 196.179688 296.386719 206.308594 308.167969 \"/>\n",
       "<path style=\" stroke:none;fill-rule:nonzero;fill:rgb(100%,100%,100%);fill-opacity:1;\" d=\"M 209.691406 305.0625 L 213.433594 316.460938 L 202.726562 311.046875 \"/>\n",
       "<path style=\"fill:none;stroke-width:1;stroke-linecap:butt;stroke-linejoin:miter;stroke:rgb(100%,100%,100%);stroke-opacity:1;stroke-miterlimit:10;\" d=\"M 178.007812 268.523438 C 218.121094 270.246094 258.230469 271.972656 298.339844 273.695312 \"/>\n",
       "<path style=\" stroke:none;fill-rule:nonzero;fill:rgb(100%,100%,100%);fill-opacity:1;\" d=\"M 297.925781 269.082031 L 308.804688 274.148438 L 297.53125 278.257812 \"/>\n",
       "<path style=\"fill:none;stroke-width:1;stroke-linecap:butt;stroke-linejoin:miter;stroke:rgb(100%,100%,100%);stroke-opacity:1;stroke-miterlimit:10;\" d=\"M 166.035156 268.761719 C 126.152344 272.0625 86.265625 275.363281 46.382812 278.667969 \"/>\n",
       "<path style=\" stroke:none;fill-rule:nonzero;fill:rgb(100%,100%,100%);fill-opacity:1;\" d=\"M 47.40625 283.191406 L 35.980469 279.527344 L 46.648438 274.035156 \"/>\n",
       "<path style=\"fill:none;stroke-width:1;stroke-linecap:butt;stroke-linejoin:miter;stroke:rgb(100%,100%,100%);stroke-opacity:1;stroke-miterlimit:10;\" d=\"M 334.566406 512.003906 C 322.722656 472.917969 310.878906 433.828125 299.039062 394.742188 \"/>\n",
       "<path style=\" stroke:none;fill-rule:nonzero;fill:rgb(100%,100%,100%);fill-opacity:1;\" d=\"M 294.769531 396.484375 L 295.949219 384.542969 L 303.558594 393.824219 \"/>\n",
       "<path style=\"fill:none;stroke-width:1;stroke-linecap:butt;stroke-linejoin:miter;stroke:rgb(100%,100%,100%);stroke-opacity:1;stroke-miterlimit:10;\" d=\"M 116.257812 139.847656 C 132.625 177.542969 148.988281 215.234375 165.355469 252.929688 \"/>\n",
       "<path style=\" stroke:none;fill-rule:nonzero;fill:rgb(100%,100%,100%);fill-opacity:1;\" d=\"M 169.421875 250.761719 L 169.625 262.761719 L 160.996094 254.421875 \"/>\n",
       "<path style=\"fill:none;stroke-width:1;stroke-linecap:butt;stroke-linejoin:miter;stroke:rgb(100%,100%,100%);stroke-opacity:1;stroke-miterlimit:10;\" d=\"M 441.53125 406.296875 C 397.6875 398.113281 353.847656 389.933594 310.007812 381.75 \"/>\n",
       "<path style=\" stroke:none;fill-rule:nonzero;fill:rgb(100%,100%,100%);fill-opacity:1;\" d=\"M 310.164062 386.449219 L 300.105469 379.902344 L 311.847656 377.421875 \"/>\n",
       "<path style=\"fill:none;stroke-width:1;stroke-linecap:butt;stroke-linejoin:miter;stroke:rgb(100%,100%,100%);stroke-opacity:1;stroke-miterlimit:10;\" d=\"M 446.007812 401.570312 C 438.378906 370.289062 430.75 339.011719 423.121094 307.730469 \"/>\n",
       "<path style=\" stroke:none;fill-rule:nonzero;fill:rgb(100%,100%,100%);fill-opacity:1;\" d=\"M 418.742188 309.164062 L 420.578125 297.304688 L 427.664062 306.988281 \"/>\n",
       "<path style=\"fill:none;stroke-width:1;stroke-linecap:butt;stroke-linejoin:miter;stroke:rgb(100%,100%,100%);stroke-opacity:1;stroke-miterlimit:10;\" d=\"M 329.164062 84.484375 C 318.316406 126.058594 307.472656 167.632812 296.628906 209.207031 \"/>\n",
       "<path style=\" stroke:none;fill-rule:nonzero;fill:rgb(100%,100%,100%);fill-opacity:1;\" d=\"M 301.421875 209.023438 L 294.179688 218.59375 L 292.535156 206.707031 \"/>\n",
       "<path style=\"fill:none;stroke-width:1;stroke-linecap:butt;stroke-linejoin:miter;stroke:rgb(100%,100%,100%);stroke-opacity:1;stroke-miterlimit:10;\" d=\"M 393.652344 367.824219 C 365.917969 370.882812 338.1875 373.945312 310.457031 377.007812 \"/>\n",
       "<path style=\" stroke:none;fill-rule:nonzero;fill:rgb(100%,100%,100%);fill-opacity:1;\" d=\"M 311.695312 381.492188 L 300.171875 378.144531 L 310.6875 372.363281 \"/>\n",
       "<path style=\"fill:none;stroke-width:1;stroke-linecap:butt;stroke-linejoin:miter;stroke:rgb(100%,100%,100%);stroke-opacity:1;stroke-miterlimit:10;\" d=\"M 401.113281 361.355469 C 405.746094 343.414062 410.378906 325.476562 415.007812 307.535156 \"/>\n",
       "<path style=\" stroke:none;fill-rule:nonzero;fill:rgb(100%,100%,100%);fill-opacity:1;\" d=\"M 410.4375 306.871094 L 417.65625 297.285156 L 419.332031 309.167969 \"/>\n",
       "<path style=\"fill:none;stroke-width:1;stroke-linecap:butt;stroke-linejoin:miter;stroke:rgb(100%,100%,100%);stroke-opacity:1;stroke-miterlimit:10;\" d=\"M 395.566406 362.734375 C 372.296875 337.285156 349.023438 311.835938 325.753906 286.382812 \"/>\n",
       "<path style=\" stroke:none;fill-rule:nonzero;fill:rgb(100%,100%,100%);fill-opacity:1;\" d=\"M 322.941406 290.113281 L 318.847656 278.832031 L 329.71875 283.917969 \"/>\n",
       "<path style=\"fill:none;stroke-width:1;stroke-linecap:butt;stroke-linejoin:miter;stroke:rgb(100%,100%,100%);stroke-opacity:1;stroke-miterlimit:10;\" d=\"M 211.359375 494.402344 C 235.695312 460.449219 260.03125 426.492188 284.363281 392.535156 \"/>\n",
       "<path style=\" stroke:none;fill-rule:nonzero;fill:rgb(100%,100%,100%);fill-opacity:1;\" d=\"M 280.523438 390.015625 L 290.714844 383.679688 L 287.988281 395.363281 \"/>\n",
       "<path style=\"fill:none;stroke-width:1;stroke-linecap:butt;stroke-linejoin:miter;stroke:rgb(100%,100%,100%);stroke-opacity:1;stroke-miterlimit:10;\" d=\"M 413.855469 288.664062 C 378.316406 269.820312 342.777344 250.972656 307.238281 232.125 \"/>\n",
       "<path style=\" stroke:none;fill-rule:nonzero;fill:rgb(100%,100%,100%);fill-opacity:1;\" d=\"M 305.609375 236.460938 L 297.964844 227.210938 L 309.910156 228.347656 \"/>\n",
       "<path style=\"fill:none;stroke-width:1;stroke-linecap:butt;stroke-linejoin:miter;stroke:rgb(100%,100%,100%);stroke-opacity:1;stroke-miterlimit:10;\" d=\"M 414.238281 294.914062 C 378.554688 319.851562 342.867188 344.792969 307.183594 369.734375 \"/>\n",
       "<path style=\" stroke:none;fill-rule:nonzero;fill:rgb(100%,100%,100%);fill-opacity:1;\" d=\"M 310.84375 372.777344 L 299.125 375.363281 L 305.582031 365.25 \"/>\n",
       "<path style=\"fill:none;stroke-width:1;stroke-linecap:butt;stroke-linejoin:miter;stroke:rgb(100%,100%,100%);stroke-opacity:1;stroke-miterlimit:10;\" d=\"M 420.578125 297.304688 C 428.207031 328.582031 435.835938 359.863281 443.464844 391.140625 \"/>\n",
       "<path style=\" stroke:none;fill-rule:nonzero;fill:rgb(100%,100%,100%);fill-opacity:1;\" d=\"M 447.839844 389.710938 L 446.007812 401.570312 L 438.917969 391.886719 \"/>\n",
       "<path style=\"fill:none;stroke-width:1;stroke-linecap:butt;stroke-linejoin:miter;stroke:rgb(100%,100%,100%);stroke-opacity:1;stroke-miterlimit:10;\" d=\"M 417.65625 297.285156 C 413.023438 315.222656 408.390625 333.164062 403.761719 351.101562 \"/>\n",
       "<path style=\" stroke:none;fill-rule:nonzero;fill:rgb(100%,100%,100%);fill-opacity:1;\" d=\"M 408.332031 351.769531 L 401.113281 361.355469 L 399.441406 349.472656 \"/>\n",
       "<path style=\"fill:none;stroke-width:1;stroke-linecap:butt;stroke-linejoin:miter;stroke:rgb(100%,100%,100%);stroke-opacity:1;stroke-miterlimit:10;\" d=\"M 420.300781 285.585938 C 425.902344 256.820312 431.503906 228.054688 437.101562 199.289062 \"/>\n",
       "<path style=\" stroke:none;fill-rule:nonzero;fill:rgb(100%,100%,100%);fill-opacity:1;\" d=\"M 432.554688 198.628906 L 439.179688 188.625 L 441.570312 200.382812 \"/>\n",
       "<path style=\"fill:none;stroke-width:1;stroke-linecap:butt;stroke-linejoin:miter;stroke:rgb(100%,100%,100%);stroke-opacity:1;stroke-miterlimit:10;\" d=\"M 413.234375 290.507812 C 385.789062 286.015625 358.34375 281.527344 330.898438 277.039062 \"/>\n",
       "<path style=\" stroke:none;fill-rule:nonzero;fill:rgb(100%,100%,100%);fill-opacity:1;\" d=\"M 330.921875 281.695312 L 320.722656 275.375 L 332.402344 272.632812 \"/>\n",
       "<path style=\"fill:none;stroke-width:1;stroke-linecap:butt;stroke-linejoin:miter;stroke:rgb(100%,100%,100%);stroke-opacity:1;stroke-miterlimit:10;\" d=\"M 425.15625 291.414062 C 468.195312 290.957031 511.238281 290.503906 554.28125 290.050781 \"/>\n",
       "<path style=\" stroke:none;fill-rule:nonzero;fill:rgb(100%,100%,100%);fill-opacity:1;\" d=\"M 552.867188 285.472656 L 564 289.945312 L 552.960938 294.65625 \"/>\n",
       "<path style=\"fill:none;stroke-width:1;stroke-linecap:butt;stroke-linejoin:miter;stroke:rgb(100%,100%,100%);stroke-opacity:1;stroke-miterlimit:10;\" d=\"M 58.867188 198.140625 C 92.003906 218.675781 125.136719 239.210938 158.269531 259.746094 \"/>\n",
       "<path style=\" stroke:none;fill-rule:nonzero;fill:rgb(100%,100%,100%);fill-opacity:1;\" d=\"M 159.910156 255.359375 L 166.914062 265.105469 L 155.070312 263.167969 \"/>\n",
       "<path style=\"fill:none;stroke-width:1;stroke-linecap:butt;stroke-linejoin:miter;stroke:rgb(100%,100%,100%);stroke-opacity:1;stroke-miterlimit:10;\" d=\"M 394.851562 485.503906 C 364.929688 453.78125 335.003906 422.054688 305.082031 390.332031 \"/>\n",
       "<path style=\" stroke:none;fill-rule:nonzero;fill:rgb(100%,100%,100%);fill-opacity:1;\" d=\"M 302.59375 394.382812 L 298.324219 383.167969 L 309.273438 388.082031 \"/>\n",
       "<path style=\"fill:none;stroke-width:1;stroke-linecap:butt;stroke-linejoin:miter;stroke:rgb(100%,100%,100%);stroke-opacity:1;stroke-miterlimit:10;\" d=\"M 397.035156 128.011719 C 372.191406 172.242188 347.34375 216.472656 322.496094 260.703125 \"/>\n",
       "<path style=\" stroke:none;fill-rule:nonzero;fill:rgb(100%,100%,100%);fill-opacity:1;\" d=\"M 327.171875 261.757812 L 317.738281 269.171875 L 319.164062 257.257812 \"/>\n",
       "<path style=\"fill:none;stroke-width:1;stroke-linecap:butt;stroke-linejoin:miter;stroke:rgb(100%,100%,100%);stroke-opacity:1;stroke-miterlimit:10;\" d=\"M 52.3125 358.550781 C 87.9375 331.679688 123.558594 304.8125 159.179688 277.945312 \"/>\n",
       "<path style=\" stroke:none;fill-rule:nonzero;fill:rgb(100%,100%,100%);fill-opacity:1;\" d=\"M 155.609375 274.886719 L 167.222656 271.878906 L 161.136719 282.21875 \"/>\n",
       "<path style=\"fill:none;stroke-width:1;stroke-linecap:butt;stroke-linejoin:miter;stroke:rgb(100%,100%,100%);stroke-opacity:1;stroke-miterlimit:10;\" d=\"M 434.550781 184.363281 C 392.355469 196.269531 350.164062 208.175781 307.96875 220.082031 \"/>\n",
       "<path style=\" stroke:none;fill-rule:nonzero;fill:rgb(100%,100%,100%);fill-opacity:1;\" d=\"M 310.355469 224.179688 L 298.441406 222.769531 L 307.863281 215.339844 \"/>\n",
       "<path style=\"fill:none;stroke-width:1;stroke-linecap:butt;stroke-linejoin:miter;stroke:rgb(100%,100%,100%);stroke-opacity:1;stroke-miterlimit:10;\" d=\"M 439.179688 188.625 C 433.578125 217.390625 427.980469 246.15625 422.378906 274.921875 \"/>\n",
       "<path style=\" stroke:none;fill-rule:nonzero;fill:rgb(100%,100%,100%);fill-opacity:1;\" d=\"M 426.929688 275.582031 L 420.300781 285.585938 L 417.914062 273.828125 \"/>\n",
       "<path style=\"fill:none;stroke-width:1;stroke-linecap:butt;stroke-linejoin:miter;stroke:rgb(100%,100%,100%);stroke-opacity:1;stroke-miterlimit:10;\" d=\"M 270.914062 515.410156 C 277.75 475.328125 284.582031 435.25 291.417969 395.171875 \"/>\n",
       "<path style=\" stroke:none;fill-rule:nonzero;fill:rgb(100%,100%,100%);fill-opacity:1;\" d=\"M 286.808594 394.875 L 293.199219 384.714844 L 295.863281 396.417969 \"/>\n",
       "<path style=\"fill:none;stroke-width:1;stroke-linecap:butt;stroke-linejoin:miter;stroke:rgb(100%,100%,100%);stroke-opacity:1;stroke-miterlimit:10;\" d=\"M 221.035156 316.28125 C 241.417969 290.136719 261.800781 263.992188 282.183594 237.84375 \"/>\n",
       "<path style=\" stroke:none;fill-rule:nonzero;fill:rgb(100%,100%,100%);fill-opacity:1;\" d=\"M 278.539062 235.050781 L 288.976562 229.128906 L 285.78125 240.699219 \"/>\n",
       "<path style=\"fill:none;stroke-width:1;stroke-linecap:butt;stroke-linejoin:miter;stroke:rgb(100%,100%,100%);stroke-opacity:1;stroke-miterlimit:10;\" d=\"M 222.140625 324.617188 C 241.648438 339.285156 261.160156 353.953125 280.667969 368.621094 \"/>\n",
       "<path style=\" stroke:none;fill-rule:nonzero;fill:rgb(100%,100%,100%);fill-opacity:1;\" d=\"M 283.3125 364.863281 L 289.414062 375.195312 L 277.792969 372.203125 \"/>\n",
       "<path style=\"fill:none;stroke-width:1;stroke-linecap:butt;stroke-linejoin:miter;stroke:rgb(100%,100%,100%);stroke-opacity:1;stroke-miterlimit:10;\" d=\"M 213.433594 316.460938 C 203.304688 304.679688 193.179688 292.894531 183.050781 281.109375 \"/>\n",
       "<path style=\" stroke:none;fill-rule:nonzero;fill:rgb(100%,100%,100%);fill-opacity:1;\" d=\"M 179.667969 284.21875 L 175.925781 272.816406 L 186.632812 278.230469 \"/>\n",
       "<path style=\"fill:none;stroke-width:1;stroke-linecap:butt;stroke-linejoin:miter;stroke:rgb(100%,100%,100%);stroke-opacity:1;stroke-miterlimit:10;\" d=\"M 313.640625 280.292969 C 308.21875 307.769531 302.800781 335.25 297.378906 362.726562 \"/>\n",
       "<path style=\" stroke:none;fill-rule:nonzero;fill:rgb(100%,100%,100%);fill-opacity:1;\" d=\"M 302.019531 362.925781 L 295.371094 372.914062 L 293.011719 361.148438 \"/>\n",
       "<path style=\"fill:none;stroke-width:1;stroke-linecap:butt;stroke-linejoin:miter;stroke:rgb(100%,100%,100%);stroke-opacity:1;stroke-miterlimit:10;\" d=\"M 308.804688 274.148438 C 268.695312 272.421875 228.582031 270.699219 188.472656 268.972656 \"/>\n",
       "<path style=\" stroke:none;fill-rule:nonzero;fill:rgb(100%,100%,100%);fill-opacity:1;\" d=\"M 188.886719 273.585938 L 178.007812 268.523438 L 189.28125 264.410156 \"/>\n",
       "<path style=\"fill:none;stroke-width:1;stroke-linecap:butt;stroke-linejoin:miter;stroke:rgb(100%,100%,100%);stroke-opacity:1;stroke-miterlimit:10;\" d=\"M 318.847656 278.832031 C 342.121094 304.285156 365.390625 329.734375 388.660156 355.183594 \"/>\n",
       "<path style=\" stroke:none;fill-rule:nonzero;fill:rgb(100%,100%,100%);fill-opacity:1;\" d=\"M 391.472656 351.457031 L 395.566406 362.734375 L 384.695312 357.652344 \"/>\n",
       "<path style=\"fill:none;stroke-width:1;stroke-linecap:butt;stroke-linejoin:miter;stroke:rgb(100%,100%,100%);stroke-opacity:1;stroke-miterlimit:10;\" d=\"M 320.722656 275.375 C 348.167969 279.863281 375.613281 284.351562 403.058594 288.84375 \"/>\n",
       "<path style=\" stroke:none;fill-rule:nonzero;fill:rgb(100%,100%,100%);fill-opacity:1;\" d=\"M 403.035156 284.183594 L 413.234375 290.507812 L 401.550781 293.25 \"/>\n",
       "<path style=\"fill:none;stroke-width:1;stroke-linecap:butt;stroke-linejoin:miter;stroke:rgb(100%,100%,100%);stroke-opacity:1;stroke-miterlimit:10;\" d=\"M 317.738281 269.171875 C 342.585938 224.941406 367.433594 180.710938 392.277344 136.480469 \"/>\n",
       "<path style=\" stroke:none;fill-rule:nonzero;fill:rgb(100%,100%,100%);fill-opacity:1;\" d=\"M 387.601562 135.425781 L 397.035156 128.011719 L 395.609375 139.925781 \"/>\n",
       "<path style=\"fill:none;stroke-width:1;stroke-linecap:butt;stroke-linejoin:miter;stroke:rgb(100%,100%,100%);stroke-opacity:1;stroke-miterlimit:10;\" d=\"M 564 289.945312 C 520.957031 290.402344 477.917969 290.855469 434.875 291.308594 \"/>\n",
       "<path style=\" stroke:none;fill-rule:nonzero;fill:rgb(100%,100%,100%);fill-opacity:1;\" d=\"M 436.289062 295.886719 L 425.15625 291.414062 L 436.191406 286.703125 \"/>\n",
       "<path style=\"fill:none;stroke-width:1;stroke-linecap:butt;stroke-linejoin:miter;stroke:rgb(100%,100%,100%);stroke-opacity:1;stroke-miterlimit:10;\" d=\"M 35.980469 279.527344 C 75.863281 276.226562 115.746094 272.925781 155.628906 269.621094 \"/>\n",
       "<path style=\" stroke:none;fill-rule:nonzero;fill:rgb(100%,100%,100%);fill-opacity:1;\" d=\"M 154.605469 265.097656 L 166.035156 268.761719 L 155.363281 274.25 \"/>\n",
       "<path style=\"fill:none;stroke-width:1;stroke-linecap:butt;stroke-linejoin:miter;stroke:rgb(100%,100%,100%);stroke-opacity:1;stroke-miterlimit:10;\" d=\"M 172.980469 445.691406 C 208.546875 426.066406 244.113281 406.441406 279.675781 386.820312 \"/>\n",
       "<path style=\" stroke:none;fill-rule:nonzero;fill:rgb(100%,100%,100%);fill-opacity:1;\" d=\"M 277.03125 383.035156 L 288.957031 381.699219 L 281.46875 391.078125 \"/>\n",
       "<path style=\"fill:none;stroke-width:1;stroke-linecap:butt;stroke-linejoin:miter;stroke:rgb(100%,100%,100%);stroke-opacity:1;stroke-miterlimit:10;\" d=\"M 243.089844 91.179688 C 257.652344 130.308594 272.210938 169.4375 286.773438 208.566406 \"/>\n",
       "<path style=\" stroke:none;fill-rule:nonzero;fill:rgb(100%,100%,100%);fill-opacity:1;\" d=\"M 291.007812 206.785156 L 290.574219 218.773438 L 282.402344 209.988281 \"/>\n",
       "<path style=\"fill-rule:nonzero;fill:rgb(100%,100%,100%);fill-opacity:1;stroke-width:1;stroke-linecap:butt;stroke-linejoin:miter;stroke:rgb(100%,100%,100%);stroke-opacity:1;stroke-miterlimit:10;\" d=\"M 320.664062 224.398438 C 320.664062 239.863281 308.128906 252.398438 292.664062 252.398438 C 277.199219 252.398438 264.664062 239.863281 264.664062 224.398438 C 264.664062 208.933594 277.199219 196.398438 292.664062 196.398438 C 308.128906 196.398438 320.664062 208.933594 320.664062 224.398438 Z M 320.664062 224.398438 \"/>\n",
       "<g style=\"fill:rgb(0%,0%,0%);fill-opacity:1;\">\n",
       "  <use xlink:href=\"#glyph-2918170-1\" x=\"290.99655\" y=\"226.487492\"/>\n",
       "</g>\n",
       "<path style=\"fill-rule:nonzero;fill:rgb(100%,100%,100%);fill-opacity:1;stroke-width:1;stroke-linecap:butt;stroke-linejoin:miter;stroke:rgb(100%,100%,100%);stroke-opacity:1;stroke-miterlimit:10;\" d=\"M 342.207031 378.800781 C 342.207031 405.3125 320.71875 426.800781 294.207031 426.800781 C 267.699219 426.800781 246.207031 405.3125 246.207031 378.800781 C 246.207031 352.292969 267.699219 330.800781 294.207031 330.800781 C 320.71875 330.800781 342.207031 352.292969 342.207031 378.800781 Z M 342.207031 378.800781 \"/>\n",
       "<g style=\"fill:rgb(0%,0%,0%);fill-opacity:1;\">\n",
       "  <use xlink:href=\"#glyph-2918170-2\" x=\"292.540354\" y=\"380.906932\"/>\n",
       "</g>\n",
       "<path style=\"fill-rule:nonzero;fill:rgb(100%,100%,100%);fill-opacity:1;stroke-width:1;stroke-linecap:butt;stroke-linejoin:miter;stroke:rgb(100%,100%,100%);stroke-opacity:1;stroke-miterlimit:10;\" d=\"M 204.015625 268.265625 C 204.015625 285.9375 189.6875 300.265625 172.015625 300.265625 C 154.339844 300.265625 140.015625 285.9375 140.015625 268.265625 C 140.015625 250.59375 154.339844 236.265625 172.015625 236.265625 C 189.6875 236.265625 204.015625 250.59375 204.015625 268.265625 Z M 204.015625 268.265625 \"/>\n",
       "<g style=\"fill:rgb(0%,0%,0%);fill-opacity:1;\">\n",
       "  <use xlink:href=\"#glyph-2918170-3\" x=\"170.345674\" y=\"270.365736\"/>\n",
       "</g>\n",
       "<path style=\"fill-rule:nonzero;fill:rgb(100%,100%,100%);fill-opacity:1;stroke-width:1;stroke-linecap:butt;stroke-linejoin:miter;stroke:rgb(100%,100%,100%);stroke-opacity:1;stroke-miterlimit:10;\" d=\"M 340.304688 517.746094 C 340.304688 519.957031 338.515625 521.746094 336.304688 521.746094 C 334.09375 521.746094 332.304688 519.957031 332.304688 517.746094 C 332.304688 515.539062 334.09375 513.746094 336.304688 513.746094 C 338.515625 513.746094 340.304688 515.539062 340.304688 517.746094 Z M 340.304688 517.746094 \"/>\n",
       "<g style=\"fill:rgb(0%,0%,0%);fill-opacity:1;\">\n",
       "  <use xlink:href=\"#glyph-2918170-4\" x=\"334.636201\" y=\"519.850337\"/>\n",
       "</g>\n",
       "<path style=\"fill-rule:nonzero;fill:rgb(100%,100%,100%);fill-opacity:1;stroke-width:1;stroke-linecap:butt;stroke-linejoin:miter;stroke:rgb(100%,100%,100%);stroke-opacity:1;stroke-miterlimit:10;\" d=\"M 117.871094 134.34375 C 117.871094 136.554688 116.078125 138.34375 113.871094 138.34375 C 111.660156 138.34375 109.871094 136.554688 109.871094 134.34375 C 109.871094 132.136719 111.660156 130.34375 113.871094 130.34375 C 116.078125 130.34375 117.871094 132.136719 117.871094 134.34375 Z M 117.871094 134.34375 \"/>\n",
       "<g style=\"fill:rgb(0%,0%,0%);fill-opacity:1;\">\n",
       "  <use xlink:href=\"#glyph-2918170-5\" x=\"112.20108\" y=\"136.408105\"/>\n",
       "</g>\n",
       "<path style=\"fill-rule:nonzero;fill:rgb(100%,100%,100%);fill-opacity:1;stroke-width:1;stroke-linecap:butt;stroke-linejoin:miter;stroke:rgb(100%,100%,100%);stroke-opacity:1;stroke-miterlimit:10;\" d=\"M 455.429688 407.398438 C 455.429688 411.816406 451.847656 415.398438 447.429688 415.398438 C 443.007812 415.398438 439.429688 411.816406 439.429688 407.398438 C 439.429688 402.980469 443.007812 399.398438 447.429688 399.398438 C 451.847656 399.398438 455.429688 402.980469 455.429688 407.398438 Z M 455.429688 407.398438 \"/>\n",
       "<g style=\"fill:rgb(0%,0%,0%);fill-opacity:1;\">\n",
       "  <use xlink:href=\"#glyph-2918170-6\" x=\"445.759311\" y=\"409.504382\"/>\n",
       "</g>\n",
       "<path style=\"fill-rule:nonzero;fill:rgb(100%,100%,100%);fill-opacity:1;stroke-width:1;stroke-linecap:butt;stroke-linejoin:miter;stroke:rgb(100%,100%,100%);stroke-opacity:1;stroke-miterlimit:10;\" d=\"M 334.675781 78.675781 C 334.675781 80.886719 332.886719 82.675781 330.675781 82.675781 C 328.46875 82.675781 326.675781 80.886719 326.675781 78.675781 C 326.675781 76.46875 328.46875 74.675781 330.675781 74.675781 C 332.886719 74.675781 334.675781 76.46875 334.675781 78.675781 Z M 334.675781 78.675781 \"/>\n",
       "<g style=\"fill:rgb(0%,0%,0%);fill-opacity:1;\">\n",
       "  <use xlink:href=\"#glyph-2918170-7\" x=\"329.008667\" y=\"80.739232\"/>\n",
       "</g>\n",
       "<path style=\"fill-rule:nonzero;fill:rgb(100%,100%,100%);fill-opacity:1;stroke-width:1;stroke-linecap:butt;stroke-linejoin:miter;stroke:rgb(100%,100%,100%);stroke-opacity:1;stroke-miterlimit:10;\" d=\"M 411.613281 367.164062 C 411.613281 373.792969 406.242188 379.164062 399.613281 379.164062 C 392.988281 379.164062 387.613281 373.792969 387.613281 367.164062 C 387.613281 360.535156 392.988281 355.164062 399.613281 355.164062 C 406.242188 355.164062 411.613281 360.535156 411.613281 367.164062 Z M 411.613281 367.164062 \"/>\n",
       "<g style=\"fill:rgb(0%,0%,0%);fill-opacity:1;\">\n",
       "  <use xlink:href=\"#glyph-2918170-8\" x=\"397.946493\" y=\"369.267461\"/>\n",
       "</g>\n",
       "<path style=\"fill-rule:nonzero;fill:rgb(100%,100%,100%);fill-opacity:1;stroke-width:1;stroke-linecap:butt;stroke-linejoin:miter;stroke:rgb(100%,100%,100%);stroke-opacity:1;stroke-miterlimit:10;\" d=\"M 211.863281 499.28125 C 211.863281 501.488281 210.074219 503.28125 207.863281 503.28125 C 205.652344 503.28125 203.863281 501.488281 203.863281 499.28125 C 203.863281 497.070312 205.652344 495.28125 207.863281 495.28125 C 210.074219 495.28125 211.863281 497.070312 211.863281 499.28125 Z M 211.863281 499.28125 \"/>\n",
       "<g style=\"fill:rgb(0%,0%,0%);fill-opacity:1;\">\n",
       "  <use xlink:href=\"#glyph-2918170-9\" x=\"206.194967\" y=\"501.380065\"/>\n",
       "</g>\n",
       "<path style=\"fill-rule:nonzero;fill:rgb(100%,100%,100%);fill-opacity:1;stroke-width:1;stroke-linecap:butt;stroke-linejoin:miter;stroke:rgb(100%,100%,100%);stroke-opacity:1;stroke-miterlimit:10;\" d=\"M 447.15625 291.476562 C 447.15625 306.941406 434.617188 319.476562 419.15625 319.476562 C 403.691406 319.476562 391.15625 306.941406 391.15625 291.476562 C 391.15625 276.011719 403.691406 263.476562 419.15625 263.476562 C 434.617188 263.476562 447.15625 276.011719 447.15625 291.476562 Z M 447.15625 291.476562 \"/>\n",
       "<g style=\"fill:rgb(0%,0%,0%);fill-opacity:1;\">\n",
       "  <use xlink:href=\"#glyph-2918170-1\" x=\"415.818135\" y=\"293.573243\"/>\n",
       "  <use xlink:href=\"#glyph-2918170-10\" x=\"419.155049\" y=\"293.573243\"/>\n",
       "</g>\n",
       "<path style=\"fill-rule:nonzero;fill:rgb(100%,100%,100%);fill-opacity:1;stroke-width:1;stroke-linecap:butt;stroke-linejoin:miter;stroke:rgb(100%,100%,100%);stroke-opacity:1;stroke-miterlimit:10;\" d=\"M 57.769531 194.980469 C 57.769531 197.191406 55.976562 198.980469 53.769531 198.980469 C 51.558594 198.980469 49.769531 197.191406 49.769531 194.980469 C 49.769531 192.773438 51.558594 190.980469 53.769531 190.980469 C 55.976562 190.980469 57.769531 192.773438 57.769531 194.980469 Z M 57.769531 194.980469 \"/>\n",
       "<g style=\"fill:rgb(0%,0%,0%);fill-opacity:1;\">\n",
       "  <use xlink:href=\"#glyph-2918170-1\" x=\"50.430905\" y=\"197.070199\"/>\n",
       "  <use xlink:href=\"#glyph-2918170-1\" x=\"53.767819\" y=\"197.070199\"/>\n",
       "</g>\n",
       "<path style=\"fill-rule:nonzero;fill:rgb(100%,100%,100%);fill-opacity:1;stroke-width:1;stroke-linecap:butt;stroke-linejoin:miter;stroke:rgb(100%,100%,100%);stroke-opacity:1;stroke-miterlimit:10;\" d=\"M 402.96875 489.871094 C 402.96875 492.078125 401.179688 493.871094 398.96875 493.871094 C 396.761719 493.871094 394.96875 492.078125 394.96875 489.871094 C 394.96875 487.660156 396.761719 485.871094 398.96875 485.871094 C 401.179688 485.871094 402.96875 487.660156 402.96875 489.871094 Z M 402.96875 489.871094 \"/>\n",
       "<g style=\"fill:rgb(0%,0%,0%);fill-opacity:1;\">\n",
       "  <use xlink:href=\"#glyph-2918170-1\" x=\"395.632333\" y=\"491.975068\"/>\n",
       "  <use xlink:href=\"#glyph-2918170-2\" x=\"398.969247\" y=\"491.975068\"/>\n",
       "</g>\n",
       "<path style=\"fill-rule:nonzero;fill:rgb(100%,100%,100%);fill-opacity:1;stroke-width:1;stroke-linecap:butt;stroke-linejoin:miter;stroke:rgb(100%,100%,100%);stroke-opacity:1;stroke-miterlimit:10;\" d=\"M 403.976562 122.777344 C 403.976562 124.988281 402.183594 126.777344 399.976562 126.777344 C 397.765625 126.777344 395.976562 124.988281 395.976562 122.777344 C 395.976562 120.570312 397.765625 118.777344 399.976562 118.777344 C 402.183594 118.777344 403.976562 120.570312 403.976562 122.777344 Z M 403.976562 122.777344 \"/>\n",
       "<g style=\"fill:rgb(0%,0%,0%);fill-opacity:1;\">\n",
       "  <use xlink:href=\"#glyph-2918170-1\" x=\"396.638397\" y=\"124.879352\"/>\n",
       "  <use xlink:href=\"#glyph-2918170-3\" x=\"399.975312\" y=\"124.879352\"/>\n",
       "</g>\n",
       "<path style=\"fill-rule:nonzero;fill:rgb(100%,100%,100%);fill-opacity:1;stroke-width:1;stroke-linecap:butt;stroke-linejoin:miter;stroke:rgb(100%,100%,100%);stroke-opacity:1;stroke-miterlimit:10;\" d=\"M 51.523438 362.164062 C 51.523438 364.371094 49.734375 366.164062 47.523438 366.164062 C 45.316406 366.164062 43.523438 364.371094 43.523438 362.164062 C 43.523438 359.953125 45.316406 358.164062 47.523438 358.164062 C 49.734375 358.164062 51.523438 359.953125 51.523438 362.164062 Z M 51.523438 362.164062 \"/>\n",
       "<g style=\"fill:rgb(0%,0%,0%);fill-opacity:1;\">\n",
       "  <use xlink:href=\"#glyph-2918170-1\" x=\"44.187147\" y=\"364.266279\"/>\n",
       "  <use xlink:href=\"#glyph-2918170-4\" x=\"47.524061\" y=\"364.266279\"/>\n",
       "</g>\n",
       "<path style=\"fill-rule:nonzero;fill:rgb(100%,100%,100%);fill-opacity:1;stroke-width:1;stroke-linecap:butt;stroke-linejoin:miter;stroke:rgb(100%,100%,100%);stroke-opacity:1;stroke-miterlimit:10;\" d=\"M 448.328125 182.734375 C 448.328125 187.152344 444.746094 190.734375 440.328125 190.734375 C 435.910156 190.734375 432.328125 187.152344 432.328125 182.734375 C 432.328125 178.316406 435.910156 174.734375 440.328125 174.734375 C 444.746094 174.734375 448.328125 178.316406 448.328125 182.734375 Z M 448.328125 182.734375 \"/>\n",
       "<g style=\"fill:rgb(0%,0%,0%);fill-opacity:1;\">\n",
       "  <use xlink:href=\"#glyph-2918170-1\" x=\"436.989811\" y=\"184.823877\"/>\n",
       "  <use xlink:href=\"#glyph-2918170-5\" x=\"440.326725\" y=\"184.823877\"/>\n",
       "</g>\n",
       "<path style=\"fill-rule:nonzero;fill:rgb(100%,100%,100%);fill-opacity:1;stroke-width:1;stroke-linecap:butt;stroke-linejoin:miter;stroke:rgb(100%,100%,100%);stroke-opacity:1;stroke-miterlimit:10;\" d=\"M 273.90625 521.324219 C 273.90625 523.53125 272.117188 525.324219 269.90625 525.324219 C 267.695312 525.324219 265.90625 523.53125 265.90625 521.324219 C 265.90625 519.113281 267.695312 517.324219 269.90625 517.324219 C 272.117188 517.324219 273.90625 519.113281 273.90625 521.324219 Z M 273.90625 521.324219 \"/>\n",
       "<g style=\"fill:rgb(0%,0%,0%);fill-opacity:1;\">\n",
       "  <use xlink:href=\"#glyph-2918170-1\" x=\"266.569247\" y=\"523.429713\"/>\n",
       "  <use xlink:href=\"#glyph-2918170-6\" x=\"269.906161\" y=\"523.429713\"/>\n",
       "</g>\n",
       "<path style=\"fill-rule:nonzero;fill:rgb(100%,100%,100%);fill-opacity:1;stroke-width:1;stroke-linecap:butt;stroke-linejoin:miter;stroke:rgb(100%,100%,100%);stroke-opacity:1;stroke-miterlimit:10;\" d=\"M 229.34375 321.011719 C 229.34375 327.640625 223.972656 333.011719 217.34375 333.011719 C 210.71875 333.011719 205.34375 327.640625 205.34375 321.011719 C 205.34375 314.386719 210.71875 309.011719 217.34375 309.011719 C 223.972656 309.011719 229.34375 314.386719 229.34375 321.011719 Z M 229.34375 321.011719 \"/>\n",
       "<g style=\"fill:rgb(0%,0%,0%);fill-opacity:1;\">\n",
       "  <use xlink:href=\"#glyph-2918170-1\" x=\"214.007345\" y=\"323.101873\"/>\n",
       "  <use xlink:href=\"#glyph-2918170-7\" x=\"217.344259\" y=\"323.101873\"/>\n",
       "</g>\n",
       "<path style=\"fill-rule:nonzero;fill:rgb(100%,100%,100%);fill-opacity:1;stroke-width:1;stroke-linecap:butt;stroke-linejoin:miter;stroke:rgb(100%,100%,100%);stroke-opacity:1;stroke-miterlimit:10;\" d=\"M 334.800781 274.40625 C 334.800781 285.449219 325.84375 294.40625 314.800781 294.40625 C 303.753906 294.40625 294.800781 285.449219 294.800781 274.40625 C 294.800781 263.359375 303.753906 254.40625 314.800781 254.40625 C 325.84375 254.40625 334.800781 263.359375 334.800781 274.40625 Z M 334.800781 274.40625 \"/>\n",
       "<g style=\"fill:rgb(0%,0%,0%);fill-opacity:1;\">\n",
       "  <use xlink:href=\"#glyph-2918170-1\" x=\"311.462886\" y=\"276.508448\"/>\n",
       "  <use xlink:href=\"#glyph-2918170-8\" x=\"314.7998\" y=\"276.508448\"/>\n",
       "</g>\n",
       "<path style=\"fill-rule:nonzero;fill:rgb(100%,100%,100%);fill-opacity:1;stroke-width:1;stroke-linecap:butt;stroke-linejoin:miter;stroke:rgb(100%,100%,100%);stroke-opacity:1;stroke-miterlimit:10;\" d=\"M 574 289.882812 C 574 292.09375 572.210938 293.882812 570 293.882812 C 567.789062 293.882812 566 292.09375 566 289.882812 C 566 287.671875 567.789062 285.882812 570 285.882812 C 572.210938 285.882812 574 287.671875 574 289.882812 Z M 574 289.882812 \"/>\n",
       "<g style=\"fill:rgb(0%,0%,0%);fill-opacity:1;\">\n",
       "  <use xlink:href=\"#glyph-2918170-1\" x=\"566.663086\" y=\"291.983535\"/>\n",
       "  <use xlink:href=\"#glyph-2918170-9\" x=\"570\" y=\"291.983535\"/>\n",
       "</g>\n",
       "<path style=\"fill-rule:nonzero;fill:rgb(100%,100%,100%);fill-opacity:1;stroke-width:1;stroke-linecap:butt;stroke-linejoin:miter;stroke:rgb(100%,100%,100%);stroke-opacity:1;stroke-miterlimit:10;\" d=\"M 34 280.023438 C 34 282.234375 32.210938 284.023438 30 284.023438 C 27.789062 284.023438 26 282.234375 26 280.023438 C 26 277.8125 27.789062 276.023438 30 276.023438 C 32.210938 276.023438 34 277.8125 34 280.023438 Z M 34 280.023438 \"/>\n",
       "<g style=\"fill:rgb(0%,0%,0%);fill-opacity:1;\">\n",
       "  <use xlink:href=\"#glyph-2918170-2\" x=\"26.663086\" y=\"282.128389\"/>\n",
       "  <use xlink:href=\"#glyph-2918170-10\" x=\"30\" y=\"282.128389\"/>\n",
       "</g>\n",
       "<path style=\"fill-rule:nonzero;fill:rgb(100%,100%,100%);fill-opacity:1;stroke-width:1;stroke-linecap:butt;stroke-linejoin:miter;stroke:rgb(100%,100%,100%);stroke-opacity:1;stroke-miterlimit:10;\" d=\"M 171.730469 448.589844 C 171.730469 450.796875 169.9375 452.589844 167.730469 452.589844 C 165.519531 452.589844 163.730469 450.796875 163.730469 448.589844 C 163.730469 446.378906 165.519531 444.589844 167.730469 444.589844 C 169.9375 444.589844 171.730469 446.378906 171.730469 448.589844 Z M 171.730469 448.589844 \"/>\n",
       "<g style=\"fill:rgb(0%,0%,0%);fill-opacity:1;\">\n",
       "  <use xlink:href=\"#glyph-2918170-2\" x=\"164.391907\" y=\"450.693164\"/>\n",
       "  <use xlink:href=\"#glyph-2918170-1\" x=\"167.728821\" y=\"450.693164\"/>\n",
       "</g>\n",
       "<path style=\"fill-rule:nonzero;fill:rgb(100%,100%,100%);fill-opacity:1;stroke-width:1;stroke-linecap:butt;stroke-linejoin:miter;stroke:rgb(100%,100%,100%);stroke-opacity:1;stroke-miterlimit:10;\" d=\"M 244.996094 85.554688 C 244.996094 87.765625 243.207031 89.554688 240.996094 89.554688 C 238.789062 89.554688 236.996094 87.765625 236.996094 85.554688 C 236.996094 83.347656 238.789062 81.554688 240.996094 81.554688 C 243.207031 81.554688 244.996094 83.347656 244.996094 85.554688 Z M 244.996094 85.554688 \"/>\n",
       "<g style=\"fill:rgb(0%,0%,0%);fill-opacity:1;\">\n",
       "  <use xlink:href=\"#glyph-2918170-2\" x=\"237.6609\" y=\"87.661223\"/>\n",
       "  <use xlink:href=\"#glyph-2918170-2\" x=\"240.997814\" y=\"87.661223\"/>\n",
       "</g>\n",
       "</g>\n",
       "</svg>\n"
      ],
      "text/plain": []
     },
     "execution_count": 37,
     "metadata": {},
     "output_type": "execute_result"
    }
   ],
   "source": [
    "@drawsvg begin\n",
    "    fontsize(6)\n",
    "    background(\"black\")\n",
    "    sethue(\"white\")\n",
    "    drawgraph(g, layout=stress, vertexlabels = 1:nv(g),\n",
    "    edgelabels = :none, edgecurvature=0, \n",
    "    vertexshapesizes =  2.0*[Graphs.degree(g, v) for v in Graphs.vertices(g)])\n",
    "end 600 600"
   ]
  },
  {
   "cell_type": "code",
   "execution_count": null,
   "id": "b4d1d5d5-6f86-4aee-9f5d-5136c076f238",
   "metadata": {},
   "outputs": [],
   "source": []
  }
 ],
 "metadata": {
  "kernelspec": {
   "display_name": "Julia 1.10.2",
   "language": "julia",
   "name": "julia-1.10"
  },
  "language_info": {
   "file_extension": ".jl",
   "mimetype": "application/julia",
   "name": "julia",
   "version": "1.10.2"
  }
 },
 "nbformat": 4,
 "nbformat_minor": 5
}
