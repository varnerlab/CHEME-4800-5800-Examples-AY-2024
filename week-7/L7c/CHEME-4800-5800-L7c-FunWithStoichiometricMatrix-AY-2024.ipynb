{
 "cells": [
  {
   "cell_type": "markdown",
   "id": "92ea7c9c-61dd-4e8f-b621-edc2a2179c87",
   "metadata": {},
   "source": [
    "# Example: Let's Build and Visualize a Stoichiometric Matrix as a Graph\n",
    "This example will familiarize students with thinking about common Chemical Engineering things, e.g., reaction stoichiometry, in the context of `Graphs.` We'll load a reaction file, create a stoichiometric matrix $\\mathbf{S}$, and then create a special adjacency matrix from $\\mathbf{S}$.\n",
    "\n",
    "### What is a stoichiometric matrix $\\mathbf{S}$?\n",
    "The stoichiometric matrix $\\mathbf{S}$ is an $\\mathcal{M}\\times\\mathcal{R}$ array, where $\\mathcal{M}$ denotes the number of chemical species in the system, and $\\mathcal{R}$ denotes the number of reactions in the system. The elements of the stoichiometric matrix $\\sigma_{ij}\\in\\mathbf{S}$ are real numbers that describe the _net_ stoichiometric coefficient of chemical species $i$ in reaction $j$:\n",
    "* A stoichiometric coefficient $\\sigma_{ij}$ > 0 implies that species $i$ is __produced__ by reaction $j$\n",
    "* A stoichiometric coefficient $\\sigma_{ij}$  = 0 implies that species $i$ is __not connected__ to reaction $j$\n",
    "* A stoichiometric coefficient $\\sigma_{ij}$ < 0 implies that species $i$ is __consumed__ by reaction $j$"
   ]
  },
  {
   "cell_type": "markdown",
   "id": "5d669663-3b6c-4537-896e-d1bd1518d126",
   "metadata": {},
   "source": [
    "## Setup\n",
    "This example may use external third-party packages. In the `Include.jl` file, we load our codes to access them in the notebook, set some required paths for this example, and load any required external packages."
   ]
  },
  {
   "cell_type": "code",
   "execution_count": 1,
   "id": "1797c6b7-8134-4198-a219-fe747b963304",
   "metadata": {},
   "outputs": [
    {
     "name": "stderr",
     "output_type": "stream",
     "text": [
      "\u001b[32m\u001b[1m  Activating\u001b[22m\u001b[39m project at `~/Desktop/julia_work/CHEME-4800-5800-Examples-AY-2024/week-7/L7c`\n",
      "\u001b[32m\u001b[1m  No Changes\u001b[22m\u001b[39m to `~/Desktop/julia_work/CHEME-4800-5800-Examples-AY-2024/week-7/L7c/Project.toml`\n",
      "\u001b[32m\u001b[1m  No Changes\u001b[22m\u001b[39m to `~/Desktop/julia_work/CHEME-4800-5800-Examples-AY-2024/week-7/L7c/Manifest.toml`\n",
      "\u001b[32m\u001b[1m    Updating\u001b[22m\u001b[39m registry at `~/.julia/registries/General.toml`\n",
      "\u001b[32m\u001b[1m  No Changes\u001b[22m\u001b[39m to `~/Desktop/julia_work/CHEME-4800-5800-Examples-AY-2024/week-7/L7c/Project.toml`\n",
      "\u001b[32m\u001b[1m  No Changes\u001b[22m\u001b[39m to `~/Desktop/julia_work/CHEME-4800-5800-Examples-AY-2024/week-7/L7c/Manifest.toml`\n"
     ]
    }
   ],
   "source": [
    "include(\"Include.jl\");"
   ]
  },
  {
   "cell_type": "markdown",
   "id": "c9a8750e-ee39-4756-a74b-70a4ce87bd78",
   "metadata": {},
   "source": [
    "## 1. Load a Reaction File and Build a Stoichiometric Matrix\n",
    "We have encoded a few chemical reaction networks as a list of comma-separated records. \n",
    "* Each reaction record has the fields: `name::String, forward-reaction::String, backward-reaction::String, reversible::Bool`. Let's look at an [example toy network](data/ToyNetwork.net).\n",
    "\n",
    "We'll build a parser for this kind of reaction file. Specify the path to the reaction file in the `path_to_reaction_file` variable:"
   ]
  },
  {
   "cell_type": "code",
   "execution_count": 2,
   "id": "e00e791e-8d26-4b4e-a7b6-aaf5f5cf5c7b",
   "metadata": {},
   "outputs": [],
   "source": [
    "path_to_reaction_file = joinpath(_PATH_TO_DATA,\"ToyNetwork.net\");"
   ]
  },
  {
   "cell_type": "markdown",
   "id": "0ebb03d1-34ba-44bc-bde7-e030aba80cfe",
   "metadata": {},
   "source": [
    "Next, we pass the `path_to_reaction_file` (which points to our reaction file) to the `read_reaction_file` function, which builds a list of reaction information as a collection of `MyChemicalReactionModel` instances.\n",
    "* The `read_reaction_file(...)` function takes the path to `path_to_reaction_file` as an argument, along with information about the record delimiter (a `,` in this case) and what the comment characters are. This function returns the `reactions` dictionary holding the reaction name as the `key` and `MyChemicalReactionModel` instances as the `values`."
   ]
  },
  {
   "cell_type": "code",
   "execution_count": 24,
   "id": "57d45010-ba55-4ccd-8653-b455dcd03182",
   "metadata": {},
   "outputs": [
    {
     "data": {
      "text/plain": [
       "Dict{String, MyChemicalReactionModel} with 7 entries:\n",
       "  \"v2\" => MyChemicalReactionModel(\"v2\", \"B\", \"P\", false)\n",
       "  \"b3\" => MyChemicalReactionModel(\"b3\", \"P\", \"Px\", true)\n",
       "  \"v1\" => MyChemicalReactionModel(\"v1\", \"A1+x\", \"B+y\", false)\n",
       "  \"b4\" => MyChemicalReactionModel(\"b4\", \"C\", \"Cx\", true)\n",
       "  \"b2\" => MyChemicalReactionModel(\"b2\", \"A2\", \"A2x\", true)\n",
       "  \"v3\" => MyChemicalReactionModel(\"v3\", \"A2+y\", \"C+x\", false)\n",
       "  \"b1\" => MyChemicalReactionModel(\"b1\", \"A1\", \"A1x\", true)"
      ]
     },
     "execution_count": 24,
     "metadata": {},
     "output_type": "execute_result"
    }
   ],
   "source": [
    "reactions = read_reaction_file(path_to_reaction_file, comment=\"//\")"
   ]
  },
  {
   "cell_type": "markdown",
   "id": "b8ae1a0b-499a-4561-9b95-517813b42df7",
   "metadata": {},
   "source": [
    "The `MyChemicalReactionModel` type is specified in the [src/Types.jl file](src/Types.jl), holds information for each reaction in the system of reactions. We use this information to construct an instance of `MyStoichiometricMatrixModel` using the `build(...)` function in [src/Factory.jl](src/Factory.jl)\n",
    "* The `build(...)` function for the `MyStoichiometricMatrixModel` type takes the `reactions` dictionary and an extra argument; the `expand::Bool` argument tells the build process to split reversible reactions into forward and reversible component"
   ]
  },
  {
   "cell_type": "code",
   "execution_count": 25,
   "id": "ffa66ebb-304d-4252-a430-547ce0d1f025",
   "metadata": {},
   "outputs": [
    {
     "data": {
      "text/plain": [
       "MyStoichiometricMatrixModel([\"A1\", \"A1x\", \"A2\", \"A2x\", \"B\", \"C\", \"Cx\", \"P\", \"Px\", \"x\", \"y\"], [\"v1\", \"Rb1\", \"Rb2\", \"Fb3\", \"Rb3\", \"Rb4\", \"v3\", \"Fb1\", \"Fb2\", \"v2\", \"Fb4\"], [-1.0 1.0 … 0.0 0.0; 0.0 -1.0 … 0.0 0.0; … ; -1.0 0.0 … 0.0 0.0; 1.0 0.0 … 0.0 0.0])"
      ]
     },
     "execution_count": 25,
     "metadata": {},
     "output_type": "execute_result"
    }
   ],
   "source": [
    "S = build(MyStoichiometricMatrixModel, reactions, expand = true)"
   ]
  },
  {
   "cell_type": "code",
   "execution_count": 28,
   "id": "10ca410e-260a-41fc-990e-080c7b871d70",
   "metadata": {},
   "outputs": [
    {
     "data": {
      "text/plain": [
       "11×11 Matrix{Float64}:\n",
       " -1.0   1.0   0.0   0.0   0.0   0.0   0.0  -1.0   0.0   0.0   0.0\n",
       "  0.0  -1.0   0.0   0.0   0.0   0.0   0.0   1.0   0.0   0.0   0.0\n",
       "  0.0   0.0   1.0   0.0   0.0   0.0  -1.0   0.0  -1.0   0.0   0.0\n",
       "  0.0   0.0  -1.0   0.0   0.0   0.0   0.0   0.0   1.0   0.0   0.0\n",
       "  1.0   0.0   0.0   0.0   0.0   0.0   0.0   0.0   0.0  -1.0   0.0\n",
       "  0.0   0.0   0.0   0.0   0.0   1.0   1.0   0.0   0.0   0.0  -1.0\n",
       "  0.0   0.0   0.0   0.0   0.0  -1.0   0.0   0.0   0.0   0.0   1.0\n",
       "  0.0   0.0   0.0  -1.0   1.0   0.0   0.0   0.0   0.0   1.0   0.0\n",
       "  0.0   0.0   0.0   1.0  -1.0   0.0   0.0   0.0   0.0   0.0   0.0\n",
       " -1.0   0.0   0.0   0.0   0.0   0.0   1.0   0.0   0.0   0.0   0.0\n",
       "  1.0   0.0   0.0   0.0   0.0   0.0  -1.0   0.0   0.0   0.0   0.0"
      ]
     },
     "execution_count": 28,
     "metadata": {},
     "output_type": "execute_result"
    }
   ],
   "source": [
    "S.matrix"
   ]
  },
  {
   "cell_type": "markdown",
   "id": "6facace0-b3d0-4932-8396-bfb232ee6dc2",
   "metadata": {},
   "source": [
    "### Check: Do the entries of the stoichiometric matrix make sense?"
   ]
  },
  {
   "cell_type": "code",
   "execution_count": 6,
   "id": "f86b871f-e18d-461c-a500-352dfc0307b3",
   "metadata": {},
   "outputs": [
    {
     "data": {
      "text/plain": [
       "\"A1+x\""
      ]
     },
     "execution_count": 6,
     "metadata": {},
     "output_type": "execute_result"
    }
   ],
   "source": [
    "reactions[\"v1\"].reactants"
   ]
  },
  {
   "cell_type": "code",
   "execution_count": 7,
   "id": "773712c6-55ed-4c1d-877d-d4aaaa85bb15",
   "metadata": {},
   "outputs": [
    {
     "data": {
      "text/plain": [
       "2×2 Matrix{Any}:\n",
       " \"A1\"  -1.0\n",
       " \"x\"   -1.0"
      ]
     },
     "execution_count": 7,
     "metadata": {},
     "output_type": "execute_result"
    }
   ],
   "source": [
    "index_species = findall(x->x < 0.0, S.matrix[:,1])\n",
    "[S.species[index_species] S.matrix[index_species,1]]"
   ]
  },
  {
   "cell_type": "markdown",
   "id": "1c302043-3521-48a7-adb4-401cdfb35eea",
   "metadata": {},
   "source": [
    "## 2. Build the Reaction Adjacency Graph (RAG)\n",
    "Now that we have the stoichiometric matrix, to compute the graph representation, we need to construct an `adjacency matrix`. We do this by first constructing the `binary` representation of the stoichiometric matrix $\\mathbf{B}$, which is formed by replacing all non-zero elements of $\\mathbf{S}$ with `1`.\n",
    "* We use the `binary_stoichiometric_matrix(...)` function in the [src/Stochiometry.jl file](src/Stoichiometry.jl) to compute the binary stoichiometric matrix $\\mathbf{B}$:"
   ]
  },
  {
   "cell_type": "code",
   "execution_count": 8,
   "id": "05341a96-f111-4a00-9277-3e39494ab17a",
   "metadata": {},
   "outputs": [
    {
     "data": {
      "text/plain": [
       "11×11 Matrix{Int64}:\n",
       " 1  1  0  0  0  0  0  1  0  0  0\n",
       " 0  1  0  0  0  0  0  1  0  0  0\n",
       " 0  0  1  0  0  0  1  0  1  0  0\n",
       " 0  0  1  0  0  0  0  0  1  0  0\n",
       " 1  0  0  0  0  0  0  0  0  1  0\n",
       " 0  0  0  0  0  1  1  0  0  0  1\n",
       " 0  0  0  0  0  1  0  0  0  0  1\n",
       " 0  0  0  1  1  0  0  0  0  1  0\n",
       " 0  0  0  1  1  0  0  0  0  0  0\n",
       " 1  0  0  0  0  0  1  0  0  0  0\n",
       " 1  0  0  0  0  0  1  0  0  0  0"
      ]
     },
     "execution_count": 8,
     "metadata": {},
     "output_type": "execute_result"
    }
   ],
   "source": [
    "B = binary_stoichiometric_matrix(S.matrix)"
   ]
  },
  {
   "cell_type": "markdown",
   "id": "c9553cd4-bdfd-422b-8aa7-607fbc564708",
   "metadata": {},
   "source": [
    "The reaction adjanceny graph $\\mathbf{A}$ is defined as $\\mathbf{A}=\\mathbf{B}^{T}\\cdot\\mathbf{B}$ where the superscript `T` denotes the transpose.\n",
    "* The `diagonal` elements of $\\mathbf{A}$ denoted as $a_{ii}$, describe the `degree` of each reaction, i.e., the number of compounds in the reaction network that a particular reaction is involved with\n",
    "* The `off-diagonal` elements, denoted as $a_{ij}\\,i\\neq{j}$, describe the number of shared compounds between reactions $i$ and $j$ in the reaction network"
   ]
  },
  {
   "cell_type": "code",
   "execution_count": 9,
   "id": "c360f2b1-7391-40cd-bcec-6413686e7610",
   "metadata": {},
   "outputs": [
    {
     "data": {
      "text/plain": [
       "11×11 Matrix{Int64}:\n",
       " 4  1  0  0  0  0  2  1  0  1  0\n",
       " 1  2  0  0  0  0  0  2  0  0  0\n",
       " 0  0  2  0  0  0  1  0  2  0  0\n",
       " 0  0  0  2  2  0  0  0  0  1  0\n",
       " 0  0  0  2  2  0  0  0  0  1  0\n",
       " 0  0  0  0  0  2  1  0  0  0  2\n",
       " 2  0  1  0  0  1  4  0  1  0  1\n",
       " 1  2  0  0  0  0  0  2  0  0  0\n",
       " 0  0  2  0  0  0  1  0  2  0  0\n",
       " 1  0  0  1  1  0  0  0  0  2  0\n",
       " 0  0  0  0  0  2  1  0  0  0  2"
      ]
     },
     "execution_count": 9,
     "metadata": {},
     "output_type": "execute_result"
    }
   ],
   "source": [
    "A = transpose(B)*B"
   ]
  },
  {
   "cell_type": "markdown",
   "id": "9da82ee7-6342-4a6f-b545-62fc2735fa4b",
   "metadata": {},
   "source": [
    "### Visualize the `RAG`\n",
    "If we have an adjacency matrix, we can build (and visualize) a graph! Let's invoke the `buy versus build` argument and use some excellent third-party packages for this: \n",
    "* The [Graphs.jl package](https://github.com/JuliaGraphs/Graphs.jl) is a great third-party package for working with graph-type objects. It already has better implementations of most of what we have discussed, e.g., BFS, BFS, Dijkstra algorithm, etc.\n",
    "* The [Karnak.jl package](https://github.com/cormullion/Karnak.jl) is a super cool package for graph visualizations. It has a bit of a learning curve, but you can do some amazing things with it.\n",
    "\n",
    "To construct a graph `g,` we need to build an `edge list` and then pass that `edge list` to a constructor method for the type of graph we want to build, e.g., undirected, directed, weighted, or unweighted."
   ]
  },
  {
   "cell_type": "code",
   "execution_count": 13,
   "id": "0e1d030f-4870-4156-8a52-e832a917fc74",
   "metadata": {},
   "outputs": [],
   "source": [
    "edge_list = Array{Tuple{Int,Int},1}();\n",
    "number_of_rows = length(A[:,1]); # we could use size(A,1) as well\n",
    "for i ∈ 1:number_of_rows\n",
    "    index_connections = findall(x-> x!==0, A[i,:]);\n",
    "    for j ∈ index_connections\n",
    "        if (i ≠ j)\n",
    "            push!(edge_list, (i,j))\n",
    "        end\n",
    "    end\n",
    "end\n",
    "E = Edge.(edge_list);"
   ]
  },
  {
   "cell_type": "markdown",
   "id": "900471f8-0e73-48a8-8d1f-2df6ec2ec1b0",
   "metadata": {},
   "source": [
    "We'll visualize the `RAG` as an unweighted, undirected graph:"
   ]
  },
  {
   "cell_type": "code",
   "execution_count": 16,
   "id": "0b48828f-d42a-4169-a66f-c9749c3d0cf9",
   "metadata": {},
   "outputs": [],
   "source": [
    "g = SimpleGraph(E); # use the Graph.jl package"
   ]
  },
  {
   "cell_type": "code",
   "execution_count": 21,
   "id": "9b689536-136e-4d69-9e9f-af74389a2249",
   "metadata": {},
   "outputs": [
    {
     "data": {
      "image/svg+xml": [
       "<?xml version=\"1.0\" encoding=\"UTF-8\"?>\n",
       "<svg xmlns=\"http://www.w3.org/2000/svg\" xmlns:xlink=\"http://www.w3.org/1999/xlink\" width=\"600pt\" height=\"600pt\" viewBox=\"0 0 600 600\" version=\"1.1\">\n",
       "<defs>\n",
       "<g>\n",
       "<symbol overflow=\"visible\" id=\"glyph-9758610-0\">\n",
       "<path style=\"stroke:none;\" d=\"M 0.257812 0 L 0.257812 -5.738281 L 4.8125 -5.738281 L 4.8125 0 Z M 4.09375 -0.71875 L 4.09375 -5.019531 L 0.976562 -5.019531 L 0.976562 -0.71875 Z M 4.09375 -0.71875 \"/>\n",
       "</symbol>\n",
       "<symbol overflow=\"visible\" id=\"glyph-9758610-1\">\n",
       "<path style=\"stroke:none;\" d=\"M 0.859375 -4.183594 L 1.976562 -0.777344 L 3.144531 -4.183594 L 3.914062 -4.183594 L 2.335938 0 L 1.585938 0 L 0.0429688 -4.183594 Z M 0.859375 -4.183594 \"/>\n",
       "</symbol>\n",
       "<symbol overflow=\"visible\" id=\"glyph-9758610-2\">\n",
       "<path style=\"stroke:none;\" d=\"M 0.765625 -3.960938 L 0.765625 -4.5 C 1.273438 -4.550781 1.628906 -4.632812 1.828125 -4.75 C 2.027344 -4.863281 2.179688 -5.136719 2.277344 -5.570312 L 2.832031 -5.570312 L 2.832031 0 L 2.082031 0 L 2.082031 -3.960938 Z M 0.765625 -3.960938 \"/>\n",
       "</symbol>\n",
       "<symbol overflow=\"visible\" id=\"glyph-9758610-3\">\n",
       "<path style=\"stroke:none;\" d=\"M 3.277344 -3.109375 C 3.640625 -3.109375 3.929688 -3.183594 4.140625 -3.328125 C 4.355469 -3.472656 4.460938 -3.738281 4.460938 -4.117188 C 4.460938 -4.527344 4.3125 -4.804688 4.015625 -4.953125 C 3.855469 -5.03125 3.644531 -5.070312 3.378906 -5.070312 L 1.480469 -5.070312 L 1.480469 -3.109375 Z M 0.703125 -5.738281 L 3.359375 -5.738281 C 3.796875 -5.738281 4.15625 -5.675781 4.441406 -5.546875 C 4.980469 -5.300781 5.25 -4.851562 5.25 -4.191406 C 5.25 -3.847656 5.179688 -3.566406 5.039062 -3.347656 C 4.894531 -3.128906 4.695312 -2.953125 4.441406 -2.820312 C 4.664062 -2.730469 4.835938 -2.609375 4.945312 -2.460938 C 5.058594 -2.3125 5.125 -2.070312 5.136719 -1.738281 L 5.164062 -0.96875 C 5.171875 -0.75 5.191406 -0.585938 5.21875 -0.480469 C 5.265625 -0.296875 5.347656 -0.179688 5.46875 -0.128906 L 5.46875 0 L 4.515625 0 C 4.488281 -0.0507812 4.46875 -0.113281 4.453125 -0.191406 C 4.4375 -0.269531 4.425781 -0.421875 4.414062 -0.644531 L 4.367188 -1.601562 C 4.347656 -1.976562 4.210938 -2.226562 3.949219 -2.355469 C 3.800781 -2.425781 3.566406 -2.460938 3.25 -2.460938 L 1.480469 -2.460938 L 1.480469 0 L 0.703125 0 Z M 0.703125 -5.738281 \"/>\n",
       "</symbol>\n",
       "<symbol overflow=\"visible\" id=\"glyph-9758610-4\">\n",
       "<path style=\"stroke:none;\" d=\"M 0.460938 -5.757812 L 1.144531 -5.757812 L 1.144531 -3.675781 C 1.296875 -3.875 1.480469 -4.03125 1.695312 -4.132812 C 1.910156 -4.238281 2.140625 -4.292969 2.390625 -4.292969 C 2.910156 -4.292969 3.335938 -4.113281 3.65625 -3.757812 C 3.980469 -3.398438 4.144531 -2.871094 4.144531 -2.171875 C 4.144531 -1.511719 3.984375 -0.960938 3.664062 -0.523438 C 3.34375 -0.0859375 2.898438 0.132812 2.332031 0.132812 C 2.015625 0.132812 1.746094 0.0546875 1.527344 -0.0976562 C 1.398438 -0.1875 1.257812 -0.335938 1.109375 -0.535156 L 1.109375 0 L 0.460938 0 Z M 2.289062 -0.488281 C 2.667969 -0.488281 2.953125 -0.640625 3.140625 -0.941406 C 3.332031 -1.242188 3.425781 -1.640625 3.425781 -2.136719 C 3.425781 -2.578125 3.332031 -2.941406 3.140625 -3.230469 C 2.953125 -3.519531 2.675781 -3.664062 2.308594 -3.664062 C 1.988281 -3.664062 1.707031 -3.546875 1.46875 -3.308594 C 1.226562 -3.070312 1.105469 -2.679688 1.105469 -2.136719 C 1.105469 -1.742188 1.15625 -1.425781 1.253906 -1.179688 C 1.4375 -0.71875 1.785156 -0.488281 2.289062 -0.488281 Z M 2.289062 -0.488281 \"/>\n",
       "</symbol>\n",
       "<symbol overflow=\"visible\" id=\"glyph-9758610-5\">\n",
       "<path style=\"stroke:none;\" d=\"M 0.25 0 C 0.277344 -0.480469 0.375 -0.902344 0.546875 -1.257812 C 0.722656 -1.613281 1.058594 -1.9375 1.5625 -2.230469 L 2.3125 -2.664062 C 2.648438 -2.859375 2.882812 -3.027344 3.019531 -3.164062 C 3.234375 -3.378906 3.339844 -3.628906 3.339844 -3.90625 C 3.339844 -4.230469 3.242188 -4.492188 3.046875 -4.679688 C 2.851562 -4.871094 2.589844 -4.96875 2.265625 -4.96875 C 1.785156 -4.96875 1.449219 -4.785156 1.265625 -4.421875 C 1.167969 -4.226562 1.113281 -3.957031 1.101562 -3.609375 L 0.386719 -3.609375 C 0.394531 -4.097656 0.484375 -4.492188 0.65625 -4.800781 C 0.960938 -5.34375 1.5 -5.613281 2.269531 -5.613281 C 2.910156 -5.613281 3.378906 -5.441406 3.671875 -5.09375 C 3.96875 -4.746094 4.117188 -4.363281 4.117188 -3.9375 C 4.117188 -3.488281 3.960938 -3.105469 3.644531 -2.789062 C 3.460938 -2.605469 3.136719 -2.378906 2.664062 -2.117188 L 2.128906 -1.820312 C 1.875 -1.679688 1.671875 -1.546875 1.527344 -1.417969 C 1.265625 -1.191406 1.101562 -0.941406 1.035156 -0.664062 L 4.089844 -0.664062 L 4.089844 0 Z M 0.25 0 \"/>\n",
       "</symbol>\n",
       "<symbol overflow=\"visible\" id=\"glyph-9758610-6\">\n",
       "<path style=\"stroke:none;\" d=\"M 0.683594 -5.738281 L 4.664062 -5.738281 L 4.664062 -5.035156 L 1.460938 -5.035156 L 1.460938 -3.292969 L 4.277344 -3.292969 L 4.277344 -2.609375 L 1.460938 -2.609375 L 1.460938 0 L 0.683594 0 Z M 0.683594 -5.738281 \"/>\n",
       "</symbol>\n",
       "<symbol overflow=\"visible\" id=\"glyph-9758610-7\">\n",
       "<path style=\"stroke:none;\" d=\"M 2.078125 0.152344 C 1.417969 0.152344 0.9375 -0.03125 0.640625 -0.390625 C 0.339844 -0.753906 0.191406 -1.199219 0.191406 -1.71875 L 0.925781 -1.71875 C 0.957031 -1.355469 1.023438 -1.09375 1.128906 -0.929688 C 1.3125 -0.636719 1.640625 -0.488281 2.117188 -0.488281 C 2.488281 -0.488281 2.785156 -0.585938 3.007812 -0.785156 C 3.230469 -0.984375 3.34375 -1.238281 3.34375 -1.550781 C 3.34375 -1.9375 3.226562 -2.207031 2.992188 -2.359375 C 2.753906 -2.511719 2.425781 -2.589844 2.007812 -2.589844 C 1.960938 -2.589844 1.914062 -2.589844 1.867188 -2.585938 C 1.816406 -2.585938 1.769531 -2.585938 1.71875 -2.582031 L 1.71875 -3.203125 C 1.792969 -3.195312 1.851562 -3.191406 1.902344 -3.1875 C 1.953125 -3.183594 2.003906 -3.183594 2.0625 -3.183594 C 2.324219 -3.183594 2.542969 -3.226562 2.710938 -3.308594 C 3.007812 -3.453125 3.15625 -3.714844 3.15625 -4.089844 C 3.15625 -4.367188 3.058594 -4.582031 2.859375 -4.734375 C 2.660156 -4.886719 2.429688 -4.960938 2.167969 -4.960938 C 1.699219 -4.960938 1.375 -4.804688 1.195312 -4.492188 C 1.097656 -4.320312 1.039062 -4.074219 1.027344 -3.757812 L 0.332031 -3.757812 C 0.332031 -4.175781 0.414062 -4.527344 0.582031 -4.820312 C 0.867188 -5.339844 1.371094 -5.601562 2.09375 -5.601562 C 2.664062 -5.601562 3.105469 -5.476562 3.417969 -5.21875 C 3.730469 -4.964844 3.886719 -4.597656 3.886719 -4.117188 C 3.886719 -3.773438 3.792969 -3.496094 3.609375 -3.28125 C 3.496094 -3.148438 3.347656 -3.042969 3.164062 -2.96875 C 3.457031 -2.886719 3.6875 -2.734375 3.851562 -2.5 C 4.019531 -2.269531 4.101562 -1.988281 4.101562 -1.65625 C 4.101562 -1.121094 3.925781 -0.6875 3.574219 -0.351562 C 3.222656 -0.015625 2.722656 0.152344 2.078125 0.152344 Z M 2.078125 0.152344 \"/>\n",
       "</symbol>\n",
       "<symbol overflow=\"visible\" id=\"glyph-9758610-8\">\n",
       "<path style=\"stroke:none;\" d=\"M 2.644531 -1.980469 L 2.644531 -4.515625 L 0.851562 -1.980469 Z M 2.65625 0 L 2.65625 -1.367188 L 0.203125 -1.367188 L 0.203125 -2.054688 L 2.765625 -5.609375 L 3.359375 -5.609375 L 3.359375 -1.980469 L 4.183594 -1.980469 L 4.183594 -1.367188 L 3.359375 -1.367188 L 3.359375 0 Z M 2.65625 0 \"/>\n",
       "</symbol>\n",
       "</g>\n",
       "</defs>\n",
       "<g id=\"surface31\">\n",
       "<rect x=\"0\" y=\"0\" width=\"600\" height=\"600\" style=\"fill:rgb(0%,0%,0%);fill-opacity:1;stroke:none;\"/>\n",
       "<path style=\"fill:none;stroke-width:1;stroke-linecap:butt;stroke-linejoin:miter;stroke:rgb(100%,100%,100%);stroke-opacity:1;stroke-miterlimit:10;\" d=\"M 294.144531 349.417969 L 232.746094 484.40625 \"/>\n",
       "<path style=\"fill:none;stroke-width:1;stroke-linecap:butt;stroke-linejoin:miter;stroke:rgb(100%,100%,100%);stroke-opacity:1;stroke-miterlimit:10;\" d=\"M 294.144531 349.417969 L 174.355469 249.007812 \"/>\n",
       "<path style=\"fill:none;stroke-width:1;stroke-linecap:butt;stroke-linejoin:miter;stroke:rgb(100%,100%,100%);stroke-opacity:1;stroke-miterlimit:10;\" d=\"M 294.144531 349.417969 L 333.300781 487.457031 \"/>\n",
       "<path style=\"fill:none;stroke-width:1;stroke-linecap:butt;stroke-linejoin:miter;stroke:rgb(100%,100%,100%);stroke-opacity:1;stroke-miterlimit:10;\" d=\"M 294.144531 349.417969 L 440.613281 314.847656 \"/>\n",
       "<path style=\"fill:none;stroke-width:1;stroke-linecap:butt;stroke-linejoin:miter;stroke:rgb(100%,100%,100%);stroke-opacity:1;stroke-miterlimit:10;\" d=\"M 232.746094 484.40625 L 333.300781 487.457031 \"/>\n",
       "<path style=\"fill:none;stroke-width:1;stroke-linecap:butt;stroke-linejoin:miter;stroke:rgb(100%,100%,100%);stroke-opacity:1;stroke-miterlimit:10;\" d=\"M 30 235.304688 L 174.355469 249.007812 \"/>\n",
       "<path style=\"fill:none;stroke-width:1;stroke-linecap:butt;stroke-linejoin:miter;stroke:rgb(100%,100%,100%);stroke-opacity:1;stroke-miterlimit:10;\" d=\"M 30 235.304688 L 54.75 335.03125 \"/>\n",
       "<path style=\"fill:none;stroke-width:1;stroke-linecap:butt;stroke-linejoin:miter;stroke:rgb(100%,100%,100%);stroke-opacity:1;stroke-miterlimit:10;\" d=\"M 570 363.332031 L 558.015625 244.3125 \"/>\n",
       "<path style=\"fill:none;stroke-width:1;stroke-linecap:butt;stroke-linejoin:miter;stroke:rgb(100%,100%,100%);stroke-opacity:1;stroke-miterlimit:10;\" d=\"M 570 363.332031 L 440.613281 314.847656 \"/>\n",
       "<path style=\"fill:none;stroke-width:1;stroke-linecap:butt;stroke-linejoin:miter;stroke:rgb(100%,100%,100%);stroke-opacity:1;stroke-miterlimit:10;\" d=\"M 558.015625 244.3125 L 440.613281 314.847656 \"/>\n",
       "<path style=\"fill:none;stroke-width:1;stroke-linecap:butt;stroke-linejoin:miter;stroke:rgb(100%,100%,100%);stroke-opacity:1;stroke-miterlimit:10;\" d=\"M 226.429688 113.128906 L 174.355469 249.007812 \"/>\n",
       "<path style=\"fill:none;stroke-width:1;stroke-linecap:butt;stroke-linejoin:miter;stroke:rgb(100%,100%,100%);stroke-opacity:1;stroke-miterlimit:10;\" d=\"M 226.429688 113.128906 L 124.148438 112.542969 \"/>\n",
       "<path style=\"fill:none;stroke-width:1;stroke-linecap:butt;stroke-linejoin:miter;stroke:rgb(100%,100%,100%);stroke-opacity:1;stroke-miterlimit:10;\" d=\"M 174.355469 249.007812 L 54.75 335.03125 \"/>\n",
       "<path style=\"fill:none;stroke-width:1;stroke-linecap:butt;stroke-linejoin:miter;stroke:rgb(100%,100%,100%);stroke-opacity:1;stroke-miterlimit:10;\" d=\"M 174.355469 249.007812 L 124.148438 112.542969 \"/>\n",
       "<path style=\"fill-rule:nonzero;fill:rgb(100%,100%,100%);fill-opacity:1;stroke-width:1;stroke-linecap:butt;stroke-linejoin:miter;stroke:rgb(100%,100%,100%);stroke-opacity:1;stroke-miterlimit:10;\" d=\"M 310.144531 349.417969 C 310.144531 358.257812 302.980469 365.417969 294.144531 365.417969 C 285.304688 365.417969 278.144531 358.257812 278.144531 349.417969 C 278.144531 340.582031 285.304688 333.417969 294.144531 333.417969 C 302.980469 333.417969 310.144531 340.582031 310.144531 349.417969 Z M 310.144531 349.417969 \"/>\n",
       "<g style=\"fill:rgb(0%,0%,0%);fill-opacity:1;\">\n",
       "  <use xlink:href=\"#glyph-9758610-1\" x=\"289.918345\" y=\"352.204808\"/>\n",
       "  <use xlink:href=\"#glyph-9758610-2\" x=\"293.918345\" y=\"352.204808\"/>\n",
       "</g>\n",
       "<path style=\"fill-rule:nonzero;fill:rgb(100%,100%,100%);fill-opacity:1;stroke-width:1;stroke-linecap:butt;stroke-linejoin:miter;stroke:rgb(100%,100%,100%);stroke-opacity:1;stroke-miterlimit:10;\" d=\"M 240.746094 484.40625 C 240.746094 488.824219 237.167969 492.40625 232.746094 492.40625 C 228.328125 492.40625 224.746094 488.824219 224.746094 484.40625 C 224.746094 479.988281 228.328125 476.40625 232.746094 476.40625 C 237.167969 476.40625 240.746094 479.988281 240.746094 484.40625 Z M 240.746094 484.40625 \"/>\n",
       "<g style=\"fill:rgb(0%,0%,0%);fill-opacity:1;\">\n",
       "  <use xlink:href=\"#glyph-9758610-3\" x=\"225.410108\" y=\"487.28653\"/>\n",
       "  <use xlink:href=\"#glyph-9758610-4\" x=\"231.187452\" y=\"487.28653\"/>\n",
       "  <use xlink:href=\"#glyph-9758610-2\" x=\"235.636671\" y=\"487.28653\"/>\n",
       "</g>\n",
       "<path style=\"fill-rule:nonzero;fill:rgb(100%,100%,100%);fill-opacity:1;stroke-width:1;stroke-linecap:butt;stroke-linejoin:miter;stroke:rgb(100%,100%,100%);stroke-opacity:1;stroke-miterlimit:10;\" d=\"M 38 235.304688 C 38 239.722656 34.417969 243.304688 30 243.304688 C 25.582031 243.304688 22 239.722656 22 235.304688 C 22 230.886719 25.582031 227.304688 30 227.304688 C 34.417969 227.304688 38 230.886719 38 235.304688 Z M 38 235.304688 \"/>\n",
       "<g style=\"fill:rgb(0%,0%,0%);fill-opacity:1;\">\n",
       "  <use xlink:href=\"#glyph-9758610-3\" x=\"22.662109\" y=\"238.183786\"/>\n",
       "  <use xlink:href=\"#glyph-9758610-4\" x=\"28.439453\" y=\"238.183786\"/>\n",
       "  <use xlink:href=\"#glyph-9758610-5\" x=\"32.888672\" y=\"238.183786\"/>\n",
       "</g>\n",
       "<path style=\"fill-rule:nonzero;fill:rgb(100%,100%,100%);fill-opacity:1;stroke-width:1;stroke-linecap:butt;stroke-linejoin:miter;stroke:rgb(100%,100%,100%);stroke-opacity:1;stroke-miterlimit:10;\" d=\"M 578 363.332031 C 578 367.75 574.417969 371.332031 570 371.332031 C 565.582031 371.332031 562 367.75 562 363.332031 C 562 358.914062 565.582031 355.332031 570 355.332031 C 574.417969 355.332031 578 358.914062 578 363.332031 Z M 578 363.332031 \"/>\n",
       "<g style=\"fill:rgb(0%,0%,0%);fill-opacity:1;\">\n",
       "  <use xlink:href=\"#glyph-9758610-6\" x=\"563.107422\" y=\"366.210473\"/>\n",
       "  <use xlink:href=\"#glyph-9758610-4\" x=\"567.994141\" y=\"366.210473\"/>\n",
       "  <use xlink:href=\"#glyph-9758610-7\" x=\"572.443359\" y=\"366.210473\"/>\n",
       "</g>\n",
       "<path style=\"fill-rule:nonzero;fill:rgb(100%,100%,100%);fill-opacity:1;stroke-width:1;stroke-linecap:butt;stroke-linejoin:miter;stroke:rgb(100%,100%,100%);stroke-opacity:1;stroke-miterlimit:10;\" d=\"M 566.015625 244.3125 C 566.015625 248.730469 562.433594 252.3125 558.015625 252.3125 C 553.597656 252.3125 550.015625 248.730469 550.015625 244.3125 C 550.015625 239.894531 553.597656 236.3125 558.015625 236.3125 C 562.433594 236.3125 566.015625 239.894531 566.015625 244.3125 Z M 566.015625 244.3125 \"/>\n",
       "<g style=\"fill:rgb(0%,0%,0%);fill-opacity:1;\">\n",
       "  <use xlink:href=\"#glyph-9758610-3\" x=\"550.677291\" y=\"247.190629\"/>\n",
       "  <use xlink:href=\"#glyph-9758610-4\" x=\"556.454635\" y=\"247.190629\"/>\n",
       "  <use xlink:href=\"#glyph-9758610-7\" x=\"560.903853\" y=\"247.190629\"/>\n",
       "</g>\n",
       "<path style=\"fill-rule:nonzero;fill:rgb(100%,100%,100%);fill-opacity:1;stroke-width:1;stroke-linecap:butt;stroke-linejoin:miter;stroke:rgb(100%,100%,100%);stroke-opacity:1;stroke-miterlimit:10;\" d=\"M 234.429688 113.128906 C 234.429688 117.550781 230.847656 121.128906 226.429688 121.128906 C 222.007812 121.128906 218.429688 117.550781 218.429688 113.128906 C 218.429688 108.710938 222.007812 105.128906 226.429688 105.128906 C 230.847656 105.128906 234.429688 108.710938 234.429688 113.128906 Z M 234.429688 113.128906 \"/>\n",
       "<g style=\"fill:rgb(0%,0%,0%);fill-opacity:1;\">\n",
       "  <use xlink:href=\"#glyph-9758610-3\" x=\"219.09005\" y=\"116.009459\"/>\n",
       "  <use xlink:href=\"#glyph-9758610-4\" x=\"224.867394\" y=\"116.009459\"/>\n",
       "  <use xlink:href=\"#glyph-9758610-8\" x=\"229.316613\" y=\"116.009459\"/>\n",
       "</g>\n",
       "<path style=\"fill-rule:nonzero;fill:rgb(100%,100%,100%);fill-opacity:1;stroke-width:1;stroke-linecap:butt;stroke-linejoin:miter;stroke:rgb(100%,100%,100%);stroke-opacity:1;stroke-miterlimit:10;\" d=\"M 194.355469 249.007812 C 194.355469 260.054688 185.398438 269.007812 174.355469 269.007812 C 163.308594 269.007812 154.355469 260.054688 154.355469 249.007812 C 154.355469 237.964844 163.308594 229.007812 174.355469 229.007812 C 185.398438 229.007812 194.355469 237.964844 194.355469 249.007812 Z M 194.355469 249.007812 \"/>\n",
       "<g style=\"fill:rgb(0%,0%,0%);fill-opacity:1;\">\n",
       "  <use xlink:href=\"#glyph-9758610-1\" x=\"170.129392\" y=\"251.80949\"/>\n",
       "  <use xlink:href=\"#glyph-9758610-7\" x=\"174.129392\" y=\"251.80949\"/>\n",
       "</g>\n",
       "<path style=\"fill-rule:nonzero;fill:rgb(100%,100%,100%);fill-opacity:1;stroke-width:1;stroke-linecap:butt;stroke-linejoin:miter;stroke:rgb(100%,100%,100%);stroke-opacity:1;stroke-miterlimit:10;\" d=\"M 341.300781 487.457031 C 341.300781 491.875 337.71875 495.457031 333.300781 495.457031 C 328.882812 495.457031 325.300781 491.875 325.300781 487.457031 C 325.300781 483.039062 328.882812 479.457031 333.300781 479.457031 C 337.71875 479.457031 341.300781 483.039062 341.300781 487.457031 Z M 341.300781 487.457031 \"/>\n",
       "<g style=\"fill:rgb(0%,0%,0%);fill-opacity:1;\">\n",
       "  <use xlink:href=\"#glyph-9758610-6\" x=\"326.407582\" y=\"490.336238\"/>\n",
       "  <use xlink:href=\"#glyph-9758610-4\" x=\"331.294301\" y=\"490.336238\"/>\n",
       "  <use xlink:href=\"#glyph-9758610-2\" x=\"335.74352\" y=\"490.336238\"/>\n",
       "</g>\n",
       "<path style=\"fill-rule:nonzero;fill:rgb(100%,100%,100%);fill-opacity:1;stroke-width:1;stroke-linecap:butt;stroke-linejoin:miter;stroke:rgb(100%,100%,100%);stroke-opacity:1;stroke-miterlimit:10;\" d=\"M 62.75 335.03125 C 62.75 339.449219 59.167969 343.03125 54.75 343.03125 C 50.332031 343.03125 46.75 339.449219 46.75 335.03125 C 46.75 330.609375 50.332031 327.03125 54.75 327.03125 C 59.167969 327.03125 62.75 330.609375 62.75 335.03125 Z M 62.75 335.03125 \"/>\n",
       "<g style=\"fill:rgb(0%,0%,0%);fill-opacity:1;\">\n",
       "  <use xlink:href=\"#glyph-9758610-6\" x=\"47.85588\" y=\"337.908397\"/>\n",
       "  <use xlink:href=\"#glyph-9758610-4\" x=\"52.742599\" y=\"337.908397\"/>\n",
       "  <use xlink:href=\"#glyph-9758610-5\" x=\"57.191818\" y=\"337.908397\"/>\n",
       "</g>\n",
       "<path style=\"fill-rule:nonzero;fill:rgb(100%,100%,100%);fill-opacity:1;stroke-width:1;stroke-linecap:butt;stroke-linejoin:miter;stroke:rgb(100%,100%,100%);stroke-opacity:1;stroke-miterlimit:10;\" d=\"M 452.613281 314.847656 C 452.613281 321.476562 447.242188 326.847656 440.613281 326.847656 C 433.988281 326.847656 428.613281 321.476562 428.613281 314.847656 C 428.613281 308.21875 433.988281 302.847656 440.613281 302.847656 C 447.242188 302.847656 452.613281 308.21875 452.613281 314.847656 Z M 452.613281 314.847656 \"/>\n",
       "<g style=\"fill:rgb(0%,0%,0%);fill-opacity:1;\">\n",
       "  <use xlink:href=\"#glyph-9758610-1\" x=\"436.389617\" y=\"317.653987\"/>\n",
       "  <use xlink:href=\"#glyph-9758610-5\" x=\"440.389617\" y=\"317.653987\"/>\n",
       "</g>\n",
       "<path style=\"fill-rule:nonzero;fill:rgb(100%,100%,100%);fill-opacity:1;stroke-width:1;stroke-linecap:butt;stroke-linejoin:miter;stroke:rgb(100%,100%,100%);stroke-opacity:1;stroke-miterlimit:10;\" d=\"M 132.148438 112.542969 C 132.148438 116.960938 128.566406 120.542969 124.148438 120.542969 C 119.730469 120.542969 116.148438 116.960938 116.148438 112.542969 C 116.148438 108.125 119.730469 104.542969 124.148438 104.542969 C 128.566406 104.542969 132.148438 108.125 132.148438 112.542969 Z M 132.148438 112.542969 \"/>\n",
       "<g style=\"fill:rgb(0%,0%,0%);fill-opacity:1;\">\n",
       "  <use xlink:href=\"#glyph-9758610-6\" x=\"117.254638\" y=\"115.421575\"/>\n",
       "  <use xlink:href=\"#glyph-9758610-4\" x=\"122.141356\" y=\"115.421575\"/>\n",
       "  <use xlink:href=\"#glyph-9758610-8\" x=\"126.590575\" y=\"115.421575\"/>\n",
       "</g>\n",
       "</g>\n",
       "</svg>\n"
      ],
      "text/plain": []
     },
     "execution_count": 21,
     "metadata": {},
     "output_type": "execute_result"
    }
   ],
   "source": [
    "@drawsvg begin\n",
    "    fontsize(8)\n",
    "    background(\"black\")\n",
    "    sethue(\"white\")\n",
    "    drawgraph(g, layout=stress, \n",
    "    vertexlabels = (v) -> S.reactions[v],\n",
    "    edgelabels = :none, edgecurvature=0, \n",
    "    vertexshapesizes =  4.0*[Graphs.degree(g, v) for v in Graphs.vertices(g)])\n",
    "end 600 600"
   ]
  },
  {
   "cell_type": "code",
   "execution_count": null,
   "id": "b4d1d5d5-6f86-4aee-9f5d-5136c076f238",
   "metadata": {},
   "outputs": [],
   "source": []
  }
 ],
 "metadata": {
  "kernelspec": {
   "display_name": "Julia 1.10.2",
   "language": "julia",
   "name": "julia-1.10"
  },
  "language_info": {
   "file_extension": ".jl",
   "mimetype": "application/julia",
   "name": "julia",
   "version": "1.10.2"
  }
 },
 "nbformat": 4,
 "nbformat_minor": 5
}
