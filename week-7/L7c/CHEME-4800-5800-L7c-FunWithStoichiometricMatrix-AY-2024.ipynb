{
 "cells": [
  {
   "cell_type": "markdown",
   "id": "92ea7c9c-61dd-4e8f-b621-edc2a2179c87",
   "metadata": {},
   "source": [
    "# Example: Let's Build and Analyze a Stoichiometric Matrix"
   ]
  },
  {
   "cell_type": "code",
   "execution_count": null,
   "id": "a87bcf37-e2bf-46e2-a620-42a98495a3d0",
   "metadata": {},
   "outputs": [],
   "source": []
  }
 ],
 "metadata": {
  "kernelspec": {
   "display_name": "Julia 1.10.2",
   "language": "julia",
   "name": "julia-1.10"
  },
  "language_info": {
   "file_extension": ".jl",
   "mimetype": "application/julia",
   "name": "julia",
   "version": "1.10.2"
  }
 },
 "nbformat": 4,
 "nbformat_minor": 5
}
