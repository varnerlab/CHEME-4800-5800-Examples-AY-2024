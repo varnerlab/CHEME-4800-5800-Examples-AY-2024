{
 "cells": [
  {
   "cell_type": "markdown",
   "id": "5aef12e3-2e8c-4724-a571-0bfe607885f3",
   "metadata": {},
   "source": [
    "# Example: Computing Single Source Shortest Paths using Dijkstra’s Algorithm\n",
    "This example will familiarize students with working with [Dijkstra’s Algorithm](https://en.wikipedia.org/wiki/Dijkstra%27s_algorithm)\n",
    "* Dijkstra’s Algorithm is a single-source shortest path algorithm for a graph with non-negative edge weights. It is greedy and maintains a set of vertices whose shortest distance from the source is known. The algorithm repeatedly selects the vertex `u` from the set of vertices not yet processed \n",
    "with the minimum distance `dist[u],` explores the edges incident to `u,` and adds `u` to the set of processed vertices. The algorithm terminates when the set of processed vertices includes all the vertices in the graph. \n",
    "* The algorithm is named after Edsger W. Dijkstra, who published it in 1959. He supposedly created it in his head while he and his lady friend had coffee (it took him 20 minutes)."
   ]
  },
  {
   "cell_type": "markdown",
   "id": "bdab9525-b2af-4fbc-b6a5-327d4bb19675",
   "metadata": {},
   "source": [
    "## Setup\n",
    "This example may use external third-party packages. In the `Include.jl` file, we load our codes to access them in the notebook, set some required paths for this example, and load any required external packages."
   ]
  },
  {
   "cell_type": "code",
   "execution_count": 1,
   "id": "8aab99a2-1072-4706-a5c5-837772700379",
   "metadata": {},
   "outputs": [
    {
     "name": "stderr",
     "output_type": "stream",
     "text": [
      "\u001b[32m\u001b[1m  Activating\u001b[22m\u001b[39m project at `~/Desktop/julia_work/CHEME-4800-5800-Examples-AY-2024/week-7/L7a`\n",
      "\u001b[32m\u001b[1m  No Changes\u001b[22m\u001b[39m to `~/Desktop/julia_work/CHEME-4800-5800-Examples-AY-2024/week-7/L7a/Project.toml`\n",
      "\u001b[32m\u001b[1m  No Changes\u001b[22m\u001b[39m to `~/Desktop/julia_work/CHEME-4800-5800-Examples-AY-2024/week-7/L7a/Manifest.toml`\n",
      "\u001b[32m\u001b[1m    Updating\u001b[22m\u001b[39m registry at `~/.julia/registries/General.toml`\n",
      "\u001b[32m\u001b[1m   Installed\u001b[22m\u001b[39m Adapt ─ v4.0.2\n",
      "\u001b[32m\u001b[1m  No Changes\u001b[22m\u001b[39m to `~/Desktop/julia_work/CHEME-4800-5800-Examples-AY-2024/week-7/L7a/Project.toml`\n",
      "\u001b[32m\u001b[1m    Updating\u001b[22m\u001b[39m `~/Desktop/julia_work/CHEME-4800-5800-Examples-AY-2024/week-7/L7a/Manifest.toml`\n",
      "  \u001b[90m[79e6a3ab] \u001b[39m\u001b[93m↑ Adapt v4.0.1 ⇒ v4.0.2\u001b[39m\n",
      "\u001b[32m\u001b[1mPrecompiling\u001b[22m\u001b[39m project...\n",
      "\u001b[32m  ✓ \u001b[39m\u001b[90mAdapt\u001b[39m\n",
      "\u001b[32m  ✓ \u001b[39m\u001b[90mOffsetArrays → OffsetArraysAdaptExt\u001b[39m\n",
      "\u001b[32m  ✓ \u001b[39m\u001b[90mStructArrays → StructArraysAdaptExt\u001b[39m\n",
      "\u001b[32m  ✓ \u001b[39m\u001b[90mAdapt → AdaptStaticArraysExt\u001b[39m\n",
      "\u001b[32m  ✓ \u001b[39m\u001b[90mInterpolations\u001b[39m\n",
      "\u001b[32m  ✓ \u001b[39m\u001b[90mKernelDensity\u001b[39m\n",
      "\u001b[32m  ✓ \u001b[39m\u001b[90mMakie\u001b[39m\n",
      "\u001b[32m  ✓ \u001b[39mCairoMakie\n",
      "  8 dependencies successfully precompiled in 51 seconds. 293 already precompiled.\n"
     ]
    }
   ],
   "source": [
    "include(\"Include.jl\");"
   ]
  },
  {
   "cell_type": "markdown",
   "id": "1a3b40ff-9cc8-426b-9b1c-169c52338d9d",
   "metadata": {},
   "source": [
    "## Task 1: Build an instance of `MySimpleDirectedGraphModel` for an example graph using an edge list\n",
    "A graph $\\mathcal{G}=\\left(\\mathcal{V},\\mathcal{E}\\right)$ can be constructed from an [Adjacency Matrix](https://en.wikipedia.org/wiki/Adjacency_matrix) $\\mathbf{A}$, which is a $\\dim\\mathcal{V}\\times\\dim\\mathcal{V}$ square matrix. However, this is only suitable for small graphs because $\\mathbf{A}$ has a high memory overhead (if stored as `64-bit` values). \n",
    "* For example, consider a graph with $\\dim\\mathcal{V}$ = 100000 would require `80 GB` of memory to store in the worst case, which is more than most common machines"
   ]
  },
  {
   "cell_type": "code",
   "execution_count": 2,
   "id": "dc82e008-4fb6-4d4e-915a-64f6651e6a53",
   "metadata": {},
   "outputs": [],
   "source": [
    "path_to_edge_file = joinpath(_PATH_TO_DATA, \"SimpleGraph.txt\");"
   ]
  },
  {
   "cell_type": "markdown",
   "id": "f23d4823-fbea-4cf1-b942-9a2c05780a38",
   "metadata": {},
   "source": [
    "Next, let's load build a dictionary of `edges,` where the data for the edges (source id, target id, and weight) is stored in a `MyGraphEdgeModel` model. \n",
    "* We utilize the `readedgesfile` function from `src/Files.jl` to read the edge data. This function requires the path to the edges file and information about the delimiter and comment characters. It returns a dictionary that holds instances of `MyGraphEdgeModel`"
   ]
  },
  {
   "cell_type": "code",
   "execution_count": 3,
   "id": "b335eb7d-fb22-41fd-a090-5e07452afc1e",
   "metadata": {},
   "outputs": [
    {
     "data": {
      "text/plain": [
       "Dict{Int64, MyGraphEdgeModel} with 7 entries:\n",
       "  0 => MyGraphEdgeModel(0, 1, 2, 10.0)\n",
       "  4 => MyGraphEdgeModel(4, 3, 5, 6.0)\n",
       "  5 => MyGraphEdgeModel(5, 4, 6, 1.0)\n",
       "  6 => MyGraphEdgeModel(6, 5, 4, 1.0)\n",
       "  2 => MyGraphEdgeModel(2, 2, 3, 2.0)\n",
       "  3 => MyGraphEdgeModel(3, 2, 4, 100.0)\n",
       "  1 => MyGraphEdgeModel(1, 1, 3, 100.0)"
      ]
     },
     "execution_count": 3,
     "metadata": {},
     "output_type": "execute_result"
    }
   ],
   "source": [
    "myedges = readedgesfile(path_to_edge_file, delim=',', comment='#')"
   ]
  },
  {
   "cell_type": "markdown",
   "id": "8a526ddb-7921-419f-82ea-131e77128a64",
   "metadata": {},
   "source": [
    "We can adjust the weight of the edges by updating the `myedges` dictionary:"
   ]
  },
  {
   "cell_type": "code",
   "execution_count": 4,
   "id": "1b1781b3-18af-4d85-ba48-d0f78c7de937",
   "metadata": {},
   "outputs": [],
   "source": [
    "myedges[1].weight = 13.0;"
   ]
  },
  {
   "cell_type": "markdown",
   "id": "93ebc95b-2ac7-43d0-8ea8-fcdc6d0168dd",
   "metadata": {},
   "source": [
    "Finally, now that we have the `myedges` dictionary, we can build a graph instance. Since this is a directed graph, we'll construct a `MySimpleDirectedGraphModel` instance using it's `build(...)` method in the `src/Factory.jl` file."
   ]
  },
  {
   "cell_type": "code",
   "execution_count": 5,
   "id": "409959d0-d429-41e2-8463-d458b85460dc",
   "metadata": {},
   "outputs": [],
   "source": [
    "dag = build(MySimpleDirectedGraphModel, myedges);"
   ]
  },
  {
   "cell_type": "markdown",
   "id": "22ea5f85-4880-46ba-a231-ae4cd59c462b",
   "metadata": {},
   "source": [
    "## Task 2: Use our  implementation of Dijkstra’s Algorithm to visit the nodes of the `dag`\n",
    "\n",
    "We've implemented the `computeshortestpaths(...)` function in the `src/Search.jl` file, which computes the shortest path using various algorithms. \n",
    "* Notice the last argument of the function is an instance of an (empty) type `DikjstraAlgorithm.` This tells the [multiple dispatch system in Julia](https://docs.julialang.org/en/v1/manual/methods/) to select the correct shortest path implementation. This is super cool (and makes life easy for the user to try different computational approaches)"
   ]
  },
  {
   "cell_type": "code",
   "execution_count": 6,
   "id": "fb322e98-25a6-4538-9562-cd12d3d46b69",
   "metadata": {},
   "outputs": [],
   "source": [
    "(d,p) = computeshortestpaths(dag, dag.nodes[1], DikjstraAlgorithm());"
   ]
  },
  {
   "cell_type": "code",
   "execution_count": 7,
   "id": "a2b915fc-801b-4914-be60-37dd4417f9fa",
   "metadata": {
    "jupyter": {
     "source_hidden": true
    }
   },
   "outputs": [
    {
     "data": {
      "image/svg+xml": [
       "<?xml version=\"1.0\" encoding=\"UTF-8\"?>\n",
       "<svg xmlns=\"http://www.w3.org/2000/svg\" xmlns:xlink=\"http://www.w3.org/1999/xlink\" width=\"600pt\" height=\"300pt\" viewBox=\"0 0 600 300\" version=\"1.1\">\n",
       "<defs>\n",
       "<g>\n",
       "<symbol overflow=\"visible\" id=\"glyph-8044450-0\">\n",
       "<path style=\"stroke:none;\" d=\"M 0.320312 0 L 0.320312 -7.171875 L 6.015625 -7.171875 L 6.015625 0 Z M 5.117188 -0.898438 L 5.117188 -6.273438 L 1.21875 -6.273438 L 1.21875 -0.898438 Z M 5.117188 -0.898438 \"/>\n",
       "</symbol>\n",
       "<symbol overflow=\"visible\" id=\"glyph-8044450-1\">\n",
       "<path style=\"stroke:none;\" d=\"M 0.957031 -4.953125 L 0.957031 -5.625 C 1.59375 -5.6875 2.035156 -5.789062 2.285156 -5.933594 C 2.535156 -6.078125 2.722656 -6.421875 2.847656 -6.960938 L 3.539062 -6.960938 L 3.539062 0 L 2.601562 0 L 2.601562 -4.953125 Z M 0.957031 -4.953125 \"/>\n",
       "</symbol>\n",
       "<symbol overflow=\"visible\" id=\"glyph-8044450-2\">\n",
       "<path style=\"stroke:none;\" d=\"M 2.703125 -6.992188 C 3.609375 -6.992188 4.265625 -6.621094 4.667969 -5.875 C 4.980469 -5.296875 5.136719 -4.507812 5.136719 -3.507812 C 5.136719 -2.554688 4.996094 -1.769531 4.710938 -1.148438 C 4.300781 -0.257812 3.632812 0.191406 2.699219 0.191406 C 1.859375 0.191406 1.234375 -0.175781 0.824219 -0.902344 C 0.484375 -1.511719 0.3125 -2.328125 0.3125 -3.355469 C 0.3125 -4.148438 0.414062 -4.832031 0.621094 -5.398438 C 1.003906 -6.460938 1.699219 -6.992188 2.703125 -6.992188 Z M 2.695312 -0.609375 C 3.152344 -0.609375 3.515625 -0.8125 3.785156 -1.214844 C 4.054688 -1.617188 4.1875 -2.371094 4.1875 -3.472656 C 4.1875 -4.265625 4.09375 -4.917969 3.898438 -5.433594 C 3.703125 -5.945312 3.320312 -6.203125 2.757812 -6.203125 C 2.242188 -6.203125 1.863281 -5.957031 1.625 -5.472656 C 1.382812 -4.984375 1.265625 -4.265625 1.265625 -3.320312 C 1.265625 -2.609375 1.339844 -2.035156 1.492188 -1.601562 C 1.726562 -0.941406 2.128906 -0.609375 2.695312 -0.609375 Z M 2.695312 -0.609375 \"/>\n",
       "</symbol>\n",
       "<symbol overflow=\"visible\" id=\"glyph-8044450-3\">\n",
       "<path style=\"stroke:none;\" d=\"M 0.855469 -1.0625 L 1.875 -1.0625 L 1.875 0 L 0.855469 0 Z M 0.855469 -1.0625 \"/>\n",
       "</symbol>\n",
       "<symbol overflow=\"visible\" id=\"glyph-8044450-4\">\n",
       "<path style=\"stroke:none;\" d=\"M 2.597656 0.191406 C 1.769531 0.191406 1.171875 -0.0351562 0.796875 -0.492188 C 0.425781 -0.945312 0.238281 -1.496094 0.238281 -2.148438 L 1.15625 -2.148438 C 1.195312 -1.695312 1.28125 -1.367188 1.410156 -1.164062 C 1.640625 -0.796875 2.050781 -0.609375 2.648438 -0.609375 C 3.109375 -0.609375 3.480469 -0.734375 3.757812 -0.980469 C 4.039062 -1.226562 4.179688 -1.546875 4.179688 -1.9375 C 4.179688 -2.421875 4.03125 -2.757812 3.738281 -2.949219 C 3.445312 -3.140625 3.035156 -3.238281 2.507812 -3.238281 C 2.449219 -3.238281 2.390625 -3.238281 2.332031 -3.234375 C 2.273438 -3.234375 2.210938 -3.230469 2.148438 -3.226562 L 2.148438 -4.003906 C 2.238281 -3.992188 2.316406 -3.988281 2.378906 -3.984375 C 2.441406 -3.980469 2.507812 -3.980469 2.578125 -3.980469 C 2.90625 -3.980469 3.175781 -4.03125 3.390625 -4.136719 C 3.761719 -4.320312 3.945312 -4.644531 3.945312 -5.113281 C 3.945312 -5.460938 3.820312 -5.730469 3.574219 -5.917969 C 3.328125 -6.105469 3.039062 -6.203125 2.710938 -6.203125 C 2.125 -6.203125 1.71875 -6.007812 1.492188 -5.617188 C 1.371094 -5.402344 1.300781 -5.09375 1.285156 -4.695312 L 0.414062 -4.695312 C 0.414062 -5.21875 0.519531 -5.660156 0.726562 -6.023438 C 1.085938 -6.675781 1.714844 -7 2.617188 -7 C 3.328125 -7 3.882812 -6.84375 4.273438 -6.527344 C 4.664062 -6.210938 4.859375 -5.75 4.859375 -5.148438 C 4.859375 -4.71875 4.742188 -4.367188 4.511719 -4.101562 C 4.367188 -3.9375 4.183594 -3.804688 3.953125 -3.710938 C 4.320312 -3.609375 4.609375 -3.414062 4.816406 -3.128906 C 5.023438 -2.839844 5.125 -2.488281 5.125 -2.070312 C 5.125 -1.402344 4.90625 -0.859375 4.46875 -0.4375 C 4.027344 -0.0195312 3.40625 0.191406 2.597656 0.191406 Z M 2.597656 0.191406 \"/>\n",
       "</symbol>\n",
       "<symbol overflow=\"visible\" id=\"glyph-8044450-5\">\n",
       "<path style=\"stroke:none;\" d=\"M 0.3125 0 C 0.34375 -0.601562 0.46875 -1.125 0.6875 -1.570312 C 0.902344 -2.015625 1.324219 -2.421875 1.953125 -2.789062 L 2.890625 -3.328125 C 3.3125 -3.574219 3.605469 -3.78125 3.773438 -3.953125 C 4.039062 -4.226562 4.175781 -4.535156 4.175781 -4.882812 C 4.175781 -5.289062 4.054688 -5.613281 3.808594 -5.851562 C 3.5625 -6.089844 3.238281 -6.210938 2.832031 -6.210938 C 2.230469 -6.210938 1.8125 -5.984375 1.582031 -5.527344 C 1.457031 -5.28125 1.390625 -4.945312 1.375 -4.511719 L 0.484375 -4.511719 C 0.492188 -5.121094 0.605469 -5.617188 0.820312 -6 C 1.203125 -6.679688 1.875 -7.015625 2.835938 -7.015625 C 3.636719 -7.015625 4.222656 -6.800781 4.59375 -6.367188 C 4.960938 -5.933594 5.148438 -5.453125 5.148438 -4.921875 C 5.148438 -4.363281 4.949219 -3.882812 4.554688 -3.484375 C 4.328125 -3.253906 3.917969 -2.976562 3.328125 -2.648438 L 2.660156 -2.273438 C 2.34375 -2.097656 2.089844 -1.933594 1.910156 -1.773438 C 1.585938 -1.488281 1.378906 -1.175781 1.292969 -0.828125 L 5.113281 -0.828125 L 5.113281 0 Z M 0.3125 0 \"/>\n",
       "</symbol>\n",
       "<symbol overflow=\"visible\" id=\"glyph-8044450-6\">\n",
       "<path style=\"stroke:none;\" d=\"M 2.925781 -7.023438 C 3.707031 -7.023438 4.25 -6.820312 4.558594 -6.414062 C 4.867188 -6.007812 5.019531 -5.589844 5.019531 -5.160156 L 4.148438 -5.160156 C 4.097656 -5.4375 4.015625 -5.65625 3.902344 -5.8125 C 3.691406 -6.105469 3.367188 -6.25 2.9375 -6.25 C 2.445312 -6.25 2.058594 -6.023438 1.765625 -5.570312 C 1.476562 -5.117188 1.316406 -4.464844 1.285156 -3.617188 C 1.484375 -3.914062 1.738281 -4.136719 2.046875 -4.28125 C 2.328125 -4.414062 2.636719 -4.476562 2.984375 -4.476562 C 3.570312 -4.476562 4.082031 -4.289062 4.515625 -3.914062 C 4.953125 -3.539062 5.171875 -2.984375 5.171875 -2.242188 C 5.171875 -1.605469 4.964844 -1.042969 4.550781 -0.554688 C 4.136719 -0.0625 3.546875 0.179688 2.78125 0.179688 C 2.128906 0.179688 1.5625 -0.0664062 1.089844 -0.5625 C 0.613281 -1.058594 0.375 -1.894531 0.375 -3.070312 C 0.375 -3.941406 0.480469 -4.679688 0.695312 -5.28125 C 1.101562 -6.441406 1.84375 -7.023438 2.925781 -7.023438 Z M 2.859375 -0.601562 C 3.324219 -0.601562 3.667969 -0.757812 3.898438 -1.066406 C 4.128906 -1.378906 4.242188 -1.746094 4.242188 -2.167969 C 4.242188 -2.527344 4.140625 -2.867188 3.9375 -3.191406 C 3.730469 -3.515625 3.359375 -3.675781 2.816406 -3.675781 C 2.4375 -3.675781 2.109375 -3.550781 1.824219 -3.300781 C 1.539062 -3.050781 1.398438 -2.671875 1.398438 -2.167969 C 1.398438 -1.726562 1.527344 -1.351562 1.785156 -1.050781 C 2.042969 -0.75 2.402344 -0.601562 2.859375 -0.601562 Z M 2.859375 -0.601562 \"/>\n",
       "</symbol>\n",
       "<symbol overflow=\"visible\" id=\"glyph-8044450-7\">\n",
       "<path style=\"stroke:none;\" d=\"M 3.304688 -2.476562 L 3.304688 -5.644531 L 1.0625 -2.476562 Z M 3.320312 0 L 3.320312 -1.710938 L 0.253906 -1.710938 L 0.253906 -2.570312 L 3.457031 -7.011719 L 4.199219 -7.011719 L 4.199219 -2.476562 L 5.230469 -2.476562 L 5.230469 -1.710938 L 4.199219 -1.710938 L 4.199219 0 Z M 3.320312 0 \"/>\n",
       "</symbol>\n",
       "<symbol overflow=\"visible\" id=\"glyph-8044450-8\">\n",
       "<path style=\"stroke:none;\" d=\"M 1.234375 -1.78125 C 1.292969 -1.28125 1.527344 -0.933594 1.933594 -0.742188 C 2.140625 -0.644531 2.382812 -0.59375 2.65625 -0.59375 C 3.175781 -0.59375 3.5625 -0.761719 3.8125 -1.09375 C 4.0625 -1.425781 4.1875 -1.792969 4.1875 -2.195312 C 4.1875 -2.683594 4.039062 -3.0625 3.742188 -3.328125 C 3.445312 -3.597656 3.085938 -3.730469 2.671875 -3.730469 C 2.367188 -3.730469 2.109375 -3.671875 1.890625 -3.554688 C 1.675781 -3.4375 1.492188 -3.273438 1.335938 -3.066406 L 0.578125 -3.109375 L 1.109375 -6.875 L 4.742188 -6.875 L 4.742188 -6.023438 L 1.765625 -6.023438 L 1.46875 -4.082031 C 1.632812 -4.207031 1.789062 -4.296875 1.933594 -4.359375 C 2.195312 -4.46875 2.496094 -4.523438 2.835938 -4.523438 C 3.476562 -4.523438 4.023438 -4.316406 4.46875 -3.902344 C 4.914062 -3.488281 5.136719 -2.964844 5.136719 -2.328125 C 5.136719 -1.667969 4.933594 -1.085938 4.523438 -0.582031 C 4.117188 -0.078125 3.464844 0.175781 2.570312 0.175781 C 2 0.175781 1.496094 0.015625 1.058594 -0.304688 C 0.621094 -0.625 0.375 -1.117188 0.320312 -1.78125 Z M 1.234375 -1.78125 \"/>\n",
       "</symbol>\n",
       "</g>\n",
       "</defs>\n",
       "<g id=\"surface1\">\n",
       "<rect x=\"0\" y=\"0\" width=\"600\" height=\"300\" style=\"fill:rgb(0%,0%,0%);fill-opacity:1;stroke:none;\"/>\n",
       "<path style=\"fill:none;stroke-width:2;stroke-linecap:butt;stroke-linejoin:miter;stroke:rgb(100%,64.705882%,0%);stroke-opacity:1;stroke-miterlimit:10;\" d=\"M 93.902344 163.214844 C 132.117188 177.121094 170.332031 191.027344 208.550781 204.9375 \"/>\n",
       "<path style=\" stroke:none;fill-rule:nonzero;fill:rgb(100%,64.705882%,0%);fill-opacity:1;\" d=\"M 209.976562 199.980469 L 219.886719 209.0625 L 206.457031 209.648438 \"/>\n",
       "<g style=\"fill:rgb(100%,100%,100%);fill-opacity:1;\">\n",
       "  <use xlink:href=\"#glyph-8044450-1\" x=\"147.163216\" y=\"186.138515\"/>\n",
       "  <use xlink:href=\"#glyph-8044450-2\" x=\"152.724739\" y=\"186.138515\"/>\n",
       "  <use xlink:href=\"#glyph-8044450-3\" x=\"158.286263\" y=\"186.138515\"/>\n",
       "  <use xlink:href=\"#glyph-8044450-2\" x=\"161.064583\" y=\"186.138515\"/>\n",
       "</g>\n",
       "<path style=\"fill:none;stroke-width:0.5;stroke-linecap:butt;stroke-linejoin:miter;stroke:rgb(100%,100%,100%);stroke-opacity:1;stroke-miterlimit:10;\" d=\"M 92.402344 156.820312 C 121.164062 126.625 149.925781 96.433594 178.6875 66.238281 \"/>\n",
       "<path style=\" stroke:none;fill-rule:nonzero;fill:rgb(100%,100%,100%);fill-opacity:1;\" d=\"M 174.871094 63.988281 L 185.183594 59.421875 L 181.121094 69.941406 \"/>\n",
       "<g style=\"fill:rgb(100%,100%,100%);fill-opacity:1;\">\n",
       "  <use xlink:href=\"#glyph-8044450-1\" x=\"129.060087\" y=\"108.120096\"/>\n",
       "  <use xlink:href=\"#glyph-8044450-4\" x=\"134.62161\" y=\"108.120096\"/>\n",
       "  <use xlink:href=\"#glyph-8044450-3\" x=\"140.183134\" y=\"108.120096\"/>\n",
       "  <use xlink:href=\"#glyph-8044450-2\" x=\"142.961454\" y=\"108.120096\"/>\n",
       "</g>\n",
       "<path style=\"fill:none;stroke-width:2;stroke-linecap:butt;stroke-linejoin:miter;stroke:rgb(100%,64.705882%,0%);stroke-opacity:1;stroke-miterlimit:10;\" d=\"M 224.171875 205.269531 C 213.898438 161.003906 203.628906 116.734375 193.355469 72.46875 \"/>\n",
       "<path style=\" stroke:none;fill-rule:nonzero;fill:rgb(100%,64.705882%,0%);fill-opacity:1;\" d=\"M 188.472656 74.183594 L 190.675781 60.921875 L 198.496094 71.859375 \"/>\n",
       "<g style=\"fill:rgb(100%,100%,100%);fill-opacity:1;\">\n",
       "  <use xlink:href=\"#glyph-8044450-5\" x=\"200.473042\" y=\"133.095154\"/>\n",
       "  <use xlink:href=\"#glyph-8044450-3\" x=\"206.034566\" y=\"133.095154\"/>\n",
       "  <use xlink:href=\"#glyph-8044450-2\" x=\"208.812886\" y=\"133.095154\"/>\n",
       "</g>\n",
       "<path style=\"fill:none;stroke-width:0.5;stroke-linecap:butt;stroke-linejoin:miter;stroke:rgb(100%,100%,100%);stroke-opacity:1;stroke-miterlimit:10;\" d=\"M 231.457031 210.191406 C 276.773438 203.148438 322.089844 196.101562 367.410156 189.058594 \"/>\n",
       "<path style=\" stroke:none;fill-rule:nonzero;fill:rgb(100%,100%,100%);fill-opacity:1;\" d=\"M 366.683594 184.800781 L 377.640625 187.464844 L 368.007812 193.332031 \"/>\n",
       "<g style=\"fill:rgb(100%,100%,100%);fill-opacity:1;\">\n",
       "  <use xlink:href=\"#glyph-8044450-1\" x=\"292.03632\" y=\"198.829062\"/>\n",
       "  <use xlink:href=\"#glyph-8044450-2\" x=\"297.597843\" y=\"198.829062\"/>\n",
       "  <use xlink:href=\"#glyph-8044450-2\" x=\"303.159367\" y=\"198.829062\"/>\n",
       "  <use xlink:href=\"#glyph-8044450-3\" x=\"308.72089\" y=\"198.829062\"/>\n",
       "  <use xlink:href=\"#glyph-8044450-2\" x=\"311.49921\" y=\"198.829062\"/>\n",
       "</g>\n",
       "<path style=\"fill:none;stroke-width:2;stroke-linecap:butt;stroke-linejoin:miter;stroke:rgb(100%,64.705882%,0%);stroke-opacity:1;stroke-miterlimit:10;\" d=\"M 195.246094 54.136719 C 240.171875 47.023438 285.101562 39.910156 330.027344 32.792969 \"/>\n",
       "<path style=\" stroke:none;fill-rule:nonzero;fill:rgb(100%,64.705882%,0%);fill-opacity:1;\" d=\"M 328.675781 27.800781 L 341.746094 30.9375 L 330.285156 37.964844 \"/>\n",
       "<g style=\"fill:rgb(100%,100%,100%);fill-opacity:1;\">\n",
       "  <use xlink:href=\"#glyph-8044450-6\" x=\"261.546106\" y=\"42.538368\"/>\n",
       "  <use xlink:href=\"#glyph-8044450-3\" x=\"267.10763\" y=\"42.538368\"/>\n",
       "  <use xlink:href=\"#glyph-8044450-2\" x=\"269.88595\" y=\"42.538368\"/>\n",
       "</g>\n",
       "<path style=\"fill:none;stroke-width:2;stroke-linecap:butt;stroke-linejoin:miter;stroke:rgb(100%,64.705882%,0%);stroke-opacity:1;stroke-miterlimit:10;\" d=\"M 388.597656 189.820312 C 424.820312 213.402344 461.039062 236.988281 497.261719 260.574219 \"/>\n",
       "<path style=\" stroke:none;fill-rule:nonzero;fill:rgb(100%,64.705882%,0%);fill-opacity:1;\" d=\"M 499.109375 255.636719 L 506.710938 266.726562 L 493.492188 264.261719 \"/>\n",
       "<g style=\"fill:rgb(100%,100%,100%);fill-opacity:1;\">\n",
       "  <use xlink:href=\"#glyph-8044450-1\" x=\"440.703182\" y=\"228.272276\"/>\n",
       "  <use xlink:href=\"#glyph-8044450-3\" x=\"446.264706\" y=\"228.272276\"/>\n",
       "  <use xlink:href=\"#glyph-8044450-2\" x=\"449.043026\" y=\"228.272276\"/>\n",
       "</g>\n",
       "<path style=\"fill:none;stroke-width:2;stroke-linecap:butt;stroke-linejoin:miter;stroke:rgb(100%,64.705882%,0%);stroke-opacity:1;stroke-miterlimit:10;\" d=\"M 349.015625 35.847656 C 359.199219 80.269531 369.386719 124.6875 379.570312 169.109375 \"/>\n",
       "<path style=\" stroke:none;fill-rule:nonzero;fill:rgb(100%,64.705882%,0%);fill-opacity:1;\" d=\"M 384.46875 167.441406 L 382.230469 180.695312 L 374.4375 169.738281 \"/>\n",
       "<g style=\"fill:rgb(100%,100%,100%);fill-opacity:1;\">\n",
       "  <use xlink:href=\"#glyph-8044450-1\" x=\"358.670907\" y=\"108.272276\"/>\n",
       "  <use xlink:href=\"#glyph-8044450-3\" x=\"364.232431\" y=\"108.272276\"/>\n",
       "  <use xlink:href=\"#glyph-8044450-2\" x=\"367.010751\" y=\"108.272276\"/>\n",
       "</g>\n",
       "<path style=\"fill-rule:nonzero;fill:rgb(100%,100%,100%);fill-opacity:1;stroke-width:1;stroke-linecap:butt;stroke-linejoin:miter;stroke:rgb(100%,100%,100%);stroke-opacity:1;stroke-miterlimit:10;\" d=\"M 94.261719 161.164062 C 94.261719 164.476562 91.578125 167.164062 88.261719 167.164062 C 84.949219 167.164062 82.261719 164.476562 82.261719 161.164062 C 82.261719 157.851562 84.949219 155.164062 88.261719 155.164062 C 91.578125 155.164062 94.261719 157.851562 94.261719 161.164062 Z M 94.261719 161.164062 \"/>\n",
       "<g style=\"fill:rgb(0%,0%,0%);fill-opacity:1;\">\n",
       "  <use xlink:href=\"#glyph-8044450-1\" x=\"85.481706\" y=\"164.644902\"/>\n",
       "</g>\n",
       "<path style=\"fill-rule:nonzero;fill:rgb(100%,100%,100%);fill-opacity:1;stroke-width:1;stroke-linecap:butt;stroke-linejoin:miter;stroke:rgb(100%,100%,100%);stroke-opacity:1;stroke-miterlimit:10;\" d=\"M 231.527344 211.113281 C 231.527344 214.425781 228.839844 217.113281 225.527344 217.113281 C 222.214844 217.113281 219.527344 214.425781 219.527344 211.113281 C 219.527344 207.800781 222.214844 205.113281 225.527344 205.113281 C 228.839844 205.113281 231.527344 207.800781 231.527344 211.113281 Z M 231.527344 211.113281 \"/>\n",
       "<g style=\"fill:rgb(0%,0%,0%);fill-opacity:1;\">\n",
       "  <use xlink:href=\"#glyph-8044450-5\" x=\"222.746093\" y=\"214.621874\"/>\n",
       "</g>\n",
       "<path style=\"fill-rule:nonzero;fill:rgb(100%,100%,100%);fill-opacity:1;stroke-width:1;stroke-linecap:butt;stroke-linejoin:miter;stroke:rgb(100%,100%,100%);stroke-opacity:1;stroke-miterlimit:10;\" d=\"M 195.320312 55.078125 C 195.320312 58.390625 192.632812 61.078125 189.320312 61.078125 C 186.007812 61.078125 183.320312 58.390625 183.320312 55.078125 C 183.320312 51.761719 186.007812 49.078125 189.320312 49.078125 C 192.632812 49.078125 195.320312 51.761719 195.320312 55.078125 Z M 195.320312 55.078125 \"/>\n",
       "<g style=\"fill:rgb(0%,0%,0%);fill-opacity:1;\">\n",
       "  <use xlink:href=\"#glyph-8044450-4\" x=\"186.539835\" y=\"58.577712\"/>\n",
       "</g>\n",
       "<path style=\"fill-rule:nonzero;fill:rgb(100%,100%,100%);fill-opacity:1;stroke-width:1;stroke-linecap:butt;stroke-linejoin:miter;stroke:rgb(100%,100%,100%);stroke-opacity:1;stroke-miterlimit:10;\" d=\"M 389.570312 186.542969 C 389.570312 189.859375 386.882812 192.542969 383.570312 192.542969 C 380.257812 192.542969 377.570312 189.859375 377.570312 186.542969 C 377.570312 183.230469 380.257812 180.542969 383.570312 180.542969 C 386.882812 180.542969 389.570312 183.230469 389.570312 186.542969 Z M 389.570312 186.542969 \"/>\n",
       "<g style=\"fill:rgb(0%,0%,0%);fill-opacity:1;\">\n",
       "  <use xlink:href=\"#glyph-8044450-7\" x=\"380.789437\" y=\"190.050411\"/>\n",
       "</g>\n",
       "<path style=\"fill-rule:nonzero;fill:rgb(100%,100%,100%);fill-opacity:1;stroke-width:1;stroke-linecap:butt;stroke-linejoin:miter;stroke:rgb(100%,100%,100%);stroke-opacity:1;stroke-miterlimit:10;\" d=\"M 353.671875 30 C 353.671875 33.3125 350.988281 36 347.671875 36 C 344.359375 36 341.671875 33.3125 341.671875 30 C 341.671875 26.6875 344.359375 24 347.671875 24 C 350.988281 24 353.671875 26.6875 353.671875 30 Z M 353.671875 30 \"/>\n",
       "<g style=\"fill:rgb(0%,0%,0%);fill-opacity:1;\">\n",
       "  <use xlink:href=\"#glyph-8044450-8\" x=\"344.892221\" y=\"33.4375\"/>\n",
       "</g>\n",
       "<path style=\"fill-rule:nonzero;fill:rgb(100%,100%,100%);fill-opacity:1;stroke-width:1;stroke-linecap:butt;stroke-linejoin:miter;stroke:rgb(100%,100%,100%);stroke-opacity:1;stroke-miterlimit:10;\" d=\"M 517.738281 270 C 517.738281 273.3125 515.050781 276 511.738281 276 C 508.421875 276 505.738281 273.3125 505.738281 270 C 505.738281 266.6875 508.421875 264 511.738281 264 C 515.050781 264 517.738281 266.6875 517.738281 270 Z M 517.738281 270 \"/>\n",
       "<g style=\"fill:rgb(0%,0%,0%);fill-opacity:1;\">\n",
       "  <use xlink:href=\"#glyph-8044450-6\" x=\"508.956771\" y=\"273.510742\"/>\n",
       "</g>\n",
       "</g>\n",
       "</svg>\n"
      ],
      "text/plain": []
     },
     "execution_count": 7,
     "metadata": {},
     "output_type": "execute_result"
    }
   ],
   "source": [
    "tmp_edge_list = Array{Tuple{Int64, Int64},1}();\n",
    "for (s,t) ∈ p\n",
    "    push!(tmp_edge_list, (t, s));\n",
    "end\n",
    "tmp_edge_list;\n",
    "\n",
    "number_of_edges = length(myedges);\n",
    "edge_weights = Array{Float64,1}()\n",
    "for i ∈ 0:number_of_edges-1\n",
    "    push!(edge_weights,myedges[i].weight)\n",
    "end\n",
    "\n",
    "g = _convert(dag); # not a good idea ...\n",
    "@drawsvg begin\n",
    "    background(\"black\")\n",
    "    sethue(\"white\")\n",
    "    drawgraph(g, layout=stress, vertexlabels = 1:nv(g),\n",
    "    edgestrokecolors = (e, f, t, s, d) -> ((f,t) ∈ tmp_edge_list ? colorant\"orange\" : colorant\"white\"),\n",
    "    edgestrokeweights = (n, from, to, edgesrc, edgedest) -> ((from, to) ∈ tmp_edge_list ? 2.0 : 0.5),\n",
    "    edgelabels = edge_weights)\n",
    "end 600 300"
   ]
  }
 ],
 "metadata": {
  "kernelspec": {
   "display_name": "Julia 1.10.2",
   "language": "julia",
   "name": "julia-1.10"
  },
  "language_info": {
   "file_extension": ".jl",
   "mimetype": "application/julia",
   "name": "julia",
   "version": "1.10.2"
  }
 },
 "nbformat": 4,
 "nbformat_minor": 5
}
