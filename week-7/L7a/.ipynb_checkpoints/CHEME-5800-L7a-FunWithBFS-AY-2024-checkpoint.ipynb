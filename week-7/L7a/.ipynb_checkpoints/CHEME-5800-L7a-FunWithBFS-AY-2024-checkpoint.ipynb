{
 "cells": [
  {
   "cell_type": "markdown",
   "id": "8c50a964-772c-4f46-9ced-e6b3548a5d1b",
   "metadata": {},
   "source": [
    "# Example: Breadth-First Search (BFS) on some simple Trees and Graphs\n",
    "Fill me in"
   ]
  },
  {
   "cell_type": "markdown",
   "id": "f7f89830-02fb-443f-a7e0-5f0220218df1",
   "metadata": {},
   "source": [
    "## Setup\n",
    "Fill me in"
   ]
  },
  {
   "cell_type": "code",
   "execution_count": 2,
   "id": "0471397d-d900-4dd8-8383-0e436f1a74bc",
   "metadata": {},
   "outputs": [
    {
     "name": "stderr",
     "output_type": "stream",
     "text": [
      "\u001b[32m\u001b[1m  Activating\u001b[22m\u001b[39m project at `~/Desktop/julia_work/CHEME-4800-5800-Examples-AY-2024/week-7/L7a`\n",
      "\u001b[32m\u001b[1m  No Changes\u001b[22m\u001b[39m to `~/Desktop/julia_work/CHEME-4800-5800-Examples-AY-2024/week-7/L7a/Project.toml`\n",
      "\u001b[32m\u001b[1m  No Changes\u001b[22m\u001b[39m to `~/Desktop/julia_work/CHEME-4800-5800-Examples-AY-2024/week-7/L7a/Manifest.toml`\n",
      "\u001b[32m\u001b[1m    Updating\u001b[22m\u001b[39m registry at `~/.julia/registries/General.toml`\n",
      "\u001b[32m\u001b[1m  No Changes\u001b[22m\u001b[39m to `~/Desktop/julia_work/CHEME-4800-5800-Examples-AY-2024/week-7/L7a/Project.toml`\n",
      "\u001b[32m\u001b[1m  No Changes\u001b[22m\u001b[39m to `~/Desktop/julia_work/CHEME-4800-5800-Examples-AY-2024/week-7/L7a/Manifest.toml`\n"
     ]
    }
   ],
   "source": [
    "include(\"Include.jl\");"
   ]
  },
  {
   "cell_type": "markdown",
   "id": "019901fb-f422-4719-83df-0c1460f81bcc",
   "metadata": {},
   "source": [
    "## Task 1: Build an instance of `MySimpleDirectedGraphModel` for an example graph\n",
    "Fill me in"
   ]
  },
  {
   "cell_type": "code",
   "execution_count": 3,
   "id": "1f5788df-fa3a-41ee-8bc7-555d01303330",
   "metadata": {},
   "outputs": [],
   "source": [
    "path_to_edge_file = joinpath(_PATH_TO_DATA, \"soc-sign-bitcoinalpha.csv\");"
   ]
  },
  {
   "cell_type": "markdown",
   "id": "a4c02118-1cba-4d5f-a4fe-30fdb263c8df",
   "metadata": {},
   "source": [
    "Next, let's load build a dictionary of `edges,` where the data for the edges (source id, target id, and weight) is stored in a `MyGraphEdgeModel` model. \n",
    "* We utilize the `readedgesfile` function from `src/Files.jl` to read the edge data. This function requires the path to the edges file and information about the delimiter and comment characters. It returns a dictionary that holds instances of `MyGraphEdgeModel`"
   ]
  },
  {
   "cell_type": "code",
   "execution_count": 5,
   "id": "a9d2658f-bf99-47ad-9cf3-eb448425bed1",
   "metadata": {},
   "outputs": [
    {
     "data": {
      "text/plain": [
       "Dict{Int64, MyGraphEdgeModel} with 24186 entries:\n",
       "  11950 => MyGraphEdgeModel(11950, 1448, 74, 3.0)\n",
       "  1703  => MyGraphEdgeModel(1703, 3, 111, 1.0)\n",
       "  12427 => MyGraphEdgeModel(12427, 557, 81, 1.0)\n",
       "  7685  => MyGraphEdgeModel(7685, 28, 1455, 3.0)\n",
       "  18374 => MyGraphEdgeModel(18374, 1727, 232, 2.0)\n",
       "  3406  => MyGraphEdgeModel(3406, 8, 142, 1.0)\n",
       "  23970 => MyGraphEdgeModel(23970, 2536, 7373, 1.0)\n",
       "  1090  => MyGraphEdgeModel(1090, 436, 2, 1.0)\n",
       "  2015  => MyGraphEdgeModel(2015, 4, 437, 4.0)\n",
       "  18139 => MyGraphEdgeModel(18139, 220, 1733, 1.0)\n",
       "  17088 => MyGraphEdgeModel(17088, 177, 1293, 1.0)\n",
       "  11280 => MyGraphEdgeModel(11280, 84, 65, 2.0)\n",
       "  16805 => MyGraphEdgeModel(16805, 175, 449, 2.0)\n",
       "  3220  => MyGraphEdgeModel(3220, 1566, 8, 3.0)\n",
       "  11251 => MyGraphEdgeModel(11251, 64, 902, 1.0)\n",
       "  422   => MyGraphEdgeModel(422, 1, 1881, 2.0)\n",
       "  15370 => MyGraphEdgeModel(15370, 133, 1272, 1.0)\n",
       "  15859 => MyGraphEdgeModel(15859, 2219, 146, 1.0)\n",
       "  4030  => MyGraphEdgeModel(4030, 10, 97, 3.0)\n",
       "  8060  => MyGraphEdgeModel(8060, 59, 31, 2.0)\n",
       "  14167 => MyGraphEdgeModel(14167, 109, 422, 2.0)\n",
       "  8660  => MyGraphEdgeModel(8660, 48, 35, 1.0)\n",
       "  18475 => MyGraphEdgeModel(18475, 1972, 239, 2.0)\n",
       "  14221 => MyGraphEdgeModel(14221, 110, 959, 2.0)\n",
       "  15545 => MyGraphEdgeModel(15545, 139, 2522, 1.0)\n",
       "  ⋮     => ⋮"
      ]
     },
     "execution_count": 5,
     "metadata": {},
     "output_type": "execute_result"
    }
   ],
   "source": [
    "myedges = readedgesfile(path_to_edge_file, delim=',', comment='#')"
   ]
  },
  {
   "cell_type": "markdown",
   "id": "768bc0f2-951e-438c-9e68-b7435424296e",
   "metadata": {},
   "source": [
    "Finally, now that we have the `myedges` dictionary, we can build a graph instance. Since this is a directed graph, we'll construct a `MySimpleDirectedGraphModel` instance using it's `build(...)` method in the `src/Factory.jl` file."
   ]
  },
  {
   "cell_type": "code",
   "execution_count": 7,
   "id": "eb8b6fc7-ebfc-4f1e-93c7-c8f40f6ae1c9",
   "metadata": {},
   "outputs": [],
   "source": [
    "dag = build(MySimpleDirectedGraphModel, myedges);"
   ]
  },
  {
   "cell_type": "markdown",
   "id": "9880bcae-77cc-4492-b6c6-9492f6a8da84",
   "metadata": {},
   "source": [
    "## Task 2: Use our BFS implementation to visit the nodes of `dag`\n",
    "The completed implementation of the `BFS` algorithm can be found in the `src/Traversal.jl` file. "
   ]
  },
  {
   "cell_type": "code",
   "execution_count": null,
   "id": "e211d168-7d84-4daa-80ec-a8faa8ae0ca9",
   "metadata": {},
   "outputs": [],
   "source": []
  }
 ],
 "metadata": {
  "kernelspec": {
   "display_name": "Julia 1.10.2",
   "language": "julia",
   "name": "julia-1.10"
  },
  "language_info": {
   "file_extension": ".jl",
   "mimetype": "application/julia",
   "name": "julia",
   "version": "1.10.2"
  }
 },
 "nbformat": 4,
 "nbformat_minor": 5
}
