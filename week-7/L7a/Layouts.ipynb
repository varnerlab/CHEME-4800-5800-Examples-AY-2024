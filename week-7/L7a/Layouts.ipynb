{
 "cells": [
  {
   "cell_type": "code",
   "execution_count": 1,
   "id": "5b411ec8-a9cb-4c2a-98ab-15ad3d9d8d15",
   "metadata": {},
   "outputs": [
    {
     "name": "stderr",
     "output_type": "stream",
     "text": [
      "\u001b[32m\u001b[1m  Activating\u001b[22m\u001b[39m project at `~/Desktop/julia_work/CHEME-4800-5800-Examples-AY-2024/week-7/L7a`\n",
      "\u001b[32m\u001b[1m  No Changes\u001b[22m\u001b[39m to `~/Desktop/julia_work/CHEME-4800-5800-Examples-AY-2024/week-7/L7a/Project.toml`\n",
      "\u001b[32m\u001b[1m  No Changes\u001b[22m\u001b[39m to `~/Desktop/julia_work/CHEME-4800-5800-Examples-AY-2024/week-7/L7a/Manifest.toml`\n",
      "\u001b[32m\u001b[1m    Updating\u001b[22m\u001b[39m registry at `~/.julia/registries/General.toml`\n",
      "\u001b[32m\u001b[1m  No Changes\u001b[22m\u001b[39m to `~/Desktop/julia_work/CHEME-4800-5800-Examples-AY-2024/week-7/L7a/Project.toml`\n",
      "\u001b[32m\u001b[1m  No Changes\u001b[22m\u001b[39m to `~/Desktop/julia_work/CHEME-4800-5800-Examples-AY-2024/week-7/L7a/Manifest.toml`\n"
     ]
    },
    {
     "data": {
      "text/plain": [
       "computeshortestpaths (generic function with 1 method)"
      ]
     },
     "execution_count": 1,
     "metadata": {},
     "output_type": "execute_result"
    }
   ],
   "source": [
    "include(\"Include.jl\")"
   ]
  },
  {
   "cell_type": "code",
   "execution_count": 2,
   "id": "44373c60-b342-40d2-90bf-3c9022f09f85",
   "metadata": {},
   "outputs": [
    {
     "data": {
      "text/plain": [
       "frame (generic function with 1 method)"
      ]
     },
     "execution_count": 2,
     "metadata": {},
     "output_type": "execute_result"
    }
   ],
   "source": [
    "function frame(scene, framenumber, g)\n",
    "    framenumber == 1 && return\n",
    "\n",
    "    # run Dijkstra's algorithm\n",
    "\n",
    "    ds = dijkstra_shortest_paths(g, 1, allpaths=true, trackvertices=true)\n",
    "\n",
    "    # for which destination vertex?\n",
    "    destv = framenumber\n",
    "\n",
    "    # get the vertices on the path\n",
    "    _, ep = enumerate_paths(ds, [1, destv])\n",
    "\n",
    "    # convert to edges\n",
    "    vlist = [Edge(p[1] => p[2]) for p in zip(ep, circshift(ep, -1))]\n",
    "\n",
    "    # draw background graph\n",
    "    background(\"grey10\")\n",
    "    sethue(\"grey40\")\n",
    "    drawgraph(g, layout=stress, vertexshapes=:circle)\n",
    "    path = Point[]\n",
    "\n",
    "    # draw shortest path\n",
    "    drawgraph(g,\n",
    "        layout=stress,\n",
    "        vertexlabelfontsizes=2,\n",
    "        vertexshapes=:circle,\n",
    "        edgelist = vlist[1:end-1],\n",
    "        edgefunction = (n, s, d, f, t) -> begin\n",
    "            push!(path, f)\n",
    "            push!(path, t)\n",
    "        end)\n",
    "    sethue(\"orange\")\n",
    "    setline(10)\n",
    "    setlinejoin(\"bevel\")\n",
    "    poly(path, :stroke, close=false)\n",
    "    sethue(\"red\")\n",
    "    circle.(path[[1, end]], 2, :fill)\n",
    "end"
   ]
  },
  {
   "cell_type": "code",
   "execution_count": 3,
   "id": "6c0ce1b6-4685-48b7-8de3-0a9e6d7981ba",
   "metadata": {},
   "outputs": [],
   "source": [
    "# load the data -\n",
    "# path_to_data_file = joinpath(_PATH_TO_DATA, \"soc-sign-bitcoinalpha.csv\");\n",
    "path_to_data_file = joinpath(_PATH_TO_DATA, \"SimpleGraph.txt\");\n",
    "\n",
    "# read the edges -\n",
    "myedges = readedgesfile(path_to_data_file, delim=',', comment='#')\n",
    "\n",
    "# build the graph -\n",
    "dag = build(MySimpleDirectedGraphModel, myedges)\n",
    "g = _convert(dag, maxnodes = 150, maxedges=10000000, offset=1);"
   ]
  },
  {
   "cell_type": "code",
   "execution_count": 10,
   "id": "fa69ff7e-6786-4762-9cb5-9c57c061c057",
   "metadata": {},
   "outputs": [
    {
     "data": {
      "image/svg+xml": [
       "<?xml version=\"1.0\" encoding=\"UTF-8\"?>\n",
       "<svg xmlns=\"http://www.w3.org/2000/svg\" xmlns:xlink=\"http://www.w3.org/1999/xlink\" width=\"600pt\" height=\"600pt\" viewBox=\"0 0 600 600\" version=\"1.1\">\n",
       "<g id=\"surface26\">\n",
       "<rect x=\"0\" y=\"0\" width=\"600\" height=\"600\" style=\"fill:rgb(10.196078%,10.196078%,10.196078%);fill-opacity:1;stroke:none;\"/>\n",
       "<path style=\"fill:none;stroke-width:1;stroke-linecap:butt;stroke-linejoin:miter;stroke:rgb(100%,64.705882%,0%);stroke-opacity:1;stroke-miterlimit:10;\" d=\"M 30 314.234375 L 205.035156 377.929688 \"/>\n",
       "<path style=\"fill:none;stroke-width:1;stroke-linecap:butt;stroke-linejoin:miter;stroke:rgb(100%,64.705882%,0%);stroke-opacity:1;stroke-miterlimit:10;\" d=\"M 30 314.234375 L 158.867188 178.957031 \"/>\n",
       "<path style=\"fill:none;stroke-width:1;stroke-linecap:butt;stroke-linejoin:miter;stroke:rgb(100%,64.705882%,0%);stroke-opacity:1;stroke-miterlimit:10;\" d=\"M 205.035156 377.929688 L 158.867188 178.957031 \"/>\n",
       "<path style=\"fill:none;stroke-width:1;stroke-linecap:butt;stroke-linejoin:miter;stroke:rgb(100%,64.705882%,0%);stroke-opacity:1;stroke-miterlimit:10;\" d=\"M 205.035156 377.929688 L 406.566406 346.601562 \"/>\n",
       "<path style=\"fill:none;stroke-width:1;stroke-linecap:butt;stroke-linejoin:miter;stroke:rgb(100%,64.705882%,0%);stroke-opacity:1;stroke-miterlimit:10;\" d=\"M 158.867188 178.957031 L 360.789062 146.980469 \"/>\n",
       "<path style=\"fill:none;stroke-width:1;stroke-linecap:butt;stroke-linejoin:miter;stroke:rgb(100%,64.705882%,0%);stroke-opacity:1;stroke-miterlimit:10;\" d=\"M 406.566406 346.601562 L 360.789062 146.980469 \"/>\n",
       "<path style=\"fill:none;stroke-width:1;stroke-linecap:butt;stroke-linejoin:miter;stroke:rgb(100%,64.705882%,0%);stroke-opacity:1;stroke-miterlimit:10;\" d=\"M 406.566406 346.601562 L 570 453.019531 \"/>\n",
       "<path style=\"fill-rule:nonzero;fill:rgb(100%,64.705882%,0%);fill-opacity:1;stroke-width:1;stroke-linecap:butt;stroke-linejoin:miter;stroke:rgb(100%,64.705882%,0%);stroke-opacity:1;stroke-miterlimit:10;\" d=\"M 33 314.234375 C 33 315.890625 31.65625 317.234375 30 317.234375 C 28.34375 317.234375 27 315.890625 27 314.234375 C 27 312.578125 28.34375 311.234375 30 311.234375 C 31.65625 311.234375 33 312.578125 33 314.234375 Z M 33 314.234375 \"/>\n",
       "<path style=\"fill-rule:nonzero;fill:rgb(100%,64.705882%,0%);fill-opacity:1;stroke-width:1;stroke-linecap:butt;stroke-linejoin:miter;stroke:rgb(100%,64.705882%,0%);stroke-opacity:1;stroke-miterlimit:10;\" d=\"M 208.035156 377.929688 C 208.035156 379.585938 206.691406 380.929688 205.035156 380.929688 C 203.378906 380.929688 202.035156 379.585938 202.035156 377.929688 C 202.035156 376.273438 203.378906 374.929688 205.035156 374.929688 C 206.691406 374.929688 208.035156 376.273438 208.035156 377.929688 Z M 208.035156 377.929688 \"/>\n",
       "<path style=\"fill-rule:nonzero;fill:rgb(100%,64.705882%,0%);fill-opacity:1;stroke-width:1;stroke-linecap:butt;stroke-linejoin:miter;stroke:rgb(100%,64.705882%,0%);stroke-opacity:1;stroke-miterlimit:10;\" d=\"M 161.867188 178.957031 C 161.867188 180.613281 160.523438 181.957031 158.867188 181.957031 C 157.207031 181.957031 155.867188 180.613281 155.867188 178.957031 C 155.867188 177.300781 157.207031 175.957031 158.867188 175.957031 C 160.523438 175.957031 161.867188 177.300781 161.867188 178.957031 Z M 161.867188 178.957031 \"/>\n",
       "<path style=\"fill-rule:nonzero;fill:rgb(100%,64.705882%,0%);fill-opacity:1;stroke-width:1;stroke-linecap:butt;stroke-linejoin:miter;stroke:rgb(100%,64.705882%,0%);stroke-opacity:1;stroke-miterlimit:10;\" d=\"M 409.566406 346.601562 C 409.566406 348.257812 408.222656 349.601562 406.566406 349.601562 C 404.910156 349.601562 403.566406 348.257812 403.566406 346.601562 C 403.566406 344.945312 404.910156 343.601562 406.566406 343.601562 C 408.222656 343.601562 409.566406 344.945312 409.566406 346.601562 Z M 409.566406 346.601562 \"/>\n",
       "<path style=\"fill-rule:nonzero;fill:rgb(100%,64.705882%,0%);fill-opacity:1;stroke-width:1;stroke-linecap:butt;stroke-linejoin:miter;stroke:rgb(100%,64.705882%,0%);stroke-opacity:1;stroke-miterlimit:10;\" d=\"M 363.789062 146.980469 C 363.789062 148.636719 362.449219 149.980469 360.789062 149.980469 C 359.132812 149.980469 357.789062 148.636719 357.789062 146.980469 C 357.789062 145.324219 359.132812 143.980469 360.789062 143.980469 C 362.449219 143.980469 363.789062 145.324219 363.789062 146.980469 Z M 363.789062 146.980469 \"/>\n",
       "<path style=\"fill-rule:nonzero;fill:rgb(100%,64.705882%,0%);fill-opacity:1;stroke-width:1;stroke-linecap:butt;stroke-linejoin:miter;stroke:rgb(100%,64.705882%,0%);stroke-opacity:1;stroke-miterlimit:10;\" d=\"M 573 453.019531 C 573 454.675781 571.65625 456.019531 570 456.019531 C 568.34375 456.019531 567 454.675781 567 453.019531 C 567 451.363281 568.34375 450.019531 570 450.019531 C 571.65625 450.019531 573 451.363281 573 453.019531 Z M 573 453.019531 \"/>\n",
       "</g>\n",
       "</svg>\n"
      ],
      "text/plain": []
     },
     "execution_count": 10,
     "metadata": {},
     "output_type": "execute_result"
    }
   ],
   "source": [
    "layout = (g) -> spectral(adjacency_matrix(g), dim=2)\n",
    "@drawsvg begin\n",
    "    background(\"grey10\")\n",
    "    sethue(\"orange\")\n",
    "    drawgraph(g, layout = stress, edgelabels = :none, vertexshapesizes=3)\n",
    "end 600 600"
   ]
  },
  {
   "cell_type": "code",
   "execution_count": 15,
   "id": "3224723a-8695-44a3-88c1-f9b57374d03e",
   "metadata": {},
   "outputs": [
    {
     "data": {
      "text/plain": []
     },
     "execution_count": 15,
     "metadata": {},
     "output_type": "execute_result"
    }
   ],
   "source": [
    "Drawing(600,600, \"test.pdf\")\n",
    "origin()\n",
    "background(\"grey10\")\n",
    "sethue(\"orange\")\n",
    "drawgraph(g, layout = stress, \n",
    "    edgelabels = :none, edgecurvature=0,\n",
    "    vertexshapesizes = [Graphs.degree(g, v) for v in Graphs.vertices(g)], \n",
    "    vertexfillcolors = (v) -> mod(v,2) == 0 && colorant\"lightskyblue\");\n",
    "finish()\n",
    "preview()"
   ]
  },
  {
   "cell_type": "code",
   "execution_count": 14,
   "id": "40b4f1fc-b6e3-4b06-8bcc-c4a7d62ef680",
   "metadata": {},
   "outputs": [
    {
     "name": "stderr",
     "output_type": "stream",
     "text": [
      "\u001b[36m\u001b[1m┌ \u001b[22m\u001b[39m\u001b[36m\u001b[1mInfo: \u001b[22m\u001b[39mFrames for animation \"dijkstra\" are being stored in directory: \n",
      "\u001b[36m\u001b[1m└ \u001b[22m\u001b[39m\t /var/folders/_1/ctjh19v17193_hhpv7hpr7qr0000gn/T/jl_n7cgAd\n",
      "\u001b[33m\u001b[1m┌ \u001b[22m\u001b[39m\u001b[33m\u001b[1mWarning: \u001b[22m\u001b[39mMovie framerange is longer than scene frame range: \n",
      "\u001b[33m\u001b[1m│ \u001b[22m\u001b[39m\t 1:250 > 6\n",
      "\u001b[33m\u001b[1m└ \u001b[22m\u001b[39m\u001b[90m@ Luxor ~/.julia/packages/Luxor/vFOwQ/src/animate.jl:203\u001b[39m\n",
      "\u001b[36m\u001b[1m┌ \u001b[22m\u001b[39m\u001b[36m\u001b[1mInfo: \u001b[22m\u001b[39m... 6 frames saved in directory:\n",
      "\u001b[36m\u001b[1m└ \u001b[22m\u001b[39m\t /var/folders/_1/ctjh19v17193_hhpv7hpr7qr0000gn/T/jl_n7cgAd\n"
     ]
    },
    {
     "data": {
      "text/plain": [
       "true"
      ]
     },
     "execution_count": 14,
     "metadata": {},
     "output_type": "execute_result"
    }
   ],
   "source": [
    "# amovie = Movie(1920, 1080, \"dijkstra\")\n",
    "# animate(amovie, Scene(amovie, (s, f) -> frame(s, f, g), 1:6), framerate=10)"
   ]
  },
  {
   "cell_type": "code",
   "execution_count": null,
   "id": "9ce987c5-1a80-4212-b956-06ee06aaa428",
   "metadata": {},
   "outputs": [],
   "source": []
  }
 ],
 "metadata": {
  "kernelspec": {
   "display_name": "Julia 1.10.2",
   "language": "julia",
   "name": "julia-1.10"
  },
  "language_info": {
   "file_extension": ".jl",
   "mimetype": "application/julia",
   "name": "julia",
   "version": "1.10.2"
  }
 },
 "nbformat": 4,
 "nbformat_minor": 5
}
