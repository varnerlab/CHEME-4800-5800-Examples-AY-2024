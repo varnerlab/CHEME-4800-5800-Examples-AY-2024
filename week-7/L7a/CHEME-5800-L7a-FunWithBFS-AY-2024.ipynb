{
 "cells": [
  {
   "cell_type": "markdown",
   "id": "8c50a964-772c-4f46-9ced-e6b3548a5d1b",
   "metadata": {},
   "source": [
    "# Example: Breadth-First Search (BFS) on some Simple Trees and Graphs\n",
    "This example will familiarize students with [Breadth-First Search](https://en.wikipedia.org/wiki/Breadth-first_search) graph traversal with some simple and more complex graphs.\n",
    "\n",
    "* For some interesting graphs (although they are a bit old now), check out the [Stanford Network Analysis Project](https://snap.stanford.edu/). This group maintains the [Stanford Large Network Dataset Collection](https://snap.stanford.edu/data/index.html), which has many large graphs on which to test various algorithms."
   ]
  },
  {
   "cell_type": "markdown",
   "id": "f7f89830-02fb-443f-a7e0-5f0220218df1",
   "metadata": {},
   "source": [
    "## Setup\n",
    "This example may use external third-party packages. In the `Include.jl` file, we load our codes to access them in the notebook, set some required paths for this example, and load any required external packages."
   ]
  },
  {
   "cell_type": "code",
   "execution_count": 1,
   "id": "0471397d-d900-4dd8-8383-0e436f1a74bc",
   "metadata": {},
   "outputs": [
    {
     "name": "stderr",
     "output_type": "stream",
     "text": [
      "\u001b[32m\u001b[1m  Activating\u001b[22m\u001b[39m project at `~/Desktop/julia_work/CHEME-4800-5800-Examples-AY-2024/week-7/L7a`\n",
      "\u001b[32m\u001b[1m  No Changes\u001b[22m\u001b[39m to `~/Desktop/julia_work/CHEME-4800-5800-Examples-AY-2024/week-7/L7a/Project.toml`\n",
      "\u001b[32m\u001b[1m  No Changes\u001b[22m\u001b[39m to `~/Desktop/julia_work/CHEME-4800-5800-Examples-AY-2024/week-7/L7a/Manifest.toml`\n",
      "\u001b[32m\u001b[1m    Updating\u001b[22m\u001b[39m registry at `~/.julia/registries/General.toml`\n",
      "\u001b[32m\u001b[1m  No Changes\u001b[22m\u001b[39m to `~/Desktop/julia_work/CHEME-4800-5800-Examples-AY-2024/week-7/L7a/Project.toml`\n",
      "\u001b[32m\u001b[1m  No Changes\u001b[22m\u001b[39m to `~/Desktop/julia_work/CHEME-4800-5800-Examples-AY-2024/week-7/L7a/Manifest.toml`\n"
     ]
    }
   ],
   "source": [
    "include(\"Include.jl\");"
   ]
  },
  {
   "cell_type": "markdown",
   "id": "019901fb-f422-4719-83df-0c1460f81bcc",
   "metadata": {},
   "source": [
    "## Task 1: Build an instance of `MySimpleDirectedGraphModel` for an example graph using an edge list\n",
    "A graph $\\mathcal{G}=\\left(\\mathcal{V},\\mathcal{E}\\right)$ can be constructed from an [Adjacency Matrix](https://en.wikipedia.org/wiki/Adjacency_matrix) $\\mathbf{A}$, which is a $\\dim\\mathcal{V}\\times\\dim\\mathcal{V}$ square matrix. However, this is only suitable for small graphs because $\\mathbf{A}$ has a high memory overhead (if stored as `64-bit` values). \n",
    "* For example, consider a graph with $\\dim\\mathcal{V}$ = 100000 would require `80 GB` of memory to store in the worst case, which is more than most common machines"
   ]
  },
  {
   "cell_type": "code",
   "execution_count": 2,
   "id": "bb7dffcb-4150-48da-a80f-97477ba7a0a1",
   "metadata": {},
   "outputs": [
    {
     "data": {
      "text/plain": [
       "80.0"
      ]
     },
     "execution_count": 2,
     "metadata": {},
     "output_type": "execute_result"
    }
   ],
   "source": [
    "𝒱 = 100000;\n",
    "memory_reqd = (𝒱^2)*8*(1/(1e9)) # units GB"
   ]
  },
  {
   "cell_type": "markdown",
   "id": "ebe791f0-a162-4bde-bfdc-47b4a4a51f53",
   "metadata": {},
   "source": [
    "Instead, only the edges are stored in an [Edge list representation](https://en.wikipedia.org/wiki/Edge_list), which is (typically) a comma-separated value (CSV) file in which each record holds an edge in the graph, and the fields contain `source, target, weight` data for the edge.\n",
    "\n",
    "* We've built the `readedgesfile(...)` function in `src/Files.jl` and the `MyGraphEdgeModel` type (in `src/Types.jl`) to hold this information. Let's load up an edge list. First, set the path to the edge list file:"
   ]
  },
  {
   "cell_type": "code",
   "execution_count": 3,
   "id": "1f5788df-fa3a-41ee-8bc7-555d01303330",
   "metadata": {},
   "outputs": [],
   "source": [
    "# path_to_edge_file = joinpath(_PATH_TO_DATA, \"soc-sign-bitcoinalpha.csv\");\n",
    "path_to_edge_file = joinpath(_PATH_TO_DATA, \"SimpleGraph.txt\");"
   ]
  },
  {
   "cell_type": "markdown",
   "id": "a4c02118-1cba-4d5f-a4fe-30fdb263c8df",
   "metadata": {},
   "source": [
    "Next, let's load build a dictionary of `edges,` where the data for the edges (source id, target id, and weight) is stored in a `MyGraphEdgeModel` model. \n",
    "* We utilize the `readedgesfile` function from `src/Files.jl` to read the edge data. This function requires the path to the edges file and information about the delimiter and comment characters. It returns a dictionary that holds instances of `MyGraphEdgeModel`"
   ]
  },
  {
   "cell_type": "code",
   "execution_count": 12,
   "id": "a9d2658f-bf99-47ad-9cf3-eb448425bed1",
   "metadata": {},
   "outputs": [
    {
     "data": {
      "text/plain": [
       "Dict{Int64, MyGraphEdgeModel} with 7 entries:\n",
       "  0 => MyGraphEdgeModel(0, 1, 2, 10.0)\n",
       "  4 => MyGraphEdgeModel(4, 3, 5, 6.0)\n",
       "  5 => MyGraphEdgeModel(5, 4, 6, 1.0)\n",
       "  6 => MyGraphEdgeModel(6, 5, 4, 1.0)\n",
       "  2 => MyGraphEdgeModel(2, 2, 3, 2.0)\n",
       "  3 => MyGraphEdgeModel(3, 2, 4, 100.0)\n",
       "  1 => MyGraphEdgeModel(1, 1, 3, 100.0)"
      ]
     },
     "execution_count": 12,
     "metadata": {},
     "output_type": "execute_result"
    }
   ],
   "source": [
    "myedges = readedgesfile(path_to_edge_file, delim=',', comment='#')"
   ]
  },
  {
   "cell_type": "markdown",
   "id": "768bc0f2-951e-438c-9e68-b7435424296e",
   "metadata": {},
   "source": [
    "Finally, now that we have the `myedges` dictionary, we can build a graph instance. Since this is a directed graph, we'll construct a `MySimpleDirectedGraphModel` instance using it's `build(...)` method in the `src/Factory.jl` file."
   ]
  },
  {
   "cell_type": "code",
   "execution_count": 14,
   "id": "eb8b6fc7-ebfc-4f1e-93c7-c8f40f6ae1c9",
   "metadata": {},
   "outputs": [
    {
     "data": {
      "text/plain": [
       "MySimpleDirectedGraphModel(Dict{Int64, MyGraphNodeModel}(5 => MyGraphNodeModel(5), 4 => MyGraphNodeModel(4), 6 => MyGraphNodeModel(6), 2 => MyGraphNodeModel(2), 3 => MyGraphNodeModel(3), 1 => MyGraphNodeModel(1)), Dict((2, 4) => 100, (1, 2) => 10, (1, 3) => 100, (4, 6) => 1, (3, 5) => 6, (5, 4) => 1, (2, 3) => 2), Dict{Int64, Set{Int64}}(5 => Set([4]), 4 => Set([6]), 6 => Set(), 2 => Set([4, 3]), 3 => Set([5]), 1 => Set([2, 3])))"
      ]
     },
     "execution_count": 14,
     "metadata": {},
     "output_type": "execute_result"
    }
   ],
   "source": [
    "dag = build(MySimpleDirectedGraphModel, myedges)"
   ]
  },
  {
   "cell_type": "code",
   "execution_count": 20,
   "id": "9d15fb97-f364-4b9f-a1ae-cf90852dea6a",
   "metadata": {},
   "outputs": [
    {
     "data": {
      "text/plain": [
       "Dict{Int64, Set{Int64}} with 6 entries:\n",
       "  5 => Set([4])\n",
       "  4 => Set([6])\n",
       "  6 => Set()\n",
       "  2 => Set([4, 3])\n",
       "  3 => Set([5])\n",
       "  1 => Set([2, 3])"
      ]
     },
     "execution_count": 20,
     "metadata": {},
     "output_type": "execute_result"
    }
   ],
   "source": [
    "dag.children"
   ]
  },
  {
   "cell_type": "markdown",
   "id": "9880bcae-77cc-4492-b6c6-9492f6a8da84",
   "metadata": {},
   "source": [
    "## Task 2: Use our BFS implementation to visit the nodes of the `dag`\n",
    "The completed implementation of the `BFS` algorithm can be found in the `src/Traversal.jl` file ([check it out!](src/Traversal.jl)). In particular, we'll start at the first node and visit all other nodes in the graph."
   ]
  },
  {
   "cell_type": "code",
   "execution_count": 22,
   "id": "e211d168-7d84-4daa-80ec-a8faa8ae0ca9",
   "metadata": {},
   "outputs": [
    {
     "data": {
      "text/plain": [
       "MyGraphNodeModel(5)"
      ]
     },
     "execution_count": 22,
     "metadata": {},
     "output_type": "execute_result"
    }
   ],
   "source": [
    "start_node = dag.nodes[5] # note the SNAP data is 1-based, we renumber our graph to 1-based"
   ]
  },
  {
   "cell_type": "markdown",
   "id": "9e3c61ae-103a-42b9-a0f7-c3bfe832114d",
   "metadata": {},
   "source": [
    "To use the `BFS` implementation, pass the graph instance, in this case, `dag,` and the start node to the `BFS(...)` function. The `BFS` algorithm visits all other nodes by visiting all the children of `start_node` and then all the grandchildren of `start_node,` etc.\n",
    "* The `verbose::Bool` argument tells the `BFS` function to generate a picture of its current progress and write it to the `frames` directory."
   ]
  },
  {
   "cell_type": "code",
   "execution_count": 23,
   "id": "0dcb708f-4e86-4b13-aef6-eefd85488556",
   "metadata": {},
   "outputs": [],
   "source": [
    "#visited = Set{Int64}();\n",
    "#DFS(dag, start_node, visited; verbose = true);\n",
    "BFS(dag, start_node; verbose = true)"
   ]
  },
  {
   "cell_type": "code",
   "execution_count": null,
   "id": "dcf81a85-c1b3-402e-9e5a-f2097aa908ff",
   "metadata": {},
   "outputs": [],
   "source": []
  }
 ],
 "metadata": {
  "kernelspec": {
   "display_name": "Julia 1.10.2",
   "language": "julia",
   "name": "julia-1.10"
  },
  "language_info": {
   "file_extension": ".jl",
   "mimetype": "application/julia",
   "name": "julia",
   "version": "1.10.2"
  }
 },
 "nbformat": 4,
 "nbformat_minor": 5
}
