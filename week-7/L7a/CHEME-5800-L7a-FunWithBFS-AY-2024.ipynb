{
 "cells": [
  {
   "cell_type": "markdown",
   "id": "8c50a964-772c-4f46-9ced-e6b3548a5d1b",
   "metadata": {},
   "source": [
    "# Example: Breadth-First Search (BFS) on some simple Trees and Graphs\n",
    "Fill me in"
   ]
  },
  {
   "cell_type": "markdown",
   "id": "f7f89830-02fb-443f-a7e0-5f0220218df1",
   "metadata": {},
   "source": [
    "## Setup\n",
    "Fill me in"
   ]
  },
  {
   "cell_type": "code",
   "execution_count": 1,
   "id": "0471397d-d900-4dd8-8383-0e436f1a74bc",
   "metadata": {},
   "outputs": [
    {
     "name": "stderr",
     "output_type": "stream",
     "text": [
      "\u001b[32m\u001b[1m  Activating\u001b[22m\u001b[39m project at `~/Desktop/julia_work/CHEME-4800-5800-Examples-AY-2024/week-7/L7a`\n",
      "\u001b[32m\u001b[1m  No Changes\u001b[22m\u001b[39m to `~/Desktop/julia_work/CHEME-4800-5800-Examples-AY-2024/week-7/L7a/Project.toml`\n",
      "\u001b[32m\u001b[1m  No Changes\u001b[22m\u001b[39m to `~/Desktop/julia_work/CHEME-4800-5800-Examples-AY-2024/week-7/L7a/Manifest.toml`\n",
      "\u001b[32m\u001b[1m    Updating\u001b[22m\u001b[39m registry at `~/.julia/registries/General.toml`\n",
      "\u001b[32m\u001b[1m  No Changes\u001b[22m\u001b[39m to `~/Desktop/julia_work/CHEME-4800-5800-Examples-AY-2024/week-7/L7a/Project.toml`\n",
      "\u001b[32m\u001b[1m  No Changes\u001b[22m\u001b[39m to `~/Desktop/julia_work/CHEME-4800-5800-Examples-AY-2024/week-7/L7a/Manifest.toml`\n"
     ]
    }
   ],
   "source": [
    "include(\"Include.jl\");"
   ]
  },
  {
   "cell_type": "markdown",
   "id": "019901fb-f422-4719-83df-0c1460f81bcc",
   "metadata": {},
   "source": [
    "## Task 1: Build an instance of `MySimpleDirectedGraphModel` for an example graph\n",
    "Fill me in"
   ]
  },
  {
   "cell_type": "code",
   "execution_count": 2,
   "id": "1f5788df-fa3a-41ee-8bc7-555d01303330",
   "metadata": {},
   "outputs": [],
   "source": [
    "# path_to_edge_file = joinpath(_PATH_TO_DATA, \"soc-sign-bitcoinalpha.csv\");\n",
    "path_to_edge_file = joinpath(_PATH_TO_DATA, \"SimpleGraph.txt\");"
   ]
  },
  {
   "cell_type": "markdown",
   "id": "a4c02118-1cba-4d5f-a4fe-30fdb263c8df",
   "metadata": {},
   "source": [
    "Next, let's load build a dictionary of `edges,` where the data for the edges (source id, target id, and weight) is stored in a `MyGraphEdgeModel` model. \n",
    "* We utilize the `readedgesfile` function from `src/Files.jl` to read the edge data. This function requires the path to the edges file and information about the delimiter and comment characters. It returns a dictionary that holds instances of `MyGraphEdgeModel`"
   ]
  },
  {
   "cell_type": "code",
   "execution_count": 3,
   "id": "a9d2658f-bf99-47ad-9cf3-eb448425bed1",
   "metadata": {},
   "outputs": [
    {
     "data": {
      "text/plain": [
       "Dict{Int64, MyGraphEdgeModel} with 7 entries:\n",
       "  0 => MyGraphEdgeModel(0, 0, 1, 10.0)\n",
       "  4 => MyGraphEdgeModel(4, 2, 4, 6.0)\n",
       "  5 => MyGraphEdgeModel(5, 3, 5, 1.0)\n",
       "  6 => MyGraphEdgeModel(6, 4, 3, 1.0)\n",
       "  2 => MyGraphEdgeModel(2, 1, 2, 2.0)\n",
       "  3 => MyGraphEdgeModel(3, 1, 3, 100.0)\n",
       "  1 => MyGraphEdgeModel(1, 0, 2, 100.0)"
      ]
     },
     "execution_count": 3,
     "metadata": {},
     "output_type": "execute_result"
    }
   ],
   "source": [
    "myedges = readedgesfile(path_to_edge_file, delim=',', comment='#')"
   ]
  },
  {
   "cell_type": "markdown",
   "id": "768bc0f2-951e-438c-9e68-b7435424296e",
   "metadata": {},
   "source": [
    "Finally, now that we have the `myedges` dictionary, we can build a graph instance. Since this is a directed graph, we'll construct a `MySimpleDirectedGraphModel` instance using it's `build(...)` method in the `src/Factory.jl` file."
   ]
  },
  {
   "cell_type": "code",
   "execution_count": 4,
   "id": "eb8b6fc7-ebfc-4f1e-93c7-c8f40f6ae1c9",
   "metadata": {},
   "outputs": [],
   "source": [
    "dag = build(MySimpleDirectedGraphModel, myedges);"
   ]
  },
  {
   "cell_type": "code",
   "execution_count": 14,
   "id": "f764ffb1-f9a3-4b56-ab79-853121f445ff",
   "metadata": {},
   "outputs": [
    {
     "data": {
      "text/plain": [
       "Set{Int64} with 1 element:\n",
       "  5"
      ]
     },
     "execution_count": 14,
     "metadata": {},
     "output_type": "execute_result"
    }
   ],
   "source": [
    "dag.children[3]"
   ]
  },
  {
   "cell_type": "markdown",
   "id": "9880bcae-77cc-4492-b6c6-9492f6a8da84",
   "metadata": {},
   "source": [
    "## Task 2: Use our BFS implementation to visit the nodes of the `dag`\n",
    "The completed implementation of the `BFS` algorithm can be found in the `src/Traversal.jl` file ([check it out!](src/Traversal.jl)). In particular, we'll start at the first node, and visit all other nodes in the graph."
   ]
  },
  {
   "cell_type": "code",
   "execution_count": 9,
   "id": "e211d168-7d84-4daa-80ec-a8faa8ae0ca9",
   "metadata": {},
   "outputs": [],
   "source": [
    "start_node = dag.nodes[0]; # note the SNAP data is 1-based, our graph is 0-based"
   ]
  },
  {
   "cell_type": "markdown",
   "id": "9e3c61ae-103a-42b9-a0f7-c3bfe832114d",
   "metadata": {},
   "source": [
    "To use the `BFS` implementation, pass the graph instance, in this case, `dag,` and the start node to the `BFS(...)` function. The `BFS` algorithm visits all other nodes by visiting all the children of `start_node` and then all the grandchildren of `start_node,` etc."
   ]
  },
  {
   "cell_type": "code",
   "execution_count": 10,
   "id": "0dcb708f-4e86-4b13-aef6-eefd85488556",
   "metadata": {},
   "outputs": [
    {
     "name": "stdout",
     "output_type": "stream",
     "text": [
      "\"Visiting: $(v)\" = \"Visiting: 0\"\n",
      "\"Visiting: $(v)\" = \"Visiting: 2\"\n",
      "\"Visiting: $(v)\" = \"Visiting: 1\"\n",
      "\"Visiting: $(v)\" = \"Visiting: 4\"\n",
      "\"Visiting: $(v)\" = \"Visiting: 3\"\n",
      "\"Visiting: $(v)\" = \"Visiting: 5\"\n"
     ]
    }
   ],
   "source": [
    "BFS(dag,start_node);"
   ]
  },
  {
   "cell_type": "code",
   "execution_count": null,
   "id": "361ef398-2128-4a1e-87ba-decae254fc8f",
   "metadata": {},
   "outputs": [],
   "source": []
  }
 ],
 "metadata": {
  "kernelspec": {
   "display_name": "Julia 1.10.2",
   "language": "julia",
   "name": "julia-1.10"
  },
  "language_info": {
   "file_extension": ".jl",
   "mimetype": "application/julia",
   "name": "julia",
   "version": "1.10.2"
  }
 },
 "nbformat": 4,
 "nbformat_minor": 5
}
