{
 "cells": [
  {
   "cell_type": "markdown",
   "id": "5aef12e3-2e8c-4724-a571-0bfe607885f3",
   "metadata": {},
   "source": [
    "# Example: Computing Single Source Shortest Paths using Dijkstra’s Algorithm\n",
    "This example will familiarize students with working with [Dijkstra’s Algorithm](https://en.wikipedia.org/wiki/Dijkstra%27s_algorithm)\n",
    "* Dijkstra’s Algorithm is a single-source shortest path algorithm for a graph with non-negative edge weights. It is greedy and maintains a set of vertices whose shortest distance from the source is known. The algorithm repeatedly selects the vertex `u` from the set of vertices not yet processed \n",
    "with the minimum distance `dist[u],` explores the edges incident to `u,` and adds `u` to the set of processed vertices. The algorithm terminates when the set of processed vertices includes all the vertices in the graph. \n",
    "* The algorithm is named after Edsger W. Dijkstra, who described it in 1959 (supposedly, it took him 20 minutes while shopping with his lady friend). "
   ]
  },
  {
   "cell_type": "markdown",
   "id": "bdab9525-b2af-4fbc-b6a5-327d4bb19675",
   "metadata": {},
   "source": [
    "## Setup\n",
    "This example may use external third-party packages. In the `Include.jl` file, we load our codes to access them in the notebook, set some required paths for this example, and load any required external packages."
   ]
  },
  {
   "cell_type": "code",
   "execution_count": 1,
   "id": "8aab99a2-1072-4706-a5c5-837772700379",
   "metadata": {},
   "outputs": [
    {
     "name": "stderr",
     "output_type": "stream",
     "text": [
      "\u001b[32m\u001b[1m  Activating\u001b[22m\u001b[39m project at `~/Desktop/julia_work/CHEME-4800-5800-Examples-AY-2024/week-7/L7a`\n",
      "\u001b[32m\u001b[1m  No Changes\u001b[22m\u001b[39m to `~/Desktop/julia_work/CHEME-4800-5800-Examples-AY-2024/week-7/L7a/Project.toml`\n",
      "\u001b[32m\u001b[1m  No Changes\u001b[22m\u001b[39m to `~/Desktop/julia_work/CHEME-4800-5800-Examples-AY-2024/week-7/L7a/Manifest.toml`\n",
      "\u001b[32m\u001b[1m    Updating\u001b[22m\u001b[39m registry at `~/.julia/registries/General.toml`\n",
      "\u001b[32m\u001b[1m  No Changes\u001b[22m\u001b[39m to `~/Desktop/julia_work/CHEME-4800-5800-Examples-AY-2024/week-7/L7a/Project.toml`\n",
      "\u001b[32m\u001b[1m  No Changes\u001b[22m\u001b[39m to `~/Desktop/julia_work/CHEME-4800-5800-Examples-AY-2024/week-7/L7a/Manifest.toml`\n"
     ]
    }
   ],
   "source": [
    "include(\"Include.jl\");"
   ]
  },
  {
   "cell_type": "markdown",
   "id": "1a3b40ff-9cc8-426b-9b1c-169c52338d9d",
   "metadata": {},
   "source": [
    "## Task 1: Build an instance of `MySimpleDirectedGraphModel` for an example graph using an edge list\n",
    "A graph $\\mathcal{G}=\\left(\\mathcal{V},\\mathcal{E}\\right)$ can be constructed from an [Adjacency Matrix](https://en.wikipedia.org/wiki/Adjacency_matrix) $\\mathbf{A}$, which is a $\\dim\\mathcal{V}\\times\\dim\\mathcal{V}$ square matrix. However, this is only suitable for small graphs because $\\mathbf{A}$ has a high memory overhead (if stored as `64-bit` values). \n",
    "* For example, consider a graph with $\\dim\\mathcal{V}$ = 100000 would require `80 GB` of memory to store in the worst case, which is more than most common machines"
   ]
  },
  {
   "cell_type": "code",
   "execution_count": 2,
   "id": "dc82e008-4fb6-4d4e-915a-64f6651e6a53",
   "metadata": {},
   "outputs": [],
   "source": [
    "path_to_edge_file = joinpath(_PATH_TO_DATA, \"SimpleGraph.txt\");"
   ]
  },
  {
   "cell_type": "markdown",
   "id": "f23d4823-fbea-4cf1-b942-9a2c05780a38",
   "metadata": {},
   "source": [
    "Next, let's load build a dictionary of `edges,` where the data for the edges (source id, target id, and weight) is stored in a `MyGraphEdgeModel` model. \n",
    "* We utilize the `readedgesfile` function from `src/Files.jl` to read the edge data. This function requires the path to the edges file and information about the delimiter and comment characters. It returns a dictionary that holds instances of `MyGraphEdgeModel`"
   ]
  },
  {
   "cell_type": "code",
   "execution_count": 3,
   "id": "b335eb7d-fb22-41fd-a090-5e07452afc1e",
   "metadata": {},
   "outputs": [],
   "source": [
    "myedges = readedgesfile(path_to_edge_file, delim=',', comment='#');"
   ]
  },
  {
   "cell_type": "markdown",
   "id": "93ebc95b-2ac7-43d0-8ea8-fcdc6d0168dd",
   "metadata": {},
   "source": [
    "Finally, now that we have the `myedges` dictionary, we can build a graph instance. Since this is a directed graph, we'll construct a `MySimpleDirectedGraphModel` instance using it's `build(...)` method in the `src/Factory.jl` file."
   ]
  },
  {
   "cell_type": "code",
   "execution_count": 4,
   "id": "409959d0-d429-41e2-8463-d458b85460dc",
   "metadata": {},
   "outputs": [],
   "source": [
    "dag = build(MySimpleDirectedGraphModel, myedges);"
   ]
  },
  {
   "cell_type": "markdown",
   "id": "22ea5f85-4880-46ba-a231-ae4cd59c462b",
   "metadata": {},
   "source": [
    "## Task 2: Use our  implementation of Dijkstra’s Algorithm to visit the nodes of the `dag`\n",
    "\n",
    "We've implemented the `computeshortestpaths(...)` function in `src/Search.jl` file that can be used to compute the shortest path. Notice the last argument of the function is an instance of an (empty) type `DikjstraAlgorithm`. "
   ]
  },
  {
   "cell_type": "code",
   "execution_count": 5,
   "id": "fb322e98-25a6-4538-9562-cd12d3d46b69",
   "metadata": {},
   "outputs": [
    {
     "data": {
      "text/plain": [
       "(Dict(5 => 18.0, 4 => 19.0, 6 => 20.0, 2 => 10.0, 3 => 12.0, 1 => 0.0), Dict{Int64, Union{Nothing, Int64}}(5 => 3, 4 => 5, 6 => 4, 2 => 1, 3 => 2))"
      ]
     },
     "execution_count": 5,
     "metadata": {},
     "output_type": "execute_result"
    }
   ],
   "source": [
    "(d,p) = computeshortestpaths(dag, dag.nodes[1], DikjstraAlgorithm())"
   ]
  }
 ],
 "metadata": {
  "kernelspec": {
   "display_name": "Julia 1.10.2",
   "language": "julia",
   "name": "julia-1.10"
  },
  "language_info": {
   "file_extension": ".jl",
   "mimetype": "application/julia",
   "name": "julia",
   "version": "1.10.2"
  }
 },
 "nbformat": 4,
 "nbformat_minor": 5
}
