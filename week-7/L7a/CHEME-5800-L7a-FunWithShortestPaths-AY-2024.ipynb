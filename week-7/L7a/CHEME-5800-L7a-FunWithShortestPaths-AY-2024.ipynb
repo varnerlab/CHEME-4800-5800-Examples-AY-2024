{
 "cells": [
  {
   "cell_type": "markdown",
   "id": "5aef12e3-2e8c-4724-a571-0bfe607885f3",
   "metadata": {},
   "source": [
    "# Example: Computing Single Source Shortest Paths using Dijkstra’s Algorithm\n",
    "This example will familiarize students with working with [Dijkstra’s Algorithm](https://en.wikipedia.org/wiki/Dijkstra%27s_algorithm)\n",
    "* Dijkstra’s Algorithm is a single-source shortest path algorithm for a graph with non-negative edge weights. It is greedy and maintains a set of vertices whose shortest distance from the source is known. The algorithm repeatedly selects the vertex `u` from the set of vertices not yet processed \n",
    "with the minimum distance `dist[u],` explores the edges incident to `u,` and adds `u` to the set of processed vertices. The algorithm terminates when the set of processed vertices includes all the vertices in the graph. \n",
    "* The algorithm is named after Edsger W. Dijkstra, who described it in 1959 (supposedly, it took him 20 minutes while shopping with his lady friend). "
   ]
  },
  {
   "cell_type": "markdown",
   "id": "bdab9525-b2af-4fbc-b6a5-327d4bb19675",
   "metadata": {},
   "source": [
    "## Setup\n",
    "This example may use external third-party packages. In the `Include.jl` file, we load our codes to access them in the notebook, set some required paths for this example, and load any required external packages."
   ]
  },
  {
   "cell_type": "code",
   "execution_count": 1,
   "id": "8aab99a2-1072-4706-a5c5-837772700379",
   "metadata": {},
   "outputs": [
    {
     "name": "stderr",
     "output_type": "stream",
     "text": [
      "\u001b[32m\u001b[1m  Activating\u001b[22m\u001b[39m project at `~/Desktop/julia_work/CHEME-4800-5800-Examples-AY-2024/week-7/L7a`\n",
      "\u001b[32m\u001b[1m  No Changes\u001b[22m\u001b[39m to `~/Desktop/julia_work/CHEME-4800-5800-Examples-AY-2024/week-7/L7a/Project.toml`\n",
      "\u001b[32m\u001b[1m  No Changes\u001b[22m\u001b[39m to `~/Desktop/julia_work/CHEME-4800-5800-Examples-AY-2024/week-7/L7a/Manifest.toml`\n",
      "\u001b[32m\u001b[1m    Updating\u001b[22m\u001b[39m registry at `~/.julia/registries/General.toml`\n",
      "\u001b[32m\u001b[1m  No Changes\u001b[22m\u001b[39m to `~/Desktop/julia_work/CHEME-4800-5800-Examples-AY-2024/week-7/L7a/Project.toml`\n",
      "\u001b[32m\u001b[1m  No Changes\u001b[22m\u001b[39m to `~/Desktop/julia_work/CHEME-4800-5800-Examples-AY-2024/week-7/L7a/Manifest.toml`\n"
     ]
    }
   ],
   "source": [
    "include(\"Include.jl\");"
   ]
  },
  {
   "cell_type": "markdown",
   "id": "1a3b40ff-9cc8-426b-9b1c-169c52338d9d",
   "metadata": {},
   "source": [
    "## Task 1: Build an instance of `MySimpleDirectedGraphModel` for an example graph using an edge list\n",
    "A graph $\\mathcal{G}=\\left(\\mathcal{V},\\mathcal{E}\\right)$ can be constructed from an [Adjacency Matrix](https://en.wikipedia.org/wiki/Adjacency_matrix) $\\mathbf{A}$, which is a $\\dim\\mathcal{V}\\times\\dim\\mathcal{V}$ square matrix. However, this is only suitable for small graphs because $\\mathbf{A}$ has a high memory overhead (if stored as `64-bit` values). \n",
    "* For example, consider a graph with $\\dim\\mathcal{V}$ = 100000 would require `80 GB` of memory to store in the worst case, which is more than most common machines"
   ]
  },
  {
   "cell_type": "code",
   "execution_count": 2,
   "id": "dc82e008-4fb6-4d4e-915a-64f6651e6a53",
   "metadata": {},
   "outputs": [],
   "source": [
    "path_to_edge_file = joinpath(_PATH_TO_DATA, \"SimpleGraph.txt\");"
   ]
  },
  {
   "cell_type": "markdown",
   "id": "f23d4823-fbea-4cf1-b942-9a2c05780a38",
   "metadata": {},
   "source": [
    "Next, let's load build a dictionary of `edges,` where the data for the edges (source id, target id, and weight) is stored in a `MyGraphEdgeModel` model. \n",
    "* We utilize the `readedgesfile` function from `src/Files.jl` to read the edge data. This function requires the path to the edges file and information about the delimiter and comment characters. It returns a dictionary that holds instances of `MyGraphEdgeModel`"
   ]
  },
  {
   "cell_type": "code",
   "execution_count": 28,
   "id": "b335eb7d-fb22-41fd-a090-5e07452afc1e",
   "metadata": {},
   "outputs": [
    {
     "data": {
      "text/plain": [
       "Dict{Int64, MyGraphEdgeModel} with 7 entries:\n",
       "  0 => MyGraphEdgeModel(0, 1, 2, 10.0)\n",
       "  4 => MyGraphEdgeModel(4, 3, 5, 6.0)\n",
       "  5 => MyGraphEdgeModel(5, 4, 6, 1.0)\n",
       "  6 => MyGraphEdgeModel(6, 5, 4, 1.0)\n",
       "  2 => MyGraphEdgeModel(2, 2, 3, 2.0)\n",
       "  3 => MyGraphEdgeModel(3, 2, 4, 100.0)\n",
       "  1 => MyGraphEdgeModel(1, 1, 3, 100.0)"
      ]
     },
     "execution_count": 28,
     "metadata": {},
     "output_type": "execute_result"
    }
   ],
   "source": [
    "myedges = readedgesfile(path_to_edge_file, delim=',', comment='#');\n",
    "myedges"
   ]
  },
  {
   "cell_type": "markdown",
   "id": "93ebc95b-2ac7-43d0-8ea8-fcdc6d0168dd",
   "metadata": {},
   "source": [
    "Finally, now that we have the `myedges` dictionary, we can build a graph instance. Since this is a directed graph, we'll construct a `MySimpleDirectedGraphModel` instance using it's `build(...)` method in the `src/Factory.jl` file."
   ]
  },
  {
   "cell_type": "code",
   "execution_count": 4,
   "id": "409959d0-d429-41e2-8463-d458b85460dc",
   "metadata": {},
   "outputs": [],
   "source": [
    "dag = build(MySimpleDirectedGraphModel, myedges);"
   ]
  },
  {
   "cell_type": "markdown",
   "id": "22ea5f85-4880-46ba-a231-ae4cd59c462b",
   "metadata": {},
   "source": [
    "## Task 2: Use our  implementation of Dijkstra’s Algorithm to visit the nodes of the `dag`\n",
    "\n",
    "We've implemented the `computeshortestpaths(...)` function in `src/Search.jl` file that can be used to compute the shortest path. Notice the last argument of the function is an instance of an (empty) type `DikjstraAlgorithm`. "
   ]
  },
  {
   "cell_type": "code",
   "execution_count": 6,
   "id": "fb322e98-25a6-4538-9562-cd12d3d46b69",
   "metadata": {},
   "outputs": [],
   "source": [
    "(d,p) = computeshortestpaths(dag, dag.nodes[1], DikjstraAlgorithm());"
   ]
  },
  {
   "cell_type": "code",
   "execution_count": 8,
   "id": "d95a97c6-81a6-418e-a056-e8b34f2a52b2",
   "metadata": {},
   "outputs": [
    {
     "data": {
      "text/plain": [
       "Dict{Int64, Union{Nothing, Int64}} with 5 entries:\n",
       "  5 => 3\n",
       "  4 => 5\n",
       "  6 => 4\n",
       "  2 => 1\n",
       "  3 => 2"
      ]
     },
     "execution_count": 8,
     "metadata": {},
     "output_type": "execute_result"
    }
   ],
   "source": [
    "p"
   ]
  },
  {
   "cell_type": "code",
   "execution_count": 18,
   "id": "a2b915fc-801b-4914-be60-37dd4417f9fa",
   "metadata": {},
   "outputs": [
    {
     "data": {
      "text/plain": [
       "5-element Vector{Tuple{Int64, Int64}}:\n",
       " (3, 5)\n",
       " (5, 4)\n",
       " (4, 6)\n",
       " (1, 2)\n",
       " (2, 3)"
      ]
     },
     "execution_count": 18,
     "metadata": {},
     "output_type": "execute_result"
    }
   ],
   "source": [
    "tmp_edge_list = Array{Tuple{Int64, Int64},1}();\n",
    "for (s,t) ∈ p\n",
    "    push!(tmp_edge_list, (t, s));\n",
    "end\n",
    "tmp_edge_list"
   ]
  },
  {
   "cell_type": "code",
   "execution_count": 25,
   "id": "f7ad1e2c-64f1-4516-b758-db45c0229657",
   "metadata": {},
   "outputs": [
    {
     "ename": "LoadError",
     "evalue": "type SimpleDiGraph has no field weights",
     "output_type": "error",
     "traceback": [
      "type SimpleDiGraph has no field weights",
      "",
      "Stacktrace:",
      " [1] getproperty(x::SimpleDiGraph{Int64}, f::Symbol)",
      "   @ Base ./Base.jl:37",
      " [2] (::var\"#58#59\")(e::Graphs.SimpleGraphs.SimpleEdge{Int64})",
      "   @ Main ./none:0",
      " [3] iterate",
      "   @ ./generator.jl:47 [inlined]",
      " [4] collect(itr::Base.Generator{Graphs.SimpleGraphs.SimpleEdgeIter{SimpleDiGraph{Int64}}, var\"#58#59\"})",
      "   @ Base ./array.jl:834",
      " [5] top-level scope",
      "   @ In[25]:2"
     ]
    }
   ],
   "source": [
    "g = _convert(dag); # not a good idea ...\n",
    "edgeweights = [g.weights[e.src, e.dst] for (_, e) in myedges]\n",
    "@drawsvg begin\n",
    "    background(\"black\")\n",
    "    sethue(\"white\")\n",
    "    drawgraph(g, layout=stress, vertexlabels = 1:nv(g),\n",
    "    edgestrokecolors = (e, f, t, s, d) -> ((f,t) ∈ tmp_edge_list ? colorant\"orange\" : colorant\"white\"),\n",
    "    edgestrokeweights = (n, from, to, edgesrc, edgedest) -> ((from, to) ∈ tmp_edge_list ? 2.0 : 0.5),\n",
    "    edgelabels = edgeweights)\n",
    "end 600 300"
   ]
  },
  {
   "cell_type": "code",
   "execution_count": null,
   "id": "4710e9b6-9cb3-4e94-a32a-181538521e02",
   "metadata": {},
   "outputs": [],
   "source": []
  }
 ],
 "metadata": {
  "kernelspec": {
   "display_name": "Julia 1.10.2",
   "language": "julia",
   "name": "julia-1.10"
  },
  "language_info": {
   "file_extension": ".jl",
   "mimetype": "application/julia",
   "name": "julia",
   "version": "1.10.2"
  }
 },
 "nbformat": 4,
 "nbformat_minor": 5
}
